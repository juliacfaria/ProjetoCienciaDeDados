{
  "cells": [
    {
      "cell_type": "code",
      "execution_count": 1,
      "metadata": {
        "colab": {
          "base_uri": "https://localhost:8080/"
        },
        "id": "I5FKnu3_3nqk",
        "outputId": "61ca4fa0-9af2-4575-ffb8-48a259cd643e"
      },
      "outputs": [
        {
          "name": "stdout",
          "output_type": "stream",
          "text": [
            "--2022-06-20 23:03:19--  https://media.githubusercontent.com/media/juliacfaria/ProjetoCienciaDeDados/main/Dados/relatorio_inscricao_dados_abertos_fies_22020.csv\n",
            "Resolving media.githubusercontent.com (media.githubusercontent.com)... 185.199.111.133, 185.199.110.133, 185.199.109.133, ...\n",
            "Connecting to media.githubusercontent.com (media.githubusercontent.com)|185.199.111.133|:443... connected.\n",
            "HTTP request sent, awaiting response... 200 OK\n",
            "Length: 118485586 (113M) [text/plain]\n",
            "Saving to: ‘relatorio_inscricao_dados_abertos_fies_22020.csv.1’\n",
            "\n",
            "relatorio_inscricao 100%[===================>] 113,00M  6,58MB/s    in 17s     \n",
            "\n",
            "2022-06-20 23:03:41 (6,46 MB/s) - ‘relatorio_inscricao_dados_abertos_fies_22020.csv.1’ saved [118485586/118485586]\n",
            "\n"
          ]
        }
      ],
      "source": [
        "!wget https://media.githubusercontent.com/media/juliacfaria/ProjetoCienciaDeDados/main/Dados/relatorio_inscricao_dados_abertos_fies_22020.csv"
      ]
    },
    {
      "cell_type": "markdown",
      "metadata": {
        "id": "SJ8TFiM4K9cO"
      },
      "source": [
        "# Leitura de Dados"
      ]
    },
    {
      "cell_type": "markdown",
      "metadata": {
        "id": "kqeGtrvVYZ57"
      },
      "source": [
        "Após a importação dos datasets, cada um é lido em uma respectiva variável"
      ]
    },
    {
      "cell_type": "code",
      "execution_count": 2,
      "metadata": {
        "id": "mQNv0eJFLuSM"
      },
      "outputs": [],
      "source": [
        "import pandas as pd\n",
        "import numpy as np\n",
        "import matplotlib.pyplot as plt\n",
        "import seaborn as sns"
      ]
    },
    {
      "cell_type": "code",
      "execution_count": 3,
      "metadata": {
        "colab": {
          "base_uri": "https://localhost:8080/",
          "height": 817
        },
        "id": "1yCADhbtLRi0",
        "outputId": "242b48b2-19a6-4eb6-a27d-39d9e95d019a"
      },
      "outputs": [
        {
          "data": {
            "text/html": [
              "<div>\n",
              "<style scoped>\n",
              "    .dataframe tbody tr th:only-of-type {\n",
              "        vertical-align: middle;\n",
              "    }\n",
              "\n",
              "    .dataframe tbody tr th {\n",
              "        vertical-align: top;\n",
              "    }\n",
              "\n",
              "    .dataframe thead th {\n",
              "        text-align: right;\n",
              "    }\n",
              "</style>\n",
              "<table border=\"1\" class=\"dataframe\">\n",
              "  <thead>\n",
              "    <tr style=\"text-align: right;\">\n",
              "      <th></th>\n",
              "      <th>Ano do processo seletivo</th>\n",
              "      <th>Semestre do processo seletivo</th>\n",
              "      <th>ID do estudante</th>\n",
              "      <th>Sexo</th>\n",
              "      <th>Data de Nascimento</th>\n",
              "      <th>UF de residência</th>\n",
              "      <th>Municipio de residência</th>\n",
              "      <th>Etnia/Cor</th>\n",
              "      <th>Pessoa com deficiência?</th>\n",
              "      <th>Tipo de escola no ensino médio</th>\n",
              "      <th>...</th>\n",
              "      <th>Ano do Enem</th>\n",
              "      <th>Redação</th>\n",
              "      <th>Matemática e suas Tecnologias</th>\n",
              "      <th>Linguagens, Códigos e suas Tec</th>\n",
              "      <th>Ciências Natureza e suas Tec</th>\n",
              "      <th>Ciências Humanas e suas Tec</th>\n",
              "      <th>Situação Inscrição Fies</th>\n",
              "      <th>Percentual de financiamento</th>\n",
              "      <th>Semestre do financiamento</th>\n",
              "      <th>Qtde semestre financiado</th>\n",
              "    </tr>\n",
              "  </thead>\n",
              "  <tbody>\n",
              "    <tr>\n",
              "      <th>0</th>\n",
              "      <td>2020</td>\n",
              "      <td>2</td>\n",
              "      <td>203813852</td>\n",
              "      <td>F</td>\n",
              "      <td>15/12/02</td>\n",
              "      <td>PR</td>\n",
              "      <td>CURITIBA</td>\n",
              "      <td>BRANCA</td>\n",
              "      <td>NÃO</td>\n",
              "      <td>NÃO</td>\n",
              "      <td>...</td>\n",
              "      <td>2019</td>\n",
              "      <td>540</td>\n",
              "      <td>421,3</td>\n",
              "      <td>563</td>\n",
              "      <td>497</td>\n",
              "      <td>587,1</td>\n",
              "      <td>NÃO CONTRATADO</td>\n",
              "      <td>NaN</td>\n",
              "      <td></td>\n",
              "      <td>NaN</td>\n",
              "    </tr>\n",
              "    <tr>\n",
              "      <th>1</th>\n",
              "      <td>2020</td>\n",
              "      <td>2</td>\n",
              "      <td>203815683</td>\n",
              "      <td>F</td>\n",
              "      <td>26/06/74</td>\n",
              "      <td>PR</td>\n",
              "      <td>PINHAIS</td>\n",
              "      <td>BRANCA</td>\n",
              "      <td>NÃO</td>\n",
              "      <td>SIM</td>\n",
              "      <td>...</td>\n",
              "      <td>2010</td>\n",
              "      <td>700</td>\n",
              "      <td>628,5</td>\n",
              "      <td>642,4</td>\n",
              "      <td>532,2</td>\n",
              "      <td>723,6</td>\n",
              "      <td>NÃO CONTRATADO</td>\n",
              "      <td>NaN</td>\n",
              "      <td></td>\n",
              "      <td>NaN</td>\n",
              "    </tr>\n",
              "    <tr>\n",
              "      <th>2</th>\n",
              "      <td>2020</td>\n",
              "      <td>2</td>\n",
              "      <td>203815683</td>\n",
              "      <td>F</td>\n",
              "      <td>26/06/74</td>\n",
              "      <td>PR</td>\n",
              "      <td>PINHAIS</td>\n",
              "      <td>BRANCA</td>\n",
              "      <td>NÃO</td>\n",
              "      <td>SIM</td>\n",
              "      <td>...</td>\n",
              "      <td>2010</td>\n",
              "      <td>700</td>\n",
              "      <td>628,5</td>\n",
              "      <td>642,4</td>\n",
              "      <td>532,2</td>\n",
              "      <td>723,6</td>\n",
              "      <td>NÃO CONTRATADO</td>\n",
              "      <td>NaN</td>\n",
              "      <td></td>\n",
              "      <td>NaN</td>\n",
              "    </tr>\n",
              "    <tr>\n",
              "      <th>3</th>\n",
              "      <td>2020</td>\n",
              "      <td>2</td>\n",
              "      <td>203816286</td>\n",
              "      <td>F</td>\n",
              "      <td>23/09/81</td>\n",
              "      <td>PR</td>\n",
              "      <td>CURITIBA</td>\n",
              "      <td>BRANCA</td>\n",
              "      <td>NÃO</td>\n",
              "      <td>SIM</td>\n",
              "      <td>...</td>\n",
              "      <td>2018</td>\n",
              "      <td>560</td>\n",
              "      <td>456,9</td>\n",
              "      <td>579,9</td>\n",
              "      <td>431,8</td>\n",
              "      <td>588,7</td>\n",
              "      <td>NÃO CONTRATADO</td>\n",
              "      <td>NaN</td>\n",
              "      <td></td>\n",
              "      <td>NaN</td>\n",
              "    </tr>\n",
              "    <tr>\n",
              "      <th>4</th>\n",
              "      <td>2020</td>\n",
              "      <td>2</td>\n",
              "      <td>203818907</td>\n",
              "      <td>F</td>\n",
              "      <td>18/05/99</td>\n",
              "      <td>PR</td>\n",
              "      <td>SÃO MATEUS DO SUL</td>\n",
              "      <td>BRANCA</td>\n",
              "      <td>NÃO</td>\n",
              "      <td>SIM</td>\n",
              "      <td>...</td>\n",
              "      <td>2017</td>\n",
              "      <td>580</td>\n",
              "      <td>492,1</td>\n",
              "      <td>468,6</td>\n",
              "      <td>565,8</td>\n",
              "      <td>565,7</td>\n",
              "      <td>NÃO CONTRATADO</td>\n",
              "      <td>NaN</td>\n",
              "      <td></td>\n",
              "      <td>NaN</td>\n",
              "    </tr>\n",
              "    <tr>\n",
              "      <th>...</th>\n",
              "      <td>...</td>\n",
              "      <td>...</td>\n",
              "      <td>...</td>\n",
              "      <td>...</td>\n",
              "      <td>...</td>\n",
              "      <td>...</td>\n",
              "      <td>...</td>\n",
              "      <td>...</td>\n",
              "      <td>...</td>\n",
              "      <td>...</td>\n",
              "      <td>...</td>\n",
              "      <td>...</td>\n",
              "      <td>...</td>\n",
              "      <td>...</td>\n",
              "      <td>...</td>\n",
              "      <td>...</td>\n",
              "      <td>...</td>\n",
              "      <td>...</td>\n",
              "      <td>...</td>\n",
              "      <td>...</td>\n",
              "      <td>...</td>\n",
              "    </tr>\n",
              "    <tr>\n",
              "      <th>212399</th>\n",
              "      <td>2020</td>\n",
              "      <td>2</td>\n",
              "      <td>203704420</td>\n",
              "      <td>M</td>\n",
              "      <td>07/02/94</td>\n",
              "      <td>SP</td>\n",
              "      <td>COTIA</td>\n",
              "      <td>PARDA</td>\n",
              "      <td>NÃO</td>\n",
              "      <td>SIM</td>\n",
              "      <td>...</td>\n",
              "      <td>2020</td>\n",
              "      <td>660</td>\n",
              "      <td>486,2</td>\n",
              "      <td>559,3</td>\n",
              "      <td>544,3</td>\n",
              "      <td>628,2</td>\n",
              "      <td>NÃO CONTRATADO</td>\n",
              "      <td>NaN</td>\n",
              "      <td></td>\n",
              "      <td>NaN</td>\n",
              "    </tr>\n",
              "    <tr>\n",
              "      <th>212400</th>\n",
              "      <td>2020</td>\n",
              "      <td>2</td>\n",
              "      <td>203927591</td>\n",
              "      <td>F</td>\n",
              "      <td>18/04/96</td>\n",
              "      <td>SP</td>\n",
              "      <td>SÃO JOSÉ DOS CAMPOS</td>\n",
              "      <td>BRANCA</td>\n",
              "      <td>NÃO</td>\n",
              "      <td>NÃO</td>\n",
              "      <td>...</td>\n",
              "      <td>2016</td>\n",
              "      <td>800</td>\n",
              "      <td>523,2</td>\n",
              "      <td>533,3</td>\n",
              "      <td>546,5</td>\n",
              "      <td>626,6</td>\n",
              "      <td>OPÇÃO NÃO CONTRATADA</td>\n",
              "      <td>NaN</td>\n",
              "      <td>NaN</td>\n",
              "      <td>9.0</td>\n",
              "    </tr>\n",
              "    <tr>\n",
              "      <th>212401</th>\n",
              "      <td>2020</td>\n",
              "      <td>2</td>\n",
              "      <td>203848084</td>\n",
              "      <td>F</td>\n",
              "      <td>10/10/96</td>\n",
              "      <td>SP</td>\n",
              "      <td>JACAREÍ</td>\n",
              "      <td>PRETA</td>\n",
              "      <td>NÃO</td>\n",
              "      <td>SIM</td>\n",
              "      <td>...</td>\n",
              "      <td>2019</td>\n",
              "      <td>800</td>\n",
              "      <td>500,5</td>\n",
              "      <td>501,4</td>\n",
              "      <td>410,5</td>\n",
              "      <td>505,5</td>\n",
              "      <td>NÃO CONTRATADO</td>\n",
              "      <td>NaN</td>\n",
              "      <td></td>\n",
              "      <td>NaN</td>\n",
              "    </tr>\n",
              "    <tr>\n",
              "      <th>212402</th>\n",
              "      <td>2020</td>\n",
              "      <td>2</td>\n",
              "      <td>203954076</td>\n",
              "      <td>M</td>\n",
              "      <td>31/05/01</td>\n",
              "      <td>SP</td>\n",
              "      <td>SÃO JOSÉ DOS CAMPOS</td>\n",
              "      <td>BRANCA</td>\n",
              "      <td>NÃO</td>\n",
              "      <td>SIM</td>\n",
              "      <td>...</td>\n",
              "      <td>2018</td>\n",
              "      <td>480</td>\n",
              "      <td>625,6</td>\n",
              "      <td>518,6</td>\n",
              "      <td>399,4</td>\n",
              "      <td>466,5</td>\n",
              "      <td>NÃO CONTRATADO</td>\n",
              "      <td>NaN</td>\n",
              "      <td></td>\n",
              "      <td>NaN</td>\n",
              "    </tr>\n",
              "    <tr>\n",
              "      <th>212403</th>\n",
              "      <td>2020</td>\n",
              "      <td>2</td>\n",
              "      <td>203755092</td>\n",
              "      <td>F</td>\n",
              "      <td>19/08/01</td>\n",
              "      <td>SP</td>\n",
              "      <td>SÃO JOSÉ DOS CAMPOS</td>\n",
              "      <td>PARDA</td>\n",
              "      <td>NÃO</td>\n",
              "      <td>SIM</td>\n",
              "      <td>...</td>\n",
              "      <td>2019</td>\n",
              "      <td>720</td>\n",
              "      <td>566,3</td>\n",
              "      <td>547,2</td>\n",
              "      <td>493,5</td>\n",
              "      <td>579,5</td>\n",
              "      <td>NÃO CONTRATADO</td>\n",
              "      <td>NaN</td>\n",
              "      <td></td>\n",
              "      <td>NaN</td>\n",
              "    </tr>\n",
              "  </tbody>\n",
              "</table>\n",
              "<p>212404 rows × 57 columns</p>\n",
              "</div>"
            ],
            "text/plain": [
              "        Ano do processo seletivo  Semestre do processo seletivo  \\\n",
              "0                           2020                              2   \n",
              "1                           2020                              2   \n",
              "2                           2020                              2   \n",
              "3                           2020                              2   \n",
              "4                           2020                              2   \n",
              "...                          ...                            ...   \n",
              "212399                      2020                              2   \n",
              "212400                      2020                              2   \n",
              "212401                      2020                              2   \n",
              "212402                      2020                              2   \n",
              "212403                      2020                              2   \n",
              "\n",
              "        ID do estudante Sexo Data de Nascimento UF de residência  \\\n",
              "0             203813852    F           15/12/02               PR   \n",
              "1             203815683    F           26/06/74               PR   \n",
              "2             203815683    F           26/06/74               PR   \n",
              "3             203816286    F           23/09/81               PR   \n",
              "4             203818907    F           18/05/99               PR   \n",
              "...                 ...  ...                ...              ...   \n",
              "212399        203704420    M           07/02/94               SP   \n",
              "212400        203927591    F           18/04/96               SP   \n",
              "212401        203848084    F           10/10/96               SP   \n",
              "212402        203954076    M           31/05/01               SP   \n",
              "212403        203755092    F           19/08/01               SP   \n",
              "\n",
              "       Municipio de residência Etnia/Cor Pessoa com deficiência?  \\\n",
              "0                     CURITIBA    BRANCA                     NÃO   \n",
              "1                      PINHAIS    BRANCA                     NÃO   \n",
              "2                      PINHAIS    BRANCA                     NÃO   \n",
              "3                     CURITIBA    BRANCA                     NÃO   \n",
              "4            SÃO MATEUS DO SUL    BRANCA                     NÃO   \n",
              "...                        ...       ...                     ...   \n",
              "212399                   COTIA     PARDA                     NÃO   \n",
              "212400     SÃO JOSÉ DOS CAMPOS    BRANCA                     NÃO   \n",
              "212401                 JACAREÍ     PRETA                     NÃO   \n",
              "212402     SÃO JOSÉ DOS CAMPOS    BRANCA                     NÃO   \n",
              "212403     SÃO JOSÉ DOS CAMPOS     PARDA                     NÃO   \n",
              "\n",
              "       Tipo de escola no ensino médio  ...  Ano do Enem Redação  \\\n",
              "0                                 NÃO  ...         2019     540   \n",
              "1                                 SIM  ...         2010     700   \n",
              "2                                 SIM  ...         2010     700   \n",
              "3                                 SIM  ...         2018     560   \n",
              "4                                 SIM  ...         2017     580   \n",
              "...                               ...  ...          ...     ...   \n",
              "212399                            SIM  ...         2020     660   \n",
              "212400                            NÃO  ...         2016     800   \n",
              "212401                            SIM  ...         2019     800   \n",
              "212402                            SIM  ...         2018     480   \n",
              "212403                            SIM  ...         2019     720   \n",
              "\n",
              "       Matemática e suas Tecnologias  Linguagens, Códigos e suas Tec  \\\n",
              "0                              421,3                             563   \n",
              "1                              628,5                           642,4   \n",
              "2                              628,5                           642,4   \n",
              "3                              456,9                           579,9   \n",
              "4                              492,1                           468,6   \n",
              "...                              ...                             ...   \n",
              "212399                         486,2                           559,3   \n",
              "212400                         523,2                           533,3   \n",
              "212401                         500,5                           501,4   \n",
              "212402                         625,6                           518,6   \n",
              "212403                         566,3                           547,2   \n",
              "\n",
              "       Ciências Natureza e suas Tec Ciências Humanas e suas Tec  \\\n",
              "0                               497                       587,1   \n",
              "1                             532,2                       723,6   \n",
              "2                             532,2                       723,6   \n",
              "3                             431,8                       588,7   \n",
              "4                             565,8                       565,7   \n",
              "...                             ...                         ...   \n",
              "212399                        544,3                       628,2   \n",
              "212400                        546,5                       626,6   \n",
              "212401                        410,5                       505,5   \n",
              "212402                        399,4                       466,5   \n",
              "212403                        493,5                       579,5   \n",
              "\n",
              "       Situação Inscrição Fies Percentual de financiamento  \\\n",
              "0               NÃO CONTRATADO                         NaN   \n",
              "1               NÃO CONTRATADO                         NaN   \n",
              "2               NÃO CONTRATADO                         NaN   \n",
              "3               NÃO CONTRATADO                         NaN   \n",
              "4               NÃO CONTRATADO                         NaN   \n",
              "...                        ...                         ...   \n",
              "212399          NÃO CONTRATADO                         NaN   \n",
              "212400    OPÇÃO NÃO CONTRATADA                         NaN   \n",
              "212401          NÃO CONTRATADO                         NaN   \n",
              "212402          NÃO CONTRATADO                         NaN   \n",
              "212403          NÃO CONTRATADO                         NaN   \n",
              "\n",
              "        Semestre do financiamento Qtde semestre financiado  \n",
              "0                                                      NaN  \n",
              "1                                                      NaN  \n",
              "2                                                      NaN  \n",
              "3                                                      NaN  \n",
              "4                                                      NaN  \n",
              "...                           ...                      ...  \n",
              "212399                                                 NaN  \n",
              "212400                        NaN                      9.0  \n",
              "212401                                                 NaN  \n",
              "212402                                                 NaN  \n",
              "212403                                                 NaN  \n",
              "\n",
              "[212404 rows x 57 columns]"
            ]
          },
          "execution_count": 3,
          "metadata": {},
          "output_type": "execute_result"
        }
      ],
      "source": [
        "import pandas as pd\n",
        "\n",
        "fies2020 = pd.read_csv('./relatorio_inscricao_dados_abertos_fies_22020.csv', encoding='ISO-8859-1', sep = ';')\n",
        "\n",
        "fies2020"
      ]
    },
    {
      "cell_type": "markdown",
      "metadata": {
        "id": "pf4bNR4o4v3L"
      },
      "source": [
        "# Análise Exploratória Dados 2020"
      ]
    },
    {
      "cell_type": "markdown",
      "metadata": {
        "id": "WFvB4T726Mmb"
      },
      "source": [
        "O primeiro passo é verificar cada coluna deste dataset e seus respectivos tipos, conforme apresentado a seguir"
      ]
    },
    {
      "cell_type": "code",
      "execution_count": 4,
      "metadata": {
        "colab": {
          "base_uri": "https://localhost:8080/"
        },
        "id": "ZbBhfBtQ4vcR",
        "outputId": "67d88c21-c113-4a75-e2b0-b09711723467"
      },
      "outputs": [
        {
          "data": {
            "text/plain": [
              "Ano do processo seletivo            int64\n",
              "Semestre do processo seletivo       int64\n",
              "ID do estudante                     int64\n",
              "Sexo                               object\n",
              "Data de Nascimento                 object\n",
              "UF de residência                   object\n",
              "Municipio de residência            object\n",
              "Etnia/Cor                          object\n",
              "Pessoa com deficiência?            object\n",
              "Tipo de escola no ensino médio     object\n",
              "Ano conclusão ensino médio          int64\n",
              "Concluiu curso superior?           object\n",
              "Professor rede pública ensino?     object\n",
              "Nº de membros Grupo Familiar        int64\n",
              "Renda familiar mensal bruta        object\n",
              "Renda mensal bruta per capita      object\n",
              "Região grupo de preferência        object\n",
              "UF                                 object\n",
              "Cod.Microrregião                    int64\n",
              "Microrregião                       object\n",
              "Cod.Mesorregião                     int64\n",
              "Mesorregião                        object\n",
              "Conceito de curso do GP            object\n",
              "Área do conhecimento               object\n",
              "Subárea do conhecimento            object\n",
              "Cod. do Grupo de preferência        int64\n",
              "Nota Corte Grupo Preferência       object\n",
              "Opções de cursos da inscrição       int64\n",
              "Nome mantenedora                   object\n",
              "Natureza Jurídica Mantenedora      object\n",
              "CNPJ da mantenedora                 int64\n",
              "Código e-MEC da Mantenedora         int64\n",
              "Nome da IES                        object\n",
              "Código e-MEC da IES                 int64\n",
              "Organização Acadêmica da IES       object\n",
              "Município da IES                   object\n",
              "UF da IES                          object\n",
              "Nome do Local de oferta            object\n",
              "Código do Local de Oferta           int64\n",
              "Munícipio do Local de Oferta       object\n",
              "UF do Local de Oferta              object\n",
              "Código do curso                     int64\n",
              "Nome do curso                      object\n",
              "Turno                              object\n",
              "Grau                               object\n",
              "Conceito                           object\n",
              "Média nota Enem                    object\n",
              "Ano do Enem                         int64\n",
              "Redação                             int64\n",
              "Matemática e suas Tecnologias      object\n",
              "Linguagens, Códigos e suas Tec     object\n",
              "Ciências Natureza e suas Tec       object\n",
              "Ciências Humanas e suas Tec        object\n",
              "Situação Inscrição Fies            object\n",
              "Percentual de financiamento        object\n",
              "Semestre do financiamento          object\n",
              "Qtde semestre financiado          float64\n",
              "dtype: object"
            ]
          },
          "execution_count": 4,
          "metadata": {},
          "output_type": "execute_result"
        }
      ],
      "source": [
        "fies2020.dtypes"
      ]
    },
    {
      "cell_type": "markdown",
      "metadata": {
        "id": "4xbY1we4YZ6F"
      },
      "source": [
        "Todavia, também é interessante saber a quantidade de valores nulos presentes em cada campo, para poder ter uma visão geral da viabilidade de utilizar tais comandos. \n",
        "\n",
        "Para isso, utiliza-se o comando \"info\", conforme representado a seguir."
      ]
    },
    {
      "cell_type": "code",
      "execution_count": 5,
      "metadata": {
        "colab": {
          "base_uri": "https://localhost:8080/"
        },
        "id": "CsPICB7H5Djy",
        "outputId": "e1ca4947-d737-4083-b10a-3f6be2475605"
      },
      "outputs": [
        {
          "name": "stdout",
          "output_type": "stream",
          "text": [
            "<class 'pandas.core.frame.DataFrame'>\n",
            "RangeIndex: 212404 entries, 0 to 212403\n",
            "Data columns (total 57 columns):\n",
            " #   Column                          Non-Null Count   Dtype  \n",
            "---  ------                          --------------   -----  \n",
            " 0   Ano do processo seletivo        212404 non-null  int64  \n",
            " 1   Semestre do processo seletivo   212404 non-null  int64  \n",
            " 2   ID do estudante                 212404 non-null  int64  \n",
            " 3   Sexo                            212404 non-null  object \n",
            " 4   Data de Nascimento              212404 non-null  object \n",
            " 5   UF de residência                212404 non-null  object \n",
            " 6   Municipio de residência         212404 non-null  object \n",
            " 7   Etnia/Cor                       212404 non-null  object \n",
            " 8   Pessoa com deficiência?         212404 non-null  object \n",
            " 9   Tipo de escola no ensino médio  212404 non-null  object \n",
            " 10  Ano conclusão ensino médio      212404 non-null  int64  \n",
            " 11  Concluiu curso superior?        212404 non-null  object \n",
            " 12  Professor rede pública ensino?  212404 non-null  object \n",
            " 13  Nº de membros Grupo Familiar    212404 non-null  int64  \n",
            " 14  Renda familiar mensal bruta     184990 non-null  object \n",
            " 15  Renda mensal bruta per capita   212404 non-null  object \n",
            " 16  Região grupo de preferência     212404 non-null  object \n",
            " 17  UF                              212404 non-null  object \n",
            " 18  Cod.Microrregião                212404 non-null  int64  \n",
            " 19  Microrregião                    212404 non-null  object \n",
            " 20  Cod.Mesorregião                 212404 non-null  int64  \n",
            " 21  Mesorregião                     212404 non-null  object \n",
            " 22  Conceito de curso do GP         212404 non-null  object \n",
            " 23  Área do conhecimento            212404 non-null  object \n",
            " 24  Subárea do conhecimento         212404 non-null  object \n",
            " 25  Cod. do Grupo de preferência    212404 non-null  int64  \n",
            " 26  Nota Corte Grupo Preferência    212404 non-null  object \n",
            " 27  Opções de cursos da inscrição   212404 non-null  int64  \n",
            " 28  Nome mantenedora                212404 non-null  object \n",
            " 29  Natureza Jurídica Mantenedora   212404 non-null  object \n",
            " 30  CNPJ da mantenedora             212404 non-null  int64  \n",
            " 31  Código e-MEC da Mantenedora     212404 non-null  int64  \n",
            " 32  Nome da IES                     212404 non-null  object \n",
            " 33  Código e-MEC da IES             212404 non-null  int64  \n",
            " 34  Organização Acadêmica da IES    212404 non-null  object \n",
            " 35  Município da IES                212404 non-null  object \n",
            " 36  UF da IES                       212404 non-null  object \n",
            " 37  Nome do Local de oferta         212404 non-null  object \n",
            " 38  Código do Local de Oferta       212404 non-null  int64  \n",
            " 39  Munícipio do Local de Oferta    212404 non-null  object \n",
            " 40  UF do Local de Oferta           212404 non-null  object \n",
            " 41  Código do curso                 212404 non-null  int64  \n",
            " 42  Nome do curso                   212404 non-null  object \n",
            " 43  Turno                           212404 non-null  object \n",
            " 44  Grau                            212404 non-null  object \n",
            " 45  Conceito                        212404 non-null  object \n",
            " 46  Média nota Enem                 212404 non-null  object \n",
            " 47  Ano do Enem                     212404 non-null  int64  \n",
            " 48  Redação                         212404 non-null  int64  \n",
            " 49  Matemática e suas Tecnologias   212404 non-null  object \n",
            " 50  Linguagens, Códigos e suas Tec  212404 non-null  object \n",
            " 51  Ciências Natureza e suas Tec    212404 non-null  object \n",
            " 52  Ciências Humanas e suas Tec     212404 non-null  object \n",
            " 53  Situação Inscrição Fies         212404 non-null  object \n",
            " 54  Percentual de financiamento     14305 non-null   object \n",
            " 55  Semestre do financiamento       199758 non-null  object \n",
            " 56  Qtde semestre financiado        26951 non-null   float64\n",
            "dtypes: float64(1), int64(16), object(40)\n",
            "memory usage: 92.4+ MB\n"
          ]
        }
      ],
      "source": [
        "fies2020.info()"
      ]
    },
    {
      "cell_type": "markdown",
      "metadata": {
        "id": "l9HedI886YlI"
      },
      "source": [
        "Anteriormente, realizou-se a análise de um conjunto de dados com os mesmo atributos mas coletados no ano de 2019. Neste conjunto de dados, as colunas 'Município da IES' e 'UF da IES' estavam vazias e tiveram que ser removidas. A fim de manter uma consistência entre os conjuntos de dados, essas colunas também serão removidas dos dados referentes a 2020, mesmo que estejam preenchidas e coerentes.\n"
      ]
    },
    {
      "cell_type": "markdown",
      "metadata": {
        "id": "4GxbGAMF6lJ_"
      },
      "source": [
        "Além disso, temos duas colunas com números vazios de celulas muito grandes, conforme é possivel ver a seguir, onde o número de valores vazios foi exibido."
      ]
    },
    {
      "cell_type": "code",
      "execution_count": 6,
      "metadata": {
        "colab": {
          "base_uri": "https://localhost:8080/",
          "height": 55
        },
        "id": "TmxLJrcb6rKn",
        "outputId": "a00897fd-b11e-4880-8fad-4b15ba12720f"
      },
      "outputs": [
        {
          "data": {
            "text/plain": [
              "198099"
            ]
          },
          "metadata": {},
          "output_type": "display_data"
        },
        {
          "data": {
            "text/plain": [
              "185453"
            ]
          },
          "metadata": {},
          "output_type": "display_data"
        }
      ],
      "source": [
        "display(len(fies2020[pd.isna(fies2020['Percentual de financiamento'])]))\n",
        "display(len(fies2020[pd.isna(fies2020['Qtde semestre financiado'])]))"
      ]
    },
    {
      "cell_type": "markdown",
      "metadata": {
        "id": "2Zz1JkUZYZ6J"
      },
      "source": [
        "Com base nisso, as quatro colunas em questão serão removidas da base de dados. Logo em seguida, o comando \"info\" foi dado para obter os valores atualizados acerca de ifnormações do dataset"
      ]
    },
    {
      "cell_type": "code",
      "execution_count": 7,
      "metadata": {
        "colab": {
          "base_uri": "https://localhost:8080/"
        },
        "id": "-VpQJWeO5c_Y",
        "outputId": "99386524-d02c-45bd-8f29-46ec751088f8"
      },
      "outputs": [
        {
          "name": "stdout",
          "output_type": "stream",
          "text": [
            "<class 'pandas.core.frame.DataFrame'>\n",
            "RangeIndex: 212404 entries, 0 to 212403\n",
            "Data columns (total 53 columns):\n",
            " #   Column                          Non-Null Count   Dtype \n",
            "---  ------                          --------------   ----- \n",
            " 0   Ano do processo seletivo        212404 non-null  int64 \n",
            " 1   Semestre do processo seletivo   212404 non-null  int64 \n",
            " 2   ID do estudante                 212404 non-null  int64 \n",
            " 3   Sexo                            212404 non-null  object\n",
            " 4   Data de Nascimento              212404 non-null  object\n",
            " 5   UF de residência                212404 non-null  object\n",
            " 6   Municipio de residência         212404 non-null  object\n",
            " 7   Etnia/Cor                       212404 non-null  object\n",
            " 8   Pessoa com deficiência?         212404 non-null  object\n",
            " 9   Tipo de escola no ensino médio  212404 non-null  object\n",
            " 10  Ano conclusão ensino médio      212404 non-null  int64 \n",
            " 11  Concluiu curso superior?        212404 non-null  object\n",
            " 12  Professor rede pública ensino?  212404 non-null  object\n",
            " 13  Nº de membros Grupo Familiar    212404 non-null  int64 \n",
            " 14  Renda familiar mensal bruta     184990 non-null  object\n",
            " 15  Renda mensal bruta per capita   212404 non-null  object\n",
            " 16  Região grupo de preferência     212404 non-null  object\n",
            " 17  UF                              212404 non-null  object\n",
            " 18  Cod.Microrregião                212404 non-null  int64 \n",
            " 19  Microrregião                    212404 non-null  object\n",
            " 20  Cod.Mesorregião                 212404 non-null  int64 \n",
            " 21  Mesorregião                     212404 non-null  object\n",
            " 22  Conceito de curso do GP         212404 non-null  object\n",
            " 23  Área do conhecimento            212404 non-null  object\n",
            " 24  Subárea do conhecimento         212404 non-null  object\n",
            " 25  Cod. do Grupo de preferência    212404 non-null  int64 \n",
            " 26  Nota Corte Grupo Preferência    212404 non-null  object\n",
            " 27  Opções de cursos da inscrição   212404 non-null  int64 \n",
            " 28  Nome mantenedora                212404 non-null  object\n",
            " 29  Natureza Jurídica Mantenedora   212404 non-null  object\n",
            " 30  CNPJ da mantenedora             212404 non-null  int64 \n",
            " 31  Código e-MEC da Mantenedora     212404 non-null  int64 \n",
            " 32  Nome da IES                     212404 non-null  object\n",
            " 33  Código e-MEC da IES             212404 non-null  int64 \n",
            " 34  Organização Acadêmica da IES    212404 non-null  object\n",
            " 35  Nome do Local de oferta         212404 non-null  object\n",
            " 36  Código do Local de Oferta       212404 non-null  int64 \n",
            " 37  Munícipio do Local de Oferta    212404 non-null  object\n",
            " 38  UF do Local de Oferta           212404 non-null  object\n",
            " 39  Código do curso                 212404 non-null  int64 \n",
            " 40  Nome do curso                   212404 non-null  object\n",
            " 41  Turno                           212404 non-null  object\n",
            " 42  Grau                            212404 non-null  object\n",
            " 43  Conceito                        212404 non-null  object\n",
            " 44  Média nota Enem                 212404 non-null  object\n",
            " 45  Ano do Enem                     212404 non-null  int64 \n",
            " 46  Redação                         212404 non-null  int64 \n",
            " 47  Matemática e suas Tecnologias   212404 non-null  object\n",
            " 48  Linguagens, Códigos e suas Tec  212404 non-null  object\n",
            " 49  Ciências Natureza e suas Tec    212404 non-null  object\n",
            " 50  Ciências Humanas e suas Tec     212404 non-null  object\n",
            " 51  Situação Inscrição Fies         212404 non-null  object\n",
            " 52  Semestre do financiamento       199758 non-null  object\n",
            "dtypes: int64(16), object(37)\n",
            "memory usage: 85.9+ MB\n"
          ]
        }
      ],
      "source": [
        "fies2020 = fies2020.drop(\"Município da IES\",axis=1)\n",
        "fies2020 = fies2020.drop(\"UF da IES\",axis=1)\n",
        "fies2020 = fies2020.drop(\"Percentual de financiamento\",axis=1)\n",
        "fies2020 = fies2020.drop(\"Qtde semestre financiado\",axis=1)\n",
        "fies2020.info()"
      ]
    },
    {
      "cell_type": "markdown",
      "metadata": {
        "id": "reyTvxeTYZ6K"
      },
      "source": [
        "## Removendo colunas desnecessárias ao propósito do grupo com o conjunto de dados\n",
        "\n",
        "O conjunto de dados em questão, conforme observado previamente possui um grande número de colunas. Entretanto, grande parte delas não será utilizada, pelo menos à princípio pelo grupo\n",
        "\n",
        "Sendo assim, é conveniente a sua remoção do data frame, assim como foi realizado na sequência. O principal intuito de tal remoção é otimizar o tempo da equipe, visando não tratar dados que nem serão utilizados."
      ]
    },
    {
      "cell_type": "code",
      "execution_count": 8,
      "metadata": {
        "colab": {
          "base_uri": "https://localhost:8080/"
        },
        "id": "dHjX4KwxYZ6L",
        "outputId": "e71f95fd-b1ce-42f4-ff23-7adabadc1c38"
      },
      "outputs": [
        {
          "name": "stdout",
          "output_type": "stream",
          "text": [
            "<class 'pandas.core.frame.DataFrame'>\n",
            "RangeIndex: 212404 entries, 0 to 212403\n",
            "Data columns (total 32 columns):\n",
            " #   Column                          Non-Null Count   Dtype \n",
            "---  ------                          --------------   ----- \n",
            " 0   Ano do processo seletivo        212404 non-null  int64 \n",
            " 1   Semestre do processo seletivo   212404 non-null  int64 \n",
            " 2   ID do estudante                 212404 non-null  int64 \n",
            " 3   Sexo                            212404 non-null  object\n",
            " 4   Data de Nascimento              212404 non-null  object\n",
            " 5   UF de residência                212404 non-null  object\n",
            " 6   Etnia/Cor                       212404 non-null  object\n",
            " 7   Pessoa com deficiência?         212404 non-null  object\n",
            " 8   Ano conclusão ensino médio      212404 non-null  int64 \n",
            " 9   Concluiu curso superior?        212404 non-null  object\n",
            " 10  Nº de membros Grupo Familiar    212404 non-null  int64 \n",
            " 11  Renda familiar mensal bruta     184990 non-null  object\n",
            " 12  Renda mensal bruta per capita   212404 non-null  object\n",
            " 13  UF                              212404 non-null  object\n",
            " 14  Área do conhecimento            212404 non-null  object\n",
            " 15  Subárea do conhecimento         212404 non-null  object\n",
            " 16  Opções de cursos da inscrição   212404 non-null  int64 \n",
            " 17  Nome mantenedora                212404 non-null  object\n",
            " 18  Natureza Jurídica Mantenedora   212404 non-null  object\n",
            " 19  Nome da IES                     212404 non-null  object\n",
            " 20  Organização Acadêmica da IES    212404 non-null  object\n",
            " 21  UF do Local de Oferta           212404 non-null  object\n",
            " 22  Nome do curso                   212404 non-null  object\n",
            " 23  Turno                           212404 non-null  object\n",
            " 24  Média nota Enem                 212404 non-null  object\n",
            " 25  Ano do Enem                     212404 non-null  int64 \n",
            " 26  Redação                         212404 non-null  int64 \n",
            " 27  Matemática e suas Tecnologias   212404 non-null  object\n",
            " 28  Linguagens, Códigos e suas Tec  212404 non-null  object\n",
            " 29  Ciências Natureza e suas Tec    212404 non-null  object\n",
            " 30  Ciências Humanas e suas Tec     212404 non-null  object\n",
            " 31  Situação Inscrição Fies         212404 non-null  object\n",
            "dtypes: int64(8), object(24)\n",
            "memory usage: 51.9+ MB\n"
          ]
        }
      ],
      "source": [
        "fies2020 = fies2020.drop(\"Tipo de escola no ensino médio\",axis=1)\n",
        "fies2020 = fies2020.drop(\"Municipio de residência\",axis=1)\n",
        "fies2020 = fies2020.drop(\"Professor rede pública ensino?\",axis=1)\n",
        "fies2020 = fies2020.drop(\"Região grupo de preferência\",axis=1)\n",
        "fies2020 = fies2020.drop(\"Microrregião\",axis=1)\n",
        "fies2020 = fies2020.drop(\"Cod.Microrregião\",axis=1)\n",
        "fies2020 = fies2020.drop(\"Mesorregião\",axis=1)\n",
        "fies2020 = fies2020.drop(\"Cod.Mesorregião\",axis=1)\n",
        "fies2020 = fies2020.drop(\"Conceito de curso do GP\",axis=1)\n",
        "fies2020 = fies2020.drop(\"Cod. do Grupo de preferência\",axis=1)\n",
        "fies2020 = fies2020.drop(\"Nota Corte Grupo Preferência\",axis=1)\n",
        "fies2020 = fies2020.drop(\"CNPJ da mantenedora\",axis=1)\n",
        "fies2020 = fies2020.drop(\"Código e-MEC da Mantenedora\",axis=1)\n",
        "fies2020 = fies2020.drop(\"Código e-MEC da IES\",axis=1)\n",
        "fies2020 = fies2020.drop(\"Nome do Local de oferta\",axis=1)\n",
        "fies2020 = fies2020.drop(\"Código do Local de Oferta\",axis=1)\n",
        "fies2020 = fies2020.drop(\"Munícipio do Local de Oferta\",axis=1)\n",
        "fies2020 = fies2020.drop(\"Código do curso\",axis=1)\n",
        "fies2020 = fies2020.drop(\"Conceito\",axis=1)\n",
        "fies2020 = fies2020.drop(\"Grau\",axis=1)\n",
        "fies2020 = fies2020.drop(\"Semestre do financiamento\",axis=1)\n",
        "\n",
        "fies2020.info()"
      ]
    },
    {
      "cell_type": "markdown",
      "metadata": {
        "id": "9dvCwLef8nUf"
      },
      "source": [
        "## Analisando colunas de variaveis inteiras (de acordo com o dataframe inicial)\n",
        "\n"
      ]
    },
    {
      "cell_type": "markdown",
      "metadata": {
        "id": "XYBNXF1V94Zq"
      },
      "source": [
        "### Avaliando ano do processo seletivo e semestre \n",
        "\n",
        "Os campos \"Ano do processo seletivo\" e \"Semestre do processo seletivo\" serão apresentados na sequência, apresentando seus valores únicos (ou seja, os valores diferentes apresentados por esta coluna) por meio do comando \"unique\"\n"
      ]
    },
    {
      "cell_type": "code",
      "execution_count": 9,
      "metadata": {
        "colab": {
          "base_uri": "https://localhost:8080/"
        },
        "id": "q3_RPt1j9CuT",
        "outputId": "6ee60afa-22c9-4647-e40b-3ac811fba4d0"
      },
      "outputs": [
        {
          "data": {
            "text/plain": [
              "array([2020])"
            ]
          },
          "execution_count": 9,
          "metadata": {},
          "output_type": "execute_result"
        }
      ],
      "source": [
        "fies2020['Ano do processo seletivo'].unique()"
      ]
    },
    {
      "cell_type": "code",
      "execution_count": 10,
      "metadata": {
        "colab": {
          "base_uri": "https://localhost:8080/"
        },
        "id": "fWAT1MKB9QbR",
        "outputId": "52790287-b4c7-4098-fa44-7c054e1cd15e"
      },
      "outputs": [
        {
          "data": {
            "text/plain": [
              "array([2])"
            ]
          },
          "execution_count": 10,
          "metadata": {},
          "output_type": "execute_result"
        }
      ],
      "source": [
        "fies2020['Semestre do processo seletivo'].unique()"
      ]
    },
    {
      "cell_type": "markdown",
      "metadata": {
        "id": "ZcwilGijYZ6Q"
      },
      "source": [
        "Observe que não há variação nestes campos, de forma que não são uteis ao nosso dataset, visto que todos os dados são iguais e apenas foram observados dados de inscrição no semestre 2"
      ]
    },
    {
      "cell_type": "markdown",
      "metadata": {
        "id": "zRB36r-GYZ6Q"
      },
      "source": [
        "Como os valores são todos iguais para todas as linhas, removemos essas colunas também. Logo depois, informações acerca do estado atual foram apresentadas"
      ]
    },
    {
      "cell_type": "code",
      "execution_count": 11,
      "metadata": {
        "colab": {
          "base_uri": "https://localhost:8080/"
        },
        "id": "0wGZ-7HF9yad",
        "outputId": "e122225d-5e1a-49a5-985c-9ae78b7517db"
      },
      "outputs": [
        {
          "name": "stdout",
          "output_type": "stream",
          "text": [
            "<class 'pandas.core.frame.DataFrame'>\n",
            "RangeIndex: 212404 entries, 0 to 212403\n",
            "Data columns (total 30 columns):\n",
            " #   Column                          Non-Null Count   Dtype \n",
            "---  ------                          --------------   ----- \n",
            " 0   ID do estudante                 212404 non-null  int64 \n",
            " 1   Sexo                            212404 non-null  object\n",
            " 2   Data de Nascimento              212404 non-null  object\n",
            " 3   UF de residência                212404 non-null  object\n",
            " 4   Etnia/Cor                       212404 non-null  object\n",
            " 5   Pessoa com deficiência?         212404 non-null  object\n",
            " 6   Ano conclusão ensino médio      212404 non-null  int64 \n",
            " 7   Concluiu curso superior?        212404 non-null  object\n",
            " 8   Nº de membros Grupo Familiar    212404 non-null  int64 \n",
            " 9   Renda familiar mensal bruta     184990 non-null  object\n",
            " 10  Renda mensal bruta per capita   212404 non-null  object\n",
            " 11  UF                              212404 non-null  object\n",
            " 12  Área do conhecimento            212404 non-null  object\n",
            " 13  Subárea do conhecimento         212404 non-null  object\n",
            " 14  Opções de cursos da inscrição   212404 non-null  int64 \n",
            " 15  Nome mantenedora                212404 non-null  object\n",
            " 16  Natureza Jurídica Mantenedora   212404 non-null  object\n",
            " 17  Nome da IES                     212404 non-null  object\n",
            " 18  Organização Acadêmica da IES    212404 non-null  object\n",
            " 19  UF do Local de Oferta           212404 non-null  object\n",
            " 20  Nome do curso                   212404 non-null  object\n",
            " 21  Turno                           212404 non-null  object\n",
            " 22  Média nota Enem                 212404 non-null  object\n",
            " 23  Ano do Enem                     212404 non-null  int64 \n",
            " 24  Redação                         212404 non-null  int64 \n",
            " 25  Matemática e suas Tecnologias   212404 non-null  object\n",
            " 26  Linguagens, Códigos e suas Tec  212404 non-null  object\n",
            " 27  Ciências Natureza e suas Tec    212404 non-null  object\n",
            " 28  Ciências Humanas e suas Tec     212404 non-null  object\n",
            " 29  Situação Inscrição Fies         212404 non-null  object\n",
            "dtypes: int64(6), object(24)\n",
            "memory usage: 48.6+ MB\n"
          ]
        }
      ],
      "source": [
        "fies2020 = fies2020.drop(\"Ano do processo seletivo\",axis=1)\n",
        "fies2020 = fies2020.drop(\"Semestre do processo seletivo\",axis=1)\n",
        "fies2020.info()"
      ]
    },
    {
      "cell_type": "markdown",
      "metadata": {
        "id": "LuTZc09AYZ6R"
      },
      "source": [
        "### Avaliando id estudante \n",
        "\n",
        "Na teoria, a equipe espera que este campo deve ser único para cada estudante. Portanto, este é o valor esperado.\n",
        "\n",
        "Todavia, ao aplicar o \"unique\" e verificar seu tamanho, observou-se que este ID repetia-se, indicando que um mesmo usuário pode realizar mais de uma inscrição.\n",
        "\n",
        "De toda forma, ainda assim havia duplicatas para algumas linhas da tabela, de forma que foi necessário apagá-las. \n",
        "\n",
        "Com base nisso, pode-se concluir que alguns se increveram em ate 3 opções de curso."
      ]
    },
    {
      "cell_type": "markdown",
      "metadata": {
        "id": "ACVu43V6YZ6R"
      },
      "source": [
        "Ao realizar o comando \"unique\" e comparar com o tamanho de conjunto de dados, foi possível perceber que o ID não era único para cada linha."
      ]
    },
    {
      "cell_type": "code",
      "execution_count": 12,
      "metadata": {
        "colab": {
          "base_uri": "https://localhost:8080/"
        },
        "id": "wxh5EzgHYZ6R",
        "outputId": "b45878a6-18b9-435e-aae4-274acc413770"
      },
      "outputs": [
        {
          "data": {
            "text/plain": [
              "107892"
            ]
          },
          "execution_count": 12,
          "metadata": {},
          "output_type": "execute_result"
        }
      ],
      "source": [
        "fies2020['ID do estudante'].unique().size"
      ]
    },
    {
      "cell_type": "markdown",
      "metadata": {
        "id": "uu9sQgdzYZ6S"
      },
      "source": [
        "Antes da equipe descobrir que um mesmo usuário poderia se inscrever em mais de uma opção, assumiu-se a hipótese de que ids poderiam repetir para estudantes de estados diferentes. Para verificar se isto era possível, aplicou-se o \"value_counts\" para o conjunto \"ID do estudante\" e \"UF de residência\". Assim como é visível a seguir, esta hipótese foi refutada"
      ]
    },
    {
      "cell_type": "code",
      "execution_count": 13,
      "metadata": {
        "colab": {
          "base_uri": "https://localhost:8080/"
        },
        "id": "HdNcBRU6YZ6S",
        "outputId": "956f52ac-1ff7-43ba-cde5-64b1e73fffe3"
      },
      "outputs": [
        {
          "data": {
            "text/plain": [
              "ID do estudante  UF de residência\n",
              "203653986        GO                  12\n",
              "203970691        PE                  12\n",
              "203987993        MS                  12\n",
              "203848740        MG                  12\n",
              "203987411        SP                  12\n",
              "                                     ..\n",
              "203848060        PB                   1\n",
              "203848067        MT                   1\n",
              "203848068        GO                   1\n",
              "203848069        MG                   1\n",
              "204005415        BA                   1\n",
              "Length: 107892, dtype: int64"
            ]
          },
          "execution_count": 13,
          "metadata": {},
          "output_type": "execute_result"
        }
      ],
      "source": [
        "fies2020[['ID do estudante', 'UF de residência']].value_counts()"
      ]
    },
    {
      "cell_type": "markdown",
      "metadata": {
        "id": "wfzR4oUBYZ6S"
      },
      "source": [
        "Feito isso, agrupou-se por \"ID do estudante\" e apresentou-se os 30 primeiros, para verificar quantas vezes estão ocorrendo repetições."
      ]
    },
    {
      "cell_type": "code",
      "execution_count": 14,
      "metadata": {
        "colab": {
          "base_uri": "https://localhost:8080/"
        },
        "id": "3QhoFO93YZ6S",
        "outputId": "f066ae8d-6a94-42cd-f328-f05230b68631"
      },
      "outputs": [
        {
          "data": {
            "text/plain": [
              "203917174    12\n",
              "203934157    12\n",
              "203752348    12\n",
              "203984024    12\n",
              "203928935    12\n",
              "203849666    12\n",
              "203659888    12\n",
              "203946626    12\n",
              "203931102    12\n",
              "203827500    12\n",
              "203653986    12\n",
              "203944947    12\n",
              "203943054    12\n",
              "203931040    12\n",
              "203987411    12\n",
              "203843734    12\n",
              "203952534    12\n",
              "203970691    12\n",
              "203927882    12\n",
              "203848740    12\n",
              "203987993    12\n",
              "203911917     8\n",
              "203978280     8\n",
              "203976327     8\n",
              "203922304     8\n",
              "203951225     8\n",
              "203657331     8\n",
              "203942650     8\n",
              "203988210     6\n",
              "203928640     6\n",
              "Name: ID do estudante, dtype: int64"
            ]
          },
          "execution_count": 14,
          "metadata": {},
          "output_type": "execute_result"
        }
      ],
      "source": [
        "fies2020['ID do estudante'].value_counts().head(30)"
      ]
    },
    {
      "cell_type": "markdown",
      "metadata": {
        "id": "pm55SduCYZ6T"
      },
      "source": [
        "Com base nisso, para ter uma compreensão melhor acerca de quais dados se repetem para um mesmo ID, realizou-se um filtro para um id específico, visualizando intervalos de colunas diferentes. Pôde-se observar que, em sua maioria, os dados são iguais, com exceção dos dados referentes as opções de inscrição. Como a maioria dos campos são iguais, a equipe optou por apenas mostrar um trecho em que os mesmos são diferentes. Para selecionar um conjunto de colunas específicos, utilizou-se o \"iloc\"."
      ]
    },
    {
      "cell_type": "code",
      "execution_count": 15,
      "metadata": {
        "colab": {
          "base_uri": "https://localhost:8080/",
          "height": 0
        },
        "id": "dDO-Lwb-YZ6T",
        "outputId": "fdac6eb6-63b3-4962-976d-a2558578cb36"
      },
      "outputs": [
        {
          "data": {
            "text/html": [
              "<div>\n",
              "<style scoped>\n",
              "    .dataframe tbody tr th:only-of-type {\n",
              "        vertical-align: middle;\n",
              "    }\n",
              "\n",
              "    .dataframe tbody tr th {\n",
              "        vertical-align: top;\n",
              "    }\n",
              "\n",
              "    .dataframe thead th {\n",
              "        text-align: right;\n",
              "    }\n",
              "</style>\n",
              "<table border=\"1\" class=\"dataframe\">\n",
              "  <thead>\n",
              "    <tr style=\"text-align: right;\">\n",
              "      <th></th>\n",
              "      <th>Renda mensal bruta per capita</th>\n",
              "      <th>UF</th>\n",
              "      <th>Área do conhecimento</th>\n",
              "      <th>Subárea do conhecimento</th>\n",
              "      <th>Opções de cursos da inscrição</th>\n",
              "      <th>Nome mantenedora</th>\n",
              "      <th>Natureza Jurídica Mantenedora</th>\n",
              "      <th>Nome da IES</th>\n",
              "      <th>Organização Acadêmica da IES</th>\n",
              "      <th>UF do Local de Oferta</th>\n",
              "      <th>Nome do curso</th>\n",
              "    </tr>\n",
              "  </thead>\n",
              "  <tbody>\n",
              "    <tr>\n",
              "      <th>147211</th>\n",
              "      <td>1561</td>\n",
              "      <td>MINAS GERAIS</td>\n",
              "      <td>CURSOS NAO PRIORITARIOS</td>\n",
              "      <td>CIÊNCIAS SOCIAIS, POLÍTICAS, ECONÔMICAS E CONT...</td>\n",
              "      <td>1</td>\n",
              "      <td>SER EDUCACIONAL S.A.</td>\n",
              "      <td>PRIVADA COM FINS LUCRATIVOS</td>\n",
              "      <td>FACULDADE UNIVERITAS UNIVERSUS VERITAS DE BELO...</td>\n",
              "      <td>FACULDADE</td>\n",
              "      <td>MG</td>\n",
              "      <td>PSICOLOGIA</td>\n",
              "    </tr>\n",
              "    <tr>\n",
              "      <th>147212</th>\n",
              "      <td>1561</td>\n",
              "      <td>MINAS GERAIS</td>\n",
              "      <td>CURSOS NAO PRIORITARIOS</td>\n",
              "      <td>CIÊNCIAS SOCIAIS, POLÍTICAS, ECONÔMICAS E CONT...</td>\n",
              "      <td>1</td>\n",
              "      <td>SER EDUCACIONAL S.A.</td>\n",
              "      <td>PRIVADA COM FINS LUCRATIVOS</td>\n",
              "      <td>FACULDADE UNIVERITAS UNIVERSUS VERITAS DE BELO...</td>\n",
              "      <td>FACULDADE</td>\n",
              "      <td>MG</td>\n",
              "      <td>PSICOLOGIA</td>\n",
              "    </tr>\n",
              "    <tr>\n",
              "      <th>147213</th>\n",
              "      <td>1561</td>\n",
              "      <td>MINAS GERAIS</td>\n",
              "      <td>CURSOS NAO PRIORITARIOS</td>\n",
              "      <td>CIÊNCIAS SOCIAIS, POLÍTICAS, ECONÔMICAS E CONT...</td>\n",
              "      <td>1</td>\n",
              "      <td>SER EDUCACIONAL S.A.</td>\n",
              "      <td>PRIVADA COM FINS LUCRATIVOS</td>\n",
              "      <td>FACULDADE UNIVERITAS UNIVERSUS VERITAS DE BELO...</td>\n",
              "      <td>FACULDADE</td>\n",
              "      <td>MG</td>\n",
              "      <td>PSICOLOGIA</td>\n",
              "    </tr>\n",
              "    <tr>\n",
              "      <th>147214</th>\n",
              "      <td>1561</td>\n",
              "      <td>MINAS GERAIS</td>\n",
              "      <td>CURSOS NAO PRIORITARIOS</td>\n",
              "      <td>CIÊNCIAS SOCIAIS, POLÍTICAS, ECONÔMICAS E CONT...</td>\n",
              "      <td>1</td>\n",
              "      <td>SER EDUCACIONAL S.A.</td>\n",
              "      <td>PRIVADA COM FINS LUCRATIVOS</td>\n",
              "      <td>FACULDADE UNIVERITAS UNIVERSUS VERITAS DE BELO...</td>\n",
              "      <td>FACULDADE</td>\n",
              "      <td>MG</td>\n",
              "      <td>PSICOLOGIA</td>\n",
              "    </tr>\n",
              "    <tr>\n",
              "      <th>153105</th>\n",
              "      <td>1561</td>\n",
              "      <td>MINAS GERAIS</td>\n",
              "      <td>CURSOS NAO PRIORITARIOS</td>\n",
              "      <td>CIÊNCIAS SOCIAIS, POLÍTICAS, ECONÔMICAS E CONT...</td>\n",
              "      <td>3</td>\n",
              "      <td>LAEL VARELLA EDUCACAO E CULTURA LTDA</td>\n",
              "      <td>PRIVADA COM FINS LUCRATIVOS</td>\n",
              "      <td>FACULDADE DE MINAS BH</td>\n",
              "      <td>FACULDADE</td>\n",
              "      <td>MG</td>\n",
              "      <td>PSICOLOGIA</td>\n",
              "    </tr>\n",
              "    <tr>\n",
              "      <th>153106</th>\n",
              "      <td>1561</td>\n",
              "      <td>MINAS GERAIS</td>\n",
              "      <td>CURSOS NAO PRIORITARIOS</td>\n",
              "      <td>CIÊNCIAS SOCIAIS, POLÍTICAS, ECONÔMICAS E CONT...</td>\n",
              "      <td>3</td>\n",
              "      <td>LAEL VARELLA EDUCACAO E CULTURA LTDA</td>\n",
              "      <td>PRIVADA COM FINS LUCRATIVOS</td>\n",
              "      <td>FACULDADE DE MINAS BH</td>\n",
              "      <td>FACULDADE</td>\n",
              "      <td>MG</td>\n",
              "      <td>PSICOLOGIA</td>\n",
              "    </tr>\n",
              "    <tr>\n",
              "      <th>153107</th>\n",
              "      <td>1561</td>\n",
              "      <td>MINAS GERAIS</td>\n",
              "      <td>CURSOS NAO PRIORITARIOS</td>\n",
              "      <td>CIÊNCIAS SOCIAIS, POLÍTICAS, ECONÔMICAS E CONT...</td>\n",
              "      <td>3</td>\n",
              "      <td>LAEL VARELLA EDUCACAO E CULTURA LTDA</td>\n",
              "      <td>PRIVADA COM FINS LUCRATIVOS</td>\n",
              "      <td>FACULDADE DE MINAS BH</td>\n",
              "      <td>FACULDADE</td>\n",
              "      <td>MG</td>\n",
              "      <td>PSICOLOGIA</td>\n",
              "    </tr>\n",
              "    <tr>\n",
              "      <th>153108</th>\n",
              "      <td>1561</td>\n",
              "      <td>MINAS GERAIS</td>\n",
              "      <td>CURSOS NAO PRIORITARIOS</td>\n",
              "      <td>CIÊNCIAS SOCIAIS, POLÍTICAS, ECONÔMICAS E CONT...</td>\n",
              "      <td>3</td>\n",
              "      <td>LAEL VARELLA EDUCACAO E CULTURA LTDA</td>\n",
              "      <td>PRIVADA COM FINS LUCRATIVOS</td>\n",
              "      <td>FACULDADE DE MINAS BH</td>\n",
              "      <td>FACULDADE</td>\n",
              "      <td>MG</td>\n",
              "      <td>PSICOLOGIA</td>\n",
              "    </tr>\n",
              "    <tr>\n",
              "      <th>164419</th>\n",
              "      <td>1561</td>\n",
              "      <td>MINAS GERAIS</td>\n",
              "      <td>CURSOS NAO PRIORITARIOS</td>\n",
              "      <td>CIÊNCIAS SOCIAIS, POLÍTICAS, ECONÔMICAS E CONT...</td>\n",
              "      <td>2</td>\n",
              "      <td>ASSUPERO ENSINO SUPERIOR LTDA.</td>\n",
              "      <td>PRIVADA COM FINS LUCRATIVOS</td>\n",
              "      <td>FACULDADE DE ENSINO DE MINAS GERAIS</td>\n",
              "      <td>FACULDADE</td>\n",
              "      <td>MG</td>\n",
              "      <td>PSICOLOGIA</td>\n",
              "    </tr>\n",
              "    <tr>\n",
              "      <th>164420</th>\n",
              "      <td>1561</td>\n",
              "      <td>MINAS GERAIS</td>\n",
              "      <td>CURSOS NAO PRIORITARIOS</td>\n",
              "      <td>CIÊNCIAS SOCIAIS, POLÍTICAS, ECONÔMICAS E CONT...</td>\n",
              "      <td>2</td>\n",
              "      <td>ASSUPERO ENSINO SUPERIOR LTDA.</td>\n",
              "      <td>PRIVADA COM FINS LUCRATIVOS</td>\n",
              "      <td>FACULDADE DE ENSINO DE MINAS GERAIS</td>\n",
              "      <td>FACULDADE</td>\n",
              "      <td>MG</td>\n",
              "      <td>PSICOLOGIA</td>\n",
              "    </tr>\n",
              "    <tr>\n",
              "      <th>164421</th>\n",
              "      <td>1561</td>\n",
              "      <td>MINAS GERAIS</td>\n",
              "      <td>CURSOS NAO PRIORITARIOS</td>\n",
              "      <td>CIÊNCIAS SOCIAIS, POLÍTICAS, ECONÔMICAS E CONT...</td>\n",
              "      <td>2</td>\n",
              "      <td>ASSUPERO ENSINO SUPERIOR LTDA.</td>\n",
              "      <td>PRIVADA COM FINS LUCRATIVOS</td>\n",
              "      <td>FACULDADE DE ENSINO DE MINAS GERAIS</td>\n",
              "      <td>FACULDADE</td>\n",
              "      <td>MG</td>\n",
              "      <td>PSICOLOGIA</td>\n",
              "    </tr>\n",
              "    <tr>\n",
              "      <th>164422</th>\n",
              "      <td>1561</td>\n",
              "      <td>MINAS GERAIS</td>\n",
              "      <td>CURSOS NAO PRIORITARIOS</td>\n",
              "      <td>CIÊNCIAS SOCIAIS, POLÍTICAS, ECONÔMICAS E CONT...</td>\n",
              "      <td>2</td>\n",
              "      <td>ASSUPERO ENSINO SUPERIOR LTDA.</td>\n",
              "      <td>PRIVADA COM FINS LUCRATIVOS</td>\n",
              "      <td>FACULDADE DE ENSINO DE MINAS GERAIS</td>\n",
              "      <td>FACULDADE</td>\n",
              "      <td>MG</td>\n",
              "      <td>PSICOLOGIA</td>\n",
              "    </tr>\n",
              "  </tbody>\n",
              "</table>\n",
              "</div>"
            ],
            "text/plain": [
              "       Renda mensal bruta per capita            UF     Área do conhecimento  \\\n",
              "147211                          1561  MINAS GERAIS  CURSOS NAO PRIORITARIOS   \n",
              "147212                          1561  MINAS GERAIS  CURSOS NAO PRIORITARIOS   \n",
              "147213                          1561  MINAS GERAIS  CURSOS NAO PRIORITARIOS   \n",
              "147214                          1561  MINAS GERAIS  CURSOS NAO PRIORITARIOS   \n",
              "153105                          1561  MINAS GERAIS  CURSOS NAO PRIORITARIOS   \n",
              "153106                          1561  MINAS GERAIS  CURSOS NAO PRIORITARIOS   \n",
              "153107                          1561  MINAS GERAIS  CURSOS NAO PRIORITARIOS   \n",
              "153108                          1561  MINAS GERAIS  CURSOS NAO PRIORITARIOS   \n",
              "164419                          1561  MINAS GERAIS  CURSOS NAO PRIORITARIOS   \n",
              "164420                          1561  MINAS GERAIS  CURSOS NAO PRIORITARIOS   \n",
              "164421                          1561  MINAS GERAIS  CURSOS NAO PRIORITARIOS   \n",
              "164422                          1561  MINAS GERAIS  CURSOS NAO PRIORITARIOS   \n",
              "\n",
              "                                  Subárea do conhecimento  \\\n",
              "147211  CIÊNCIAS SOCIAIS, POLÍTICAS, ECONÔMICAS E CONT...   \n",
              "147212  CIÊNCIAS SOCIAIS, POLÍTICAS, ECONÔMICAS E CONT...   \n",
              "147213  CIÊNCIAS SOCIAIS, POLÍTICAS, ECONÔMICAS E CONT...   \n",
              "147214  CIÊNCIAS SOCIAIS, POLÍTICAS, ECONÔMICAS E CONT...   \n",
              "153105  CIÊNCIAS SOCIAIS, POLÍTICAS, ECONÔMICAS E CONT...   \n",
              "153106  CIÊNCIAS SOCIAIS, POLÍTICAS, ECONÔMICAS E CONT...   \n",
              "153107  CIÊNCIAS SOCIAIS, POLÍTICAS, ECONÔMICAS E CONT...   \n",
              "153108  CIÊNCIAS SOCIAIS, POLÍTICAS, ECONÔMICAS E CONT...   \n",
              "164419  CIÊNCIAS SOCIAIS, POLÍTICAS, ECONÔMICAS E CONT...   \n",
              "164420  CIÊNCIAS SOCIAIS, POLÍTICAS, ECONÔMICAS E CONT...   \n",
              "164421  CIÊNCIAS SOCIAIS, POLÍTICAS, ECONÔMICAS E CONT...   \n",
              "164422  CIÊNCIAS SOCIAIS, POLÍTICAS, ECONÔMICAS E CONT...   \n",
              "\n",
              "        Opções de cursos da inscrição                      Nome mantenedora  \\\n",
              "147211                              1                  SER EDUCACIONAL S.A.   \n",
              "147212                              1                  SER EDUCACIONAL S.A.   \n",
              "147213                              1                  SER EDUCACIONAL S.A.   \n",
              "147214                              1                  SER EDUCACIONAL S.A.   \n",
              "153105                              3  LAEL VARELLA EDUCACAO E CULTURA LTDA   \n",
              "153106                              3  LAEL VARELLA EDUCACAO E CULTURA LTDA   \n",
              "153107                              3  LAEL VARELLA EDUCACAO E CULTURA LTDA   \n",
              "153108                              3  LAEL VARELLA EDUCACAO E CULTURA LTDA   \n",
              "164419                              2        ASSUPERO ENSINO SUPERIOR LTDA.   \n",
              "164420                              2        ASSUPERO ENSINO SUPERIOR LTDA.   \n",
              "164421                              2        ASSUPERO ENSINO SUPERIOR LTDA.   \n",
              "164422                              2        ASSUPERO ENSINO SUPERIOR LTDA.   \n",
              "\n",
              "       Natureza Jurídica Mantenedora  \\\n",
              "147211   PRIVADA COM FINS LUCRATIVOS   \n",
              "147212   PRIVADA COM FINS LUCRATIVOS   \n",
              "147213   PRIVADA COM FINS LUCRATIVOS   \n",
              "147214   PRIVADA COM FINS LUCRATIVOS   \n",
              "153105   PRIVADA COM FINS LUCRATIVOS   \n",
              "153106   PRIVADA COM FINS LUCRATIVOS   \n",
              "153107   PRIVADA COM FINS LUCRATIVOS   \n",
              "153108   PRIVADA COM FINS LUCRATIVOS   \n",
              "164419   PRIVADA COM FINS LUCRATIVOS   \n",
              "164420   PRIVADA COM FINS LUCRATIVOS   \n",
              "164421   PRIVADA COM FINS LUCRATIVOS   \n",
              "164422   PRIVADA COM FINS LUCRATIVOS   \n",
              "\n",
              "                                              Nome da IES  \\\n",
              "147211  FACULDADE UNIVERITAS UNIVERSUS VERITAS DE BELO...   \n",
              "147212  FACULDADE UNIVERITAS UNIVERSUS VERITAS DE BELO...   \n",
              "147213  FACULDADE UNIVERITAS UNIVERSUS VERITAS DE BELO...   \n",
              "147214  FACULDADE UNIVERITAS UNIVERSUS VERITAS DE BELO...   \n",
              "153105                              FACULDADE DE MINAS BH   \n",
              "153106                              FACULDADE DE MINAS BH   \n",
              "153107                              FACULDADE DE MINAS BH   \n",
              "153108                              FACULDADE DE MINAS BH   \n",
              "164419                FACULDADE DE ENSINO DE MINAS GERAIS   \n",
              "164420                FACULDADE DE ENSINO DE MINAS GERAIS   \n",
              "164421                FACULDADE DE ENSINO DE MINAS GERAIS   \n",
              "164422                FACULDADE DE ENSINO DE MINAS GERAIS   \n",
              "\n",
              "       Organização Acadêmica da IES UF do Local de Oferta Nome do curso  \n",
              "147211                   FACULDADE                     MG    PSICOLOGIA  \n",
              "147212                   FACULDADE                     MG    PSICOLOGIA  \n",
              "147213                   FACULDADE                     MG    PSICOLOGIA  \n",
              "147214                   FACULDADE                     MG    PSICOLOGIA  \n",
              "153105                   FACULDADE                     MG    PSICOLOGIA  \n",
              "153106                   FACULDADE                     MG    PSICOLOGIA  \n",
              "153107                   FACULDADE                     MG    PSICOLOGIA  \n",
              "153108                   FACULDADE                     MG    PSICOLOGIA  \n",
              "164419                   FACULDADE                     MG    PSICOLOGIA  \n",
              "164420                   FACULDADE                     MG    PSICOLOGIA  \n",
              "164421                   FACULDADE                     MG    PSICOLOGIA  \n",
              "164422                   FACULDADE                     MG    PSICOLOGIA  "
            ]
          },
          "execution_count": 15,
          "metadata": {},
          "output_type": "execute_result"
        }
      ],
      "source": [
        "fies2020[fies2020['ID do estudante'] == 203917174].iloc[:, 10:21]"
      ]
    },
    {
      "cell_type": "markdown",
      "metadata": {
        "id": "2c-8tyr4YZ6T"
      },
      "source": [
        "Todavia, conforme também é observado acima, temos duplicação de cada linha com uma opção de curso diferente. Sendo assim, primeiramente devemos remover as duplicatas."
      ]
    },
    {
      "cell_type": "markdown",
      "metadata": {
        "id": "PW-tWCATYZ6U"
      },
      "source": [
        "Como vamos remover tais duplicatas, é conveniente avaliar o tamanho do dataset antes e depois da realização de tal operação, por meio do comando \"len\""
      ]
    },
    {
      "cell_type": "code",
      "execution_count": 16,
      "metadata": {
        "colab": {
          "base_uri": "https://localhost:8080/"
        },
        "id": "zfxA0NQjYZ6U",
        "outputId": "5beea348-9aa8-465c-e3b9-149f8439fffa"
      },
      "outputs": [
        {
          "data": {
            "text/plain": [
              "212404"
            ]
          },
          "execution_count": 16,
          "metadata": {},
          "output_type": "execute_result"
        }
      ],
      "source": [
        "len(fies2020)"
      ]
    },
    {
      "cell_type": "markdown",
      "metadata": {
        "id": "Src3UIocYZ6U"
      },
      "source": [
        "Removendo duplicatas por meio do \"drop_duplicates\""
      ]
    },
    {
      "cell_type": "code",
      "execution_count": 17,
      "metadata": {
        "id": "NiMPuQyWYZ6U"
      },
      "outputs": [],
      "source": [
        "fies2020 = fies2020.drop_duplicates()"
      ]
    },
    {
      "cell_type": "markdown",
      "metadata": {
        "id": "yfEfklyPYZ6V"
      },
      "source": [
        "Após a remoção, vamos verificar o tamanho do dataset"
      ]
    },
    {
      "cell_type": "code",
      "execution_count": 18,
      "metadata": {
        "colab": {
          "base_uri": "https://localhost:8080/"
        },
        "id": "MqVsn-mqYZ6V",
        "outputId": "29d96b4a-b11b-46a1-dab7-6b065cc32fb8"
      },
      "outputs": [
        {
          "data": {
            "text/plain": [
              "209502"
            ]
          },
          "execution_count": 18,
          "metadata": {},
          "output_type": "execute_result"
        }
      ],
      "source": [
        "len(fies2020)"
      ]
    },
    {
      "cell_type": "markdown",
      "metadata": {
        "id": "lJYbx53lYZ6V"
      },
      "source": [
        "Agora realizando o \"value_counts\" novamente, é possível observar que agora o valor máximo apresentado para repetição de ids é 3. Sendo assim, é extremamente provável que o usuário possa realizar até 3 inscrições"
      ]
    },
    {
      "cell_type": "code",
      "execution_count": 19,
      "metadata": {
        "colab": {
          "base_uri": "https://localhost:8080/"
        },
        "id": "x8EcChOLYZ6V",
        "outputId": "df5253f0-07d0-4f78-d071-7b01a0253461"
      },
      "outputs": [
        {
          "data": {
            "text/plain": [
              "203705064    3\n",
              "203656772    3\n",
              "203816747    3\n",
              "203960101    3\n",
              "203601480    3\n",
              "203942678    3\n",
              "203816211    3\n",
              "203753788    3\n",
              "203755042    3\n",
              "203846091    3\n",
              "203852197    3\n",
              "203704836    3\n",
              "203814869    3\n",
              "203827264    3\n",
              "203980442    3\n",
              "203972054    3\n",
              "203970106    3\n",
              "203914768    3\n",
              "203908167    3\n",
              "203830326    3\n",
              "203839192    3\n",
              "203658422    3\n",
              "203832623    3\n",
              "203938567    3\n",
              "203702472    3\n",
              "203921487    3\n",
              "203839244    3\n",
              "203846807    3\n",
              "203991072    3\n",
              "203702868    3\n",
              "Name: ID do estudante, dtype: int64"
            ]
          },
          "execution_count": 19,
          "metadata": {},
          "output_type": "execute_result"
        }
      ],
      "source": [
        "fies2020['ID do estudante'].value_counts().head(30)"
      ]
    },
    {
      "cell_type": "markdown",
      "metadata": {
        "id": "k5fN9oQGYZ6W"
      },
      "source": [
        "### Avaliando Ano conclusão ensino médio  \n",
        "\n",
        "Para este campo, espera-se uma maior variedade de valores"
      ]
    },
    {
      "cell_type": "code",
      "execution_count": 20,
      "metadata": {
        "colab": {
          "base_uri": "https://localhost:8080/"
        },
        "id": "BUEsL8VyYZ6W",
        "outputId": "dc8ff63b-2124-4da5-e6fa-5a35a4f8d5de"
      },
      "outputs": [
        {
          "data": {
            "text/plain": [
              "array([2019, 1994, 2020, 2016, 2017, 2018, 2015, 2014, 2006, 1997, 2011,\n",
              "       1998, 2013, 2010, 2009, 2008, 2012, 2000, 1999, 2003, 2005, 2001,\n",
              "       2007, 2002, 2004, 1995, 1990, 1980, 1993, 1985, 1989, 1992, 1996,\n",
              "       1979, 1984, 1977, 1986, 1983, 1987, 1988, 1982, 1981, 1991, 1969,\n",
              "       1978, 1973, 1970, 1974, 1975])"
            ]
          },
          "execution_count": 20,
          "metadata": {},
          "output_type": "execute_result"
        }
      ],
      "source": [
        "fies2020['Ano conclusão ensino médio'].unique()"
      ]
    },
    {
      "cell_type": "markdown",
      "metadata": {
        "id": "J63UIlbKYZ6X"
      },
      "source": [
        "Observando distribuicao dos valores..."
      ]
    },
    {
      "cell_type": "code",
      "execution_count": 21,
      "metadata": {
        "colab": {
          "base_uri": "https://localhost:8080/"
        },
        "id": "kKiMW6ABYZ6X",
        "outputId": "9a42ce88-b62e-4b78-b076-68780355cf8f"
      },
      "outputs": [
        {
          "data": {
            "text/plain": [
              "2019    44928\n",
              "2018    32512\n",
              "2017    25946\n",
              "2016    19370\n",
              "2015    15548\n",
              "2014    11943\n",
              "2013     9073\n",
              "2012     7520\n",
              "2011     5765\n",
              "2010     5390\n",
              "2009     4356\n",
              "2008     3409\n",
              "2007     3164\n",
              "2006     2602\n",
              "2005     2407\n",
              "2003     2079\n",
              "2004     2079\n",
              "2002     1677\n",
              "2020     1597\n",
              "2000     1376\n",
              "2001     1327\n",
              "1999     1156\n",
              "1998      828\n",
              "1997      673\n",
              "1996      462\n",
              "1995      378\n",
              "1994      356\n",
              "1993      309\n",
              "1992      237\n",
              "1990      158\n",
              "1991      149\n",
              "1988      132\n",
              "1989      128\n",
              "1987       81\n",
              "1986       72\n",
              "1982       59\n",
              "1985       59\n",
              "1984       50\n",
              "1983       40\n",
              "1980       33\n",
              "1981       22\n",
              "1978       17\n",
              "1979       17\n",
              "1977        6\n",
              "1975        5\n",
              "1973        3\n",
              "1974        2\n",
              "1969        1\n",
              "1970        1\n",
              "Name: Ano conclusão ensino médio, dtype: int64"
            ]
          },
          "execution_count": 21,
          "metadata": {},
          "output_type": "execute_result"
        }
      ],
      "source": [
        "fies2020['Ano conclusão ensino médio'].value_counts()"
      ]
    },
    {
      "cell_type": "markdown",
      "metadata": {
        "id": "fHrIszb1YZ6X"
      },
      "source": [
        "Este campo está coerente, de forma que mais tratamentos não são necessários"
      ]
    },
    {
      "cell_type": "markdown",
      "metadata": {
        "id": "HFy_03pUYZ6X"
      },
      "source": [
        "### Avaliando Nº de membros Grupo Familiar"
      ]
    },
    {
      "cell_type": "markdown",
      "metadata": {
        "id": "hTKYIePNYZ6Y"
      },
      "source": [
        "Para este campo, espera-se uma maior variedade de valores"
      ]
    },
    {
      "cell_type": "code",
      "execution_count": 22,
      "metadata": {
        "colab": {
          "base_uri": "https://localhost:8080/"
        },
        "id": "WKyYRE9WYZ6Y",
        "outputId": "13216691-25fb-467d-845f-8a8ecef11500"
      },
      "outputs": [
        {
          "data": {
            "text/plain": [
              "array([ 3,  2,  1,  0,  4,  6,  5,  7, 10,  8,  9, 12, 11, 13])"
            ]
          },
          "execution_count": 22,
          "metadata": {},
          "output_type": "execute_result"
        }
      ],
      "source": [
        "fies2020['Nº de membros Grupo Familiar'].unique()"
      ]
    },
    {
      "cell_type": "markdown",
      "metadata": {
        "id": "VMxJVhNkYZ6Y"
      },
      "source": [
        "Olhando distribuição dos dados..."
      ]
    },
    {
      "cell_type": "code",
      "execution_count": 23,
      "metadata": {
        "colab": {
          "base_uri": "https://localhost:8080/"
        },
        "id": "MfyTERfmYZ6Y",
        "outputId": "cd402e85-a761-4d53-8cc4-c473b1e70491"
      },
      "outputs": [
        {
          "data": {
            "text/plain": [
              "1     63609\n",
              "2     56805\n",
              "3     41778\n",
              "0     27077\n",
              "4     15115\n",
              "5      3617\n",
              "6       977\n",
              "7       298\n",
              "8       114\n",
              "9        53\n",
              "10       36\n",
              "11       13\n",
              "12        7\n",
              "13        3\n",
              "Name: Nº de membros Grupo Familiar, dtype: int64"
            ]
          },
          "execution_count": 23,
          "metadata": {},
          "output_type": "execute_result"
        }
      ],
      "source": [
        "fies2020['Nº de membros Grupo Familiar'].value_counts()"
      ]
    },
    {
      "cell_type": "markdown",
      "metadata": {
        "id": "G2yPhMMbYZ6Y"
      },
      "source": [
        "Este campo esta coerente, de forma que mais tratamentos não são necessários"
      ]
    },
    {
      "cell_type": "markdown",
      "metadata": {
        "id": "VlukStX9YZ6Z"
      },
      "source": [
        "### Avaliando opções de cursos da inscrição"
      ]
    },
    {
      "cell_type": "markdown",
      "metadata": {
        "id": "yce_hI72YZ6Z"
      },
      "source": [
        "As opções de curso referem-se a qual opção de curso os dados em questão se referem.\n",
        "\n",
        "Confirmando a hipótese anterior, observa-se que existe um limite de 3 opções de curso"
      ]
    },
    {
      "cell_type": "code",
      "execution_count": 24,
      "metadata": {
        "colab": {
          "base_uri": "https://localhost:8080/"
        },
        "id": "MG_e9HiPYZ6Z",
        "outputId": "77d0f0c5-200b-4965-fbda-0f4aa72ceb64"
      },
      "outputs": [
        {
          "data": {
            "text/plain": [
              "array([1, 2, 3])"
            ]
          },
          "execution_count": 24,
          "metadata": {},
          "output_type": "execute_result"
        }
      ],
      "source": [
        "fies2020['Opções de cursos da inscrição'].unique()"
      ]
    },
    {
      "cell_type": "markdown",
      "metadata": {
        "id": "y1h9gqDUYZ6b"
      },
      "source": [
        "Observando a distribuição dos valores, assim como também esperado, tem-se maiores valores para a primeira opção"
      ]
    },
    {
      "cell_type": "code",
      "execution_count": 25,
      "metadata": {
        "colab": {
          "base_uri": "https://localhost:8080/"
        },
        "id": "n4RjUOXnYZ6b",
        "outputId": "31d7ab65-b022-41aa-d37f-7580ca44b586"
      },
      "outputs": [
        {
          "data": {
            "text/plain": [
              "1    107892\n",
              "2     62387\n",
              "3     39223\n",
              "Name: Opções de cursos da inscrição, dtype: int64"
            ]
          },
          "execution_count": 25,
          "metadata": {},
          "output_type": "execute_result"
        }
      ],
      "source": [
        "fies2020['Opções de cursos da inscrição'].value_counts()"
      ]
    },
    {
      "cell_type": "code",
      "execution_count": 26,
      "metadata": {
        "colab": {
          "base_uri": "https://localhost:8080/"
        },
        "id": "bW5yFF2BYZ6c",
        "outputId": "94dee952-debb-438a-99c1-348b4b107d96"
      },
      "outputs": [
        {
          "name": "stdout",
          "output_type": "stream",
          "text": [
            "<class 'pandas.core.frame.DataFrame'>\n",
            "Int64Index: 209502 entries, 0 to 212403\n",
            "Data columns (total 30 columns):\n",
            " #   Column                          Non-Null Count   Dtype \n",
            "---  ------                          --------------   ----- \n",
            " 0   ID do estudante                 209502 non-null  int64 \n",
            " 1   Sexo                            209502 non-null  object\n",
            " 2   Data de Nascimento              209502 non-null  object\n",
            " 3   UF de residência                209502 non-null  object\n",
            " 4   Etnia/Cor                       209502 non-null  object\n",
            " 5   Pessoa com deficiência?         209502 non-null  object\n",
            " 6   Ano conclusão ensino médio      209502 non-null  int64 \n",
            " 7   Concluiu curso superior?        209502 non-null  object\n",
            " 8   Nº de membros Grupo Familiar    209502 non-null  int64 \n",
            " 9   Renda familiar mensal bruta     182425 non-null  object\n",
            " 10  Renda mensal bruta per capita   209502 non-null  object\n",
            " 11  UF                              209502 non-null  object\n",
            " 12  Área do conhecimento            209502 non-null  object\n",
            " 13  Subárea do conhecimento         209502 non-null  object\n",
            " 14  Opções de cursos da inscrição   209502 non-null  int64 \n",
            " 15  Nome mantenedora                209502 non-null  object\n",
            " 16  Natureza Jurídica Mantenedora   209502 non-null  object\n",
            " 17  Nome da IES                     209502 non-null  object\n",
            " 18  Organização Acadêmica da IES    209502 non-null  object\n",
            " 19  UF do Local de Oferta           209502 non-null  object\n",
            " 20  Nome do curso                   209502 non-null  object\n",
            " 21  Turno                           209502 non-null  object\n",
            " 22  Média nota Enem                 209502 non-null  object\n",
            " 23  Ano do Enem                     209502 non-null  int64 \n",
            " 24  Redação                         209502 non-null  int64 \n",
            " 25  Matemática e suas Tecnologias   209502 non-null  object\n",
            " 26  Linguagens, Códigos e suas Tec  209502 non-null  object\n",
            " 27  Ciências Natureza e suas Tec    209502 non-null  object\n",
            " 28  Ciências Humanas e suas Tec     209502 non-null  object\n",
            " 29  Situação Inscrição Fies         209502 non-null  object\n",
            "dtypes: int64(6), object(24)\n",
            "memory usage: 49.5+ MB\n"
          ]
        }
      ],
      "source": [
        "fies2020.info()"
      ]
    },
    {
      "cell_type": "markdown",
      "metadata": {
        "id": "r7u3v96rYZ6d"
      },
      "source": [
        "### Avaliando Ano do Enem"
      ]
    },
    {
      "cell_type": "markdown",
      "metadata": {
        "id": "V9nvlWO4YZ6d"
      },
      "source": [
        "Assim como o campo do ano de conclusão do ensino médio, para este campo também espera-se um conjunto de valores distintos entre si"
      ]
    },
    {
      "cell_type": "code",
      "execution_count": 27,
      "metadata": {
        "colab": {
          "base_uri": "https://localhost:8080/"
        },
        "id": "uHYb2z6aYZ6e",
        "outputId": "68c9ffba-13ea-44c4-8d4a-ad064ffc7789"
      },
      "outputs": [
        {
          "data": {
            "text/plain": [
              "array([2019, 2010, 2018, 2017, 2016, 2020, 2013, 2012, 2015, 2011, 2014])"
            ]
          },
          "execution_count": 27,
          "metadata": {},
          "output_type": "execute_result"
        }
      ],
      "source": [
        "fies2020['Ano do Enem'].unique()"
      ]
    },
    {
      "cell_type": "markdown",
      "metadata": {
        "id": "LG0cpgNwYZ6e"
      },
      "source": [
        "Olhando distribuição dos dados..."
      ]
    },
    {
      "cell_type": "code",
      "execution_count": 28,
      "metadata": {
        "colab": {
          "base_uri": "https://localhost:8080/"
        },
        "id": "FoBfZ98-YZ6f",
        "outputId": "66e5dac2-a376-40e4-c32f-79ed20a44844"
      },
      "outputs": [
        {
          "data": {
            "text/plain": [
              "1    107892\n",
              "2     62387\n",
              "3     39223\n",
              "Name: Opções de cursos da inscrição, dtype: int64"
            ]
          },
          "execution_count": 28,
          "metadata": {},
          "output_type": "execute_result"
        }
      ],
      "source": [
        "fies2020['Opções de cursos da inscrição'].value_counts()"
      ]
    },
    {
      "cell_type": "markdown",
      "metadata": {
        "id": "625nt1sFYZ6f"
      },
      "source": [
        "Este campo esta coerente, de forma que mais tratamentos não são necessários"
      ]
    },
    {
      "cell_type": "markdown",
      "metadata": {
        "id": "gG9RgkVKYZ6f"
      },
      "source": [
        "### Avaliando Redação"
      ]
    },
    {
      "cell_type": "markdown",
      "metadata": {
        "id": "XLBUTL76YZ6g"
      },
      "source": [
        "Para este, espera-se uma grande variedade de valores inteiros, o que será avaliado pelo comando \"unique\""
      ]
    },
    {
      "cell_type": "code",
      "execution_count": 29,
      "metadata": {
        "colab": {
          "base_uri": "https://localhost:8080/"
        },
        "id": "gHGmniDhYZ6g",
        "outputId": "420d0ea9-1084-41c7-afab-aae796159e73"
      },
      "outputs": [
        {
          "data": {
            "text/plain": [
              "array([ 540,  700,  560,  580,  520,  640,  660,  480,  320,  980,  600,\n",
              "        880,  860,  625,  840,  760,  440,  680,  620,  900,  780,  720,\n",
              "        420,  400,  820,  740,  800,  300,  380,  460,  340,  940,  850,\n",
              "        500,  920,  960,  750,  725,  925,  360, 1000,  575,  775,  525,\n",
              "        675,  875,  550,  280,  650,  425,  450,  260,  825,  475,  240,\n",
              "        975,  842,  350,  200,  250,  950,  375,  220,  120,  691,  683,\n",
              "        325,  783,  767,  808,  867,  234])"
            ]
          },
          "execution_count": 29,
          "metadata": {},
          "output_type": "execute_result"
        }
      ],
      "source": [
        "fies2020['Redação'].unique()"
      ]
    },
    {
      "cell_type": "markdown",
      "metadata": {
        "id": "Kt3F35uZYZ6h"
      },
      "source": [
        "Olhando distribuição dos dados..."
      ]
    },
    {
      "cell_type": "code",
      "execution_count": 30,
      "metadata": {
        "colab": {
          "base_uri": "https://localhost:8080/"
        },
        "id": "vAIDE8-QYZ6h",
        "outputId": "e56062bc-9a41-43d5-9e9e-a16344eb463a"
      },
      "outputs": [
        {
          "data": {
            "text/plain": [
              "600    15922\n",
              "560    15416\n",
              "580    13375\n",
              "640    11903\n",
              "620    11040\n",
              "       ...  \n",
              "842        2\n",
              "234        2\n",
              "691        1\n",
              "120        1\n",
              "867        1\n",
              "Name: Redação, Length: 72, dtype: int64"
            ]
          },
          "execution_count": 30,
          "metadata": {},
          "output_type": "execute_result"
        }
      ],
      "source": [
        "fies2020['Redação'].value_counts()"
      ]
    },
    {
      "cell_type": "markdown",
      "metadata": {
        "id": "4qWE-OwnYZ6h"
      },
      "source": [
        "Este campo esta coerente, de forma que mais tratamentos não são necessários\n",
        "\n"
      ]
    },
    {
      "cell_type": "markdown",
      "metadata": {
        "id": "yXrvMTfLYZ6i"
      },
      "source": [
        "## Analisando colunas de variaveis do tipo object (de acordo com o dataframe inicial)\n",
        "\n"
      ]
    },
    {
      "cell_type": "markdown",
      "metadata": {
        "id": "Z7GvY6sJYZ6i"
      },
      "source": [
        "### Analisando Sexo"
      ]
    },
    {
      "cell_type": "markdown",
      "metadata": {
        "id": "LQS6nrG-f5Rb"
      },
      "source": [
        "Primeiramente são avaliados os tipos de valores diferentes informados para este campo, por meio do comando \"unique\""
      ]
    },
    {
      "cell_type": "code",
      "execution_count": 31,
      "metadata": {
        "colab": {
          "base_uri": "https://localhost:8080/"
        },
        "id": "eQMPjVWOYZ6i",
        "outputId": "b6d0b1e1-b375-4387-c349-1569791ffb67"
      },
      "outputs": [
        {
          "data": {
            "text/plain": [
              "array(['F', 'M'], dtype=object)"
            ]
          },
          "execution_count": 31,
          "metadata": {},
          "output_type": "execute_result"
        }
      ],
      "source": [
        "fies2020['Sexo'].unique()"
      ]
    },
    {
      "cell_type": "markdown",
      "metadata": {
        "id": "bqcHeChLf9Wy"
      },
      "source": [
        "Para visualizar a distribuição destes valores, o comando \"value_counts\" foi utilizado"
      ]
    },
    {
      "cell_type": "code",
      "execution_count": 32,
      "metadata": {
        "colab": {
          "base_uri": "https://localhost:8080/"
        },
        "id": "XuEgfSWFYZ6i",
        "outputId": "0ac668df-6bb7-49de-9c8d-e88f2876b137"
      },
      "outputs": [
        {
          "data": {
            "text/plain": [
              "F    140761\n",
              "M     68741\n",
              "Name: Sexo, dtype: int64"
            ]
          },
          "execution_count": 32,
          "metadata": {},
          "output_type": "execute_result"
        }
      ],
      "source": [
        "fies2020['Sexo'].value_counts()"
      ]
    },
    {
      "cell_type": "markdown",
      "metadata": {
        "id": "_ZTISUYKckf9"
      },
      "source": [
        "Este campo está coerente, de forma que mais tratamentos não são necessários"
      ]
    },
    {
      "cell_type": "markdown",
      "metadata": {
        "id": "ni5Y-oMmYZ6j"
      },
      "source": [
        "### Analisando Data de Nascimento"
      ]
    },
    {
      "cell_type": "markdown",
      "metadata": {
        "id": "EMgfOo80YZ6k"
      },
      "source": [
        "Não se conhece o tipo da coluna da data de nascimento, mas sabe-se que é um objeto. Para realizar a manipulação destes dados corrretamente é preciso que esteja em um tipo utilizado para data, sendo assim, checa-se qual o tipo de um dos valores presentes na coluna."
      ]
    },
    {
      "cell_type": "code",
      "execution_count": 33,
      "metadata": {
        "colab": {
          "base_uri": "https://localhost:8080/"
        },
        "id": "IaIht7r1YZ6k",
        "outputId": "49dacc9c-1739-4dfd-c808-06490825db23"
      },
      "outputs": [
        {
          "data": {
            "text/plain": [
              "str"
            ]
          },
          "execution_count": 33,
          "metadata": {},
          "output_type": "execute_result"
        }
      ],
      "source": [
        "type(fies2020['Data de Nascimento'][0])"
      ]
    },
    {
      "cell_type": "markdown",
      "metadata": {
        "id": "QE4LEGOjYZ6k"
      },
      "source": [
        "Observa-se que a data é do tipo 'str'. Para facilitar a manipulação das datas, pode-se converter os dados utilizando a função \"to_datetime\"."
      ]
    },
    {
      "cell_type": "code",
      "execution_count": 34,
      "metadata": {
        "id": "xEqoxiFsYZ6k"
      },
      "outputs": [],
      "source": [
        "fies2020['Data de Nascimento'] = pd.to_datetime(fies2020['Data de Nascimento'], format='%d/%m/%y')"
      ]
    },
    {
      "cell_type": "markdown",
      "metadata": {
        "id": "hKDHGET1jzzY"
      },
      "source": [
        "São avaliados os tipos de valores diferentes informados para este campo, por meio do comando \"unique\""
      ]
    },
    {
      "cell_type": "code",
      "execution_count": 35,
      "metadata": {
        "colab": {
          "base_uri": "https://localhost:8080/"
        },
        "id": "T9PQXHMOjvWS",
        "outputId": "8bf4dd52-428e-4ce8-839b-6b5de4ded962"
      },
      "outputs": [
        {
          "data": {
            "text/plain": [
              "array(['2002-12-15T00:00:00.000000000', '1974-06-26T00:00:00.000000000',\n",
              "       '1981-09-23T00:00:00.000000000', ...,\n",
              "       '1980-09-15T00:00:00.000000000', '1969-06-29T00:00:00.000000000',\n",
              "       '1979-07-09T00:00:00.000000000'], dtype='datetime64[ns]')"
            ]
          },
          "execution_count": 35,
          "metadata": {},
          "output_type": "execute_result"
        }
      ],
      "source": [
        "fies2020['Data de Nascimento'].unique()"
      ]
    },
    {
      "cell_type": "markdown",
      "metadata": {
        "id": "fT73ukHGj8R8"
      },
      "source": [
        "Para visualizar a distribuição destes valores, o comando \"value_counts\" foi utilizado"
      ]
    },
    {
      "cell_type": "code",
      "execution_count": 36,
      "metadata": {
        "colab": {
          "base_uri": "https://localhost:8080/"
        },
        "id": "_BV3UMDHYZ6l",
        "outputId": "dcd0ee23-4d2b-4c3c-b7c1-be7576a89879"
      },
      "outputs": [
        {
          "data": {
            "text/plain": [
              "2001-06-29    145\n",
              "2001-09-03    139\n",
              "2001-07-06    136\n",
              "2001-04-24    134\n",
              "2002-02-19    134\n",
              "             ... \n",
              "1990-12-21      1\n",
              "1985-10-04      1\n",
              "1985-05-31      1\n",
              "2063-11-28      1\n",
              "1979-07-09      1\n",
              "Name: Data de Nascimento, Length: 10868, dtype: int64"
            ]
          },
          "execution_count": 36,
          "metadata": {},
          "output_type": "execute_result"
        }
      ],
      "source": [
        "fies2020['Data de Nascimento'].value_counts()"
      ]
    },
    {
      "cell_type": "markdown",
      "metadata": {
        "id": "NOgmTY7tkAB4"
      },
      "source": [
        "Este campo está coerente, de forma que mais tratamentos não são necessários."
      ]
    },
    {
      "cell_type": "markdown",
      "metadata": {
        "id": "iyl_LtUKYZ6l"
      },
      "source": [
        "### Analisando UF de residência"
      ]
    },
    {
      "cell_type": "markdown",
      "metadata": {
        "id": "uP_SypJ2gFCq"
      },
      "source": [
        "Primeiramente são avaliados os tipos de valores diferentes informados para este campo, por meio do comando \"unique\""
      ]
    },
    {
      "cell_type": "code",
      "execution_count": 37,
      "metadata": {
        "colab": {
          "base_uri": "https://localhost:8080/"
        },
        "id": "dTjGGZBvgOMr",
        "outputId": "32275a0b-2f60-4522-ec6e-909bbfafa6bb"
      },
      "outputs": [
        {
          "data": {
            "text/plain": [
              "array(['PR', 'MS', 'BA', 'SC', 'SP', 'RS', 'GO', 'MA', 'CE', 'PA', 'MG',\n",
              "       'RO', 'RN', 'MT', 'AM', 'TO', 'PI', 'RJ', 'PB', 'ES', 'PE', 'DF',\n",
              "       'AC', 'RR', 'SE', 'AL', 'AP'], dtype=object)"
            ]
          },
          "execution_count": 37,
          "metadata": {},
          "output_type": "execute_result"
        }
      ],
      "source": [
        "fies2020['UF de residência'].unique()"
      ]
    },
    {
      "cell_type": "markdown",
      "metadata": {
        "id": "K62ysdUAuE0A"
      },
      "source": [
        "Para visualizar a distribuição destes valores, o comando \"value_counts\" foi utilizado"
      ]
    },
    {
      "cell_type": "code",
      "execution_count": 38,
      "metadata": {
        "colab": {
          "base_uri": "https://localhost:8080/"
        },
        "id": "_o-9UolruCdI",
        "outputId": "7b515a8e-3715-4fb4-a274-39fc5998b32e"
      },
      "outputs": [
        {
          "data": {
            "text/plain": [
              "SP    28283\n",
              "MG    24463\n",
              "BA    17357\n",
              "CE    16333\n",
              "RJ    15803\n",
              "PE    11595\n",
              "PA    10225\n",
              "MA    10132\n",
              "GO     8726\n",
              "PR     7989\n",
              "PB     6612\n",
              "AM     6385\n",
              "PI     6110\n",
              "DF     5855\n",
              "RS     5800\n",
              "ES     3405\n",
              "AL     3324\n",
              "RN     3189\n",
              "SE     3049\n",
              "TO     2504\n",
              "SC     2427\n",
              "MT     2293\n",
              "RO     2291\n",
              "MS     2279\n",
              "AP     1601\n",
              "AC     1002\n",
              "RR      470\n",
              "Name: UF de residência, dtype: int64"
            ]
          },
          "execution_count": 38,
          "metadata": {},
          "output_type": "execute_result"
        }
      ],
      "source": [
        "fies2020['UF de residência'].value_counts()"
      ]
    },
    {
      "cell_type": "markdown",
      "metadata": {
        "id": "7C146FD4gIFc"
      },
      "source": [
        "Este campo está coerente, de forma que mais tratamentos não são necessários."
      ]
    },
    {
      "cell_type": "markdown",
      "metadata": {
        "id": "RjWzWUWtYZ6l"
      },
      "source": [
        "### Analisando Etnia/Cor"
      ]
    },
    {
      "cell_type": "markdown",
      "metadata": {
        "id": "MMjYUrzsgCGD"
      },
      "source": [
        "Primeiramente são avaliados os tipos de valores diferentes informados para este campo, por meio do comando \"unique\""
      ]
    },
    {
      "cell_type": "code",
      "execution_count": 39,
      "metadata": {
        "colab": {
          "base_uri": "https://localhost:8080/"
        },
        "id": "qiSrLQfpYZ6l",
        "outputId": "84baee4b-a4e7-4aed-dc86-e17289acb967"
      },
      "outputs": [
        {
          "data": {
            "text/plain": [
              "array(['BRANCA', 'PARDA', 'PRETA', 'AMARELA', 'INDÍGENA'], dtype=object)"
            ]
          },
          "execution_count": 39,
          "metadata": {},
          "output_type": "execute_result"
        }
      ],
      "source": [
        "fies2020['Etnia/Cor'].unique()"
      ]
    },
    {
      "cell_type": "markdown",
      "metadata": {
        "id": "5_kYIvcQiHj6"
      },
      "source": [
        "Para visualizar a distribuição destes valores, o comando \"value_counts\" foi utilizado"
      ]
    },
    {
      "cell_type": "code",
      "execution_count": 40,
      "metadata": {
        "colab": {
          "base_uri": "https://localhost:8080/"
        },
        "id": "S8bOrwpaYZ6m",
        "outputId": "646e84d3-26e7-4564-f7d1-c111fdb84503"
      },
      "outputs": [
        {
          "data": {
            "text/plain": [
              "PARDA       99599\n",
              "BRANCA      78025\n",
              "PRETA       26227\n",
              "AMARELA      5006\n",
              "INDÍGENA      645\n",
              "Name: Etnia/Cor, dtype: int64"
            ]
          },
          "execution_count": 40,
          "metadata": {},
          "output_type": "execute_result"
        }
      ],
      "source": [
        "fies2020['Etnia/Cor'].value_counts()"
      ]
    },
    {
      "cell_type": "markdown",
      "metadata": {
        "id": "Zltm1iimcq6E"
      },
      "source": [
        "Este campo está coerente, de forma que mais tratamentos não são necessários"
      ]
    },
    {
      "cell_type": "markdown",
      "metadata": {
        "id": "2aR7Gq-8YZ6m"
      },
      "source": [
        "### Analisando Pessoa Com Deficiência?"
      ]
    },
    {
      "cell_type": "markdown",
      "metadata": {
        "id": "s8CYhIKuiMxZ"
      },
      "source": [
        "Primeiramente são avaliados os tipos de valores diferentes informados para este campo, por meio do comando \"unique\""
      ]
    },
    {
      "cell_type": "code",
      "execution_count": 41,
      "metadata": {
        "colab": {
          "base_uri": "https://localhost:8080/"
        },
        "id": "a3jjMP6mYZ6m",
        "outputId": "1b5e095f-e85f-4cd0-c0ca-c3490540d21c"
      },
      "outputs": [
        {
          "data": {
            "text/plain": [
              "array(['NÃO', 'SIM'], dtype=object)"
            ]
          },
          "execution_count": 41,
          "metadata": {},
          "output_type": "execute_result"
        }
      ],
      "source": [
        "fies2020['Pessoa com deficiência?'].unique()"
      ]
    },
    {
      "cell_type": "markdown",
      "metadata": {
        "id": "g-IF9zemiPDx"
      },
      "source": [
        "Para visualizar a distribuição destes valores, o comando \"value_counts\" foi utilizado"
      ]
    },
    {
      "cell_type": "code",
      "execution_count": 42,
      "metadata": {
        "colab": {
          "base_uri": "https://localhost:8080/"
        },
        "id": "k-_B6tfEYZ6n",
        "outputId": "263e4281-4871-423e-ba95-899ad65c63e8"
      },
      "outputs": [
        {
          "data": {
            "text/plain": [
              "NÃO    207579\n",
              "SIM      1923\n",
              "Name: Pessoa com deficiência?, dtype: int64"
            ]
          },
          "execution_count": 42,
          "metadata": {},
          "output_type": "execute_result"
        }
      ],
      "source": [
        "fies2020['Pessoa com deficiência?'].value_counts()"
      ]
    },
    {
      "cell_type": "markdown",
      "metadata": {
        "id": "zQD4LggkcsDE"
      },
      "source": [
        "Este campo está coerente, de forma que mais tratamentos não são necessários"
      ]
    },
    {
      "cell_type": "markdown",
      "metadata": {
        "id": "u4a7cxXTYZ6n"
      },
      "source": [
        "### Analisando Concluiu curso superior?"
      ]
    },
    {
      "cell_type": "markdown",
      "metadata": {
        "id": "ZJPJ0CSLiQuR"
      },
      "source": [
        "Primeiramente são avaliados os tipos de valores diferentes informados para este campo, por meio do comando \"unique\""
      ]
    },
    {
      "cell_type": "code",
      "execution_count": 43,
      "metadata": {
        "colab": {
          "base_uri": "https://localhost:8080/"
        },
        "id": "Otj9MKE_YZ6o",
        "outputId": "4e6fb7f6-dc95-4869-9306-22f0f582b10b"
      },
      "outputs": [
        {
          "data": {
            "text/plain": [
              "array(['NÃO', 'SIM'], dtype=object)"
            ]
          },
          "execution_count": 43,
          "metadata": {},
          "output_type": "execute_result"
        }
      ],
      "source": [
        "fies2020['Pessoa com deficiência?'].unique()"
      ]
    },
    {
      "cell_type": "markdown",
      "metadata": {
        "id": "LeimJ1ZIiTdr"
      },
      "source": [
        "Para visualizar a distribuição destes valores, o comando \"value_counts\" foi utilizado"
      ]
    },
    {
      "cell_type": "code",
      "execution_count": 44,
      "metadata": {
        "colab": {
          "base_uri": "https://localhost:8080/"
        },
        "id": "i2ACIx5aYZ6o",
        "outputId": "7d14182c-bd88-4c13-cc96-2e5a4d4bd6a7"
      },
      "outputs": [
        {
          "data": {
            "text/plain": [
              "NÃO    207579\n",
              "SIM      1923\n",
              "Name: Pessoa com deficiência?, dtype: int64"
            ]
          },
          "execution_count": 44,
          "metadata": {},
          "output_type": "execute_result"
        }
      ],
      "source": [
        "fies2020['Pessoa com deficiência?'].value_counts()"
      ]
    },
    {
      "cell_type": "markdown",
      "metadata": {
        "id": "b2FrjCgmctJU"
      },
      "source": [
        "Este campo está coerente, de forma que mais tratamentos não são necessários"
      ]
    },
    {
      "cell_type": "markdown",
      "metadata": {
        "id": "3gm4-Fw_YZ6o"
      },
      "source": [
        "### Analisando Renda familiar mensal bruta"
      ]
    },
    {
      "cell_type": "markdown",
      "metadata": {
        "id": "bz6y3BhaYZ6p"
      },
      "source": [
        "Este campo está armazenado no dataframe como um objeto. Todavia, este campo deve possuir valor real, no caso, float. \n",
        "\n",
        "Para a análise não ser prejudicada por valores nulos, estes foram removidos da tabela."
      ]
    },
    {
      "cell_type": "code",
      "execution_count": 45,
      "metadata": {
        "id": "4JlGRRNFYZ6p"
      },
      "outputs": [],
      "source": [
        "fies2020 = fies2020.dropna(subset=[\"Renda familiar mensal bruta\"])"
      ]
    },
    {
      "cell_type": "markdown",
      "metadata": {
        "id": "vgCnIUVbYZ6q"
      },
      "source": [
        "Ao observar os valores por meio do value_counts, pode-se perceber que estes foram considerados como string pois foram armazenados com vírgulas, quando, na verdade, para serem reconhecidos como numéricos, deveriam ser armazenados com pontos."
      ]
    },
    {
      "cell_type": "code",
      "execution_count": 46,
      "metadata": {
        "colab": {
          "base_uri": "https://localhost:8080/"
        },
        "id": "48N6bv5FYZ6q",
        "outputId": "085686e1-b2ef-41e1-f073-52aaebff997b"
      },
      "outputs": [
        {
          "data": {
            "text/plain": [
              "522,5      8922\n",
              "348,33     5211\n",
              "600        5072\n",
              "1000       4681\n",
              "750        3353\n",
              "           ... \n",
              "1898,42       1\n",
              "2794,1        1\n",
              "864,97        1\n",
              "938,8         1\n",
              "1099,45       1\n",
              "Name: Renda mensal bruta per capita, Length: 24438, dtype: int64"
            ]
          },
          "execution_count": 46,
          "metadata": {},
          "output_type": "execute_result"
        }
      ],
      "source": [
        "fies2020['Renda mensal bruta per capita'].value_counts()"
      ]
    },
    {
      "cell_type": "markdown",
      "metadata": {
        "id": "Iqt2xGMEYZ6q"
      },
      "source": [
        "Sendo assim, foi necessária a substituição das vírgulas por pontos para a coluna em questão do dataset"
      ]
    },
    {
      "cell_type": "code",
      "execution_count": 47,
      "metadata": {
        "colab": {
          "base_uri": "https://localhost:8080/"
        },
        "id": "SKSINkwRYZ6q",
        "outputId": "8e34188f-ac8f-40e5-b3ee-7dc5004f0eee"
      },
      "outputs": [],
      "source": [
        "fies2020['Renda familiar mensal bruta'] = fies2020['Renda familiar mensal bruta'].str.replace(',', '.')"
      ]
    },
    {
      "cell_type": "markdown",
      "metadata": {
        "id": "EiUU8KEaYZ6r"
      },
      "source": [
        "Uma vez que as vírgulas foram removidas, é possível atualizar a coluna em questão para esta receber um valor numérico"
      ]
    },
    {
      "cell_type": "code",
      "execution_count": 48,
      "metadata": {
        "id": "WAnLiRLBYZ6r"
      },
      "outputs": [],
      "source": [
        "fies2020['Renda familiar mensal bruta'] = pd.to_numeric(fies2020['Renda familiar mensal bruta'])"
      ]
    },
    {
      "cell_type": "code",
      "execution_count": 49,
      "metadata": {
        "colab": {
          "base_uri": "https://localhost:8080/"
        },
        "id": "-_XANaikYZ6r",
        "outputId": "f4179f24-1483-46f9-bf1b-db748bc65922"
      },
      "outputs": [
        {
          "data": {
            "text/plain": [
              "0         2400.00\n",
              "1         1784.57\n",
              "2         1784.57\n",
              "3         3050.00\n",
              "4         1200.00\n",
              "           ...   \n",
              "212399    4000.00\n",
              "212400    4324.97\n",
              "212401    3862.00\n",
              "212402    7400.00\n",
              "212403    3100.00\n",
              "Name: Renda familiar mensal bruta, Length: 182425, dtype: float64"
            ]
          },
          "execution_count": 49,
          "metadata": {},
          "output_type": "execute_result"
        }
      ],
      "source": [
        "fies2020['Renda familiar mensal bruta']"
      ]
    },
    {
      "cell_type": "markdown",
      "metadata": {
        "id": "QdEit7pwYZ6r"
      },
      "source": [
        "Ao observar a organização do dataframe por meio do comando \"info\", pode-se perceber que este campo agora é reconhecido como float"
      ]
    },
    {
      "cell_type": "code",
      "execution_count": 50,
      "metadata": {
        "colab": {
          "base_uri": "https://localhost:8080/"
        },
        "id": "lOOATjPOYZ6s",
        "outputId": "edf4b628-7716-42b8-d484-e2760508ddd0"
      },
      "outputs": [
        {
          "name": "stdout",
          "output_type": "stream",
          "text": [
            "<class 'pandas.core.frame.DataFrame'>\n",
            "Int64Index: 182425 entries, 0 to 212403\n",
            "Data columns (total 30 columns):\n",
            " #   Column                          Non-Null Count   Dtype         \n",
            "---  ------                          --------------   -----         \n",
            " 0   ID do estudante                 182425 non-null  int64         \n",
            " 1   Sexo                            182425 non-null  object        \n",
            " 2   Data de Nascimento              182425 non-null  datetime64[ns]\n",
            " 3   UF de residência                182425 non-null  object        \n",
            " 4   Etnia/Cor                       182425 non-null  object        \n",
            " 5   Pessoa com deficiência?         182425 non-null  object        \n",
            " 6   Ano conclusão ensino médio      182425 non-null  int64         \n",
            " 7   Concluiu curso superior?        182425 non-null  object        \n",
            " 8   Nº de membros Grupo Familiar    182425 non-null  int64         \n",
            " 9   Renda familiar mensal bruta     182425 non-null  float64       \n",
            " 10  Renda mensal bruta per capita   182425 non-null  object        \n",
            " 11  UF                              182425 non-null  object        \n",
            " 12  Área do conhecimento            182425 non-null  object        \n",
            " 13  Subárea do conhecimento         182425 non-null  object        \n",
            " 14  Opções de cursos da inscrição   182425 non-null  int64         \n",
            " 15  Nome mantenedora                182425 non-null  object        \n",
            " 16  Natureza Jurídica Mantenedora   182425 non-null  object        \n",
            " 17  Nome da IES                     182425 non-null  object        \n",
            " 18  Organização Acadêmica da IES    182425 non-null  object        \n",
            " 19  UF do Local de Oferta           182425 non-null  object        \n",
            " 20  Nome do curso                   182425 non-null  object        \n",
            " 21  Turno                           182425 non-null  object        \n",
            " 22  Média nota Enem                 182425 non-null  object        \n",
            " 23  Ano do Enem                     182425 non-null  int64         \n",
            " 24  Redação                         182425 non-null  int64         \n",
            " 25  Matemática e suas Tecnologias   182425 non-null  object        \n",
            " 26  Linguagens, Códigos e suas Tec  182425 non-null  object        \n",
            " 27  Ciências Natureza e suas Tec    182425 non-null  object        \n",
            " 28  Ciências Humanas e suas Tec     182425 non-null  object        \n",
            " 29  Situação Inscrição Fies         182425 non-null  object        \n",
            "dtypes: datetime64[ns](1), float64(1), int64(6), object(22)\n",
            "memory usage: 43.1+ MB\n"
          ]
        }
      ],
      "source": [
        "fies2020.info()"
      ]
    },
    {
      "cell_type": "markdown",
      "metadata": {
        "id": "oLbL1TggYZ6s"
      },
      "source": [
        "### Analisando Renda mensal bruta per capita"
      ]
    },
    {
      "cell_type": "markdown",
      "metadata": {
        "id": "G4XWoQMvYZ6t"
      },
      "source": [
        "Este campo está armazenado no dataframe como um objeto. Todavia, este campo deve possuir valor real, no caso, float. \n",
        "\n",
        "Para a análise não ser prejudicada por valores nulos, estes foram removidos da tabela."
      ]
    },
    {
      "cell_type": "code",
      "execution_count": 51,
      "metadata": {
        "id": "IUnDCtM3YZ6t"
      },
      "outputs": [],
      "source": [
        "fies2020 = fies2020.dropna(subset=[\"Renda mensal bruta per capita\"])"
      ]
    },
    {
      "cell_type": "markdown",
      "metadata": {
        "id": "iyIyKktVYZ6t"
      },
      "source": [
        "Ao observar os valores por meio do value_counts, pode-se perceber que estes foram considerados como string pois foram armazenados com vírgulas, quando, na verdade, para serem reconhecidos como numéricos, deveriam ser armazenados com pontos."
      ]
    },
    {
      "cell_type": "code",
      "execution_count": 52,
      "metadata": {
        "colab": {
          "base_uri": "https://localhost:8080/"
        },
        "id": "57zhjni8YZ6u",
        "outputId": "bd169fbb-b609-4e2a-d46e-95edc7e75aa9"
      },
      "outputs": [
        {
          "data": {
            "text/plain": [
              "522,5      8922\n",
              "348,33     5211\n",
              "600        5072\n",
              "1000       4681\n",
              "750        3353\n",
              "           ... \n",
              "1898,42       1\n",
              "2794,1        1\n",
              "864,97        1\n",
              "938,8         1\n",
              "1099,45       1\n",
              "Name: Renda mensal bruta per capita, Length: 24438, dtype: int64"
            ]
          },
          "execution_count": 52,
          "metadata": {},
          "output_type": "execute_result"
        }
      ],
      "source": [
        "fies2020['Renda mensal bruta per capita'].value_counts()"
      ]
    },
    {
      "cell_type": "markdown",
      "metadata": {
        "id": "zr2lbqWbYZ6u"
      },
      "source": [
        "Sendo assim, foi necessária a substituição das vírgulas por pontos para a coluna em questão do dataset"
      ]
    },
    {
      "cell_type": "code",
      "execution_count": 53,
      "metadata": {
        "id": "xB7Bik1hYZ6v"
      },
      "outputs": [],
      "source": [
        "fies2020['Renda mensal bruta per capita'] = fies2020['Renda mensal bruta per capita'].str.replace(',','.')"
      ]
    },
    {
      "cell_type": "markdown",
      "metadata": {
        "id": "-53sgXQ4YZ6v"
      },
      "source": [
        "Uma vez que as vírgulas foram removidas, é possível atualizar a coluna em questão para esta receber um valor numérico"
      ]
    },
    {
      "cell_type": "code",
      "execution_count": 54,
      "metadata": {
        "id": "Ct3GO8Y4YZ6v"
      },
      "outputs": [],
      "source": [
        "fies2020['Renda mensal bruta per capita'] = pd.to_numeric(fies2020['Renda mensal bruta per capita'])"
      ]
    },
    {
      "cell_type": "code",
      "execution_count": 55,
      "metadata": {
        "colab": {
          "base_uri": "https://localhost:8080/"
        },
        "id": "f2TzUzU7YZ6w",
        "outputId": "1b55060c-bf1c-4d62-855c-ebc760b0086b"
      },
      "outputs": [
        {
          "data": {
            "text/plain": [
              "0          600.00\n",
              "1          594.86\n",
              "2          594.86\n",
              "3          762.50\n",
              "4          300.00\n",
              "           ...   \n",
              "212399    2000.00\n",
              "212400    1441.66\n",
              "212401     965.50\n",
              "212402    1850.00\n",
              "212403    1550.00\n",
              "Name: Renda mensal bruta per capita, Length: 182425, dtype: float64"
            ]
          },
          "execution_count": 55,
          "metadata": {},
          "output_type": "execute_result"
        }
      ],
      "source": [
        "fies2020['Renda mensal bruta per capita']"
      ]
    },
    {
      "cell_type": "code",
      "execution_count": 56,
      "metadata": {
        "colab": {
          "base_uri": "https://localhost:8080/"
        },
        "id": "eRcildTkYZ6w",
        "outputId": "f87d7360-c81f-4086-fa1e-c78377fef347"
      },
      "outputs": [
        {
          "data": {
            "text/plain": [
              "522.50     8922\n",
              "348.33     5211\n",
              "600.00     5072\n",
              "1000.00    4681\n",
              "750.00     3353\n",
              "           ... \n",
              "1898.42       1\n",
              "2794.10       1\n",
              "864.97        1\n",
              "938.80        1\n",
              "1099.45       1\n",
              "Name: Renda mensal bruta per capita, Length: 24438, dtype: int64"
            ]
          },
          "execution_count": 56,
          "metadata": {},
          "output_type": "execute_result"
        }
      ],
      "source": [
        "fies2020['Renda mensal bruta per capita'].value_counts()"
      ]
    },
    {
      "cell_type": "markdown",
      "metadata": {
        "id": "NxraW6lnYZ6w"
      },
      "source": [
        "Ao observar a organização do dataframe por meio do comando \"info\", pode-se perceber que este campo agora é reconhecido como float"
      ]
    },
    {
      "cell_type": "code",
      "execution_count": 57,
      "metadata": {
        "colab": {
          "base_uri": "https://localhost:8080/"
        },
        "id": "XsRYmqvEYZ6x",
        "outputId": "888bcbdd-fb42-48d7-d799-288dd33943fe"
      },
      "outputs": [
        {
          "name": "stdout",
          "output_type": "stream",
          "text": [
            "<class 'pandas.core.frame.DataFrame'>\n",
            "Int64Index: 182425 entries, 0 to 212403\n",
            "Data columns (total 30 columns):\n",
            " #   Column                          Non-Null Count   Dtype         \n",
            "---  ------                          --------------   -----         \n",
            " 0   ID do estudante                 182425 non-null  int64         \n",
            " 1   Sexo                            182425 non-null  object        \n",
            " 2   Data de Nascimento              182425 non-null  datetime64[ns]\n",
            " 3   UF de residência                182425 non-null  object        \n",
            " 4   Etnia/Cor                       182425 non-null  object        \n",
            " 5   Pessoa com deficiência?         182425 non-null  object        \n",
            " 6   Ano conclusão ensino médio      182425 non-null  int64         \n",
            " 7   Concluiu curso superior?        182425 non-null  object        \n",
            " 8   Nº de membros Grupo Familiar    182425 non-null  int64         \n",
            " 9   Renda familiar mensal bruta     182425 non-null  float64       \n",
            " 10  Renda mensal bruta per capita   182425 non-null  float64       \n",
            " 11  UF                              182425 non-null  object        \n",
            " 12  Área do conhecimento            182425 non-null  object        \n",
            " 13  Subárea do conhecimento         182425 non-null  object        \n",
            " 14  Opções de cursos da inscrição   182425 non-null  int64         \n",
            " 15  Nome mantenedora                182425 non-null  object        \n",
            " 16  Natureza Jurídica Mantenedora   182425 non-null  object        \n",
            " 17  Nome da IES                     182425 non-null  object        \n",
            " 18  Organização Acadêmica da IES    182425 non-null  object        \n",
            " 19  UF do Local de Oferta           182425 non-null  object        \n",
            " 20  Nome do curso                   182425 non-null  object        \n",
            " 21  Turno                           182425 non-null  object        \n",
            " 22  Média nota Enem                 182425 non-null  object        \n",
            " 23  Ano do Enem                     182425 non-null  int64         \n",
            " 24  Redação                         182425 non-null  int64         \n",
            " 25  Matemática e suas Tecnologias   182425 non-null  object        \n",
            " 26  Linguagens, Códigos e suas Tec  182425 non-null  object        \n",
            " 27  Ciências Natureza e suas Tec    182425 non-null  object        \n",
            " 28  Ciências Humanas e suas Tec     182425 non-null  object        \n",
            " 29  Situação Inscrição Fies         182425 non-null  object        \n",
            "dtypes: datetime64[ns](1), float64(2), int64(6), object(21)\n",
            "memory usage: 43.1+ MB\n"
          ]
        }
      ],
      "source": [
        "fies2020.info()"
      ]
    },
    {
      "cell_type": "markdown",
      "metadata": {
        "id": "oqBnDRedYZ6x"
      },
      "source": [
        "### Analisando UF "
      ]
    },
    {
      "cell_type": "markdown",
      "metadata": {
        "id": "u-Pij13XibB6"
      },
      "source": [
        "Primeiramente são avaliados os tipos de valores diferentes informados para este campo, por meio do comando \"unique\""
      ]
    },
    {
      "cell_type": "code",
      "execution_count": 58,
      "metadata": {
        "colab": {
          "base_uri": "https://localhost:8080/"
        },
        "id": "OTfwmcKeYZ6x",
        "outputId": "25e477bc-ba98-46ca-ca13-593324baf24a"
      },
      "outputs": [
        {
          "data": {
            "text/plain": [
              "array(['PARANÁ', 'PERNAMBUCO', 'RIO GRANDE DO SUL', 'SÃO PAULO',\n",
              "       'MINAS GERAIS', 'BAHIA', 'RIO DE JANEIRO', 'MATO GROSSO DO SUL',\n",
              "       'ESPÍRITO SANTO', 'SANTA CATARINA', 'GOIÁS', 'PARAÍBA', 'SERGIPE',\n",
              "       'ALAGOAS', 'DISTRITO FEDERAL', 'TOCANTINS', 'CEARÁ', 'AMAZONAS',\n",
              "       'RIO GRANDE DO NORTE', 'PIAUÍ', 'PARÁ', 'AMAPÁ', 'RONDÔNIA',\n",
              "       'MATO GROSSO', 'MARANHÃO', 'RORAIMA', 'ACRE'], dtype=object)"
            ]
          },
          "execution_count": 58,
          "metadata": {},
          "output_type": "execute_result"
        }
      ],
      "source": [
        "fies2020['UF'].unique()"
      ]
    },
    {
      "cell_type": "markdown",
      "metadata": {
        "id": "RnLG_E0wicih"
      },
      "source": [
        "Para visualizar a distribuição destes valores, o comando \"value_counts\" foi utilizado"
      ]
    },
    {
      "cell_type": "code",
      "execution_count": 59,
      "metadata": {
        "colab": {
          "base_uri": "https://localhost:8080/"
        },
        "id": "GHiDM0vRYZ6y",
        "outputId": "614ca54f-0020-482d-c4bc-702fa5da8759"
      },
      "outputs": [
        {
          "data": {
            "text/plain": [
              "SÃO PAULO              24534\n",
              "MINAS GERAIS           20830\n",
              "BAHIA                  15569\n",
              "RIO DE JANEIRO         15072\n",
              "CEARÁ                  13639\n",
              "PERNAMBUCO             10148\n",
              "PARÁ                    8596\n",
              "PARANÁ                  7794\n",
              "MARANHÃO                7272\n",
              "PARAÍBA                 6901\n",
              "GOIÁS                   6499\n",
              "DISTRITO FEDERAL        6091\n",
              "AMAZONAS                5738\n",
              "PIAUÍ                   5340\n",
              "RIO GRANDE DO SUL       4471\n",
              "ALAGOAS                 3200\n",
              "TOCANTINS               2804\n",
              "ESPÍRITO SANTO          2663\n",
              "SERGIPE                 2396\n",
              "RIO GRANDE DO NORTE     2140\n",
              "MATO GROSSO DO SUL      2037\n",
              "MATO GROSSO             2008\n",
              "SANTA CATARINA          1986\n",
              "RONDÔNIA                1898\n",
              "AMAPÁ                   1367\n",
              "ACRE                    1090\n",
              "RORAIMA                  342\n",
              "Name: UF, dtype: int64"
            ]
          },
          "execution_count": 59,
          "metadata": {},
          "output_type": "execute_result"
        }
      ],
      "source": [
        "fies2020['UF'].value_counts()"
      ]
    },
    {
      "cell_type": "markdown",
      "metadata": {
        "id": "Fd49yhF1czpM"
      },
      "source": [
        "Este campo está coerente, de forma que mais tratamentos não são necessários"
      ]
    },
    {
      "cell_type": "markdown",
      "metadata": {
        "id": "hsz5H6ReYZ6y"
      },
      "source": [
        "### Analisando Área do conhecimento "
      ]
    },
    {
      "cell_type": "markdown",
      "metadata": {
        "id": "9XlxM42xieKo"
      },
      "source": [
        "Primeiramente são avaliados os tipos de valores diferentes informados para este campo, por meio do comando \"unique\""
      ]
    },
    {
      "cell_type": "code",
      "execution_count": 60,
      "metadata": {
        "colab": {
          "base_uri": "https://localhost:8080/"
        },
        "id": "s6o3RMLdYZ6y",
        "outputId": "1defddac-400c-48bf-eedc-c532c0af711c"
      },
      "outputs": [
        {
          "data": {
            "text/plain": [
              "array(['CURSOS DA ÁREA DE LICENCIATURA, PEDAGOGIA E NORMAL SUPERIOR',\n",
              "       'CURSOS NAO PRIORITARIOS', 'CURSOS DA AREA DE SAUDE',\n",
              "       'CURSOS DA ÁREA DE ENGENHARIA E CIÊNCIA DA COMPUTAÇÃO'],\n",
              "      dtype=object)"
            ]
          },
          "execution_count": 60,
          "metadata": {},
          "output_type": "execute_result"
        }
      ],
      "source": [
        "fies2020['Área do conhecimento'].unique()"
      ]
    },
    {
      "cell_type": "markdown",
      "metadata": {
        "id": "Aokdr8EkiftS"
      },
      "source": [
        "Para visualizar a distribuição destes valores, o comando \"value_counts\" foi utilizado"
      ]
    },
    {
      "cell_type": "code",
      "execution_count": 61,
      "metadata": {
        "colab": {
          "base_uri": "https://localhost:8080/"
        },
        "id": "vpsql2udYZ6z",
        "outputId": "78d5e2e7-b71a-453d-be0e-f0003e5d44aa"
      },
      "outputs": [
        {
          "data": {
            "text/plain": [
              "CURSOS DA AREA DE SAUDE                                        92057\n",
              "CURSOS NAO PRIORITARIOS                                        69331\n",
              "CURSOS DA ÁREA DE ENGENHARIA E CIÊNCIA DA COMPUTAÇÃO           15283\n",
              "CURSOS DA ÁREA DE LICENCIATURA, PEDAGOGIA E NORMAL SUPERIOR     5754\n",
              "Name: Área do conhecimento, dtype: int64"
            ]
          },
          "execution_count": 61,
          "metadata": {},
          "output_type": "execute_result"
        }
      ],
      "source": [
        "fies2020['Área do conhecimento'].value_counts()"
      ]
    },
    {
      "cell_type": "markdown",
      "metadata": {
        "id": "TdAwNf4xc1jb"
      },
      "source": [
        "Este campo está coerente, de forma que mais tratamentos não são necessários"
      ]
    },
    {
      "cell_type": "markdown",
      "metadata": {
        "id": "Rreg3O2BYZ6z"
      },
      "source": [
        "### Analisando Subárea do conhecimento"
      ]
    },
    {
      "cell_type": "markdown",
      "metadata": {
        "id": "2A9GDA7RihPA"
      },
      "source": [
        "Primeiramente são avaliados os tipos de valores diferentes informados para este campo, por meio do comando \"unique\""
      ]
    },
    {
      "cell_type": "code",
      "execution_count": 62,
      "metadata": {
        "colab": {
          "base_uri": "https://localhost:8080/"
        },
        "id": "aCakkSaKYZ6z",
        "outputId": "d624de08-19de-47b2-9451-b5a158b42c0e"
      },
      "outputs": [
        {
          "data": {
            "text/plain": [
              "array(['ARTES, CIÊNCIAS SOCIAIS E CURSOS RELACIONADOS', 'PEDAGOGIA',\n",
              "       'HISTÓRIA (LIC), GEOGRAFIA (LIC), EDUCAÇÃO FÍSICA (LIC) E CURSOS RELACIONADOS',\n",
              "       'DIREITO, COMÉRCIO EXTERIOR, BIBLIOTECONOMIA E CURSOS RELACIONADOS',\n",
              "       'SERVIÇO SOCIAL, FONOAUDIOLOGIA, TERAPIA OCUPACIONAL E CURSOS RELACIONADOS',\n",
              "       'CIÊNCIAS BIOLÓGICAS (BEL), BIOMEDICINA, BIOTECNOLOGIA E CURSOS RELACIONADOS',\n",
              "       'ENGENHARIA CIVIL E AMBIENTAL, ARQUITETURA E CURSOS RELACIONADOS',\n",
              "       'CIÊNCIA DA COMPUTAÇÃO E SISTEMAS DE INFORMAÇÃO E CURSOS RELACIONADOS',\n",
              "       'CIÊNCIAS SOCIAIS, POLÍTICAS, ECONÔMICAS E CONTÁBEIS, PSICOLOGIA E SECRETARIADO',\n",
              "       'ENFERMAGEM, FISIOTERAPIA, FARMÁCIA, NUTRIÇÃO E CURSOS RELACIONADOS',\n",
              "       'MEDICINA',\n",
              "       'ODONTOLOGIA, QUIROPRAXIA, FÍSICA MÉDICA E NATUROLOGIA',\n",
              "       'ENGENHARIA ELÉTRICA, ELETRÔNICA, DA COMPUTAÇÃO E CURSOS RELACIONADOS',\n",
              "       'ENGENHARIA MECÂNICA, AERONÁUTICA, NAVAL E CURSOS RELACIONADOS',\n",
              "       'ENGENHARIA QUÍMICA, DE ALIMENTOS, DE PETRÓLEO E CURSOS RELACIONADOS',\n",
              "       'ADMINISTRAÇÃO, ADMINISTRAÇÃO PÚBLICA, GESTÃO, LOGÍSTICA, NEGÓCIOS E CURSOS RELACIONADOS',\n",
              "       'COMUNICAÇÃO SOCIAL, JORNALISMO, PUBLICIDADE, MARKETING E CURSOS RELACIONADOS',\n",
              "       'LETRAS - IDIOMAS, FÍSICA (LIC), QUÍMICA (LIC) E CURSOS RELACIONADOS',\n",
              "       'MEDICINA VETERINÁRIA',\n",
              "       'ENGENHARIA DE PRODUÇÃO, DE MATERIAIS E CURSOS RELACIONADOS',\n",
              "       'AGRONOMIA, ZOOTECNIA, ENGENHARIA FLORESTAL E CURSOS RELACIONADOS',\n",
              "       'HOTELARIA E TURISMO, GASTRONOMIA E CURSOS RELACIONADOS',\n",
              "       'COMUNICAÇÃO, DESIGN, AUDIO VISUAL E CURSOS RELACIONADOS',\n",
              "       'MÚSICA, FOTOGRAFIA, PRODUÇÃO MULTIMÍDIA E CURSOS RELACIONADOS',\n",
              "       'FÍSICA (BEL), QUÍMICA (BEL), MATEMÁTICA (BEL), GEOGRAFIA (BEL) E CURSOS RELACIONADOS',\n",
              "       'DANÇA, TEOLOGIA, MÍDIAS SOCIAIS, DESIGN DE INTERIORES E CURSOS RELACIONADOS',\n",
              "       'MODA, DESENHO INDUSTRIAL, MUSEOLOGIA, CINEMA E CURSOS RELACIONADOS',\n",
              "       'TRADUÇÃO E INTERPRETAÇÃO, ARQUEOLOGIA, RÁDIO, TV E INTERNET E CURSOS RELACIONADOS',\n",
              "       'ESTÉTICA E COSMÉTICA, GESTÃO DO ESPORTE E CURSOS RELACIONADOS',\n",
              "       'CIÊNCIAS AERONÁUTICAS E CURSOS RELACIONADOS',\n",
              "       'BIOLOGIA (LIC), MATEMÁTICA (LIC), LETRAS-PORTUGUÊS E CURSOS RELACIONADOS',\n",
              "       'ENGENHARIA DE SEGURANÇA DO TRABALHO, GESTÃO EM SAÚDE E CURSOS RELACIONADOS',\n",
              "       'AGRONEGÓCIO, AGROINDÚSTRIA E CURSOS RELACIONADOS'], dtype=object)"
            ]
          },
          "execution_count": 62,
          "metadata": {},
          "output_type": "execute_result"
        }
      ],
      "source": [
        "fies2020['Subárea do conhecimento'].unique()"
      ]
    },
    {
      "cell_type": "markdown",
      "metadata": {
        "id": "BUDLGqGiijfh"
      },
      "source": [
        "Para visualizar a distribuição destes valores, o comando \"value_counts\" foi utilizado"
      ]
    },
    {
      "cell_type": "code",
      "execution_count": 63,
      "metadata": {
        "colab": {
          "base_uri": "https://localhost:8080/"
        },
        "id": "tE2EbB8XYZ6z",
        "outputId": "50c2fc8c-50cd-4712-8149-7036a99dffa9"
      },
      "outputs": [
        {
          "data": {
            "text/plain": [
              "ENFERMAGEM, FISIOTERAPIA, FARMÁCIA, NUTRIÇÃO E CURSOS RELACIONADOS                         38674\n",
              "MEDICINA                                                                                   37703\n",
              "DIREITO, COMÉRCIO EXTERIOR, BIBLIOTECONOMIA E CURSOS RELACIONADOS                          26842\n",
              "CIÊNCIAS SOCIAIS, POLÍTICAS, ECONÔMICAS E CONTÁBEIS, PSICOLOGIA E SECRETARIADO             15798\n",
              "ODONTOLOGIA, QUIROPRAXIA, FÍSICA MÉDICA E NATUROLOGIA                                      13288\n",
              "ADMINISTRAÇÃO, ADMINISTRAÇÃO PÚBLICA, GESTÃO, LOGÍSTICA, NEGÓCIOS E CURSOS RELACIONADOS     8698\n",
              "ENGENHARIA CIVIL E AMBIENTAL, ARQUITETURA E CURSOS RELACIONADOS                             6912\n",
              "MEDICINA VETERINÁRIA                                                                        6480\n",
              "CIÊNCIAS BIOLÓGICAS (BEL), BIOMEDICINA, BIOTECNOLOGIA E CURSOS RELACIONADOS                 4483\n",
              "CIÊNCIA DA COMPUTAÇÃO E SISTEMAS DE INFORMAÇÃO E CURSOS RELACIONADOS                        3184\n",
              "HISTÓRIA (LIC), GEOGRAFIA (LIC), EDUCAÇÃO FÍSICA (LIC) E CURSOS RELACIONADOS                2881\n",
              "COMUNICAÇÃO SOCIAL, JORNALISMO, PUBLICIDADE, MARKETING E CURSOS RELACIONADOS                2452\n",
              "SERVIÇO SOCIAL, FONOAUDIOLOGIA, TERAPIA OCUPACIONAL E CURSOS RELACIONADOS                   2392\n",
              "PEDAGOGIA                                                                                   2158\n",
              "ENGENHARIA ELÉTRICA, ELETRÔNICA, DA COMPUTAÇÃO E CURSOS RELACIONADOS                        2095\n",
              "ENGENHARIA DE PRODUÇÃO, DE MATERIAIS E CURSOS RELACIONADOS                                  1522\n",
              "ESTÉTICA E COSMÉTICA, GESTÃO DO ESPORTE E CURSOS RELACIONADOS                               1287\n",
              "ENGENHARIA MECÂNICA, AERONÁUTICA, NAVAL E CURSOS RELACIONADOS                               1268\n",
              "AGRONOMIA, ZOOTECNIA, ENGENHARIA FLORESTAL E CURSOS RELACIONADOS                             867\n",
              "HOTELARIA E TURISMO, GASTRONOMIA E CURSOS RELACIONADOS                                       801\n",
              "COMUNICAÇÃO, DESIGN, AUDIO VISUAL E CURSOS RELACIONADOS                                      702\n",
              "LETRAS - IDIOMAS, FÍSICA (LIC), QUÍMICA (LIC) E CURSOS RELACIONADOS                          481\n",
              "DANÇA, TEOLOGIA, MÍDIAS SOCIAIS, DESIGN DE INTERIORES E CURSOS RELACIONADOS                  360\n",
              "ENGENHARIA QUÍMICA, DE ALIMENTOS, DE PETRÓLEO E CURSOS RELACIONADOS                          302\n",
              "MODA, DESENHO INDUSTRIAL, MUSEOLOGIA, CINEMA E CURSOS RELACIONADOS                           209\n",
              "ARTES, CIÊNCIAS SOCIAIS E CURSOS RELACIONADOS                                                176\n",
              "CIÊNCIAS AERONÁUTICAS E CURSOS RELACIONADOS                                                  117\n",
              "MÚSICA, FOTOGRAFIA, PRODUÇÃO MULTIMÍDIA E CURSOS RELACIONADOS                                100\n",
              "ENGENHARIA DE SEGURANÇA DO TRABALHO, GESTÃO EM SAÚDE E CURSOS RELACIONADOS                    91\n",
              "BIOLOGIA (LIC), MATEMÁTICA (LIC), LETRAS-PORTUGUÊS E CURSOS RELACIONADOS                      58\n",
              "FÍSICA (BEL), QUÍMICA (BEL), MATEMÁTICA (BEL), GEOGRAFIA (BEL) E CURSOS RELACIONADOS          26\n",
              "AGRONEGÓCIO, AGROINDÚSTRIA E CURSOS RELACIONADOS                                              10\n",
              "TRADUÇÃO E INTERPRETAÇÃO, ARQUEOLOGIA, RÁDIO, TV E INTERNET E CURSOS RELACIONADOS              8\n",
              "Name: Subárea do conhecimento, dtype: int64"
            ]
          },
          "execution_count": 63,
          "metadata": {},
          "output_type": "execute_result"
        }
      ],
      "source": [
        "fies2020['Subárea do conhecimento'].value_counts()"
      ]
    },
    {
      "cell_type": "markdown",
      "metadata": {
        "id": "CUmur7l_c8d7"
      },
      "source": [
        "Este campo está coerente, de forma que mais tratamentos não são necessários."
      ]
    },
    {
      "cell_type": "markdown",
      "metadata": {
        "id": "aDBowDB-YZ60"
      },
      "source": [
        "### Analisando Nome mantenedora"
      ]
    },
    {
      "cell_type": "markdown",
      "metadata": {
        "id": "PXsg31BsirEJ"
      },
      "source": [
        "Primeiramente são avaliados os tipos de valores diferentes informados para este campo, por meio do comando \"unique\""
      ]
    },
    {
      "cell_type": "code",
      "execution_count": 64,
      "metadata": {
        "colab": {
          "base_uri": "https://localhost:8080/"
        },
        "id": "Is7fDab6YZ60",
        "outputId": "7c6d01d5-c049-4265-e779-5873a9f517d0"
      },
      "outputs": [
        {
          "data": {
            "text/plain": [
              "array(['ASSOCIACAO PARANAENSE DE CULTURA - APC',\n",
              "       'CENTRO DE EDUCACAO TECNICA E CULTURAL',\n",
              "       'FUNDACAO UNIVERSIDADE DE CAXIAS DO SUL',\n",
              "       'SOCIEDADE CAMPINEIRA DE EDUCACAO E INSTRUCAO',\n",
              "       'FUNDACAO COMUNITARIA TRICORDIANA DE EDUCACAO',\n",
              "       'FUNDACAO DE ENSINO E TECNOLOGIA DE ALFENAS',\n",
              "       'FUNDACAO DE ENSINO E PESQUISA DE ITAJUBA',\n",
              "       'FUNDACAO EDUCACIONAL DE BARRETOS',\n",
              "       'FUNDACAO EDUCACIONAL DE PENAPOLIS',\n",
              "       'AUTARQUIA DE ENSINO SUPERIOR DE ARCOVERDE',\n",
              "       'FUNDACAO MUNICIPAL DE ENSINO SUPERIOR DE CONS LAFAIETE',\n",
              "       'FUNDACAO CULTURAL DE ARAXA',\n",
              "       'FUNDACAO EDUCACIONAL MONSENHOR MESSIAS',\n",
              "       'SOCIEDADE DE ENSINO SUPERIOR TOLEDO LTDA.',\n",
              "       'ASSOCIACAO SAO BENTO DE ENSINO',\n",
              "       'FUNDACAO INSTITUTO NACIONAL DE TELECOMUNICACOES',\n",
              "       'INSTITUICAO EDUCACIONAL ATIBAIENSE LIMITADA',\n",
              "       'ORGANIZACAO EDUCACIONAL BARAO DE MAUA',\n",
              "       'ASSOCIACAO INSTRUTORA MISSIONARIA',\n",
              "       'SOCIEDADE ASSISTENCIAL DE EDUCACAO E CULTURA',\n",
              "       'FUNDACAO DOM AGUIRRE', 'FUNDACAO VISCONDE DE CAIRU',\n",
              "       'FUNDACAO MINEIRA DE EDUCACAO E CULTURA',\n",
              "       'SOCIEDADE CIVIL CONSERVATORIO BRASILEIRO DE MUSICA',\n",
              "       'SOCIEDADE DE ENSINO SUPERIOR ESTACIO DE SA LTDA',\n",
              "       'SOCIEDADE DE EDUCACAO NOSSA SENHORA DO PATROCINIO S/S LTDA',\n",
              "       'ANTARES EDUCACIONAL S.A.',\n",
              "       'INSTITUTO METODISTA DE ENSINO SUPERIOR',\n",
              "       'CENTRO EDUCACIONAL DE REALENGO',\n",
              "       'ASSOCIACAO CARUARUENSE DE ENSINO SUPERIOR - ASCES',\n",
              "       'FUNDACAO DE ESTUDOS SOCIAIS DO PARANA',\n",
              "       'AMC - SERVICOS EDUCACIONAIS LTDA',\n",
              "       'INSTITUTO ADVENTISTA DE ENSINO',\n",
              "       'INSTITUICAO EDUCACIONAL PROFESSOR PASQUALE CASCINO',\n",
              "       'ASSOCIACAO DE ENSINO DE RIBEIRAO PRETO', 'FUNDACAO SANTO ANDRE',\n",
              "       'FUNDACAO EDUCACIONAL UNIFICADA CAMPOGRANDENSE',\n",
              "       'FUNDACAO ESCOLA DE COMERCIO ALVARES PENTEADO - FECAP',\n",
              "       'INSTITUTO METODISTA IZABELA HENDRIX',\n",
              "       'CRUZEIRO DO SUL EDUCACIONAL S.A.',\n",
              "       'FUNDACAO EDUCACIONAL DE VOTUPORANGA',\n",
              "       'INSTITUTO EDUCACIONAL OSWALDO QUIRINO LTDA',\n",
              "       'FUNDACAO DE ENSINO OCTAVIO BASTOS',\n",
              "       'FUNDACAO PINHALENSE DE ENSINO',\n",
              "       'FUNDACAO EDUCACIONAL MIGUEL MOFARREJ',\n",
              "       'INSTITUTO EDUCACIONAL PIRACICABANO DA IGREJA METODISTA',\n",
              "       'FUNDACAO DE ASSISTENCIA E EDUCACAO - FAESA',\n",
              "       'INSTITUICAO DOM BOSCO DE ENSINO E CULTURA LTDA',\n",
              "       'ASSOCIACAO PRUDENTINA DE EDUCACAO E CULTURA APEC',\n",
              "       'FUNDACAO VALEPARAIBANA DE ENSINO',\n",
              "       'SOCIEDADE UNIFICADA DE ENSINO AUGUSTO MOTTA',\n",
              "       'ORGANIZACAO BRASILEIRA DE CULTURA E EDUCACAO ORBRACE',\n",
              "       'SOCIEDADE EDUCACIONAL TRES DE MAIO',\n",
              "       'ASSOCIACAO PRO ENSINO EM SANTA CRUZ DO SUL',\n",
              "       'FUNDACAO ATTILA TABORDA',\n",
              "       'INSTITUICAO EDUCACIONAL SAO JUDAS TADEU',\n",
              "       'FUNDACAO EDUCACIONAL DE FORMIGA-MG - FUOM',\n",
              "       'INSTITUTO ENSINAR BRASIL', 'FUNDACAO PRESIDENTE ANTONIO CARLOS',\n",
              "       'ASSOCIACAO EDUCACIONAL NOVE DE JULHO',\n",
              "       'INSTITUTO VIANNA JUNIOR LTDA',\n",
              "       'ASSOCIACAO DE ENSINO SUPERIOR DE NOVA IGUACU',\n",
              "       'ASSOCIACAO PROPAGADORA ESDEVA',\n",
              "       'INSTITUTO CULTURAL NEWTON PAIVA FERREIRA LTDA',\n",
              "       'FUNDACAO EDUCACIONAL MINAS GERAIS',\n",
              "       'ASSOCIACAO LIMEIRENSE DE EDUCACAO ALIE', 'IPE EDUCACIONAL LTDA',\n",
              "       'SET SOCIEDADE CIVIL EDUCACIONAL TUIUTI LIMITADA',\n",
              "       'FUNDACAO COMUNITARIA EDUCACIONAL E CULTURAL PATROCINIO',\n",
              "       'FUNDACAO ESCOLA DE SOCIOLOGIA E POLITICA DE SAO PAULO',\n",
              "       'FACULDADES METROPOLITANAS UNIDAS EDUCACIONAIS LTDA.',\n",
              "       'ASSOCIACAO EDUCATIVA EVANGELICA',\n",
              "       'FACS SERVICOS EDUCACIONAIS LTDA',\n",
              "       'MISSAO SALESIANA DE MATO GROSSO',\n",
              "       'FUNDACAO EDUCACIONAL DR RAUL BAUAB-JAHU',\n",
              "       'ABEP - ACADEMIA BAIANA DE ENSINO PESQUISA E EXTENSAO LTDA',\n",
              "       'SOCIEDADE DE EDUCACAO TIRADENTES S.A',\n",
              "       'AESO-ENSINO SUPERIOR DE OLINDA LTDA',\n",
              "       'CENTRO DE ENSINO UNIFICADO DE BRASILIA CEUB',\n",
              "       'UNIAO BRASILEIRA DE EDUCACAO CATOLICA',\n",
              "       'UNIAO PIONEIRA DE INTEGRACAO SOCIAL',\n",
              "       'SECID - SOCIEDADE EDUCACIONAL CIDADE DE SAO PAULO LTDA',\n",
              "       'ASSOCIACAO DE ENSINO DE MARILIA LTDA',\n",
              "       'FUNDACAO REGIONAL INTEGRADA',\n",
              "       'FUNDACAO EDUCACIONAL MACHADO DE ASSIS',\n",
              "       'INSTITUTO FILADELFIA DE LONDRINA',\n",
              "       'INSTITUTO PORTO ALEGRE DA IGREJA METODISTA',\n",
              "       'ASSOCIACAO PARANAENSE DE ENSINO E CULTURA',\n",
              "       'FUNDACAO EDUCACIONAL DE ITUVERAVA',\n",
              "       'OSAC - ORGANIZACAO SOROCABANA DE ASSISTENCIA E CULTURA LTDA.',\n",
              "       'FUNDACAO UNIVERSIDADE DE CRUZ ALTA',\n",
              "       'SOCIEDADE DE EDUCACAO RITTER DOS REIS LTDA.',\n",
              "       'INSTITUTO SANTANENSE DE ENSINO SUPERIOR',\n",
              "       'FUNDACAO ARMANDO ALVARES PENTEADO',\n",
              "       'ISCP - SOCIEDADE EDUCACIONAL LTDA.',\n",
              "       'INSTITUTO DE EDUCACAO UNICURITIBA LTDA',\n",
              "       'COMPANHIA NILZA CORDEIRO HERDY DE EDUCACAO E CULTURA',\n",
              "       'ASSOCIACAO EDUCACIONAL DOM BOSCO', 'FUNDACAO OCTACILIO GUALBERTO',\n",
              "       'SOCIEDADE GUARULHENSE DE EDUCACAO', 'FUNDACAO OSWALDO ARANHA',\n",
              "       'FUNDACAO UNIVERSIDADE DO SUL DE SANTA CATARINA-UNISUL',\n",
              "       'ACEF S/A.', 'INSTITUTO DE EDUCACAO E CULTURA UNIMONTE S/A',\n",
              "       'FUNDACAO CULTURAL DE CAMPOS', 'CENTRO REGIONAL DE CULTURA',\n",
              "       'FUNDACAO EDUCACIONAL GUAXUPE', 'FUNDACAO PERCIVAL FARQUHAR',\n",
              "       'SOBEU - ASSOCIACAO BARRAMANSENSE DE ENSINO',\n",
              "       'ASSOCIACAO JABOTICABALENSE DE EDUCACAO E CULTURA',\n",
              "       'CENTRO DE ENSINO UNIFICADO DO DISTRITO FEDERAL LTDA',\n",
              "       'ASSOCIACAO UNIVERSITARIA E CULTURAL DA BAHIA',\n",
              "       'ORGANIZACAO MOGIANA DE EDUCACAO E CULTURA SOCIEDADE SIMPLES LIMITADA',\n",
              "       'INSTITUTO SUPERIOR DE ENSINO CELSO LISBOA',\n",
              "       'SOCIEDADE EDUCACIONAL BRAZ CUBAS LTDA.',\n",
              "       'SOCIEDADE GOIANA DE CULTURA',\n",
              "       'ASSOCIACAO DO ENSINO SUPERIOR DA VITORIA DE STO ANTAO',\n",
              "       'FUNDACAO DE INTEGRACAO, DESENVOLVIMENTO E EDUCACAO DO NOROESTE DO ESTADO DO RIO GRANDE DO SUL - FIDENE',\n",
              "       'FUNDACAO SAO PAULO', 'FUNDACAO EDUCACIONAL DE CARATINGA FUNEC',\n",
              "       'FUNDACAO EDSON QUEIROZ',\n",
              "       'ASSOCIACAO EDUCACIONAL PRESIDENTE KENNEDY',\n",
              "       'FUNDACAO EDUCACIONAL JAYME DE ALTAVILA-FEJAL',\n",
              "       'CAMPANHA NACIONAL DE ESCOLAS DA COMUNIDADE',\n",
              "       'FUNDACAO EDUCACIONAL COMUNITARIA DE S S PARAISO MG',\n",
              "       'ASSOCIACAO ESCOLA SUPERIOR DE PROPAGANDA E MARKETING',\n",
              "       'CENTRO EDUCACIONAL DE FORMACAO SUPERIOR LTDA - CEFOS',\n",
              "       'ASSOCIACAO DE ENSINO E CULTURA PIO DECIMO LTDA',\n",
              "       'ASSOCIACAO SALGADO DE OLIVEIRA DE EDUCACAO E CULTURA',\n",
              "       'SOC EDUC DO ESP SANTO UNIDADE DE V VELHA ENSINO SUPERIO',\n",
              "       'UNIVERSIDADE DE TAUBATE',\n",
              "       'ASSOCIACAO JACAREPAGUA DE ENSINO SUPERIOR',\n",
              "       'SOCIEDADE AMAZONENSE DE EDUCACAO E CULTURA LTDA - SAMEC.',\n",
              "       'ASSOCIACAO CULTURAL DE RENOVACAO TECNOLOGICA SOROCABANA',\n",
              "       'UNIGRAN EDUCACIONAL',\n",
              "       'AUTARQUIA BELEMITA DE CULTURA DESPORTOS E EDUCACAO',\n",
              "       'UNIAO EDUCACIONAL DO PLANALTO CENTRAL S.A',\n",
              "       'FUNDACAO EDUCACIONAL PRESIDENTE CASTELO BRANCO',\n",
              "       'FUNDACAO EDUCACIONAL ENCOSTA INFERIOR DO NORDESTE',\n",
              "       'AUTARQUIA EDUCACIONAL DO VALE DO SAO FRANCISCO',\n",
              "       'AUTARQUIA DO ENSINO SUPERIOR DE GARANHUNS AESGA',\n",
              "       'SOCIEDADE DE EDUCACAO E ASSISTENCIA REALENGO - SEARA',\n",
              "       'INSTITUTO BRASILEIRO DE MEDICINA DE REABILITACAO LTDA',\n",
              "       'APEC - SOCIEDADE POTIGUAR DE EDUCACAO E CULTURA LTDA',\n",
              "       'OBRAS SOCIAIS E EDUCACIONAIS DE LUZ',\n",
              "       'FUNDACAO EDUCACIONAL DE FERNANDOPOLIS',\n",
              "       'ASSOCIACAO PIAUIENSE DE EDUCACAO E CULTURA LTDA - APEC',\n",
              "       'FUNDACAO UNIRG', 'ASSOBES ENSINO SUPERIOR LTDA.',\n",
              "       'SOCIEDADE EMPRESARIA DE ENSINO SUPERIOR DO LITORAL NORTE LTDA',\n",
              "       'SOCIEDADE EDUCACIONAL DE RONDONIA S/S LTDA',\n",
              "       'SOCIEDADE BENEF ISRAELITABRAS HOSPITAL ALBERT EINSTEIN',\n",
              "       'SERVICO NACIONAL DE APRENDIZAGEM COMERCIAL SENAC',\n",
              "       'IREP SOCIEDADE DE ENSINO SUPERIOR, MEDIO E FUNDAMENTAL LTDA.',\n",
              "       'INSTITUICAO EDUCACIONAL MATOGROSSENSE-IEMAT',\n",
              "       'ASSOCIACAO EDUCACIONAL DO VALE DO SAO LOURENCO S/S LTDA - EPP',\n",
              "       'ASSOCIACAO CARIOCA DE ENSINO SUPERIOR',\n",
              "       'ASSOCIACAO EDUCACIONAL DE ENSINO SUPERIOR',\n",
              "       'UNIMEO-UNIAO EDUCACIONAL DO MEDIO OESTE PARANAENSE LTDA - EPP',\n",
              "       'CESUMAR - CENTRO DE ENSINO SUPERIOR DE MARINGA LTDA',\n",
              "       'FUNDACAO DE ENSINO SUPERIOR DE GOIATUBA',\n",
              "       'SEAR - SOCIEDADE EDUCACIONAL DO ARAGUAIA LTDA',\n",
              "       'MITRA ARQUIDIOCESANA DE DIAMANTINA',\n",
              "       'AVIES ENSINO SUPERIOR DE VITORIA LTDA.',\n",
              "       'SOCIEDADE CULTURAL E EDUCACIONAL DE GARCA S/S LTDA',\n",
              "       'AESPI ENSINO SUPERIOR DO PIAUI LTDA.',\n",
              "       'ASPER ENSINO SUPERIOR DA PARAIBA LTDA.',\n",
              "       'ACESC ENSINO SUPERIOR DE CAMPINAS LTDA.',\n",
              "       'UNIAO PARANAENSE DE ENSINO E CULTURA -UNIPEC',\n",
              "       'ASSOCIACAO AMAPAENSE DE ENSINO E CULTURA',\n",
              "       'AEI ENSINO SUPERIOR DE IGUACU LTDA.',\n",
              "       'FUNDACAO EDUCACIONAL DO MUNICIPIO DE ASSIS',\n",
              "       'PREFEITURA MUNICIPAL DE BEBEDOURO',\n",
              "       'ASSOCIACAO DE ENSINO E CULTURA DE MATO GROSSO DO SUL',\n",
              "       'ASSESC-SOCIEDADE EDUCACIONAL DE SANTA CATARINA LTDA',\n",
              "       'ASSOCIACAO DE EDUCACAO SANTA RITA DE CASSIA',\n",
              "       'AESA ENSINO SUPERIOR DE ALAGOAS LTDA.',\n",
              "       'CENTRO DE ENSINO UNIFICADO DE TERESINA',\n",
              "       'UNIAO EDUCACIONAL DE CASCAVEL - UNIVEL LTDA',\n",
              "       'ASSOCIACAO DE ENSINO SUPERIOR DE SAO ROQUE',\n",
              "       'SOCIEDADE DE DESENVOLVIMENTO CULTURAL DO AMAZONAS S.A. - SODECAM',\n",
              "       'SOCIEDADE DE ENSINO SUPERIOR DE VITORIA LTDA',\n",
              "       'INSTITUTO SUPERIOR DE EDUCACAO SANTA CECILIA',\n",
              "       'UNIFLOR-UNIAO DAS FACULDADES DE ALTA FLORESTA',\n",
              "       'INSTITUICAO CULTURAL E EDUCACIONAL DE IVAIPORA',\n",
              "       'INSTITUICAO TOLEDO DE ENSINO',\n",
              "       'AUTARQUIA EDUCACIONAL DE AFOGADOS DA INGAZEIRA-AEDAI',\n",
              "       'UNISEPE UNIAO DAS INSTITUICOES DE SERVICO, ENSINO E PESQUISA LTDA',\n",
              "       'ASSOCIACAO DE ENSINO SUPERIOR SANTA TEREZINHA',\n",
              "       'FUCAPI FUND CENTRO DE ANALISE PESQ E INOV TECNOLOGICA',\n",
              "       'ABES - SOCIEDADE BAIANA DE ENSINO SUPERIOR LTDA',\n",
              "       'CESB - CENTRO DE EDUCACAO SUPERIOR DE BRASILIA LTDA',\n",
              "       'CENTRO DE CIENCIAS DE JUSSARA LTDA - EPP',\n",
              "       'SOCIEDADE DE ENSINO SUPERIOR DA PARAIBA SOCIEDADE SIMPLES LTDA',\n",
              "       'FUNDACAO DE ENSINO SUPERIOR DE CAJAZEIRAS',\n",
              "       'INSTITUTO METODISTA CENTENARIO',\n",
              "       'SOCIEDADE DE PESQUISA EDUCACAO E CULTURA, DR. APARICIO CARVALHO DE MORAES LTDA',\n",
              "       'SOCIEDADE EDUCACIONAL E CULTURAL SERGIPE DEL REY LTDA',\n",
              "       'SOCIEDADE EDUCACIONAL E CULTURAL DE SABARA',\n",
              "       'INSTITUTO EURO AMERICANO DE EDUCACAO CIENCIA TECNOLOGIA',\n",
              "       'ASSOCIACAO DE PAIS E AMIGOS DOS EXCEPCIONAIS DE S LUIZ',\n",
              "       'INSTITUTO SANTA TERESA',\n",
              "       'FUNDACAO COMUNITARIA DE ENSINO SUPERIOR DE ITABIRA',\n",
              "       'ACAO EDUCACIONAL CLARETIANA',\n",
              "       'ASSOCIACAO TERESINENSE DE ENSINO S/C LTDA',\n",
              "       'GRUPO EDUCACIONAL SUPERIOR CEV LTDA',\n",
              "       'ASSOCIACAO DE CULTURA E EDUCACAO SANTA TERESA',\n",
              "       'ASSOCIACAO EDUCACIONAL DE VITORIA',\n",
              "       'ASSOCIACAO DE ENSINO E PESQUISA GRACCHO CARDOSO S/C LTDA',\n",
              "       'CENTRO TECNOLOGICO CAMBURY LTDA',\n",
              "       'SOCIEDADE EDUCACIONAL DO RIO GRANDE DO SUL',\n",
              "       'ASBEC - SOCIEDADE BAIANA DE EDUCACAO E CULTURA S/A',\n",
              "       'ENTIDADE MANTENEDORA DE ENSINO SANTA RITA LTDA',\n",
              "       'ANEC - SOCIEDADE NATALENSE DE EDUCACAO E CULTURA LTDA',\n",
              "       'SOCIEDADE EDUCACIONAL LEONARDO DA VINCI S/S LTDA',\n",
              "       'CIESPT ENSINO SUPERIOR DE ITAPETININGA LTDA.',\n",
              "       'INSTITUTO AVANCADO DE ENSINO SUPERIOR DE BARREIRAS - IAESB',\n",
              "       'ASSOCIACAO EDUCACIONAL NOSSA SENHORA APARECIDA - AENSA',\n",
              "       'ASS. DE ENSINO INTEGRADO E ORGANIZADO UNIVERSITARIO',\n",
              "       'EMPRESA BRASILEIRA DE ENSINO PESQUISA E EXTENSAO S/A - MULTIVIX',\n",
              "       'MULTIVIX CACHOEIRO  ENSINO, PESQUISA E EXTENSAO LTDA',\n",
              "       'INSTITUTO METODISTA GRANBERY',\n",
              "       'CENTRO DE ENSINO SUPERIOR DE CASCAVEL LTDA',\n",
              "       'OPET ORGANIZACAO PARANAENSE DE ENSINO TECNICO LTDA',\n",
              "       'LIGA DE ENSINO DO RIO GRANDE DO NORTE',\n",
              "       'AESGF ENSINO SUPERIOR DA GRANDE FLORIANOPOLIS LTDA',\n",
              "       'SOCIEDADE DE ENSINO SUPERIOR ESTACIO RIBEIRAO PRETO LTDA',\n",
              "       'INSTITUTO DE ENSINO CAMPO LIMPO PAULISTA LTDA',\n",
              "       'AESJC ENSINO SUPERIOR DE SAO JOSE DOS CAMPOS LTDA.',\n",
              "       'SOCIEDADE CULTURAL E EDUCACIONAL DE ITAPEVA S/S LTDA',\n",
              "       'CRUZADA MARANATA DE EVANGELIZACAO',\n",
              "       'INSTITUTO DE ENSINO SUPERIOR JUVENCIO TERRA LTDA - ME',\n",
              "       'INSTITUTO TECSOMA LTDA - ITEC',\n",
              "       'ASSOCIACAO EDUCACIONAL DO VALE DA JURUMIRIM',\n",
              "       'CESUAP CENTRO DE ENSINO SUPERIOR DE APUCARANA',\n",
              "       'SOEC SOCIEDADE OLINDENSE DE EDUCACAO E CULTURA',\n",
              "       'SOCIEDADE TECNICA EDUCACIONAL DE MINAS GERAIS LTDA',\n",
              "       'CESED - CENTRO DE ENSINO SUPERIOR E DESENVOLVIMENTO LTDA',\n",
              "       'FUNDACAO ASSIS GURGACZ', 'COLEGIO MATER DEI LTDA',\n",
              "       'SOCIEDADE DE EDUCACAO SUPERIOR E CULTURA - SOCIESC S.A.',\n",
              "       'ESCOLA DE EDUCACAO SUPERIOR SAO JORGE',\n",
              "       'FUNDACAO EDUCACIONAL DOM ORIONE',\n",
              "       'SEGOC - SOCIEDADE EDUCACIONAL GOVERNADOR OZANAM COELHO LTDA',\n",
              "       'INSTITUTO DE ENSINO SUPERIOR DA AMAZONIA LTDA',\n",
              "       'INSTITUICAO SINODAL DE ASSISTENCIA EDUCACAO E CULTURA',\n",
              "       'UNIAO DINAMICA DE FACULDADES CATARATAS UDC LTDA',\n",
              "       'CESCAGE CENTRO DE ENSINO SUPERIOR DOS CAMPOS GERAIS - ME',\n",
              "       'FUNDACAO DOIS DE JULHO', 'CENTRO DE ENSINO SAO LUCAS LTDA',\n",
              "       'SOCIEDADE EDUCACIONAL IDEAL LTDA',\n",
              "       'SOCIEDADE EDUCACIONAL SANTA RITA S.A.',\n",
              "       'CESC ENSINO SUPERIOR DE CAMPINAS LTDA.',\n",
              "       'E. DE L. E LIMA & CIA LTDA',\n",
              "       'SOCIEDADE TRINDADENSE DE EDUCACAO E CULTURA LTDA',\n",
              "       'ASSOCIACAO EDUCACIONAL TOLEDO',\n",
              "       'COMPLEXO DE ENSINO SUPERIOR DO BRASIL LTDA.',\n",
              "       'FUNDACAO CARMELITANA MARIO PALMERIO',\n",
              "       'ASSOCIACAO EDUCATIVA E CULTURAL MARIA EMILIA',\n",
              "       'IDEA - INSTITUTO DE DESENVOLVIMENTO EDUCACIONAL AVANCADO LTDA',\n",
              "       'UNIAO DE EDUCACAO E CULTURA-UNECE', 'INSPETORIA SAO JOAO BOSCO',\n",
              "       'UNINTER EDUCACIONAL S/A', 'DOM BOSCO ENSINO SUPERIOR LTDA.',\n",
              "       'UNIFAMMA - UNIAO DE FACULDADES METROPOLITANAS DE MARINGA LTDA',\n",
              "       'SOCIEDADE PIAUIENSE DE ENSINO SUPERIOR LTDA',\n",
              "       'FADEP - FACULDADE EDUCACIONAL DE PATO BRANCO LTDA',\n",
              "       'ORGANIZACAO PARAENSE EDUCACIONAL E DE EMPREENDIMENTOS LTDA',\n",
              "       'FATEB EDUCACAO INTEGRAL LTDA',\n",
              "       'FUNDACAO ASSISTENCIAL E EDUCATIVA CRISTA DE ARIQUEMES',\n",
              "       'FLAMINGO 2001 CURSO FUNDAMENTAL',\n",
              "       'BCEC - BRASIL CENTRAL DE EDUCACAO E CULTURA LTDA',\n",
              "       'COLEGIO SAO FRANCISCO',\n",
              "       'SOCIEDADE DE ENSINO SUPERIOR PIAUIENSE LTDA',\n",
              "       'EDUCADORA SETE DE SETEMBRO LTDA',\n",
              "       'ESCOLA SUPERIOR DE GESTAO DE NEGOCIOS LTDA',\n",
              "       'CENTRO DE ENSINO SUPERIOR DO EXTREMO SUL DA BAHIA LTDA',\n",
              "       'ASSOCIACAO APARECIDENSE DE EDUCACAO',\n",
              "       'DIRETIVA ADMINISTRADORA DE PARTICIPACOES LTDA',\n",
              "       'CENTRO TECNOLOGICO DE EDUCACAO SENA AIRES LTDA',\n",
              "       'SOCIEDADE PADRAO DE EDUCACAO SUPERIOR LTDA',\n",
              "       'UB UNISAOLUIS EDUCACIONAL S.A',\n",
              "       'SOCIEDADE EDUCACIONAL DA AMAZONIA LTDA',\n",
              "       'SOCIEDADE DE ENSINO SUPERIOR FENIX LTDA - ME',\n",
              "       'INSTITUTO POLITECNICO DE ENSINO LTDA.',\n",
              "       'IPTAN - INSTITUTO DE ENSINO SUPERIOR PRESIDENTE TANCREDO DE ALMEIDA NEVES S.A.',\n",
              "       'FUNORTE FACULDADES UNIDAS DO NORTE MINAS LTDA',\n",
              "       'ASSOCIACAO EDUCACIONAL DE COROMANDEL - AEC',\n",
              "       'CENTRO DE ENSINO TECNOLOGICO E SUPERIOR SS LTDA - EPP',\n",
              "       'INSTITUICAO ADVENTISTA SUL BRASILEIRA DE EDUCACAO',\n",
              "       'SOCIEDADE INTEGRAL DE ENSINO SOCIEDADE SIMPLES LTDA.',\n",
              "       'AGES EMPREENDIMENTOS EDUCACIONAIS LTDA',\n",
              "       'ASSOCIACAO BRASILEIRA DE EDUCACAO FAMILIAR E SOCIAL',\n",
              "       'SOCIEDADE CIENTIFICA E CULTURAL ANISIO TEIXEIRA LTDA',\n",
              "       'ASCEC ENSINO SUPERIOR CEARENSE LTDA',\n",
              "       'UNISEP-UNIAO DE ENSINO DO SUDOESTE DO PARANA S/C LTDA',\n",
              "       'CEUDESP - CENTRO DE EDUCACAO UNIVERSITARIO E DESENVOLVIMENTO PROFISSIONAL LTDA',\n",
              "       'IESST - INSTITUTO DE ENSINO SUPERIOR SOCIAL E TECNOLOGICO',\n",
              "       'CENTRO DE ENSINO SUPERIOR DE VESPASIANO LTDA',\n",
              "       'INSTITUTO NOVOS HORIZONTES DE ENSINO SUPERIOR E PESQUISA LTDA.',\n",
              "       'UNIAO EDUCACIONAL DO VALE DO ACO LTDA',\n",
              "       'INSTITUICAO EDUCACIONAL CECILIA MARIA DE MELO BARCELOS LTDA',\n",
              "       'FUNDACAO ESPERANCA',\n",
              "       'SOCIEDADE CULTURAL E EDUCACIONAL SANTA RITA DE CASSIA LTDA - ME',\n",
              "       'SOCIEDADE EDUCACIONAL MATER CHRISTI LTDA',\n",
              "       'INSTITUTO N S DA GLORIA',\n",
              "       'CENTRO DE ENSINO SUPERIOR PIAUIENSE LTDA',\n",
              "       'FACULDADES CATHEDRAL DE ENSINO SUPERIOR',\n",
              "       'UNIAO BRASILEIRA EDUCACIONAL LTDA.',\n",
              "       'ESUCRI - ESCOLA SUPERIOR DE CRICIUMA LTDA', 'FACEB EDUCACAO LTDA',\n",
              "       'ASSOCIACAO VITORIENSE DE EDUCACAO, CIENCIAS E CULTURA - AVEC',\n",
              "       'UB - CAMPO REAL EDUCACIONAL S.A.',\n",
              "       'SOCIEDADE RONDONIENSE DE ENSINO SUPERIOR DR. APARICIO CARVALHO DE MORAES LTDA',\n",
              "       'SOCIEDADE EDUCACIONAL ATUAL DA AMAZONIA LTDA',\n",
              "       'ASSOCIACAO DE ENSINO SUPERIOR DE GOIAS-AESGO',\n",
              "       'FUNDACAO EDUCACIONAL BARRIGA VERDE',\n",
              "       'APESU ENSINO SUPERIOR DE PERNAMBUCO S/S LTDA.',\n",
              "       'FUNDACAO FRANCISCO DE ASSIS',\n",
              "       'A. REGIAO TOCANTINA DE EDUCACAO E CULTURA LTDA.',\n",
              "       'GRUPO NOBRE DE ENSINO LTDA',\n",
              "       'CESMIG - CENTRO DE ENSINO SUPERIOR MINAS GERAIS LTDA - ME',\n",
              "       'ASSOCIACAO VICOSENSE DE ENSINO E PESQUISA LTDA - AVEP - VICOSA - EPP',\n",
              "       'EINSTEIN INSTITUICAO DE ENSINO LTDA - EPP',\n",
              "       'CENTRO DE ENSINO SUPERIOR STRONG',\n",
              "       'UNIRON - UNIAO DAS ESCOLAS SUPERIORES DE RONDONIA LTDA.',\n",
              "       'INSTITUTO LEAO SAMPAIO DE ENSINO UNIVERSITARIO LTDA',\n",
              "       'CESCO - CENTRO DE ENSINO SUPERIOR DO CENTRO OESTE LTDA',\n",
              "       'SOCIEDADE EDUCACIONAL SOIBRA S/S LTDA',\n",
              "       'PROTECNICA PAULISTA LTDA',\n",
              "       'FAINOR FACULDADE INDEPENDENTE DO NORDESTE LTDA',\n",
              "       'UNIAO CAPIXABA DE ENSINO', 'ADTALEM EDUCACIONAL DO BRASIL LTDA',\n",
              "       'UNIAO DE ENSINO UNOPAR LTDA',\n",
              "       'SOCIEDADE EDUCACIONAL DO VALE DO ITAPOCU S/S LTDA.',\n",
              "       'SOCIEDADE DE EDUCACAO DO VALE DO IPOJUCA LTDA',\n",
              "       'UNIDADE DE ENSINO SUPERIOR VALE DO IGUACU S.A.',\n",
              "       'SOCEC- SOCIEDADE CAPIBARIBE DE EDUCACAO E CULTURA LTDA',\n",
              "       'INSTITUTO BRASIL DE CIENCIA & TECNOLOGIA LTDA',\n",
              "       'PITAGORAS - SISTEMA DE EDUCACAO SUPERIOR SOCIEDADE LTDA',\n",
              "       'ORGANIZACAO EDUCACIONAL FARIAS BRITO LTDA',\n",
              "       'UNIAO SUL-AMERICANA DE EDUCACAO LTDA',\n",
              "       'ASSOCIACAO DE ENSINO SUPERIOR DOS INCONFIDENTES - ASESI',\n",
              "       'CENTRO DE ENSINO SUPERIOR DE AGUDOS',\n",
              "       'FUNDACAO DE ROTARIANOS DE SAO PAULO',\n",
              "       'GRUPO IBMEC EDUCACIONAL LTDA',\n",
              "       'CESA - CENTRO DE ESTUDO SUPERIOR DE APUCARANA',\n",
              "       'INSTITUTO DE ENSINO SUPERIOR DA REGIAO SERRANA LTDA',\n",
              "       'ASSENAR - ENSINO DE ARAUCARIA LTDA - ME',\n",
              "       'SOCIEDADE DE ENSINO SUPERIOR DA ESCADA LTDA - SOESE',\n",
              "       'GRUPO DOM BOSCO LTDA', 'EDVAC SERVICOS EDUCACIONAIS LTDA',\n",
              "       'IPADE - INSTITUTO PARA O DESENVOLVIMENTO DA EDUCACAO LTDA.',\n",
              "       'SERVICOS EDUCACIONAIS DO LITORAL PAULISTA LTDA.',\n",
              "       'INSTITUTO DE ENSINO SUPERIOR ANCHIETA',\n",
              "       'CENTRO DE ENSINO SUPERIOR FABRA',\n",
              "       'CETEBA - CENTRO DE ENSINO E TECNOLOGIA DA BAHIA LTDA',\n",
              "       'LAEL VARELLA EDUCACAO E CULTURA LTDA',\n",
              "       'SOCIEDADE REGIONAL DE EDUCACAO E CULTURA LTDA',\n",
              "       'UNIVINTE CENTRO TECNOLOGICO EIRELI',\n",
              "       'INSTITUTO EDUCACIONAL SANTO AGOSTINHO LTDA',\n",
              "       'SOCIEDADE EDUCACIONAL UNIFAS S/C LTDA - ME',\n",
              "       'SEDUP-SOCIEDADE EDUCACIONAL DA PARAIBA LTDA - EPP',\n",
              "       'INSTITUTO DE EDUCACAO SUPERIOR SAO PAULO LTDA - EPP',\n",
              "       'FACULDADE CATHEDRAL DE ENSINO SUPERIOR DE BARRA DO GARCAS',\n",
              "       'CENTRO EDUCACIONAL NOSSA SENHORA AUXILIADORA',\n",
              "       'FAPEC - FUNDACAO ALAGOANA DE PESQUISA, EDUCACAO E CULTURA',\n",
              "       'SOCIEDADE EDUCACIONAL CAXIENSE S/C LTDA.',\n",
              "       'EMPREENDIMENTO EDUCACIONAL MARACANAU LTDA.',\n",
              "       'SINERGIA SISTEMA DE ENSINO LTDA - EPP',\n",
              "       'SOCIEDADE AVANTIS DE ENSINO E ESCOLA DE AVIACAO CIVIL S.A.',\n",
              "       'SOMAR - SOCIEDADE MARANHENSE DE ENSINO SUPERIOR LTDA - ME',\n",
              "       'AESMS ENSINO SUPERIOR DE MATO GROSSO DO SUL LTDA.',\n",
              "       'CENTRO DE ENSINO SUPERIOR DE SAO GOTARDO LTDA - EPP',\n",
              "       'CESG - CENTRO DE EDUCACAO SUPERIOR DE GUANAMBI LTDA',\n",
              "       'UNESC-PB UNIAO DE ENSINO SUPERIOR DE CAMPINA GRANDE LTDA - ME',\n",
              "       'ITPAC INSTITUTO TOCANTINENSE PRESIDENTE ANTONIO CARLOS S.A',\n",
              "       'ULT UNIAO LATINO AMERICANA DE TECNOLOGIA SS LTDA - EPP',\n",
              "       'SOCIEDADE DE ENSINO SUPERIOR DE MANHUACU LTDA',\n",
              "       'UNIAO DE FACULDADES DE ALAGOAS LTDA - EPP',\n",
              "       'TCC EDUCACAO, CIENCIA E CULTURA LTDA - EPP',\n",
              "       'SESA - SOCIEDADE DE ENSINO SUPERIOR AMADEUS LTDA',\n",
              "       'UNNESA - UNIAO DE ENSINO SUPERIOR DA AMAZONIA OCIDENTAL S/C LTDA - EPP',\n",
              "       'CENTRO DE ESTUDOS SUPERIORES DE SANTO ANTONIO DE JESUS S/C - EPP',\n",
              "       'UNIRB - UNIDADES DE ENSINO SUPERIOR DA BAHIA LTDA',\n",
              "       'CENTRO DE ESTUDOS SUPERIORES DE ITAITUBA LTDA - ME',\n",
              "       'ASSOCIACAO IGREJA ADVENTISTA MISSIONARIA - AIAMIS',\n",
              "       'INSPETORIA SALESIANA SAO PIO X',\n",
              "       'UESPAR - UNIAO DE ENSINO SUPERIOR DO PARANA LTDA - EPP',\n",
              "       'MARCIO CALAFIORI RESENDE EIRELI - EPP',\n",
              "       'UNIAO EDUCACIONAL DO NORTE LTDA',\n",
              "       'IME INSTITUTO METROPOLITANO DE ENSINO LTDA',\n",
              "       'ASSOCIACAO MISSIONARIA DE BENEFICENCIA',\n",
              "       'LACERDA & GOLDFARB LTDA - EPP',\n",
              "       'INSPETORIA SALESIANA MISSIONARIA DA AMAZONIA',\n",
              "       'SOCIEDADE EDUCACIONAL MONTEIRO LOBATO',\n",
              "       'ASSOCIACAO DE ENSINO VALE DO GORUTUBA S/S LTDA',\n",
              "       'ORGANIZACAO SETE DE SETEMBRO DE CULTURA E ENSINO LTDA',\n",
              "       'BAIAO CONSULTORIA & CONTABILIDADE LTDA',\n",
              "       'SOCIEDADE UNIFICADA DE EDUCACAO DE EXTREMA',\n",
              "       'ESCOLAS UNIDAS DE OURO PRETO DO OESTE - UNEOURO',\n",
              "       'PRO-ENSINO SOCIEDADE CIVIL LTDA - ME',\n",
              "       'CENTRO DE ENSINO SUPERIOR ALMEIDA RODRIGUES LTDA - EPP',\n",
              "       'SOEBRAS - SOCIEDADE EDUCATIVA DO BRASIL LTDA',\n",
              "       'CENTRO EDUCACIONAL MONTES BELOS LTDA',\n",
              "       'SOCIEDADE ACREANA DE EDUCACAO E CULTURA LTDA',\n",
              "       'SOCIEDADE CIVIL INTEGRADA MADRE CELESTE LTDA',\n",
              "       'FUCAPE FUNDACAO DE PESQUISA E ENSINO',\n",
              "       'INSTITUTO MANTENEDOR DE ENSINO SUPERIOR DA BAHIA LTDA - ME',\n",
              "       'UNIUOL GESTAO DE EMPREENDIMENTOS EDUCAC. E PARTICIPACOES S/A',\n",
              "       'ESACOM - ESCOLA SUPERIOR DE ADMINISTRACAO, COMUNICACAO E MARKETING S/C LTDA',\n",
              "       'CENTRO DE ENSINO SUPERIOR DO CEARA',\n",
              "       'CENTRO INTEGRADO DE ENSINO SUPERIOR DE FLORIANO LTDA - ME',\n",
              "       'FACULDADES INTEGRADAS BRASIL AMAZONIA S/S LTDA',\n",
              "       'CENTRO EDUCACIONAL DYLLA LTDA',\n",
              "       'CEAPA-CENTRO DE ESTUDOS AVANCADOS DO PARA S/S LIMITADA',\n",
              "       'INSTITUTO MACAPAENSE DE ENSINO SUPERIOR S.S LTDA - ME',\n",
              "       'CENTRO EDUCACIONAL MARIA MILZA LTDA - ME',\n",
              "       'SOCIEDADE EDUCACIONAL EDICE PORTELA LTDA',\n",
              "       'MULTIVIX CARIACICA - ENSINO, PESQUISA E EXTENSAO LTDA',\n",
              "       'ROZA MARIA SOARES DA SILVA - ME',\n",
              "       'UNEF UNIDADE DE ENSINO SUPERIOR DE FEIRA DE SANTANA LTDA',\n",
              "       'SOCIEDADE EDUCACIONAL ZACARIAS DE GOES VASCONCELOS LTDA.',\n",
              "       'JAPANN SERVICOS EDUCACIONAIS LTDA',\n",
              "       'SOCIEDADE UNIVERSITARIA REDENTOR',\n",
              "       'CENTRO EDUCACIONAL HYARTE-ML LTDA',\n",
              "       'SEEB - SOCIEDADE DE ESTUDOS EMPRESARIAIS AVANCADOS DA BAHIA LTDA',\n",
              "       'UB - UCP EDUCACIONAL S.A.', 'COLEGIO CULTURAL MODULO LTDA - EPP',\n",
              "       'SOCIEDADE EDUCACIONAL DESEMBARGADOR PLINIO PINTO COELHO LTDA',\n",
              "       'SOC EDUCACIONAL E ASSISTENCIAL DA PAR DE PAO DE ACUCAR',\n",
              "       'FISMA - FACULDADE INTEGRADA DE SANTA MARIA LTDA.',\n",
              "       'CENTRO DE ENSINO SUPERIOR DOM ALBERTO LTDA',\n",
              "       'SERVICO NACIONAL DE APRENDIZAGEM COMERCIAL - SENAC MINAS',\n",
              "       'UNIAO EDUCACIONAL, CULTURAL E TECNOLOGICA IMPACTA - UNI.IMPACTA',\n",
              "       'UNISULMA- UNIDADE DE ENSINO SUPERIOR DO SUL DO MARANHAO LTDA - ME',\n",
              "       'CESUPI CENTRO DE ENSINO SUPERIOR DE ILHEUS LTDA - ME',\n",
              "       'ASSOCIACAO HOSPITALAR DE PROT INFANCIA DR RAUL CARNEIRO',\n",
              "       'INSTITUTO DE ENSINO SAO SEBASTIAO LTDA', 'SER EDUCACIONAL S.A.',\n",
              "       'SUPREMA-SOCIEDADE UNIVERSITARIA PARA O ENSINO MEDICO ASSISTENCIAL LTDA',\n",
              "       'CENTRO DE EDUCACAO SUPERIOR REINALDO RAMOS S/C LTDA - CESREI - ME',\n",
              "       'FUNDACAO MOVIMENTO DIREITO E CIDADANIA - FUNDACAO MDC',\n",
              "       'UNIAO DAS FACULDADES INTEGRADAS DE NEGOCIOS LTDA.',\n",
              "       'UNEMPE - UNIAO EMPRESARIAL EDUCACIONAL LTDA',\n",
              "       'SOCIEDADE DE ENSINO SERRA DO CARMO LTDA',\n",
              "       'SOCIEDADE EDUCACIONAL VERDE NORTE LTDA  - ME',\n",
              "       'ASSOCIACAO EDUCACIONAL DE PATOS DE MINAS - AEPM',\n",
              "       'SOCIEDADE DE EDUCACAO, CULTURA E TECNOLOGIA DA AMAZONIA S/A',\n",
              "       'UNIAO EDUCACIONAL META LTDA - ME',\n",
              "       'CENTRO REGIONAL DE ENSINO SUPERIOR ARNO KREUTZ LTDA - EPP',\n",
              "       'FADERGS - FACULDADE DE DESENVOLVIMENTO DO RIO GRANDE DO SUL LTDA.',\n",
              "       'CENTRO DE EDUCACAO DO PANTANAL LTDA - EPP',\n",
              "       'UNESBA - UNIAO DE ENSINO SUPERIOR DE BRASILIA LTDA',\n",
              "       'DINAMICA ORGANIZACAO PROJETOS E CONSULTORIA LTDA - ME',\n",
              "       'J. COUTINHO SOCIEDADE CIVIL LTDA  - ME',\n",
              "       'IUNI EDUCACIONAL - UNIME SALVADOR LTDA',\n",
              "       'ASSOCIACAO PIRIPIRIENSE DE ENSINO SUPERIOR',\n",
              "       'ASPEC SOCIEDADE PARAIBANA DE EDUCACAO E CULTURA LTDA',\n",
              "       'FUNDACAO UNIVERSITARIA DO DESENVOLVIMENTO DO OESTE',\n",
              "       'SOCIEDADE DE EDUCACAO E CULTURA DE SAO JOSE DO RIO PRETO LTDA.',\n",
              "       'CENTRO DE ENSINO SUPERIOR SAO FRANCISCO LTDA - ME',\n",
              "       'EDUCARE GESTAO DE EDUCACAO LTDA - ME',\n",
              "       'UNIVICOSA - UNIAO DE ENSINO SUPERIOR DE VICOSA LTDA',\n",
              "       'SOCIEDADE EDUCACIONAL SUL BAHIANA LTDA - EPP',\n",
              "       'SEEA-SOCIEDADE DE ESTUDOS EMPRESARIAIS DE ALAGOINHAS LTDA',\n",
              "       'SERVICO NACIONAL DE APRENDIZAGEM COMERCIAL - SENAC',\n",
              "       'SOCIEDADE CATALANA DE EDUCACAO S/C LTDA - EPP',\n",
              "       'CENTRO SUPERIOR DE TECNOLOGIA TECBRASIL LTDA',\n",
              "       'INSTITUTO DE DESENVOLVIMENTO EDUCACIONAL DO ALTO URUGUAI LTDA',\n",
              "       'FUNDACAO DE ENSINO E PESQUISA DO SUL DE MINAS',\n",
              "       'FUNDACAO EDUCACIONAL DE OLIVEIRA',\n",
              "       'FUNDACAO EDUCACIONAL DE PATOS DE MINAS',\n",
              "       'FUNDACAO EDUCACIONAL DE LAVRAS',\n",
              "       'CENTRO DE ENSINO SUPERIOR MARIA DA CONCEICAO GASPAR LTDA',\n",
              "       'FIUSA EDUCACIONAL S/SIMPLES LTDA - EPP',\n",
              "       'CENTRO EDUCACIONAL DE ENSINO SUPERIOR DE CORNELIO PROCOPIO - CESUCOP',\n",
              "       'SANTANA INSTITUTO DE EDUCACAO SUPERIOR EIRELI',\n",
              "       'SISTEMA DE ENSINO SUPERIOR IBITURUNA LTDA',\n",
              "       'CESUCA - COMPLEXO DE ENSINO SUPERIOR DE CACHOEIRINHA LTDA',\n",
              "       'INSTITUTO EDUCACIONAL SANTA CATARINA LTDA - EPP',\n",
              "       'INSTITUICAO BAIANA DE ENSINO SUPERIOR LTDA',\n",
              "       'ASSOCIACAO EDUCACIONAL DE CIENCIAS DA SAUDE - AECISA',\n",
              "       'SOCIEDADE AMIGOS DA INSTRUCAO DE JATINA - ME',\n",
              "       'COMPLEXO DE ENSINO SUPERIOR DE SAO PAULO LTDA - CESUSP',\n",
              "       'FACULDADE DO COMPLEXO EDUCACIONAL SANTO ANDRE S/S LTDA',\n",
              "       'SOCIEDADE DE ENSINO SUPERIOR MADRE FRANCISCA LECHNER - CAICO S/S LIMITADA - EPP',\n",
              "       'UNIAO MARINGAENSE DE ENSINO LTDA - EPP',\n",
              "       'CENTRO DE ESTUDOS III MILLENIUM LTDA',\n",
              "       'SOCIEDADE MARANHENSE DE ENSINO SUPERIOR - SS - EPP',\n",
              "       'BACABAL MEARIM SISTEMAS DE ENSINO LTDA.',\n",
              "       'INSTITUTO EDUCACIONAL ALMENARA LTDA - EPP',\n",
              "       'CENTRO DE EDUCACAO SERRA DA MESA LTDA - CESEM - EPP',\n",
              "       'IBGEN EDUCACIONAL LTDA',\n",
              "       'SESTAS - SOCIEDADE DE ESTUDOS SAO TOMAZ DE AQUINO - ME',\n",
              "       'SESG - SOCIEDADE DE EDUCACAO SUPERIOR GUAIRACA LTDA',\n",
              "       'SOCIEDADE CULTURAL E EDUCACIONAL DO INTERIOR PAULISTA S/S LTDA',\n",
              "       'IENOMAT-INSTITUTO EDUCACIONAL DO NORTE DE MATO GROSSO',\n",
              "       'CENESUP - CENTRO NACIONAL DE ENSINO SUPERIOR LTDA',\n",
              "       'ASSUPERO ENSINO SUPERIOR LTDA.',\n",
              "       'SOCIEDADE DE EDUCACAO N.S. AUXILIADORA LTDA',\n",
              "       'SOCIEDADE EDUCACIONAL CARVALHO GOMES LTDA',\n",
              "       'CENTRO SOCIAL CLODOVEU ARRUDA',\n",
              "       'INSTITUTO FLORENCE DE ENSINO SUPERIOR LTDA - ME',\n",
              "       'INSTITUTO CAMPINENSE DE ENSINO SUPERIOR LTDA',\n",
              "       'SOCIEDADE DE ENSINO SUPERIOR DE SERRA TALHADA - SESST - EPP',\n",
              "       'SERVICO NACIONAL DE APRENDIZAGEM INDUSTRIAL SENAI',\n",
              "       'SOCIEDADE EDUCACIONAL ARNALDO HORACIO FERREIRA S/C LTDA',\n",
              "       'PIPEL-PICOS PETROLEO LTDA', 'ESCOLAS PADRE ANCHIETA LTDA',\n",
              "       'PIRES & CIA LTDA - EPP',\n",
              "       'CENTRO DE ESTUDOS OCTAVIO DIAS DE OLIVEIRA',\n",
              "       'INFNET EDUCACAO LTDA.',\n",
              "       'DIDACIEBE CENTRO INTEGRADO DE EDUCACAO BRASIL - EUROPA LTDA',\n",
              "       'PSES SERVICOS EDUCACIONAIS LTDA.',\n",
              "       'CEUMA-ASSOCIACAO DE ENSINO SUPERIOR',\n",
              "       'SOCIEDADE DE ENSINO SUPERIOR E DE PESQUISA DE SERGIPE LTDA - SESPS',\n",
              "       'CECAM - CENTRO EDUCACIONAL E CULTURAL DA AMAZONIA - EPP',\n",
              "       'INSTITUTO DE DESENVOLVIMENTO TECNOLOGICO E EDUCACIONAL DE PIRACICABA LTDA',\n",
              "       'CENTRO EDUCACIONAL NOSSA CIDADE LTDA.',\n",
              "       'SOCIEDADE EDUCACIONAL HERRERO LTDA. - SS - EPP',\n",
              "       'CIESPI-CENTRO INTEGRADO DE EDUCACAO SUPERIOR DO PIAUI LTDA',\n",
              "       'CENTRO DE EDUCACAO SUPERIOR DE INHUMAS EIRELI',\n",
              "       'SOCIEDADE DE ENSINO SUPERIOR ESTACIO AMAZONAS LTDA',\n",
              "       'CETTAA EDUCACIONAL LTDA', 'UNIBALSAS EDUCACIONAL LTDA',\n",
              "       'UNIJIPA - UNIAO DAS ESCOLAS SUPERIORES DE JI-PARANA LTDA',\n",
              "       'INSTITUICAO ADVENTISTA NORDESTE BRASILEIRA DE EDUCACAO E ASSISTENCIA SOCIAL',\n",
              "       'CENTRO DE ENSINO SUPERIOR DE MARABA LTDA',\n",
              "       'SOCIEDADE UNIVERSITARIA DE EXCELENCIA EDUCACIONAL DO RIO GRANDE DO NORTE LTDA',\n",
              "       'VERA CLAUDINO EDUCACAO SUPERIOR LIMITADA - ME',\n",
              "       'ASSOCIACAO DE ENSINO SUPERIOR ANGLO LIDER - AESAL',\n",
              "       'EDUCACIONAL MARTINS ANDRADE LTDA - EPP',\n",
              "       'FUNDACAO EDUCACIONAL CLAUDINO FRANCIO',\n",
              "       'CENTRO DE EDUCACAO SUPERIOR DO NORTE GOIANO LTDA',\n",
              "       'CEI - CENTRO EDUCACIONAL INTEGRADO LTDA',\n",
              "       'INSTITUTO PAULISTA DE DIFUSAO CULTURAL LTDA',\n",
              "       'CENTRO BRASILEIRO DE PROFISSIONALIZACAO EMPRESARIAL LTDA',\n",
              "       'ACEB ASSOCIACAO CULTURAL E EDUCACIONAL DE BERTIOGA',\n",
              "       'UNIDADE DE ENSINO, PESQUISA E EXTENSAO DE RIACHAO DO JACUIPE EIRELI',\n",
              "       'SOCIEDADE EDUCACIONAL DE SOROCABA LTDA',\n",
              "       'FACULDADE DE TECNOLOGIA E CIENCIAS DO NORTE DO PARANA LTDA - ME',\n",
              "       'BRASIL EDUCACAO S/A',\n",
              "       'CAMARA DE DIRIGENTES LOJISTAS DE FORTALEZA', 'FOIL LTDA - EPP',\n",
              "       'CETEC EDUCACIONAL S.A.',\n",
              "       'SOEGAR-SOCIEDADE EDUCACIONAL GARDINGO LTDA - EPP',\n",
              "       'FASIPE CENTRO EDUCACIONAL LTDA - ME',\n",
              "       'FACULDADES INTEGRADAS DE CASTANHAL LTDA - EPP',\n",
              "       'ORME SERVICOS EDUCACIONAIS LTDA',\n",
              "       'FACULDADE DE CIENCIAS E TECNOLOGIA DO MARANHAO LTDA',\n",
              "       'INSTITUTO TOCANTINENSE DE EDUCACAO SUPERIOR E PESQUISA LTDA - ME',\n",
              "       'FACEP-FACULDADE EVOLUCAO ALTO OESTE POTIGUAR LTDA - ME',\n",
              "       'INSTITUTO DE GESTAO EDUCACIONAL SIGNORELLI LTDA.',\n",
              "       'FACULDADE UNIAO ARARUAMA DE ENSINO S/S LTDA. - ME',\n",
              "       'ODONTO RAD LTDA - ME',\n",
              "       'ORGANIZACAO EDUCACIONAL DE CRUZEIRO DO OESTE LTDA',\n",
              "       'SOCIEDADE METROPOLITANA DE EDUCACAO, CULTURA E TECNOLOGIA SAO CARLOS S/S LTDA - ME',\n",
              "       'UNIAO DE ENSINO DE SANTA CRUZ - UNIESC LTDA',\n",
              "       'UNIAO DE ENSINO E CULTURA DE GUARAPUAVA LTDA - UNIGUA',\n",
              "       'UNIPB - UNIAO DE ENSINO SUPERIOR DA PARAIBA LTDA - ME',\n",
              "       'UNIAO BRASILEIRA DE EDUCACAO LTDA  - ME',\n",
              "       'COMPLEXO DE ENSINO SUPERIOR ESPECIALIZADA NA AREA DE SAUDE S/S - ME',\n",
              "       'INSTITUTO JOAO NEORICO',\n",
              "       'ASSOCIACAO EDUCACIONAL DR. ODILON FERNANDES',\n",
              "       'SOCIEDADE EDUCACIONAL RIOGRANDENSE LTDA.',\n",
              "       'SESSA-SOCIEDADE DE EDUCACAO SUPERIOR DO SEMI-ARIDO LTDA - ME',\n",
              "       'FUNDACAO EDUCACIONAL ALTO MEDIO SAO FRANCISCO',\n",
              "       'INSTITUTO MAKRO UNIAO POS-GRADUACAO E EXTENSAO LTDA',\n",
              "       'IDEZ EMPREENDIMENTOS EDUCACIONAIS LTDA.',\n",
              "       'INSTITUTO METROPOLITANO DE EDUCACAO E CULTURA LTDA - ME',\n",
              "       'INSTITUTO BRASILIENSE DE DIREITO PUBLICO IDP LTDA',\n",
              "       'H. M. SIMOES CARNEIRO - ME',\n",
              "       'ITPAC PORTO NACIONAL - INSTITUTO TOCANTINENSE PRESIDENTE ANTONIO CARLOS  PORTO S.A.',\n",
              "       'SALES BURGOS CONSULTORIA E SERVICOS EDUCACIONAIS LTDA - ME',\n",
              "       'ESCOLA SUPERIOR DA AMAZONIA S/C LTDA - ESAMAZ',\n",
              "       'INSTITUTO DE ENSINO SUPERIOR MOINHO VELHO LTDA - ME',\n",
              "       'FACULDADE PROMINAS LTDA',\n",
              "       'ORGANIZACAO EDUCACIONAL ARAUCARIA LTDA - ME',\n",
              "       'ASSOCIACAO EDUCACIONAL JOAO PAULO II',\n",
              "       'FATEC -BA FACULDADE DE TECNOLOGIA E CIENCIAS DA BAHIA LTDA',\n",
              "       'ASSOCIACAO EDUCATIVA DE JANAUBA - SOEDUCAR',\n",
              "       'FACULDADE DE CIENCIAS DO TOCANTINS LTDA - FACIT - ME',\n",
              "       'CV & C CONSULTORES ASSOCIADOS LTDA - EPP',\n",
              "       'ASSOCIACAO SEQUENCIAL DE ENSINO SUPERIOR',\n",
              "       'INSTITUTO DE ENSINO SUPERIOR DE PALHOCA S/S LTDA.',\n",
              "       'SISTEMA DE ENSINO SUPERIOR CIDADE DE BETIM LTDA - ME',\n",
              "       'CENTRO EDUCACIONAL MICHELIN LTDA - ME',\n",
              "       'FVA - FACULDADE DO VALE DO ARARANGUA LTDA  - ME',\n",
              "       'FACULDADE DOS CARAJAS LTDA - ME',\n",
              "       \"UNIDADE DE ENSINO SUPERIOR DE CACOAL ''PS'' LTDA - ME\",\n",
              "       \"SOCIEDADE EMPRESARIAL DE ESTUDOS SUPERIORES E TECNOLOGICOS SANT''ANA LTDA - ME\",\n",
              "       'SISTEMA DE ENSINO SUPERIOR CIDADE DE BELO HORIZONTE LTDA - ME',\n",
              "       'FACULDADE MAURICIO DE NASSAU DE BELEM LTDA',\n",
              "       'SOCIEDADE UNIVERSITARIA DO PIAUI & CIA S/S - ME',\n",
              "       'INSTITUTO DE NOVA EDUCACAO LTDA - ME',\n",
              "       'INSTITUTO CAL DE ARTE E CULTURA',\n",
              "       'INSTITUTO DE PESQUISA E ENSINO LTDA - ME',\n",
              "       'ASSOCIACAO DE APOIO A EDUCACAO CIENCIA E TECNOLOGIA DO ESTADO DE SERGIPE - APEC-SE - EPP',\n",
              "       'SISTEMA ALFA UNIVERSITARIO LTDA - ALFA', 'UNIPIAGET/BRASIL',\n",
              "       'SOCIEDADE BRASILEIRA PARA O ENSINO E PESQUISA LTDA - ME',\n",
              "       'BBELLO EDUCACAO LTDA - ME',\n",
              "       'FACULDADES INTEGRADAS CARAJAS S/C LTDA - EPP',\n",
              "       'IEDUC - INSTITUTO DE EDUCACAO E CULTURA S/A',\n",
              "       'IESG-INSTITUTO DE EDUCACAO SAO GABRIEL DA PALHA LTDA',\n",
              "       'CEITEP - CENTRO DE EDUCACAO E INOVACAO TECNICO PROFISSIONAL LTDA - EPP',\n",
              "       'EDITORA E DISTRIBUIDORA EDUCACIONAL S/A',\n",
              "       'FACULDADE DE GESTAO E NEGOCIOS DE SALVADOR LTDA',\n",
              "       'FUNDACAO UNIVERSIDADE ALTO VALE DO RIO DO PEIXE - FUNIARP',\n",
              "       'UNICA EDUCACIONAL LTDA',\n",
              "       'SOCIEDADE DE ENSINO SUPERIOR MASTER S/S LTDA. - ME',\n",
              "       'VSTP EDUCACAO LTDA',\n",
              "       'CESUL-CENTRO DE EDUCACAO SUPERIOR LTDA - EPP',\n",
              "       'CETESP CENTRO TECNOLOGICO DE EDUCACAO SUPERIOR E PROFISSIONAL LTDA',\n",
              "       'ASSOCIACAO DE ENSINO SUPERIOR DE CAMPO GRANDE LTDA - ME',\n",
              "       'ACADEMIA JUINENSE DE ENSINO SUPERIOR LTDA - ME',\n",
              "       'GUATAG - SOCIEDADE DE ASSISTENCIA EDUCACIONAL LTDA',\n",
              "       'FACULDADE PARA O DESENVOLVIMENTO SUSTENTAVEL DA AMAZONIA LTDA. - ME',\n",
              "       'FACULDADE IRECE',\n",
              "       'FACULDADE DE GESTAO E NEGOCIOS DE FORTALEZA LTDA',\n",
              "       'ASSOCIACAO FACULDADES CATOLICAS PETROPOLITANAS',\n",
              "       'SEPA - SOCIEDADE EDUCACIONAL DA PARAIBA LTDA',\n",
              "       'MULTIVIX SERRA - ENSINO PESQUISA E EXTENSAO LTDA',\n",
              "       'ASSOCIACAO EDUCACIONAL LATINO AMERICANA',\n",
              "       'IERT- INSTITUICOES DE ENSINO REUNIDAS TIETE LTDA',\n",
              "       'UNIVERSAL-EDUCACAO E PROJETOS LTDA - ME',\n",
              "       'INSTITUTO SUPERIOR DE EDUCACAO FACETEN LTDA - ISEF - ME',\n",
              "       'UNEPES- UNIDADE DE ENSINO, PESQUISA E EXTENSAO DE SERRINHA LTDA - ME',\n",
              "       'NETCOM TREINAMENTOS E SOLUCOES TECNOLOGICAS LTDA - EPP',\n",
              "       'FEAM - FACULDADE DE EDUCACAO E TECNOLOGIA DA AMAZONIA LTDA - ME',\n",
              "       'SOCIEDADE UNIVERSITARIA MILETO LTDA - EPP',\n",
              "       'CENTRO UNIVERSITARIO DA BAHIA LTDA',\n",
              "       'INSTITUTO LAUDETIS DOMINIS DE ENSINO SUPERIOR LTDA',\n",
              "       'INSTITUTO PATER DE EDUCACAO E CULTURA',\n",
              "       'ESCOLA DE EDUCACAO SUPERIOR SAO JOSE',\n",
              "       'INSTITUTO DE EDUCACAO SUPERIOR DO VALE DO PARNAIBA S.A.',\n",
              "       'INSTITUTO DIAMANTINA DE EDUCACAO LTDA',\n",
              "       'CENTRO EDUCACIONAL TRES MARIAS - LTDA',\n",
              "       'OCESU - ORGANIZACAO CEARENSE DE EDUCACAO SUPERIOR LTDA',\n",
              "       'INSTITUTO GIANNA BERETTA DE EDUCACAO SUPERIOR LTDA - ME',\n",
              "       'INSTITUTO CAICARA DE PESQUISA E ENSINO SUPERIOR LTDA.',\n",
              "       'ASSOCIACAO EDUCACIONAL E CULTURAL DE QUIXADA',\n",
              "       'FESM  FACULDADE DE ENSINO SUPERIOR DO MARAJO LTDA - ME',\n",
              "       'CENTRO DE ENSINO SUPERIOR E PESQUISA LOGOS LTDA - CESPEL',\n",
              "       'INSTITUTO JAGUARIBANO DE ENSINO LTDA. - ME',\n",
              "       'UNISERRA - UNIDADE DE ENSINO SUPERIOR DE TANGARA DA SERRA LTDA - ME',\n",
              "       'IESTEC- INSTITUTO DE ENSINO SUPERIOR TEOLOGICO CRISTAO - ME',\n",
              "       'MAILDES DELGADO SAMPAIO - ME',\n",
              "       'CENTRO DE ENSINO SUPERIOR DE PARAGOMINAS LTDA',\n",
              "       'CEPAR - CENTRO DE ENSINO SUPERIOR DE PARAUAPEBAS LTDA',\n",
              "       'INSTITUTO EDUCACIONAL INTEGRADO LTDA - ME',\n",
              "       'UNIC EDUCACIONAL LTDA',\n",
              "       'CENTRO DE EDUCACAO DE ROLIM DE MOURA LTDA',\n",
              "       'FACULDADE CAMBURY FORMOSA LTDA',\n",
              "       'SEEQ-SOCIEDADE DE ESTUDOS EMPRESARIAIS DE QUEIMADAS LTDA - ME',\n",
              "       'ASSOCIACAO EDUCACIONAL MATONENSE',\n",
              "       'UNIAO CATALANA DA GESTAO DO CONHECIMENTO LTDA',\n",
              "       'FEDERAL EDUCACIONAL LTDA.',\n",
              "       'SAO JOSE DOS CAMPOS EDUCACIONAL LTDA',\n",
              "       'FACULDADE VALE DO ACO LTDA',\n",
              "       'INSTITUTO DE DESENVOLVIMENTO EDUCACIONAL DE CAXIAS DO SUL LTDA',\n",
              "       'INSTITUTO DE DESENVOLVIMENTO EDUCACIONAL DE PASSO FUNDO LTDA',\n",
              "       'INSTITUTO DE DESENVOLVIMENTO EDUCACIONAL DE BAGE LTDA',\n",
              "       'INSTITUTO EDUCACIONAL E TECNOLOGICO DE QUIXADA LTDA',\n",
              "       'INSTITUTO DE ENSINO UNIFASIPE LTDA',\n",
              "       'FACULDADES BRASIL INTELIGENTE S/S LTDA',\n",
              "       'INSTITUTO DE MANTENCA DE ENSINO SUPERIOR LTDA - EPP',\n",
              "       'UNIAO DAS FACULDADES FASIPE LTDA',\n",
              "       'DINAMICA ADMINISTRACAO CONSULTORIA & GESTAO S/S LTDA',\n",
              "       'CENTRO AVANCADO DE ORTODONTIA PAULO PICANCO S/S LTDA - EPP',\n",
              "       'SOCIEDADE EDUCACIONAL VALE DO SAO FRANCISCO LTDA - ME',\n",
              "       'AGORA TREINAMENTOS E CURSOS LTDA',\n",
              "       'CENTRO DE ENSINO SUPERIOR DE SERRA TALHADA LIMITADA - EPP',\n",
              "       'INSTITUTO ESPERANCA E PROFISSIONAL ESCOLA TECNICA LTDA  - ME',\n",
              "       'VIDAM EMPREENDIMENTOS EDUCACIONAIS LTDA',\n",
              "       'EDUFOR PRESTADORA DE SERVICOS LTDA - ME',\n",
              "       'GRUPO M.C EDUCACAO E ASSESSORIA LTDA - ME',\n",
              "       'ORGANIZACAO TECNOLOGICA DE ENSINO LTDA',\n",
              "       'CENTRO DE ESTUDOS JURIDICOS DO AMAZONAS LTDA - ME',\n",
              "       'ASSOCIACAO INTERNACIONAL UNIAO DAS AMERICAS',\n",
              "       'FACULDADE DE EDUCACAO E CULTURA DA SERRA DA IBIAPABA LTDA',\n",
              "       'UNIESP S.A',\n",
              "       'SOBERANA FACULDADE DE SAUDE DE PETROLINA LTDA - EPP',\n",
              "       'CENTRO DE ENSINO SUPERIOR BELCHIOR LTDA',\n",
              "       'MULTIVIX VILA VELHA - ENSINO, PESQUISA E EXTENSAO LTDA',\n",
              "       'ASSOCIACAO DE ENSINO E CULTURA PIO DECIMO DO ALTO SAO FRANCISCO LTDA',\n",
              "       'INFOGENIUS ESCOLA TECNICA PROFISSIONALIZANTE LTDA - ME',\n",
              "       'CENTRO DE ESTUDOS RECANTO DAS EMAS LTDA',\n",
              "       'UNIDADE DE ENSINO SUPERIOR DO CENTRO MARANHENSE LTDA',\n",
              "       'ASSOCIACAO SAO JOSE DE ANCHIETA - ASJEA',\n",
              "       'UNIDADE REGIONAL BRASILEIRA DE EDUCACAO LTDA',\n",
              "       'INSTITUTO SUPERIOR EM CIENCIAS DA SAUDE LTDA.',\n",
              "       'INSTITUTO DE ADMINISTRACAO & GESTAO EDUCACIONAL LTDA',\n",
              "       'CENTRO EDUCACIONAL DE ENSINO SUPERIOR DE PATOS LTDA',\n",
              "       'CENTRO DE ENSINO SUPERIOR SANTISSIMA TRINDADE LIMITADA - ME',\n",
              "       'SOCIEDADE PAULISTA DE ENSINO E PESQUISA S/S LTDA',\n",
              "       'SOCIEDADE EDUCACIONAL CESAR VIEIRA DINIZ - JUAZEIRO DO NORTE LTDA',\n",
              "       'SOCIEDADE EDUCACIONAL CESAR VIEIRA DINIZ - PETROLINA LTDA',\n",
              "       'COMPLEXO EDUCACIONAL MILLENIUM LTDA - ME',\n",
              "       'INSTITUTO DE CIENCIAS, EDUCACAO E TECNOLOGIA DA BAHIA - ICEB LTDA  - ME',\n",
              "       'FAC EDUCACIONAL LTDA', 'NOVATEC EDUCACIONAL LTDA',\n",
              "       'FAIR EDUCACIONAL LTDA',\n",
              "       'INSTITUTO INVEST DE EDUCACAO CONSULTORIA E ASSESSORIA LTDA',\n",
              "       'SOCIEDADE EDUCACIONAL FORTALEZA - ME',\n",
              "       'ALAGOAS EDUCACIONAL DE ENSINO SUPERIOR LTDA - EPP',\n",
              "       'FUNDACAO TIRADENTES',\n",
              "       'INSTITUICAO DE ENSINO RIZZO, ALVES DA SILVA & PERES IGNACIO LTDA',\n",
              "       'M C FELICIANO EMPREENDIMENTOS EIRELI',\n",
              "       'CEN - CENTRO DE ENSINO SUPERIOR E CAPACITACAO LTDA - EPP',\n",
              "       'CGESP CONSULTORIA EDUCACIONAL LTDA',\n",
              "       'ANHANGUERA EDUCACIONAL PARTICIPACOES S/A',\n",
              "       'FACULDADE CENTRO DE CONHECIMENTO DE TERESINA LTDA - ME',\n",
              "       'CENTRO EDUCACIONAL E DESPORTIVO ELO LTDA. - ME',\n",
              "       'FUNDACAO EXPOSICAO BIBLICA',\n",
              "       'INSTITUTO EDUCACIONAL COOPERARE LTDA. - ME',\n",
              "       'INSTITUTO TEOLOGICO PADRE GIULIANO - ITEPAGI',\n",
              "       'INSTITUTO DE ENSINO SUPERIOR DO PIAUI LTDA',\n",
              "       'FUNDACAO CIDADE VIVA',\n",
              "       'CESP - CENTRO DE EDUCACAO SUPERIOR PIAUIENSE EIRELI',\n",
              "       'SOCIEDADE DE EDUCACAO E CULTURA APARECIDA DE GOIANIA LTDA - ME',\n",
              "       'FACULDADE 8 DE JULHO EIRELI - ME',\n",
              "       'SOCIEDADE EDUCACIONAL PAIVA ANDRADE LTDA',\n",
              "       'FACULDADE DE ENSINO GUARULHENSE SS LTDA',\n",
              "       'F. P. DO NASCIMENTO - ME',\n",
              "       'CENTRO UNIVERSITARIO POLIENSINO LTDA - ME',\n",
              "       'INSTITUTO DE EDUCACAO SUPERIOR LATINOAMERICANO - IESLA',\n",
              "       'INSTITUTO DE EDUCACAO EDUCAR EIRELI  - ME',\n",
              "       'FACULDADE SAO PAULO LTDA - ME',\n",
              "       'INSTITUTO SUL MATOGROSSENSE DE ENSINO SUPERIOR',\n",
              "       'FACULDADE VALE DO PAJEU LTDA - EPP',\n",
              "       'SOCIEDADE EDUCACIONAL SANTO ANTONIO LTDA',\n",
              "       'ENAU EDUCACIONAL LTDA - EPP',\n",
              "       'INSTITUTO DE TECNOLOGIA DA COSTA DO DENDE LTDA - ME',\n",
              "       'PROFESSOR DR. CLEBER LEITE EDUCACAO E PESQUISA LTDA - ME',\n",
              "       'FRB- FACULDADES REUNIDAS DE BOTUCATU LTDA',\n",
              "       'CECAP - CENTRO CARIRIENSE DE POS-GRADUACAO LTDA - ME',\n",
              "       'CENTRO DE EDUCACAO E TECNOLOGIA UNICENTRAL LTDA - ME',\n",
              "       'CENTRO DE EDUCACAO SUPERIOR E TECNOLOGICO OESTE POTIGUAR LTDA - ME',\n",
              "       'EMPREENDIMENTOS DE EDUCACAO CASTRO ALVES LTDA',\n",
              "       'EDUCACAO VERDE NORTE LTDA. - ME',\n",
              "       'UNIRB - UNIVERSIDADE REGIONAL BRASILEIRA S.A.',\n",
              "       'IDEA - INSTITUTO DE DESENVOLVIMENTO E APRENDIZAGEM SERVICOS EDUCACIONAIS LTDA',\n",
              "       'INSTITUTO EDUCACIONAL E DE DESENVOLVIMENTO PROFISSIONAL SAO JOAO PAULO II LTDA',\n",
              "       \"SOCIEDADE EDUCACIONAL SANTA TERESA D'AVILA LTDA\",\n",
              "       'INSTITUTO AUDY AZEVEDO', 'UNIDESC LTDA',\n",
              "       'SOCIEDADE DE EDUCACAO S/S LTDA',\n",
              "       'ISLEC - INSTITUTO SETELAGOANO DE EDUCACAO E CIENCIA LTDA',\n",
              "       'SNEL - SOCIEDADE NORTE EDUCACIONAL LTDA.',\n",
              "       'SEIM - SOCIEDADE EDUCACIONAL IRMAOS MUNIZ LTDA',\n",
              "       'SOCIEDADE NORTE MINEIRA DE ENSINO E COMUNICACAO LTDA',\n",
              "       'ANNARR EMPREENDIMENTOS E PARTICIPACOES LTDA.',\n",
              "       'FACULDADE UNICA LTDA', 'UP10 EDUCACIONAL LTDA',\n",
              "       'ASSOCIACAO SANTA TERESINHA DE MOSSORO',\n",
              "       'ASSOCIACAO DE ENSINO CATEDRA', 'ASSOCIACAO DE ENSINO EVEREST',\n",
              "       'ASSOCIACAO DE ENSINO IMPERIUM',\n",
              "       'SOCIEDADE UNINORDESTE DE EDUCACAO UNIVERSITARIA DE FORTALEZA S/S LTDA',\n",
              "       'SOCIEDADE UNINORDESTE DE EDUCACAO UNIVERSITARIA DE CAUCAIA S/S LTDA',\n",
              "       'INSTITUTO BIBLICO DA ASSEMBLEIA DE DEUS NO AMAZONAS',\n",
              "       'SOCIEDADE EDUCACIONAL MATO VERDE LTDA',\n",
              "       'EPD - ESCOLA PAULISTA DE DIREITO LTDA',\n",
              "       'ADMINISTRACAO ALAGOANA DE CURSO SUPERIOR LTDA',\n",
              "       'UNIDADE REGIONAL BAIANA DE EDUCACAO LTDA',\n",
              "       'ATMOS EDUCACAO - RECONCAVO LTDA',\n",
              "       'CENTRO DE EDUCACAO METROPOLITANO LTDA',\n",
              "       'ESMC EDUCACAO SUPERIOR LTDA',\n",
              "       'DINAMICA E ASSESSORIA E CONSULTORIA EMPRESARIAL EIRELI',\n",
              "       'OLHAR EDUCACIONAL LTDA'], dtype=object)"
            ]
          },
          "execution_count": 64,
          "metadata": {},
          "output_type": "execute_result"
        }
      ],
      "source": [
        "fies2020['Nome mantenedora'].unique()"
      ]
    },
    {
      "cell_type": "markdown",
      "metadata": {
        "id": "NAyd8SN1itT5"
      },
      "source": [
        "Para visualizar a distribuição destes valores, o comando \"value_counts\" foi utilizado"
      ]
    },
    {
      "cell_type": "code",
      "execution_count": 65,
      "metadata": {
        "colab": {
          "base_uri": "https://localhost:8080/"
        },
        "id": "73JSurPpYZ60",
        "outputId": "c0b57ad2-8dd6-4e68-a832-655209652469"
      },
      "outputs": [
        {
          "data": {
            "text/plain": [
              "SOCIEDADE DE ENSINO SUPERIOR ESTACIO DE SA LTDA                         6736\n",
              "SER EDUCACIONAL S.A.                                                    6578\n",
              "ASSUPERO ENSINO SUPERIOR LTDA.                                          5275\n",
              "ANHANGUERA EDUCACIONAL PARTICIPACOES S/A                                4359\n",
              "IREP SOCIEDADE DE ENSINO SUPERIOR, MEDIO E FUNDAMENTAL LTDA.            3893\n",
              "                                                                        ... \n",
              "UNEPES- UNIDADE DE ENSINO, PESQUISA E EXTENSAO DE SERRINHA LTDA - ME       1\n",
              "INSTITUTO DE EDUCACAO EDUCAR EIRELI  - ME                                  1\n",
              "ENAU EDUCACIONAL LTDA - EPP                                                1\n",
              "DIDACIEBE CENTRO INTEGRADO DE EDUCACAO BRASIL - EUROPA LTDA                1\n",
              "NOVATEC EDUCACIONAL LTDA                                                   1\n",
              "Name: Nome mantenedora, Length: 772, dtype: int64"
            ]
          },
          "execution_count": 65,
          "metadata": {},
          "output_type": "execute_result"
        }
      ],
      "source": [
        "fies2020['Nome mantenedora'].value_counts()"
      ]
    },
    {
      "cell_type": "markdown",
      "metadata": {
        "id": "zUNktxAWYZ60"
      },
      "source": [
        "Como não é possível visualizar todos os valores, pode-se retornar todos os valores não alfanuméricos para checar se existem dados que precisam ser tratados."
      ]
    },
    {
      "cell_type": "code",
      "execution_count": 66,
      "metadata": {
        "colab": {
          "base_uri": "https://localhost:8080/"
        },
        "id": "g9jfCnZSYZ60",
        "outputId": "6e4b6368-ddb5-4ac0-fa9c-24f89ee22052"
      },
      "outputs": [
        {
          "data": {
            "text/plain": [
              "array([], dtype=object)"
            ]
          },
          "execution_count": 66,
          "metadata": {},
          "output_type": "execute_result"
        }
      ],
      "source": [
        "fies2020['Nome mantenedora'][(fies2020['Nome mantenedora'].str.replace(' ','', regex=False).str.replace('-', '', regex=False).str.replace('.', '', regex=False).str.replace(',', '', regex=False).str.replace('/', '', regex=False).str.replace('&', '', regex=False).str.replace('(', '', regex=False).str.replace(')', '', regex=False).str.replace(\"'\", '', regex=False).str.replace('\"', '', regex=False).str.isalnum() != True)].unique()"
      ]
    },
    {
      "cell_type": "markdown",
      "metadata": {
        "id": "aTWwESYLeFIE"
      },
      "source": [
        "Como o resultado foi vazio, este campo está coerente, de forma que mais tratamentos não são necessários."
      ]
    },
    {
      "cell_type": "markdown",
      "metadata": {
        "id": "nf2rt6wKYZ61"
      },
      "source": [
        "### Natureza Jurídica Mantenedora"
      ]
    },
    {
      "cell_type": "markdown",
      "metadata": {
        "id": "puIrE_lRiySB"
      },
      "source": [
        "Primeiramente são avaliados os tipos de valores diferentes informados para este campo, por meio do comando \"unique\""
      ]
    },
    {
      "cell_type": "code",
      "execution_count": 67,
      "metadata": {
        "colab": {
          "base_uri": "https://localhost:8080/"
        },
        "id": "GFabz3L7YZ61",
        "outputId": "61c09044-9e5b-45a3-de87-934f745a962a"
      },
      "outputs": [
        {
          "data": {
            "text/plain": [
              "array(['PESSOA JURÍDICA DE DIREITO PRIVADO - SEM FINS LUCRATIVOS - ASSOCIAÇÃO DE UTILIDADE PÚBLICA',\n",
              "       'PRIVADA SEM FINS LUCRATIVOS',\n",
              "       'FUNDAÇÃO PÚBLICA DE DIREITO PRIVADO MUNICIPAL',\n",
              "       'PESSOA JURÍDICA DE DIREITO PÚBLICO - MUNICIPAL',\n",
              "       'PESSOA JURÍDICA DE DIREITO PRIVADO - SEM FINS LUCRATIVOS - FUNDAÇÃO',\n",
              "       'PRIVADA COM FINS LUCRATIVOS',\n",
              "       'PESSOA JURÍDICA DE DIREITO PRIVADO - COM FINS LUCRATIVOS - SOCIEDADE CIVIL',\n",
              "       'PESSOA JURÍDICA DE DIREITO PRIVADO - COM FINS LUCRATIVOS - SOCIEDADE MERCANTIL OU COMERCIAL',\n",
              "       'PESSOA JURÍDICA DE DIREITO PRIVADO - SEM FINS LUCRATIVOS - SOCIEDADE'],\n",
              "      dtype=object)"
            ]
          },
          "execution_count": 67,
          "metadata": {},
          "output_type": "execute_result"
        }
      ],
      "source": [
        "fies2020['Natureza Jurídica Mantenedora'].unique()"
      ]
    },
    {
      "cell_type": "markdown",
      "metadata": {
        "id": "2unlLWSkizuQ"
      },
      "source": [
        "Para visualizar a distribuição destes valores, o comando \"value_counts\" foi utilizado"
      ]
    },
    {
      "cell_type": "code",
      "execution_count": 68,
      "metadata": {
        "colab": {
          "base_uri": "https://localhost:8080/"
        },
        "id": "RGBB0_JoYZ61",
        "outputId": "6188dfe8-e0f4-4e9e-ff57-5cacdbb8988d"
      },
      "outputs": [
        {
          "data": {
            "text/plain": [
              "PRIVADA COM FINS LUCRATIVOS                                                                    118063\n",
              "PRIVADA SEM FINS LUCRATIVOS                                                                     32115\n",
              "PESSOA JURÍDICA DE DIREITO PRIVADO - SEM FINS LUCRATIVOS - ASSOCIAÇÃO DE UTILIDADE PÚBLICA      16123\n",
              "PESSOA JURÍDICA DE DIREITO PRIVADO - COM FINS LUCRATIVOS - SOCIEDADE CIVIL                      12109\n",
              "PESSOA JURÍDICA DE DIREITO PRIVADO - SEM FINS LUCRATIVOS - FUNDAÇÃO                              2059\n",
              "PESSOA JURÍDICA DE DIREITO PRIVADO - COM FINS LUCRATIVOS - SOCIEDADE MERCANTIL OU COMERCIAL       955\n",
              "PESSOA JURÍDICA DE DIREITO PÚBLICO - MUNICIPAL                                                    745\n",
              "FUNDAÇÃO PÚBLICA DE DIREITO PRIVADO MUNICIPAL                                                     189\n",
              "PESSOA JURÍDICA DE DIREITO PRIVADO - SEM FINS LUCRATIVOS - SOCIEDADE                               67\n",
              "Name: Natureza Jurídica Mantenedora, dtype: int64"
            ]
          },
          "execution_count": 68,
          "metadata": {},
          "output_type": "execute_result"
        }
      ],
      "source": [
        "fies2020['Natureza Jurídica Mantenedora'].value_counts()"
      ]
    },
    {
      "cell_type": "markdown",
      "metadata": {
        "id": "ag_grIR8dBOV"
      },
      "source": [
        "Este campo está coerente, de forma que mais tratamentos não são necessários."
      ]
    },
    {
      "cell_type": "markdown",
      "metadata": {
        "id": "AHCrfwxJYZ61"
      },
      "source": [
        "### Analisando Nome da IES"
      ]
    },
    {
      "cell_type": "markdown",
      "metadata": {
        "id": "qEU0sTJzi1SA"
      },
      "source": [
        "Primeiramente são avaliados os tipos de valores diferentes informados para este campo, por meio do comando \"unique\""
      ]
    },
    {
      "cell_type": "code",
      "execution_count": 69,
      "metadata": {
        "colab": {
          "base_uri": "https://localhost:8080/"
        },
        "id": "S9PWD9r9YZ62",
        "outputId": "4c6feeff-5237-4fa1-b79c-5f93d7a184e6"
      },
      "outputs": [
        {
          "data": {
            "text/plain": [
              "array(['PONTIFÍCIA UNIVERSIDADE CATÓLICA DO PARANÁ',\n",
              "       'UNIVERSIDADE CATÓLICA DE PERNAMBUCO',\n",
              "       'UNIVERSIDADE DE CAXIAS DO SUL', ...,\n",
              "       'FACULDADE SANTO AGOSTINHO DE SETE LAGOAS',\n",
              "       'FACULDADE UNIDA DE CAMPINAS', 'FACULDADE SÃO LUCAS DE CAÇAPAVA'],\n",
              "      dtype=object)"
            ]
          },
          "execution_count": 69,
          "metadata": {},
          "output_type": "execute_result"
        }
      ],
      "source": [
        "fies2020['Nome da IES'].unique()"
      ]
    },
    {
      "cell_type": "markdown",
      "metadata": {
        "id": "kTO070Mzi2vA"
      },
      "source": [
        "Para visualizar a distribuição destes valores, o comando \"value_counts\" foi utilizado"
      ]
    },
    {
      "cell_type": "code",
      "execution_count": 70,
      "metadata": {
        "colab": {
          "base_uri": "https://localhost:8080/"
        },
        "id": "Kl8hCvJWYZ62",
        "outputId": "e1b16715-2cd0-4f90-a15f-5a746f70e5ad"
      },
      "outputs": [
        {
          "data": {
            "text/plain": [
              "UNIVERSIDADE ESTÁCIO DE SÁ                                  5066\n",
              "UNIVERSIDADE PAULISTA                                       4545\n",
              "UNIVERSIDADE DO GRANDE RIO PROFESSOR JOSÉ DE SOUZA HERDY    2277\n",
              "UNIVERSIDADE CEUMA                                          2217\n",
              "CENTRO UNIVERSITÁRIO CEUNI - FAMETRO                        2143\n",
              "                                                            ... \n",
              "FACULDADE DE ADMINISTRAÇÃO DE TERESINA                         1\n",
              "FACULDADES UNIFICADAS DE IÚNA                                  1\n",
              "FACULDADE SÃO BERNARDO DE TECNOLOGIA                           1\n",
              "FACULDADE DE ADMINISTRAÇÃO DA FESPSP                           1\n",
              "FACULDADE DE CIÊNCIA E TECNOLOGIA                              1\n",
              "Name: Nome da IES, Length: 1282, dtype: int64"
            ]
          },
          "execution_count": 70,
          "metadata": {},
          "output_type": "execute_result"
        }
      ],
      "source": [
        "fies2020['Nome da IES'].value_counts()"
      ]
    },
    {
      "cell_type": "markdown",
      "metadata": {
        "id": "EBc-SnKueUYt"
      },
      "source": [
        "Como não é possível visualizar todos os valores, pode-se retornar todos os valores não alfanuméricos para checar se existem dados que precisam ser tratados."
      ]
    },
    {
      "cell_type": "code",
      "execution_count": 71,
      "metadata": {
        "colab": {
          "base_uri": "https://localhost:8080/"
        },
        "id": "1kMVJeeRYZ62",
        "outputId": "f5c0c9ca-b59e-4a72-fbae-9e60f0d05f20"
      },
      "outputs": [
        {
          "data": {
            "text/plain": [
              "array([], dtype=object)"
            ]
          },
          "execution_count": 71,
          "metadata": {},
          "output_type": "execute_result"
        }
      ],
      "source": [
        "fies2020['Nome da IES'][(fies2020['Nome da IES'].str.replace(' ','', regex=False).str.replace('-', '', regex=False).str.replace('.', '', regex=False).str.replace(',', '', regex=False).str.replace('/', '', regex=False).str.replace('&', '', regex=False).str.replace('(', '', regex=False).str.replace(')', '', regex=False).str.replace(\"'\", '', regex=False).str.replace('\"', '', regex=False).str.replace(':', '', regex=False).str.isalnum() != True)].unique()"
      ]
    },
    {
      "cell_type": "markdown",
      "metadata": {
        "id": "JXV9Kxrgexwz"
      },
      "source": [
        "Como o resultado foi vazio, este campo está coerente, de forma que mais tratamentos não são necessários."
      ]
    },
    {
      "cell_type": "markdown",
      "metadata": {
        "id": "Bx88dDsuYZ62"
      },
      "source": [
        "### Analisando Organização Acadêmica da IES"
      ]
    },
    {
      "cell_type": "markdown",
      "metadata": {
        "id": "5QiecrLhYZ63"
      },
      "source": [
        "Primeiramente são avaliados os tipos de valores diferentes informados para este campo, por meio do comando \"unique\""
      ]
    },
    {
      "cell_type": "code",
      "execution_count": 72,
      "metadata": {
        "colab": {
          "base_uri": "https://localhost:8080/"
        },
        "id": "H2_fxcM8YZ63",
        "outputId": "aca57116-6806-4c67-eecf-da8eab740458"
      },
      "outputs": [
        {
          "data": {
            "text/plain": [
              "array(['UNIVERSIDADE', 'CENTRO UNIVERSITÁRIO', 'FACULDADE '], dtype=object)"
            ]
          },
          "execution_count": 72,
          "metadata": {},
          "output_type": "execute_result"
        }
      ],
      "source": [
        "fies2020['Organização Acadêmica da IES'].unique()"
      ]
    },
    {
      "cell_type": "markdown",
      "metadata": {
        "id": "EXdp0EIxYZ63"
      },
      "source": [
        "Para visualizar a distribuição destes valores, o comando \"value_counts\" foi utilizado"
      ]
    },
    {
      "cell_type": "code",
      "execution_count": 73,
      "metadata": {
        "colab": {
          "base_uri": "https://localhost:8080/"
        },
        "id": "GQ_xNl0zYZ64",
        "outputId": "b70dc2c8-c039-411f-9f9a-3cc4d8b069ae"
      },
      "outputs": [
        {
          "data": {
            "text/plain": [
              "CENTRO UNIVERSITÁRIO    69843\n",
              "FACULDADE               67579\n",
              "UNIVERSIDADE            45003\n",
              "Name: Organização Acadêmica da IES, dtype: int64"
            ]
          },
          "execution_count": 73,
          "metadata": {},
          "output_type": "execute_result"
        }
      ],
      "source": [
        "fies2020['Organização Acadêmica da IES'].value_counts()"
      ]
    },
    {
      "cell_type": "markdown",
      "metadata": {
        "id": "P3jcStiUYZ64"
      },
      "source": [
        "Como os dados em questão estão coerentes, não serão necessárias verificações extras"
      ]
    },
    {
      "cell_type": "markdown",
      "metadata": {
        "id": "ZwaUTlCcYZ64"
      },
      "source": [
        "### Analisando UF do Local de Oferta "
      ]
    },
    {
      "cell_type": "markdown",
      "metadata": {
        "id": "204bDdmVYZ65"
      },
      "source": [
        "Primeiramente são avaliados os tipos de valores diferentes informados para este campo, por meio do comando \"unique\""
      ]
    },
    {
      "cell_type": "code",
      "execution_count": 74,
      "metadata": {
        "colab": {
          "base_uri": "https://localhost:8080/"
        },
        "id": "Q1yY_R0LYZ65",
        "outputId": "4f06bea6-3b3c-4442-ca4e-539491630d7c"
      },
      "outputs": [
        {
          "data": {
            "text/plain": [
              "array(['PR', 'PE', 'RS', 'SP', 'MG', 'BA', 'RJ', 'MS', 'ES', 'SC', 'GO',\n",
              "       'PB', 'SE', 'AL', 'DF', 'TO', 'CE', 'AM', 'RN', 'PI', 'PA', 'AP',\n",
              "       'RO', 'MT', 'MA', 'RR', 'AC'], dtype=object)"
            ]
          },
          "execution_count": 74,
          "metadata": {},
          "output_type": "execute_result"
        }
      ],
      "source": [
        "fies2020['UF do Local de Oferta'].unique()"
      ]
    },
    {
      "cell_type": "markdown",
      "metadata": {
        "id": "5UNKq9ezYZ66"
      },
      "source": [
        "Para visualizar a distribuição destes valores, o comando \"value_counts\" foi utilizado"
      ]
    },
    {
      "cell_type": "code",
      "execution_count": 75,
      "metadata": {
        "colab": {
          "base_uri": "https://localhost:8080/"
        },
        "id": "txmPNGJaYZ66",
        "outputId": "a7b45b43-ff6a-430b-dbdb-325e0daa4ee5"
      },
      "outputs": [
        {
          "data": {
            "text/plain": [
              "SP    24534\n",
              "MG    20830\n",
              "BA    15569\n",
              "RJ    15072\n",
              "CE    13639\n",
              "PE    10148\n",
              "PA     8596\n",
              "PR     7794\n",
              "MA     7272\n",
              "PB     6901\n",
              "GO     6499\n",
              "DF     6091\n",
              "AM     5738\n",
              "PI     5340\n",
              "RS     4471\n",
              "AL     3200\n",
              "TO     2804\n",
              "ES     2663\n",
              "SE     2396\n",
              "RN     2140\n",
              "MS     2037\n",
              "MT     2008\n",
              "SC     1986\n",
              "RO     1898\n",
              "AP     1367\n",
              "AC     1090\n",
              "RR      342\n",
              "Name: UF do Local de Oferta, dtype: int64"
            ]
          },
          "execution_count": 75,
          "metadata": {},
          "output_type": "execute_result"
        }
      ],
      "source": [
        "fies2020['UF do Local de Oferta'].value_counts()"
      ]
    },
    {
      "cell_type": "markdown",
      "metadata": {
        "id": "7mV-lX-_YZ67"
      },
      "source": [
        "Como os dados em questão estão coerentes, não serão necessárias verificações extras"
      ]
    },
    {
      "cell_type": "markdown",
      "metadata": {
        "id": "rpFpm49xYZ68"
      },
      "source": [
        "### Analisando Nome do curso "
      ]
    },
    {
      "cell_type": "markdown",
      "metadata": {
        "id": "LWzrEl_OYZ69"
      },
      "source": [
        "Primeiramente são avaliados os tipos de valores diferentes informados para este campo, por meio do comando \"unique\""
      ]
    },
    {
      "cell_type": "code",
      "execution_count": 76,
      "metadata": {
        "colab": {
          "base_uri": "https://localhost:8080/"
        },
        "id": "cvgvUypcYZ69",
        "outputId": "1a99645c-e21b-4ebe-ca39-53ec9f890c81"
      },
      "outputs": [
        {
          "data": {
            "text/plain": [
              "array(['FILOSOFIA', 'PEDAGOGIA', 'EDUCAÇÃO FÍSICA', 'DIREITO',\n",
              "       'SERVIÇO SOCIAL', 'CIÊNCIAS BIOLÓGICAS', 'ENGENHARIA CIVIL',\n",
              "       'ARQUITETURA E URBANISMO', 'CIÊNCIA DA COMPUTAÇÃO', 'PSICOLOGIA',\n",
              "       'ENFERMAGEM', 'MEDICINA', 'ODONTOLOGIA', 'FISIOTERAPIA',\n",
              "       'ENGENHARIA DA COMPUTAÇÃO', 'ENGENHARIA ELÉTRICA',\n",
              "       'ENGENHARIA MECÂNICA', 'ENGENHARIA QUÍMICA',\n",
              "       'SISTEMA DE INFORMAÇÃO', 'ENGENHARIA MECATRÔNICA', 'ADMINISTRAÇÃO',\n",
              "       'CIÊNCIAS CONTÁBEIS',\n",
              "       'COMUNICAÇÃO SOCIAL - PUBLICIDADE E PROPAGANDA',\n",
              "       'RELAÇÕES PÚBLICAS', 'JORNALISMO', 'NUTRIÇÃO',\n",
              "       'LETRAS - PORTUGUÊS E INGLÊS', 'CIÊNCIAS ECONÔMICAS',\n",
              "       'MEDICINA VETERINÁRIA', 'ENGENHARIA DE PRODUÇÃO', 'FARMÁCIA',\n",
              "       'AGRONOMIA', 'GASTRONOMIA', 'HISTÓRIA', 'QUÍMICA', 'FÍSICA',\n",
              "       'BIOTECNOLOGIA', 'TEATRO', 'JOGOS DIGITAIS',\n",
              "       'ENGENHARIA DE CONTROLE E AUTOMAÇÃO', 'DESIGN',\n",
              "       'ENGENHARIA BIOMÉDICA', 'ENGENHARIA DE SOFTWARE',\n",
              "       'SEGURANÇA DA INFORMAÇÃO', 'ENGENHARIA AMBIENTAL',\n",
              "       'SISTEMAS PARA INTERNET', 'COMÉRCIO INTERNACIONAL',\n",
              "       'GESTÃO DE RECURSOS HUMANOS', 'PROCESSOS GERENCIAIS', 'FOTOGRAFIA',\n",
              "       'MARKETING', 'RADIOLOGIA', 'ENGENHARIA AUTOMOTIVA',\n",
              "       'DESIGN DE INTERIORES', 'MODA', 'GESTÃO COMERCIAL', 'TURISMO',\n",
              "       'TERAPIA OCUPACIONAL', 'BIBLIOTECONOMIA', 'CIÊNCIAS SOCIAIS',\n",
              "       'FONOAUDIOLOGIA', 'ENGENHARIA AMBIENTAL E SANITÁRIA', 'GEOGRAFIA',\n",
              "       'GESTÃO DA TECNOLOGIA DA INFORMAÇÃO', 'ESTÉTICA E COSMÉTICA',\n",
              "       'GESTÃO DA PRODUÇÃO INDUSTRIAL', 'LOGÍSTICA', 'BIOMEDICINA',\n",
              "       'ENGENHARIA DE ALIMENTOS', 'ZOOTECNIA', 'COMÉRCIO EXTERIOR',\n",
              "       'SISTEMAS DE INFORMAÇÃO', 'ENGENHARIA DE PRODUÇÃO MECÂNICA',\n",
              "       'ANÁLISE E DESENVOLVIMENTO DE SISTEMAS', 'ENGENHARIA AGRONÔMICA',\n",
              "       'DESIGN GRÁFICO', 'ENGENHARIA DE COMPUTAÇÃO', 'DESIGN DE MODA',\n",
              "       'ENGENHARIA DE TELECOMUNICAÇÕES', 'GESTÃO FINANCEIRA', 'LETRAS',\n",
              "       'ENGENHARIA DE BIOPROCESSOS E BIOTECNOLOGIA', 'QUÍMICA INDUSTRIAL',\n",
              "       'RELAÇÕES INTERNACIONAIS', 'COMUNICAÇÃO SOCIAL - JORNALISMO',\n",
              "       'ENGENHARIA DE PRODUÇÃO CIVIL', 'CIÊNCIAS AERONÁUTICAS',\n",
              "       'ESTÉTICA', 'ENGENHARIA AERONÁUTICA', 'COMPUTAÇÃO GRÁFICA',\n",
              "       'ENGENHARIA DE ENERGIA', 'MÚSICA', 'SECRETARIADO EXECUTIVO',\n",
              "       'PUBLICIDADE E PROPAGANDA', 'LETRAS - LÍNGUA PORTUGUESA',\n",
              "       'REDES DE COMPUTADORES', 'GESTÃO DE SEGURANÇA PRIVADA', 'EVENTOS',\n",
              "       'REDES DE TELECOMUNICAÇÕES', 'MATEMÁTICA', 'PRODUÇÃO AUDIOVISUAL',\n",
              "       'PRODUÇÃO FONOGRÁFICA', 'CINEMA E AUDIOVISUAL',\n",
              "       'AUTOMAÇÃO INDUSTRIAL', 'ENGENHARIA DE PETRÓLEO',\n",
              "       'GESTÃO AMBIENTAL', 'CIÊNCIAS DA COMPUTAÇÃO', 'CINEMA',\n",
              "       'NEGÓCIOS IMOBILIÁRIOS', 'DESIGN DE ANIMAÇÃO',\n",
              "       'COMUNICAÇÃO SOCIAL - RELAÇÕES PÚBLICAS',\n",
              "       'LETRAS - PORTUGUÊS E ESPANHOL', 'LETRAS - TRADUTOR E INTÉRPRETE',\n",
              "       'COMUNICAÇÃO SOCIAL - RADIALISMO (RÁDIO E TV)',\n",
              "       'ENGENHARIA ELETRÔNICA', 'COMUNICAÇÃO INSTITUCIONAL',\n",
              "       'TRADUTOR E INTÉRPRETE', 'LETRAS - PORTUGUÊS', 'ARTES VISUAIS',\n",
              "       'MÚSICA - MÚSICA POPULAR BRASILEIRA', 'TEOLOGIA',\n",
              "       'CIÊNCIAS DE DADOS', 'RÁDIO, TV E INTERNET', 'AGRONEGÓCIO',\n",
              "       'ENGENHARIA AERONÁUTICA E ESPAÇO',\n",
              "       'COMUNICAÇÃO SOCIAL - RADIO E TELEVISÃO',\n",
              "       'ARTES E MÍDIAS DIGITAIS', 'ESTÉTICA E COSMETOLOGIA',\n",
              "       'LETRAS - INGLÊS', 'INFORMÁTICA', 'ENGENHARIA DE MINAS',\n",
              "       'MECATRÔNICA INDUSTRIAL', 'BANCO DE DADOS', 'GESTÃO DA QUALIDADE',\n",
              "       'DESIGN DE PRODUTO', 'GESTÃO HOSPITALAR', 'GESTÃO PÚBLICA',\n",
              "       'CAFEICULTURA', 'SOCIOLOGIA E POLÍTICA', 'CIÊNCIAS ATUARIAIS',\n",
              "       'SECRETARIADO EXECUTIVO TRILÍNGUE', 'PRODUÇÃO MULTIMÍDIA',\n",
              "       'ESTATÍSTICA', 'COMUNICAÇÃO E MARKETING', 'GESTÃO DE COOPERATIVAS',\n",
              "       'DESIGN VISUAL', 'MANUTENÇÃO DE AERONAVES', 'ARTES CÊNICAS',\n",
              "       'CONSTRUÇÃO DE EDIFÍCIOS', 'PILOTAGEM PROFISSIONAL DE AERONAVES',\n",
              "       'PETRÓLEO E GÁS', 'SEGURANÇA NO TRABALHO', 'SISTEMAS ELÉTRICOS',\n",
              "       'PRODUÇÃO CULTURAL', 'NEGÓCIOS DA MODA', 'QUIROPRAXIA',\n",
              "       'DESIGN DIGITAL', 'COMUNICAÇÃO SOCIAL - PRODUÇÃO EDITORIAL',\n",
              "       'HOTELARIA', 'AVIAÇÃO CIVIL', 'NATUROLOGIA', 'DESIGN DE GAMES',\n",
              "       'DANÇA', 'PODOLOGIA', 'CIÊNCIA DE DADOS', 'CRIMINOLOGIA',\n",
              "       'LETRAS - LIBRAS', 'ENGENHARIA CIVIL E AMBIENTAL',\n",
              "       'CIÊNCIA POLÍTICA', 'BIOLOGIA', 'ÓPTICA E OPTOMETRIA',\n",
              "       'CIÊNCIAS BIOLÓGICAS - MODALIDADE MÉDICA', 'ARQUEOLOGIA',\n",
              "       'ENERGIAS RENOVÁVEIS', 'GESTÃO DE PRODUÇÃO INDUSTRIAL',\n",
              "       'ENGENHARIA ELÉTRICA E ELETRÔNICA',\n",
              "       'LETRAS - LÍNGUA PORTUGUESA, LÍNGUA INGLESA E RESPECTIVAS LITERATURAS',\n",
              "       'COMUNICAÇÃO SOCIAL', 'ORGANIZAÇÃO DE SERVIÇOS JUDICIÁRIOS',\n",
              "       'GESTÃO DE RECURSOS HÍDRICOS', 'DEFESA CIBERNÉTICA',\n",
              "       'SEGURANÇA NO TRÂNSITO', 'CONSTRUÇÃO NAVAL', 'GEOPROCESSAMENTO',\n",
              "       'PRODUÇÃO AGRÍCOLA', 'LETRAS PORTUGUÊS E INGLÊS',\n",
              "       'ADMINISTRAÇÃO DE EMPRESAS', 'ENGENHARIA AGRÍCOLA', 'AUDIOVISUAL',\n",
              "       'ENGENHARIA DE PETRÓLEO E GÁS', 'ENGENHARIA FLORESTAL',\n",
              "       'GESTÃO DE SERVIÇOS JURÍDICOS, NOTARIAIS E DE REGISTRO',\n",
              "       'PAPEL E CELULOSE', 'GESTÃO DE SERVIÇOS JUDICIÁRIOS E NOTARIAIS',\n",
              "       'COMUNICAÇÃO SOCIAL - CINEMA E MÍDIAS DIGITAIS',\n",
              "       'CIÊNCIA DE DADOS E INTELIGÊNCIA ARTIFICIAL',\n",
              "       'PRODUÇÃO PUBLICITÁRIA', 'FABRICAÇÃO MECÂNICA', 'FUTEBOL',\n",
              "       'MUSICOTERAPIA', 'ENGENHARIA', 'MANUTENÇÃO INDUSTRIAL',\n",
              "       'SECRETARIADO EXECUTIVO - BILÍNGUE', 'OFTÁLMICA',\n",
              "       'GESTÃO DE TURISMO', 'COSMÉTICOS',\n",
              "       'ENGENHARIA INDUSTRIAL MECÂNICA', 'MÚSICA - CORDAS',\n",
              "       'ENGENHARIA AGRÍCOLA E AMBIENTAL',\n",
              "       'ENGENHARIA AMBIENTAL E ENERGIAS RENOVÁVEIS',\n",
              "       'LETRAS - LÍNGUA PORTUGUESA E LIBRAS', 'LETRAS - ESPANHOL',\n",
              "       'EDUCAÇÃO ESPECIAL', 'PRODUÇÃO DE CACAU E CHOCOLATE',\n",
              "       'PROPAGANDA E MARKETING', 'GESTÃO EMPREENDEDORA',\n",
              "       'SEGURANÇA PRIVADA', 'GESTÃO PORTUÁRIA', 'CIÊNCIA ECONÔMICA',\n",
              "       'ONTOPSICOLOGIA', 'CONTROLE DE OBRAS', 'PROCESSOS QUÍMICOS',\n",
              "       'GEOLOGIA', 'GESTÃO DESPORTIVA E DE LAZER',\n",
              "       'LETRAS - LÍNGUA PORTUGUESA E LITERATURAS DE LÍNGUA PORTUGUESA',\n",
              "       'TRANSPORTE AÉREO',\n",
              "       'LETRAS - PORTUGUÊS E INGLÊS E RESPECTIVAS LITERATURAS',\n",
              "       'ENGENHARIA CARTOGRÁFICA E DE AGRIMENSURA', 'BIOCOMBUSTÍVEIS',\n",
              "       'REFRIGERAÇÃO E CLIMATIZAÇÃO', 'TECNÓLOGO EM METALURGIA',\n",
              "       'ENGENHARIA DE PESCA', 'SEGURANÇA PÚBLICA', 'GERONTOLOGIA',\n",
              "       'OPTOMETRIA', 'ACUPUNTURA', 'CIÊNCIAS TEOLÓGICAS',\n",
              "       'CIÊNCIAS DA RELIGIÃO'], dtype=object)"
            ]
          },
          "execution_count": 76,
          "metadata": {},
          "output_type": "execute_result"
        }
      ],
      "source": [
        "fies2020['Nome do curso'].unique()"
      ]
    },
    {
      "cell_type": "markdown",
      "metadata": {
        "id": "cgCC5HQ-dvVz"
      },
      "source": [
        "Como não é possível visualizar todos os valores com facilidade, pode-se retornar todos os valores não alfanuméricos para checar se existem dados que precisam ser tratados."
      ]
    },
    {
      "cell_type": "code",
      "execution_count": 77,
      "metadata": {
        "colab": {
          "base_uri": "https://localhost:8080/"
        },
        "id": "qrINGk3GdjJM",
        "outputId": "793e72f1-c14e-41b1-80dc-17e2c5049518"
      },
      "outputs": [
        {
          "data": {
            "text/plain": [
              "array([], dtype=object)"
            ]
          },
          "execution_count": 77,
          "metadata": {},
          "output_type": "execute_result"
        }
      ],
      "source": [
        "fies2020['Nome do curso'][(fies2020['Nome do curso'].str.replace(' ','', regex=False).str.replace('-', '', regex=False).str.replace('.', '', regex=False).str.replace(',', '', regex=False).str.replace('/', '', regex=False).str.replace('&', '', regex=False).str.replace('(', '', regex=False).str.replace(')', '', regex=False).str.replace(\"'\", '', regex=False).str.replace('\"', '', regex=False).str.isalnum() != True)].unique()"
      ]
    },
    {
      "cell_type": "markdown",
      "metadata": {
        "id": "c9m1pOsXYZ6-"
      },
      "source": [
        "Como o resultado está vazio, os dados em questão estão coerentes, não serão necessárias verificações extras"
      ]
    },
    {
      "cell_type": "markdown",
      "metadata": {
        "id": "ymKB2lsGYZ6-"
      },
      "source": [
        "### Analisando Turno"
      ]
    },
    {
      "cell_type": "markdown",
      "metadata": {
        "id": "6Fnj7KHrYZ6_"
      },
      "source": [
        "Primeiramente são avaliados os tipos de valores diferentes informados para este campo, por meio do comando \"unique\""
      ]
    },
    {
      "cell_type": "code",
      "execution_count": 78,
      "metadata": {
        "colab": {
          "base_uri": "https://localhost:8080/"
        },
        "id": "rSWBtPtWYZ6_",
        "outputId": "8fe739f5-ef5c-4e9c-fb43-7b2ed1597ab3"
      },
      "outputs": [
        {
          "data": {
            "text/plain": [
              "array(['NOTURNO', 'MATUTINO', 'INTEGRAL', 'VESPERTINO'], dtype=object)"
            ]
          },
          "execution_count": 78,
          "metadata": {},
          "output_type": "execute_result"
        }
      ],
      "source": [
        "fies2020['Turno'].unique()"
      ]
    },
    {
      "cell_type": "markdown",
      "metadata": {
        "id": "tEkcSwYdYZ6_"
      },
      "source": [
        "Para visualizar a distribuição destes valores, o comando \"value_counts\" foi utilizado"
      ]
    },
    {
      "cell_type": "code",
      "execution_count": 79,
      "metadata": {
        "colab": {
          "base_uri": "https://localhost:8080/"
        },
        "id": "3sZVqduEYZ7A",
        "outputId": "9b1c862f-ee10-4ace-cb4c-fb26a911c1e3"
      },
      "outputs": [
        {
          "data": {
            "text/plain": [
              "NOTURNO       86859\n",
              "MATUTINO      45286\n",
              "INTEGRAL      44023\n",
              "VESPERTINO     6257\n",
              "Name: Turno, dtype: int64"
            ]
          },
          "execution_count": 79,
          "metadata": {},
          "output_type": "execute_result"
        }
      ],
      "source": [
        "fies2020['Turno'].value_counts()"
      ]
    },
    {
      "cell_type": "markdown",
      "metadata": {
        "id": "r0QmTGQ8YZ7B"
      },
      "source": [
        "Como os dados em questão estão coerentes, não serão necessárias verificações extras"
      ]
    },
    {
      "cell_type": "markdown",
      "metadata": {
        "id": "0DIQfkvhYZ7B"
      },
      "source": [
        "### Analisando Média nota Enem "
      ]
    },
    {
      "cell_type": "markdown",
      "metadata": {
        "id": "TGGE6lddYZ7C"
      },
      "source": [
        "Este campo está armazenado no dataframe como um objeto. Todavia, este campo deve possuir valor real, no caso, float. \n",
        "\n",
        "Para a análise não ser prejudicada por valores nulos, estes foram removidos da tabela."
      ]
    },
    {
      "cell_type": "code",
      "execution_count": 80,
      "metadata": {
        "id": "S5rjIS9rYZ7C"
      },
      "outputs": [],
      "source": [
        "fies2020 = fies2020.dropna(subset=[\"Média nota Enem\"])"
      ]
    },
    {
      "cell_type": "markdown",
      "metadata": {
        "id": "dUw1UIEyYZ7D"
      },
      "source": [
        "Ao observar os valores por meio do value_counts, pode-se perceber que estes foram considerados como string pois foram armazenados com vírgulas, quando, na verdade, para serem reconhecidos como numéricos, deveriam ser armazenados com pontos."
      ]
    },
    {
      "cell_type": "code",
      "execution_count": 81,
      "metadata": {
        "colab": {
          "base_uri": "https://localhost:8080/"
        },
        "id": "K8NIGJZMYZ7D",
        "outputId": "e7159b6c-da8d-44ef-a758-0dd3f4d8282c"
      },
      "outputs": [
        {
          "data": {
            "text/plain": [
              "534,4     56\n",
              "504,28    55\n",
              "531,28    53\n",
              "527,62    51\n",
              "546,3     51\n",
              "          ..\n",
              "607,8      1\n",
              "603,28     1\n",
              "673,4      1\n",
              "695,24     1\n",
              "764,98     1\n",
              "Name: Média nota Enem, Length: 15208, dtype: int64"
            ]
          },
          "execution_count": 81,
          "metadata": {},
          "output_type": "execute_result"
        }
      ],
      "source": [
        "fies2020['Média nota Enem'].value_counts()"
      ]
    },
    {
      "cell_type": "markdown",
      "metadata": {
        "id": "wELaISpiYZ7E"
      },
      "source": [
        "Sendo assim, foi necessária a substituição das vírgulas por pontos para a coluna em questão do dataset"
      ]
    },
    {
      "cell_type": "code",
      "execution_count": 82,
      "metadata": {
        "id": "9U26eX3FYZ7E"
      },
      "outputs": [],
      "source": [
        "fies2020['Média nota Enem'] = fies2020['Média nota Enem'].str.replace(',', '.')"
      ]
    },
    {
      "cell_type": "markdown",
      "metadata": {
        "id": "qBP0mGzVYZ7F"
      },
      "source": [
        "Uma vez que as vírgulas foram removidas, é possível atualizar a coluna em questão para esta receber um valor numérico"
      ]
    },
    {
      "cell_type": "code",
      "execution_count": 83,
      "metadata": {
        "id": "pFupeZU4YZ7F"
      },
      "outputs": [],
      "source": [
        "fies2020['Média nota Enem'] = pd.to_numeric(fies2020['Média nota Enem'])"
      ]
    },
    {
      "cell_type": "code",
      "execution_count": 84,
      "metadata": {
        "colab": {
          "base_uri": "https://localhost:8080/"
        },
        "id": "vQC7Al-VYZ7G",
        "outputId": "b0d5bdab-c244-4cf8-ffc8-356243c0c971"
      },
      "outputs": [
        {
          "data": {
            "text/plain": [
              "0         521.68\n",
              "1         645.34\n",
              "2         645.34\n",
              "3         523.46\n",
              "4         534.44\n",
              "           ...  \n",
              "212399    575.60\n",
              "212400    605.92\n",
              "212401    543.58\n",
              "212402    498.02\n",
              "212403    581.30\n",
              "Name: Média nota Enem, Length: 182425, dtype: float64"
            ]
          },
          "execution_count": 84,
          "metadata": {},
          "output_type": "execute_result"
        }
      ],
      "source": [
        "fies2020['Média nota Enem']"
      ]
    },
    {
      "cell_type": "code",
      "execution_count": 85,
      "metadata": {
        "colab": {
          "base_uri": "https://localhost:8080/"
        },
        "id": "qgTk8-uiYZ7G",
        "outputId": "ce2d98ab-6705-4c6c-910a-dacd14e9506f"
      },
      "outputs": [
        {
          "data": {
            "text/plain": [
              "534.40    56\n",
              "504.28    55\n",
              "531.28    53\n",
              "527.62    51\n",
              "546.30    51\n",
              "          ..\n",
              "607.80     1\n",
              "603.28     1\n",
              "673.40     1\n",
              "695.24     1\n",
              "764.98     1\n",
              "Name: Média nota Enem, Length: 15208, dtype: int64"
            ]
          },
          "execution_count": 85,
          "metadata": {},
          "output_type": "execute_result"
        }
      ],
      "source": [
        "fies2020['Média nota Enem'].value_counts()"
      ]
    },
    {
      "cell_type": "markdown",
      "metadata": {
        "id": "k9UZRb1SYZ7H"
      },
      "source": [
        "Ao observar a organização do dataframe por meio do comando \"info\", pode-se perceber que este campo agora é reconhecido como float"
      ]
    },
    {
      "cell_type": "code",
      "execution_count": 86,
      "metadata": {
        "colab": {
          "base_uri": "https://localhost:8080/"
        },
        "id": "xh8EUMUEYZ7H",
        "outputId": "e492c2ee-2aa4-4fa0-e68e-b56605b96ff2"
      },
      "outputs": [
        {
          "name": "stdout",
          "output_type": "stream",
          "text": [
            "<class 'pandas.core.frame.DataFrame'>\n",
            "Int64Index: 182425 entries, 0 to 212403\n",
            "Data columns (total 30 columns):\n",
            " #   Column                          Non-Null Count   Dtype         \n",
            "---  ------                          --------------   -----         \n",
            " 0   ID do estudante                 182425 non-null  int64         \n",
            " 1   Sexo                            182425 non-null  object        \n",
            " 2   Data de Nascimento              182425 non-null  datetime64[ns]\n",
            " 3   UF de residência                182425 non-null  object        \n",
            " 4   Etnia/Cor                       182425 non-null  object        \n",
            " 5   Pessoa com deficiência?         182425 non-null  object        \n",
            " 6   Ano conclusão ensino médio      182425 non-null  int64         \n",
            " 7   Concluiu curso superior?        182425 non-null  object        \n",
            " 8   Nº de membros Grupo Familiar    182425 non-null  int64         \n",
            " 9   Renda familiar mensal bruta     182425 non-null  float64       \n",
            " 10  Renda mensal bruta per capita   182425 non-null  float64       \n",
            " 11  UF                              182425 non-null  object        \n",
            " 12  Área do conhecimento            182425 non-null  object        \n",
            " 13  Subárea do conhecimento         182425 non-null  object        \n",
            " 14  Opções de cursos da inscrição   182425 non-null  int64         \n",
            " 15  Nome mantenedora                182425 non-null  object        \n",
            " 16  Natureza Jurídica Mantenedora   182425 non-null  object        \n",
            " 17  Nome da IES                     182425 non-null  object        \n",
            " 18  Organização Acadêmica da IES    182425 non-null  object        \n",
            " 19  UF do Local de Oferta           182425 non-null  object        \n",
            " 20  Nome do curso                   182425 non-null  object        \n",
            " 21  Turno                           182425 non-null  object        \n",
            " 22  Média nota Enem                 182425 non-null  float64       \n",
            " 23  Ano do Enem                     182425 non-null  int64         \n",
            " 24  Redação                         182425 non-null  int64         \n",
            " 25  Matemática e suas Tecnologias   182425 non-null  object        \n",
            " 26  Linguagens, Códigos e suas Tec  182425 non-null  object        \n",
            " 27  Ciências Natureza e suas Tec    182425 non-null  object        \n",
            " 28  Ciências Humanas e suas Tec     182425 non-null  object        \n",
            " 29  Situação Inscrição Fies         182425 non-null  object        \n",
            "dtypes: datetime64[ns](1), float64(3), int64(6), object(20)\n",
            "memory usage: 43.1+ MB\n"
          ]
        }
      ],
      "source": [
        "fies2020.info()"
      ]
    },
    {
      "cell_type": "markdown",
      "metadata": {
        "id": "CWV_OYBOYZ7I"
      },
      "source": [
        "### Analisando Matemática e suas Tecnologias"
      ]
    },
    {
      "cell_type": "markdown",
      "metadata": {
        "id": "viNor0oVYZ7I"
      },
      "source": [
        "Este campo está armazenado no dataframe como um objeto. Todavia, este campo deve possuir valor real, no caso, float. \n",
        "\n",
        "Para a análise não ser prejudicada por valores nulos, estes foram removidos da tabela."
      ]
    },
    {
      "cell_type": "code",
      "execution_count": 87,
      "metadata": {
        "id": "B7353XSGYZ7I"
      },
      "outputs": [],
      "source": [
        "fies2020 = fies2020.dropna(subset=[\"Matemática e suas Tecnologias\"])"
      ]
    },
    {
      "cell_type": "markdown",
      "metadata": {
        "id": "VMPXZ6qzYZ7I"
      },
      "source": [
        "Ao observar os valores por meio do value_counts, pode-se perceber que estes foram considerados como string pois foram armazenados com vírgulas, quando, na verdade, para serem reconhecidos como numéricos, deveriam ser armazenados com pontos."
      ]
    },
    {
      "cell_type": "code",
      "execution_count": 88,
      "metadata": {
        "colab": {
          "base_uri": "https://localhost:8080/"
        },
        "id": "A8-A5DPQYZ7J",
        "outputId": "8db77b9c-52f8-4958-a2f5-b6731bf500c7"
      },
      "outputs": [
        {
          "data": {
            "text/plain": [
              "442      116\n",
              "468,2    109\n",
              "496,4    104\n",
              "508,3    104\n",
              "472,1    103\n",
              "        ... \n",
              "917,4      1\n",
              "834,3      1\n",
              "866,1      1\n",
              "857,6      1\n",
              "816,9      1\n",
              "Name: Matemática e suas Tecnologias, Length: 5344, dtype: int64"
            ]
          },
          "execution_count": 88,
          "metadata": {},
          "output_type": "execute_result"
        }
      ],
      "source": [
        "fies2020['Matemática e suas Tecnologias'].value_counts()"
      ]
    },
    {
      "cell_type": "markdown",
      "metadata": {
        "id": "TTdlPy4KYZ7J"
      },
      "source": [
        "Sendo assim, foi necessária a substituição das vírgulas por pontos para a coluna em questão do dataset"
      ]
    },
    {
      "cell_type": "code",
      "execution_count": 89,
      "metadata": {
        "id": "ybeg16MQYZ7K"
      },
      "outputs": [],
      "source": [
        "fies2020['Matemática e suas Tecnologias'] = fies2020['Matemática e suas Tecnologias'].str.replace(',', '.')"
      ]
    },
    {
      "cell_type": "markdown",
      "metadata": {
        "id": "WgNqYzKAYZ7K"
      },
      "source": [
        "Uma vez que as vírgulas foram removidas, é possível atualizar a coluna em questão para esta receber um valor numérico"
      ]
    },
    {
      "cell_type": "code",
      "execution_count": 90,
      "metadata": {
        "id": "X0XJIWMRYZ7K"
      },
      "outputs": [],
      "source": [
        "fies2020['Matemática e suas Tecnologias'] = pd.to_numeric(fies2020['Matemática e suas Tecnologias'])"
      ]
    },
    {
      "cell_type": "code",
      "execution_count": 91,
      "metadata": {
        "colab": {
          "base_uri": "https://localhost:8080/"
        },
        "id": "taDtE6VqYZ7L",
        "outputId": "ced0ac10-e1de-4f90-806d-f032c955db5e"
      },
      "outputs": [
        {
          "data": {
            "text/plain": [
              "0         421.3\n",
              "1         628.5\n",
              "2         628.5\n",
              "3         456.9\n",
              "4         492.1\n",
              "          ...  \n",
              "212399    486.2\n",
              "212400    523.2\n",
              "212401    500.5\n",
              "212402    625.6\n",
              "212403    566.3\n",
              "Name: Matemática e suas Tecnologias, Length: 182425, dtype: float64"
            ]
          },
          "execution_count": 91,
          "metadata": {},
          "output_type": "execute_result"
        }
      ],
      "source": [
        "fies2020['Matemática e suas Tecnologias']"
      ]
    },
    {
      "cell_type": "code",
      "execution_count": 92,
      "metadata": {
        "colab": {
          "base_uri": "https://localhost:8080/"
        },
        "id": "q4-zsXiDYZ7L",
        "outputId": "69a2b8fb-4c73-419e-998c-ac63321cc5b9"
      },
      "outputs": [
        {
          "data": {
            "text/plain": [
              "442.0    116\n",
              "468.2    109\n",
              "496.4    104\n",
              "508.3    104\n",
              "472.1    103\n",
              "        ... \n",
              "917.4      1\n",
              "834.3      1\n",
              "866.1      1\n",
              "857.6      1\n",
              "816.9      1\n",
              "Name: Matemática e suas Tecnologias, Length: 5344, dtype: int64"
            ]
          },
          "execution_count": 92,
          "metadata": {},
          "output_type": "execute_result"
        }
      ],
      "source": [
        "fies2020['Matemática e suas Tecnologias'].value_counts()"
      ]
    },
    {
      "cell_type": "markdown",
      "metadata": {
        "id": "2mjFJxzWYZ7M"
      },
      "source": [
        "Ao observar a organização do dataframe por meio do comando \"info\", pode-se perceber que este campo agora é reconhecido como float"
      ]
    },
    {
      "cell_type": "code",
      "execution_count": 93,
      "metadata": {
        "colab": {
          "base_uri": "https://localhost:8080/"
        },
        "id": "FzDmzAWmYZ7M",
        "outputId": "47b0b1e8-4e84-47f2-c957-69adef1b5d94"
      },
      "outputs": [
        {
          "name": "stdout",
          "output_type": "stream",
          "text": [
            "<class 'pandas.core.frame.DataFrame'>\n",
            "Int64Index: 182425 entries, 0 to 212403\n",
            "Data columns (total 30 columns):\n",
            " #   Column                          Non-Null Count   Dtype         \n",
            "---  ------                          --------------   -----         \n",
            " 0   ID do estudante                 182425 non-null  int64         \n",
            " 1   Sexo                            182425 non-null  object        \n",
            " 2   Data de Nascimento              182425 non-null  datetime64[ns]\n",
            " 3   UF de residência                182425 non-null  object        \n",
            " 4   Etnia/Cor                       182425 non-null  object        \n",
            " 5   Pessoa com deficiência?         182425 non-null  object        \n",
            " 6   Ano conclusão ensino médio      182425 non-null  int64         \n",
            " 7   Concluiu curso superior?        182425 non-null  object        \n",
            " 8   Nº de membros Grupo Familiar    182425 non-null  int64         \n",
            " 9   Renda familiar mensal bruta     182425 non-null  float64       \n",
            " 10  Renda mensal bruta per capita   182425 non-null  float64       \n",
            " 11  UF                              182425 non-null  object        \n",
            " 12  Área do conhecimento            182425 non-null  object        \n",
            " 13  Subárea do conhecimento         182425 non-null  object        \n",
            " 14  Opções de cursos da inscrição   182425 non-null  int64         \n",
            " 15  Nome mantenedora                182425 non-null  object        \n",
            " 16  Natureza Jurídica Mantenedora   182425 non-null  object        \n",
            " 17  Nome da IES                     182425 non-null  object        \n",
            " 18  Organização Acadêmica da IES    182425 non-null  object        \n",
            " 19  UF do Local de Oferta           182425 non-null  object        \n",
            " 20  Nome do curso                   182425 non-null  object        \n",
            " 21  Turno                           182425 non-null  object        \n",
            " 22  Média nota Enem                 182425 non-null  float64       \n",
            " 23  Ano do Enem                     182425 non-null  int64         \n",
            " 24  Redação                         182425 non-null  int64         \n",
            " 25  Matemática e suas Tecnologias   182425 non-null  float64       \n",
            " 26  Linguagens, Códigos e suas Tec  182425 non-null  object        \n",
            " 27  Ciências Natureza e suas Tec    182425 non-null  object        \n",
            " 28  Ciências Humanas e suas Tec     182425 non-null  object        \n",
            " 29  Situação Inscrição Fies         182425 non-null  object        \n",
            "dtypes: datetime64[ns](1), float64(4), int64(6), object(19)\n",
            "memory usage: 43.1+ MB\n"
          ]
        }
      ],
      "source": [
        "fies2020.info()"
      ]
    },
    {
      "cell_type": "markdown",
      "metadata": {
        "id": "wf8gpnEXYZ7N"
      },
      "source": [
        "### Analisando Linguagens, Códigos e suas Tec"
      ]
    },
    {
      "cell_type": "markdown",
      "metadata": {
        "id": "uCYK22oXYZ7N"
      },
      "source": [
        "Este campo está armazenado no dataframe como um objeto. Todavia, este campo deve possuir valor real, no caso, float. \n",
        "\n",
        "Para a análise não ser prejudicada por valores nulos, estes foram removidos da tabela."
      ]
    },
    {
      "cell_type": "code",
      "execution_count": 94,
      "metadata": {
        "id": "ZomDWlRwYZ7O"
      },
      "outputs": [],
      "source": [
        "fies2020 = fies2020.dropna(subset=[\"Linguagens, Códigos e suas Tec\"])"
      ]
    },
    {
      "cell_type": "markdown",
      "metadata": {
        "id": "xj6r5DYNYZ7O"
      },
      "source": [
        "Ao observar os valores por meio do value_counts, pode-se perceber que estes foram considerados como string pois foram armazenados com vírgulas, quando, na verdade, para serem reconhecidos como numéricos, deveriam ser armazenados com pontos.\n"
      ]
    },
    {
      "cell_type": "code",
      "execution_count": 95,
      "metadata": {
        "colab": {
          "base_uri": "https://localhost:8080/"
        },
        "id": "wR11tnrkYZ7O",
        "outputId": "4e9c7185-2d07-4acd-ca5e-f22c0f72c52b"
      },
      "outputs": [
        {
          "data": {
            "text/plain": [
              "526,9    198\n",
              "524,4    198\n",
              "539,3    191\n",
              "521,6    187\n",
              "519      185\n",
              "        ... \n",
              "711,7      1\n",
              "379,3      1\n",
              "698        1\n",
              "376,5      1\n",
              "379,6      1\n",
              "Name: Linguagens, Códigos e suas Tec, Length: 3517, dtype: int64"
            ]
          },
          "execution_count": 95,
          "metadata": {},
          "output_type": "execute_result"
        }
      ],
      "source": [
        "fies2020['Linguagens, Códigos e suas Tec'].value_counts()"
      ]
    },
    {
      "cell_type": "markdown",
      "metadata": {
        "id": "sxlohtJIYZ7P"
      },
      "source": [
        "Sendo assim, foi necessária a substituição das vírgulas por pontos para a coluna em questão do dataset"
      ]
    },
    {
      "cell_type": "code",
      "execution_count": 96,
      "metadata": {
        "id": "CDcgG36PYZ7Q"
      },
      "outputs": [],
      "source": [
        "fies2020['Linguagens, Códigos e suas Tec'] = fies2020['Linguagens, Códigos e suas Tec'].str.replace(',', '.')"
      ]
    },
    {
      "cell_type": "markdown",
      "metadata": {
        "id": "Ec7v5OY5YZ7R"
      },
      "source": [
        "Uma vez que as vírgulas foram removidas, é possível atualizar a coluna em questão para esta receber um valor numérico"
      ]
    },
    {
      "cell_type": "code",
      "execution_count": 97,
      "metadata": {
        "id": "km1PYisMYZ7S"
      },
      "outputs": [],
      "source": [
        "fies2020['Linguagens, Códigos e suas Tec'] = pd.to_numeric(fies2020['Linguagens, Códigos e suas Tec'])"
      ]
    },
    {
      "cell_type": "code",
      "execution_count": 98,
      "metadata": {
        "colab": {
          "base_uri": "https://localhost:8080/"
        },
        "id": "nP225bqsYZ7S",
        "outputId": "dfa34fce-d26c-4d42-a541-2d1f3fc4d17d"
      },
      "outputs": [
        {
          "data": {
            "text/plain": [
              "0         563.0\n",
              "1         642.4\n",
              "2         642.4\n",
              "3         579.9\n",
              "4         468.6\n",
              "          ...  \n",
              "212399    559.3\n",
              "212400    533.3\n",
              "212401    501.4\n",
              "212402    518.6\n",
              "212403    547.2\n",
              "Name: Linguagens, Códigos e suas Tec, Length: 182425, dtype: float64"
            ]
          },
          "execution_count": 98,
          "metadata": {},
          "output_type": "execute_result"
        }
      ],
      "source": [
        "fies2020['Linguagens, Códigos e suas Tec']"
      ]
    },
    {
      "cell_type": "code",
      "execution_count": 99,
      "metadata": {
        "colab": {
          "base_uri": "https://localhost:8080/"
        },
        "id": "Xf1TJKDMYZ7T",
        "outputId": "a0713bb0-563f-4c50-86f4-9eb62b200ce1"
      },
      "outputs": [
        {
          "data": {
            "text/plain": [
              "526.9    198\n",
              "524.4    198\n",
              "539.3    191\n",
              "521.6    187\n",
              "519.0    185\n",
              "        ... \n",
              "711.7      1\n",
              "379.3      1\n",
              "698.0      1\n",
              "376.5      1\n",
              "379.6      1\n",
              "Name: Linguagens, Códigos e suas Tec, Length: 3517, dtype: int64"
            ]
          },
          "execution_count": 99,
          "metadata": {},
          "output_type": "execute_result"
        }
      ],
      "source": [
        "fies2020['Linguagens, Códigos e suas Tec'].value_counts()"
      ]
    },
    {
      "cell_type": "markdown",
      "metadata": {
        "id": "TxxdSSyAYZ7T"
      },
      "source": [
        "Ao observar a organização do dataframe por meio do comando \"info\", pode-se perceber que este campo agora é reconhecido como float"
      ]
    },
    {
      "cell_type": "code",
      "execution_count": 100,
      "metadata": {
        "colab": {
          "base_uri": "https://localhost:8080/"
        },
        "id": "I8zG8m98YZ7T",
        "outputId": "a2ce9ea4-6855-410e-93bc-7b0b74a4809c"
      },
      "outputs": [
        {
          "name": "stdout",
          "output_type": "stream",
          "text": [
            "<class 'pandas.core.frame.DataFrame'>\n",
            "Int64Index: 182425 entries, 0 to 212403\n",
            "Data columns (total 30 columns):\n",
            " #   Column                          Non-Null Count   Dtype         \n",
            "---  ------                          --------------   -----         \n",
            " 0   ID do estudante                 182425 non-null  int64         \n",
            " 1   Sexo                            182425 non-null  object        \n",
            " 2   Data de Nascimento              182425 non-null  datetime64[ns]\n",
            " 3   UF de residência                182425 non-null  object        \n",
            " 4   Etnia/Cor                       182425 non-null  object        \n",
            " 5   Pessoa com deficiência?         182425 non-null  object        \n",
            " 6   Ano conclusão ensino médio      182425 non-null  int64         \n",
            " 7   Concluiu curso superior?        182425 non-null  object        \n",
            " 8   Nº de membros Grupo Familiar    182425 non-null  int64         \n",
            " 9   Renda familiar mensal bruta     182425 non-null  float64       \n",
            " 10  Renda mensal bruta per capita   182425 non-null  float64       \n",
            " 11  UF                              182425 non-null  object        \n",
            " 12  Área do conhecimento            182425 non-null  object        \n",
            " 13  Subárea do conhecimento         182425 non-null  object        \n",
            " 14  Opções de cursos da inscrição   182425 non-null  int64         \n",
            " 15  Nome mantenedora                182425 non-null  object        \n",
            " 16  Natureza Jurídica Mantenedora   182425 non-null  object        \n",
            " 17  Nome da IES                     182425 non-null  object        \n",
            " 18  Organização Acadêmica da IES    182425 non-null  object        \n",
            " 19  UF do Local de Oferta           182425 non-null  object        \n",
            " 20  Nome do curso                   182425 non-null  object        \n",
            " 21  Turno                           182425 non-null  object        \n",
            " 22  Média nota Enem                 182425 non-null  float64       \n",
            " 23  Ano do Enem                     182425 non-null  int64         \n",
            " 24  Redação                         182425 non-null  int64         \n",
            " 25  Matemática e suas Tecnologias   182425 non-null  float64       \n",
            " 26  Linguagens, Códigos e suas Tec  182425 non-null  float64       \n",
            " 27  Ciências Natureza e suas Tec    182425 non-null  object        \n",
            " 28  Ciências Humanas e suas Tec     182425 non-null  object        \n",
            " 29  Situação Inscrição Fies         182425 non-null  object        \n",
            "dtypes: datetime64[ns](1), float64(5), int64(6), object(18)\n",
            "memory usage: 43.1+ MB\n"
          ]
        }
      ],
      "source": [
        "fies2020.info()"
      ]
    },
    {
      "cell_type": "markdown",
      "metadata": {
        "id": "5nytJcbxYZ7U"
      },
      "source": [
        "### Analisando Ciências Natureza e suas Tec"
      ]
    },
    {
      "cell_type": "markdown",
      "metadata": {
        "id": "MUY904lDYZ7U"
      },
      "source": [
        "Este campo está armazenado no dataframe como um objeto. Todavia, este campo deve possuir valor real, no caso, float. \n",
        "\n",
        "Para a análise não ser prejudicada por valores nulos, estes foram removidos da tabela."
      ]
    },
    {
      "cell_type": "code",
      "execution_count": 101,
      "metadata": {
        "id": "O4oFvdBfYZ7U"
      },
      "outputs": [],
      "source": [
        "fies2020 = fies2020.dropna(subset=[\"Ciências Natureza e suas Tec\"])"
      ]
    },
    {
      "cell_type": "markdown",
      "metadata": {
        "id": "58YZgbeZYZ7U"
      },
      "source": [
        "Ao observar os valores por meio do value_counts, pode-se perceber que estes foram considerados como string pois foram armazenados com vírgulas, quando, na verdade, para serem reconhecidos como numéricos, deveriam ser armazenados com pontos.\n"
      ]
    },
    {
      "cell_type": "code",
      "execution_count": 102,
      "metadata": {
        "colab": {
          "base_uri": "https://localhost:8080/"
        },
        "id": "oE5OaNZxYZ7U",
        "outputId": "73d4b13d-d4e7-487d-9afa-6372e352f830"
      },
      "outputs": [
        {
          "data": {
            "text/plain": [
              "445,1    152\n",
              "440,4    135\n",
              "509,9    133\n",
              "483,9    133\n",
              "493,7    133\n",
              "        ... \n",
              "728,4      1\n",
              "729,9      1\n",
              "351,1      1\n",
              "309,1      1\n",
              "343,5      1\n",
              "Name: Ciências Natureza e suas Tec, Length: 4010, dtype: int64"
            ]
          },
          "execution_count": 102,
          "metadata": {},
          "output_type": "execute_result"
        }
      ],
      "source": [
        "fies2020['Ciências Natureza e suas Tec'].value_counts()"
      ]
    },
    {
      "cell_type": "markdown",
      "metadata": {
        "id": "BShiR_UuYZ7V"
      },
      "source": [
        "Sendo assim, foi necessária a substituição das vírgulas por pontos para a coluna em questão do dataset"
      ]
    },
    {
      "cell_type": "code",
      "execution_count": 103,
      "metadata": {
        "id": "UkM24jg5YZ7V"
      },
      "outputs": [],
      "source": [
        "fies2020['Ciências Natureza e suas Tec'] = fies2020['Ciências Natureza e suas Tec'].str.replace(',', '.')"
      ]
    },
    {
      "cell_type": "markdown",
      "metadata": {
        "id": "-gExhbmlYZ7V"
      },
      "source": [
        "Uma vez que as vírgulas foram removidas, é possível atualizar a coluna em questão para esta receber um valor numérico"
      ]
    },
    {
      "cell_type": "code",
      "execution_count": 104,
      "metadata": {
        "id": "kaTU1muhYZ7V"
      },
      "outputs": [],
      "source": [
        "fies2020['Ciências Natureza e suas Tec'] = pd.to_numeric(fies2020['Ciências Natureza e suas Tec'])"
      ]
    },
    {
      "cell_type": "code",
      "execution_count": 105,
      "metadata": {
        "colab": {
          "base_uri": "https://localhost:8080/"
        },
        "id": "MF0qi_anYZ7V",
        "outputId": "fed17d9f-810d-4c03-e47f-4ef02493a2d0"
      },
      "outputs": [
        {
          "data": {
            "text/plain": [
              "0         497.0\n",
              "1         532.2\n",
              "2         532.2\n",
              "3         431.8\n",
              "4         565.8\n",
              "          ...  \n",
              "212399    544.3\n",
              "212400    546.5\n",
              "212401    410.5\n",
              "212402    399.4\n",
              "212403    493.5\n",
              "Name: Ciências Natureza e suas Tec, Length: 182425, dtype: float64"
            ]
          },
          "execution_count": 105,
          "metadata": {},
          "output_type": "execute_result"
        }
      ],
      "source": [
        "fies2020['Ciências Natureza e suas Tec']"
      ]
    },
    {
      "cell_type": "code",
      "execution_count": 106,
      "metadata": {
        "colab": {
          "base_uri": "https://localhost:8080/"
        },
        "id": "S25IjT8VYZ7W",
        "outputId": "cc69220d-eae4-4254-9dc8-6c78bee2dc83"
      },
      "outputs": [
        {
          "data": {
            "text/plain": [
              "445.1    152\n",
              "440.4    135\n",
              "509.9    133\n",
              "483.9    133\n",
              "493.7    133\n",
              "        ... \n",
              "728.4      1\n",
              "729.9      1\n",
              "351.1      1\n",
              "309.1      1\n",
              "343.5      1\n",
              "Name: Ciências Natureza e suas Tec, Length: 4010, dtype: int64"
            ]
          },
          "execution_count": 106,
          "metadata": {},
          "output_type": "execute_result"
        }
      ],
      "source": [
        "fies2020['Ciências Natureza e suas Tec'].value_counts()"
      ]
    },
    {
      "cell_type": "markdown",
      "metadata": {
        "id": "nqvWORQnYZ7W"
      },
      "source": [
        "Ao observar a organização do dataframe por meio do comando \"info\", pode-se perceber que este campo agora é reconhecido como float"
      ]
    },
    {
      "cell_type": "code",
      "execution_count": 107,
      "metadata": {
        "colab": {
          "base_uri": "https://localhost:8080/"
        },
        "id": "LNzum0xBYZ7W",
        "outputId": "1ae3f481-d27d-4022-c0a6-2d90821e4c15"
      },
      "outputs": [
        {
          "name": "stdout",
          "output_type": "stream",
          "text": [
            "<class 'pandas.core.frame.DataFrame'>\n",
            "Int64Index: 182425 entries, 0 to 212403\n",
            "Data columns (total 30 columns):\n",
            " #   Column                          Non-Null Count   Dtype         \n",
            "---  ------                          --------------   -----         \n",
            " 0   ID do estudante                 182425 non-null  int64         \n",
            " 1   Sexo                            182425 non-null  object        \n",
            " 2   Data de Nascimento              182425 non-null  datetime64[ns]\n",
            " 3   UF de residência                182425 non-null  object        \n",
            " 4   Etnia/Cor                       182425 non-null  object        \n",
            " 5   Pessoa com deficiência?         182425 non-null  object        \n",
            " 6   Ano conclusão ensino médio      182425 non-null  int64         \n",
            " 7   Concluiu curso superior?        182425 non-null  object        \n",
            " 8   Nº de membros Grupo Familiar    182425 non-null  int64         \n",
            " 9   Renda familiar mensal bruta     182425 non-null  float64       \n",
            " 10  Renda mensal bruta per capita   182425 non-null  float64       \n",
            " 11  UF                              182425 non-null  object        \n",
            " 12  Área do conhecimento            182425 non-null  object        \n",
            " 13  Subárea do conhecimento         182425 non-null  object        \n",
            " 14  Opções de cursos da inscrição   182425 non-null  int64         \n",
            " 15  Nome mantenedora                182425 non-null  object        \n",
            " 16  Natureza Jurídica Mantenedora   182425 non-null  object        \n",
            " 17  Nome da IES                     182425 non-null  object        \n",
            " 18  Organização Acadêmica da IES    182425 non-null  object        \n",
            " 19  UF do Local de Oferta           182425 non-null  object        \n",
            " 20  Nome do curso                   182425 non-null  object        \n",
            " 21  Turno                           182425 non-null  object        \n",
            " 22  Média nota Enem                 182425 non-null  float64       \n",
            " 23  Ano do Enem                     182425 non-null  int64         \n",
            " 24  Redação                         182425 non-null  int64         \n",
            " 25  Matemática e suas Tecnologias   182425 non-null  float64       \n",
            " 26  Linguagens, Códigos e suas Tec  182425 non-null  float64       \n",
            " 27  Ciências Natureza e suas Tec    182425 non-null  float64       \n",
            " 28  Ciências Humanas e suas Tec     182425 non-null  object        \n",
            " 29  Situação Inscrição Fies         182425 non-null  object        \n",
            "dtypes: datetime64[ns](1), float64(6), int64(6), object(17)\n",
            "memory usage: 43.1+ MB\n"
          ]
        }
      ],
      "source": [
        "fies2020.info()"
      ]
    },
    {
      "cell_type": "markdown",
      "metadata": {
        "id": "Q0MZvrZyYZ7W"
      },
      "source": [
        "### Analisando Ciências Humanas e suas Tec "
      ]
    },
    {
      "cell_type": "markdown",
      "metadata": {
        "id": "h8hoQgGaYZ7X"
      },
      "source": [
        "Este campo está armazenado no dataframe como um objeto. Todavia, este campo deve possuir valor real, no caso, float. \n",
        "\n",
        "Para a análise não ser prejudicada por valores nulos, estes foram removidos da tabela."
      ]
    },
    {
      "cell_type": "code",
      "execution_count": 108,
      "metadata": {
        "id": "9N79yUsKYZ7X"
      },
      "outputs": [],
      "source": [
        "fies2020 = fies2020.dropna(subset=[\"Ciências Humanas e suas Tec\"])"
      ]
    },
    {
      "cell_type": "markdown",
      "metadata": {
        "id": "xbzPruNMYZ7X"
      },
      "source": [
        "Ao observar os valores por meio do value_counts, pode-se perceber que estes foram considerados como string pois foram armazenados com vírgulas, quando, na verdade, para serem reconhecidos como numéricos, deveriam ser armazenados com pontos.\n"
      ]
    },
    {
      "cell_type": "code",
      "execution_count": 109,
      "metadata": {
        "colab": {
          "base_uri": "https://localhost:8080/"
        },
        "id": "fTW7znb4YZ7X",
        "outputId": "9a446564-c15b-43c8-edda-dfc6d7bdd562"
      },
      "outputs": [
        {
          "data": {
            "text/plain": [
              "564,6    145\n",
              "566,8    142\n",
              "559,9    138\n",
              "557,7    134\n",
              "558,9    134\n",
              "        ... \n",
              "766,4      1\n",
              "340,6      1\n",
              "331,1      1\n",
              "769,4      1\n",
              "331,3      1\n",
              "Name: Ciências Humanas e suas Tec, Length: 4152, dtype: int64"
            ]
          },
          "execution_count": 109,
          "metadata": {},
          "output_type": "execute_result"
        }
      ],
      "source": [
        "fies2020['Ciências Humanas e suas Tec'].value_counts()"
      ]
    },
    {
      "cell_type": "markdown",
      "metadata": {
        "id": "vwejfrWgYZ7X"
      },
      "source": [
        "Sendo assim, foi necessária a substituição das vírgulas por pontos para a coluna em questão do dataset"
      ]
    },
    {
      "cell_type": "code",
      "execution_count": 110,
      "metadata": {
        "id": "jF56Z4qpYZ7X"
      },
      "outputs": [],
      "source": [
        "fies2020['Ciências Humanas e suas Tec'] = fies2020['Ciências Humanas e suas Tec'].str.replace(',', '.')"
      ]
    },
    {
      "cell_type": "markdown",
      "metadata": {
        "id": "WYgdQpm0YZ7Y"
      },
      "source": [
        "Uma vez que as vírgulas foram removidas, é possível atualizar a coluna em questão para esta receber um valor numérico"
      ]
    },
    {
      "cell_type": "code",
      "execution_count": 111,
      "metadata": {
        "id": "P8Uyl8GTYZ7Y"
      },
      "outputs": [],
      "source": [
        "fies2020['Ciências Humanas e suas Tec'] = pd.to_numeric(fies2020['Ciências Humanas e suas Tec'])"
      ]
    },
    {
      "cell_type": "code",
      "execution_count": 112,
      "metadata": {
        "colab": {
          "base_uri": "https://localhost:8080/"
        },
        "id": "7Eiay0mDYZ7Y",
        "outputId": "573e14de-b3bd-4327-e0bf-a5e39374a12c"
      },
      "outputs": [
        {
          "data": {
            "text/plain": [
              "0         587.1\n",
              "1         723.6\n",
              "2         723.6\n",
              "3         588.7\n",
              "4         565.7\n",
              "          ...  \n",
              "212399    628.2\n",
              "212400    626.6\n",
              "212401    505.5\n",
              "212402    466.5\n",
              "212403    579.5\n",
              "Name: Ciências Humanas e suas Tec, Length: 182425, dtype: float64"
            ]
          },
          "execution_count": 112,
          "metadata": {},
          "output_type": "execute_result"
        }
      ],
      "source": [
        "fies2020['Ciências Humanas e suas Tec']"
      ]
    },
    {
      "cell_type": "code",
      "execution_count": 113,
      "metadata": {
        "colab": {
          "base_uri": "https://localhost:8080/"
        },
        "id": "G3YPqF6dYZ7Y",
        "outputId": "03965ded-622a-4c14-a4a1-8b3507a43565"
      },
      "outputs": [
        {
          "data": {
            "text/plain": [
              "564.6    145\n",
              "566.8    142\n",
              "559.9    138\n",
              "557.7    134\n",
              "558.9    134\n",
              "        ... \n",
              "766.4      1\n",
              "340.6      1\n",
              "331.1      1\n",
              "769.4      1\n",
              "331.3      1\n",
              "Name: Ciências Humanas e suas Tec, Length: 4152, dtype: int64"
            ]
          },
          "execution_count": 113,
          "metadata": {},
          "output_type": "execute_result"
        }
      ],
      "source": [
        "fies2020['Ciências Humanas e suas Tec'].value_counts()"
      ]
    },
    {
      "cell_type": "markdown",
      "metadata": {
        "id": "gIKz7-f3YZ7Y"
      },
      "source": [
        "Ao observar a organização do dataframe por meio do comando \"info\", pode-se perceber que este campo agora é reconhecido como float"
      ]
    },
    {
      "cell_type": "code",
      "execution_count": 114,
      "metadata": {
        "colab": {
          "base_uri": "https://localhost:8080/"
        },
        "id": "0xmyeW9ZYZ7Z",
        "outputId": "fc2d9f42-c764-4429-cfab-c6040940792a"
      },
      "outputs": [
        {
          "name": "stdout",
          "output_type": "stream",
          "text": [
            "<class 'pandas.core.frame.DataFrame'>\n",
            "Int64Index: 182425 entries, 0 to 212403\n",
            "Data columns (total 30 columns):\n",
            " #   Column                          Non-Null Count   Dtype         \n",
            "---  ------                          --------------   -----         \n",
            " 0   ID do estudante                 182425 non-null  int64         \n",
            " 1   Sexo                            182425 non-null  object        \n",
            " 2   Data de Nascimento              182425 non-null  datetime64[ns]\n",
            " 3   UF de residência                182425 non-null  object        \n",
            " 4   Etnia/Cor                       182425 non-null  object        \n",
            " 5   Pessoa com deficiência?         182425 non-null  object        \n",
            " 6   Ano conclusão ensino médio      182425 non-null  int64         \n",
            " 7   Concluiu curso superior?        182425 non-null  object        \n",
            " 8   Nº de membros Grupo Familiar    182425 non-null  int64         \n",
            " 9   Renda familiar mensal bruta     182425 non-null  float64       \n",
            " 10  Renda mensal bruta per capita   182425 non-null  float64       \n",
            " 11  UF                              182425 non-null  object        \n",
            " 12  Área do conhecimento            182425 non-null  object        \n",
            " 13  Subárea do conhecimento         182425 non-null  object        \n",
            " 14  Opções de cursos da inscrição   182425 non-null  int64         \n",
            " 15  Nome mantenedora                182425 non-null  object        \n",
            " 16  Natureza Jurídica Mantenedora   182425 non-null  object        \n",
            " 17  Nome da IES                     182425 non-null  object        \n",
            " 18  Organização Acadêmica da IES    182425 non-null  object        \n",
            " 19  UF do Local de Oferta           182425 non-null  object        \n",
            " 20  Nome do curso                   182425 non-null  object        \n",
            " 21  Turno                           182425 non-null  object        \n",
            " 22  Média nota Enem                 182425 non-null  float64       \n",
            " 23  Ano do Enem                     182425 non-null  int64         \n",
            " 24  Redação                         182425 non-null  int64         \n",
            " 25  Matemática e suas Tecnologias   182425 non-null  float64       \n",
            " 26  Linguagens, Códigos e suas Tec  182425 non-null  float64       \n",
            " 27  Ciências Natureza e suas Tec    182425 non-null  float64       \n",
            " 28  Ciências Humanas e suas Tec     182425 non-null  float64       \n",
            " 29  Situação Inscrição Fies         182425 non-null  object        \n",
            "dtypes: datetime64[ns](1), float64(7), int64(6), object(16)\n",
            "memory usage: 43.1+ MB\n"
          ]
        }
      ],
      "source": [
        "fies2020.info()"
      ]
    },
    {
      "cell_type": "markdown",
      "metadata": {
        "id": "mEblgAupYZ7Z"
      },
      "source": [
        "### Analisando Situação Inscrição Fies"
      ]
    },
    {
      "cell_type": "markdown",
      "metadata": {
        "id": "ND5v6lRyYZ7Z"
      },
      "source": [
        "Primeiramente seão analisados os valores únicos por meio do \"unique\""
      ]
    },
    {
      "cell_type": "code",
      "execution_count": 115,
      "metadata": {
        "colab": {
          "base_uri": "https://localhost:8080/"
        },
        "id": "PpoxzZKqYZ7Z",
        "outputId": "a857f664-08ea-4ed1-8137-162cc53b96a4"
      },
      "outputs": [
        {
          "data": {
            "text/plain": [
              "array(['NÃO CONTRATADO', 'PARTICIPACAO CANCELADA PELO CANDIDATO',\n",
              "       'REJEITADA PELA CPSA', 'CONTRATADA', 'LISTA DE ESPERA',\n",
              "       'OPÇÃO NÃO CONTRATADA', 'INSCRIÇÃO POSTERGADA', 'PRÉ-SELECIONADO'],\n",
              "      dtype=object)"
            ]
          },
          "execution_count": 115,
          "metadata": {},
          "output_type": "execute_result"
        }
      ],
      "source": [
        "fies2020['Situação Inscrição Fies'].unique()"
      ]
    },
    {
      "cell_type": "markdown",
      "metadata": {
        "id": "2j22i4bLYZ7Z"
      },
      "source": [
        "Analisando a distribuição dos valores..."
      ]
    },
    {
      "cell_type": "code",
      "execution_count": 116,
      "metadata": {
        "colab": {
          "base_uri": "https://localhost:8080/"
        },
        "id": "NuVxbgfRYZ7a",
        "outputId": "22a9f0ca-79be-468e-9e39-e9169c84a33c"
      },
      "outputs": [
        {
          "data": {
            "text/plain": [
              "LISTA DE ESPERA                          78916\n",
              "NÃO CONTRATADO                           66129\n",
              "CONTRATADA                               13415\n",
              "OPÇÃO NÃO CONTRATADA                     11886\n",
              "PARTICIPACAO CANCELADA PELO CANDIDATO    11243\n",
              "REJEITADA PELA CPSA                        700\n",
              "PRÉ-SELECIONADO                             98\n",
              "INSCRIÇÃO POSTERGADA                        38\n",
              "Name: Situação Inscrição Fies, dtype: int64"
            ]
          },
          "execution_count": 116,
          "metadata": {},
          "output_type": "execute_result"
        }
      ],
      "source": [
        "fies2020['Situação Inscrição Fies'].value_counts()"
      ]
    },
    {
      "cell_type": "markdown",
      "metadata": {
        "id": "g-y8aZ1FYZ7b"
      },
      "source": [
        "## Salvando dados tratados"
      ]
    },
    {
      "cell_type": "code",
      "execution_count": 117,
      "metadata": {
        "id": "K26v7c4YYZ7b"
      },
      "outputs": [],
      "source": [
        "fies2020.to_csv(\"dadosLimpos2020.csv\", index=False)"
      ]
    }
  ],
  "metadata": {
    "colab": {
      "name": "limpezaDados2020.ipynb",
      "provenance": []
    },
    "kernelspec": {
      "display_name": "Python 3.8.10 ('ambiente-dados1': venv)",
      "language": "python",
      "name": "python3"
    },
    "language_info": {
      "codemirror_mode": {
        "name": "ipython",
        "version": 3
      },
      "file_extension": ".py",
      "mimetype": "text/x-python",
      "name": "python",
      "nbconvert_exporter": "python",
      "pygments_lexer": "ipython3",
      "version": "3.8.10"
    },
    "vscode": {
      "interpreter": {
        "hash": "3b87f650c95fe6cb6ad4f13c18c302f56e0e588f9f3805ad9874556f17797c34"
      }
    }
  },
  "nbformat": 4,
  "nbformat_minor": 0
}
