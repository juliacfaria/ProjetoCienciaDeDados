{
  "cells": [
    {
      "cell_type": "code",
      "execution_count": 380,
      "metadata": {
        "colab": {
          "base_uri": "https://localhost:8080/"
        },
        "id": "mBGrV10gE7dF",
        "outputId": "0cba1d56-a9d7-480b-9eaf-fc80c3fc32a0"
      },
      "outputs": [],
      "source": [
        "#!wget https://media.githubusercontent.com/media/juliacfaria/ProjetoCienciaDeDados/main/Dados/relatorio_inscricao_dados_abertos_fies_22019.csv"
      ]
    },
    {
      "cell_type": "code",
      "execution_count": 381,
      "metadata": {
        "colab": {
          "base_uri": "https://localhost:8080/"
        },
        "id": "I5FKnu3_3nqk",
        "outputId": "45c13367-b496-4608-c3a4-b68f77de49dd"
      },
      "outputs": [],
      "source": [
        "#!wget https://media.githubusercontent.com/media/juliacfaria/ProjetoCienciaDeDados/main/Dados/relatorio_inscricao_dados_abertos_fies_22020.csv"
      ]
    },
    {
      "cell_type": "markdown",
      "metadata": {
        "id": "SJ8TFiM4K9cO"
      },
      "source": [
        "# Leitura de Dados"
      ]
    },
    {
      "cell_type": "markdown",
      "metadata": {},
      "source": [
        "Após a importação dos datasets, cada um é lido em uma respectiva variável"
      ]
    },
    {
      "cell_type": "code",
      "execution_count": 382,
      "metadata": {
        "id": "mQNv0eJFLuSM"
      },
      "outputs": [],
      "source": [
        "import pandas as pd\n",
        "import numpy as np\n",
        "import matplotlib.pyplot as plt\n",
        "import seaborn as sns"
      ]
    },
    {
      "cell_type": "code",
      "execution_count": 383,
      "metadata": {
        "colab": {
          "base_uri": "https://localhost:8080/",
          "height": 748
        },
        "id": "OqGlXS8e1TRW",
        "outputId": "34d53b3b-9b2e-47a9-fb4c-6e895b90bffe"
      },
      "outputs": [
        {
          "data": {
            "text/html": [
              "<div>\n",
              "<style scoped>\n",
              "    .dataframe tbody tr th:only-of-type {\n",
              "        vertical-align: middle;\n",
              "    }\n",
              "\n",
              "    .dataframe tbody tr th {\n",
              "        vertical-align: top;\n",
              "    }\n",
              "\n",
              "    .dataframe thead th {\n",
              "        text-align: right;\n",
              "    }\n",
              "</style>\n",
              "<table border=\"1\" class=\"dataframe\">\n",
              "  <thead>\n",
              "    <tr style=\"text-align: right;\">\n",
              "      <th></th>\n",
              "      <th>Ano do processo seletivo</th>\n",
              "      <th>Semestre do processo seletivo</th>\n",
              "      <th>ID do estudante</th>\n",
              "      <th>Sexo</th>\n",
              "      <th>Data de Nascimento</th>\n",
              "      <th>UF de residência</th>\n",
              "      <th>Municipio de residência</th>\n",
              "      <th>Etnia/Cor</th>\n",
              "      <th>Pessoa com deficiência?</th>\n",
              "      <th>Tipo de escola no ensino médio</th>\n",
              "      <th>...</th>\n",
              "      <th>Ano do Enem</th>\n",
              "      <th>Redação</th>\n",
              "      <th>Matemática e suas Tecnologias</th>\n",
              "      <th>Linguagens, Códigos e suas Tec</th>\n",
              "      <th>Ciências Natureza e suas Tec</th>\n",
              "      <th>Ciências Humanas e suas Tec</th>\n",
              "      <th>Situação Inscrição Fies</th>\n",
              "      <th>Percentual de financiamento</th>\n",
              "      <th>Semestre do financiamento</th>\n",
              "      <th>Qtde semestre financiado</th>\n",
              "    </tr>\n",
              "  </thead>\n",
              "  <tbody>\n",
              "    <tr>\n",
              "      <th>0</th>\n",
              "      <td>2019</td>\n",
              "      <td>2</td>\n",
              "      <td>189538691</td>\n",
              "      <td>M</td>\n",
              "      <td>30/12/88</td>\n",
              "      <td>PR</td>\n",
              "      <td>CURITIBA</td>\n",
              "      <td>PARDA</td>\n",
              "      <td>NÃO</td>\n",
              "      <td>NÃO</td>\n",
              "      <td>...</td>\n",
              "      <td>2019</td>\n",
              "      <td>540</td>\n",
              "      <td>735,6</td>\n",
              "      <td>549</td>\n",
              "      <td>537,9</td>\n",
              "      <td>600,8</td>\n",
              "      <td>NÃO CONTRATADO</td>\n",
              "      <td>NaN</td>\n",
              "      <td></td>\n",
              "      <td>NaN</td>\n",
              "    </tr>\n",
              "    <tr>\n",
              "      <th>1</th>\n",
              "      <td>2019</td>\n",
              "      <td>2</td>\n",
              "      <td>185775473</td>\n",
              "      <td>M</td>\n",
              "      <td>11/12/94</td>\n",
              "      <td>PR</td>\n",
              "      <td>CURITIBA</td>\n",
              "      <td>BRANCA</td>\n",
              "      <td>NÃO</td>\n",
              "      <td>SIM</td>\n",
              "      <td>...</td>\n",
              "      <td>2018</td>\n",
              "      <td>700</td>\n",
              "      <td>557,9</td>\n",
              "      <td>624,8</td>\n",
              "      <td>562,7</td>\n",
              "      <td>686,2</td>\n",
              "      <td>OPÇÃO NÃO CONTRATADA</td>\n",
              "      <td>NaN</td>\n",
              "      <td>NaN</td>\n",
              "      <td>10.0</td>\n",
              "    </tr>\n",
              "    <tr>\n",
              "      <th>2</th>\n",
              "      <td>2019</td>\n",
              "      <td>2</td>\n",
              "      <td>185472589</td>\n",
              "      <td>M</td>\n",
              "      <td>21/11/90</td>\n",
              "      <td>PR</td>\n",
              "      <td>CURITIBA</td>\n",
              "      <td>BRANCA</td>\n",
              "      <td>NÃO</td>\n",
              "      <td>SIM</td>\n",
              "      <td>...</td>\n",
              "      <td>2013</td>\n",
              "      <td>480</td>\n",
              "      <td>530,7</td>\n",
              "      <td>602,9</td>\n",
              "      <td>506,5</td>\n",
              "      <td>582,3</td>\n",
              "      <td>NÃO CONTRATADO</td>\n",
              "      <td>NaN</td>\n",
              "      <td></td>\n",
              "      <td>NaN</td>\n",
              "    </tr>\n",
              "    <tr>\n",
              "      <th>3</th>\n",
              "      <td>2019</td>\n",
              "      <td>2</td>\n",
              "      <td>185575432</td>\n",
              "      <td>F</td>\n",
              "      <td>09/03/82</td>\n",
              "      <td>PR</td>\n",
              "      <td>CURITIBA</td>\n",
              "      <td>BRANCA</td>\n",
              "      <td>NÃO</td>\n",
              "      <td>NÃO</td>\n",
              "      <td>...</td>\n",
              "      <td>2018</td>\n",
              "      <td>640</td>\n",
              "      <td>569,9</td>\n",
              "      <td>728,8</td>\n",
              "      <td>653,6</td>\n",
              "      <td>727,1</td>\n",
              "      <td>NÃO CONTRATADO</td>\n",
              "      <td>NaN</td>\n",
              "      <td></td>\n",
              "      <td>NaN</td>\n",
              "    </tr>\n",
              "    <tr>\n",
              "      <th>4</th>\n",
              "      <td>2019</td>\n",
              "      <td>2</td>\n",
              "      <td>193975779</td>\n",
              "      <td>F</td>\n",
              "      <td>14/12/96</td>\n",
              "      <td>RS</td>\n",
              "      <td>SANTANA DO LIVRAMENTO</td>\n",
              "      <td>BRANCA</td>\n",
              "      <td>NÃO</td>\n",
              "      <td>SIM</td>\n",
              "      <td>...</td>\n",
              "      <td>2016</td>\n",
              "      <td>740</td>\n",
              "      <td>591,3</td>\n",
              "      <td>507,1</td>\n",
              "      <td>389,5</td>\n",
              "      <td>559,6</td>\n",
              "      <td>NÃO CONTRATADO</td>\n",
              "      <td>NaN</td>\n",
              "      <td></td>\n",
              "      <td>NaN</td>\n",
              "    </tr>\n",
              "    <tr>\n",
              "      <th>...</th>\n",
              "      <td>...</td>\n",
              "      <td>...</td>\n",
              "      <td>...</td>\n",
              "      <td>...</td>\n",
              "      <td>...</td>\n",
              "      <td>...</td>\n",
              "      <td>...</td>\n",
              "      <td>...</td>\n",
              "      <td>...</td>\n",
              "      <td>...</td>\n",
              "      <td>...</td>\n",
              "      <td>...</td>\n",
              "      <td>...</td>\n",
              "      <td>...</td>\n",
              "      <td>...</td>\n",
              "      <td>...</td>\n",
              "      <td>...</td>\n",
              "      <td>...</td>\n",
              "      <td>...</td>\n",
              "      <td>...</td>\n",
              "      <td>...</td>\n",
              "    </tr>\n",
              "    <tr>\n",
              "      <th>271851</th>\n",
              "      <td>2019</td>\n",
              "      <td>2</td>\n",
              "      <td>185573856</td>\n",
              "      <td>M</td>\n",
              "      <td>03/12/99</td>\n",
              "      <td>MG</td>\n",
              "      <td>JANUÁRIA</td>\n",
              "      <td>PARDA</td>\n",
              "      <td>NÃO</td>\n",
              "      <td>SIM</td>\n",
              "      <td>...</td>\n",
              "      <td>2018</td>\n",
              "      <td>400</td>\n",
              "      <td>579,9</td>\n",
              "      <td>515,6</td>\n",
              "      <td>398,1</td>\n",
              "      <td>567</td>\n",
              "      <td>OPÇÃO NÃO CONTRATADA</td>\n",
              "      <td>NaN</td>\n",
              "      <td>NaN</td>\n",
              "      <td>9.0</td>\n",
              "    </tr>\n",
              "    <tr>\n",
              "      <th>271852</th>\n",
              "      <td>2019</td>\n",
              "      <td>2</td>\n",
              "      <td>185671776</td>\n",
              "      <td>F</td>\n",
              "      <td>14/09/00</td>\n",
              "      <td>MG</td>\n",
              "      <td>JANUÁRIA</td>\n",
              "      <td>PARDA</td>\n",
              "      <td>NÃO</td>\n",
              "      <td>SIM</td>\n",
              "      <td>...</td>\n",
              "      <td>2018</td>\n",
              "      <td>360</td>\n",
              "      <td>656,2</td>\n",
              "      <td>505,2</td>\n",
              "      <td>474,8</td>\n",
              "      <td>571,1</td>\n",
              "      <td>NÃO CONTRATADO</td>\n",
              "      <td>NaN</td>\n",
              "      <td></td>\n",
              "      <td>NaN</td>\n",
              "    </tr>\n",
              "    <tr>\n",
              "      <th>271853</th>\n",
              "      <td>2019</td>\n",
              "      <td>2</td>\n",
              "      <td>185671776</td>\n",
              "      <td>F</td>\n",
              "      <td>14/09/00</td>\n",
              "      <td>MG</td>\n",
              "      <td>JANUÁRIA</td>\n",
              "      <td>PARDA</td>\n",
              "      <td>NÃO</td>\n",
              "      <td>SIM</td>\n",
              "      <td>...</td>\n",
              "      <td>2018</td>\n",
              "      <td>360</td>\n",
              "      <td>656,2</td>\n",
              "      <td>505,2</td>\n",
              "      <td>474,8</td>\n",
              "      <td>571,1</td>\n",
              "      <td>NÃO CONTRATADO</td>\n",
              "      <td>NaN</td>\n",
              "      <td></td>\n",
              "      <td>NaN</td>\n",
              "    </tr>\n",
              "    <tr>\n",
              "      <th>271854</th>\n",
              "      <td>2019</td>\n",
              "      <td>2</td>\n",
              "      <td>185678281</td>\n",
              "      <td>F</td>\n",
              "      <td>26/04/01</td>\n",
              "      <td>MG</td>\n",
              "      <td>LONTRA</td>\n",
              "      <td>BRANCA</td>\n",
              "      <td>NÃO</td>\n",
              "      <td>SIM</td>\n",
              "      <td>...</td>\n",
              "      <td>2018</td>\n",
              "      <td>740</td>\n",
              "      <td>603,8</td>\n",
              "      <td>598,1</td>\n",
              "      <td>486,6</td>\n",
              "      <td>634,5</td>\n",
              "      <td>NÃO CONTRATADO</td>\n",
              "      <td>NaN</td>\n",
              "      <td></td>\n",
              "      <td>NaN</td>\n",
              "    </tr>\n",
              "    <tr>\n",
              "      <th>271855</th>\n",
              "      <td>2019</td>\n",
              "      <td>2</td>\n",
              "      <td>185470231</td>\n",
              "      <td>F</td>\n",
              "      <td>26/10/99</td>\n",
              "      <td>MG</td>\n",
              "      <td>MONTES CLAROS</td>\n",
              "      <td>PRETA</td>\n",
              "      <td>NÃO</td>\n",
              "      <td>SIM</td>\n",
              "      <td>...</td>\n",
              "      <td>2017</td>\n",
              "      <td>620</td>\n",
              "      <td>586,5</td>\n",
              "      <td>629,2</td>\n",
              "      <td>526,3</td>\n",
              "      <td>630,7</td>\n",
              "      <td>NÃO CONTRATADO</td>\n",
              "      <td>NaN</td>\n",
              "      <td></td>\n",
              "      <td>NaN</td>\n",
              "    </tr>\n",
              "  </tbody>\n",
              "</table>\n",
              "<p>271856 rows × 57 columns</p>\n",
              "</div>"
            ],
            "text/plain": [
              "        Ano do processo seletivo  Semestre do processo seletivo  \\\n",
              "0                           2019                              2   \n",
              "1                           2019                              2   \n",
              "2                           2019                              2   \n",
              "3                           2019                              2   \n",
              "4                           2019                              2   \n",
              "...                          ...                            ...   \n",
              "271851                      2019                              2   \n",
              "271852                      2019                              2   \n",
              "271853                      2019                              2   \n",
              "271854                      2019                              2   \n",
              "271855                      2019                              2   \n",
              "\n",
              "        ID do estudante Sexo Data de Nascimento UF de residência  \\\n",
              "0             189538691    M           30/12/88               PR   \n",
              "1             185775473    M           11/12/94               PR   \n",
              "2             185472589    M           21/11/90               PR   \n",
              "3             185575432    F           09/03/82               PR   \n",
              "4             193975779    F           14/12/96               RS   \n",
              "...                 ...  ...                ...              ...   \n",
              "271851        185573856    M           03/12/99               MG   \n",
              "271852        185671776    F           14/09/00               MG   \n",
              "271853        185671776    F           14/09/00               MG   \n",
              "271854        185678281    F           26/04/01               MG   \n",
              "271855        185470231    F           26/10/99               MG   \n",
              "\n",
              "       Municipio de residência Etnia/Cor Pessoa com deficiência?  \\\n",
              "0                     CURITIBA     PARDA                     NÃO   \n",
              "1                     CURITIBA    BRANCA                     NÃO   \n",
              "2                     CURITIBA    BRANCA                     NÃO   \n",
              "3                     CURITIBA    BRANCA                     NÃO   \n",
              "4        SANTANA DO LIVRAMENTO    BRANCA                     NÃO   \n",
              "...                        ...       ...                     ...   \n",
              "271851                JANUÁRIA     PARDA                     NÃO   \n",
              "271852                JANUÁRIA     PARDA                     NÃO   \n",
              "271853                JANUÁRIA     PARDA                     NÃO   \n",
              "271854                  LONTRA    BRANCA                     NÃO   \n",
              "271855           MONTES CLAROS     PRETA                     NÃO   \n",
              "\n",
              "       Tipo de escola no ensino médio  ...  Ano do Enem Redação  \\\n",
              "0                                 NÃO  ...         2019     540   \n",
              "1                                 SIM  ...         2018     700   \n",
              "2                                 SIM  ...         2013     480   \n",
              "3                                 NÃO  ...         2018     640   \n",
              "4                                 SIM  ...         2016     740   \n",
              "...                               ...  ...          ...     ...   \n",
              "271851                            SIM  ...         2018     400   \n",
              "271852                            SIM  ...         2018     360   \n",
              "271853                            SIM  ...         2018     360   \n",
              "271854                            SIM  ...         2018     740   \n",
              "271855                            SIM  ...         2017     620   \n",
              "\n",
              "       Matemática e suas Tecnologias  Linguagens, Códigos e suas Tec  \\\n",
              "0                              735,6                             549   \n",
              "1                              557,9                           624,8   \n",
              "2                              530,7                           602,9   \n",
              "3                              569,9                           728,8   \n",
              "4                              591,3                           507,1   \n",
              "...                              ...                             ...   \n",
              "271851                         579,9                           515,6   \n",
              "271852                         656,2                           505,2   \n",
              "271853                         656,2                           505,2   \n",
              "271854                         603,8                           598,1   \n",
              "271855                         586,5                           629,2   \n",
              "\n",
              "       Ciências Natureza e suas Tec Ciências Humanas e suas Tec  \\\n",
              "0                             537,9                       600,8   \n",
              "1                             562,7                       686,2   \n",
              "2                             506,5                       582,3   \n",
              "3                             653,6                       727,1   \n",
              "4                             389,5                       559,6   \n",
              "...                             ...                         ...   \n",
              "271851                        398,1                         567   \n",
              "271852                        474,8                       571,1   \n",
              "271853                        474,8                       571,1   \n",
              "271854                        486,6                       634,5   \n",
              "271855                        526,3                       630,7   \n",
              "\n",
              "       Situação Inscrição Fies Percentual de financiamento  \\\n",
              "0               NÃO CONTRATADO                         NaN   \n",
              "1         OPÇÃO NÃO CONTRATADA                         NaN   \n",
              "2               NÃO CONTRATADO                         NaN   \n",
              "3               NÃO CONTRATADO                         NaN   \n",
              "4               NÃO CONTRATADO                         NaN   \n",
              "...                        ...                         ...   \n",
              "271851    OPÇÃO NÃO CONTRATADA                         NaN   \n",
              "271852          NÃO CONTRATADO                         NaN   \n",
              "271853          NÃO CONTRATADO                         NaN   \n",
              "271854          NÃO CONTRATADO                         NaN   \n",
              "271855          NÃO CONTRATADO                         NaN   \n",
              "\n",
              "        Semestre do financiamento Qtde semestre financiado  \n",
              "0                                                      NaN  \n",
              "1                             NaN                     10.0  \n",
              "2                                                      NaN  \n",
              "3                                                      NaN  \n",
              "4                                                      NaN  \n",
              "...                           ...                      ...  \n",
              "271851                        NaN                      9.0  \n",
              "271852                                                 NaN  \n",
              "271853                                                 NaN  \n",
              "271854                                                 NaN  \n",
              "271855                                                 NaN  \n",
              "\n",
              "[271856 rows x 57 columns]"
            ]
          },
          "execution_count": 383,
          "metadata": {},
          "output_type": "execute_result"
        }
      ],
      "source": [
        "fies2019 = pd.read_csv('./relatorio_inscricao_dados_abertos_fies_22019.csv', encoding=\"ISO-8859-1\", sep = ';')\n",
        "\n",
        "fies2019        "
      ]
    },
    {
      "cell_type": "code",
      "execution_count": 384,
      "metadata": {
        "colab": {
          "base_uri": "https://localhost:8080/",
          "height": 818
        },
        "id": "1yCADhbtLRi0",
        "outputId": "af8d6bd2-185a-43d5-8e5a-62a6cc39a089"
      },
      "outputs": [
        {
          "data": {
            "text/html": [
              "<div>\n",
              "<style scoped>\n",
              "    .dataframe tbody tr th:only-of-type {\n",
              "        vertical-align: middle;\n",
              "    }\n",
              "\n",
              "    .dataframe tbody tr th {\n",
              "        vertical-align: top;\n",
              "    }\n",
              "\n",
              "    .dataframe thead th {\n",
              "        text-align: right;\n",
              "    }\n",
              "</style>\n",
              "<table border=\"1\" class=\"dataframe\">\n",
              "  <thead>\n",
              "    <tr style=\"text-align: right;\">\n",
              "      <th></th>\n",
              "      <th>Ano do processo seletivo</th>\n",
              "      <th>Semestre do processo seletivo</th>\n",
              "      <th>ID do estudante</th>\n",
              "      <th>Sexo</th>\n",
              "      <th>Data de Nascimento</th>\n",
              "      <th>UF de residência</th>\n",
              "      <th>Municipio de residência</th>\n",
              "      <th>Etnia/Cor</th>\n",
              "      <th>Pessoa com deficiência?</th>\n",
              "      <th>Tipo de escola no ensino médio</th>\n",
              "      <th>...</th>\n",
              "      <th>Ano do Enem</th>\n",
              "      <th>Redação</th>\n",
              "      <th>Matemática e suas Tecnologias</th>\n",
              "      <th>Linguagens, Códigos e suas Tec</th>\n",
              "      <th>Ciências Natureza e suas Tec</th>\n",
              "      <th>Ciências Humanas e suas Tec</th>\n",
              "      <th>Situação Inscrição Fies</th>\n",
              "      <th>Percentual de financiamento</th>\n",
              "      <th>Semestre do financiamento</th>\n",
              "      <th>Qtde semestre financiado</th>\n",
              "    </tr>\n",
              "  </thead>\n",
              "  <tbody>\n",
              "    <tr>\n",
              "      <th>0</th>\n",
              "      <td>2020</td>\n",
              "      <td>2</td>\n",
              "      <td>203813852</td>\n",
              "      <td>F</td>\n",
              "      <td>15/12/02</td>\n",
              "      <td>PR</td>\n",
              "      <td>CURITIBA</td>\n",
              "      <td>BRANCA</td>\n",
              "      <td>NÃO</td>\n",
              "      <td>NÃO</td>\n",
              "      <td>...</td>\n",
              "      <td>2019</td>\n",
              "      <td>540</td>\n",
              "      <td>421,3</td>\n",
              "      <td>563</td>\n",
              "      <td>497</td>\n",
              "      <td>587,1</td>\n",
              "      <td>NÃO CONTRATADO</td>\n",
              "      <td>NaN</td>\n",
              "      <td></td>\n",
              "      <td>NaN</td>\n",
              "    </tr>\n",
              "    <tr>\n",
              "      <th>1</th>\n",
              "      <td>2020</td>\n",
              "      <td>2</td>\n",
              "      <td>203815683</td>\n",
              "      <td>F</td>\n",
              "      <td>26/06/74</td>\n",
              "      <td>PR</td>\n",
              "      <td>PINHAIS</td>\n",
              "      <td>BRANCA</td>\n",
              "      <td>NÃO</td>\n",
              "      <td>SIM</td>\n",
              "      <td>...</td>\n",
              "      <td>2010</td>\n",
              "      <td>700</td>\n",
              "      <td>628,5</td>\n",
              "      <td>642,4</td>\n",
              "      <td>532,2</td>\n",
              "      <td>723,6</td>\n",
              "      <td>NÃO CONTRATADO</td>\n",
              "      <td>NaN</td>\n",
              "      <td></td>\n",
              "      <td>NaN</td>\n",
              "    </tr>\n",
              "    <tr>\n",
              "      <th>2</th>\n",
              "      <td>2020</td>\n",
              "      <td>2</td>\n",
              "      <td>203815683</td>\n",
              "      <td>F</td>\n",
              "      <td>26/06/74</td>\n",
              "      <td>PR</td>\n",
              "      <td>PINHAIS</td>\n",
              "      <td>BRANCA</td>\n",
              "      <td>NÃO</td>\n",
              "      <td>SIM</td>\n",
              "      <td>...</td>\n",
              "      <td>2010</td>\n",
              "      <td>700</td>\n",
              "      <td>628,5</td>\n",
              "      <td>642,4</td>\n",
              "      <td>532,2</td>\n",
              "      <td>723,6</td>\n",
              "      <td>NÃO CONTRATADO</td>\n",
              "      <td>NaN</td>\n",
              "      <td></td>\n",
              "      <td>NaN</td>\n",
              "    </tr>\n",
              "    <tr>\n",
              "      <th>3</th>\n",
              "      <td>2020</td>\n",
              "      <td>2</td>\n",
              "      <td>203816286</td>\n",
              "      <td>F</td>\n",
              "      <td>23/09/81</td>\n",
              "      <td>PR</td>\n",
              "      <td>CURITIBA</td>\n",
              "      <td>BRANCA</td>\n",
              "      <td>NÃO</td>\n",
              "      <td>SIM</td>\n",
              "      <td>...</td>\n",
              "      <td>2018</td>\n",
              "      <td>560</td>\n",
              "      <td>456,9</td>\n",
              "      <td>579,9</td>\n",
              "      <td>431,8</td>\n",
              "      <td>588,7</td>\n",
              "      <td>NÃO CONTRATADO</td>\n",
              "      <td>NaN</td>\n",
              "      <td></td>\n",
              "      <td>NaN</td>\n",
              "    </tr>\n",
              "    <tr>\n",
              "      <th>4</th>\n",
              "      <td>2020</td>\n",
              "      <td>2</td>\n",
              "      <td>203818907</td>\n",
              "      <td>F</td>\n",
              "      <td>18/05/99</td>\n",
              "      <td>PR</td>\n",
              "      <td>SÃO MATEUS DO SUL</td>\n",
              "      <td>BRANCA</td>\n",
              "      <td>NÃO</td>\n",
              "      <td>SIM</td>\n",
              "      <td>...</td>\n",
              "      <td>2017</td>\n",
              "      <td>580</td>\n",
              "      <td>492,1</td>\n",
              "      <td>468,6</td>\n",
              "      <td>565,8</td>\n",
              "      <td>565,7</td>\n",
              "      <td>NÃO CONTRATADO</td>\n",
              "      <td>NaN</td>\n",
              "      <td></td>\n",
              "      <td>NaN</td>\n",
              "    </tr>\n",
              "    <tr>\n",
              "      <th>...</th>\n",
              "      <td>...</td>\n",
              "      <td>...</td>\n",
              "      <td>...</td>\n",
              "      <td>...</td>\n",
              "      <td>...</td>\n",
              "      <td>...</td>\n",
              "      <td>...</td>\n",
              "      <td>...</td>\n",
              "      <td>...</td>\n",
              "      <td>...</td>\n",
              "      <td>...</td>\n",
              "      <td>...</td>\n",
              "      <td>...</td>\n",
              "      <td>...</td>\n",
              "      <td>...</td>\n",
              "      <td>...</td>\n",
              "      <td>...</td>\n",
              "      <td>...</td>\n",
              "      <td>...</td>\n",
              "      <td>...</td>\n",
              "      <td>...</td>\n",
              "    </tr>\n",
              "    <tr>\n",
              "      <th>212399</th>\n",
              "      <td>2020</td>\n",
              "      <td>2</td>\n",
              "      <td>203704420</td>\n",
              "      <td>M</td>\n",
              "      <td>07/02/94</td>\n",
              "      <td>SP</td>\n",
              "      <td>COTIA</td>\n",
              "      <td>PARDA</td>\n",
              "      <td>NÃO</td>\n",
              "      <td>SIM</td>\n",
              "      <td>...</td>\n",
              "      <td>2020</td>\n",
              "      <td>660</td>\n",
              "      <td>486,2</td>\n",
              "      <td>559,3</td>\n",
              "      <td>544,3</td>\n",
              "      <td>628,2</td>\n",
              "      <td>NÃO CONTRATADO</td>\n",
              "      <td>NaN</td>\n",
              "      <td></td>\n",
              "      <td>NaN</td>\n",
              "    </tr>\n",
              "    <tr>\n",
              "      <th>212400</th>\n",
              "      <td>2020</td>\n",
              "      <td>2</td>\n",
              "      <td>203927591</td>\n",
              "      <td>F</td>\n",
              "      <td>18/04/96</td>\n",
              "      <td>SP</td>\n",
              "      <td>SÃO JOSÉ DOS CAMPOS</td>\n",
              "      <td>BRANCA</td>\n",
              "      <td>NÃO</td>\n",
              "      <td>NÃO</td>\n",
              "      <td>...</td>\n",
              "      <td>2016</td>\n",
              "      <td>800</td>\n",
              "      <td>523,2</td>\n",
              "      <td>533,3</td>\n",
              "      <td>546,5</td>\n",
              "      <td>626,6</td>\n",
              "      <td>OPÇÃO NÃO CONTRATADA</td>\n",
              "      <td>NaN</td>\n",
              "      <td>NaN</td>\n",
              "      <td>9.0</td>\n",
              "    </tr>\n",
              "    <tr>\n",
              "      <th>212401</th>\n",
              "      <td>2020</td>\n",
              "      <td>2</td>\n",
              "      <td>203848084</td>\n",
              "      <td>F</td>\n",
              "      <td>10/10/96</td>\n",
              "      <td>SP</td>\n",
              "      <td>JACAREÍ</td>\n",
              "      <td>PRETA</td>\n",
              "      <td>NÃO</td>\n",
              "      <td>SIM</td>\n",
              "      <td>...</td>\n",
              "      <td>2019</td>\n",
              "      <td>800</td>\n",
              "      <td>500,5</td>\n",
              "      <td>501,4</td>\n",
              "      <td>410,5</td>\n",
              "      <td>505,5</td>\n",
              "      <td>NÃO CONTRATADO</td>\n",
              "      <td>NaN</td>\n",
              "      <td></td>\n",
              "      <td>NaN</td>\n",
              "    </tr>\n",
              "    <tr>\n",
              "      <th>212402</th>\n",
              "      <td>2020</td>\n",
              "      <td>2</td>\n",
              "      <td>203954076</td>\n",
              "      <td>M</td>\n",
              "      <td>31/05/01</td>\n",
              "      <td>SP</td>\n",
              "      <td>SÃO JOSÉ DOS CAMPOS</td>\n",
              "      <td>BRANCA</td>\n",
              "      <td>NÃO</td>\n",
              "      <td>SIM</td>\n",
              "      <td>...</td>\n",
              "      <td>2018</td>\n",
              "      <td>480</td>\n",
              "      <td>625,6</td>\n",
              "      <td>518,6</td>\n",
              "      <td>399,4</td>\n",
              "      <td>466,5</td>\n",
              "      <td>NÃO CONTRATADO</td>\n",
              "      <td>NaN</td>\n",
              "      <td></td>\n",
              "      <td>NaN</td>\n",
              "    </tr>\n",
              "    <tr>\n",
              "      <th>212403</th>\n",
              "      <td>2020</td>\n",
              "      <td>2</td>\n",
              "      <td>203755092</td>\n",
              "      <td>F</td>\n",
              "      <td>19/08/01</td>\n",
              "      <td>SP</td>\n",
              "      <td>SÃO JOSÉ DOS CAMPOS</td>\n",
              "      <td>PARDA</td>\n",
              "      <td>NÃO</td>\n",
              "      <td>SIM</td>\n",
              "      <td>...</td>\n",
              "      <td>2019</td>\n",
              "      <td>720</td>\n",
              "      <td>566,3</td>\n",
              "      <td>547,2</td>\n",
              "      <td>493,5</td>\n",
              "      <td>579,5</td>\n",
              "      <td>NÃO CONTRATADO</td>\n",
              "      <td>NaN</td>\n",
              "      <td></td>\n",
              "      <td>NaN</td>\n",
              "    </tr>\n",
              "  </tbody>\n",
              "</table>\n",
              "<p>212404 rows × 57 columns</p>\n",
              "</div>"
            ],
            "text/plain": [
              "        Ano do processo seletivo  Semestre do processo seletivo  \\\n",
              "0                           2020                              2   \n",
              "1                           2020                              2   \n",
              "2                           2020                              2   \n",
              "3                           2020                              2   \n",
              "4                           2020                              2   \n",
              "...                          ...                            ...   \n",
              "212399                      2020                              2   \n",
              "212400                      2020                              2   \n",
              "212401                      2020                              2   \n",
              "212402                      2020                              2   \n",
              "212403                      2020                              2   \n",
              "\n",
              "        ID do estudante Sexo Data de Nascimento UF de residência  \\\n",
              "0             203813852    F           15/12/02               PR   \n",
              "1             203815683    F           26/06/74               PR   \n",
              "2             203815683    F           26/06/74               PR   \n",
              "3             203816286    F           23/09/81               PR   \n",
              "4             203818907    F           18/05/99               PR   \n",
              "...                 ...  ...                ...              ...   \n",
              "212399        203704420    M           07/02/94               SP   \n",
              "212400        203927591    F           18/04/96               SP   \n",
              "212401        203848084    F           10/10/96               SP   \n",
              "212402        203954076    M           31/05/01               SP   \n",
              "212403        203755092    F           19/08/01               SP   \n",
              "\n",
              "       Municipio de residência Etnia/Cor Pessoa com deficiência?  \\\n",
              "0                     CURITIBA    BRANCA                     NÃO   \n",
              "1                      PINHAIS    BRANCA                     NÃO   \n",
              "2                      PINHAIS    BRANCA                     NÃO   \n",
              "3                     CURITIBA    BRANCA                     NÃO   \n",
              "4            SÃO MATEUS DO SUL    BRANCA                     NÃO   \n",
              "...                        ...       ...                     ...   \n",
              "212399                   COTIA     PARDA                     NÃO   \n",
              "212400     SÃO JOSÉ DOS CAMPOS    BRANCA                     NÃO   \n",
              "212401                 JACAREÍ     PRETA                     NÃO   \n",
              "212402     SÃO JOSÉ DOS CAMPOS    BRANCA                     NÃO   \n",
              "212403     SÃO JOSÉ DOS CAMPOS     PARDA                     NÃO   \n",
              "\n",
              "       Tipo de escola no ensino médio  ...  Ano do Enem Redação  \\\n",
              "0                                 NÃO  ...         2019     540   \n",
              "1                                 SIM  ...         2010     700   \n",
              "2                                 SIM  ...         2010     700   \n",
              "3                                 SIM  ...         2018     560   \n",
              "4                                 SIM  ...         2017     580   \n",
              "...                               ...  ...          ...     ...   \n",
              "212399                            SIM  ...         2020     660   \n",
              "212400                            NÃO  ...         2016     800   \n",
              "212401                            SIM  ...         2019     800   \n",
              "212402                            SIM  ...         2018     480   \n",
              "212403                            SIM  ...         2019     720   \n",
              "\n",
              "       Matemática e suas Tecnologias  Linguagens, Códigos e suas Tec  \\\n",
              "0                              421,3                             563   \n",
              "1                              628,5                           642,4   \n",
              "2                              628,5                           642,4   \n",
              "3                              456,9                           579,9   \n",
              "4                              492,1                           468,6   \n",
              "...                              ...                             ...   \n",
              "212399                         486,2                           559,3   \n",
              "212400                         523,2                           533,3   \n",
              "212401                         500,5                           501,4   \n",
              "212402                         625,6                           518,6   \n",
              "212403                         566,3                           547,2   \n",
              "\n",
              "       Ciências Natureza e suas Tec Ciências Humanas e suas Tec  \\\n",
              "0                               497                       587,1   \n",
              "1                             532,2                       723,6   \n",
              "2                             532,2                       723,6   \n",
              "3                             431,8                       588,7   \n",
              "4                             565,8                       565,7   \n",
              "...                             ...                         ...   \n",
              "212399                        544,3                       628,2   \n",
              "212400                        546,5                       626,6   \n",
              "212401                        410,5                       505,5   \n",
              "212402                        399,4                       466,5   \n",
              "212403                        493,5                       579,5   \n",
              "\n",
              "       Situação Inscrição Fies Percentual de financiamento  \\\n",
              "0               NÃO CONTRATADO                         NaN   \n",
              "1               NÃO CONTRATADO                         NaN   \n",
              "2               NÃO CONTRATADO                         NaN   \n",
              "3               NÃO CONTRATADO                         NaN   \n",
              "4               NÃO CONTRATADO                         NaN   \n",
              "...                        ...                         ...   \n",
              "212399          NÃO CONTRATADO                         NaN   \n",
              "212400    OPÇÃO NÃO CONTRATADA                         NaN   \n",
              "212401          NÃO CONTRATADO                         NaN   \n",
              "212402          NÃO CONTRATADO                         NaN   \n",
              "212403          NÃO CONTRATADO                         NaN   \n",
              "\n",
              "        Semestre do financiamento Qtde semestre financiado  \n",
              "0                                                      NaN  \n",
              "1                                                      NaN  \n",
              "2                                                      NaN  \n",
              "3                                                      NaN  \n",
              "4                                                      NaN  \n",
              "...                           ...                      ...  \n",
              "212399                                                 NaN  \n",
              "212400                        NaN                      9.0  \n",
              "212401                                                 NaN  \n",
              "212402                                                 NaN  \n",
              "212403                                                 NaN  \n",
              "\n",
              "[212404 rows x 57 columns]"
            ]
          },
          "execution_count": 384,
          "metadata": {},
          "output_type": "execute_result"
        }
      ],
      "source": [
        "import pandas as pd\n",
        "\n",
        "fies2020 = pd.read_csv('./relatorio_inscricao_dados_abertos_fies_22020.csv', encoding='ISO-8859-1', sep = ';')\n",
        "\n",
        "fies2020"
      ]
    },
    {
      "cell_type": "markdown",
      "metadata": {
        "id": "pf4bNR4o4v3L"
      },
      "source": [
        "# Análise Exploratória Dados 2019"
      ]
    },
    {
      "cell_type": "markdown",
      "metadata": {
        "id": "WFvB4T726Mmb"
      },
      "source": [
        "O primeiro passo é verificar cada coluna deste dataset e seus respectivos tipos, conforme apresentado a seguir"
      ]
    },
    {
      "cell_type": "code",
      "execution_count": 385,
      "metadata": {
        "colab": {
          "base_uri": "https://localhost:8080/"
        },
        "id": "ZbBhfBtQ4vcR",
        "outputId": "7126acc3-e9a3-4d06-815d-7e7c187f9d41"
      },
      "outputs": [
        {
          "data": {
            "text/plain": [
              "Ano do processo seletivo            int64\n",
              "Semestre do processo seletivo       int64\n",
              "ID do estudante                     int64\n",
              "Sexo                               object\n",
              "Data de Nascimento                 object\n",
              "UF de residência                   object\n",
              "Municipio de residência            object\n",
              "Etnia/Cor                          object\n",
              "Pessoa com deficiência?            object\n",
              "Tipo de escola no ensino médio     object\n",
              "Ano conclusão ensino médio          int64\n",
              "Concluiu curso superior?           object\n",
              "Professor rede pública ensino?     object\n",
              "Nº de membros Grupo Familiar        int64\n",
              "Renda familiar mensal bruta        object\n",
              "Renda mensal bruta per capita      object\n",
              "Região grupo de preferência        object\n",
              "UF                                 object\n",
              "Cod.Microrregião                    int64\n",
              "Microrregião                       object\n",
              "Cod.Mesorregião                     int64\n",
              "Mesorregião                        object\n",
              "Conceito de curso do GP            object\n",
              "Área do conhecimento               object\n",
              "Subárea do conhecimento            object\n",
              "Cod. do Grupo de preferência        int64\n",
              "Nota Corte Grupo Preferência       object\n",
              "Opções de cursos da inscrição       int64\n",
              "Nome mantenedora                   object\n",
              "Natureza Jurídica Mantenedora      object\n",
              "CNPJ da mantenedora                 int64\n",
              "Código e-MEC da Mantenedora         int64\n",
              "Nome da IES                        object\n",
              "Código e-MEC da IES                 int64\n",
              "Organização Acadêmica da IES       object\n",
              "Município da IES                  float64\n",
              "UF da IES                         float64\n",
              "Nome do Local de oferta            object\n",
              "Código do Local de Oferta           int64\n",
              "Munícipio do Local de Oferta       object\n",
              "UF do Local de Oferta              object\n",
              "Código do curso                     int64\n",
              "Nome do curso                      object\n",
              "Turno                              object\n",
              "Grau                               object\n",
              "Conceito                           object\n",
              "Média nota Enem                    object\n",
              "Ano do Enem                         int64\n",
              "Redação                             int64\n",
              "Matemática e suas Tecnologias      object\n",
              "Linguagens, Códigos e suas Tec     object\n",
              "Ciências Natureza e suas Tec       object\n",
              "Ciências Humanas e suas Tec        object\n",
              "Situação Inscrição Fies            object\n",
              "Percentual de financiamento        object\n",
              "Semestre do financiamento          object\n",
              "Qtde semestre financiado          float64\n",
              "dtype: object"
            ]
          },
          "execution_count": 385,
          "metadata": {},
          "output_type": "execute_result"
        }
      ],
      "source": [
        "fies2019.dtypes"
      ]
    },
    {
      "cell_type": "markdown",
      "metadata": {},
      "source": [
        "Todavia, também é interessante saber a quantidade de valores nulos presentes em cada campo, para poder ter uma visão geral da viabilidade de utilizar tais comandos. \n",
        "\n",
        "Para isso, utiliza-se o comando \"info\", conforme representado a seguir."
      ]
    },
    {
      "cell_type": "code",
      "execution_count": 386,
      "metadata": {
        "colab": {
          "base_uri": "https://localhost:8080/"
        },
        "id": "CsPICB7H5Djy",
        "outputId": "07d94bcd-fffe-4b02-9781-52f6b96f9fc9"
      },
      "outputs": [
        {
          "name": "stdout",
          "output_type": "stream",
          "text": [
            "<class 'pandas.core.frame.DataFrame'>\n",
            "RangeIndex: 271856 entries, 0 to 271855\n",
            "Data columns (total 57 columns):\n",
            " #   Column                          Non-Null Count   Dtype  \n",
            "---  ------                          --------------   -----  \n",
            " 0   Ano do processo seletivo        271856 non-null  int64  \n",
            " 1   Semestre do processo seletivo   271856 non-null  int64  \n",
            " 2   ID do estudante                 271856 non-null  int64  \n",
            " 3   Sexo                            271856 non-null  object \n",
            " 4   Data de Nascimento              271856 non-null  object \n",
            " 5   UF de residência                271847 non-null  object \n",
            " 6   Municipio de residência         271856 non-null  object \n",
            " 7   Etnia/Cor                       271856 non-null  object \n",
            " 8   Pessoa com deficiência?         271856 non-null  object \n",
            " 9   Tipo de escola no ensino médio  271856 non-null  object \n",
            " 10  Ano conclusão ensino médio      271856 non-null  int64  \n",
            " 11  Concluiu curso superior?        271856 non-null  object \n",
            " 12  Professor rede pública ensino?  271856 non-null  object \n",
            " 13  Nº de membros Grupo Familiar    271856 non-null  int64  \n",
            " 14  Renda familiar mensal bruta     232922 non-null  object \n",
            " 15  Renda mensal bruta per capita   271856 non-null  object \n",
            " 16  Região grupo de preferência     271856 non-null  object \n",
            " 17  UF                              271856 non-null  object \n",
            " 18  Cod.Microrregião                271856 non-null  int64  \n",
            " 19  Microrregião                    271856 non-null  object \n",
            " 20  Cod.Mesorregião                 271856 non-null  int64  \n",
            " 21  Mesorregião                     271856 non-null  object \n",
            " 22  Conceito de curso do GP         271856 non-null  object \n",
            " 23  Área do conhecimento            271856 non-null  object \n",
            " 24  Subárea do conhecimento         271856 non-null  object \n",
            " 25  Cod. do Grupo de preferência    271856 non-null  int64  \n",
            " 26  Nota Corte Grupo Preferência    271856 non-null  object \n",
            " 27  Opções de cursos da inscrição   271856 non-null  int64  \n",
            " 28  Nome mantenedora                271856 non-null  object \n",
            " 29  Natureza Jurídica Mantenedora   271856 non-null  object \n",
            " 30  CNPJ da mantenedora             271856 non-null  int64  \n",
            " 31  Código e-MEC da Mantenedora     271856 non-null  int64  \n",
            " 32  Nome da IES                     271856 non-null  object \n",
            " 33  Código e-MEC da IES             271856 non-null  int64  \n",
            " 34  Organização Acadêmica da IES    271856 non-null  object \n",
            " 35  Município da IES                0 non-null       float64\n",
            " 36  UF da IES                       0 non-null       float64\n",
            " 37  Nome do Local de oferta         271856 non-null  object \n",
            " 38  Código do Local de Oferta       271856 non-null  int64  \n",
            " 39  Munícipio do Local de Oferta    271856 non-null  object \n",
            " 40  UF do Local de Oferta           271856 non-null  object \n",
            " 41  Código do curso                 271856 non-null  int64  \n",
            " 42  Nome do curso                   271856 non-null  object \n",
            " 43  Turno                           271856 non-null  object \n",
            " 44  Grau                            271856 non-null  object \n",
            " 45  Conceito                        271856 non-null  object \n",
            " 46  Média nota Enem                 271856 non-null  object \n",
            " 47  Ano do Enem                     271856 non-null  int64  \n",
            " 48  Redação                         271856 non-null  int64  \n",
            " 49  Matemática e suas Tecnologias   271856 non-null  object \n",
            " 50  Linguagens, Códigos e suas Tec  271856 non-null  object \n",
            " 51  Ciências Natureza e suas Tec    271856 non-null  object \n",
            " 52  Ciências Humanas e suas Tec     271856 non-null  object \n",
            " 53  Situação Inscrição Fies         271856 non-null  object \n",
            " 54  Percentual de financiamento     26961 non-null   object \n",
            " 55  Semestre do financiamento       245571 non-null  object \n",
            " 56  Qtde semestre financiado        53246 non-null   float64\n",
            "dtypes: float64(3), int64(16), object(38)\n",
            "memory usage: 118.2+ MB\n"
          ]
        }
      ],
      "source": [
        "fies2019.info()"
      ]
    },
    {
      "cell_type": "markdown",
      "metadata": {
        "id": "l9HedI886YlI"
      },
      "source": [
        "Como o comando anterior indicou, temos duas colunas vazias (0 valores não nulos). Desta forma, elas não apresentam utilidade para as nossas avaliações, de forma que podem ser removidas do conjunto de dados.\n",
        "\n",
        "Para comprovar tal afirmação, observe que abaixo foram exibidos os dois campos em questão"
      ]
    },
    {
      "cell_type": "code",
      "execution_count": 387,
      "metadata": {
        "colab": {
          "base_uri": "https://localhost:8080/",
          "height": 424
        },
        "id": "YBL9jxFJ5QoK",
        "outputId": "e5493830-3883-42d9-db11-722e93d50c2e"
      },
      "outputs": [
        {
          "data": {
            "text/html": [
              "<div>\n",
              "<style scoped>\n",
              "    .dataframe tbody tr th:only-of-type {\n",
              "        vertical-align: middle;\n",
              "    }\n",
              "\n",
              "    .dataframe tbody tr th {\n",
              "        vertical-align: top;\n",
              "    }\n",
              "\n",
              "    .dataframe thead th {\n",
              "        text-align: right;\n",
              "    }\n",
              "</style>\n",
              "<table border=\"1\" class=\"dataframe\">\n",
              "  <thead>\n",
              "    <tr style=\"text-align: right;\">\n",
              "      <th></th>\n",
              "      <th>Município da IES</th>\n",
              "      <th>UF da IES</th>\n",
              "    </tr>\n",
              "  </thead>\n",
              "  <tbody>\n",
              "    <tr>\n",
              "      <th>0</th>\n",
              "      <td>NaN</td>\n",
              "      <td>NaN</td>\n",
              "    </tr>\n",
              "    <tr>\n",
              "      <th>1</th>\n",
              "      <td>NaN</td>\n",
              "      <td>NaN</td>\n",
              "    </tr>\n",
              "    <tr>\n",
              "      <th>2</th>\n",
              "      <td>NaN</td>\n",
              "      <td>NaN</td>\n",
              "    </tr>\n",
              "    <tr>\n",
              "      <th>3</th>\n",
              "      <td>NaN</td>\n",
              "      <td>NaN</td>\n",
              "    </tr>\n",
              "    <tr>\n",
              "      <th>4</th>\n",
              "      <td>NaN</td>\n",
              "      <td>NaN</td>\n",
              "    </tr>\n",
              "    <tr>\n",
              "      <th>...</th>\n",
              "      <td>...</td>\n",
              "      <td>...</td>\n",
              "    </tr>\n",
              "    <tr>\n",
              "      <th>271851</th>\n",
              "      <td>NaN</td>\n",
              "      <td>NaN</td>\n",
              "    </tr>\n",
              "    <tr>\n",
              "      <th>271852</th>\n",
              "      <td>NaN</td>\n",
              "      <td>NaN</td>\n",
              "    </tr>\n",
              "    <tr>\n",
              "      <th>271853</th>\n",
              "      <td>NaN</td>\n",
              "      <td>NaN</td>\n",
              "    </tr>\n",
              "    <tr>\n",
              "      <th>271854</th>\n",
              "      <td>NaN</td>\n",
              "      <td>NaN</td>\n",
              "    </tr>\n",
              "    <tr>\n",
              "      <th>271855</th>\n",
              "      <td>NaN</td>\n",
              "      <td>NaN</td>\n",
              "    </tr>\n",
              "  </tbody>\n",
              "</table>\n",
              "<p>271856 rows × 2 columns</p>\n",
              "</div>"
            ],
            "text/plain": [
              "        Município da IES  UF da IES\n",
              "0                    NaN        NaN\n",
              "1                    NaN        NaN\n",
              "2                    NaN        NaN\n",
              "3                    NaN        NaN\n",
              "4                    NaN        NaN\n",
              "...                  ...        ...\n",
              "271851               NaN        NaN\n",
              "271852               NaN        NaN\n",
              "271853               NaN        NaN\n",
              "271854               NaN        NaN\n",
              "271855               NaN        NaN\n",
              "\n",
              "[271856 rows x 2 columns]"
            ]
          },
          "execution_count": 387,
          "metadata": {},
          "output_type": "execute_result"
        }
      ],
      "source": [
        "fies2019[['Município da IES', 'UF da IES']]"
      ]
    },
    {
      "cell_type": "markdown",
      "metadata": {
        "id": "4GxbGAMF6lJ_"
      },
      "source": [
        "Além disso, temos duas colunas com números vazios de celulas mt grandes, conforme é possivel ver a seguir, onde o número de valores vazios foi exibido."
      ]
    },
    {
      "cell_type": "code",
      "execution_count": 388,
      "metadata": {
        "colab": {
          "base_uri": "https://localhost:8080/",
          "height": 52
        },
        "id": "TmxLJrcb6rKn",
        "outputId": "d93cb8d2-276f-41c1-a94b-8372b9ed804e"
      },
      "outputs": [
        {
          "data": {
            "text/plain": [
              "244895"
            ]
          },
          "metadata": {},
          "output_type": "display_data"
        },
        {
          "data": {
            "text/plain": [
              "218610"
            ]
          },
          "metadata": {},
          "output_type": "display_data"
        }
      ],
      "source": [
        "display(len(fies2019[pd.isna(fies2019['Percentual de financiamento'])]))\n",
        "display(len(fies2019[pd.isna(fies2019['Qtde semestre financiado'])]))"
      ]
    },
    {
      "cell_type": "markdown",
      "metadata": {},
      "source": [
        "Com base nisso, as quatro colunas em questão serão removidas da base de dados. Logo em seguida, o comando \"info\" foi dado para obter os valores atualizados acerca de ifnormações do dataset"
      ]
    },
    {
      "cell_type": "code",
      "execution_count": 389,
      "metadata": {
        "colab": {
          "base_uri": "https://localhost:8080/"
        },
        "id": "-VpQJWeO5c_Y",
        "outputId": "c9bb3199-b5fc-42b9-836a-e2c69896f0ef"
      },
      "outputs": [
        {
          "name": "stdout",
          "output_type": "stream",
          "text": [
            "<class 'pandas.core.frame.DataFrame'>\n",
            "RangeIndex: 271856 entries, 0 to 271855\n",
            "Data columns (total 53 columns):\n",
            " #   Column                          Non-Null Count   Dtype \n",
            "---  ------                          --------------   ----- \n",
            " 0   Ano do processo seletivo        271856 non-null  int64 \n",
            " 1   Semestre do processo seletivo   271856 non-null  int64 \n",
            " 2   ID do estudante                 271856 non-null  int64 \n",
            " 3   Sexo                            271856 non-null  object\n",
            " 4   Data de Nascimento              271856 non-null  object\n",
            " 5   UF de residência                271847 non-null  object\n",
            " 6   Municipio de residência         271856 non-null  object\n",
            " 7   Etnia/Cor                       271856 non-null  object\n",
            " 8   Pessoa com deficiência?         271856 non-null  object\n",
            " 9   Tipo de escola no ensino médio  271856 non-null  object\n",
            " 10  Ano conclusão ensino médio      271856 non-null  int64 \n",
            " 11  Concluiu curso superior?        271856 non-null  object\n",
            " 12  Professor rede pública ensino?  271856 non-null  object\n",
            " 13  Nº de membros Grupo Familiar    271856 non-null  int64 \n",
            " 14  Renda familiar mensal bruta     232922 non-null  object\n",
            " 15  Renda mensal bruta per capita   271856 non-null  object\n",
            " 16  Região grupo de preferência     271856 non-null  object\n",
            " 17  UF                              271856 non-null  object\n",
            " 18  Cod.Microrregião                271856 non-null  int64 \n",
            " 19  Microrregião                    271856 non-null  object\n",
            " 20  Cod.Mesorregião                 271856 non-null  int64 \n",
            " 21  Mesorregião                     271856 non-null  object\n",
            " 22  Conceito de curso do GP         271856 non-null  object\n",
            " 23  Área do conhecimento            271856 non-null  object\n",
            " 24  Subárea do conhecimento         271856 non-null  object\n",
            " 25  Cod. do Grupo de preferência    271856 non-null  int64 \n",
            " 26  Nota Corte Grupo Preferência    271856 non-null  object\n",
            " 27  Opções de cursos da inscrição   271856 non-null  int64 \n",
            " 28  Nome mantenedora                271856 non-null  object\n",
            " 29  Natureza Jurídica Mantenedora   271856 non-null  object\n",
            " 30  CNPJ da mantenedora             271856 non-null  int64 \n",
            " 31  Código e-MEC da Mantenedora     271856 non-null  int64 \n",
            " 32  Nome da IES                     271856 non-null  object\n",
            " 33  Código e-MEC da IES             271856 non-null  int64 \n",
            " 34  Organização Acadêmica da IES    271856 non-null  object\n",
            " 35  Nome do Local de oferta         271856 non-null  object\n",
            " 36  Código do Local de Oferta       271856 non-null  int64 \n",
            " 37  Munícipio do Local de Oferta    271856 non-null  object\n",
            " 38  UF do Local de Oferta           271856 non-null  object\n",
            " 39  Código do curso                 271856 non-null  int64 \n",
            " 40  Nome do curso                   271856 non-null  object\n",
            " 41  Turno                           271856 non-null  object\n",
            " 42  Grau                            271856 non-null  object\n",
            " 43  Conceito                        271856 non-null  object\n",
            " 44  Média nota Enem                 271856 non-null  object\n",
            " 45  Ano do Enem                     271856 non-null  int64 \n",
            " 46  Redação                         271856 non-null  int64 \n",
            " 47  Matemática e suas Tecnologias   271856 non-null  object\n",
            " 48  Linguagens, Códigos e suas Tec  271856 non-null  object\n",
            " 49  Ciências Natureza e suas Tec    271856 non-null  object\n",
            " 50  Ciências Humanas e suas Tec     271856 non-null  object\n",
            " 51  Situação Inscrição Fies         271856 non-null  object\n",
            " 52  Semestre do financiamento       245571 non-null  object\n",
            "dtypes: int64(16), object(37)\n",
            "memory usage: 109.9+ MB\n"
          ]
        }
      ],
      "source": [
        "fies2019 = fies2019.drop(\"Município da IES\",axis=1)\n",
        "fies2019 = fies2019.drop(\"UF da IES\",axis=1)\n",
        "fies2019 = fies2019.drop(\"Percentual de financiamento\",axis=1)\n",
        "fies2019 = fies2019.drop(\"Qtde semestre financiado\",axis=1)\n",
        "fies2019.info()"
      ]
    },
    {
      "cell_type": "markdown",
      "metadata": {},
      "source": [
        "## Removendo colunas desnecessárias ao propósito do grupo com o conjunto de dados\n",
        "\n",
        "O conjunto de dados em questão, conforme observado previamente possui um grande número de colunas. Entretanto, grande parte delas não será utilizada, pelo menos à princípio pelo grupo\n",
        "\n",
        "Sendo assim, é conveniente a sua remoção do data frame, assim como foi realizado na sequência. O principal intuito de tal remoção é otimizar o tempo da equipe, visando não tratar dados que nem serão utilizados."
      ]
    },
    {
      "cell_type": "code",
      "execution_count": 390,
      "metadata": {},
      "outputs": [
        {
          "name": "stdout",
          "output_type": "stream",
          "text": [
            "<class 'pandas.core.frame.DataFrame'>\n",
            "RangeIndex: 271856 entries, 0 to 271855\n",
            "Data columns (total 33 columns):\n",
            " #   Column                          Non-Null Count   Dtype \n",
            "---  ------                          --------------   ----- \n",
            " 0   Ano do processo seletivo        271856 non-null  int64 \n",
            " 1   Semestre do processo seletivo   271856 non-null  int64 \n",
            " 2   ID do estudante                 271856 non-null  int64 \n",
            " 3   Sexo                            271856 non-null  object\n",
            " 4   Data de Nascimento              271856 non-null  object\n",
            " 5   UF de residência                271847 non-null  object\n",
            " 6   Etnia/Cor                       271856 non-null  object\n",
            " 7   Pessoa com deficiência?         271856 non-null  object\n",
            " 8   Ano conclusão ensino médio      271856 non-null  int64 \n",
            " 9   Concluiu curso superior?        271856 non-null  object\n",
            " 10  Nº de membros Grupo Familiar    271856 non-null  int64 \n",
            " 11  Renda familiar mensal bruta     232922 non-null  object\n",
            " 12  Renda mensal bruta per capita   271856 non-null  object\n",
            " 13  UF                              271856 non-null  object\n",
            " 14  Área do conhecimento            271856 non-null  object\n",
            " 15  Subárea do conhecimento         271856 non-null  object\n",
            " 16  Opções de cursos da inscrição   271856 non-null  int64 \n",
            " 17  Nome mantenedora                271856 non-null  object\n",
            " 18  Natureza Jurídica Mantenedora   271856 non-null  object\n",
            " 19  Nome da IES                     271856 non-null  object\n",
            " 20  Organização Acadêmica da IES    271856 non-null  object\n",
            " 21  UF do Local de Oferta           271856 non-null  object\n",
            " 22  Nome do curso                   271856 non-null  object\n",
            " 23  Turno                           271856 non-null  object\n",
            " 24  Média nota Enem                 271856 non-null  object\n",
            " 25  Ano do Enem                     271856 non-null  int64 \n",
            " 26  Redação                         271856 non-null  int64 \n",
            " 27  Matemática e suas Tecnologias   271856 non-null  object\n",
            " 28  Linguagens, Códigos e suas Tec  271856 non-null  object\n",
            " 29  Ciências Natureza e suas Tec    271856 non-null  object\n",
            " 30  Ciências Humanas e suas Tec     271856 non-null  object\n",
            " 31  Situação Inscrição Fies         271856 non-null  object\n",
            " 32  Semestre do financiamento       245571 non-null  object\n",
            "dtypes: int64(8), object(25)\n",
            "memory usage: 68.4+ MB\n"
          ]
        }
      ],
      "source": [
        "fies2019 = fies2019.drop(\"Tipo de escola no ensino médio\",axis=1)\n",
        "fies2019 = fies2019.drop(\"Municipio de residência\",axis=1)\n",
        "fies2019 = fies2019.drop(\"Professor rede pública ensino?\",axis=1)\n",
        "fies2019 = fies2019.drop(\"Região grupo de preferência\",axis=1)\n",
        "fies2019 = fies2019.drop(\"Microrregião\",axis=1)\n",
        "fies2019 = fies2019.drop(\"Cod.Microrregião\",axis=1)\n",
        "fies2019 = fies2019.drop(\"Mesorregião\",axis=1)\n",
        "fies2019 = fies2019.drop(\"Cod.Mesorregião\",axis=1)\n",
        "fies2019 = fies2019.drop(\"Conceito de curso do GP\",axis=1)\n",
        "fies2019 = fies2019.drop(\"Cod. do Grupo de preferência\",axis=1)\n",
        "fies2019 = fies2019.drop(\"Nota Corte Grupo Preferência\",axis=1)\n",
        "fies2019 = fies2019.drop(\"CNPJ da mantenedora\",axis=1)\n",
        "fies2019 = fies2019.drop(\"Código e-MEC da Mantenedora\",axis=1)\n",
        "fies2019 = fies2019.drop(\"Código e-MEC da IES\",axis=1)\n",
        "fies2019 = fies2019.drop(\"Nome do Local de oferta\",axis=1)\n",
        "fies2019 = fies2019.drop(\"Código do Local de Oferta\",axis=1)\n",
        "fies2019 = fies2019.drop(\"Munícipio do Local de Oferta\",axis=1)\n",
        "fies2019 = fies2019.drop(\"Código do curso\",axis=1)\n",
        "fies2019 = fies2019.drop(\"Conceito\",axis=1)\n",
        "fies2019 = fies2019.drop(\"Grau\",axis=1)\n",
        "\n",
        "fies2019.info()"
      ]
    },
    {
      "cell_type": "markdown",
      "metadata": {
        "id": "9dvCwLef8nUf"
      },
      "source": [
        "## Analisando colunas de variaveis inteiras (de acordo com o dataframe inicial)\n",
        "\n"
      ]
    },
    {
      "cell_type": "markdown",
      "metadata": {
        "id": "XYBNXF1V94Zq"
      },
      "source": [
        "### Avaliando ano do processo seletivo e semestre \n",
        "\n",
        "Os campos \"Ano do processo seletivo\" e \"Semestre do processo seletivo\" serão apresentados na sequência, apresentando seus valores únicos (ou seja, os valores diferentes apresentados por esta coluna) por meio do comando \"unique\"\n"
      ]
    },
    {
      "cell_type": "code",
      "execution_count": 391,
      "metadata": {
        "colab": {
          "base_uri": "https://localhost:8080/"
        },
        "id": "q3_RPt1j9CuT",
        "outputId": "e3256367-a59d-4ace-a7ee-74ba8ea6dc06"
      },
      "outputs": [
        {
          "data": {
            "text/plain": [
              "array([2019])"
            ]
          },
          "execution_count": 391,
          "metadata": {},
          "output_type": "execute_result"
        }
      ],
      "source": [
        "fies2019['Ano do processo seletivo'].unique()"
      ]
    },
    {
      "cell_type": "code",
      "execution_count": 392,
      "metadata": {
        "colab": {
          "base_uri": "https://localhost:8080/"
        },
        "id": "fWAT1MKB9QbR",
        "outputId": "7e9031eb-3a98-4b78-8de8-68a0ff600174"
      },
      "outputs": [
        {
          "data": {
            "text/plain": [
              "array([2])"
            ]
          },
          "execution_count": 392,
          "metadata": {},
          "output_type": "execute_result"
        }
      ],
      "source": [
        "fies2019['Semestre do processo seletivo'].unique()"
      ]
    },
    {
      "cell_type": "markdown",
      "metadata": {},
      "source": [
        "Observe que não há variação nestes campos, de forma que não são uteis ao nosso dataset, visto que todos os dados são iguais e apenas foram observados dados de inscrição no semestre 2"
      ]
    },
    {
      "cell_type": "markdown",
      "metadata": {},
      "source": [
        "Como os valores são todos iguais para todas as linhas, removemos essas colunas também. Logo depois, informações acerca do estado atual foram apresentadas"
      ]
    },
    {
      "cell_type": "code",
      "execution_count": 393,
      "metadata": {
        "id": "0wGZ-7HF9yad"
      },
      "outputs": [
        {
          "name": "stdout",
          "output_type": "stream",
          "text": [
            "<class 'pandas.core.frame.DataFrame'>\n",
            "RangeIndex: 271856 entries, 0 to 271855\n",
            "Data columns (total 31 columns):\n",
            " #   Column                          Non-Null Count   Dtype \n",
            "---  ------                          --------------   ----- \n",
            " 0   ID do estudante                 271856 non-null  int64 \n",
            " 1   Sexo                            271856 non-null  object\n",
            " 2   Data de Nascimento              271856 non-null  object\n",
            " 3   UF de residência                271847 non-null  object\n",
            " 4   Etnia/Cor                       271856 non-null  object\n",
            " 5   Pessoa com deficiência?         271856 non-null  object\n",
            " 6   Ano conclusão ensino médio      271856 non-null  int64 \n",
            " 7   Concluiu curso superior?        271856 non-null  object\n",
            " 8   Nº de membros Grupo Familiar    271856 non-null  int64 \n",
            " 9   Renda familiar mensal bruta     232922 non-null  object\n",
            " 10  Renda mensal bruta per capita   271856 non-null  object\n",
            " 11  UF                              271856 non-null  object\n",
            " 12  Área do conhecimento            271856 non-null  object\n",
            " 13  Subárea do conhecimento         271856 non-null  object\n",
            " 14  Opções de cursos da inscrição   271856 non-null  int64 \n",
            " 15  Nome mantenedora                271856 non-null  object\n",
            " 16  Natureza Jurídica Mantenedora   271856 non-null  object\n",
            " 17  Nome da IES                     271856 non-null  object\n",
            " 18  Organização Acadêmica da IES    271856 non-null  object\n",
            " 19  UF do Local de Oferta           271856 non-null  object\n",
            " 20  Nome do curso                   271856 non-null  object\n",
            " 21  Turno                           271856 non-null  object\n",
            " 22  Média nota Enem                 271856 non-null  object\n",
            " 23  Ano do Enem                     271856 non-null  int64 \n",
            " 24  Redação                         271856 non-null  int64 \n",
            " 25  Matemática e suas Tecnologias   271856 non-null  object\n",
            " 26  Linguagens, Códigos e suas Tec  271856 non-null  object\n",
            " 27  Ciências Natureza e suas Tec    271856 non-null  object\n",
            " 28  Ciências Humanas e suas Tec     271856 non-null  object\n",
            " 29  Situação Inscrição Fies         271856 non-null  object\n",
            " 30  Semestre do financiamento       245571 non-null  object\n",
            "dtypes: int64(6), object(25)\n",
            "memory usage: 64.3+ MB\n"
          ]
        }
      ],
      "source": [
        "fies2019 = fies2019.drop(\"Ano do processo seletivo\",axis=1)\n",
        "fies2019 = fies2019.drop(\"Semestre do processo seletivo\",axis=1)\n",
        "fies2019.info()"
      ]
    },
    {
      "cell_type": "markdown",
      "metadata": {},
      "source": [
        "### Avaliando id estudante \n",
        "\n",
        "Na teoria, a equipe espera que este campo deve ser único para cada estudante. Portanto, este é o valor esperado.\n",
        "\n",
        "Todavia, ao aplicar o \"unique\" e verificar seu tamanho, observou-se que este ID repetia-se, indicando que um mesmo usuário pode realizar mais de uma inscrição.\n",
        "\n",
        "De toda forma, ainda assim havia duplicatas para algumas linhas da tabela, de forma que foi necessário apagá-las. \n",
        "\n",
        "Com base nisso, pode-se concluir que alguns se increveram em ate 3 opções de curso."
      ]
    },
    {
      "cell_type": "markdown",
      "metadata": {},
      "source": [
        "Ao realizar o comando \"unique\" e comparar com o tamanho de conjunto de dados, foi possível perceber que o ID não era único para cada linha."
      ]
    },
    {
      "cell_type": "code",
      "execution_count": 394,
      "metadata": {},
      "outputs": [
        {
          "data": {
            "text/plain": [
              "140345"
            ]
          },
          "execution_count": 394,
          "metadata": {},
          "output_type": "execute_result"
        }
      ],
      "source": [
        "fies2019['ID do estudante'].unique().size"
      ]
    },
    {
      "cell_type": "markdown",
      "metadata": {},
      "source": [
        "Antes da equipe descobrir que um mesmo usuário poderia se inscrever em mais de uma opção, assumiu-se a hipótese de que ids poderiam repetir para estudantes de estados diferentes. Para verificar se isto era possível, aplicou-se o \"value_counts\" para o conjunto \"ID do estudante\" e \"UF de residência\". Assim como é visível a seguir, esta hipótese foi refutada"
      ]
    },
    {
      "cell_type": "code",
      "execution_count": 395,
      "metadata": {},
      "outputs": [
        {
          "data": {
            "text/plain": [
              "ID do estudante  UF de residência\n",
              "194074085        BA                  6\n",
              "185796475        BA                  6\n",
              "185782527        PB                  6\n",
              "185669191        SP                  6\n",
              "185779108        RJ                  6\n",
              "                                    ..\n",
              "185710454        PA                  1\n",
              "185710452        RO                  1\n",
              "185710451        GO                  1\n",
              "185710446        PA                  1\n",
              "198919837        SP                  1\n",
              "Length: 140340, dtype: int64"
            ]
          },
          "execution_count": 395,
          "metadata": {},
          "output_type": "execute_result"
        }
      ],
      "source": [
        "fies2019[['ID do estudante', 'UF de residência']].value_counts()"
      ]
    },
    {
      "cell_type": "markdown",
      "metadata": {},
      "source": [
        "Feito isso, agrupou-se por \"ID do estudante\" e apresentou-se os 30 primeiros, para verificar quantas vezes estão ocorrendo repetições."
      ]
    },
    {
      "cell_type": "code",
      "execution_count": 396,
      "metadata": {},
      "outputs": [
        {
          "data": {
            "text/plain": [
              "185688289    6\n",
              "193977523    6\n",
              "185775316    6\n",
              "193971383    6\n",
              "185596092    6\n",
              "185570252    6\n",
              "193976585    6\n",
              "185806485    6\n",
              "185671672    6\n",
              "185669191    6\n",
              "189530591    6\n",
              "185573459    6\n",
              "185674193    6\n",
              "185805658    6\n",
              "185670956    6\n",
              "185787100    6\n",
              "194071792    6\n",
              "185680463    6\n",
              "185803706    6\n",
              "185796475    6\n",
              "185681411    6\n",
              "185792843    6\n",
              "194069303    6\n",
              "189531705    6\n",
              "185690803    6\n",
              "189526380    6\n",
              "185779108    6\n",
              "185696698    6\n",
              "189531385    6\n",
              "191019212    6\n",
              "Name: ID do estudante, dtype: int64"
            ]
          },
          "execution_count": 396,
          "metadata": {},
          "output_type": "execute_result"
        }
      ],
      "source": [
        "fies2019['ID do estudante'].value_counts().head(30)"
      ]
    },
    {
      "cell_type": "markdown",
      "metadata": {},
      "source": [
        "Com base nisso, para ter uma compreensão melhor acerca de quais dados se repetem para um mesmo ID, realizou-se um filtro para um id específico, visualizando intervalos de colunas diferentes. Pôde-se observar que, em sua maioria, os dados são iguais, com exceção dos dados referentes as opções de inscrição. Como a maioria dos campos são iguais, a equipe optou por apenas mostrar um trecho em que os mesmos são diferentes. Para selecionar um conjunto de colunas específicos, utilizou-se o \"iloc\"."
      ]
    },
    {
      "cell_type": "code",
      "execution_count": 397,
      "metadata": {},
      "outputs": [
        {
          "data": {
            "text/html": [
              "<div>\n",
              "<style scoped>\n",
              "    .dataframe tbody tr th:only-of-type {\n",
              "        vertical-align: middle;\n",
              "    }\n",
              "\n",
              "    .dataframe tbody tr th {\n",
              "        vertical-align: top;\n",
              "    }\n",
              "\n",
              "    .dataframe thead th {\n",
              "        text-align: right;\n",
              "    }\n",
              "</style>\n",
              "<table border=\"1\" class=\"dataframe\">\n",
              "  <thead>\n",
              "    <tr style=\"text-align: right;\">\n",
              "      <th></th>\n",
              "      <th>Renda mensal bruta per capita</th>\n",
              "      <th>UF</th>\n",
              "      <th>Área do conhecimento</th>\n",
              "      <th>Subárea do conhecimento</th>\n",
              "      <th>Opções de cursos da inscrição</th>\n",
              "      <th>Nome mantenedora</th>\n",
              "      <th>Natureza Jurídica Mantenedora</th>\n",
              "      <th>Nome da IES</th>\n",
              "      <th>Organização Acadêmica da IES</th>\n",
              "      <th>UF do Local de Oferta</th>\n",
              "      <th>Nome do curso</th>\n",
              "    </tr>\n",
              "  </thead>\n",
              "  <tbody>\n",
              "    <tr>\n",
              "      <th>44739</th>\n",
              "      <td>1067</td>\n",
              "      <td>ALAGOAS</td>\n",
              "      <td>CURSOS DA AREA DE SAUDE</td>\n",
              "      <td>ENFERMAGEM, FISIOTERAPIA, FARMÁCIA, NUTRIÇÃO E...</td>\n",
              "      <td>1</td>\n",
              "      <td>SOCIEDADE DE EDUCACAO TIRADENTES LTDA</td>\n",
              "      <td>PRIVADA COM FINS LUCRATIVOS</td>\n",
              "      <td>CENTRO UNIVERSITÁRIO TIRADENTES</td>\n",
              "      <td>CENTRO UNIVERSITÁRIO</td>\n",
              "      <td>AL</td>\n",
              "      <td>ENFERMAGEM</td>\n",
              "    </tr>\n",
              "    <tr>\n",
              "      <th>44740</th>\n",
              "      <td>1067</td>\n",
              "      <td>ALAGOAS</td>\n",
              "      <td>CURSOS DA AREA DE SAUDE</td>\n",
              "      <td>ENFERMAGEM, FISIOTERAPIA, FARMÁCIA, NUTRIÇÃO E...</td>\n",
              "      <td>1</td>\n",
              "      <td>SOCIEDADE DE EDUCACAO TIRADENTES LTDA</td>\n",
              "      <td>PRIVADA COM FINS LUCRATIVOS</td>\n",
              "      <td>CENTRO UNIVERSITÁRIO TIRADENTES</td>\n",
              "      <td>CENTRO UNIVERSITÁRIO</td>\n",
              "      <td>AL</td>\n",
              "      <td>ENFERMAGEM</td>\n",
              "    </tr>\n",
              "    <tr>\n",
              "      <th>69094</th>\n",
              "      <td>1067</td>\n",
              "      <td>ALAGOAS</td>\n",
              "      <td>CURSOS DA AREA DE SAUDE</td>\n",
              "      <td>ENFERMAGEM, FISIOTERAPIA, FARMÁCIA, NUTRIÇÃO E...</td>\n",
              "      <td>3</td>\n",
              "      <td>FUNDACAO EDUCACIONAL JAYME DE ALTAVILA-FEJAL</td>\n",
              "      <td>PRIVADA SEM FINS LUCRATIVOS</td>\n",
              "      <td>CENTRO UNIVERSITÁRIO CESMAC</td>\n",
              "      <td>CENTRO UNIVERSITÁRIO</td>\n",
              "      <td>AL</td>\n",
              "      <td>ENFERMAGEM</td>\n",
              "    </tr>\n",
              "    <tr>\n",
              "      <th>69095</th>\n",
              "      <td>1067</td>\n",
              "      <td>ALAGOAS</td>\n",
              "      <td>CURSOS DA AREA DE SAUDE</td>\n",
              "      <td>ENFERMAGEM, FISIOTERAPIA, FARMÁCIA, NUTRIÇÃO E...</td>\n",
              "      <td>3</td>\n",
              "      <td>FUNDACAO EDUCACIONAL JAYME DE ALTAVILA-FEJAL</td>\n",
              "      <td>PRIVADA SEM FINS LUCRATIVOS</td>\n",
              "      <td>CENTRO UNIVERSITÁRIO CESMAC</td>\n",
              "      <td>CENTRO UNIVERSITÁRIO</td>\n",
              "      <td>AL</td>\n",
              "      <td>ENFERMAGEM</td>\n",
              "    </tr>\n",
              "    <tr>\n",
              "      <th>98136</th>\n",
              "      <td>1067</td>\n",
              "      <td>ALAGOAS</td>\n",
              "      <td>CURSOS DA AREA DE SAUDE</td>\n",
              "      <td>ENFERMAGEM, FISIOTERAPIA, FARMÁCIA, NUTRIÇÃO E...</td>\n",
              "      <td>2</td>\n",
              "      <td>SEUNE - SOC DE ENSINO UNIVERSITARIO DO NORDEST...</td>\n",
              "      <td>PESSOA JURÍDICA DE DIREITO PRIVADO - COM FINS ...</td>\n",
              "      <td>FACULDADE DA SEUNE</td>\n",
              "      <td>FACULDADE</td>\n",
              "      <td>AL</td>\n",
              "      <td>ENFERMAGEM</td>\n",
              "    </tr>\n",
              "    <tr>\n",
              "      <th>98137</th>\n",
              "      <td>1067</td>\n",
              "      <td>ALAGOAS</td>\n",
              "      <td>CURSOS DA AREA DE SAUDE</td>\n",
              "      <td>ENFERMAGEM, FISIOTERAPIA, FARMÁCIA, NUTRIÇÃO E...</td>\n",
              "      <td>2</td>\n",
              "      <td>SEUNE - SOC DE ENSINO UNIVERSITARIO DO NORDEST...</td>\n",
              "      <td>PESSOA JURÍDICA DE DIREITO PRIVADO - COM FINS ...</td>\n",
              "      <td>FACULDADE DA SEUNE</td>\n",
              "      <td>FACULDADE</td>\n",
              "      <td>AL</td>\n",
              "      <td>ENFERMAGEM</td>\n",
              "    </tr>\n",
              "  </tbody>\n",
              "</table>\n",
              "</div>"
            ],
            "text/plain": [
              "      Renda mensal bruta per capita       UF     Área do conhecimento  \\\n",
              "44739                          1067  ALAGOAS  CURSOS DA AREA DE SAUDE   \n",
              "44740                          1067  ALAGOAS  CURSOS DA AREA DE SAUDE   \n",
              "69094                          1067  ALAGOAS  CURSOS DA AREA DE SAUDE   \n",
              "69095                          1067  ALAGOAS  CURSOS DA AREA DE SAUDE   \n",
              "98136                          1067  ALAGOAS  CURSOS DA AREA DE SAUDE   \n",
              "98137                          1067  ALAGOAS  CURSOS DA AREA DE SAUDE   \n",
              "\n",
              "                                 Subárea do conhecimento  \\\n",
              "44739  ENFERMAGEM, FISIOTERAPIA, FARMÁCIA, NUTRIÇÃO E...   \n",
              "44740  ENFERMAGEM, FISIOTERAPIA, FARMÁCIA, NUTRIÇÃO E...   \n",
              "69094  ENFERMAGEM, FISIOTERAPIA, FARMÁCIA, NUTRIÇÃO E...   \n",
              "69095  ENFERMAGEM, FISIOTERAPIA, FARMÁCIA, NUTRIÇÃO E...   \n",
              "98136  ENFERMAGEM, FISIOTERAPIA, FARMÁCIA, NUTRIÇÃO E...   \n",
              "98137  ENFERMAGEM, FISIOTERAPIA, FARMÁCIA, NUTRIÇÃO E...   \n",
              "\n",
              "       Opções de cursos da inscrição  \\\n",
              "44739                              1   \n",
              "44740                              1   \n",
              "69094                              3   \n",
              "69095                              3   \n",
              "98136                              2   \n",
              "98137                              2   \n",
              "\n",
              "                                        Nome mantenedora  \\\n",
              "44739              SOCIEDADE DE EDUCACAO TIRADENTES LTDA   \n",
              "44740              SOCIEDADE DE EDUCACAO TIRADENTES LTDA   \n",
              "69094       FUNDACAO EDUCACIONAL JAYME DE ALTAVILA-FEJAL   \n",
              "69095       FUNDACAO EDUCACIONAL JAYME DE ALTAVILA-FEJAL   \n",
              "98136  SEUNE - SOC DE ENSINO UNIVERSITARIO DO NORDEST...   \n",
              "98137  SEUNE - SOC DE ENSINO UNIVERSITARIO DO NORDEST...   \n",
              "\n",
              "                           Natureza Jurídica Mantenedora  \\\n",
              "44739                        PRIVADA COM FINS LUCRATIVOS   \n",
              "44740                        PRIVADA COM FINS LUCRATIVOS   \n",
              "69094                        PRIVADA SEM FINS LUCRATIVOS   \n",
              "69095                        PRIVADA SEM FINS LUCRATIVOS   \n",
              "98136  PESSOA JURÍDICA DE DIREITO PRIVADO - COM FINS ...   \n",
              "98137  PESSOA JURÍDICA DE DIREITO PRIVADO - COM FINS ...   \n",
              "\n",
              "                           Nome da IES Organização Acadêmica da IES  \\\n",
              "44739  CENTRO UNIVERSITÁRIO TIRADENTES         CENTRO UNIVERSITÁRIO   \n",
              "44740  CENTRO UNIVERSITÁRIO TIRADENTES         CENTRO UNIVERSITÁRIO   \n",
              "69094      CENTRO UNIVERSITÁRIO CESMAC         CENTRO UNIVERSITÁRIO   \n",
              "69095      CENTRO UNIVERSITÁRIO CESMAC         CENTRO UNIVERSITÁRIO   \n",
              "98136               FACULDADE DA SEUNE                   FACULDADE    \n",
              "98137               FACULDADE DA SEUNE                   FACULDADE    \n",
              "\n",
              "      UF do Local de Oferta Nome do curso  \n",
              "44739                    AL    ENFERMAGEM  \n",
              "44740                    AL    ENFERMAGEM  \n",
              "69094                    AL    ENFERMAGEM  \n",
              "69095                    AL    ENFERMAGEM  \n",
              "98136                    AL    ENFERMAGEM  \n",
              "98137                    AL    ENFERMAGEM  "
            ]
          },
          "execution_count": 397,
          "metadata": {},
          "output_type": "execute_result"
        }
      ],
      "source": [
        "fies2019[fies2019['ID do estudante'] == 185688289].iloc[:, 10:21]"
      ]
    },
    {
      "cell_type": "markdown",
      "metadata": {},
      "source": [
        "Todavia, conforme também é observado acima, temos duplicação de cada linha com uma opção de curso diferente. Sendo assim, primeiramente devemos remover as duplicatas."
      ]
    },
    {
      "cell_type": "markdown",
      "metadata": {},
      "source": [
        "Como vamos remover tais duplicatas, é conveniente avaliar o tamanho do dataset antes e depois da realização de tal operação, por meio do comando \"len\""
      ]
    },
    {
      "cell_type": "code",
      "execution_count": 398,
      "metadata": {},
      "outputs": [
        {
          "data": {
            "text/plain": [
              "271856"
            ]
          },
          "execution_count": 398,
          "metadata": {},
          "output_type": "execute_result"
        }
      ],
      "source": [
        "len(fies2019)"
      ]
    },
    {
      "cell_type": "markdown",
      "metadata": {},
      "source": [
        "Removendo duplicatas por meio do \"drop_duplicates\""
      ]
    },
    {
      "cell_type": "code",
      "execution_count": 399,
      "metadata": {},
      "outputs": [],
      "source": [
        "fies2019 = fies2019.drop_duplicates()"
      ]
    },
    {
      "cell_type": "markdown",
      "metadata": {},
      "source": [
        "Após a remoção, vamos verificar o tamanho do dataset"
      ]
    },
    {
      "cell_type": "code",
      "execution_count": 400,
      "metadata": {},
      "outputs": [
        {
          "data": {
            "text/plain": [
              "271316"
            ]
          },
          "execution_count": 400,
          "metadata": {},
          "output_type": "execute_result"
        }
      ],
      "source": [
        "len(fies2019)"
      ]
    },
    {
      "cell_type": "markdown",
      "metadata": {},
      "source": [
        "Agora realizando o \"value_counts\" novamente, é possível observar que agora o valor máximo apresentado para repetição de ids é 3. Sendo assim, é extremamente provável que o usuário possa realizar até 3 inscrições"
      ]
    },
    {
      "cell_type": "code",
      "execution_count": 401,
      "metadata": {},
      "outputs": [
        {
          "data": {
            "text/plain": [
              "189538691    3\n",
              "185600517    3\n",
              "193975093    3\n",
              "185804178    3\n",
              "193978584    3\n",
              "185689550    3\n",
              "185572533    3\n",
              "189527921    3\n",
              "185476520    3\n",
              "185809560    3\n",
              "189532645    3\n",
              "185768959    3\n",
              "185709693    3\n",
              "185488986    3\n",
              "185684985    3\n",
              "189532112    3\n",
              "185782420    3\n",
              "185489715    3\n",
              "193569277    3\n",
              "194024456    3\n",
              "185685223    3\n",
              "185577794    3\n",
              "186918835    3\n",
              "185775512    3\n",
              "186069833    3\n",
              "185785140    3\n",
              "189531884    3\n",
              "185784105    3\n",
              "185782641    3\n",
              "185682867    3\n",
              "Name: ID do estudante, dtype: int64"
            ]
          },
          "execution_count": 401,
          "metadata": {},
          "output_type": "execute_result"
        }
      ],
      "source": [
        "fies2019['ID do estudante'].value_counts().head(30)"
      ]
    },
    {
      "cell_type": "markdown",
      "metadata": {},
      "source": [
        "### Avaliando Ano conclusão ensino médio  \n",
        "\n",
        "Para este campo, espera-se uma maior variedade de valores"
      ]
    },
    {
      "cell_type": "code",
      "execution_count": 402,
      "metadata": {},
      "outputs": [
        {
          "data": {
            "text/plain": [
              "array([2006, 2014, 2008, 1999, 2013, 2015, 2017, 2002, 2016, 2001, 2018,\n",
              "       2009, 2011, 2012, 1993, 2000, 2010, 2007, 1998, 2004, 2005, 1996,\n",
              "       1997, 2003, 1989, 2019, 1994, 1988, 1990, 1985, 1995, 1984, 1986,\n",
              "       1983, 1979, 1992, 1991, 1987, 1972, 1980, 1981, 1982, 1978, 1973,\n",
              "       1976, 1977, 1967, 1975, 1961, 1968, 1974])"
            ]
          },
          "execution_count": 402,
          "metadata": {},
          "output_type": "execute_result"
        }
      ],
      "source": [
        "fies2019['Ano conclusão ensino médio'].unique()"
      ]
    },
    {
      "cell_type": "markdown",
      "metadata": {},
      "source": [
        "Observando distribuicao dos valores..."
      ]
    },
    {
      "cell_type": "code",
      "execution_count": 403,
      "metadata": {},
      "outputs": [
        {
          "data": {
            "text/plain": [
              "2018    55992\n",
              "2017    44753\n",
              "2016    33460\n",
              "2015    26491\n",
              "2014    20031\n",
              "2013    14716\n",
              "2012    11593\n",
              "2011     9259\n",
              "2010     8322\n",
              "2009     6542\n",
              "2008     5236\n",
              "2007     4918\n",
              "2006     3775\n",
              "2005     3638\n",
              "2004     3003\n",
              "2019     2842\n",
              "2003     2806\n",
              "2002     2359\n",
              "2001     2046\n",
              "2000     1858\n",
              "1999     1641\n",
              "1998     1182\n",
              "1997      897\n",
              "1996      664\n",
              "1994      515\n",
              "1995      514\n",
              "1993      405\n",
              "1992      329\n",
              "1991      266\n",
              "1989      236\n",
              "1990      167\n",
              "1988      154\n",
              "1987      123\n",
              "1985      111\n",
              "1986       99\n",
              "1984       57\n",
              "1982       53\n",
              "1983       51\n",
              "1981       46\n",
              "1978       41\n",
              "1980       38\n",
              "1979       26\n",
              "1977       24\n",
              "1976       10\n",
              "1973        7\n",
              "1975        7\n",
              "1972        4\n",
              "1961        3\n",
              "1968        3\n",
              "1974        2\n",
              "1967        1\n",
              "Name: Ano conclusão ensino médio, dtype: int64"
            ]
          },
          "execution_count": 403,
          "metadata": {},
          "output_type": "execute_result"
        }
      ],
      "source": [
        "fies2019['Ano conclusão ensino médio'].value_counts()"
      ]
    },
    {
      "cell_type": "markdown",
      "metadata": {},
      "source": [
        "Este campo esta coerente, de forma que mais tratamentos não são necessários"
      ]
    },
    {
      "cell_type": "markdown",
      "metadata": {},
      "source": [
        "### Avaliando Nº de membros Grupo Familiar"
      ]
    },
    {
      "cell_type": "markdown",
      "metadata": {},
      "source": [
        "Para este campo, espera-se uma maior variedade de valores"
      ]
    },
    {
      "cell_type": "code",
      "execution_count": 404,
      "metadata": {},
      "outputs": [
        {
          "data": {
            "text/plain": [
              "array([ 2,  3,  1,  0,  4,  6,  5,  8,  7, 11, 14,  9, 10, 12, 13, 18, 25,\n",
              "       15, 16, 17])"
            ]
          },
          "execution_count": 404,
          "metadata": {},
          "output_type": "execute_result"
        }
      ],
      "source": [
        "fies2019['Nº de membros Grupo Familiar'].unique()"
      ]
    },
    {
      "cell_type": "markdown",
      "metadata": {},
      "source": [
        "Olhando distribuição dos dados..."
      ]
    },
    {
      "cell_type": "code",
      "execution_count": 405,
      "metadata": {},
      "outputs": [
        {
          "data": {
            "text/plain": [
              "1     76566\n",
              "2     70367\n",
              "3     55746\n",
              "0     38875\n",
              "4     21616\n",
              "5      5738\n",
              "6      1473\n",
              "7       495\n",
              "8       209\n",
              "9        97\n",
              "10       56\n",
              "11       40\n",
              "12       14\n",
              "13        9\n",
              "14        6\n",
              "15        3\n",
              "18        2\n",
              "16        2\n",
              "25        1\n",
              "17        1\n",
              "Name: Nº de membros Grupo Familiar, dtype: int64"
            ]
          },
          "execution_count": 405,
          "metadata": {},
          "output_type": "execute_result"
        }
      ],
      "source": [
        "fies2019['Nº de membros Grupo Familiar'].value_counts()"
      ]
    },
    {
      "cell_type": "markdown",
      "metadata": {},
      "source": [
        "Este campo esta coerente, de forma que mais tratamentos não são necessários"
      ]
    },
    {
      "cell_type": "markdown",
      "metadata": {},
      "source": [
        "### Avaliando opções de cursos da inscrição"
      ]
    },
    {
      "cell_type": "markdown",
      "metadata": {},
      "source": [
        "As opções de curso referem-se a qual opção de curso os dados em questão se referem.\n",
        "\n",
        "Confirmando a hipótese anterior, observa-se que existe um limite de 3 opções de curso"
      ]
    },
    {
      "cell_type": "code",
      "execution_count": 406,
      "metadata": {},
      "outputs": [
        {
          "data": {
            "text/plain": [
              "array([3, 2, 1])"
            ]
          },
          "execution_count": 406,
          "metadata": {},
          "output_type": "execute_result"
        }
      ],
      "source": [
        "fies2019['Opções de cursos da inscrição'].unique()"
      ]
    },
    {
      "cell_type": "markdown",
      "metadata": {},
      "source": [
        "Observando a distribuição dos valores, assim como também esperado, tem-se maiores valores para a primeira opção"
      ]
    },
    {
      "cell_type": "code",
      "execution_count": 407,
      "metadata": {},
      "outputs": [
        {
          "data": {
            "text/plain": [
              "1    140345\n",
              "2     80559\n",
              "3     50412\n",
              "Name: Opções de cursos da inscrição, dtype: int64"
            ]
          },
          "execution_count": 407,
          "metadata": {},
          "output_type": "execute_result"
        }
      ],
      "source": [
        "fies2019['Opções de cursos da inscrição'].value_counts()"
      ]
    },
    {
      "cell_type": "code",
      "execution_count": 408,
      "metadata": {},
      "outputs": [
        {
          "name": "stdout",
          "output_type": "stream",
          "text": [
            "<class 'pandas.core.frame.DataFrame'>\n",
            "Int64Index: 271316 entries, 0 to 271855\n",
            "Data columns (total 31 columns):\n",
            " #   Column                          Non-Null Count   Dtype \n",
            "---  ------                          --------------   ----- \n",
            " 0   ID do estudante                 271316 non-null  int64 \n",
            " 1   Sexo                            271316 non-null  object\n",
            " 2   Data de Nascimento              271316 non-null  object\n",
            " 3   UF de residência                271307 non-null  object\n",
            " 4   Etnia/Cor                       271316 non-null  object\n",
            " 5   Pessoa com deficiência?         271316 non-null  object\n",
            " 6   Ano conclusão ensino médio      271316 non-null  int64 \n",
            " 7   Concluiu curso superior?        271316 non-null  object\n",
            " 8   Nº de membros Grupo Familiar    271316 non-null  int64 \n",
            " 9   Renda familiar mensal bruta     232441 non-null  object\n",
            " 10  Renda mensal bruta per capita   271316 non-null  object\n",
            " 11  UF                              271316 non-null  object\n",
            " 12  Área do conhecimento            271316 non-null  object\n",
            " 13  Subárea do conhecimento         271316 non-null  object\n",
            " 14  Opções de cursos da inscrição   271316 non-null  int64 \n",
            " 15  Nome mantenedora                271316 non-null  object\n",
            " 16  Natureza Jurídica Mantenedora   271316 non-null  object\n",
            " 17  Nome da IES                     271316 non-null  object\n",
            " 18  Organização Acadêmica da IES    271316 non-null  object\n",
            " 19  UF do Local de Oferta           271316 non-null  object\n",
            " 20  Nome do curso                   271316 non-null  object\n",
            " 21  Turno                           271316 non-null  object\n",
            " 22  Média nota Enem                 271316 non-null  object\n",
            " 23  Ano do Enem                     271316 non-null  int64 \n",
            " 24  Redação                         271316 non-null  int64 \n",
            " 25  Matemática e suas Tecnologias   271316 non-null  object\n",
            " 26  Linguagens, Códigos e suas Tec  271316 non-null  object\n",
            " 27  Ciências Natureza e suas Tec    271316 non-null  object\n",
            " 28  Ciências Humanas e suas Tec     271316 non-null  object\n",
            " 29  Situação Inscrição Fies         271316 non-null  object\n",
            " 30  Semestre do financiamento       245044 non-null  object\n",
            "dtypes: int64(6), object(25)\n",
            "memory usage: 66.2+ MB\n"
          ]
        }
      ],
      "source": [
        "fies2019.info()"
      ]
    },
    {
      "cell_type": "markdown",
      "metadata": {},
      "source": [
        "### Avaliando Ano do Enem"
      ]
    },
    {
      "cell_type": "markdown",
      "metadata": {},
      "source": [
        "Assim como o campo do ano de conclusão do ensino médio, para este campo também espera-se um conjunto de valores distintos entre si"
      ]
    },
    {
      "cell_type": "code",
      "execution_count": 409,
      "metadata": {},
      "outputs": [
        {
          "data": {
            "text/plain": [
              "array([2019, 2018, 2013, 2016, 2015, 2010, 2020, 2017, 2014, 2012, 2011])"
            ]
          },
          "execution_count": 409,
          "metadata": {},
          "output_type": "execute_result"
        }
      ],
      "source": [
        "fies2019['Ano do Enem'].unique()"
      ]
    },
    {
      "cell_type": "markdown",
      "metadata": {},
      "source": [
        "Olhando distribuição dos dados..."
      ]
    },
    {
      "cell_type": "code",
      "execution_count": 410,
      "metadata": {},
      "outputs": [
        {
          "data": {
            "text/plain": [
              "1    140345\n",
              "2     80559\n",
              "3     50412\n",
              "Name: Opções de cursos da inscrição, dtype: int64"
            ]
          },
          "execution_count": 410,
          "metadata": {},
          "output_type": "execute_result"
        }
      ],
      "source": [
        "fies2019['Opções de cursos da inscrição'].value_counts()"
      ]
    },
    {
      "cell_type": "markdown",
      "metadata": {},
      "source": [
        "Este campo esta coerente, de forma que mais tratamentos não são necessários"
      ]
    },
    {
      "cell_type": "markdown",
      "metadata": {},
      "source": [
        "### Avaliando Redação"
      ]
    },
    {
      "cell_type": "markdown",
      "metadata": {},
      "source": [
        "Para este, espera-se uma grande variedade de valores inteiros, o que será avaliado pelo comando \"unique\""
      ]
    },
    {
      "cell_type": "code",
      "execution_count": 411,
      "metadata": {},
      "outputs": [
        {
          "data": {
            "text/plain": [
              "array([ 540,  700,  480,  640,  740,  720,  600,  520,  440,  560,  660,\n",
              "        380,  260,  840,  800,  500,  460,  620,  580,  820,  280,  780,\n",
              "        920,  880,  760,  360,  680,  775,  420,  300,  400,  340,  450,\n",
              "        940,  320,  650,  860,  900,  960,  725,  525,  980, 1000,  750,\n",
              "        625,  675,  550,  875,  575,  475,  850,  925,  616,  250,  240,\n",
              "        825,  425,  200,  950,  533,  808,  375,  180,  817,  220,  350,\n",
              "        325,  591,  140,  708,  566,  975,  583,  833,  709,  683,  402,\n",
              "        160,  792])"
            ]
          },
          "execution_count": 411,
          "metadata": {},
          "output_type": "execute_result"
        }
      ],
      "source": [
        "fies2019['Redação'].unique()"
      ]
    },
    {
      "cell_type": "markdown",
      "metadata": {},
      "source": [
        "Olhando distribuição dos dados..."
      ]
    },
    {
      "cell_type": "code",
      "execution_count": 412,
      "metadata": {},
      "outputs": [
        {
          "data": {
            "text/plain": [
              "560    21828\n",
              "600    20426\n",
              "520    17623\n",
              "580    16951\n",
              "540    15963\n",
              "       ...  \n",
              "402        2\n",
              "533        2\n",
              "792        2\n",
              "708        1\n",
              "583        1\n",
              "Name: Redação, Length: 79, dtype: int64"
            ]
          },
          "execution_count": 412,
          "metadata": {},
          "output_type": "execute_result"
        }
      ],
      "source": [
        "fies2019['Redação'].value_counts()"
      ]
    },
    {
      "cell_type": "markdown",
      "metadata": {},
      "source": [
        "Este campo esta coerente, de forma que mais tratamentos não são necessários"
      ]
    },
    {
      "cell_type": "markdown",
      "metadata": {},
      "source": [
        "## Analisando colunas de variaveis do tipo object (de acordo com o dataframe inicial)\n",
        "\n"
      ]
    },
    {
      "cell_type": "markdown",
      "metadata": {},
      "source": [
        "### Analisando Sexo"
      ]
    },
    {
      "cell_type": "code",
      "execution_count": 413,
      "metadata": {},
      "outputs": [
        {
          "data": {
            "text/plain": [
              "array(['M', 'F'], dtype=object)"
            ]
          },
          "execution_count": 413,
          "metadata": {},
          "output_type": "execute_result"
        }
      ],
      "source": [
        "fies2019['Sexo'].unique()"
      ]
    },
    {
      "cell_type": "code",
      "execution_count": 414,
      "metadata": {},
      "outputs": [
        {
          "data": {
            "text/plain": [
              "F    173617\n",
              "M     97699\n",
              "Name: Sexo, dtype: int64"
            ]
          },
          "execution_count": 414,
          "metadata": {},
          "output_type": "execute_result"
        }
      ],
      "source": [
        "fies2019['Sexo'].value_counts()"
      ]
    },
    {
      "cell_type": "code",
      "execution_count": 415,
      "metadata": {},
      "outputs": [],
      "source": [
        "#fies2019['']"
      ]
    },
    {
      "cell_type": "markdown",
      "metadata": {},
      "source": [
        "### Analisando Data de Nascimento"
      ]
    },
    {
      "cell_type": "markdown",
      "metadata": {},
      "source": [
        "Não se conhece o tipo da coluna da data de nascimento, mas sabe-se que é um objeto. Para realizar a manipulação destes dados corrretamente é preciso que esteja em um tipo utilizado para data, sendo assim, checa-se qual o tipo de um dos valores presentes na coluna."
      ]
    },
    {
      "cell_type": "code",
      "execution_count": 416,
      "metadata": {},
      "outputs": [
        {
          "data": {
            "text/plain": [
              "pandas.core.series.Series"
            ]
          },
          "execution_count": 416,
          "metadata": {},
          "output_type": "execute_result"
        }
      ],
      "source": [
        "type(fies2019['Data de Nascimento'])"
      ]
    },
    {
      "cell_type": "markdown",
      "metadata": {},
      "source": [
        "Observa-se que a data é do tipo 'str'. Para facilitar a manipulação das datas, pode-se converter os dados utilizando a função \"to_datetime\"."
      ]
    },
    {
      "cell_type": "code",
      "execution_count": 417,
      "metadata": {},
      "outputs": [
        {
          "data": {
            "text/plain": [
              "pandas._libs.tslibs.timestamps.Timestamp"
            ]
          },
          "execution_count": 417,
          "metadata": {},
          "output_type": "execute_result"
        }
      ],
      "source": [
        "fies2019['Data de Nascimento'] = pd.to_datetime(fies2019['Data de Nascimento'], format='%d/%m/%y')\n",
        "type(fies2019['Data de Nascimento'][0])"
      ]
    },
    {
      "cell_type": "markdown",
      "metadata": {},
      "source": [
        "fies2019['Data de Nascimento'].unique()"
      ]
    },
    {
      "cell_type": "code",
      "execution_count": 418,
      "metadata": {},
      "outputs": [
        {
          "data": {
            "text/plain": [
              "2000-10-16    181\n",
              "2000-03-02    173\n",
              "2000-02-25    157\n",
              "2000-09-13    156\n",
              "2000-05-30    155\n",
              "             ... \n",
              "2061-02-17      1\n",
              "1978-01-19      1\n",
              "2068-02-06      1\n",
              "1975-04-29      1\n",
              "1981-03-27      1\n",
              "Name: Data de Nascimento, Length: 11520, dtype: int64"
            ]
          },
          "execution_count": 418,
          "metadata": {},
          "output_type": "execute_result"
        }
      ],
      "source": [
        "fies2019['Data de Nascimento'].value_counts()"
      ]
    },
    {
      "cell_type": "markdown",
      "metadata": {},
      "source": [
        "### Analisando UF de residência"
      ]
    },
    {
      "cell_type": "markdown",
      "metadata": {},
      "source": [
        "### Analisando Etnia/Cor"
      ]
    },
    {
      "cell_type": "code",
      "execution_count": 419,
      "metadata": {},
      "outputs": [
        {
          "data": {
            "text/plain": [
              "array(['PARDA', 'BRANCA', 'PRETA', 'INDÍGENA', 'AMARELA'], dtype=object)"
            ]
          },
          "execution_count": 419,
          "metadata": {},
          "output_type": "execute_result"
        }
      ],
      "source": [
        "fies2019['Etnia/Cor'].unique()"
      ]
    },
    {
      "cell_type": "code",
      "execution_count": 420,
      "metadata": {},
      "outputs": [
        {
          "data": {
            "text/plain": [
              "PARDA       135420\n",
              "BRANCA       95171\n",
              "PRETA        33636\n",
              "AMARELA       6326\n",
              "INDÍGENA       763\n",
              "Name: Etnia/Cor, dtype: int64"
            ]
          },
          "execution_count": 420,
          "metadata": {},
          "output_type": "execute_result"
        }
      ],
      "source": [
        "fies2019['Etnia/Cor'].value_counts()"
      ]
    },
    {
      "cell_type": "markdown",
      "metadata": {},
      "source": [
        "### Analisando Pessoa Com Deficiência?"
      ]
    },
    {
      "cell_type": "code",
      "execution_count": 421,
      "metadata": {},
      "outputs": [
        {
          "data": {
            "text/plain": [
              "array(['NÃO', 'SIM'], dtype=object)"
            ]
          },
          "execution_count": 421,
          "metadata": {},
          "output_type": "execute_result"
        }
      ],
      "source": [
        "fies2019['Pessoa com deficiência?'].unique()"
      ]
    },
    {
      "cell_type": "code",
      "execution_count": 422,
      "metadata": {},
      "outputs": [
        {
          "data": {
            "text/plain": [
              "NÃO    268986\n",
              "SIM      2330\n",
              "Name: Pessoa com deficiência?, dtype: int64"
            ]
          },
          "execution_count": 422,
          "metadata": {},
          "output_type": "execute_result"
        }
      ],
      "source": [
        "fies2019['Pessoa com deficiência?'].value_counts()"
      ]
    },
    {
      "cell_type": "markdown",
      "metadata": {},
      "source": [
        "### Analisando Concluiu curso superior?"
      ]
    },
    {
      "cell_type": "code",
      "execution_count": 423,
      "metadata": {},
      "outputs": [
        {
          "data": {
            "text/plain": [
              "array(['NÃO', 'SIM'], dtype=object)"
            ]
          },
          "execution_count": 423,
          "metadata": {},
          "output_type": "execute_result"
        }
      ],
      "source": [
        "fies2019['Pessoa com deficiência?'].unique()"
      ]
    },
    {
      "cell_type": "code",
      "execution_count": 424,
      "metadata": {},
      "outputs": [
        {
          "data": {
            "text/plain": [
              "NÃO    268986\n",
              "SIM      2330\n",
              "Name: Pessoa com deficiência?, dtype: int64"
            ]
          },
          "execution_count": 424,
          "metadata": {},
          "output_type": "execute_result"
        }
      ],
      "source": [
        "fies2019['Pessoa com deficiência?'].value_counts()"
      ]
    },
    {
      "cell_type": "markdown",
      "metadata": {},
      "source": [
        "### Analisando Renda familiar mensal bruta"
      ]
    },
    {
      "cell_type": "markdown",
      "metadata": {},
      "source": [
        "Este campo está armazenado no dataframe como um objeto. Todavia, este campo deve possuir valor real, no caso, float. \n",
        "\n",
        "Para a análise não ser prejudicada por valores nulos, estes foram removidos da tabela."
      ]
    },
    {
      "cell_type": "code",
      "execution_count": 425,
      "metadata": {},
      "outputs": [],
      "source": [
        "fies2019 = fies2019.dropna(subset=\"Renda familiar mensal bruta\")"
      ]
    },
    {
      "cell_type": "markdown",
      "metadata": {},
      "source": [
        "Ao observar os valores por meio do value_counts, pode-se perceber que estes foram considerados como string pois foram armazenados com vírgulas, quando, na verdade, para serem reconhecidos como numéricos, deveriam ser armazenados com pontos."
      ]
    },
    {
      "cell_type": "code",
      "execution_count": 426,
      "metadata": {},
      "outputs": [
        {
          "data": {
            "text/plain": [
              "499        9933\n",
              "500        6932\n",
              "332,67     6085\n",
              "1000       4972\n",
              "249,5      3770\n",
              "           ... \n",
              "1643,23       1\n",
              "518,07        1\n",
              "1046,33       1\n",
              "1926,03       1\n",
              "1643,04       1\n",
              "Name: Renda mensal bruta per capita, Length: 33845, dtype: int64"
            ]
          },
          "execution_count": 426,
          "metadata": {},
          "output_type": "execute_result"
        }
      ],
      "source": [
        "fies2019['Renda mensal bruta per capita'].value_counts()"
      ]
    },
    {
      "cell_type": "markdown",
      "metadata": {},
      "source": [
        "Sendo assim, foi necessária a substituição das vírgulas por pontos para a coluna em questão do dataset"
      ]
    },
    {
      "cell_type": "code",
      "execution_count": 427,
      "metadata": {},
      "outputs": [],
      "source": [
        "fies2019['Renda familiar mensal bruta'] = fies2019['Renda familiar mensal bruta'].str.replace(',', '.')"
      ]
    },
    {
      "cell_type": "markdown",
      "metadata": {},
      "source": [
        "Uma vez que as vírgulas foram removidas, é possível atualizar a coluna em questão para esta receber um valor numérico"
      ]
    },
    {
      "cell_type": "code",
      "execution_count": 428,
      "metadata": {},
      "outputs": [],
      "source": [
        "fies2019['Renda familiar mensal bruta'] = pd.to_numeric(fies2019['Renda familiar mensal bruta'])"
      ]
    },
    {
      "cell_type": "code",
      "execution_count": 429,
      "metadata": {},
      "outputs": [
        {
          "data": {
            "text/plain": [
              "0         2066,67\n",
              "1          652,49\n",
              "2          533,33\n",
              "3            1350\n",
              "4             500\n",
              "           ...   \n",
              "271851     333,33\n",
              "271852     993,33\n",
              "271853     993,33\n",
              "271854     606,69\n",
              "271855     665,33\n",
              "Name: Renda mensal bruta per capita, Length: 232441, dtype: object"
            ]
          },
          "execution_count": 429,
          "metadata": {},
          "output_type": "execute_result"
        }
      ],
      "source": [
        "fies2019['Renda mensal bruta per capita']"
      ]
    },
    {
      "cell_type": "markdown",
      "metadata": {},
      "source": [
        "Ao observar a organização do dataframe por meio do comando \"info\", pode-se perceber que este campo agora é reconhecido como float"
      ]
    },
    {
      "cell_type": "code",
      "execution_count": 430,
      "metadata": {},
      "outputs": [
        {
          "name": "stdout",
          "output_type": "stream",
          "text": [
            "<class 'pandas.core.frame.DataFrame'>\n",
            "Int64Index: 232441 entries, 0 to 271855\n",
            "Data columns (total 31 columns):\n",
            " #   Column                          Non-Null Count   Dtype         \n",
            "---  ------                          --------------   -----         \n",
            " 0   ID do estudante                 232441 non-null  int64         \n",
            " 1   Sexo                            232441 non-null  object        \n",
            " 2   Data de Nascimento              232441 non-null  datetime64[ns]\n",
            " 3   UF de residência                232432 non-null  object        \n",
            " 4   Etnia/Cor                       232441 non-null  object        \n",
            " 5   Pessoa com deficiência?         232441 non-null  object        \n",
            " 6   Ano conclusão ensino médio      232441 non-null  int64         \n",
            " 7   Concluiu curso superior?        232441 non-null  object        \n",
            " 8   Nº de membros Grupo Familiar    232441 non-null  int64         \n",
            " 9   Renda familiar mensal bruta     232441 non-null  float64       \n",
            " 10  Renda mensal bruta per capita   232441 non-null  object        \n",
            " 11  UF                              232441 non-null  object        \n",
            " 12  Área do conhecimento            232441 non-null  object        \n",
            " 13  Subárea do conhecimento         232441 non-null  object        \n",
            " 14  Opções de cursos da inscrição   232441 non-null  int64         \n",
            " 15  Nome mantenedora                232441 non-null  object        \n",
            " 16  Natureza Jurídica Mantenedora   232441 non-null  object        \n",
            " 17  Nome da IES                     232441 non-null  object        \n",
            " 18  Organização Acadêmica da IES    232441 non-null  object        \n",
            " 19  UF do Local de Oferta           232441 non-null  object        \n",
            " 20  Nome do curso                   232441 non-null  object        \n",
            " 21  Turno                           232441 non-null  object        \n",
            " 22  Média nota Enem                 232441 non-null  object        \n",
            " 23  Ano do Enem                     232441 non-null  int64         \n",
            " 24  Redação                         232441 non-null  int64         \n",
            " 25  Matemática e suas Tecnologias   232441 non-null  object        \n",
            " 26  Linguagens, Códigos e suas Tec  232441 non-null  object        \n",
            " 27  Ciências Natureza e suas Tec    232441 non-null  object        \n",
            " 28  Ciências Humanas e suas Tec     232441 non-null  object        \n",
            " 29  Situação Inscrição Fies         232441 non-null  object        \n",
            " 30  Semestre do financiamento       207784 non-null  object        \n",
            "dtypes: datetime64[ns](1), float64(1), int64(6), object(23)\n",
            "memory usage: 56.7+ MB\n"
          ]
        }
      ],
      "source": [
        "fies2019.info()"
      ]
    },
    {
      "cell_type": "markdown",
      "metadata": {},
      "source": [
        "### Analisando Renda mensal bruta per capita"
      ]
    },
    {
      "cell_type": "markdown",
      "metadata": {},
      "source": [
        "Este campo está armazenado no dataframe como um objeto. Todavia, este campo deve possuir valor real, no caso, float. \n",
        "\n",
        "Para a análise não ser prejudicada por valores nulos, estes foram removidos da tabela."
      ]
    },
    {
      "cell_type": "code",
      "execution_count": 431,
      "metadata": {},
      "outputs": [],
      "source": [
        "fies2019 = fies2019.dropna(subset=\"Renda familiar mensal bruta\")"
      ]
    },
    {
      "cell_type": "markdown",
      "metadata": {},
      "source": [
        "Ao observar os valores por meio do value_counts, pode-se perceber que estes foram considerados como string pois foram armazenados com vírgulas, quando, na verdade, para serem reconhecidos como numéricos, deveriam ser armazenados com pontos."
      ]
    },
    {
      "cell_type": "code",
      "execution_count": 432,
      "metadata": {},
      "outputs": [
        {
          "data": {
            "text/plain": [
              "499        9933\n",
              "500        6932\n",
              "332,67     6085\n",
              "1000       4972\n",
              "249,5      3770\n",
              "           ... \n",
              "1643,23       1\n",
              "518,07        1\n",
              "1046,33       1\n",
              "1926,03       1\n",
              "1643,04       1\n",
              "Name: Renda mensal bruta per capita, Length: 33845, dtype: int64"
            ]
          },
          "execution_count": 432,
          "metadata": {},
          "output_type": "execute_result"
        }
      ],
      "source": [
        "fies2019['Renda mensal bruta per capita'].value_counts()"
      ]
    },
    {
      "cell_type": "markdown",
      "metadata": {},
      "source": [
        "Sendo assim, foi necessária a substituição das vírgulas por pontos para a coluna em questão do dataset"
      ]
    },
    {
      "cell_type": "code",
      "execution_count": 433,
      "metadata": {},
      "outputs": [],
      "source": [
        "fies2019['Renda mensal bruta per capita'] = fies2019['Renda mensal bruta per capita'].str.replace(',','.')"
      ]
    },
    {
      "cell_type": "markdown",
      "metadata": {},
      "source": [
        "Uma vez que as vírgulas foram removidas, é possível atualizar a coluna em questão para esta receber um valor numérico"
      ]
    },
    {
      "cell_type": "code",
      "execution_count": 434,
      "metadata": {},
      "outputs": [],
      "source": [
        "fies2019['Renda mensal bruta per capita'] = pd.to_numeric(fies2019['Renda mensal bruta per capita'])"
      ]
    },
    {
      "cell_type": "code",
      "execution_count": 435,
      "metadata": {},
      "outputs": [
        {
          "data": {
            "text/plain": [
              "0         2066.67\n",
              "1          652.49\n",
              "2          533.33\n",
              "3         1350.00\n",
              "4          500.00\n",
              "           ...   \n",
              "271851     333.33\n",
              "271852     993.33\n",
              "271853     993.33\n",
              "271854     606.69\n",
              "271855     665.33\n",
              "Name: Renda mensal bruta per capita, Length: 232441, dtype: float64"
            ]
          },
          "execution_count": 435,
          "metadata": {},
          "output_type": "execute_result"
        }
      ],
      "source": [
        "fies2019['Renda mensal bruta per capita']"
      ]
    },
    {
      "cell_type": "code",
      "execution_count": 436,
      "metadata": {},
      "outputs": [
        {
          "data": {
            "text/plain": [
              "499.00     9933\n",
              "500.00     6932\n",
              "332.67     6085\n",
              "1000.00    4972\n",
              "249.50     3770\n",
              "           ... \n",
              "1643.23       1\n",
              "518.07        1\n",
              "1046.33       1\n",
              "1926.03       1\n",
              "1643.04       1\n",
              "Name: Renda mensal bruta per capita, Length: 33845, dtype: int64"
            ]
          },
          "execution_count": 436,
          "metadata": {},
          "output_type": "execute_result"
        }
      ],
      "source": [
        "fies2019['Renda mensal bruta per capita'].value_counts()"
      ]
    },
    {
      "cell_type": "markdown",
      "metadata": {},
      "source": [
        "Ao observar a organização do dataframe por meio do comando \"info\", pode-se perceber que este campo agora é reconhecido como float"
      ]
    },
    {
      "cell_type": "code",
      "execution_count": 437,
      "metadata": {},
      "outputs": [
        {
          "name": "stdout",
          "output_type": "stream",
          "text": [
            "<class 'pandas.core.frame.DataFrame'>\n",
            "Int64Index: 232441 entries, 0 to 271855\n",
            "Data columns (total 31 columns):\n",
            " #   Column                          Non-Null Count   Dtype         \n",
            "---  ------                          --------------   -----         \n",
            " 0   ID do estudante                 232441 non-null  int64         \n",
            " 1   Sexo                            232441 non-null  object        \n",
            " 2   Data de Nascimento              232441 non-null  datetime64[ns]\n",
            " 3   UF de residência                232432 non-null  object        \n",
            " 4   Etnia/Cor                       232441 non-null  object        \n",
            " 5   Pessoa com deficiência?         232441 non-null  object        \n",
            " 6   Ano conclusão ensino médio      232441 non-null  int64         \n",
            " 7   Concluiu curso superior?        232441 non-null  object        \n",
            " 8   Nº de membros Grupo Familiar    232441 non-null  int64         \n",
            " 9   Renda familiar mensal bruta     232441 non-null  float64       \n",
            " 10  Renda mensal bruta per capita   232441 non-null  float64       \n",
            " 11  UF                              232441 non-null  object        \n",
            " 12  Área do conhecimento            232441 non-null  object        \n",
            " 13  Subárea do conhecimento         232441 non-null  object        \n",
            " 14  Opções de cursos da inscrição   232441 non-null  int64         \n",
            " 15  Nome mantenedora                232441 non-null  object        \n",
            " 16  Natureza Jurídica Mantenedora   232441 non-null  object        \n",
            " 17  Nome da IES                     232441 non-null  object        \n",
            " 18  Organização Acadêmica da IES    232441 non-null  object        \n",
            " 19  UF do Local de Oferta           232441 non-null  object        \n",
            " 20  Nome do curso                   232441 non-null  object        \n",
            " 21  Turno                           232441 non-null  object        \n",
            " 22  Média nota Enem                 232441 non-null  object        \n",
            " 23  Ano do Enem                     232441 non-null  int64         \n",
            " 24  Redação                         232441 non-null  int64         \n",
            " 25  Matemática e suas Tecnologias   232441 non-null  object        \n",
            " 26  Linguagens, Códigos e suas Tec  232441 non-null  object        \n",
            " 27  Ciências Natureza e suas Tec    232441 non-null  object        \n",
            " 28  Ciências Humanas e suas Tec     232441 non-null  object        \n",
            " 29  Situação Inscrição Fies         232441 non-null  object        \n",
            " 30  Semestre do financiamento       207784 non-null  object        \n",
            "dtypes: datetime64[ns](1), float64(2), int64(6), object(22)\n",
            "memory usage: 56.7+ MB\n"
          ]
        }
      ],
      "source": [
        "fies2019.info()"
      ]
    },
    {
      "cell_type": "markdown",
      "metadata": {},
      "source": [
        "### Analisando UF "
      ]
    },
    {
      "cell_type": "code",
      "execution_count": 438,
      "metadata": {},
      "outputs": [
        {
          "data": {
            "text/plain": [
              "array(['PARANÁ', 'PERNAMBUCO', 'RIO GRANDE DO SUL', 'MINAS GERAIS',\n",
              "       'SÃO PAULO', 'RIO DE JANEIRO', 'BAHIA', 'MATO GROSSO DO SUL',\n",
              "       'ESPÍRITO SANTO', 'SANTA CATARINA', 'GOIÁS', 'PARAÍBA', 'SERGIPE',\n",
              "       'ALAGOAS', 'DISTRITO FEDERAL', 'TOCANTINS', 'CEARÁ', 'AMAZONAS',\n",
              "       'RIO GRANDE DO NORTE', 'RONDÔNIA', 'PIAUÍ', 'PARÁ', 'MARANHÃO',\n",
              "       'AMAPÁ', 'MATO GROSSO', 'RORAIMA', 'ACRE'], dtype=object)"
            ]
          },
          "execution_count": 438,
          "metadata": {},
          "output_type": "execute_result"
        }
      ],
      "source": [
        "fies2019['UF'].unique()"
      ]
    },
    {
      "cell_type": "code",
      "execution_count": 439,
      "metadata": {},
      "outputs": [
        {
          "data": {
            "text/plain": [
              "SÃO PAULO              32897\n",
              "MINAS GERAIS           28753\n",
              "BAHIA                  18581\n",
              "CEARÁ                  17465\n",
              "RIO DE JANEIRO         16380\n",
              "PERNAMBUCO             13043\n",
              "PARÁ                   11803\n",
              "PARAÍBA                 9518\n",
              "MARANHÃO                9367\n",
              "DISTRITO FEDERAL        8724\n",
              "PARANÁ                  8637\n",
              "GOIÁS                   7121\n",
              "RIO GRANDE DO SUL       7017\n",
              "AMAZONAS                6737\n",
              "PIAUÍ                   6718\n",
              "ALAGOAS                 3866\n",
              "RIO GRANDE DO NORTE     3801\n",
              "SERGIPE                 3109\n",
              "RONDÔNIA                3078\n",
              "ESPÍRITO SANTO          2904\n",
              "MATO GROSSO             2773\n",
              "TOCANTINS               2704\n",
              "SANTA CATARINA          2204\n",
              "AMAPÁ                   1946\n",
              "MATO GROSSO DO SUL      1666\n",
              "ACRE                    1255\n",
              "RORAIMA                  374\n",
              "Name: UF, dtype: int64"
            ]
          },
          "execution_count": 439,
          "metadata": {},
          "output_type": "execute_result"
        }
      ],
      "source": [
        "fies2019['UF'].value_counts()"
      ]
    },
    {
      "cell_type": "markdown",
      "metadata": {},
      "source": [
        "### Analisando Área do conhecimento "
      ]
    },
    {
      "cell_type": "code",
      "execution_count": 440,
      "metadata": {},
      "outputs": [
        {
          "data": {
            "text/plain": [
              "array(['CURSOS NAO PRIORITARIOS',\n",
              "       'CURSOS DA ÁREA DE ENGENHARIA E CIÊNCIA DA COMPUTAÇÃO',\n",
              "       'CURSOS DA AREA DE SAUDE',\n",
              "       'CURSOS DA ÁREA DE LICENCIATURA, PEDAGOGIA E NORMAL SUPERIOR'],\n",
              "      dtype=object)"
            ]
          },
          "execution_count": 440,
          "metadata": {},
          "output_type": "execute_result"
        }
      ],
      "source": [
        "fies2019['Área do conhecimento'].unique()"
      ]
    },
    {
      "cell_type": "code",
      "execution_count": 441,
      "metadata": {},
      "outputs": [
        {
          "data": {
            "text/plain": [
              "SÃO PAULO              32897\n",
              "MINAS GERAIS           28753\n",
              "BAHIA                  18581\n",
              "CEARÁ                  17465\n",
              "RIO DE JANEIRO         16380\n",
              "PERNAMBUCO             13043\n",
              "PARÁ                   11803\n",
              "PARAÍBA                 9518\n",
              "MARANHÃO                9367\n",
              "DISTRITO FEDERAL        8724\n",
              "PARANÁ                  8637\n",
              "GOIÁS                   7121\n",
              "RIO GRANDE DO SUL       7017\n",
              "AMAZONAS                6737\n",
              "PIAUÍ                   6718\n",
              "ALAGOAS                 3866\n",
              "RIO GRANDE DO NORTE     3801\n",
              "SERGIPE                 3109\n",
              "RONDÔNIA                3078\n",
              "ESPÍRITO SANTO          2904\n",
              "MATO GROSSO             2773\n",
              "TOCANTINS               2704\n",
              "SANTA CATARINA          2204\n",
              "AMAPÁ                   1946\n",
              "MATO GROSSO DO SUL      1666\n",
              "ACRE                    1255\n",
              "RORAIMA                  374\n",
              "Name: UF, dtype: int64"
            ]
          },
          "execution_count": 441,
          "metadata": {},
          "output_type": "execute_result"
        }
      ],
      "source": [
        "fies2019['UF'].value_counts()"
      ]
    },
    {
      "cell_type": "markdown",
      "metadata": {},
      "source": [
        "### Analisando Subárea do conhecimento"
      ]
    },
    {
      "cell_type": "code",
      "execution_count": 442,
      "metadata": {},
      "outputs": [
        {
          "data": {
            "text/plain": [
              "array(['DIREITO, COMÉRCIO EXTERIOR, BIBLIOTECONOMIA E CURSOS RELACIONADOS',\n",
              "       'ENGENHARIA CIVIL E AMBIENTAL, ARQUITETURA E CURSOS RELACIONADOS',\n",
              "       'CIÊNCIAS SOCIAIS, POLÍTICAS, ECONÔMICAS E CONTÁBEIS, PSICOLOGIA E SECRETARIADO',\n",
              "       'MEDICINA',\n",
              "       'ODONTOLOGIA, QUIROPRAXIA, FÍSICA MÉDICA E NATUROLOGIA',\n",
              "       'ENGENHARIA ELÉTRICA, ELETRÔNICA, DA COMPUTAÇÃO E CURSOS RELACIONADOS',\n",
              "       'ENGENHARIA MECÂNICA, AERONÁUTICA, NAVAL E CURSOS RELACIONADOS',\n",
              "       'ENGENHARIA QUÍMICA, DE ALIMENTOS, DE PETRÓLEO E CURSOS RELACIONADOS',\n",
              "       'ADMINISTRAÇÃO, ADMINISTRAÇÃO PÚBLICA, GESTÃO, LOGÍSTICA, NEGÓCIOS E CURSOS RELACIONADOS',\n",
              "       'COMUNICAÇÃO SOCIAL, JORNALISMO, PUBLICIDADE, MARKETING E CURSOS RELACIONADOS',\n",
              "       'HISTÓRIA (LIC), GEOGRAFIA (LIC), EDUCAÇÃO FÍSICA (LIC) E CURSOS RELACIONADOS',\n",
              "       'ENGENHARIA DE PRODUÇÃO, DE MATERIAIS E CURSOS RELACIONADOS',\n",
              "       'MEDICINA VETERINÁRIA',\n",
              "       'COMUNICAÇÃO, DESIGN, AUDIO VISUAL E CURSOS RELACIONADOS',\n",
              "       'CIÊNCIA DA COMPUTAÇÃO E SISTEMAS DE INFORMAÇÃO E CURSOS RELACIONADOS',\n",
              "       'SERVIÇO SOCIAL, FONOAUDIOLOGIA, TERAPIA OCUPACIONAL E CURSOS RELACIONADOS',\n",
              "       'HOTELARIA E TURISMO, GASTRONOMIA E CURSOS RELACIONADOS',\n",
              "       'ARTES, CIÊNCIAS SOCIAIS E CURSOS RELACIONADOS',\n",
              "       'ENFERMAGEM, FISIOTERAPIA, FARMÁCIA, NUTRIÇÃO E CURSOS RELACIONADOS',\n",
              "       'AGRONOMIA, ZOOTECNIA, ENGENHARIA FLORESTAL E CURSOS RELACIONADOS',\n",
              "       'PEDAGOGIA',\n",
              "       'DANÇA, TEOLOGIA, MÍDIAS SOCIAIS, DESIGN DE INTERIORES E CURSOS RELACIONADOS',\n",
              "       'CIÊNCIAS BIOLÓGICAS (BEL), BIOMEDICINA, BIOTECNOLOGIA E CURSOS RELACIONADOS',\n",
              "       'ESTÉTICA E COSMÉTICA, GESTÃO DO ESPORTE E CURSOS RELACIONADOS',\n",
              "       'LETRAS - IDIOMAS, FÍSICA (LIC), QUÍMICA (LIC) E CURSOS RELACIONADOS',\n",
              "       'MÚSICA, FOTOGRAFIA, PRODUÇÃO MULTIMÍDIA E CURSOS RELACIONADOS',\n",
              "       'AGRONEGÓCIO, AGROINDÚSTRIA E CURSOS RELACIONADOS',\n",
              "       'MODA, DESENHO INDUSTRIAL, MUSEOLOGIA, CINEMA E CURSOS RELACIONADOS',\n",
              "       'CIÊNCIAS AERONÁUTICAS E CURSOS RELACIONADOS',\n",
              "       'ENGENHARIA DE SEGURANÇA DO TRABALHO, GESTÃO EM SAÚDE E CURSOS RELACIONADOS',\n",
              "       'TRADUÇÃO E INTERPRETAÇÃO, ARQUEOLOGIA, RÁDIO, TV E INTERNET E CURSOS RELACIONADOS',\n",
              "       'BIOLOGIA (LIC), MATEMÁTICA (LIC), LETRAS-PORTUGUÊS E CURSOS RELACIONADOS',\n",
              "       'FÍSICA (BEL), QUÍMICA (BEL), MATEMÁTICA (BEL), GEOGRAFIA (BEL) E CURSOS RELACIONADOS'],\n",
              "      dtype=object)"
            ]
          },
          "execution_count": 442,
          "metadata": {},
          "output_type": "execute_result"
        }
      ],
      "source": [
        "fies2019['Subárea do conhecimento'].unique()"
      ]
    },
    {
      "cell_type": "code",
      "execution_count": 443,
      "metadata": {},
      "outputs": [
        {
          "data": {
            "text/plain": [
              "ENFERMAGEM, FISIOTERAPIA, FARMÁCIA, NUTRIÇÃO E CURSOS RELACIONADOS                         51253\n",
              "DIREITO, COMÉRCIO EXTERIOR, BIBLIOTECONOMIA E CURSOS RELACIONADOS                          39268\n",
              "MEDICINA                                                                                   29050\n",
              "CIÊNCIAS SOCIAIS, POLÍTICAS, ECONÔMICAS E CONTÁBEIS, PSICOLOGIA E SECRETARIADO             21038\n",
              "ADMINISTRAÇÃO, ADMINISTRAÇÃO PÚBLICA, GESTÃO, LOGÍSTICA, NEGÓCIOS E CURSOS RELACIONADOS    14227\n",
              "ODONTOLOGIA, QUIROPRAXIA, FÍSICA MÉDICA E NATUROLOGIA                                      14162\n",
              "ENGENHARIA CIVIL E AMBIENTAL, ARQUITETURA E CURSOS RELACIONADOS                            12298\n",
              "MEDICINA VETERINÁRIA                                                                        7102\n",
              "HISTÓRIA (LIC), GEOGRAFIA (LIC), EDUCAÇÃO FÍSICA (LIC) E CURSOS RELACIONADOS                5760\n",
              "CIÊNCIAS BIOLÓGICAS (BEL), BIOMEDICINA, BIOTECNOLOGIA E CURSOS RELACIONADOS                 5384\n",
              "CIÊNCIA DA COMPUTAÇÃO E SISTEMAS DE INFORMAÇÃO E CURSOS RELACIONADOS                        5082\n",
              "PEDAGOGIA                                                                                   3690\n",
              "ENGENHARIA ELÉTRICA, ELETRÔNICA, DA COMPUTAÇÃO E CURSOS RELACIONADOS                        3668\n",
              "COMUNICAÇÃO SOCIAL, JORNALISMO, PUBLICIDADE, MARKETING E CURSOS RELACIONADOS                3605\n",
              "SERVIÇO SOCIAL, FONOAUDIOLOGIA, TERAPIA OCUPACIONAL E CURSOS RELACIONADOS                   3335\n",
              "ENGENHARIA DE PRODUÇÃO, DE MATERIAIS E CURSOS RELACIONADOS                                  2908\n",
              "ENGENHARIA MECÂNICA, AERONÁUTICA, NAVAL E CURSOS RELACIONADOS                               2402\n",
              "ESTÉTICA E COSMÉTICA, GESTÃO DO ESPORTE E CURSOS RELACIONADOS                               1709\n",
              "HOTELARIA E TURISMO, GASTRONOMIA E CURSOS RELACIONADOS                                      1412\n",
              "AGRONOMIA, ZOOTECNIA, ENGENHARIA FLORESTAL E CURSOS RELACIONADOS                            1247\n",
              "COMUNICAÇÃO, DESIGN, AUDIO VISUAL E CURSOS RELACIONADOS                                      981\n",
              "LETRAS - IDIOMAS, FÍSICA (LIC), QUÍMICA (LIC) E CURSOS RELACIONADOS                          597\n",
              "DANÇA, TEOLOGIA, MÍDIAS SOCIAIS, DESIGN DE INTERIORES E CURSOS RELACIONADOS                  545\n",
              "ENGENHARIA QUÍMICA, DE ALIMENTOS, DE PETRÓLEO E CURSOS RELACIONADOS                          479\n",
              "MODA, DESENHO INDUSTRIAL, MUSEOLOGIA, CINEMA E CURSOS RELACIONADOS                           287\n",
              "ARTES, CIÊNCIAS SOCIAIS E CURSOS RELACIONADOS                                                279\n",
              "CIÊNCIAS AERONÁUTICAS E CURSOS RELACIONADOS                                                  192\n",
              "BIOLOGIA (LIC), MATEMÁTICA (LIC), LETRAS-PORTUGUÊS E CURSOS RELACIONADOS                     137\n",
              "MÚSICA, FOTOGRAFIA, PRODUÇÃO MULTIMÍDIA E CURSOS RELACIONADOS                                127\n",
              "ENGENHARIA DE SEGURANÇA DO TRABALHO, GESTÃO EM SAÚDE E CURSOS RELACIONADOS                   118\n",
              "FÍSICA (BEL), QUÍMICA (BEL), MATEMÁTICA (BEL), GEOGRAFIA (BEL) E CURSOS RELACIONADOS          64\n",
              "AGRONEGÓCIO, AGROINDÚSTRIA E CURSOS RELACIONADOS                                              22\n",
              "TRADUÇÃO E INTERPRETAÇÃO, ARQUEOLOGIA, RÁDIO, TV E INTERNET E CURSOS RELACIONADOS             13\n",
              "Name: Subárea do conhecimento, dtype: int64"
            ]
          },
          "execution_count": 443,
          "metadata": {},
          "output_type": "execute_result"
        }
      ],
      "source": [
        "fies2019['Subárea do conhecimento'].value_counts()"
      ]
    },
    {
      "cell_type": "markdown",
      "metadata": {},
      "source": [
        "### Analisando Nome mantenedora"
      ]
    },
    {
      "cell_type": "code",
      "execution_count": 444,
      "metadata": {},
      "outputs": [
        {
          "data": {
            "text/plain": [
              "array(['ASSOCIACAO PARANAENSE DE CULTURA - APC',\n",
              "       'CENTRO DE EDUCACAO TECNICA E CULTURAL',\n",
              "       'FUNDACAO UNIVERSIDADE DE CAXIAS DO SUL',\n",
              "       'FUNDACAO COMUNITARIA TRICORDIANA DE EDUCACAO',\n",
              "       'FUNDACAO DE ENSINO E TECNOLOGIA DE ALFENAS',\n",
              "       'FUNDACAO DE ENSINO E PESQUISA DE ITAJUBA',\n",
              "       'FUNDACAO EDUCACIONAL DE BARRETOS',\n",
              "       'AUTARQUIA DE ENSINO SUPERIOR DE ARCOVERDE',\n",
              "       'FUNDACAO EDUCACIONAL DA REGIAO DOS LAGOS',\n",
              "       'FUNDACAO EDUCACIONAL LUIZ REID',\n",
              "       'FUNDACAO EDUCACIONAL E CULTURAL SAO JOSE',\n",
              "       'FUNDACAO MUNICIPAL DE ENSINO SUPERIOR DE CONS LAFAIETE',\n",
              "       'FUNDACAO CULTURAL DE ARAXA',\n",
              "       'SOCIEDADE CULTURAL DE ANDRADINA LTDA - SOCAN',\n",
              "       'SOCIEDADE DE ENSINO SUPERIOR TOLEDO LTDA.',\n",
              "       'ASSOCIACAO EDUCACIONAL DE ARARAS',\n",
              "       'FUNDACAO INSTITUTO NACIONAL DE TELECOMUNICACOES',\n",
              "       'INSTITUICAO EDUCACIONAL ATIBAIENSE LIMITADA',\n",
              "       'ORGANIZACAO EDUCACIONAL BARAO DE MAUA',\n",
              "       'ASSOCIACAO INSTRUTORA MISSIONARIA', 'FUNDACAO DOM AGUIRRE',\n",
              "       'FUNDACAO VISCONDE DE CAIRU',\n",
              "       'FUNDACAO MINEIRA DE EDUCACAO E CULTURA',\n",
              "       'SOCIEDADE CIVIL CONSERVATORIO BRASILEIRO DE MUSICA',\n",
              "       'CONGREGACAO DE SANTA DOROTEIA DO BRASIL',\n",
              "       'SOCIEDADE DE ENSINO SUPERIOR ESTACIO DE SA LTDA',\n",
              "       'SOCIEDADE DE EDUCACAO NOSSA SENHORA DO PATROCINIO S/S LTDA',\n",
              "       'ANTARES EDUCACIONAL S.A.', 'FUNDACAO EDUCANDARIO SANTARRITENSE',\n",
              "       'INSTITUTO METODISTA DE ENSINO SUPERIOR',\n",
              "       'CENTRO EDUCACIONAL DE REALENGO',\n",
              "       'ASSOCIACAO CARUARUENSE DE ENSINO SUPERIOR - ASCES',\n",
              "       'AMC - SERVICOS EDUCACIONAIS LTDA',\n",
              "       'INSTITUICAO EDUCACIONAL PROFESSOR PASQUALE CASCINO',\n",
              "       'ASSOCIACAO DE ENSINO DE RIBEIRAO PRETO', 'FUNDACAO SANTO ANDRE',\n",
              "       'FUNDACAO EDUCACIONAL UNIFICADA CAMPOGRANDENSE',\n",
              "       'FUNDACAO ESCOLA DE COMERCIO ALVARES PENTEADO - FECAP',\n",
              "       'INSTITUTO EDUCACIONAL CANDIDA DE SOUZA',\n",
              "       'INSTITUTO METODISTA IZABELA HENDRIX',\n",
              "       'ASSOCIACAO DE ENSINO SUPERIOR SAO JUDAS TADEU',\n",
              "       'CRUZEIRO DO SUL EDUCACIONAL S.A.',\n",
              "       'FUNDACAO EDUCACIONAL DE VOTUPORANGA',\n",
              "       'INSTITUTO EDUCACIONAL OSWALDO QUIRINO LTDA',\n",
              "       'FUNDACAO DE ENSINO OCTAVIO BASTOS',\n",
              "       'INSTITUTO EDUCACIONAL PIRACICABANO DA IGREJA METODISTA',\n",
              "       'ASSOCIACAO PRUDENTINA DE EDUCACAO E CULTURA APEC',\n",
              "       'FUNDACAO VALEPARAIBANA DE ENSINO',\n",
              "       'SOCIEDADE UNIFICADA DE ENSINO AUGUSTO MOTTA',\n",
              "       'ORGANIZACAO BRASILEIRA DE CULTURA E EDUCACAO ORBRACE',\n",
              "       'SOCIEDADE EDUCACIONAL TRES DE MAIO',\n",
              "       'ASSOCIACAO PRO ENSINO EM SANTA CRUZ DO SUL',\n",
              "       'FUNDACAO ATTILA TABORDA',\n",
              "       'INSTITUICAO EDUCACIONAL SAO JUDAS TADEU',\n",
              "       'INSTITUTO ENSINAR BRASIL',\n",
              "       'FUNDACAO JOSE BONIFACIO LAFAYETTE DE ANDRADA',\n",
              "       'FUNDACAO PRESIDENTE ANTONIO CARLOS',\n",
              "       'ASSOCIACAO EDUCACIONAL NOVE DE JULHO',\n",
              "       'INSTITUTO VIANNA JUNIOR LTDA', 'ASSOCIACAO PROPAGADORA ESDEVA',\n",
              "       'FUNDACAO EDUCACIONAL MINAS GERAIS',\n",
              "       'ASSOCIACAO LIMEIRENSE DE EDUCACAO ALIE', 'IPE EDUCACIONAL LTDA',\n",
              "       'SET SOCIEDADE CIVIL EDUCACIONAL TUIUTI LIMITADA',\n",
              "       'FUNDACAO COMUNITARIA EDUCACIONAL E CULTURAL PATROCINIO',\n",
              "       'FUNDACAO ESCOLA DE SOCIOLOGIA E POLITICA DE SAO PAULO',\n",
              "       'FACULDADES METROPOLITANAS UNIDAS EDUCACIONAIS LTDA.',\n",
              "       'ASSOCIACAO EDUCATIVA EVANGELICA',\n",
              "       'FACS SERVICOS EDUCACIONAIS LTDA',\n",
              "       'MISSAO SALESIANA DE MATO GROSSO',\n",
              "       'FUNDACAO EDUCACIONAL DR RAUL BAUAB-JAHU',\n",
              "       'ABEP - ACADEMIA BAIANA DE ENSINO PESQUISA E EXTENSAO LTDA',\n",
              "       'SOCIEDADE DE EDUCACAO TIRADENTES LTDA',\n",
              "       'AESO-ENSINO SUPERIOR DE OLINDA LTDA',\n",
              "       'CENTRO DE ENSINO UNIFICADO DE BRASILIA CEUB',\n",
              "       'UNIAO BRASILEIRA DE EDUCACAO CATOLICA',\n",
              "       'UNIAO PIONEIRA DE INTEGRACAO SOCIAL',\n",
              "       'ASSOCIACAO OLINDENSE DOM VITAL DE ENSINO SUPERIOR',\n",
              "       'SECID - SOCIEDADE EDUCACIONAL CIDADE DE SAO PAULO LTDA',\n",
              "       'FUNDACAO REGIONAL INTEGRADA',\n",
              "       'FUNDACAO EDUCACIONAL MACHADO DE ASSIS',\n",
              "       'INSTITUTO PORTO ALEGRE DA IGREJA METODISTA',\n",
              "       'FUNDACAO EDUCACIONAL DE ITUVERAVA',\n",
              "       'OSAC - ORGANIZACAO SOROCABANA DE ASSISTENCIA E CULTURA LTDA.',\n",
              "       'FUNDACAO UNIVERSIDADE DE CRUZ ALTA',\n",
              "       'SOCIEDADE DE EDUCACAO RITTER DOS REIS LTDA.',\n",
              "       'INSTITUTO SANTANENSE DE ENSINO SUPERIOR',\n",
              "       'ASSOCIACAO PRINCESA ISABEL DE EDUCACAO E CULTURA',\n",
              "       'FUNDACAO ARMANDO ALVARES PENTEADO',\n",
              "       'ISCP - SOCIEDADE EDUCACIONAL LTDA.',\n",
              "       'ASSOCIACAO BRASILEIRA DE ENSINO UNIVERSITARIO ABEU',\n",
              "       'ADMINISTRADORA EDUCACIONAL NOVO ATENEU S/S LTDA',\n",
              "       'COMPANHIA NILZA CORDEIRO HERDY DE EDUCACAO E CULTURA',\n",
              "       'ASSOCIACAO EDUCACIONAL DOM BOSCO', 'FUNDACAO OCTACILIO GUALBERTO',\n",
              "       'SOCIEDADE GUARULHENSE DE EDUCACAO', 'FUNDACAO OSWALDO ARANHA',\n",
              "       'FUNDACAO UNIVERSIDADE DO SUL DE SANTA CATARINA-UNISUL',\n",
              "       'FUNDACAO MUNICIPAL DE ENSINO SUPERIOR BRAGANCA PAULISTA',\n",
              "       'ACEF S/A.', 'INSTITUTO DE EDUCACAO E CULTURA UNIMONTE S/A',\n",
              "       'CENTRO REGIONAL DE CULTURA', 'FUNDACAO PERCIVAL FARQUHAR',\n",
              "       'ASSOCIACAO JABOTICABALENSE DE EDUCACAO E CULTURA',\n",
              "       'CENTRO DE ENSINO UNIFICADO DO DISTRITO FEDERAL LTDA',\n",
              "       'ASSOCIACAO UNIVERSITARIA E CULTURAL DA BAHIA',\n",
              "       'ORGANIZACAO MOGIANA DE EDUCACAO E CULTURA SOCIEDADE SIMPLES LIMITADA',\n",
              "       'INSTITUTO SUPERIOR DE ENSINO CELSO LISBOA',\n",
              "       'SOCIEDADE EDUCACIONAL BRAZ CUBAS LTDA.',\n",
              "       'SOCIEDADE GOIANA DE CULTURA',\n",
              "       'ASSOCIACAO DO ENSINO SUPERIOR DA VITORIA DE STO ANTAO',\n",
              "       'FUNDACAO KARNIG BAZARIAN',\n",
              "       'FUNDACAO CENTRO UNIVERSITARIO DE MANDAGUARI - UNIMAN',\n",
              "       'FUNDACAO SAO PAULO', 'FUNDACAO EDUCACIONAL DE CARATINGA FUNEC',\n",
              "       'FUNDACAO EDSON QUEIROZ',\n",
              "       'FUNDACAO EDUCACIONAL VALE DO ITAPEMIRIM - FEVIT.',\n",
              "       'FUNDACAO EDUCACIONAL JAYME DE ALTAVILA-FEJAL',\n",
              "       'CAMPANHA NACIONAL DE ESCOLAS DA COMUNIDADE',\n",
              "       'FUNDACAO EDUCACIONAL COMUNITARIA DE S S PARAISO MG',\n",
              "       'ASSOCIACAO ESCOLA SUPERIOR DE PROPAGANDA E MARKETING',\n",
              "       'CENTRO EDUCACIONAL DE FORMACAO SUPERIOR LTDA - CEFOS',\n",
              "       'FUND EDUC PARA O DESENVOLVIMENTO DAS CIENCIAS AGRARIAS',\n",
              "       'AUTARQUIA EDUCACIONAL DE SERRA TALHADA AESET',\n",
              "       'ASSOCIACAO DE ENSINO E CULTURA PIO DECIMO LTDA',\n",
              "       'ASSOCIACAO SALGADO DE OLIVEIRA DE EDUCACAO E CULTURA',\n",
              "       'SOC EDUC DO ESP SANTO UNIDADE DE V VELHA ENSINO SUPERIO',\n",
              "       'UNIVERSIDADE DE TAUBATE',\n",
              "       'ASSOCIACAO JACAREPAGUA DE ENSINO SUPERIOR',\n",
              "       'SOCIEDADE AMAZONENSE DE EDUCACAO E CULTURA LTDA - SAMEC.',\n",
              "       'CENTRO DE ENSINO SUPERIOR NILTON LINS',\n",
              "       'ASSOCIACAO CULTURAL DE RENOVACAO TECNOLOGICA SOROCABANA',\n",
              "       'UNIGRAN EDUCACIONAL',\n",
              "       'AUTARQUIA BELEMITA DE CULTURA DESPORTOS E EDUCACAO',\n",
              "       'UNIAO EDUCACIONAL DO PLANALTO CENTRAL S.A',\n",
              "       'FUNDACAO EDUCACIONAL ENCOSTA INFERIOR DO NORDESTE',\n",
              "       'AUTARQUIA DO ENSINO SUPERIOR DE GARANHUNS AESGA',\n",
              "       'AUTARQUIA MUNICIPAL DO ENSINO SUPERIOR DE GOIANA',\n",
              "       'INSTITUTO BRASILEIRO DE MEDICINA DE REABILITACAO LTDA',\n",
              "       'APEC - SOCIEDADE POTIGUAR DE EDUCACAO E CULTURA LTDA',\n",
              "       'CENTRO INTEGRADO PARA FORMACAO DE EXECUTIVOS',\n",
              "       'OBRAS SOCIAIS E EDUCACIONAIS DE LUZ',\n",
              "       'FUNDACAO EDUCACIONAL DE FERNANDOPOLIS',\n",
              "       'ASSOCIACAO DE ENSINO VERSALHES',\n",
              "       'APEC ASSOCIACAO PIAUIENSE DE EDUCACAO E CULTURA',\n",
              "       'FUNDACAO UNIRG', 'AUTARQUIA EDUCACIONAL DE SALGUEIRO',\n",
              "       'ASSOCIACAO CATALANA DE EDUCACAO', 'ASSOBES ENSINO SUPERIOR LTDA.',\n",
              "       'SOCIEDADE EMPRESARIA DE ENSINO SUPERIOR DO LITORAL NORTE LTDA',\n",
              "       'ASSOCIACAO EDUCACIONAL DE RONDONIA',\n",
              "       'CETEC EDUCACIONAL JACAREI LTDA',\n",
              "       'SOCIEDADE BENEF ISRAELITABRAS HOSPITAL ALBERT EINSTEIN',\n",
              "       'SERVICO NACIONAL DE APRENDIZAGEM COMERCIAL SENAC',\n",
              "       'IREP SOCIEDADE DE ENSINO SUPERIOR, MEDIO E FUNDAMENTAL LTDA.',\n",
              "       'INSTITUICAO EDUCACIONAL MATOGROSSENSE-IEMAT',\n",
              "       'ASSOCIACAO EDUCACIONAL DO VALE DO SAO LOURENCO S/S LTDA - EPP',\n",
              "       'ASSOCIACAO CARIOCA DE ENSINO SUPERIOR',\n",
              "       'ASSOCIACAO EDUCACIONAL DE ENSINO SUPERIOR',\n",
              "       'SOCIEDADE EDUCACIONAL BREDER LOPES',\n",
              "       'UNIMEO-UNIAO EDUCACIONAL DO MEDIO OESTE PARANAENSE LTDA - EPP',\n",
              "       'CESUMAR - CENTRO DE ENSINO SUPERIOR DE MARINGA LTDA',\n",
              "       'FUNDACAO DE ENSINO SUPERIOR DE GOIATUBA',\n",
              "       'MITRA ARQUIDIOCESANA DE DIAMANTINA',\n",
              "       'AVIES ENSINO SUPERIOR DE VITORIA S/S LTDA',\n",
              "       'SOCIEDADE CULTURAL E EDUCACIONAL DE GARCA S/S LTDA',\n",
              "       'AESPI ENSINO SUPERIOR DO PIAUI LTDA.',\n",
              "       'ASPER ENSINO SUPERIOR DA PARAIBA S/S LTDA.',\n",
              "       'ACESC ENSINO SUPERIOR DE CAMPINAS LTDA.',\n",
              "       'UNIAO PARANAENSE DE ENSINO E CULTURA -UNIPEC',\n",
              "       'ASSOCIACAO AMAPAENSE DE ENSINO E CULTURA',\n",
              "       'AEI ENSINO SUPERIOR DE IGUACU LTDA.',\n",
              "       'FUNDACAO EDUCACIONAL DO MUNICIPIO DE ASSIS',\n",
              "       'ASSOCIACAO DE ENSINO E CULTURA DE MATO GROSSO DO SUL',\n",
              "       'ASSESC-SOCIEDADE EDUCACIONAL DE SANTA CATARINA LTDA',\n",
              "       'ASSOCIACAO DE EDUCACAO SANTA RITA DE CASSIA',\n",
              "       'AESA ENSINO SUPERIOR DE ALAGOAS S/S LTDA.',\n",
              "       'CENTRO DE ENSINO UNIFICADO DE TERESINA',\n",
              "       'UNIAO EDUCACIONAL DE CASCAVEL - UNIVEL LTDA',\n",
              "       'ASSOCIACAO DE ENSINO SUPERIOR DE SAO ROQUE',\n",
              "       'SOCIEDADE DE DESENVOLVIMENTO CULTURAL DO AMAZONAS S.A. - SODECAM',\n",
              "       'SOCIEDADE DE ENSINO SUPERIOR DE VITORIA LTDA',\n",
              "       'FUNDACAO SAO MIGUEL ARCANJO',\n",
              "       'INSTITUTO SUPERIOR DE EDUCACAO SANTA CECILIA',\n",
              "       'AUTARQUIA EDUCACIONAL DE AFOGADOS DA INGAZEIRA-AEDAI',\n",
              "       'ASSOCIACAO EDUCACIONAL MACHADO DE ASSIS',\n",
              "       'UNISEPE UNIAO DAS INSTITUICOES DE SERVICO, ENSINO E PESQUISA LTDA',\n",
              "       'ASSOCIACAO EDUCATIVA E CULTURAL DE CAMACARI',\n",
              "       'ASSOCIACAO DE ENSINO SUPERIOR SANTA TEREZINHA',\n",
              "       'FUCAPI FUND CENTRO DE ANALISE PESQ E INOV TECNOLOGICA',\n",
              "       'SEUNE - SOC DE ENSINO UNIVERSITARIO DO NORDESTE LTDA',\n",
              "       'INSTITUICAO ADV DE EDUC E ASSIST SOCIAL ESTE BRASILEIRA',\n",
              "       'ABES - SOCIEDADE BAIANA DE ENSINO SUPERIOR LTDA',\n",
              "       'CESB - CENTRO DE EDUCACAO SUPERIOR DE BRASILIA LTDA',\n",
              "       'CENTRO DE CIENCIAS DE JUSSARA LTDA - EPP',\n",
              "       'SOCIEDADE DE ENSINO SUPERIOR DA PARAIBA SOCIEDADE SIMPLES LTDA',\n",
              "       'FUNDACAO DE ENSINO SUPERIOR DE CAJAZEIRAS',\n",
              "       'INSTITUTO METODISTA CENTENARIO',\n",
              "       'SOCIEDADE DE PESQUISA EDUCACAO E CULTURA, DR. APARICIO CARVALHO DE MORAES LTDA',\n",
              "       'SOCIEDADE EDUCACIONAL E CULTURAL SERGIPE DEL REY LTDA',\n",
              "       'SOCIEDADE EDUCACIONAL E CULTURAL DE SABARA',\n",
              "       'INSTITUTO EURO AMERICANO DE EDUCACAO CIENCIA TECNOLOGIA',\n",
              "       'ASSOCIACAO DE PAIS E AMIGOS DOS EXCEPCIONAIS DE S LUIZ',\n",
              "       'INSTITUTO SANTA TERESA',\n",
              "       'FUNDACAO COMUNITARIA DE ENSINO SUPERIOR DE ITABIRA',\n",
              "       'ACAO EDUCACIONAL CLARETIANA',\n",
              "       'ASSOCIACAO TERESINENSE DE ENSINO S/C LTDA',\n",
              "       'GRUPO EDUCACIONAL SUPERIOR CEV LTDA',\n",
              "       'SIEMG SISTEMA INTEGRADO DE ENSINO DE MINAS GERAIS LTDA',\n",
              "       'ASSOCIACAO DE CULTURA E EDUCACAO SANTA TERESA',\n",
              "       'ASSOCIACAO DE ENSINO E PESQUISA GRACCHO CARDOSO S/C LTDA - ME',\n",
              "       'SERVICO SOCIAL EDUCACIONAL BENEFICENTE SESEBE',\n",
              "       'CENTRO TECNOLOGICO CAMBURY LTDA',\n",
              "       'SOCIEDADE EDUCACIONAL DO RIO GRANDE DO SUL',\n",
              "       'ASBEC - SOCIEDADE BAIANA DE EDUCACAO E CULTURA S/A',\n",
              "       'ENTIDADE MANTENEDORA DE ENSINO - SANTA RITA LTDA',\n",
              "       'ANEC - SOCIEDADE NATALENSE DE EDUCACAO E CULTURA LTDA',\n",
              "       'SOCIEDADE EDUCACIONAL LEONARDO DA VINCI S/S LTDA',\n",
              "       'CIESPT ENSINO SUPERIOR DE ITAPETININGA LTDA.',\n",
              "       'INSTITUTO AVANCADO DE ENSINO SUPERIOR DE BARREIRAS - IAESB',\n",
              "       'ASS. DE ENSINO INTEGRADO E ORGANIZADO UNIVERSITARIO',\n",
              "       'INSTITUTO METODISTA GRANBERY',\n",
              "       'OPET ORGANIZACAO PARANAENSE DE ENSINO TECNICO LTDA',\n",
              "       'LIGA DE ENSINO DO RIO GRANDE DO NORTE',\n",
              "       'AESGF ENSINO SUPERIOR DA GRANDE FLORIANOPOLIS LTDA',\n",
              "       'SOCIEDADE DE ENSINO SUPERIOR ESTACIO RIBEIRAO PRETO LTDA',\n",
              "       'INSTITUTO DE ENSINO CAMPO LIMPO PAULISTA LTDA',\n",
              "       'AESJC ENSINO SUPERIOR DE SAO JOSE DOS CAMPOS LTDA.',\n",
              "       'SOCIEDADE CULTURAL E EDUCACIONAL DE ITAPEVA S/S LTDA',\n",
              "       'ASSOCIACAO EDUCACIONAL AMERICANENSE', 'FACULDADE TREVISAN LTDA',\n",
              "       'INSTITUTO DE ENSINO SUPERIOR JUVENCIO TERRA LTDA - ME',\n",
              "       'INSTITUTO TECSOMA LTDA - ITEC',\n",
              "       'CESUAP CENTRO DE ENSINO SUPERIOR DE APUCARANA',\n",
              "       'SOEC SOCIEDADE OLINDENSE DE EDUCACAO E CULTURA',\n",
              "       'SOCIEDADE TECNICA EDUCACIONAL DE MINAS GERAIS LTDA',\n",
              "       'CESED - CENTRO DE ENSINO SUPERIOR E DESENVOLVIMENTO LTDA',\n",
              "       'FUNDACAO ASSIS GURGACZ', 'COLEGIO MATER DEI LTDA',\n",
              "       'UNIAO DE EDUCACAO E CULTURA VALE DO JAGUARIBE LTDA',\n",
              "       'SOCIEDADE EDUCACIONAL DE SANTA CATARINA',\n",
              "       'FUNDACAO EDUCACIONAL DOM ORIONE',\n",
              "       'INSTITUTO DE ENSINO SUPERIOR DA AMAZONIA LTDA',\n",
              "       'INSTITUICAO SINODAL DE ASSISTENCIA EDUCACAO E CULTURA',\n",
              "       'UNIAO DINAMICA DE FACULDADES CATARATAS UDC LTDA',\n",
              "       'SOCIEDADE PIMENTENSE DE EDUCACAO E CULTURA LTDA',\n",
              "       'U.C.L. - ASSOCIACAO DE ENSINO SUPERIOR UNIFICADO DO CENTRO LESTE',\n",
              "       'FUNDACAO DOIS DE JULHO', 'CENTRO DE ENSINO SAO LUCAS LTDA',\n",
              "       'SOCIEDADE EDUCACIONAL IDEAL LTDA',\n",
              "       'SOCIEDADE EDUCACIONAL SANTA RITA S.A.',\n",
              "       'ASSOCIACAO LENCOENSE DE EDUCACAO E CULTURA',\n",
              "       'CESC ENSINO SUPERIOR DE CAMPINAS LTDA.',\n",
              "       'CENTRO DE PESQUISA E ENSINO SUPERIOR DA AMAZ NIA LTDA',\n",
              "       'SOCIEDADE TRINDADENSE DE EDUCACAO E CULTURA LTDA',\n",
              "       'ASSOCIACAO EDUCACIONAL TOLEDO',\n",
              "       'COMPLEXO DE ENSINO SUPERIOR DO BRASIL LTDA.',\n",
              "       'FUNDACAO CARMELITANA MARIO PALMERIO',\n",
              "       'ASSOCIACAO EDUCATIVA E CULTURAL MARIA EMILIA',\n",
              "       'IDEA - INSTITUTO DE DESENVOLVIMENTO EDUCACIONAL AVANCADO LTDA',\n",
              "       'UNIAO DE EDUCACAO E CULTURA-UNECE', 'UNINTER EDUCACIONAL S/A',\n",
              "       'UNIAO DE ENSINO SUPERIOR DO IGUACU LTDA - ME',\n",
              "       'UNIFAMMA - UNIAO DE FACULDADES METROPOLITANAS DE MARINGA LTDA',\n",
              "       'SOCIEDADE PIAUIENSE DE ENSINO SUPERIOR LTDA',\n",
              "       'INSTITUTO VALE DO CRICARE LTDA',\n",
              "       'FADEP - FACULDADE EDUCACIONAL DE PATO BRANCO LTDA',\n",
              "       'ORGANIZACAO PARAENSE EDUCACIONAL E DE EMPREENDIMENTOS LTDA',\n",
              "       'FATEB EDUCACAO INTEGRAL LTDA',\n",
              "       'FUNDACAO ASSISTENCIAL E EDUCATIVA CRISTA DE ARIQUEMES',\n",
              "       'BCEC - BRASIL CENTRAL DE EDUCACAO E CULTURA SS',\n",
              "       'COLEGIO SAO FRANCISCO',\n",
              "       'SOCIEDADE DE ENSINO SUPERIOR PIAUIENSE LTDA',\n",
              "       'EDUCADORA SETE DE SETEMBRO LTDA',\n",
              "       'ESCOLA SUPERIOR DE GESTAO DE NEGOCIOS LTDA',\n",
              "       'UNIME - UNIAO METROPOLITANA PARA O DESENVOLVIMENTO DA EDUCACAO E CULTURA LTDA.',\n",
              "       'CENTRO DE ENSINO SUPERIOR DO EXTREMO SUL DA BAHIA LTDA',\n",
              "       'ASSOCIACAO APARECIDENSE DE EDUCACAO',\n",
              "       'DIRETIVA ADMINISTRADORA DE PARTICIPACOES LTDA',\n",
              "       'CENTRO TECNOLOGICO DE EDUCACAO SENA AIRES LTDA',\n",
              "       'SOCIEDADE PADRAO DE EDUCACAO SUPERIOR LTDA',\n",
              "       'UB UNISAOLUIS EDUCACIONAL S.A',\n",
              "       'SOCIEDADE EDUCACIONAL DA AMAZONIA LTDA',\n",
              "       'SOCIEDADE DE ENSINO SUPERIOR FENIX LTDA - ME',\n",
              "       'INSTITUTO POLITECNICO DE ENSINO LTDA.',\n",
              "       'IPTAN - INSTITUTO DE ENSINO SUPERIOR PRESIDENTE TANCREDO DE ALMEIDA NEVES S.A.',\n",
              "       'FUNORTE FACULDADES UNIDAS DO NORTE MINAS LTDA',\n",
              "       'ASSOCIACAO EDUCACIONAL DE COROMANDEL - AEC',\n",
              "       'INSTITUICAO ADVENTISTA SUL BRASILEIRA DE EDUCACAO',\n",
              "       'COLEGIO NET WORK S/S LTDA',\n",
              "       'SOCIEDADE INTEGRAL DE ENSINO SOCIEDADE SIMPLES LTDA.',\n",
              "       'AGES EMPREENDIMENTOS EDUCACIONAIS LTDA',\n",
              "       'ASSOCIACAO BRASILEIRA DE EDUCACAO FAMILIAR E SOCIAL',\n",
              "       'SOCIEDADE CIENTIFICA E CULTURAL ANISIO TEIXEIRA LTDA',\n",
              "       'ASCEC ENSINO SUPERIOR CEARENSE S/S/ LTDA.',\n",
              "       'CEUDESP - CENTRO DE EDUCACAO UNIVERSITARIO E DESENVOLVIMENTO PROFISSIONAL LTDA',\n",
              "       'IESST - INSTITUTO DE ENSINO SUPERIOR SOCIAL E TECNOLOGICO',\n",
              "       'INSTITUTO NOVOS HORIZONTES DE ENSINO SUPERIOR E PESQUISA LTDA.',\n",
              "       'UNIAO EDUCACIONAL DO VALE DO ACO LTDA',\n",
              "       'INSTITUICAO EDUCACIONAL CECILIA MARIA DE MELO BARCELOS LTDA',\n",
              "       'FUNDACAO ESPERANCA',\n",
              "       'SOCIEDADE CULTURAL E EDUCACIONAL SANTA RITA DE CASSIA LTDA - ME',\n",
              "       'SOCIEDADE EDUCACIONAL MATER CHRISTI LTDA',\n",
              "       'INSTITUTO N S DA GLORIA',\n",
              "       'CENTRO DE ENSINO SUPERIOR PIAUIENSE LTDA',\n",
              "       'FACULDADES CATHEDRAL DE ENSINO SUPERIOR',\n",
              "       'UNIAO BRASILEIRA EDUCACIONAL LTDA.',\n",
              "       'UNIDADE DE ENSINO SUPERIOR DE ITANHAEM LTDA',\n",
              "       'ESUCRI - ESCOLA SUPERIOR DE CRICIUMA LTDA', 'FACEB EDUCACAO LTDA',\n",
              "       'ASSOCIACAO VITORIENSE DE EDUCACAO, CIENCIAS E CULTURA - AVEC',\n",
              "       'UB - CAMPO REAL EDUCACIONAL S.A.',\n",
              "       'SOCIEDADE RONDONIENSE DE ENSINO SUPERIOR DR. APARICIO CARVALHO DE MORAES LTDA',\n",
              "       'SOCIEDADE EDUCACIONAL ATUAL DA AMAZONIA LTDA',\n",
              "       'ASSOCIACAO DE ENSINO SUPERIOR DE GOIAS-AESGO',\n",
              "       'APESU ENSINO SUPERIOR DE PERNAMBUCO S/S LTDA.',\n",
              "       'SOCIEDADE PERNAMBUCANA DE ENSINO SUPERIOR LTDA',\n",
              "       'FORTEC ASSESSORIA E TREINAMENTO LTDA',\n",
              "       'FUNDACAO FRANCISCO DE ASSIS',\n",
              "       'A. REGIAO TOCANTINA DE EDUCACAO E CULTURA LTDA.',\n",
              "       'GRUPO NOBRE DE ENSINO LTDA',\n",
              "       'CESMIG - CENTRO DE ENSINO SUPERIOR MINAS GERAIS LTDA - ME',\n",
              "       'ASSOCIACAO VICOSENSE DE ENSINO E PESQUISA LTDA - AVEP - VICOSA - EPP',\n",
              "       'EINSTEIN INSTITUICAO DE ENSINO LTDA - EPP',\n",
              "       'FACULDADES XV DE AGOSTO LTDA - EPP',\n",
              "       'SOCIEDADE EDUCATIVA E CULTURAL AMELIA S/C LTDA - EPP',\n",
              "       'UNIRON - UNIAO DAS ESCOLAS SUPERIORES DE RONDONIA LTDA.',\n",
              "       'UNIAO RONDONENSE DE ENSINO E CULTURA LTDA',\n",
              "       'INSTITUTO LEAO SAMPAIO DE ENSINO UNIVERSITARIO LTDA',\n",
              "       'CESCO - CENTRO DE ENSINO SUPERIOR DO CENTRO OESTE LTDA',\n",
              "       'PROTECNICA PAULISTA LTDA',\n",
              "       'FAINOR FACULDADE INDEPENDENTE DO NORDESTE LTDA',\n",
              "       'ADTALEM EDUCACIONAL DO BRASIL S/A', 'UNIAO DE ENSINO UNOPAR LTDA',\n",
              "       'SOCIEDADE EDUCACIONAL DO VALE DO ITAPOCU S/S LTDA.',\n",
              "       'SOCIEDADE DE EDUCACAO DO VALE DO IPOJUCA S/A',\n",
              "       'AEC - ASSOCIACAO DE ENSINO DE CAMBE',\n",
              "       'SOCEC- SOCIEDADE CAPIBARIBE DE EDUCACAO E CULTURA LTDA',\n",
              "       'INSTITUTO BRASIL DE CIENCIA & TECNOLOGIA LTDA',\n",
              "       'PITAGORAS - SISTEMA DE EDUCACAO SUPERIOR SOCIEDADE LTDA',\n",
              "       'ORGANIZACAO EDUCACIONAL FARIAS BRITO LTDA',\n",
              "       'UNIAO SUL-AMERICANA DE EDUCACAO LTDA',\n",
              "       'ASSOCIACAO DE ENSINO SUPERIOR DOS INCONFIDENTES - ASESI',\n",
              "       'CENTRO DE ENSINO SUPERIOR DE AGUDOS',\n",
              "       'FUNDACAO DE ROTARIANOS DE SAO PAULO',\n",
              "       'ASSOCIACAO EDUCACIONAL SAO JOSE', 'GRUPO IBMEC EDUCACIONAL S.A',\n",
              "       'CESA - CENTRO DE ESTUDO SUPERIOR DE APUCARANA',\n",
              "       'INSTITUTO DE ENSINO SUPERIOR DA REGIAO SERRANA LTDA',\n",
              "       'ASSENAR - ENSINO DE ARAUCARIA LTDA - ME',\n",
              "       'SOCIEDADE DE ENSINO SUPERIOR DA ESCADA LTDA - SOESE',\n",
              "       'COLEGIO DOM BOSCO LTDA', 'EDVAC SERVICOS EDUCACIONAIS LTDA',\n",
              "       'ENSIGEST - BRASIL LTDA - EPP',\n",
              "       'IPADE - INSTITUTO PARA O DESENVOLVIMENTO DA EDUCACAO LTDA.',\n",
              "       'INSTITUTO DE ENSINO SUPERIOR ANCHIETA',\n",
              "       'CENTRO DE ENSINO SUPERIOR FABRA',\n",
              "       'CETEBA - CENTRO DE ENSINO E TECNOLOGIA DA BAHIA LTDA',\n",
              "       'LAEL VARELLA EDUCACAO E CULTURA LTDA',\n",
              "       'SOCIEDADE REGIONAL DE EDUCACAO E CULTURA LTDA',\n",
              "       'SECAB SOCIEDADE EDUCACIONAL DE CAPIVARI DE BAIXO LTDA - EPP',\n",
              "       'INSTITUTO EDUCACIONAL SANTO AGOSTINHO LTDA',\n",
              "       'SOCIEDADE EDUCACIONAL UNIFAS S/C LTDA - ME',\n",
              "       'INESUL INSTITUTO DE ENSINO SUPERIOR DE LONDRINA S/S LTDA',\n",
              "       'SOCIEDADE EDUCACIONAL ENES NASCIMENTO LTDA - ME',\n",
              "       'INSTITUTO DE EDUCACAO SUPERIOR SAO PAULO LTDA - EPP',\n",
              "       'FACULDADES CATHEDRAL DE ENSINO SUPERIOR DE BARRA DO GARCAS - ME',\n",
              "       'CENTRO EDUCACIONAL NOSSA SENHORA AUXILIADORA',\n",
              "       'SOCIEDADE EDUCACIONAL PINTO E MENEZES LTDA - ME',\n",
              "       'FAPEC - FUNDACAO ALAGOANA DE PESQUISA, EDUCACAO E CULTURA',\n",
              "       'SOCIEDADE EDUCACIONAL CAXIENSE S/C LTDA.',\n",
              "       'EMPREENDIMENTO EDUCACIONAL MARACANAU LTDA.',\n",
              "       'SINERGIA SISTEMA DE ENSINO LTDA - EPP',\n",
              "       'SOCIEDADE AVANTIS DE ENSINO E ESCOLA DE AVIACAO CIVIL S.A.',\n",
              "       'SOMAR - SOCIEDADE MARANHENSE DE ENSINO SUPERIOR LTDA - ME',\n",
              "       'AESMS ENSINO SUPERIOR DE MATO GROSSO DO SUL LTDA.',\n",
              "       'FACULDADES EURO BRASILEIRAS PARA EDUCACAO SUPERIOR PRIVADA LTDA - ME',\n",
              "       'CESG - CENTRO DE EDUCACAO SUPERIOR DE GUANAMBI LTDA',\n",
              "       'UNESC-PB UNIAO DE ENSINO SUPERIOR DE CAMPINA GRANDE LTDA - ME',\n",
              "       'ITPAC INSTITUTO TOCANTINENSE PRESIDENTE ANTONIO CARLOS S.A',\n",
              "       'SOCIEDADE DE ENSINO SUPERIOR DE MANHUACU LTDA',\n",
              "       'UNIAO DE FACULDADES DE ALAGOAS LTDA - EPP',\n",
              "       'TCC EDUCACAO, CIENCIA E CULTURA LTDA - EPP',\n",
              "       'SESA - SOCIEDADE DE ENSINO SUPERIOR AMADEUS LTDA',\n",
              "       'UNNESA - UNIAO DE ENSINO SUPERIOR DA AMAZONIA OCIDENTAL S/C LTDA - EPP',\n",
              "       'CENTRO DE ESTUDOS SUPERIORES DE SANTO ANTONIO DE JESUS S/C - EPP',\n",
              "       'UNIRB - UNIDADES DE ENSINO SUPERIOR DA BAHIA LTDA',\n",
              "       'CENTRO DE ESTUDOS SUPERIORES DE ITAITUBA LTDA - ME',\n",
              "       'ASSOCIACAO IGREJA ADVENTISTA MISSIONARIA - AIAMIS',\n",
              "       'INSPETORIA SALESIANA SAO PIO X',\n",
              "       'UESPAR - UNIAO DE ENSINO SUPERIOR DO PARANA LTDA - EPP',\n",
              "       'MARCIO CALAFIORI RESENDE EIRELI - EPP',\n",
              "       'UNIAO EDUCACIONAL DO NORTE LTDA',\n",
              "       'IME INSTITUTO METROPOLITANO DE ENSINO LTDA',\n",
              "       'ASSOCIACAO MISSIONARIA DE BENEFICENCIA',\n",
              "       'LACERDA & GOLDFARB LTDA - EPP',\n",
              "       'INSPETORIA SALESIANA MISSIONARIA DA AMAZONIA',\n",
              "       'SOCIEDADE EDUCACIONAL MONTEIRO LOBATO',\n",
              "       'ASSOCIACAO DE ENSINO VALE DO GORUTUBA S/S LTDA',\n",
              "       'ORGANIZACAO SETE DE SETEMBRO DE CULTURA E ENSINO LTDA',\n",
              "       'BAIAO CONSULTORIA & CONTABILIDADE LTDA',\n",
              "       'SOCIEDADE UNIFICADA DE EDUCACAO DE EXTREMA',\n",
              "       'PRO-ENSINO SOCIEDADE CIVIL LTDA - ME',\n",
              "       'CENTRO DE ENSINO SUPERIOR ALMEIDA RODRIGUES LTDA - EPP',\n",
              "       'SOEBRAS - SOCIEDADE EDUCATIVA DO BRASIL LTDA',\n",
              "       'CENTRO EDUCACIONAL MONTES BELOS LTDA',\n",
              "       'SOCIEDADE ACREANA DE EDUCACAO E CULTURA LTDA',\n",
              "       'SOCIEDADE CIVIL INTEGRADA MADRE CELESTE LTDA',\n",
              "       'INSTITUTO MANTENEDOR DE ENSINO SUPERIOR DA BAHIA LTDA - ME',\n",
              "       'UNIUOL GESTAO DE EMPREENDIMENTOS EDUCAC. E PARTICIPACOES S/A',\n",
              "       'ESACOM - ESCOLA SUPERIOR DE ADMINISTRACAO, COMUNICACAO E MARKETING S/C LTDA',\n",
              "       'CENTRO DE ENSINO SUPERIOR DO CEARA',\n",
              "       'CENTRO INTEGRADO DE ENSINO SUPERIOR DE FLORIANO LTDA - ME',\n",
              "       'FUNDACAO EDUCACIONAL MONTES CLAROS',\n",
              "       'FACULDADES INTEGRADAS BRASIL AMAZONIA S/S LTDA',\n",
              "       'CENTRO EDUCACIONAL DYLLA LTDA',\n",
              "       'FUNDACAO O.CI.D.E.M.NT.E.-7C.D.E.',\n",
              "       'ASSOCIACAO EDUCACIONAL DE JOAO PINHEIRO',\n",
              "       'CEAPA-CENTRO DE ESTUDOS AVANCADOS DO PARA S/S LIMITADA',\n",
              "       'FACULDADE IEDUCARE LTDA',\n",
              "       'INSTITUTO MACAPAENSE DE ENSINO SUPERIOR S.S LTDA - ME',\n",
              "       'CENTRO EDUCACIONAL MARIA MILZA LTDA - ME',\n",
              "       'SOCIEDADE EDUCACIONAL EDICE PORTELA LTDA',\n",
              "       'INSTITUTO DE EDUCACAO SECULO XXI EIRELI - EPP',\n",
              "       'ROZA MARIA SOARES DA SILVA - ME',\n",
              "       'UNEF UNIDADE DE ENSINO SUPERIOR DE FEIRA DE SANTANA LTDA',\n",
              "       'SOCIEDADE EDUCACIONAL ZACARIAS DE GOES VASCONCELOS LTDA.',\n",
              "       'JAPANN SERVICOS EDUCACIONAIS LTDA',\n",
              "       'SOCIEDADE UNIVERSITARIA REDENTOR',\n",
              "       'CENTRO EDUCACIONAL HYARTE-ML LTDA',\n",
              "       'SEEB - SOCIEDADE DE ESTUDOS EMPRESARIAIS AVANCADOS DA BAHIA LTDA',\n",
              "       'COLEGIO CULTURAL MODULO LTDA - EPP',\n",
              "       'SOCIEDADE EDUCACIONAL DESEMBARGADOR PLINIO PINTO COELHO LTDA',\n",
              "       'SOC EDUCACIONAL E ASSISTENCIAL DA PAR DE PAO DE ACUCAR',\n",
              "       'FISMA - FACULDADE INTEGRADA DE SANTA MARIA LTDA.',\n",
              "       'CENTRO DE ENSINO SUPERIOR DOM ALBERTO LTDA',\n",
              "       'SERVICO NACIONAL DE APRENDIZAGEM COMERCIAL - SENAC MINAS',\n",
              "       'UNIAO EDUCACIONAL, CULTURAL E TECNOLOGICA IMPACTA - UNI.IMPACTA',\n",
              "       'UNISULMA- UNIDADE DE ENSINO SUPERIOR DO SUL DO MARANHAO LTDA - ME',\n",
              "       'CESUPI CENTRO DE ENSINO SUPERIOR DE ILHEUS LTDA - ME',\n",
              "       'SOCIEDADE UNIVERSITARIA DE DESENVOLVIMENTO PROFISSIONALIZANTE S/S - SUDEP FATENE',\n",
              "       'ASSOCIACAO HOSPITALAR DE PROT INFANCIA DR RAUL CARNEIRO',\n",
              "       'CENTRO DE ENSINO SUPERIOR DE IPORA LTDA - EPP',\n",
              "       'INSTITUTO DE ENSINO SAO SEBASTIAO LTDA', 'SER EDUCACIONAL S.A.',\n",
              "       'CENTRO DE EDUCACAO SUPERIOR REINALDO RAMOS S/C LTDA - CESREI - ME',\n",
              "       'FUNDACAO MOVIMENTO DIREITO E CIDADANIA - FUNDACAO MDC',\n",
              "       'UNIAO DAS FACULDADES INTEGRADAS DE NEGOCIOS LTDA.',\n",
              "       'UNEMPE - UNIAO EMPRESARIAL EDUCACIONAL LTDA',\n",
              "       'SOCIEDADE DE ENSINO SERRA DO CARMO LTDA',\n",
              "       'ASSOCIACAO BENEFICENTE DA INDUSTRIA CARBONIFERA DE SANTA CATARINA (SATC)',\n",
              "       'SOCIEDADE EDUCACIONAL VERDE NORTE LTDA  - ME',\n",
              "       'ASSOCIACAO EDUCACIONAL DE PATOS DE MINAS - AEPM',\n",
              "       'SOCIEDADE DE EDUCACAO, CULTURA E TECNOLOGIA DA AMAZONIA S/A',\n",
              "       'UNIAO EDUCACIONAL META LTDA - ME',\n",
              "       'CENTRO REGIONAL DE ENSINO SUPERIOR ARNO KREUTZ LTDA - EPP',\n",
              "       'FADERGS - FACULDADE DE DESENVOLVIMENTO DO RIO GRANDE DO SUL LTDA.',\n",
              "       'CENTRO DE EDUCACAO DO PANTANAL LTDA - EPP',\n",
              "       'UNESBA - UNIAO DE ENSINO SUPERIOR DE BRASILIA S.S. LTDA.',\n",
              "       'INSTITUTO SUPERIOR DE ENSINO STA. CECILIA LTDA - EPP',\n",
              "       'DINAMICA ORGANIZACAO PROJETOS E CONSULTORIA LTDA - ME',\n",
              "       'J. COUTINHO SOCIEDADE CIVIL LTDA  - ME',\n",
              "       'IUNI EDUCACIONAL - UNIME SALVADOR LTDA',\n",
              "       'ASSOCIACAO PIRIPIRIENSE DE ENSINO SUPERIOR',\n",
              "       'ASPEC SOCIEDADE PARAIBANA DE EDUCACAO E CULTURA LTDA',\n",
              "       'SOCIEDADE DE EDUCACAO E CULTURA DE SAO JOSE DO RIO PRETO LTDA.',\n",
              "       'CENTRO DE ENSINO SUPERIOR SAO FRANCISCO LTDA - ME',\n",
              "       'EDUCARE GESTAO DE EDUCACAO LTDA - ME',\n",
              "       'UNIVICOSA - UNIAO DE ENSINO SUPERIOR DE VICOSA LTDA',\n",
              "       'SOCIEDADE EDUCACIONAL SUL BAHIANA LTDA - EPP',\n",
              "       'SEEA-SOCIEDADE DE ESTUDOS EMPRESARIAIS DE ALAGOINHAS LTDA',\n",
              "       'SERVICO NACIONAL DE APRENDIZAGEM COMERCIAL - SENAC',\n",
              "       'SERVICO NACIONAL DE APRENDIZAGEM COMERCIAL - SENAC ARRJ',\n",
              "       'SOCIEDADE CATALANA DE EDUCACAO S/C LTDA - EPP',\n",
              "       'CENTRO SUPERIOR DE TECNOLOGIA TECBRASIL LTDA',\n",
              "       'INSTITUTO DE DESENVOLVIMENTO EDUCACIONAL DO ALTO URUGUAI LTDA',\n",
              "       'FUNDACAO DE ENSINO E PESQUISA DO SUL DE MINAS',\n",
              "       'FUNDACAO EDUCACIONAL DE OLIVEIRA',\n",
              "       'FUNDACAO EDUCACIONAL DE PATOS DE MINAS',\n",
              "       'FUNDACAO EDUCACIONAL DE LAVRAS',\n",
              "       'CENTRO DE ENSINO SUPERIOR MULTIPLO S/C LTDA - EPP',\n",
              "       'FIUSA EDUCACIONAL S/SIMPLES LTDA - EPP',\n",
              "       'CENTRO EDUCACIONAL DE ENSINO SUPERIOR DE CORNELIO PROCOPIO - CESUCOP',\n",
              "       'SANTANA INSTITUTO DE EDUCACAO SUPERIOR LTDA - EPP',\n",
              "       'FUNDACAO BOAS NOVAS', 'SISTEMA DE ENSINO SUPERIOR IBITURUNA LTDA',\n",
              "       'CESUCA - COMPLEXO DE ENSINO SUPERIOR DE CACHOEIRINHA LTDA',\n",
              "       'INSTITUTO EDUCACIONAL SANTA CATARINA LTDA - EPP',\n",
              "       'INSTITUICAO BAIANA DE ENSINO SUPERIOR LTDA',\n",
              "       'ESCOLA DE ENFERMAGEM SAO VICENTE DE PAULA LTDA - EPP',\n",
              "       'ASSOCIACAO EDUCACIONAL DE CIENCIAS DA SAUDE - AECISA',\n",
              "       'SOCIEDADE AMIGOS DA INSTRUCAO DE JATINA - ME',\n",
              "       'COMPLEXO DE ENSINO SUPERIOR DE SAO PAULO LTDA - CESUSP',\n",
              "       'FACULDADE DO COMPLEXO EDUCACIONAL SANTO ANDRE S/S LTDA',\n",
              "       'SOCIEDADE DE ENSINO SUPERIOR MADRE FRANCISCA LECHNER - CAICO S/S LIMITADA - EPP',\n",
              "       'UNIAO MARINGAENSE DE ENSINO LTDA - EPP',\n",
              "       'CENTRO DE ESTUDOS III MILLENIUM LTDA',\n",
              "       'SOCIEDADE MARANHENSE DE ENSINO SUPERIOR - SS - EPP',\n",
              "       'BACABAL MEARIM SISTEMAS DE ENSINO LTDA.',\n",
              "       'INSTITUTO EDUCACIONAL ALMENARA LTDA - EPP',\n",
              "       'CENTRO DE EDUCACAO SERRA DA MESA LTDA - CESEM - EPP',\n",
              "       'IBGEN EDUCACIONAL LTDA', 'ESCOLA MADRE TEREZA LTDA - ME',\n",
              "       'SESTAS - SOCIEDADE DE ESTUDOS SAO TOMAZ DE AQUINO - ME',\n",
              "       'SESG - SOCIEDADE DE EDUCACAO SUPERIOR GUAIRACA LTDA',\n",
              "       'SOCIEDADE CULTURAL E EDUCACIONAL DO INTERIOR PAULISTA S/S LTDA',\n",
              "       'CENESUP - CENTRO NACIONAL DE ENSINO SUPERIOR LTDA',\n",
              "       'ASSUPERO ENSINO SUPERIOR LTDA.',\n",
              "       'SOCIEDADE DE EDUCACAO N.S. AUXILIADORA LTDA',\n",
              "       'SOCIEDADE EDUCACIONAL CARVALHO GOMES LTDA',\n",
              "       'SOCIEDADE DE ENSINO SUPERIOR IDEAL LTDA - EPP',\n",
              "       'CENTRO SOCIAL CLODOVEU ARRUDA',\n",
              "       'INSTITUTO FLORENCE DE ENSINO SUPERIOR LTDA - ME',\n",
              "       'INSTITUTO CAMPINENSE DE ENSINO SUPERIOR LTDA',\n",
              "       'SOCIEDADE DE ENSINO SUPERIOR DE SERRA TALHADA - SESST - EPP',\n",
              "       'PIPEL-PICOS PETROLEO LTDA', 'CENTRO DE ENSINO METODO - EIRELI',\n",
              "       'PIRES & CIA LTDA - EPP',\n",
              "       'CENACAP CENTRO NACIONAL DE CAPACITACAO PROFISSIONAL LTDA - EPP',\n",
              "       'CENTRO DE ESTUDOS OCTAVIO DIAS DE OLIVEIRA',\n",
              "       'INFNET EDUCACAO LTDA.', 'CLAUDER CIARLINI FILHO & CIA',\n",
              "       'CEUMA-ASSOCIACAO DE ENSINO SUPERIOR',\n",
              "       'ESCOLA TECNOLOGICA DE CURITIBA LTDA - EPP',\n",
              "       'SOCIEDADE DE ENSINO SUPERIOR E DE PESQUISA DE SERGIPE LTDA - SESPS',\n",
              "       'CECAM - CENTRO EDUCACIONAL E CULTURAL DA AMAZONIA - EPP',\n",
              "       'INSTITUTO DE DESENVOLVIMENTO TECNOLOGICO E EDUCACIONAL DE PIRACICABA LTDA',\n",
              "       'CENTRO EDUCACIONAL NOSSA CIDADE LTDA.',\n",
              "       'SOCIEDADE EDUCACIONAL HERRERO LTDA. - SS - EPP',\n",
              "       'CIESPI-CENTRO INTEGRADO DE EDUCACAO SUPERIOR DO PIAUI LTDA',\n",
              "       'SOCIEDADE DE ENSINO SUPERIOR ESTACIO AMAZONAS LTDA',\n",
              "       'CETTAA EDUCACIONAL LTDA', 'UNIBALSAS EDUCACIONAL LTDA',\n",
              "       'UNIAO DAS ESCOLAS SUPERIORES DE JI-PARANA  LTDA',\n",
              "       'INSTITUICAO ADVENTISTA NORDESTE BRASILEIRA DE EDUCACAO E ASSISTENCIA SOCIAL',\n",
              "       'CENTRO DE ENSINO SUPERIOR DE MARABA LTDA',\n",
              "       'SOCIEDADE UNIVERSITARIA DE EXCELENCIA EDUCACIONAL DO RIO GRANDE DO NORTE LTDA',\n",
              "       'SENAI-SERVICO NACIONAL DE APRENDIZAGEM INDUSTRIAL',\n",
              "       'VERA CLAUDINO EDUCACAO SUPERIOR LIMITADA - ME',\n",
              "       'ASSOCIACAO DE ENSINO SUPERIOR ANGLO LIDER - AESAL',\n",
              "       'EDUCACIONAL MARTINS ANDRADE LTDA - EPP',\n",
              "       'CENTRO DE EDUCACAO SUPERIOR DO NORTE GOIANO LTDA - ME',\n",
              "       'CEI - CENTRO EDUCACIONAL INTEGRADO LTDA',\n",
              "       'INSTITUTO PAULISTA DE DIFUSAO CULTURAL LTDA',\n",
              "       'INSTITUTO PARAISO DO NORTE DE EDUCACAO E CULTURA LTDA - IPNEC - ME',\n",
              "       'CENTRO BRASILEIRO DE PROFISSIONALIZACAO EMPRESARIAL LTDA',\n",
              "       'IBGM - INSTITUTO BRASILEIRO DE GESTAO & MARKETING LTDA - EPP',\n",
              "       'INSTITUTO VALE EDUCACAO',\n",
              "       'UNIDADE DE ENSINO, PESQUISA E EXTENSAO DE RIACHAO DO JACUIPE EIRELI',\n",
              "       'FACULDADE DE TECNOLOGIA E CIENCIAS DO NORTE DO PARANA LTDA - ME',\n",
              "       'BRASIL EDUCACAO S/A',\n",
              "       'CAMARA DE DIRIGENTES LOJISTAS DE FORTALEZA', 'FOIL LTDA - EPP',\n",
              "       'CETEC EDUCACIONAL S.A.',\n",
              "       'SOEGAR-SOCIEDADE EDUCACIONAL GARDINGO LTDA - EPP',\n",
              "       'FUNDACAO SANTA TEREZINHA DE MOSSORO',\n",
              "       'FASIPE CENTRO EDUCACIONAL LTDA - ME',\n",
              "       'INSTITUTO EDUCACIONAL MARIA RANULFA LTDA - EPP',\n",
              "       'FACULDADES INTEGRADAS DE CASTANHAL LTDA - EPP',\n",
              "       'ORME SERVICOS EDUCACIONAIS LTDA',\n",
              "       'FACULDADE DE CIENCIAS E TECNOLOGIA DO MARANHAO LTDA - ME',\n",
              "       'INSTITUTO TOCANTINENSE DE EDUCACAO SUPERIOR E PESQUISA LTDA - ME',\n",
              "       'OFM SISTEMAS LTDA',\n",
              "       'INSTITUTO DE GESTAO EDUCACIONAL SIGNORELLI LTDA.',\n",
              "       'FACULDADE UNIAO ARARUAMA DE ENSINO S/S LTDA. - ME',\n",
              "       'ASSOCIACAO MOGIANA PARA DESENVOLVIMENTO DA EDUCACAO',\n",
              "       'ODONTO RAD LTDA - ME',\n",
              "       'SOCIEDADE METROPOLITANA DE EDUCACAO, CULTURA E TECNOLOGIA SAO CARLOS S/S LTDA - ME',\n",
              "       'UNIAO DE ENSINO DE SANTA CRUZ - UNIESC LTDA - EPP',\n",
              "       'UNIAO DE ENSINO E CULTURA DE GUARAPUAVA LTDA - UNIGUA',\n",
              "       'IDEA - INSTITUTO DE DESENVOLVIMENTO EDUCACIONAL AVANCADO S/S LTDA',\n",
              "       'UNIPB - UNIAO DE ENSINO SUPERIOR DA PARAIBA LTDA - ME',\n",
              "       'UNIAO BRASILEIRA DE EDUCACAO LTDA  - ME',\n",
              "       'COMPLEXO DE ENSINO SUPERIOR ESPECIALIZADA NA AREA DE SAUDE S/S - ME',\n",
              "       'INSTITUTO JOAO NEORICO', 'FUNDACAO UNIVERSITARIA VIDA CRISTA',\n",
              "       'ASSOCIACAO EDUCACIONAL DR. ODILON FERNANDES',\n",
              "       'SOCIEDADE EDUCACIONAL RIOGRANDENSE LTDA.',\n",
              "       'SESSA-SOCIEDADE DE EDUCACAO SUPERIOR DO SEMI-ARIDO LTDA - ME',\n",
              "       'FUNDACAO EDUCACIONAL ALTO MEDIO SAO FRANCISCO',\n",
              "       'INSTITUTO MAKRO UNIAO POS-GRADUACAO E EXTENSAO LTDA - ME',\n",
              "       'IDEZ EMPREENDIMENTOS EDUCACIONAIS LTDA.',\n",
              "       'INSTITUTO METROPOLITANO DE EDUCACAO E CULTURA LTDA - ME',\n",
              "       'INSTITUTO BRASILIENSE DE DIREITO PUBLICO IDP LTDA',\n",
              "       'INACI ASSOCIACAO DE ENSINO', 'H. M. SIMOES CARNEIRO - ME',\n",
              "       'ITPAC PORTO NACIONAL - INSTITUTO TOCANTINENSE PRESIDENTE ANTONIO CARLOS  PORTO S.A.',\n",
              "       'SALES BURGOS CONSULTORIA E SERVICOS EDUCACIONAIS LTDA - ME',\n",
              "       'ESCOLA SUPERIOR DA AMAZONIA S/C LTDA - ESAMAZ',\n",
              "       'CINTEP - CENTRO INTEGRADO DE TECNOLOGIA E PESQUISA LTDA - ME',\n",
              "       'INSTITUTO DE ENSINO SUPERIOR MOINHO VELHO LTDA - ME',\n",
              "       'CENTRO DE ENSINO SUPERIOR DE PRESIDENTE PRUDENTE - CESPP',\n",
              "       'INSTITUTO PROMINAS SERVICOS EDUCACIONAIS LTDA',\n",
              "       'ORGANIZACAO EDUCACIONAL ARAUCARIA LTDA - ME',\n",
              "       'ASSOCIACAO EDUCACIONAL JOAO PAULO II',\n",
              "       'FATEC -BA FACULDADE DE TECNOLOGIA E CIENCIAS DA BAHIA LTDA',\n",
              "       'ASSOCIACAO EDUCATIVA DE JANAUBA - SOEDUCAR',\n",
              "       'FACULDADE DE CIENCIAS DO TOCANTINS LTDA - FACIT - ME',\n",
              "       'CV & C CONSULTORES ASSOCIADOS LTDA - EPP',\n",
              "       'ASSOCIACAO SEQUENCIAL DE ENSINO SUPERIOR',\n",
              "       'INSTITUTO DE ENSINO SUPERIOR DE PALHOCA S/S LTDA.',\n",
              "       'SISTEMA DE ENSINO SUPERIOR CIDADE DE BETIM LTDA - ME',\n",
              "       'CENTRO EDUCACIONAL MICHELIN LTDA - ME',\n",
              "       'FVA - FACULDADE DO VALE DO ARARANGUA LTDA  - ME',\n",
              "       'FACULDADE DOS CARAJAS LTDA - ME',\n",
              "       \"UNIDADE DE ENSINO SUPERIOR DE CACOAL ''PS'' LTDA - ME\",\n",
              "       \"SOCIEDADE EMPRESARIAL DE ESTUDOS SUPERIORES E TECNOLOGICOS SANT''ANA LTDA - ME\",\n",
              "       'SISTEMA DE ENSINO SUPERIOR CIDADE DE BELO HORIZONTE LTDA - ME',\n",
              "       'CBPEX CONSULTORIA LTDA - EPP',\n",
              "       'UNIVERSO PROFESSORES ASSOCIADOS S/S LTDA - ME',\n",
              "       'SOCIEDADE UNIVERSITARIA DO PIAUI & CIA S/S - ME',\n",
              "       'INSTITUTO DE NOVA EDUCACAO LTDA - ME',\n",
              "       'INSTITUTO CAL DE ARTE E CULTURA',\n",
              "       'INSTITUTO DE PESQUISA E ENSINO LTDA - ME',\n",
              "       'LABORO - CENTRO DE CONSULTORIA QUALIFICAO E POS-GRADUACAO LTDA - EPP',\n",
              "       'ASSOCIACAO DE APOIO A EDUCACAO CIENCIA E TECNOLOGIA DO ESTADO DE SERGIPE - APEC-SE - EPP',\n",
              "       'SISTEMA ALFA UNIVERSITARIO LTDA - ALFA', 'UNIPIAGET/BRASIL',\n",
              "       'CENTRO DE ENSINO NOROESTE LTDA - ME',\n",
              "       'SOCIEDADE BRASILEIRA PARA O ENSINO E PESQUISA LTDA - ME',\n",
              "       'FACULDADES INTEGRADAS CARAJAS S/C LTDA - EPP',\n",
              "       'INSTITUTO MINEIRO DE EDUCACAO E CULTURA UNI-BH S/A',\n",
              "       'IESG-INSTITUTO DE EDUCACAO SAO GABRIEL DA PALHA LTDA',\n",
              "       'CEITEP - CENTRO DE EDUCACAO E INOVACAO TECNICO PROFISSIONAL LTDA - EPP',\n",
              "       'SOCIEDADE DE ENSINO SUPERIOR DO NORDESTE DA BAHIA LTDA - ME',\n",
              "       'EDITORA E DISTRIBUIDORA EDUCACIONAL S/A',\n",
              "       'FACULDADE DE GESTAO E NEGOCIOS DE SALVADOR LTDA',\n",
              "       'UNICA EDUCACIONAL LTDA',\n",
              "       'SOCIEDADE DE ENSINO SUPERIOR MASTER S/S LTDA. - ME',\n",
              "       'CESUL-CENTRO DE EDUCACAO SUPERIOR LTDA - EPP',\n",
              "       'CETESP CENTRO TECNOLOGICO DE EDUCACAO SUPERIOR E PROFISSIONAL LTDA',\n",
              "       'CENTRO DE ESTUDOS AMBIENTAIS DO VALE DO PARAIBA - CEAVAP - ME',\n",
              "       'ASSOCIACAO DE ENSINO SUPERIOR DE CAMPO GRANDE LTDA - ME',\n",
              "       'ACADEMIA JUINENSE DE ENSINO SUPERIOR LTDA - ME',\n",
              "       'GUATAG - SOCIEDADE DE ASSISTENCIA EDUCACIONAL LTDA',\n",
              "       'FACULDADE PARA O DESENVOLVIMENTO SUSTENTAVEL DA AMAZONIA LTDA. - ME',\n",
              "       'FACULDADE IRECE',\n",
              "       'FACULDADE DE GESTAO E NEGOCIOS DE FORTALEZA LTDA',\n",
              "       'ASSOCIACAO FACULDADES CATOLICAS PETROPOLITANAS',\n",
              "       'SEPA - SOCIEDADE EDUCACIONAL DA PARAIBA LTDA',\n",
              "       'ASSOCIACAO EDUCACIONAL LATINO AMERICANA',\n",
              "       'IERT- INSTITUICOES DE ENSINO REUNIDAS TIETE LTDA',\n",
              "       'EXCELLENCE ENSINO SUPERIOR LTDA',\n",
              "       'DINAMICA ASSESSORIA E GESTAO EMPRESARIAL LTDA - ME',\n",
              "       'UNIVERSAL-EDUCACAO E PROJETOS LTDA - ME',\n",
              "       'INSTITUTO SUPERIOR DE EDUCACAO FACETEN LTDA - ISEF - ME',\n",
              "       'METROPOLITAN EDUCACAO LTDA.',\n",
              "       'UNEPES- UNIDADE DE ENSINO, PESQUISA E EXTENSAO DE SERRINHA LTDA - ME',\n",
              "       'FEAM - FACULDADE DE EDUCACAO E TECNOLOGIA DA AMAZONIA LTDA - ME',\n",
              "       'SOCIEDADE UNIVERSITARIA MILETO LTDA - EPP',\n",
              "       'CENTRO UNIVERSITARIO DA BAHIA LTDA',\n",
              "       'FACULDADE DAS AMERICAS LTDA',\n",
              "       'INSTITUTO PATER DE EDUCACAO E CULTURA',\n",
              "       'INSTITUTO DE EDUCACAO SUPERIOR DO VALE DO PARNAIBA LTDA.',\n",
              "       'INSTITUTO DIAMANTINA DE EDUCACAO LTDA',\n",
              "       'CENTRO EDUCACIONAL TRES MARIAS - LTDA',\n",
              "       'OCESU - ORGANIZACAO CEARENSE DE EDUCACAO SUPERIOR LTDA',\n",
              "       'ASSOCIACAO EDUCACIONAL E CULTURAL DE QUIXADA',\n",
              "       'IESC - INSTITUTO DE EDUCACAO SUPERIOR E PESQUISA DO CEARA LTDA - ME',\n",
              "       'CENTRO DE ENSINO SUPERIOR E PESQUISA LOGOS LTDA - CESPEL',\n",
              "       'INSTITUTO JAGUARIBANO DE ENSINO LTDA. - ME',\n",
              "       'ALVES DE MELO E MELO LTDA',\n",
              "       'IESTEC- INSTITUTO DE ENSINO SUPERIOR TEOLOGICO CRISTAO - ME',\n",
              "       'MAILDES DELGADO SAMPAIO - ME',\n",
              "       'CENTRO DE ENSINO SUPERIOR DE PARAGOMINAS LTDA',\n",
              "       'CEPAR - CENTRO DE ENSINO SUPERIOR DE PARAUAPEBAS LTDA',\n",
              "       'INSTITUTO EDUCACIONAL INTEGRADO LTDA - ME',\n",
              "       'UNIC EDUCACIONAL LTDA',\n",
              "       'CENTRO DE EDUCACAO DE ROLIM DE MOURA LTDA',\n",
              "       'SERVICO NACIONAL DE APRENDIZAGEM INDUSTRIAL SENAI',\n",
              "       'SEEQ-SOCIEDADE DE ESTUDOS EMPRESARIAIS DE QUEIMADAS LTDA - ME',\n",
              "       'ASSOCIACAO EDUCACIONAL MATONENSE',\n",
              "       'UNIAO CATALANA DA GESTAO DO CONHECIMENTO LTDA - ME',\n",
              "       'FEDERAL EDUCACIONAL LTDA.', 'FACULDADE VALE DO ACO LTDA',\n",
              "       'INSTITUTO DE DESENVOLVIMENTO EDUCACIONAL DE CAXIAS DO SUL LTDA',\n",
              "       'INSTITUTO DE DESENVOLVIMENTO EDUCACIONAL DE PASSO FUNDO LTDA',\n",
              "       'INSTITUTO DE DESENVOLVIMENTO EDUCACIONAL DE BAGE LTDA',\n",
              "       'SOCIEDADE EDUCACIONAL SARANDI  LTDA',\n",
              "       'INSTITUTO EDUCACIONAL E TECNOLOGICO DE QUIXADA LTDA',\n",
              "       'FACULDADES DE CIENCIAS E TECNOLOGIA DO NORDESTE LTDA - EPP',\n",
              "       'INSTITUTO DE ENSINO SANTA NATALIA LTDA - ME',\n",
              "       'FACULDADES BRASIL INTELIGENTE S/S LTDA',\n",
              "       'INSTITUTO DE MANTENCA DE ENSINO SUPERIOR LTDA - EPP',\n",
              "       'INSTITUTO DE ENSINO DALVA CAMPOS LTDA - ME',\n",
              "       'DINAMICA ADMINISTRACAO CONSULTORIA & GESTAO S/S LTDA',\n",
              "       'SOCIEDADE DE EDUCACAO SUPERIOR DO CABO LTDA',\n",
              "       'CENTRO AVANCADO DE ORTODONTIA PAULO PICANCO S/S LTDA - EPP',\n",
              "       'IGREJA ASSEMBLEIA DE DEUS MINISTERIO PRESIDENTE PRUDENTE',\n",
              "       'FACISA NOROESTE LTDA - EPP',\n",
              "       'SOCIEDADE EDUCACIONAL VALE DO SAO FRANCISCO LTDA - ME',\n",
              "       'CENTRO DE ENSINO SUPERIOR DE SERRA TALHADA LIMITADA - EPP',\n",
              "       'FAUSB EDUCACIONAL LTDA', 'FCR EDUCACIONAL LTDA',\n",
              "       'VIDAM EMPREENDIMENTOS EDUCACIONAIS LTDA - EPP',\n",
              "       'EDUFOR PRESTADORA DE SERVICOS LTDA - ME',\n",
              "       'GRUPO M.C EDUCACAO E ASSESSORIA LTDA - ME',\n",
              "       'ORGANIZACAO TECNOLOGICA DE ENSINO LTDA',\n",
              "       'CENTRO DE ENSINO SANTO ANTONIOX LTDA',\n",
              "       'CENTRO DE ESTUDOS JURIDICOS DO AMAZONAS LTDA - ME',\n",
              "       'ASSOCIACAO INTERNACIONAL UNIAO DAS AMERICAS',\n",
              "       'FACULDADE DE EDUCACAO E CULTURA DA SERRA DA IBIAPABA LTDA',\n",
              "       'UNIESP S.A',\n",
              "       'SOBERANA FACULDADE DE SAUDE DE PETROLINA LTDA - EPP',\n",
              "       'CENTRO DE ENSINO SUPERIOR BELCHIOR LTDA',\n",
              "       'ASSOCIACAO DE ENSINO E CULTURA PIO DECIMO DO ALTO SAO FRANCISCO LTDA',\n",
              "       'INFOGENIUS ESCOLA TECNICA PROFISSIONALIZANTE LTDA - ME',\n",
              "       'FACULDADE METROPOLITANA RECANTO DAS EMAS LTDA',\n",
              "       'UNIDADE DE ENSINO SUPERIOR DO CENTRO MARANHENSE LTDA',\n",
              "       'INSTITUTO DARCY RIBEIRO S/S LTDA - ME',\n",
              "       'ASSOCIACAO SAO JOSE DE ANCHIETA - ASJEA',\n",
              "       'UNIDADE REGIONAL BRASILEIRA DE EDUCACAO LTDA',\n",
              "       'INSTITUTO SUPERIOR EM CIENCIAS DA SAUDE LTDA.',\n",
              "       'INSTITUTO DE ADMINISTRACAO & GESTAO EDUCACIONAL LTDA',\n",
              "       'CENTRO EDUCACIONAL DE ENSINO SUPERIOR DE PATOS LTDA',\n",
              "       'SOCIEDADE EDUCACIONAL MATO VERDE LTDA - ME',\n",
              "       'ESCOLA TECNICA DE BACABEIRA LTDA - ME',\n",
              "       'DAMA CENTRO DE EDUCACAO E TECNOLOGIA LTDA - ME',\n",
              "       'CENTRO DE ENSINO SUPERIOR SANTISSIMA TRINDADE LIMITADA - ME',\n",
              "       'SOCIEDADE PAULISTA DE ENSINO E PESQUISA S/S LTDA',\n",
              "       'SOCIEDADE EDUCACIONAL CESAR VIEIRA DINIZ - JUAZEIRO DO NORTE LTDA',\n",
              "       'SOCIEDADE EDUCACIONAL CESAR VIEIRA DINIZ - PETROLINA LTDA',\n",
              "       'COMPLEXO EDUCACIONAL MILLENIUM LTDA - ME',\n",
              "       'INSTITUTO DE CIENCIAS, EDUCACAO E TECNOLOGIA DA BAHIA - ICEB LTDA  - ME',\n",
              "       'FAC EDUCACIONAL LTDA', 'NOVATEC EDUCACIONAL LTDA',\n",
              "       'FAIR EDUCACIONAL LTDA',\n",
              "       'INSTITUTO INVEST DE EDUCACAO CONSULTORIA E ASSESSORIA LTDA - ME',\n",
              "       'SOCIEDADE EDUCACIONAL FORTALEZA - ME',\n",
              "       'ALAGOAS EDUCACIONAL DE ENSINO SUPERIOR LTDA - EPP',\n",
              "       'UNICIR - FACULDADE DO CARIRI LTDA - EPP',\n",
              "       'SOCIEDADE DE EDUCA  O SUPERIOR DE MACEI  LTDA',\n",
              "       'M C FELICIANO CONSTRUCOES EIRELI',\n",
              "       'CEN - CENTRO DE ENSINO SUPERIOR E CAPACITACAO LTDA - EPP',\n",
              "       'INSTITUTO SUPERIOR DE EDUCACAO DE ITAPIPOCA - ISEIT',\n",
              "       'ANHANGUERA EDUCACIONAL PARTICIPACOES S/A',\n",
              "       'FACULDADE CENTRO DE CONHECIMENTO DE TERESINA LTDA - ME',\n",
              "       'CENTRO EDUCACIONAL E DESPORTIVO ELO LTDA. - ME',\n",
              "       'INSTITUTO EDUCACIONAL COOPERARE LTDA. - ME',\n",
              "       'UNIAO LONDRINENSE DE ENSINO LTDA',\n",
              "       'INSTITUTO TEOLOGICO PADRE GIULIANO - ITEPAGI',\n",
              "       'INSTITUTO DE ENSINO SUPERIOR DO PIAUI LTDA',\n",
              "       'NOVOESTE EDUCACIONAL LTDA - EPP',\n",
              "       'CONVENCAO NAC ASS DE DEUS NO BRASIL MINIST MADUREIRA',\n",
              "       'FACULDADE DE ENSINO SUPERIOR DE PARNAIBA LTDA S/S',\n",
              "       'SOCIEDADE DE EDUCACAO E CULTURA APARECIDA DE GOIANIA LTDA - ME',\n",
              "       'FACULDADE 8 DE JULHO EIRELI - ME',\n",
              "       'FACULDADE SUPREMO REDENTOR LTDA - EPP',\n",
              "       'IGESP EDUCACAO E SAUDE LTDA', 'F. P. DO NASCIMENTO - ME',\n",
              "       'INSTITUTO DE TECNOLOGIA DA COSTA DO DENDE LTDA - ME',\n",
              "       'BRIGHT MINDS, REDE DE EDUCACAO GLOBAL LTDA',\n",
              "       'CESAR CENTRO DE ESTUDOS E SISTEMAS AVANCADOS DO RECIFE',\n",
              "       'UNIVERSIDADE BRASIL', 'FRB- FACULDADES REUNIDAS DE BOTUCATU LTDA',\n",
              "       'EMPREENDIMENTOS DE EDUCACAO CASTRO ALVES LTDA',\n",
              "       'EDUCACAO VERDE NORTE LTDA. - ME',\n",
              "       'ESCOLA UNIVERSITARIA DE BOTUCATU E REGIAO LTDA',\n",
              "       'INSTITUTO AUDY AZEVEDO', 'SOCIEDADE DE EDUCACAO S/S LTDA',\n",
              "       'CENTRO DE CIENCIAS EM SAUDE DE ITAJUBA S.A',\n",
              "       'ISLEC - INSTITUTO SETELAGOANO DE EDUCACAO E CIENCIA LTDA',\n",
              "       'SEIM - SOCIEDADE EDUCACIONAL IRMAOS MUNIZ LTDA',\n",
              "       'SOCIEDADE NORTE MINEIRA DE ENSINO E COMUNICACAO LTDA'],\n",
              "      dtype=object)"
            ]
          },
          "execution_count": 444,
          "metadata": {},
          "output_type": "execute_result"
        }
      ],
      "source": [
        "fies2019['Nome mantenedora'].unique()"
      ]
    },
    {
      "cell_type": "code",
      "execution_count": 445,
      "metadata": {},
      "outputs": [
        {
          "data": {
            "text/plain": [
              "ASSUPERO ENSINO SUPERIOR LTDA.                       8179\n",
              "SOCIEDADE DE ENSINO SUPERIOR ESTACIO DE SA LTDA      7703\n",
              "SER EDUCACIONAL S.A.                                 6798\n",
              "ANHANGUERA EDUCACIONAL PARTICIPACOES S/A             6365\n",
              "ASSOCIACAO EDUCACIONAL NOVE DE JULHO                 5085\n",
              "                                                     ... \n",
              "INSTITUICAO ADVENTISTA SUL BRASILEIRA DE EDUCACAO       1\n",
              "FUNDACAO EDUCACIONAL LUIZ REID                          1\n",
              "FACULDADES XV DE AGOSTO LTDA - EPP                      1\n",
              "ENSIGEST - BRASIL LTDA - EPP                            1\n",
              "DAMA CENTRO DE EDUCACAO E TECNOLOGIA LTDA - ME          1\n",
              "Name: Nome mantenedora, Length: 764, dtype: int64"
            ]
          },
          "execution_count": 445,
          "metadata": {},
          "output_type": "execute_result"
        }
      ],
      "source": [
        "fies2019['Nome mantenedora'].value_counts()"
      ]
    },
    {
      "cell_type": "markdown",
      "metadata": {},
      "source": [
        "Como não é possível visualizar todos os valores, pode-se retornar todos os valora não alfanuméricos para checar se existem dados que precisam ser tratados."
      ]
    },
    {
      "cell_type": "code",
      "execution_count": 446,
      "metadata": {},
      "outputs": [
        {
          "data": {
            "text/plain": [
              "array([], dtype=object)"
            ]
          },
          "execution_count": 446,
          "metadata": {},
          "output_type": "execute_result"
        }
      ],
      "source": [
        "fies2019['Nome mantenedora'][(fies2019['Nome mantenedora'].str.replace(' ','', regex=False).str.replace('-', '', regex=False).str.replace('.', '', regex=False).str.replace(',', '', regex=False).str.replace('/', '', regex=False).str.replace('&', '', regex=False).str.replace('(', '', regex=False).str.replace(')', '', regex=False).str.replace(\"'\", '', regex=False).str.replace('\"', '', regex=False).str.isalnum() != True)].unique()"
      ]
    },
    {
      "cell_type": "markdown",
      "metadata": {},
      "source": [
        "### Natureza Jurídica Mantenedora"
      ]
    },
    {
      "cell_type": "code",
      "execution_count": 447,
      "metadata": {},
      "outputs": [
        {
          "data": {
            "text/plain": [
              "array(['PESSOA JURÍDICA DE DIREITO PRIVADO - SEM FINS LUCRATIVOS - ASSOCIAÇÃO DE UTILIDADE PÚBLICA',\n",
              "       'PRIVADA SEM FINS LUCRATIVOS',\n",
              "       'PESSOA JURÍDICA DE DIREITO PÚBLICO - MUNICIPAL',\n",
              "       'PESSOA JURÍDICA DE DIREITO PRIVADO - SEM FINS LUCRATIVOS - FUNDAÇÃO',\n",
              "       'PRIVADA COM FINS LUCRATIVOS',\n",
              "       'FUNDAÇÃO PÚBLICA DE DIREITO PRIVADO MUNICIPAL',\n",
              "       'PESSOA JURÍDICA DE DIREITO PRIVADO - COM FINS LUCRATIVOS - SOCIEDADE CIVIL',\n",
              "       'PESSOA JURÍDICA DE DIREITO PRIVADO - SEM FINS LUCRATIVOS - SOCIEDADE',\n",
              "       'PESSOA JURÍDICA DE DIREITO PRIVADO - COM FINS LUCRATIVOS - SOCIEDADE MERCANTIL OU COMERCIAL'],\n",
              "      dtype=object)"
            ]
          },
          "execution_count": 447,
          "metadata": {},
          "output_type": "execute_result"
        }
      ],
      "source": [
        "fies2019['Natureza Jurídica Mantenedora'].unique()"
      ]
    },
    {
      "cell_type": "code",
      "execution_count": 448,
      "metadata": {},
      "outputs": [
        {
          "data": {
            "text/plain": [
              "ASSUPERO ENSINO SUPERIOR LTDA.                       8179\n",
              "SOCIEDADE DE ENSINO SUPERIOR ESTACIO DE SA LTDA      7703\n",
              "SER EDUCACIONAL S.A.                                 6798\n",
              "ANHANGUERA EDUCACIONAL PARTICIPACOES S/A             6365\n",
              "ASSOCIACAO EDUCACIONAL NOVE DE JULHO                 5085\n",
              "                                                     ... \n",
              "INSTITUICAO ADVENTISTA SUL BRASILEIRA DE EDUCACAO       1\n",
              "FUNDACAO EDUCACIONAL LUIZ REID                          1\n",
              "FACULDADES XV DE AGOSTO LTDA - EPP                      1\n",
              "ENSIGEST - BRASIL LTDA - EPP                            1\n",
              "DAMA CENTRO DE EDUCACAO E TECNOLOGIA LTDA - ME          1\n",
              "Name: Nome mantenedora, Length: 764, dtype: int64"
            ]
          },
          "execution_count": 448,
          "metadata": {},
          "output_type": "execute_result"
        }
      ],
      "source": [
        "fies2019['Nome mantenedora'].value_counts()"
      ]
    },
    {
      "cell_type": "markdown",
      "metadata": {},
      "source": [
        "### Analisando Nome da IES"
      ]
    },
    {
      "cell_type": "code",
      "execution_count": 449,
      "metadata": {},
      "outputs": [
        {
          "data": {
            "text/plain": [
              "array(['PONTIFÍCIA UNIVERSIDADE CATÓLICA DO PARANÁ',\n",
              "       'UNIVERSIDADE CATÓLICA DE PERNAMBUCO',\n",
              "       'UNIVERSIDADE DE CAXIAS DO SUL', ...,\n",
              "       'FACULDADE KENNEDY DE BELO HORIZONTE',\n",
              "       'FACULDADE FUNORTE DE JANUÁRIA', 'FACULDADE FUNORTE DE JANAÚBA'],\n",
              "      dtype=object)"
            ]
          },
          "execution_count": 449,
          "metadata": {},
          "output_type": "execute_result"
        }
      ],
      "source": [
        "fies2019['Nome da IES'].unique()"
      ]
    },
    {
      "cell_type": "code",
      "execution_count": null,
      "metadata": {},
      "outputs": [],
      "source": []
    },
    {
      "cell_type": "code",
      "execution_count": 459,
      "metadata": {},
      "outputs": [
        {
          "data": {
            "text/plain": [
              "array(['ESCOLA SUPERIOR DE SAÃ\\x8aDE DE ARCOVERDE',\n",
              "       'FACULDADE VISCONDE DE CAIRÃ\\x8a',\n",
              "       'FACULDADES INTEGRADAS VIANNA JÃ\\x8aNIOR',\n",
              "       'FACULDADE DE DIREITO DE ITÃ\\x8a'], dtype=object)"
            ]
          },
          "execution_count": 459,
          "metadata": {},
          "output_type": "execute_result"
        }
      ],
      "source": [
        "fies2019['Nome da IES'][(fies2019['Nome da IES'].str.replace(' ','', regex=False).str.replace('-', '', regex=False).str.replace('.', '', regex=False).str.replace(',', '', regex=False).str.replace('/', '', regex=False).str.replace('&', '', regex=False).str.replace('(', '', regex=False).str.replace(')', '', regex=False).str.replace(\"'\", '', regex=False).str.replace('\"', '', regex=False).str.isalnum() != True)].unique()"
      ]
    },
    {
      "cell_type": "markdown",
      "metadata": {},
      "source": [
        "### Analisando Organização Acadêmica da IES"
      ]
    },
    {
      "cell_type": "markdown",
      "metadata": {},
      "source": [
        "Primeiramente são avaliados os tipos de valores diferentes informados para este campo, por meio do comando \"unique\""
      ]
    },
    {
      "cell_type": "code",
      "execution_count": 460,
      "metadata": {},
      "outputs": [
        {
          "data": {
            "text/plain": [
              "array(['UNIVERSIDADE', 'CENTRO UNIVERSITÁRIO', 'FACULDADE '], dtype=object)"
            ]
          },
          "execution_count": 460,
          "metadata": {},
          "output_type": "execute_result"
        }
      ],
      "source": [
        "fies2019['Organização Acadêmica da IES'].unique()"
      ]
    },
    {
      "cell_type": "markdown",
      "metadata": {},
      "source": [
        "Para visualizar a distribuição destes valores, o comando \"value_counts\" foi utilizado"
      ]
    },
    {
      "cell_type": "code",
      "execution_count": 461,
      "metadata": {},
      "outputs": [
        {
          "data": {
            "text/plain": [
              "FACULDADE               99587\n",
              "CENTRO UNIVERSITÁRIO    74522\n",
              "UNIVERSIDADE            58332\n",
              "Name: Organização Acadêmica da IES, dtype: int64"
            ]
          },
          "execution_count": 461,
          "metadata": {},
          "output_type": "execute_result"
        }
      ],
      "source": [
        "fies2019['Organização Acadêmica da IES'].value_counts()"
      ]
    },
    {
      "cell_type": "markdown",
      "metadata": {},
      "source": [
        "Como os dados em questão estão coerentes, não serão necessárias verificações extras"
      ]
    },
    {
      "cell_type": "markdown",
      "metadata": {},
      "source": [
        "### Analisando UF do Local de Oferta "
      ]
    },
    {
      "cell_type": "markdown",
      "metadata": {},
      "source": [
        "Primeiramente são avaliados os tipos de valores diferentes informados para este campo, por meio do comando \"unique\""
      ]
    },
    {
      "cell_type": "code",
      "execution_count": null,
      "metadata": {},
      "outputs": [
        {
          "data": {
            "text/plain": [
              "array(['PR', 'PE', 'RS', 'MG', 'SP', 'RJ', 'BA', 'MS', 'ES', 'SC', 'GO',\n",
              "       'PB', 'SE', 'AL', 'DF', 'TO', 'CE', 'AM', 'RN', 'PI', 'PA', 'MA',\n",
              "       'AP', 'RO', 'MT', 'RR', 'AC'], dtype=object)"
            ]
          },
          "execution_count": 362,
          "metadata": {},
          "output_type": "execute_result"
        }
      ],
      "source": [
        "fies2019['UF do Local de Oferta'].unique()"
      ]
    },
    {
      "cell_type": "markdown",
      "metadata": {},
      "source": [
        "Para visualizar a distribuição destes valores, o comando \"value_counts\" foi utilizado"
      ]
    },
    {
      "cell_type": "code",
      "execution_count": null,
      "metadata": {},
      "outputs": [
        {
          "data": {
            "text/plain": [
              "SP    32897\n",
              "MG    28753\n",
              "BA    18581\n",
              "CE    17465\n",
              "RJ    16380\n",
              "PE    13043\n",
              "PA    11803\n",
              "PB     9518\n",
              "MA     9367\n",
              "DF     8724\n",
              "PR     8637\n",
              "GO     7121\n",
              "RS     7017\n",
              "AM     6737\n",
              "PI     6718\n",
              "AL     3866\n",
              "RN     3804\n",
              "SE     3109\n",
              "RO     3075\n",
              "ES     2904\n",
              "MT     2773\n",
              "TO     2704\n",
              "SC     2204\n",
              "AP     1946\n",
              "MS     1666\n",
              "AC     1255\n",
              "RR      374\n",
              "Name: UF do Local de Oferta, dtype: int64"
            ]
          },
          "execution_count": 364,
          "metadata": {},
          "output_type": "execute_result"
        }
      ],
      "source": [
        "fies2019['UF do Local de Oferta'].value_counts()"
      ]
    },
    {
      "cell_type": "markdown",
      "metadata": {},
      "source": [
        "Como os dados em questão estão coerentes, não serão necessárias verificações extras"
      ]
    },
    {
      "cell_type": "markdown",
      "metadata": {},
      "source": [
        "### Analisando Nome do curso "
      ]
    },
    {
      "cell_type": "markdown",
      "metadata": {},
      "source": [
        "Primeiramente são avaliados os tipos de valores diferentes informados para este campo, por meio do comando \"unique\""
      ]
    },
    {
      "cell_type": "code",
      "execution_count": null,
      "metadata": {},
      "outputs": [
        {
          "data": {
            "text/plain": [
              "array(['DIREITO', 'ENGENHARIA CIVIL', 'ARQUITETURA E URBANISMO',\n",
              "       'PSICOLOGIA', 'MEDICINA', 'ODONTOLOGIA',\n",
              "       'ENGENHARIA DA COMPUTAÇÃO', 'ENGENHARIA MECÂNICA',\n",
              "       'ENGENHARIA QUÍMICA', 'ADMINISTRAÇÃO',\n",
              "       'COMUNICAÇÃO SOCIAL - PUBLICIDADE E PROPAGANDA', 'EDUCAÇÃO FÍSICA',\n",
              "       'ENGENHARIA DE PRODUÇÃO', 'MEDICINA VETERINÁRIA', 'DESIGN',\n",
              "       'HISTÓRIA', 'CIÊNCIA DA COMPUTAÇÃO', 'JORNALISMO',\n",
              "       'SERVIÇO SOCIAL', 'CIÊNCIAS CONTÁBEIS', 'CIÊNCIAS ECONÔMICAS',\n",
              "       'HOTELARIA', 'CIÊNCIAS BIOLÓGICAS', 'RELAÇÕES PÚBLICAS',\n",
              "       'ENGENHARIA AMBIENTAL', 'ENFERMAGEM', 'FISIOTERAPIA',\n",
              "       'ENGENHARIA ELÉTRICA', 'SISTEMAS DE INFORMAÇÃO', 'FARMÁCIA',\n",
              "       'NUTRIÇÃO', 'AGRONOMIA', 'ENGENHARIA DE CONTROLE E AUTOMAÇÃO',\n",
              "       'PEDAGOGIA', 'COMÉRCIO INTERNACIONAL', 'DESIGN DE MODA',\n",
              "       'RADIOLOGIA', 'GASTRONOMIA',\n",
              "       'ANÁLISE E DESENVOLVIMENTO DE SISTEMAS',\n",
              "       'ENGENHARIA DE COMPUTAÇÃO', 'ESTÉTICA E COSMÉTICA',\n",
              "       'ENGENHARIA AMBIENTAL E SANITÁRIA',\n",
              "       'GESTÃO DA PRODUÇÃO INDUSTRIAL', 'LOGÍSTICA', 'BIOMEDICINA',\n",
              "       'LETRAS - PORTUGUÊS E INGLÊS', 'SISTEMA DE INFORMAÇÃO',\n",
              "       'ENGENHARIA DE ALIMENTOS', 'ZOOTECNIA', 'FÍSICA MÉDICA',\n",
              "       'GESTÃO COMERCIAL', 'GESTÃO DE RECURSOS HUMANOS',\n",
              "       'LETRAS - INGLÊS', 'LETRAS - LÍNGUA PORTUGUESA', 'TEOLOGIA',\n",
              "       'PUBLICIDADE E PROPAGANDA', 'DESIGN GRÁFICO', 'FOTOGRAFIA',\n",
              "       'ENGENHARIA AGRONÔMICA', 'ENGENHARIA DE TELECOMUNICAÇÕES',\n",
              "       'ENGENHARIA BIOMÉDICA', 'ENGENHARIA DE SOFTWARE',\n",
              "       'GESTÃO FINANCEIRA', 'MARKETING', 'DESIGN DE INTERIORES',\n",
              "       'JOGOS DIGITAIS', 'PRODUÇÃO AUDIOVISUAL', 'LETRAS',\n",
              "       'TERAPIA OCUPACIONAL', 'TEATRO', 'COMÉRCIO EXTERIOR',\n",
              "       'GESTÃO DE EQUINOCULTURA', 'GESTÃO DA QUALIDADE',\n",
              "       'PROCESSOS GERENCIAIS', 'ARTES VISUAIS',\n",
              "       'ENGENHARIA DE BIOPROCESSOS E BIOTECNOLOGIA',\n",
              "       'RELAÇÕES INTERNACIONAIS', 'FONOAUDIOLOGIA',\n",
              "       'COMUNICAÇÃO SOCIAL - JORNALISMO', 'ENGENHARIA DE PRODUÇÃO CIVIL',\n",
              "       'CIÊNCIAS AERONÁUTICAS', 'NEGÓCIOS INTERNACIONAIS',\n",
              "       'REDES DE COMPUTADORES', 'ESTÉTICA', 'ENGENHARIA AERONÁUTICA',\n",
              "       'COMPUTAÇÃO GRÁFICA', 'MÚSICA', 'PRODUÇÃO CULTURAL',\n",
              "       'MÚSICA - MÚSICA POPULAR BRASILEIRA', 'MÚSICA E TECNOLOGIA',\n",
              "       'GESTÃO AMBIENTAL', 'TURISMO', 'SECRETARIADO EXECUTIVO',\n",
              "       'GESTÃO DE SEGURANÇA PRIVADA',\n",
              "       'GESTÃO DA TECNOLOGIA DA INFORMAÇÃO', 'EVENTOS',\n",
              "       'PRODUÇÃO FONOGRÁFICA', 'REDES DE TELECOMUNICAÇÕES', 'MATEMÁTICA',\n",
              "       'SISTEMAS PARA INTERNET', 'CINEMA E AUDIOVISUAL',\n",
              "       'AUTOMAÇÃO INDUSTRIAL', 'ENGENHARIA DE PETRÓLEO', 'MODA',\n",
              "       'LETRAS - ESPANHOL', 'ENGENHARIA MECATRÔNICA', 'CINEMA',\n",
              "       'GEOGRAFIA', 'COMUNICAÇÃO SOCIAL - RELAÇÕES PÚBLICAS',\n",
              "       'RÁDIO, TV E INTERNET', 'FILOSOFIA',\n",
              "       'LETRAS - TRADUTOR E INTÉRPRETE',\n",
              "       'COMUNICAÇÃO SOCIAL - RADIALISMO (RÁDIO E TV)',\n",
              "       'ENGENHARIA ELETRÔNICA', 'ENGENHARIA DE MATERIAIS',\n",
              "       'ENGENHARIA DE ENERGIA', 'ENGENHARIA DE AGRIMENSURA',\n",
              "       'CIÊNCIAS DE DADOS', 'BIOINFORMÁTICA', 'QUÍMICA', 'AGRONEGÓCIO',\n",
              "       'ENGENHARIA AERONÁUTICA E ESPAÇO',\n",
              "       'COMUNICAÇÃO SOCIAL - RADIO E TELEVISÃO',\n",
              "       'ESTÉTICA E COSMETOLOGIA', 'BIOLOGIA', 'INFORMÁTICA',\n",
              "       'PRODUÇÃO EM MÍDIA AUDIOVISUAL', 'LETRAS - PORTUGUÊS E ESPANHOL',\n",
              "       'ENGENHARIA DE MINAS', 'GESTÃO HOSPITALAR', 'GESTÃO PÚBLICA',\n",
              "       'CAFEICULTURA', 'BIBLIOTECONOMIA', 'SOCIOLOGIA E POLÍTICA',\n",
              "       'CIÊNCIAS ATUARIAIS', 'MUSICOTERAPIA',\n",
              "       'SECRETARIADO EXECUTIVO TRILÍNGUE', 'PRODUÇÃO PUBLICITÁRIA',\n",
              "       'CONSTRUÇÃO DE EDIFÍCIOS', 'CIÊNCIAS SOCIAIS',\n",
              "       'ELETRÔNICA INDUSTRIAL', 'SISTEMAS DE TELECOMUNICAÇÕES',\n",
              "       'PRODUÇÃO MULTIMÍDIA', 'COMUNICAÇÃO E MARKETING',\n",
              "       'SEGURANÇA DA INFORMAÇÃO', 'MANUTENÇÃO INDUSTRIAL',\n",
              "       'DESIGN VISUAL', 'CIÊNCIA POLÍTICA', 'LETRAS - PORTUGUÊS',\n",
              "       'BIG DATA E INTELIGÊNCIA ANALÍTICA', 'MANUTENÇÃO DE AERONAVES',\n",
              "       'ARTES CÊNICAS', 'DANÇA', 'COMUNICAÇÃO INSTITUCIONAL',\n",
              "       'BANCO DE DADOS', 'PILOTAGEM PROFISSIONAL DE AERONAVES',\n",
              "       'PETRÓLEO E GÁS', 'SEGURANÇA NO TRABALHO', 'SISTEMAS ELÉTRICOS',\n",
              "       'CIÊNCIAS DA ACUPUNTURA', 'NEGÓCIOS DA MODA', 'QUIROPRAXIA',\n",
              "       'DESIGN DIGITAL', 'AVIAÇÃO CIVIL', 'NATUROLOGIA',\n",
              "       'DESIGN DE GAMES', 'CIÊNCIAS DA COMPUTAÇÃO', 'PODOLOGIA',\n",
              "       'DESIGN DE ANIMAÇÃO', 'ENGENHARIA CIVIL E AMBIENTAL',\n",
              "       'LETRAS - PORTUGUÊS E LITERATURA', 'ÓPTICA E OPTOMETRIA', 'FÍSICA',\n",
              "       'CIÊNCIAS BIOLÓGICAS - MODALIDADE MÉDICA', 'ENERGIAS RENOVÁVEIS',\n",
              "       'GESTÃO DE PRODUÇÃO INDUSTRIAL', 'GESTÃO PORTUÁRIA',\n",
              "       'MARKETING DIGITAL',\n",
              "       'LETRAS - LÍNGUA PORTUGUESA, LÍNGUA INGLESA E RESPECTIVAS LITERATURAS',\n",
              "       'ORGANIZAÇÃO DE SERVIÇOS JUDICIÁRIOS', 'SERVIÇOS PENAIS',\n",
              "       'SEGURANÇA NO TRÂNSITO', 'PRODUÇÃO AGRÍCOLA',\n",
              "       'ESTÉTICA, BELEZA E IMAGEM PESSOAL', 'DESIGN DE MODA - ESTILISMO',\n",
              "       'AUDIOVISUAL', 'ENGENHARIA DE PETRÓLEO E GÁS',\n",
              "       'GESTÃO DE SERVIÇOS JURÍDICOS E NOTARIAIS',\n",
              "       'GESTÃO DE COOPERATIVAS', 'ENGENHARIA FLORESTAL',\n",
              "       'PAPEL E CELULOSE', 'PROCESSOS QUÍMICOS', 'SERVIÇOS JUDICIAIS',\n",
              "       'ENGENHARIA', 'COMUNICAÇÃO SOCIAL - CINEMA E MÍDIAS DIGITAIS',\n",
              "       'CIÊNCIA DE DADOS E INTELIGÊNCIA ARTIFICIAL',\n",
              "       'RADIO, TV E INTERNET', 'GESTÃO EXECUTIVA DE NEGÓCIOS',\n",
              "       'PSICOPEDAGOGIA', 'GEOLOGIA',\n",
              "       'LETRAS - LÍNGUA PORTUGUESA E LIBRAS', 'MECATRÔNICA INDUSTRIAL',\n",
              "       'COMUNICAÇÃO SOCIAL', 'ADMINISTRAÇÃO DE EMPRESAS', 'OFTÁLMICA',\n",
              "       'GERENCIAMENTO DE REDES DE COMPUTADORES', 'COSMÉTICOS',\n",
              "       'ELETROTÉCNICA INDUSTRIAL', 'ENGENHARIA METALÚRGICA',\n",
              "       'ENGENHARIA INDUSTRIAL MECÂNICA', 'SISTEMAS BIOMÉDICOS',\n",
              "       'PROGRAMA ESPECIAL DE FORMAÇÃO PEDAGÓGICA DE DOCENTES - FILOSOFIA',\n",
              "       'PROGRAMA ESPECIAL DE FORMAÇÃO PEDAGÓGICA DE DOCENTES - HISTÓRIA',\n",
              "       'PROGRAMA ESPECIAL DE FORMAÇÃO PEDAGÓGICA DE DOCENTES - GEOGRAFIA',\n",
              "       'PROGRAMA ESPECIAL DE FORMAÇÃO PEDAGÓGICA DE DOCENTES - QUÍMICA',\n",
              "       'PROGRAMA ESPECIAL DE FORMAÇÃO PEDAGÓGICA DE DOCENTES - FÍSICA',\n",
              "       'SUCROALCOOLEIRA', 'GESTÃO DO AGRONEGÓCIO', 'GESTÃO DE TURISMO',\n",
              "       'NEGÓCIOS IMOBILIÁRIOS', 'ADMINISTRAÇÃO PÚBLICA',\n",
              "       'BIOCOMBUSTÍVEIS', 'CONSTRUÇÃO NAVAL',\n",
              "       'REFRIGERAÇÃO E CLIMATIZAÇÃO', 'COMUNICAÇÃO SOCIAL  - RADIALISMO',\n",
              "       'TECNÓLOGO EM METALURGIA', 'DEFESA CIBERNÉTICA',\n",
              "       'ENGENHARIA AUTOMOTIVA',\n",
              "       'FORMAÇÃO PEDAGÓGICA PARA PORTADORES DE ENSINO SUPERIOR',\n",
              "       'SEGURANÇA PÚBLICA', 'GERONTOLOGIA', 'AGROPECUÁRIA', 'OPTOMETRIA',\n",
              "       'PUBLICIDADE', 'ENGENHARIA AMBIENTAL E ENERGIAS RENOVÁVEIS',\n",
              "       'ENGENHARIA AGRÍCOLA E AMBIENTAL', 'TEOLOGIA PASTORAL',\n",
              "       'DESIGN DE PRODUTO', 'CIÊNCIAS TEOLÓGICAS', 'CIÊNCIAS DA RELIGIÃO',\n",
              "       'BIOTECNOLOGIA', 'PROPAGANDA E MARKETING', 'GESTÃO EMPREENDEDORA',\n",
              "       'SECRETARIADO EXECUTIVO - BILINGUE', 'SEGURANÇA PRIVADA',\n",
              "       'CIÊNCIA ECONÔMICA', 'ONTOPSICOLOGIA', 'FABRICAÇÃO MECÂNICA',\n",
              "       'SOLDAGEM', 'FORMAÇÃO DE DOCENTES PARA A EDUCAÇÃO BÁSICA',\n",
              "       'GESTÃO DESPORTIVA E DE LAZER',\n",
              "       'LETRAS - LÍNGUA PORTUGUESA E LITERATURAS DE LÍNGUA PORTUGUESA',\n",
              "       'LETRAS - PORTUGUÊS E INGLÊS E RESPECTIVAS LITERATURAS',\n",
              "       'ENGENHARIA CARTOGRÁFICA E DE AGRIMENSURA', 'TRANSPORTE TERRESTRE'],\n",
              "      dtype=object)"
            ]
          },
          "execution_count": 367,
          "metadata": {},
          "output_type": "execute_result"
        }
      ],
      "source": [
        "fies2019['Nome do curso'].unique()"
      ]
    },
    {
      "cell_type": "markdown",
      "metadata": {},
      "source": [
        "Como os dados em questão estão coerentes, não serão necessárias verificações extras"
      ]
    },
    {
      "cell_type": "markdown",
      "metadata": {},
      "source": [
        "### Analisando Turno"
      ]
    },
    {
      "cell_type": "markdown",
      "metadata": {},
      "source": [
        "Primeiramente são avaliados os tipos de valores diferentes informados para este campo, por meio do comando \"unique\""
      ]
    },
    {
      "cell_type": "code",
      "execution_count": null,
      "metadata": {},
      "outputs": [
        {
          "data": {
            "text/plain": [
              "array(['NOTURNO', 'MATUTINO', 'INTEGRAL', 'VESPERTINO'], dtype=object)"
            ]
          },
          "execution_count": 373,
          "metadata": {},
          "output_type": "execute_result"
        }
      ],
      "source": [
        "fies2019['Turno'].unique()"
      ]
    },
    {
      "cell_type": "markdown",
      "metadata": {},
      "source": [
        "Para visualizar a distribuição destes valores, o comando \"value_counts\" foi utilizado"
      ]
    },
    {
      "cell_type": "code",
      "execution_count": null,
      "metadata": {},
      "outputs": [
        {
          "data": {
            "text/plain": [
              "NOTURNO       125017\n",
              "MATUTINO       60835\n",
              "INTEGRAL       36648\n",
              "VESPERTINO      9941\n",
              "Name: Turno, dtype: int64"
            ]
          },
          "execution_count": 375,
          "metadata": {},
          "output_type": "execute_result"
        }
      ],
      "source": [
        "fies2019['Turno'].value_counts()"
      ]
    },
    {
      "cell_type": "markdown",
      "metadata": {},
      "source": [
        "Como os dados em questão estão coerentes, não serão necessárias verificações extras"
      ]
    },
    {
      "cell_type": "markdown",
      "metadata": {},
      "source": [
        "### Analisando Média nota Enem "
      ]
    },
    {
      "cell_type": "markdown",
      "metadata": {},
      "source": [
        "Este campo está armazenado no dataframe como um objeto. Todavia, este campo deve possuir valor real, no caso, float. \n",
        "\n",
        "Para a análise não ser prejudicada por valores nulos, estes foram removidos da tabela."
      ]
    },
    {
      "cell_type": "code",
      "execution_count": 451,
      "metadata": {},
      "outputs": [],
      "source": [
        "fies2019 = fies2019.dropna(subset=\"Média nota Enem\")"
      ]
    },
    {
      "cell_type": "markdown",
      "metadata": {},
      "source": [
        "Ao observar os valores por meio do value_counts, pode-se perceber que estes foram considerados como string pois foram armazenados com vírgulas, quando, na verdade, para serem reconhecidos como numéricos, deveriam ser armazenados com pontos."
      ]
    },
    {
      "cell_type": "code",
      "execution_count": 452,
      "metadata": {},
      "outputs": [
        {
          "data": {
            "text/plain": [
              "502,48    66\n",
              "542,62    64\n",
              "491       63\n",
              "489,62    62\n",
              "504,96    62\n",
              "          ..\n",
              "659,46     1\n",
              "758,88     1\n",
              "726,32     1\n",
              "751,82     1\n",
              "753,62     1\n",
              "Name: Média nota Enem, Length: 15428, dtype: int64"
            ]
          },
          "execution_count": 452,
          "metadata": {},
          "output_type": "execute_result"
        }
      ],
      "source": [
        "fies2019['Média nota Enem'].value_counts()"
      ]
    },
    {
      "cell_type": "markdown",
      "metadata": {},
      "source": [
        "Sendo assim, foi necessária a substituição das vírgulas por pontos para a coluna em questão do dataset"
      ]
    },
    {
      "cell_type": "code",
      "execution_count": 453,
      "metadata": {},
      "outputs": [],
      "source": [
        "fies2019['Média nota Enem'] = fies2019['Média nota Enem'].str.replace(',', '.')"
      ]
    },
    {
      "cell_type": "markdown",
      "metadata": {},
      "source": [
        "Uma vez que as vírgulas foram removidas, é possível atualizar a coluna em questão para esta receber um valor numérico"
      ]
    },
    {
      "cell_type": "code",
      "execution_count": 454,
      "metadata": {},
      "outputs": [],
      "source": [
        "fies2019['Média nota Enem'] = pd.to_numeric(fies2019['Média nota Enem'])"
      ]
    },
    {
      "cell_type": "code",
      "execution_count": 455,
      "metadata": {},
      "outputs": [
        {
          "data": {
            "text/plain": [
              "0         592.66\n",
              "1         626.32\n",
              "2         540.48\n",
              "3         663.88\n",
              "4         557.50\n",
              "           ...  \n",
              "271851    492.12\n",
              "271852    513.46\n",
              "271853    513.46\n",
              "271854    612.60\n",
              "271855    598.54\n",
              "Name: Média nota Enem, Length: 232441, dtype: float64"
            ]
          },
          "execution_count": 455,
          "metadata": {},
          "output_type": "execute_result"
        }
      ],
      "source": [
        "fies2019['Média nota Enem']"
      ]
    },
    {
      "cell_type": "code",
      "execution_count": 456,
      "metadata": {},
      "outputs": [
        {
          "data": {
            "text/plain": [
              "502.48    66\n",
              "542.62    64\n",
              "491.00    63\n",
              "489.62    62\n",
              "504.96    62\n",
              "          ..\n",
              "659.46     1\n",
              "758.88     1\n",
              "726.32     1\n",
              "751.82     1\n",
              "753.62     1\n",
              "Name: Média nota Enem, Length: 15428, dtype: int64"
            ]
          },
          "execution_count": 456,
          "metadata": {},
          "output_type": "execute_result"
        }
      ],
      "source": [
        "fies2019['Média nota Enem'].value_counts()"
      ]
    },
    {
      "cell_type": "markdown",
      "metadata": {},
      "source": [
        "Ao observar a organização do dataframe por meio do comando \"info\", pode-se perceber que este campo agora é reconhecido como float"
      ]
    },
    {
      "cell_type": "code",
      "execution_count": 457,
      "metadata": {},
      "outputs": [
        {
          "name": "stdout",
          "output_type": "stream",
          "text": [
            "<class 'pandas.core.frame.DataFrame'>\n",
            "Int64Index: 232441 entries, 0 to 271855\n",
            "Data columns (total 31 columns):\n",
            " #   Column                          Non-Null Count   Dtype         \n",
            "---  ------                          --------------   -----         \n",
            " 0   ID do estudante                 232441 non-null  int64         \n",
            " 1   Sexo                            232441 non-null  object        \n",
            " 2   Data de Nascimento              232441 non-null  datetime64[ns]\n",
            " 3   UF de residência                232432 non-null  object        \n",
            " 4   Etnia/Cor                       232441 non-null  object        \n",
            " 5   Pessoa com deficiência?         232441 non-null  object        \n",
            " 6   Ano conclusão ensino médio      232441 non-null  int64         \n",
            " 7   Concluiu curso superior?        232441 non-null  object        \n",
            " 8   Nº de membros Grupo Familiar    232441 non-null  int64         \n",
            " 9   Renda familiar mensal bruta     232441 non-null  float64       \n",
            " 10  Renda mensal bruta per capita   232441 non-null  float64       \n",
            " 11  UF                              232441 non-null  object        \n",
            " 12  Área do conhecimento            232441 non-null  object        \n",
            " 13  Subárea do conhecimento         232441 non-null  object        \n",
            " 14  Opções de cursos da inscrição   232441 non-null  int64         \n",
            " 15  Nome mantenedora                232441 non-null  object        \n",
            " 16  Natureza Jurídica Mantenedora   232441 non-null  object        \n",
            " 17  Nome da IES                     232441 non-null  object        \n",
            " 18  Organização Acadêmica da IES    232441 non-null  object        \n",
            " 19  UF do Local de Oferta           232441 non-null  object        \n",
            " 20  Nome do curso                   232441 non-null  object        \n",
            " 21  Turno                           232441 non-null  object        \n",
            " 22  Média nota Enem                 232441 non-null  float64       \n",
            " 23  Ano do Enem                     232441 non-null  int64         \n",
            " 24  Redação                         232441 non-null  int64         \n",
            " 25  Matemática e suas Tecnologias   232441 non-null  object        \n",
            " 26  Linguagens, Códigos e suas Tec  232441 non-null  object        \n",
            " 27  Ciências Natureza e suas Tec    232441 non-null  object        \n",
            " 28  Ciências Humanas e suas Tec     232441 non-null  object        \n",
            " 29  Situação Inscrição Fies         232441 non-null  object        \n",
            " 30  Semestre do financiamento       207784 non-null  object        \n",
            "dtypes: datetime64[ns](1), float64(3), int64(6), object(21)\n",
            "memory usage: 56.7+ MB\n"
          ]
        }
      ],
      "source": [
        "fies2019.info()"
      ]
    },
    {
      "cell_type": "markdown",
      "metadata": {},
      "source": [
        "### Analisando Matemática e suas Tecnologias"
      ]
    },
    {
      "cell_type": "markdown",
      "metadata": {},
      "source": [
        "Este campo está armazenado no dataframe como um objeto. Todavia, este campo deve possuir valor real, no caso, float. \n",
        "\n",
        "Para a análise não ser prejudicada por valores nulos, estes foram removidos da tabela."
      ]
    },
    {
      "cell_type": "code",
      "execution_count": 462,
      "metadata": {},
      "outputs": [],
      "source": [
        "fies2019 = fies2019.dropna(subset=\"Matemática e suas Tecnologias\")"
      ]
    },
    {
      "cell_type": "markdown",
      "metadata": {},
      "source": [
        "Ao observar os valores por meio do value_counts, pode-se perceber que estes foram considerados como string pois foram armazenados com vírgulas, quando, na verdade, para serem reconhecidos como numéricos, deveriam ser armazenados com pontos."
      ]
    },
    {
      "cell_type": "code",
      "execution_count": 463,
      "metadata": {},
      "outputs": [
        {
          "data": {
            "text/plain": [
              "483,6    145\n",
              "519,9    139\n",
              "493,4    139\n",
              "485,9    138\n",
              "436,8    137\n",
              "        ... \n",
              "809,5      1\n",
              "856,8      1\n",
              "886,6      1\n",
              "904,3      1\n",
              "824,1      1\n",
              "Name: Matemática e suas Tecnologias, Length: 5369, dtype: int64"
            ]
          },
          "execution_count": 463,
          "metadata": {},
          "output_type": "execute_result"
        }
      ],
      "source": [
        "fies2019['Matemática e suas Tecnologias'].value_counts()"
      ]
    },
    {
      "cell_type": "markdown",
      "metadata": {},
      "source": [
        "Sendo assim, foi necessária a substituição das vírgulas por pontos para a coluna em questão do dataset"
      ]
    },
    {
      "cell_type": "code",
      "execution_count": 464,
      "metadata": {},
      "outputs": [],
      "source": [
        "fies2019['Matemática e suas Tecnologias'] = fies2019['Matemática e suas Tecnologias'].str.replace(',', '.')"
      ]
    },
    {
      "cell_type": "markdown",
      "metadata": {},
      "source": [
        "Uma vez que as vírgulas foram removidas, é possível atualizar a coluna em questão para esta receber um valor numérico"
      ]
    },
    {
      "cell_type": "code",
      "execution_count": 465,
      "metadata": {},
      "outputs": [],
      "source": [
        "fies2019['Matemática e suas Tecnologias'] = pd.to_numeric(fies2019['Matemática e suas Tecnologias'])"
      ]
    },
    {
      "cell_type": "code",
      "execution_count": 466,
      "metadata": {},
      "outputs": [
        {
          "data": {
            "text/plain": [
              "0         735.6\n",
              "1         557.9\n",
              "2         530.7\n",
              "3         569.9\n",
              "4         591.3\n",
              "          ...  \n",
              "271851    579.9\n",
              "271852    656.2\n",
              "271853    656.2\n",
              "271854    603.8\n",
              "271855    586.5\n",
              "Name: Matemática e suas Tecnologias, Length: 232441, dtype: float64"
            ]
          },
          "execution_count": 466,
          "metadata": {},
          "output_type": "execute_result"
        }
      ],
      "source": [
        "fies2019['Matemática e suas Tecnologias']"
      ]
    },
    {
      "cell_type": "code",
      "execution_count": 467,
      "metadata": {},
      "outputs": [
        {
          "data": {
            "text/plain": [
              "483.6    145\n",
              "519.9    139\n",
              "493.4    139\n",
              "485.9    138\n",
              "436.8    137\n",
              "        ... \n",
              "809.5      1\n",
              "856.8      1\n",
              "886.6      1\n",
              "904.3      1\n",
              "824.1      1\n",
              "Name: Matemática e suas Tecnologias, Length: 5369, dtype: int64"
            ]
          },
          "execution_count": 467,
          "metadata": {},
          "output_type": "execute_result"
        }
      ],
      "source": [
        "fies2019['Matemática e suas Tecnologias'].value_counts()"
      ]
    },
    {
      "cell_type": "markdown",
      "metadata": {},
      "source": [
        "Ao observar a organização do dataframe por meio do comando \"info\", pode-se perceber que este campo agora é reconhecido como float"
      ]
    },
    {
      "cell_type": "code",
      "execution_count": 468,
      "metadata": {},
      "outputs": [
        {
          "name": "stdout",
          "output_type": "stream",
          "text": [
            "<class 'pandas.core.frame.DataFrame'>\n",
            "Int64Index: 232441 entries, 0 to 271855\n",
            "Data columns (total 31 columns):\n",
            " #   Column                          Non-Null Count   Dtype         \n",
            "---  ------                          --------------   -----         \n",
            " 0   ID do estudante                 232441 non-null  int64         \n",
            " 1   Sexo                            232441 non-null  object        \n",
            " 2   Data de Nascimento              232441 non-null  datetime64[ns]\n",
            " 3   UF de residência                232432 non-null  object        \n",
            " 4   Etnia/Cor                       232441 non-null  object        \n",
            " 5   Pessoa com deficiência?         232441 non-null  object        \n",
            " 6   Ano conclusão ensino médio      232441 non-null  int64         \n",
            " 7   Concluiu curso superior?        232441 non-null  object        \n",
            " 8   Nº de membros Grupo Familiar    232441 non-null  int64         \n",
            " 9   Renda familiar mensal bruta     232441 non-null  float64       \n",
            " 10  Renda mensal bruta per capita   232441 non-null  float64       \n",
            " 11  UF                              232441 non-null  object        \n",
            " 12  Área do conhecimento            232441 non-null  object        \n",
            " 13  Subárea do conhecimento         232441 non-null  object        \n",
            " 14  Opções de cursos da inscrição   232441 non-null  int64         \n",
            " 15  Nome mantenedora                232441 non-null  object        \n",
            " 16  Natureza Jurídica Mantenedora   232441 non-null  object        \n",
            " 17  Nome da IES                     232441 non-null  object        \n",
            " 18  Organização Acadêmica da IES    232441 non-null  object        \n",
            " 19  UF do Local de Oferta           232441 non-null  object        \n",
            " 20  Nome do curso                   232441 non-null  object        \n",
            " 21  Turno                           232441 non-null  object        \n",
            " 22  Média nota Enem                 232441 non-null  float64       \n",
            " 23  Ano do Enem                     232441 non-null  int64         \n",
            " 24  Redação                         232441 non-null  int64         \n",
            " 25  Matemática e suas Tecnologias   232441 non-null  float64       \n",
            " 26  Linguagens, Códigos e suas Tec  232441 non-null  object        \n",
            " 27  Ciências Natureza e suas Tec    232441 non-null  object        \n",
            " 28  Ciências Humanas e suas Tec     232441 non-null  object        \n",
            " 29  Situação Inscrição Fies         232441 non-null  object        \n",
            " 30  Semestre do financiamento       207784 non-null  object        \n",
            "dtypes: datetime64[ns](1), float64(4), int64(6), object(20)\n",
            "memory usage: 56.7+ MB\n"
          ]
        }
      ],
      "source": [
        "fies2019.info()"
      ]
    },
    {
      "cell_type": "markdown",
      "metadata": {},
      "source": [
        "### Analisando Linguagens, Códigos e suas Tec"
      ]
    },
    {
      "cell_type": "markdown",
      "metadata": {},
      "source": [
        "### Analisando Ciências Natureza e suas Tec"
      ]
    },
    {
      "cell_type": "markdown",
      "metadata": {},
      "source": [
        "### Analisando Ciências Humanas e suas Tec "
      ]
    },
    {
      "cell_type": "markdown",
      "metadata": {},
      "source": [
        "### Analisando Situação Inscrição Fies"
      ]
    },
    {
      "cell_type": "markdown",
      "metadata": {},
      "source": [
        "### Analisando Semestre do financiamento"
      ]
    }
  ],
  "metadata": {
    "colab": {
      "name": "TpDados.ipynb",
      "provenance": []
    },
    "kernelspec": {
      "display_name": "Python 3.8.10 ('ambiente-dados1': venv)",
      "language": "python",
      "name": "python3"
    },
    "language_info": {
      "codemirror_mode": {
        "name": "ipython",
        "version": 3
      },
      "file_extension": ".py",
      "mimetype": "text/x-python",
      "name": "python",
      "nbconvert_exporter": "python",
      "pygments_lexer": "ipython3",
      "version": "3.8.10"
    },
    "vscode": {
      "interpreter": {
        "hash": "3b87f650c95fe6cb6ad4f13c18c302f56e0e588f9f3805ad9874556f17797c34"
      }
    }
  },
  "nbformat": 4,
  "nbformat_minor": 0
}
