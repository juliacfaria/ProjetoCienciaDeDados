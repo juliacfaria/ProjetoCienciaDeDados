{
  "cells": [
    {
      "cell_type": "code",
      "execution_count": null,
      "metadata": {
        "colab": {
          "base_uri": "https://localhost:8080/"
        },
        "id": "mBGrV10gE7dF",
        "outputId": "0cba1d56-a9d7-480b-9eaf-fc80c3fc32a0"
      },
      "outputs": [
        {
          "ename": "",
          "evalue": "",
          "output_type": "error",
          "traceback": [
            "\u001b[1;31mRunning cells with 'Python 3.9.7 64-bit (system)' requires ipykernel package.\n",
            "Run the following command to install 'ipykernel' into the Python environment. \n",
            "Command: 'c:/msys64/mingw64/bin/python.exe -m pip install ipykernel -U --user --force-reinstall'"
          ]
        }
      ],
      "source": [
        "!wget https://media.githubusercontent.com/media/juliacfaria/arquivosTPDados/main/DadosLimpos/dadosLimpos2019.csv"
      ]
    },
    {
      "cell_type": "code",
      "execution_count": null,
      "metadata": {
        "colab": {
          "base_uri": "https://localhost:8080/"
        },
        "id": "I5FKnu3_3nqk",
        "outputId": "45c13367-b496-4608-c3a4-b68f77de49dd"
      },
      "outputs": [
        {
          "ename": "",
          "evalue": "",
          "output_type": "error",
          "traceback": [
            "\u001b[1;31mRunning cells with 'Python 3.9.7 64-bit (system)' requires ipykernel package.\n",
            "Run the following command to install 'ipykernel' into the Python environment. \n",
            "Command: 'c:/msys64/mingw64/bin/python.exe -m pip install ipykernel -U --user --force-reinstall'"
          ]
        }
      ],
      "source": [
        "!wget https://media.githubusercontent.com/media/juliacfaria/arquivosTPDados/main/DadosLimpos/dadosLimpos2020.csv"
      ]
    },
    {
      "cell_type": "code",
      "execution_count": null,
      "metadata": {
        "id": "mQNv0eJFLuSM"
      },
      "outputs": [
        {
          "ename": "",
          "evalue": "",
          "output_type": "error",
          "traceback": [
            "\u001b[1;31mRunning cells with 'Python 3.9.7 64-bit (system)' requires ipykernel package.\n",
            "Run the following command to install 'ipykernel' into the Python environment. \n",
            "Command: 'c:/msys64/mingw64/bin/python.exe -m pip install ipykernel -U --user --force-reinstall'"
          ]
        }
      ],
      "source": [
        "import pandas as pd\n",
        "import numpy as np\n",
        "import matplotlib.pyplot as plt\n",
        "import seaborn as sns"
      ]
    },
    {
      "cell_type": "code",
      "execution_count": null,
      "metadata": {
        "colab": {
          "base_uri": "https://localhost:8080/",
          "height": 748
        },
        "id": "OqGlXS8e1TRW",
        "outputId": "34d53b3b-9b2e-47a9-fb4c-6e895b90bffe"
      },
      "outputs": [
        {
          "data": {
            "text/html": [
              "<div>\n",
              "<style scoped>\n",
              "    .dataframe tbody tr th:only-of-type {\n",
              "        vertical-align: middle;\n",
              "    }\n",
              "\n",
              "    .dataframe tbody tr th {\n",
              "        vertical-align: top;\n",
              "    }\n",
              "\n",
              "    .dataframe thead th {\n",
              "        text-align: right;\n",
              "    }\n",
              "</style>\n",
              "<table border=\"1\" class=\"dataframe\">\n",
              "  <thead>\n",
              "    <tr style=\"text-align: right;\">\n",
              "      <th></th>\n",
              "      <th>Ano do processo seletivo</th>\n",
              "      <th>Semestre do processo seletivo</th>\n",
              "      <th>ID do estudante</th>\n",
              "      <th>Sexo</th>\n",
              "      <th>Data de Nascimento</th>\n",
              "      <th>UF de residência</th>\n",
              "      <th>Municipio de residência</th>\n",
              "      <th>Etnia/Cor</th>\n",
              "      <th>Pessoa com deficiência?</th>\n",
              "      <th>Tipo de escola no ensino médio</th>\n",
              "      <th>...</th>\n",
              "      <th>Ano do Enem</th>\n",
              "      <th>Redação</th>\n",
              "      <th>Matemática e suas Tecnologias</th>\n",
              "      <th>Linguagens, Códigos e suas Tec</th>\n",
              "      <th>Ciências Natureza e suas Tec</th>\n",
              "      <th>Ciências Humanas e suas Tec</th>\n",
              "      <th>Situação Inscrição Fies</th>\n",
              "      <th>Percentual de financiamento</th>\n",
              "      <th>Semestre do financiamento</th>\n",
              "      <th>Qtde semestre financiado</th>\n",
              "    </tr>\n",
              "  </thead>\n",
              "  <tbody>\n",
              "    <tr>\n",
              "      <th>0</th>\n",
              "      <td>2019</td>\n",
              "      <td>2</td>\n",
              "      <td>189538691</td>\n",
              "      <td>M</td>\n",
              "      <td>30/12/88</td>\n",
              "      <td>PR</td>\n",
              "      <td>CURITIBA</td>\n",
              "      <td>PARDA</td>\n",
              "      <td>NÃO</td>\n",
              "      <td>NÃO</td>\n",
              "      <td>...</td>\n",
              "      <td>2019</td>\n",
              "      <td>540</td>\n",
              "      <td>735,6</td>\n",
              "      <td>549</td>\n",
              "      <td>537,9</td>\n",
              "      <td>600,8</td>\n",
              "      <td>NÃO CONTRATADO</td>\n",
              "      <td>NaN</td>\n",
              "      <td></td>\n",
              "      <td>NaN</td>\n",
              "    </tr>\n",
              "    <tr>\n",
              "      <th>1</th>\n",
              "      <td>2019</td>\n",
              "      <td>2</td>\n",
              "      <td>185775473</td>\n",
              "      <td>M</td>\n",
              "      <td>11/12/94</td>\n",
              "      <td>PR</td>\n",
              "      <td>CURITIBA</td>\n",
              "      <td>BRANCA</td>\n",
              "      <td>NÃO</td>\n",
              "      <td>SIM</td>\n",
              "      <td>...</td>\n",
              "      <td>2018</td>\n",
              "      <td>700</td>\n",
              "      <td>557,9</td>\n",
              "      <td>624,8</td>\n",
              "      <td>562,7</td>\n",
              "      <td>686,2</td>\n",
              "      <td>OPÇÃO NÃO CONTRATADA</td>\n",
              "      <td>NaN</td>\n",
              "      <td>NaN</td>\n",
              "      <td>10.0</td>\n",
              "    </tr>\n",
              "    <tr>\n",
              "      <th>2</th>\n",
              "      <td>2019</td>\n",
              "      <td>2</td>\n",
              "      <td>185472589</td>\n",
              "      <td>M</td>\n",
              "      <td>21/11/90</td>\n",
              "      <td>PR</td>\n",
              "      <td>CURITIBA</td>\n",
              "      <td>BRANCA</td>\n",
              "      <td>NÃO</td>\n",
              "      <td>SIM</td>\n",
              "      <td>...</td>\n",
              "      <td>2013</td>\n",
              "      <td>480</td>\n",
              "      <td>530,7</td>\n",
              "      <td>602,9</td>\n",
              "      <td>506,5</td>\n",
              "      <td>582,3</td>\n",
              "      <td>NÃO CONTRATADO</td>\n",
              "      <td>NaN</td>\n",
              "      <td></td>\n",
              "      <td>NaN</td>\n",
              "    </tr>\n",
              "    <tr>\n",
              "      <th>3</th>\n",
              "      <td>2019</td>\n",
              "      <td>2</td>\n",
              "      <td>185575432</td>\n",
              "      <td>F</td>\n",
              "      <td>09/03/82</td>\n",
              "      <td>PR</td>\n",
              "      <td>CURITIBA</td>\n",
              "      <td>BRANCA</td>\n",
              "      <td>NÃO</td>\n",
              "      <td>NÃO</td>\n",
              "      <td>...</td>\n",
              "      <td>2018</td>\n",
              "      <td>640</td>\n",
              "      <td>569,9</td>\n",
              "      <td>728,8</td>\n",
              "      <td>653,6</td>\n",
              "      <td>727,1</td>\n",
              "      <td>NÃO CONTRATADO</td>\n",
              "      <td>NaN</td>\n",
              "      <td></td>\n",
              "      <td>NaN</td>\n",
              "    </tr>\n",
              "    <tr>\n",
              "      <th>4</th>\n",
              "      <td>2019</td>\n",
              "      <td>2</td>\n",
              "      <td>193975779</td>\n",
              "      <td>F</td>\n",
              "      <td>14/12/96</td>\n",
              "      <td>RS</td>\n",
              "      <td>SANTANA DO LIVRAMENTO</td>\n",
              "      <td>BRANCA</td>\n",
              "      <td>NÃO</td>\n",
              "      <td>SIM</td>\n",
              "      <td>...</td>\n",
              "      <td>2016</td>\n",
              "      <td>740</td>\n",
              "      <td>591,3</td>\n",
              "      <td>507,1</td>\n",
              "      <td>389,5</td>\n",
              "      <td>559,6</td>\n",
              "      <td>NÃO CONTRATADO</td>\n",
              "      <td>NaN</td>\n",
              "      <td></td>\n",
              "      <td>NaN</td>\n",
              "    </tr>\n",
              "    <tr>\n",
              "      <th>...</th>\n",
              "      <td>...</td>\n",
              "      <td>...</td>\n",
              "      <td>...</td>\n",
              "      <td>...</td>\n",
              "      <td>...</td>\n",
              "      <td>...</td>\n",
              "      <td>...</td>\n",
              "      <td>...</td>\n",
              "      <td>...</td>\n",
              "      <td>...</td>\n",
              "      <td>...</td>\n",
              "      <td>...</td>\n",
              "      <td>...</td>\n",
              "      <td>...</td>\n",
              "      <td>...</td>\n",
              "      <td>...</td>\n",
              "      <td>...</td>\n",
              "      <td>...</td>\n",
              "      <td>...</td>\n",
              "      <td>...</td>\n",
              "      <td>...</td>\n",
              "    </tr>\n",
              "    <tr>\n",
              "      <th>271851</th>\n",
              "      <td>2019</td>\n",
              "      <td>2</td>\n",
              "      <td>185573856</td>\n",
              "      <td>M</td>\n",
              "      <td>03/12/99</td>\n",
              "      <td>MG</td>\n",
              "      <td>JANUÁRIA</td>\n",
              "      <td>PARDA</td>\n",
              "      <td>NÃO</td>\n",
              "      <td>SIM</td>\n",
              "      <td>...</td>\n",
              "      <td>2018</td>\n",
              "      <td>400</td>\n",
              "      <td>579,9</td>\n",
              "      <td>515,6</td>\n",
              "      <td>398,1</td>\n",
              "      <td>567</td>\n",
              "      <td>OPÇÃO NÃO CONTRATADA</td>\n",
              "      <td>NaN</td>\n",
              "      <td>NaN</td>\n",
              "      <td>9.0</td>\n",
              "    </tr>\n",
              "    <tr>\n",
              "      <th>271852</th>\n",
              "      <td>2019</td>\n",
              "      <td>2</td>\n",
              "      <td>185671776</td>\n",
              "      <td>F</td>\n",
              "      <td>14/09/00</td>\n",
              "      <td>MG</td>\n",
              "      <td>JANUÁRIA</td>\n",
              "      <td>PARDA</td>\n",
              "      <td>NÃO</td>\n",
              "      <td>SIM</td>\n",
              "      <td>...</td>\n",
              "      <td>2018</td>\n",
              "      <td>360</td>\n",
              "      <td>656,2</td>\n",
              "      <td>505,2</td>\n",
              "      <td>474,8</td>\n",
              "      <td>571,1</td>\n",
              "      <td>NÃO CONTRATADO</td>\n",
              "      <td>NaN</td>\n",
              "      <td></td>\n",
              "      <td>NaN</td>\n",
              "    </tr>\n",
              "    <tr>\n",
              "      <th>271853</th>\n",
              "      <td>2019</td>\n",
              "      <td>2</td>\n",
              "      <td>185671776</td>\n",
              "      <td>F</td>\n",
              "      <td>14/09/00</td>\n",
              "      <td>MG</td>\n",
              "      <td>JANUÁRIA</td>\n",
              "      <td>PARDA</td>\n",
              "      <td>NÃO</td>\n",
              "      <td>SIM</td>\n",
              "      <td>...</td>\n",
              "      <td>2018</td>\n",
              "      <td>360</td>\n",
              "      <td>656,2</td>\n",
              "      <td>505,2</td>\n",
              "      <td>474,8</td>\n",
              "      <td>571,1</td>\n",
              "      <td>NÃO CONTRATADO</td>\n",
              "      <td>NaN</td>\n",
              "      <td></td>\n",
              "      <td>NaN</td>\n",
              "    </tr>\n",
              "    <tr>\n",
              "      <th>271854</th>\n",
              "      <td>2019</td>\n",
              "      <td>2</td>\n",
              "      <td>185678281</td>\n",
              "      <td>F</td>\n",
              "      <td>26/04/01</td>\n",
              "      <td>MG</td>\n",
              "      <td>LONTRA</td>\n",
              "      <td>BRANCA</td>\n",
              "      <td>NÃO</td>\n",
              "      <td>SIM</td>\n",
              "      <td>...</td>\n",
              "      <td>2018</td>\n",
              "      <td>740</td>\n",
              "      <td>603,8</td>\n",
              "      <td>598,1</td>\n",
              "      <td>486,6</td>\n",
              "      <td>634,5</td>\n",
              "      <td>NÃO CONTRATADO</td>\n",
              "      <td>NaN</td>\n",
              "      <td></td>\n",
              "      <td>NaN</td>\n",
              "    </tr>\n",
              "    <tr>\n",
              "      <th>271855</th>\n",
              "      <td>2019</td>\n",
              "      <td>2</td>\n",
              "      <td>185470231</td>\n",
              "      <td>F</td>\n",
              "      <td>26/10/99</td>\n",
              "      <td>MG</td>\n",
              "      <td>MONTES CLAROS</td>\n",
              "      <td>PRETA</td>\n",
              "      <td>NÃO</td>\n",
              "      <td>SIM</td>\n",
              "      <td>...</td>\n",
              "      <td>2017</td>\n",
              "      <td>620</td>\n",
              "      <td>586,5</td>\n",
              "      <td>629,2</td>\n",
              "      <td>526,3</td>\n",
              "      <td>630,7</td>\n",
              "      <td>NÃO CONTRATADO</td>\n",
              "      <td>NaN</td>\n",
              "      <td></td>\n",
              "      <td>NaN</td>\n",
              "    </tr>\n",
              "  </tbody>\n",
              "</table>\n",
              "<p>271856 rows × 57 columns</p>\n",
              "</div>"
            ],
            "text/plain": [
              "        Ano do processo seletivo  Semestre do processo seletivo  \\\n",
              "0                           2019                              2   \n",
              "1                           2019                              2   \n",
              "2                           2019                              2   \n",
              "3                           2019                              2   \n",
              "4                           2019                              2   \n",
              "...                          ...                            ...   \n",
              "271851                      2019                              2   \n",
              "271852                      2019                              2   \n",
              "271853                      2019                              2   \n",
              "271854                      2019                              2   \n",
              "271855                      2019                              2   \n",
              "\n",
              "        ID do estudante Sexo Data de Nascimento UF de residência  \\\n",
              "0             189538691    M           30/12/88               PR   \n",
              "1             185775473    M           11/12/94               PR   \n",
              "2             185472589    M           21/11/90               PR   \n",
              "3             185575432    F           09/03/82               PR   \n",
              "4             193975779    F           14/12/96               RS   \n",
              "...                 ...  ...                ...              ...   \n",
              "271851        185573856    M           03/12/99               MG   \n",
              "271852        185671776    F           14/09/00               MG   \n",
              "271853        185671776    F           14/09/00               MG   \n",
              "271854        185678281    F           26/04/01               MG   \n",
              "271855        185470231    F           26/10/99               MG   \n",
              "\n",
              "       Municipio de residência Etnia/Cor Pessoa com deficiência?  \\\n",
              "0                     CURITIBA     PARDA                     NÃO   \n",
              "1                     CURITIBA    BRANCA                     NÃO   \n",
              "2                     CURITIBA    BRANCA                     NÃO   \n",
              "3                     CURITIBA    BRANCA                     NÃO   \n",
              "4        SANTANA DO LIVRAMENTO    BRANCA                     NÃO   \n",
              "...                        ...       ...                     ...   \n",
              "271851                JANUÁRIA     PARDA                     NÃO   \n",
              "271852                JANUÁRIA     PARDA                     NÃO   \n",
              "271853                JANUÁRIA     PARDA                     NÃO   \n",
              "271854                  LONTRA    BRANCA                     NÃO   \n",
              "271855           MONTES CLAROS     PRETA                     NÃO   \n",
              "\n",
              "       Tipo de escola no ensino médio  ...  Ano do Enem Redação  \\\n",
              "0                                 NÃO  ...         2019     540   \n",
              "1                                 SIM  ...         2018     700   \n",
              "2                                 SIM  ...         2013     480   \n",
              "3                                 NÃO  ...         2018     640   \n",
              "4                                 SIM  ...         2016     740   \n",
              "...                               ...  ...          ...     ...   \n",
              "271851                            SIM  ...         2018     400   \n",
              "271852                            SIM  ...         2018     360   \n",
              "271853                            SIM  ...         2018     360   \n",
              "271854                            SIM  ...         2018     740   \n",
              "271855                            SIM  ...         2017     620   \n",
              "\n",
              "       Matemática e suas Tecnologias  Linguagens, Códigos e suas Tec  \\\n",
              "0                              735,6                             549   \n",
              "1                              557,9                           624,8   \n",
              "2                              530,7                           602,9   \n",
              "3                              569,9                           728,8   \n",
              "4                              591,3                           507,1   \n",
              "...                              ...                             ...   \n",
              "271851                         579,9                           515,6   \n",
              "271852                         656,2                           505,2   \n",
              "271853                         656,2                           505,2   \n",
              "271854                         603,8                           598,1   \n",
              "271855                         586,5                           629,2   \n",
              "\n",
              "       Ciências Natureza e suas Tec Ciências Humanas e suas Tec  \\\n",
              "0                             537,9                       600,8   \n",
              "1                             562,7                       686,2   \n",
              "2                             506,5                       582,3   \n",
              "3                             653,6                       727,1   \n",
              "4                             389,5                       559,6   \n",
              "...                             ...                         ...   \n",
              "271851                        398,1                         567   \n",
              "271852                        474,8                       571,1   \n",
              "271853                        474,8                       571,1   \n",
              "271854                        486,6                       634,5   \n",
              "271855                        526,3                       630,7   \n",
              "\n",
              "       Situação Inscrição Fies Percentual de financiamento  \\\n",
              "0               NÃO CONTRATADO                         NaN   \n",
              "1         OPÇÃO NÃO CONTRATADA                         NaN   \n",
              "2               NÃO CONTRATADO                         NaN   \n",
              "3               NÃO CONTRATADO                         NaN   \n",
              "4               NÃO CONTRATADO                         NaN   \n",
              "...                        ...                         ...   \n",
              "271851    OPÇÃO NÃO CONTRATADA                         NaN   \n",
              "271852          NÃO CONTRATADO                         NaN   \n",
              "271853          NÃO CONTRATADO                         NaN   \n",
              "271854          NÃO CONTRATADO                         NaN   \n",
              "271855          NÃO CONTRATADO                         NaN   \n",
              "\n",
              "        Semestre do financiamento Qtde semestre financiado  \n",
              "0                                                      NaN  \n",
              "1                             NaN                     10.0  \n",
              "2                                                      NaN  \n",
              "3                                                      NaN  \n",
              "4                                                      NaN  \n",
              "...                           ...                      ...  \n",
              "271851                        NaN                      9.0  \n",
              "271852                                                 NaN  \n",
              "271853                                                 NaN  \n",
              "271854                                                 NaN  \n",
              "271855                                                 NaN  \n",
              "\n",
              "[271856 rows x 57 columns]"
            ]
          },
          "execution_count": 383,
          "metadata": {},
          "output_type": "execute_result"
        },
        {
          "ename": "",
          "evalue": "",
          "output_type": "error",
          "traceback": [
            "\u001b[1;31mRunning cells with 'Python 3.9.7 64-bit (system)' requires ipykernel package.\n",
            "Run the following command to install 'ipykernel' into the Python environment. \n",
            "Command: 'c:/msys64/mingw64/bin/python.exe -m pip install ipykernel -U --user --force-reinstall'"
          ]
        }
      ],
      "source": [
        "fies2019 = pd.read_csv('./dadosLimpos2019.csv', encoding=\"UTF-8\")\n",
        "\n",
        "fies2020 = pd.read_csv('./dadosLimpos2020.csv', encoding=\"UTF-8\")"
      ]
    },
    {
      "cell_type": "markdown",
      "metadata": {},
      "source": [
        "# Exploração dos dados 2019"
      ]
    },
    {
      "cell_type": "markdown",
      "metadata": {},
      "source": [
        "### Faixa de renda per capita predominante no requerimento do FIES"
      ]
    },
    {
      "cell_type": "code",
      "execution_count": null,
      "metadata": {},
      "outputs": [],
      "source": [
        "\n",
        "fies2019.boxplot(column=['Renda mensal bruta per capita'])\n",
        "plt.ylabel('R$')\n",
        "plt.show()"
      ]
    },
    {
      "cell_type": "markdown",
      "metadata": {},
      "source": [
        "Após a análise do boxplot pode-se verificar que a renda concentra-se entre quem não tem nenhuma renda, até o valor de 2000 reais. Tendo um número considerável de outliers com valores maiores que 2000 ."
      ]
    },
    {
      "cell_type": "markdown",
      "metadata": {},
      "source": [
        "## Dispersão para o número de inscrições para os estados."
      ]
    },
    {
      "cell_type": "code",
      "execution_count": null,
      "metadata": {},
      "outputs": [],
      "source": [
        "fies2019_estado = fies2019['UF do Local de Oferta'].value_counts()\n",
        "maior_Inscricao = fies2019_estado.max()\n",
        "estado = fies2019_estado[ fies2019_estado ==  maior_Inscricao].index[0]\n",
        "print(f\"O Estado {estado} foi oque teve um maior número de incrições, totalizando {maior_Inscricao}\\n\")\n",
        "\n",
        "menor_Inscricao = fies2019_estado.min()\n",
        "estado = fies2019_estado[ fies2019_estado ==  menor_Inscricao].index[0]\n",
        "print(f\"O Estado {estado} foi oque teve um menor número de incrições, totalizando {menor_Inscricao}\\n\")\n",
        "\n",
        "\n",
        "fies2019_estado.plot.barh(figsize=(10,6))\n",
        "plt.ylabel('Estado')\n",
        "plt.xlabel('Número de Inscrições')\n",
        "plt.show()"
      ]
    },
    {
      "cell_type": "markdown",
      "metadata": {},
      "source": [
        "O estado de São Paulo, com 32897 inscrições foi o estado com maior número de inscrições do País,  em contrapartida, Roraima foi o estado com menos inscrições, sendo 374 inscrições para todo o estado. Verifica-se uma baixa dispersão entre os números de inscrição por estado, tendo as inscrições concentradas nos estados : RJ, CE, BA, MG e SP."
      ]
    },
    {
      "cell_type": "markdown",
      "metadata": {},
      "source": [
        "##  Faixa predominante de espera entre a conclusão do ensino médio e a inscrição na faculdade por meio do FIES"
      ]
    },
    {
      "cell_type": "code",
      "execution_count": null,
      "metadata": {},
      "outputs": [],
      "source": [
        "from datetime import date, timedelta\n",
        "\n",
        " \n",
        "fies2019['Anos para inscrição após EM'] = fies2019['Ano conclusão ensino médio'].apply(lambda x : 2019 -  x) "
      ]
    },
    {
      "cell_type": "code",
      "execution_count": null,
      "metadata": {},
      "outputs": [],
      "source": [
        "fig, ax = plt.subplots(1, 2, figsize=(15,5))\n",
        "\n",
        "keys = list(fies2019['Anos para inscrição após EM'].keys())\n",
        "values = list(fies2019['Anos para inscrição após EM'])\n",
        "\n",
        "\n",
        "\n",
        "ax[0].boxplot(values)\n",
        "ax[0].set(ylabel='Quantidade de anos')\n",
        "\n",
        "\n",
        "ax[1].hist(values, bins=10)\n",
        "ax[1].set(xlabel='Quantidade de anos', ylabel='frequência')\n",
        "ax[1].set_yscale('log')\n",
        "fig.tight_layout()\n",
        "\n",
        "plt.show()"
      ]
    },
    {
      "cell_type": "markdown",
      "metadata": {},
      "source": [
        "Observando os dados através de  boxplot e pelo histograma para a dispersão da faixa de espera entre a conclusão do ensino médio e a inscrição na faculdade por meio do FIES, pode-se verificar que a faixa predominante encontra-se entre 0 e 10 anos de espera."
      ]
    },
    {
      "cell_type": "markdown",
      "metadata": {},
      "source": [
        "##   As pessoas com deficiência estão menos inseridas nos aceitos do FIES?"
      ]
    },
    {
      "cell_type": "code",
      "execution_count": null,
      "metadata": {},
      "outputs": [],
      "source": [
        "fies2019_pessoa_sem_deficiencia =  fies2019[fies2019['Pessoa com deficiência?'] == 'NÃO'] \n",
        "\n",
        "pessoas_contradatas_sem_def = fies2019_pessoa_sem_deficiencia[fies2019_pessoa_sem_deficiencia['Situação Inscrição Fies'] == 'CONTRATADA']\n",
        "print(\"Número de pessoas sem deficiência contratada: \", pessoas_contradatas_sem_def['ID do estudante'].size )\n",
        "\n",
        "porcentagem_aprovada = pessoas_contradatas_sem_def['ID do estudante'].size  * 100 /   fies2019_pessoa_sem_deficiencia['ID do estudante'].size \n",
        "\n",
        "print(f\"A porcentagem de pessoas sem deficiência contratada foi {porcentagem_aprovada:.2f}% \\n\\n\")\n",
        "\n",
        "# Plotando o gráfico\n",
        "fies2019_pessoa_sem_deficiencia.groupby('Situação Inscrição Fies').count()['ID do estudante'].plot(kind='bar',color='g')\n",
        "plt.ylabel('Número de pessoas');\n",
        "plt.show()"
      ]
    },
    {
      "cell_type": "code",
      "execution_count": null,
      "metadata": {},
      "outputs": [],
      "source": [
        "\n",
        "\n",
        "fies2019_pessoa_com_deficiencia =  fies2019[fies2019['Pessoa com deficiência?'] == 'SIM'] \n",
        "\n",
        "pessoas_contradatas_com_def = fies2019_pessoa_com_deficiencia[fies2019_pessoa_com_deficiencia['Situação Inscrição Fies'] == 'CONTRATADA']\n",
        "print(\"Número de pessoas com deficiência contratada: \", pessoas_contradatas_com_def['ID do estudante'].size )\n",
        "\n",
        "porcentagem_aprovada = pessoas_contradatas_com_def['ID do estudante'].size  * 100 /   fies2019_pessoa_com_deficiencia['ID do estudante'].size \n",
        "\n",
        "print(f\"A porcentagem de pessoas com deficiência contratada foi {porcentagem_aprovada:.2f}% \\n\\n\")\n",
        "\n",
        "# Plotando o gráfico\n",
        "fies2019_pessoa_com_deficiencia.groupby('Situação Inscrição Fies').count()['ID do estudante'].plot(kind='bar',color='r')\n",
        "plt.ylabel('Número de pessoas');\n",
        "plt.show()"
      ]
    },
    {
      "cell_type": "markdown",
      "metadata": {},
      "source": [
        "Plotando um gráfico para pessoas com deficiência e para pessoas sem deficiência é possivél ver que os dados se assemelham, tendo um baixo nivél de aprovação nos dois casos. Sendo 10,98% de aprovação para pessoas sem deficiência, e uma porcentagem de 7,62% para pessoas com deficiência ."
      ]
    },
    {
      "cell_type": "markdown",
      "metadata": {},
      "source": [
        "# Exploração dos dados 2020"
      ]
    },
    {
      "cell_type": "markdown",
      "metadata": {},
      "source": [
        "### Faixa de renda per capita predominante no requerimento do FIES"
      ]
    },
    {
      "cell_type": "code",
      "execution_count": null,
      "metadata": {},
      "outputs": [],
      "source": [
        "\n",
        "fies2020.boxplot(column=['Renda mensal bruta per capita'])\n",
        "plt.ylabel('R$')\n",
        "plt.show()"
      ]
    },
    {
      "cell_type": "markdown",
      "metadata": {},
      "source": [
        "Após a análise do boxplot pode-se verificar que a renda concentra-se entre quem não tem nenhuma renda, até o valor de 2000 reais. Tendo um número considerável de outliers com valores entre 2000 e 4000."
      ]
    },
    {
      "cell_type": "markdown",
      "metadata": {},
      "source": [
        "## Dispersão para o número de inscrições para os estados."
      ]
    },
    {
      "cell_type": "code",
      "execution_count": null,
      "metadata": {},
      "outputs": [],
      "source": [
        "fies2020_estado = fies2020['UF do Local de Oferta'].value_counts()\n",
        "maior_Inscricao = fies2020_estado.max()\n",
        "estado = fies2020_estado[ fies2020_estado ==  maior_Inscricao].index[0]\n",
        "print(f\"O Estado {estado} foi oque teve um maior número de incrições, totalizando {maior_Inscricao}\\n\")\n",
        "\n",
        "menor_Inscricao = fies2020_estado.min()\n",
        "estado = fies2020_estado[ fies2020_estado ==  menor_Inscricao].index[0]\n",
        "print(f\"O Estado {estado} foi oque teve um menor número de incrições, totalizando {menor_Inscricao}\\n\")\n",
        "\n",
        "\n",
        "fies2020_estado.plot.barh(figsize=(10,6))\n",
        "plt.ylabel('Estado')\n",
        "plt.xlabel('Número de Inscrições')\n",
        "plt.show()"
      ]
    },
    {
      "cell_type": "markdown",
      "metadata": {},
      "source": [
        "O estado de São Paulo, com 24534 inscrições foi o estado com maior número de inscrições do País,  em contrapartida, Roraima foi o estado com menos inscrições, sendo 342 inscrições para todo o estado. Verifica-se uma baixa dispersão entre os números de inscrição por estado, tendo as inscrições concentradas nos mesmos estados que nos dados de 2019."
      ]
    },
    {
      "cell_type": "markdown",
      "metadata": {},
      "source": [
        "##  Faixa predominante de espera entre a conclusão do ensino médio e a inscrição na faculdade por meio do FIES"
      ]
    },
    {
      "cell_type": "code",
      "execution_count": null,
      "metadata": {},
      "outputs": [],
      "source": [
        "fies2020['Anos para inscrição após EM'] = fies2020['Ano conclusão ensino médio'].apply(lambda x : 2020 -  x) "
      ]
    },
    {
      "cell_type": "code",
      "execution_count": null,
      "metadata": {},
      "outputs": [],
      "source": [
        "fig, ax = plt.subplots(1, 2, figsize=(15,5))\n",
        "\n",
        "keys = list(fies2020['Anos para inscrição após EM'].keys())\n",
        "values = list(fies2020['Anos para inscrição após EM'])\n",
        "\n",
        "\n",
        "ax[0].boxplot(values)\n",
        "ax[0].set(ylabel='Quantidade de anos')\n",
        "\n",
        "\n",
        "ax[1].hist(values, bins=10)\n",
        "ax[1].set(xlabel='Quantidade de anos', ylabel='frequência')\n",
        "ax[1].set_yscale('log')\n",
        "fig.tight_layout()\n",
        "\n",
        "plt.show()"
      ]
    },
    {
      "cell_type": "markdown",
      "metadata": {},
      "source": [
        "Observando os dados através do boxplot temos uma visão que a faixa predominante está entre 0 e 15, ao olhar para o histograma , pode-se verificar que é correspondente sendo as diferenças amenizadas pelo fato do gráfico estar em escala logaritma."
      ]
    },
    {
      "cell_type": "markdown",
      "metadata": {},
      "source": [
        "##   As pessoas com deficiência estão menos inseridas nos aceitos do FIES?"
      ]
    },
    {
      "cell_type": "code",
      "execution_count": null,
      "metadata": {},
      "outputs": [],
      "source": [
        "fies2020_pessoa_sem_deficiencia =  fies2020[fies2020['Pessoa com deficiência?'] == 'NÃO'] \n",
        "\n",
        "pessoas_contradatas_sem_def = fies2020_pessoa_sem_deficiencia[fies2020_pessoa_sem_deficiencia['Situação Inscrição Fies'] == 'CONTRATADA']\n",
        "print(\"Número de pessoas sem deficiência contratada: \", pessoas_contradatas_sem_def['ID do estudante'].size )\n",
        "\n",
        "porcentagem_aprovada = pessoas_contradatas_sem_def['ID do estudante'].size  * 100 /   fies2020_pessoa_sem_deficiencia['ID do estudante'].size \n",
        "\n",
        "print(f\"A porcentagem de pessoas sem deficiência contratada foi {porcentagem_aprovada:.2f}% \\n\\n\")\n",
        "\n",
        "# Plotando o gráfico\n",
        "fies2020_pessoa_sem_deficiencia.groupby('Situação Inscrição Fies').count()['ID do estudante'].plot(kind='bar',color='g')\n",
        "plt.ylabel('Número de pessoas');\n",
        "plt.show()"
      ]
    },
    {
      "cell_type": "code",
      "execution_count": null,
      "metadata": {},
      "outputs": [],
      "source": [
        "fies2020_pessoa_com_deficiencia =  fies2020[fies2020['Pessoa com deficiência?'] == 'SIM'] \n",
        "\n",
        "pessoas_contradatas_com_def = fies2020_pessoa_com_deficiencia[fies2020_pessoa_com_deficiencia['Situação Inscrição Fies'] == 'CONTRATADA']\n",
        "print(\"Número de pessoas com deficiência contratada: \", pessoas_contradatas_com_def['ID do estudante'].size )\n",
        "\n",
        "porcentagem_aprovada = pessoas_contradatas_com_def['ID do estudante'].size  * 100 /   fies2020_pessoa_com_deficiencia['ID do estudante'].size \n",
        "\n",
        "print(f\"A porcentagem de pessoas com deficiência contratada foi {porcentagem_aprovada:.2f}% \\n\\n\")\n",
        "\n",
        "# Plotando o gráfico\n",
        "fies2020_pessoa_com_deficiencia.groupby('Situação Inscrição Fies').count()['ID do estudante'].plot(kind='bar',color='r')\n",
        "plt.ylabel('Número de pessoas');\n",
        "plt.show()"
      ]
    },
    {
      "cell_type": "markdown",
      "metadata": {},
      "source": [
        "Plotando um gráfico para pessoas com deficiência e para pessoas sem deficiência é possivél ver que os dados se assemelham, tendo um baixo nivél de aprovação nos dois casos, e uma grande parte dos candidatos na fila de espera. Sendo 7,37% de aprovação para pessoas sem deficiência, e uma porcentagem de 5,01% para pessoas com deficiência."
      ]
    }
  ],
  "metadata": {
    "colab": {
      "name": "TpDados.ipynb",
      "provenance": []
    },
    "kernelspec": {
      "display_name": "Python 3.9.7 64-bit (system)",
      "language": "python",
      "name": "python3"
    },
    "language_info": {
      "codemirror_mode": {
        "name": "ipython",
        "version": 3
      },
      "file_extension": ".py",
      "mimetype": "text/x-python",
      "name": "python",
      "nbconvert_exporter": "python",
      "pygments_lexer": "ipython3",
      "version": "3.9.7"
    },
    "vscode": {
      "interpreter": {
        "hash": "2a8dfe095fce2b5e88c64a2c3ee084c8e0e0d70b23e7b95b1cfb538be294c5c8"
      }
    }
  },
  "nbformat": 4,
  "nbformat_minor": 0
}
