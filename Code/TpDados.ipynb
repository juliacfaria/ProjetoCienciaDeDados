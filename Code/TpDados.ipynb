{
  "cells": [
    {
      "cell_type": "code",
      "execution_count": 1,
      "metadata": {
        "colab": {
          "base_uri": "https://localhost:8080/"
        },
        "id": "mBGrV10gE7dF",
        "outputId": "11089c05-7530-49bc-c5d8-876589027df5"
      },
      "outputs": [
        {
          "output_type": "stream",
          "name": "stdout",
          "text": [
            "--2022-06-21 03:27:09--  https://media.githubusercontent.com/media/juliacfaria/arquivosTPDados/main/DadosLimpos/dadosLimpos2019.csv\n",
            "Resolving media.githubusercontent.com (media.githubusercontent.com)... 185.199.108.133, 185.199.109.133, 185.199.110.133, ...\n",
            "Connecting to media.githubusercontent.com (media.githubusercontent.com)|185.199.108.133|:443... connected.\n",
            "HTTP request sent, awaiting response... 200 OK\n",
            "Length: 88842717 (85M) [text/plain]\n",
            "Saving to: ‘dadosLimpos2019.csv’\n",
            "\n",
            "dadosLimpos2019.csv 100%[===================>]  84.73M   201MB/s    in 0.4s    \n",
            "\n",
            "2022-06-21 03:27:13 (201 MB/s) - ‘dadosLimpos2019.csv’ saved [88842717/88842717]\n",
            "\n"
          ]
        }
      ],
      "source": [
        "!wget https://media.githubusercontent.com/media/juliacfaria/arquivosTPDados/main/DadosLimpos/dadosLimpos2019.csv"
      ]
    },
    {
      "cell_type": "code",
      "execution_count": 2,
      "metadata": {
        "colab": {
          "base_uri": "https://localhost:8080/"
        },
        "id": "I5FKnu3_3nqk",
        "outputId": "c629b5ad-ac6c-414e-a635-df28067b7268"
      },
      "outputs": [
        {
          "output_type": "stream",
          "name": "stdout",
          "text": [
            "--2022-06-21 03:27:13--  https://media.githubusercontent.com/media/juliacfaria/arquivosTPDados/main/DadosLimpos/dadosLimpos2020.csv\n",
            "Resolving media.githubusercontent.com (media.githubusercontent.com)... 185.199.108.133, 185.199.109.133, 185.199.110.133, ...\n",
            "Connecting to media.githubusercontent.com (media.githubusercontent.com)|185.199.108.133|:443... connected.\n",
            "HTTP request sent, awaiting response... 200 OK\n",
            "Length: 68691298 (66M) [text/plain]\n",
            "Saving to: ‘dadosLimpos2020.csv’\n",
            "\n",
            "dadosLimpos2020.csv 100%[===================>]  65.51M   134MB/s    in 0.5s    \n",
            "\n",
            "2022-06-21 03:27:17 (134 MB/s) - ‘dadosLimpos2020.csv’ saved [68691298/68691298]\n",
            "\n"
          ]
        }
      ],
      "source": [
        "!wget https://media.githubusercontent.com/media/juliacfaria/arquivosTPDados/main/DadosLimpos/dadosLimpos2020.csv"
      ]
    },
    {
      "cell_type": "code",
      "execution_count": 3,
      "metadata": {
        "id": "mQNv0eJFLuSM"
      },
      "outputs": [],
      "source": [
        "import pandas as pd\n",
        "import numpy as np\n",
        "import matplotlib.pyplot as plt\n",
        "#import seaborn as sns"
      ]
    },
    {
      "cell_type": "code",
      "execution_count": 4,
      "metadata": {
        "id": "OqGlXS8e1TRW"
      },
      "outputs": [],
      "source": [
        "fies2019 = pd.read_csv('./dadosLimpos2019.csv', encoding=\"UTF-8\")\n",
        "\n",
        "fies2020 = pd.read_csv('./dadosLimpos2020.csv', encoding=\"UTF-8\")"
      ]
    },
    {
      "cell_type": "markdown",
      "metadata": {
        "id": "IkpnhAinTINd"
      },
      "source": [
        "# Exploração dos dados 2019"
      ]
    },
    {
      "cell_type": "markdown",
      "metadata": {
        "id": "TM6fTrpfTINf"
      },
      "source": [
        "### Faixa de renda per capita predominante no requerimento do FIES"
      ]
    },
    {
      "cell_type": "code",
      "execution_count": 5,
      "metadata": {
        "colab": {
          "base_uri": "https://localhost:8080/",
          "height": 265
        },
        "id": "rxE8_BJDTINg",
        "outputId": "3b0fb647-94ea-4912-c365-7629a90270c8"
      },
      "outputs": [
        {
          "output_type": "display_data",
          "data": {
            "text/plain": [
              "<Figure size 432x288 with 1 Axes>"
            ],
            "image/png": "[encoded data removed]"
          },
          "metadata": {
            "needs_background": "light"
          }
        }
      ],
      "source": [
        "\n",
        "fies2019.boxplot(column=['Renda mensal bruta per capita'])\n",
        "plt.ylabel('R$')\n",
        "plt.show()"
      ]
    },
    {
      "cell_type": "markdown",
      "metadata": {
        "id": "Uvpt2Cq_TINi"
      },
      "source": [
        "Após a análise do boxplot pode-se verificar que a renda concentra-se entre quem não tem nenhuma renda, até o valor de 2000 reais. Tendo um número considerável de outliers com valores maiores que 2000 ."
      ]
    },
    {
      "cell_type": "markdown",
      "metadata": {
        "id": "H6bGKb3eTINi"
      },
      "source": [
        "## Dispersão para o número de inscrições para os estados."
      ]
    },
    {
      "cell_type": "code",
      "execution_count": 6,
      "metadata": {
        "colab": {
          "base_uri": "https://localhost:8080/",
          "height": 458
        },
        "id": "_WcOIRPkTINj",
        "outputId": "d086f1f3-9139-4e57-c6fb-77c14e3431fe"
      },
      "outputs": [
        {
          "output_type": "stream",
          "name": "stdout",
          "text": [
            "O Estado SP foi oque teve um maior número de incrições, totalizando 32896\n",
            "\n",
            "O Estado RR foi oque teve um menor número de incrições, totalizando 374\n",
            "\n"
          ]
        },
        {
          "output_type": "display_data",
          "data": {
            "text/plain": [
              "<Figure size 720x432 with 1 Axes>"
            ],
            "image/png": "[encoded data removed]"
          },
          "metadata": {
            "needs_background": "light"
          }
        }
      ],
      "source": [
        "fies2019_estado = fies2019['UF do Local de Oferta'].value_counts()\n",
        "maior_Inscricao = fies2019_estado.max()\n",
        "estado = fies2019_estado[ fies2019_estado ==  maior_Inscricao].index[0]\n",
        "print(f\"O Estado {estado} foi oque teve um maior número de incrições, totalizando {maior_Inscricao}\\n\")\n",
        "\n",
        "menor_Inscricao = fies2019_estado.min()\n",
        "estado = fies2019_estado[ fies2019_estado ==  menor_Inscricao].index[0]\n",
        "print(f\"O Estado {estado} foi oque teve um menor número de incrições, totalizando {menor_Inscricao}\\n\")\n",
        "\n",
        "\n",
        "fies2019_estado.plot.barh(figsize=(10,6))\n",
        "plt.ylabel('Estado')\n",
        "plt.xlabel('Número de Inscrições')\n",
        "plt.show()"
      ]
    },
    {
      "cell_type": "markdown",
      "metadata": {
        "id": "IcznEz_tTINl"
      },
      "source": [
        "O estado de São Paulo, com 32897 inscrições foi o estado com maior número de inscrições do País,  em contrapartida, Roraima foi o estado com menos inscrições, sendo 374 inscrições para todo o estado. Verifica-se uma baixa dispersão entre os números de inscrição por estado, tendo as inscrições concentradas nos estados : RJ, CE, BA, MG e SP."
      ]
    },
    {
      "cell_type": "markdown",
      "metadata": {
        "id": "rcjfgzn5TINm"
      },
      "source": [
        "##  Faixa predominante de espera entre a conclusão do ensino médio e a inscrição na faculdade por meio do FIES"
      ]
    },
    {
      "cell_type": "code",
      "execution_count": 7,
      "metadata": {
        "id": "0HmLhCEeTINm"
      },
      "outputs": [],
      "source": [
        "from datetime import date, timedelta\n",
        "\n",
        " \n",
        "fies2019['Anos para inscrição após EM'] = fies2019['Ano conclusão ensino médio'].apply(lambda x : 2019 -  x) "
      ]
    },
    {
      "cell_type": "code",
      "execution_count": 8,
      "metadata": {
        "colab": {
          "base_uri": "https://localhost:8080/",
          "height": 369
        },
        "id": "c_3mzJE6TINm",
        "outputId": "05092999-304b-4a77-b38a-7c33888d5826"
      },
      "outputs": [
        {
          "output_type": "display_data",
          "data": {
            "text/plain": [
              "<Figure size 1080x360 with 2 Axes>"
            ],
            "image/png": "[encoded data removed]"
          },
          "metadata": {
            "needs_background": "light"
          }
        }
      ],
      "source": [
        "fig, ax = plt.subplots(1, 2, figsize=(15,5))\n",
        "\n",
        "keys = list(fies2019['Anos para inscrição após EM'].keys())\n",
        "values = list(fies2019['Anos para inscrição após EM'])\n",
        "\n",
        "\n",
        "\n",
        "ax[0].boxplot(values)\n",
        "ax[0].set(ylabel='Quantidade de anos')\n",
        "\n",
        "\n",
        "ax[1].hist(values, bins=10)\n",
        "ax[1].set(xlabel='Quantidade de anos', ylabel='frequência')\n",
        "ax[1].set_yscale('log')\n",
        "fig.tight_layout()\n",
        "\n",
        "plt.show()"
      ]
    },
    {
      "cell_type": "markdown",
      "metadata": {
        "id": "OdS1ZsyQTINn"
      },
      "source": [
        "Observando os dados através de  boxplot e pelo histograma para a dispersão da faixa de espera entre a conclusão do ensino médio e a inscrição na faculdade por meio do FIES, pode-se verificar que a faixa predominante encontra-se entre 0 e 10 anos de espera."
      ]
    },
    {
      "cell_type": "markdown",
      "metadata": {
        "id": "v1A_Sq5aTINo"
      },
      "source": [
        "##   As pessoas com deficiência estão menos inseridas nos aceitos do FIES?"
      ]
    },
    {
      "cell_type": "code",
      "execution_count": 9,
      "metadata": {
        "colab": {
          "base_uri": "https://localhost:8080/",
          "height": 564
        },
        "id": "4qqlhw9OTINo",
        "outputId": "00146367-7e09-4634-d677-bb505ea15fd4"
      },
      "outputs": [
        {
          "output_type": "stream",
          "name": "stdout",
          "text": [
            "Número de pessoas sem deficiência contratada:  25315\n",
            "A porcentagem de pessoas sem deficiência contratada foi 10.98% \n",
            "\n",
            "\n"
          ]
        },
        {
          "output_type": "display_data",
          "data": {
            "text/plain": [
              "<Figure size 432x288 with 1 Axes>"
            ],
            "image/png": "[encoded data removed]"
          },
          "metadata": {
            "needs_background": "light"
          }
        }
      ],
      "source": [
        "fies2019_pessoa_sem_deficiencia =  fies2019[fies2019['Pessoa com deficiência?'] == 'NÃO'] \n",
        "\n",
        "pessoas_contradatas_sem_def = fies2019_pessoa_sem_deficiencia[fies2019_pessoa_sem_deficiencia['Situação Inscrição Fies'] == 'CONTRATADA']\n",
        "print(\"Número de pessoas sem deficiência contratada: \", pessoas_contradatas_sem_def['ID do estudante'].size )\n",
        "\n",
        "porcentagem_aprovada = pessoas_contradatas_sem_def['ID do estudante'].size  * 100 /   fies2019_pessoa_sem_deficiencia['ID do estudante'].size \n",
        "\n",
        "print(f\"A porcentagem de pessoas sem deficiência contratada foi {porcentagem_aprovada:.2f}% \\n\\n\")\n",
        "\n",
        "# Plotando o gráfico\n",
        "fies2019_pessoa_sem_deficiencia.groupby('Situação Inscrição Fies').count()['ID do estudante'].plot(kind='bar',color='g')\n",
        "plt.ylabel('Número de pessoas');\n",
        "plt.show()"
      ]
    },
    {
      "cell_type": "code",
      "execution_count": 10,
      "metadata": {
        "colab": {
          "base_uri": "https://localhost:8080/",
          "height": 567
        },
        "id": "l3WGj-CbTINo",
        "outputId": "ce353f21-9ddd-48ee-abd3-a9cb175dbf1c"
      },
      "outputs": [
        {
          "output_type": "stream",
          "name": "stdout",
          "text": [
            "Número de pessoas com deficiência contratada:  139\n",
            "A porcentagem de pessoas com deficiência contratada foi 7.62% \n",
            "\n",
            "\n"
          ]
        },
        {
          "output_type": "display_data",
          "data": {
            "text/plain": [
              "<Figure size 432x288 with 1 Axes>"
            ],
            "image/png": "[encoded data removed]"
          },
          "metadata": {
            "needs_background": "light"
          }
        }
      ],
      "source": [
        "\n",
        "\n",
        "fies2019_pessoa_com_deficiencia =  fies2019[fies2019['Pessoa com deficiência?'] == 'SIM'] \n",
        "\n",
        "pessoas_contradatas_com_def = fies2019_pessoa_com_deficiencia[fies2019_pessoa_com_deficiencia['Situação Inscrição Fies'] == 'CONTRATADA']\n",
        "print(\"Número de pessoas com deficiência contratada: \", pessoas_contradatas_com_def['ID do estudante'].size )\n",
        "\n",
        "porcentagem_aprovada = pessoas_contradatas_com_def['ID do estudante'].size  * 100 /   fies2019_pessoa_com_deficiencia['ID do estudante'].size \n",
        "\n",
        "print(f\"A porcentagem de pessoas com deficiência contratada foi {porcentagem_aprovada:.2f}% \\n\\n\")\n",
        "\n",
        "# Plotando o gráfico\n",
        "fies2019_pessoa_com_deficiencia.groupby('Situação Inscrição Fies').count()['ID do estudante'].plot(kind='bar',color='r')\n",
        "plt.ylabel('Número de pessoas');\n",
        "plt.show()"
      ]
    },
    {
      "cell_type": "markdown",
      "metadata": {
        "id": "6yCN7TolTINp"
      },
      "source": [
        "Plotando um gráfico para pessoas com deficiência e para pessoas sem deficiência é possivél ver que os dados se assemelham, tendo um baixo nivél de aprovação nos dois casos. Sendo 10,98% de aprovação para pessoas sem deficiência, e uma porcentagem de 7,62% para pessoas com deficiência ."
      ]
    },
    {
      "cell_type": "markdown",
      "metadata": {
        "id": "Ga8v3Rh3TINp"
      },
      "source": [
        "# Exploração dos dados 2020"
      ]
    },
    {
      "cell_type": "markdown",
      "metadata": {
        "id": "G1DXl99xTINp"
      },
      "source": [
        "### Faixa de renda per capita predominante no requerimento do FIES"
      ]
    },
    {
      "cell_type": "code",
      "execution_count": 11,
      "metadata": {
        "colab": {
          "base_uri": "https://localhost:8080/",
          "height": 265
        },
        "id": "aDFjQumrTINp",
        "outputId": "414abc14-739f-44fa-ac91-edb417e3fd2f"
      },
      "outputs": [
        {
          "output_type": "display_data",
          "data": {
            "text/plain": [
              "<Figure size 432x288 with 1 Axes>"
            ],
            "image/png": "[encoded data removed]"
          },
          "metadata": {
            "needs_background": "light"
          }
        }
      ],
      "source": [
        "\n",
        "fies2020.boxplot(column=['Renda mensal bruta per capita'])\n",
        "plt.ylabel('R$')\n",
        "plt.show()"
      ]
    },
    {
      "cell_type": "markdown",
      "metadata": {
        "id": "v-oMaG1FTINq"
      },
      "source": [
        "Após a análise do boxplot pode-se verificar que a renda concentra-se entre quem não tem nenhuma renda, até o valor de 2000 reais. Tendo um número considerável de outliers com valores entre 2000 e 4000."
      ]
    },
    {
      "cell_type": "markdown",
      "metadata": {
        "id": "zzY0jE7PTINq"
      },
      "source": [
        "## Dispersão para o número de inscrições para os estados."
      ]
    },
    {
      "cell_type": "code",
      "execution_count": 12,
      "metadata": {
        "colab": {
          "base_uri": "https://localhost:8080/",
          "height": 458
        },
        "id": "EAdBjj57TINq",
        "outputId": "e44ac366-2713-44b1-b538-d2da1ddcb5d5"
      },
      "outputs": [
        {
          "output_type": "stream",
          "name": "stdout",
          "text": [
            "O Estado SP foi oque teve um maior número de incrições, totalizando 24534\n",
            "\n",
            "O Estado RR foi oque teve um menor número de incrições, totalizando 342\n",
            "\n"
          ]
        },
        {
          "output_type": "display_data",
          "data": {
            "text/plain": [
              "<Figure size 720x432 with 1 Axes>"
            ],
            "image/png": "[encoded data removed]"
          },
          "metadata": {
            "needs_background": "light"
          }
        }
      ],
      "source": [
        "fies2020_estado = fies2020['UF do Local de Oferta'].value_counts()\n",
        "maior_Inscricao = fies2020_estado.max()\n",
        "estado = fies2020_estado[ fies2020_estado ==  maior_Inscricao].index[0]\n",
        "print(f\"O Estado {estado} foi oque teve um maior número de incrições, totalizando {maior_Inscricao}\\n\")\n",
        "\n",
        "menor_Inscricao = fies2020_estado.min()\n",
        "estado = fies2020_estado[ fies2020_estado ==  menor_Inscricao].index[0]\n",
        "print(f\"O Estado {estado} foi oque teve um menor número de incrições, totalizando {menor_Inscricao}\\n\")\n",
        "\n",
        "\n",
        "fies2020_estado.plot.barh(figsize=(10,6))\n",
        "plt.ylabel('Estado')\n",
        "plt.xlabel('Número de Inscrições')\n",
        "plt.show()"
      ]
    },
    {
      "cell_type": "markdown",
      "metadata": {
        "id": "su1uLOHcTINr"
      },
      "source": [
        "O estado de São Paulo, com 24534 inscrições foi o estado com maior número de inscrições do País,  em contrapartida, Roraima foi o estado com menos inscrições, sendo 342 inscrições para todo o estado. Verifica-se uma baixa dispersão entre os números de inscrição por estado, tendo as inscrições concentradas nos mesmos estados que nos dados de 2019."
      ]
    },
    {
      "cell_type": "markdown",
      "metadata": {
        "id": "V81nhzIATINr"
      },
      "source": [
        "##  Faixa predominante de espera entre a conclusão do ensino médio e a inscrição na faculdade por meio do FIES"
      ]
    },
    {
      "cell_type": "code",
      "execution_count": 13,
      "metadata": {
        "id": "cj9Gx4UvTINr"
      },
      "outputs": [],
      "source": [
        "fies2020['Anos para inscrição após EM'] = fies2020['Ano conclusão ensino médio'].apply(lambda x : 2020 -  x) "
      ]
    },
    {
      "cell_type": "code",
      "execution_count": 14,
      "metadata": {
        "colab": {
          "base_uri": "https://localhost:8080/",
          "height": 369
        },
        "id": "FsncnuLrTINr",
        "outputId": "64f61727-8e50-4a25-d665-c553cf4d1ab0"
      },
      "outputs": [
        {
          "output_type": "display_data",
          "data": {
            "text/plain": [
              "<Figure size 1080x360 with 2 Axes>"
            ],
            "image/png": "[encoded data removed]"
          },
          "metadata": {
            "needs_background": "light"
          }
        }
      ],
      "source": [
        "fig, ax = plt.subplots(1, 2, figsize=(15,5))\n",
        "\n",
        "keys = list(fies2020['Anos para inscrição após EM'].keys())\n",
        "values = list(fies2020['Anos para inscrição após EM'])\n",
        "\n",
        "\n",
        "ax[0].boxplot(values)\n",
        "ax[0].set(ylabel='Quantidade de anos')\n",
        "\n",
        "\n",
        "ax[1].hist(values, bins=10)\n",
        "ax[1].set(xlabel='Quantidade de anos', ylabel='frequência')\n",
        "ax[1].set_yscale('log')\n",
        "fig.tight_layout()\n",
        "\n",
        "plt.show()"
      ]
    },
    {
      "cell_type": "markdown",
      "metadata": {
        "id": "4G8JQ6P7TINs"
      },
      "source": [
        "Observando os dados através do boxplot temos uma visão que a faixa predominante está entre 0 e 15, ao olhar para o histograma , pode-se verificar que é correspondente sendo as diferenças amenizadas pelo fato do gráfico estar em escala logaritma."
      ]
    },
    {
      "cell_type": "markdown",
      "metadata": {
        "id": "C7RtjAYGTINs"
      },
      "source": [
        "##   As pessoas com deficiência estão menos inseridas nos aceitos do FIES?"
      ]
    },
    {
      "cell_type": "code",
      "execution_count": 15,
      "metadata": {
        "colab": {
          "base_uri": "https://localhost:8080/",
          "height": 564
        },
        "id": "np1DtO8yTINs",
        "outputId": "af91b35e-47fd-4c23-c66f-e472da94150d"
      },
      "outputs": [
        {
          "output_type": "stream",
          "name": "stdout",
          "text": [
            "Número de pessoas sem deficiência contratada:  13338\n",
            "A porcentagem de pessoas sem deficiência contratada foi 7.37% \n",
            "\n",
            "\n"
          ]
        },
        {
          "output_type": "display_data",
          "data": {
            "text/plain": [
              "<Figure size 432x288 with 1 Axes>"
            ],
            "image/png": "[encoded data removed]"
          },
          "metadata": {
            "needs_background": "light"
          }
        }
      ],
      "source": [
        "fies2020_pessoa_sem_deficiencia =  fies2020[fies2020['Pessoa com deficiência?'] == 'NÃO'] \n",
        "\n",
        "pessoas_contradatas_sem_def = fies2020_pessoa_sem_deficiencia[fies2020_pessoa_sem_deficiencia['Situação Inscrição Fies'] == 'CONTRATADA']\n",
        "print(\"Número de pessoas sem deficiência contratada: \", pessoas_contradatas_sem_def['ID do estudante'].size )\n",
        "\n",
        "porcentagem_aprovada = pessoas_contradatas_sem_def['ID do estudante'].size  * 100 /   fies2020_pessoa_sem_deficiencia['ID do estudante'].size \n",
        "\n",
        "print(f\"A porcentagem de pessoas sem deficiência contratada foi {porcentagem_aprovada:.2f}% \\n\\n\")\n",
        "\n",
        "# Plotando o gráfico\n",
        "fies2020_pessoa_sem_deficiencia.groupby('Situação Inscrição Fies').count()['ID do estudante'].plot(kind='bar',color='g')\n",
        "plt.ylabel('Número de pessoas');\n",
        "plt.show()"
      ]
    },
    {
      "cell_type": "code",
      "execution_count": 16,
      "metadata": {
        "colab": {
          "base_uri": "https://localhost:8080/",
          "height": 564
        },
        "id": "xjV_JlrSTINs",
        "outputId": "d023b9c9-34e2-470f-da2e-9f7fb4c557ae"
      },
      "outputs": [
        {
          "output_type": "stream",
          "name": "stdout",
          "text": [
            "Número de pessoas com deficiência contratada:  77\n",
            "A porcentagem de pessoas com deficiência contratada foi 5.01% \n",
            "\n",
            "\n"
          ]
        },
        {
          "output_type": "display_data",
          "data": {
            "text/plain": [
              "<Figure size 432x288 with 1 Axes>"
            ],
            "image/png": "[encoded data removed]"
          },
          "metadata": {
            "needs_background": "light"
          }
        }
      ],
      "source": [
        "fies2020_pessoa_com_deficiencia =  fies2020[fies2020['Pessoa com deficiência?'] == 'SIM'] \n",
        "\n",
        "pessoas_contradatas_com_def = fies2020_pessoa_com_deficiencia[fies2020_pessoa_com_deficiencia['Situação Inscrição Fies'] == 'CONTRATADA']\n",
        "print(\"Número de pessoas com deficiência contratada: \", pessoas_contradatas_com_def['ID do estudante'].size )\n",
        "\n",
        "porcentagem_aprovada = pessoas_contradatas_com_def['ID do estudante'].size  * 100 /   fies2020_pessoa_com_deficiencia['ID do estudante'].size \n",
        "\n",
        "print(f\"A porcentagem de pessoas com deficiência contratada foi {porcentagem_aprovada:.2f}% \\n\\n\")\n",
        "\n",
        "# Plotando o gráfico\n",
        "fies2020_pessoa_com_deficiencia.groupby('Situação Inscrição Fies').count()['ID do estudante'].plot(kind='bar',color='r')\n",
        "plt.ylabel('Número de pessoas');\n",
        "plt.show()"
      ]
    },
    {
      "cell_type": "markdown",
      "metadata": {
        "id": "CPKPl95cTINt"
      },
      "source": [
        "Plotando um gráfico para pessoas com deficiência e para pessoas sem deficiência é possivél ver que os dados se assemelham, tendo um baixo nivél de aprovação nos dois casos, e uma grande parte dos candidatos na fila de espera. Sendo 7,37% de aprovação para pessoas sem deficiência, e uma porcentagem de 5,01% para pessoas com deficiência."
      ]
    },
    {
      "cell_type": "markdown",
      "metadata": {
        "id": "JIiRHuJVTINt"
      },
      "source": [
        "# Estatística descritiva"
      ]
    },
    {
      "cell_type": "markdown",
      "metadata": {
        "id": "TIhIOGA2TINt"
      },
      "source": [
        "## Há uma faixa renda per capita predominante no requerimento do FIES?\n"
      ]
    },
    {
      "cell_type": "markdown",
      "metadata": {
        "id": "JqPomDzfTINt"
      },
      "source": [
        "### 2019"
      ]
    },
    {
      "cell_type": "code",
      "execution_count": 17,
      "metadata": {
        "colab": {
          "base_uri": "https://localhost:8080/"
        },
        "id": "gPi7WpvdTINu",
        "outputId": "563b0b48-b9dd-4fa6-a93b-332391f40c8e"
      },
      "outputs": [
        {
          "output_type": "stream",
          "name": "stdout",
          "text": [
            "Média da renda: 938.7790923797069\n",
            "Desvio padrão da renda: 623.3622707644018\n",
            "Mediana da renda: 760.0\n",
            "Valor máximo da renda: 9831.36\n",
            "Percentil 25: 499.00\n",
            "Percentil 50: 760.00\n",
            "Percentil 75: 1200.00\n",
            "Percentil 95: 2254.57\n"
          ]
        }
      ],
      "source": [
        "mean_renda_pc = fies2019['Renda mensal bruta per capita'].mean()\n",
        "print('Média da renda: {}'.format(mean_renda_pc))\n",
        "dp_renda_pc = fies2019['Renda mensal bruta per capita'].std()\n",
        "print('Desvio padrão da renda: {}'.format(dp_renda_pc))\n",
        "median_renda_pc = fies2019['Renda mensal bruta per capita'].median()\n",
        "print('Mediana da renda: {}'.format(median_renda_pc))\n",
        "max_renda_pc = fies2019['Renda mensal bruta per capita'].max()\n",
        "print('Valor máximo da renda: {}'.format(max_renda_pc))\n",
        "\n",
        "# Percentil 25 (1º quartil)\n",
        "print('Percentil 25: {:.2f}'.format(fies2019['Renda mensal bruta per capita'].quantile(.25)))\n",
        "\n",
        "# Percentil 50 (2º quartil ou mediana)\n",
        "print('Percentil 50: {:.2f}'.format(fies2019['Renda mensal bruta per capita'].quantile(.50)))\n",
        "\n",
        "# Percentil 75 (3º quartil)\n",
        "print('Percentil 75: {:.2f}'.format(fies2019['Renda mensal bruta per capita'].quantile(.75)))\n",
        "\n",
        "# Percentil 95\n",
        "print('Percentil 95: {:.2f}'.format(fies2019['Renda mensal bruta per capita'].quantile(.95)))"
      ]
    },
    {
      "cell_type": "markdown",
      "source": [
        "### 2020"
      ],
      "metadata": {
        "id": "_Z3BN1JsTwvB"
      }
    },
    {
      "cell_type": "code",
      "source": [
        "mean_renda_pc = fies2020['Renda mensal bruta per capita'].mean()\n",
        "print('Média da renda: {}'.format(mean_renda_pc))\n",
        "dp_renda_pc = fies2020['Renda mensal bruta per capita'].std()\n",
        "print('Desvio padrão da renda: {}'.format(dp_renda_pc))\n",
        "median_renda_pc = fies2020['Renda mensal bruta per capita'].median()\n",
        "print('Mediana da renda: {}'.format(median_renda_pc))\n",
        "max_renda_pc = fies2020['Renda mensal bruta per capita'].max()\n",
        "print('Valor máximo da renda: {}'.format(max_renda_pc))\n",
        "\n",
        "# Percentil 25 (1º quartil)\n",
        "print('Percentil 25: {:.2f}'.format(fies2020['Renda mensal bruta per capita'].quantile(.25)))\n",
        "\n",
        "# Percentil 50 (2º quartil ou mediana)\n",
        "print('Percentil 50: {:.2f}'.format(fies2020['Renda mensal bruta per capita'].quantile(.50)))\n",
        "\n",
        "# Percentil 75 (3º quartil)\n",
        "print('Percentil 75: {:.2f}'.format(fies2020['Renda mensal bruta per capita'].quantile(.75)))\n",
        "\n",
        "# Percentil 95\n",
        "print('Percentil 95: {:.2f}'.format(fies2020['Renda mensal bruta per capita'].quantile(.95)))"
      ],
      "metadata": {
        "colab": {
          "base_uri": "https://localhost:8080/"
        },
        "id": "DzwLlAKMTU6I",
        "outputId": "2f57b439-f2d0-4178-d314-8ae7c5e0c4be"
      },
      "execution_count": 18,
      "outputs": [
        {
          "output_type": "stream",
          "name": "stdout",
          "text": [
            "Média da renda: 977.875462189941\n",
            "Desvio padrão da renda: 635.3838379473301\n",
            "Mediana da renda: 786.67\n",
            "Valor máximo da renda: 7805.53\n",
            "Percentil 25: 522.50\n",
            "Percentil 50: 786.67\n",
            "Percentil 75: 1250.00\n",
            "Percentil 95: 2448.62\n"
          ]
        }
      ]
    },
    {
      "cell_type": "markdown",
      "source": [
        "## Como é a dispersão entre os dados da quantidade de inscrições para os estados das IES com mais e menos inscritos?"
      ],
      "metadata": {
        "id": "jbtoH0JdTtLH"
      }
    },
    {
      "cell_type": "markdown",
      "source": [
        "### 2019"
      ],
      "metadata": {
        "id": "SxzW0y1cTzjJ"
      }
    },
    {
      "cell_type": "code",
      "source": [
        "max_insc_uf = fies2019['UF do Local de Oferta'].value_counts().max()\n",
        "min_insc_uf = fies2019['UF do Local de Oferta'].value_counts().min()\n",
        "print(\"Número de inscritos do estado com maior número de inscritos: \", max_insc_uf)\n",
        "print(\"Número de inscritos do estado com menor número de inscritos: \", min_insc_uf)\n",
        "print(\"Diferença entre o maior e menor: \", max_insc_uf - min_insc_uf)"
      ],
      "metadata": {
        "colab": {
          "base_uri": "https://localhost:8080/"
        },
        "id": "Zvi6e5rOTrxi",
        "outputId": "48b82be8-c8e2-47b3-d9a3-1f8930c58e24"
      },
      "execution_count": 19,
      "outputs": [
        {
          "output_type": "stream",
          "name": "stdout",
          "text": [
            "Número de inscritos do estado com maior número de inscritos:  32896\n",
            "Número de inscritos do estado com menor número de inscritos:  374\n",
            "Diferença entre o maior e menor:  32522\n"
          ]
        }
      ]
    },
    {
      "cell_type": "code",
      "source": [
        "max_uf_lo = fies2019['UF do Local de Oferta'].value_counts().mean()\n",
        "print('Média de inscritos: {}'.format(max_uf_lo))\n",
        "dp_uf_lo = fies2019['UF do Local de Oferta'].value_counts().std()\n",
        "print('Desvio padrão de inscritos: {}'.format(dp_uf_lo))\n",
        "median_uf_lo = fies2019['UF do Local de Oferta'].value_counts().median()\n",
        "print('Mediana de inscritos: {}'.format(median_uf_lo))\n",
        "\n",
        "\n",
        "# Percentil 25 (1º quartil)\n",
        "print('Percentil 25: {:.2f}'.format(fies2019['UF do Local de Oferta'].value_counts().quantile(.25)))\n",
        "\n",
        "# Percentil 50 (2º quartil ou mediana)\n",
        "print('Percentil 50: {:.2f}'.format(fies2019['UF do Local de Oferta'].value_counts().quantile(.50)))\n",
        "\n",
        "# Percentil 75 (3º quartil)\n",
        "print('Percentil 75: {:.2f}'.format(fies2019['UF do Local de Oferta'].value_counts().quantile(.75)))\n",
        "\n",
        "# Percentil 95\n",
        "print('Percentil 95: {:.2f}'.format(fies2019['UF do Local de Oferta'].value_counts().quantile(.95)))"
      ],
      "metadata": {
        "colab": {
          "base_uri": "https://localhost:8080/"
        },
        "id": "Ds81KTukUF9I",
        "outputId": "e21abf04-3249-4451-cfa7-a98a5fb6580c"
      },
      "execution_count": 20,
      "outputs": [
        {
          "output_type": "stream",
          "name": "stdout",
          "text": [
            "Média de inscritos: 8608.592592592593\n",
            "Desvio padrão de inscritos: 8181.503511717801\n",
            "Mediana de inscritos: 6737.0\n",
            "Percentil 25: 2838.50\n",
            "Percentil 50: 6737.00\n",
            "Percentil 75: 10659.00\n",
            "Percentil 95: 25700.50\n"
          ]
        }
      ]
    },
    {
      "cell_type": "markdown",
      "source": [
        "### 2020"
      ],
      "metadata": {
        "id": "tQyFROt_UPWA"
      }
    },
    {
      "cell_type": "code",
      "source": [
        "max_insc_uf = fies2020['UF do Local de Oferta'].value_counts().max()\n",
        "min_insc_uf = fies2020['UF do Local de Oferta'].value_counts().min()\n",
        "print(\"Número de inscritos do estado com maior número de inscritos: \", max_insc_uf)\n",
        "print(\"Número de inscritos do estado com menor número de inscritos: \", min_insc_uf)\n",
        "print(\"Diferença entre o maior e menor: \", max_insc_uf - min_insc_uf)"
      ],
      "metadata": {
        "colab": {
          "base_uri": "https://localhost:8080/"
        },
        "id": "reWk2ABHUSyX",
        "outputId": "159dd1aa-6524-4169-81d1-41dbdce69a22"
      },
      "execution_count": 21,
      "outputs": [
        {
          "output_type": "stream",
          "name": "stdout",
          "text": [
            "Número de inscritos do estado com maior número de inscritos:  24534\n",
            "Número de inscritos do estado com menor número de inscritos:  342\n",
            "Diferença entre o maior e menor:  24192\n"
          ]
        }
      ]
    },
    {
      "cell_type": "code",
      "source": [
        "max_uf_lo = fies2020['UF do Local de Oferta'].value_counts().mean()\n",
        "print('Média de inscritos: {}'.format(max_uf_lo))\n",
        "dp_uf_lo = fies2020['UF do Local de Oferta'].value_counts().std()\n",
        "print('Desvio padrão de inscritos: {}'.format(dp_uf_lo))\n",
        "median_uf_lo = fies2020['UF do Local de Oferta'].value_counts().median()\n",
        "print('Mediana de inscritos: {}'.format(median_uf_lo))\n",
        "\n",
        "\n",
        "# Percentil 25 (1º quartil)\n",
        "print('Percentil 25: {:.2f}'.format(fies2020['UF do Local de Oferta'].value_counts().quantile(.25)))\n",
        "\n",
        "# Percentil 50 (2º quartil ou mediana)\n",
        "print('Percentil 50: {:.2f}'.format(fies2020['UF do Local de Oferta'].value_counts().quantile(.50)))\n",
        "\n",
        "# Percentil 75 (3º quartil)\n",
        "print('Percentil 75: {:.2f}'.format(fies2020['UF do Local de Oferta'].value_counts().quantile(.75)))\n",
        "\n",
        "# Percentil 95\n",
        "print('Percentil 95: {:.2f}'.format(fies2020['UF do Local de Oferta'].value_counts().quantile(.95)))"
      ],
      "metadata": {
        "colab": {
          "base_uri": "https://localhost:8080/"
        },
        "id": "MpLYjeYeUb7b",
        "outputId": "c7567972-bcc3-4083-a210-b16816914e5f"
      },
      "execution_count": 22,
      "outputs": [
        {
          "output_type": "stream",
          "name": "stdout",
          "text": [
            "Média de inscritos: 6756.481481481482\n",
            "Desvio padrão de inscritos: 6239.283374594395\n",
            "Mediana de inscritos: 5340.0\n",
            "Percentil 25: 2088.50\n",
            "Percentil 50: 5340.00\n",
            "Percentil 75: 8195.00\n",
            "Percentil 95: 19251.70\n"
          ]
        }
      ]
    },
    {
      "cell_type": "markdown",
      "source": [
        "# Tabela"
      ],
      "metadata": {
        "id": "DOCF5hrnUv6n"
      }
    },
    {
      "cell_type": "markdown",
      "source": [
        "### UF e número de inscritos"
      ],
      "metadata": {
        "id": "ysGbRnXcUzVP"
      }
    },
    {
      "cell_type": "markdown",
      "source": [
        "### 2019"
      ],
      "metadata": {
        "id": "MIlt8XTMU5Bn"
      }
    },
    {
      "cell_type": "code",
      "source": [
        "uf = fies2019['UF do Local de Oferta'].unique()\n",
        "estado_num = []\n",
        "for u in uf:\n",
        "    num = fies2019[fies2019['UF do Local de Oferta'] == u]['UF do Local de Oferta'].size\n",
        "    estado_num.append([u, num])\n",
        "estado_num = pd.DataFrame(estado_num, columns=['Estado', 'Número de inscrições'])\n",
        "estado_num"
      ],
      "metadata": {
        "colab": {
          "base_uri": "https://localhost:8080/",
          "height": 896
        },
        "id": "-7igpy1wU9aI",
        "outputId": "6d83f40a-53dc-4d7c-85da-78c7e2f2f4e3"
      },
      "execution_count": 23,
      "outputs": [
        {
          "output_type": "execute_result",
          "data": {
            "text/plain": [
              "   Estado  Número de inscrições\n",
              "0      PR                  8637\n",
              "1      PE                 13043\n",
              "2      RS                  7017\n",
              "3      MG                 28753\n",
              "4      SP                 32896\n",
              "5      RJ                 16378\n",
              "6      BA                 18578\n",
              "7      MS                  1666\n",
              "8      ES                  2904\n",
              "9      SC                  2204\n",
              "10     GO                  7121\n",
              "11     PB                  9515\n",
              "12     SE                  3109\n",
              "13     AL                  3866\n",
              "14     DF                  8724\n",
              "15     TO                  2704\n",
              "16     CE                 17465\n",
              "17     AM                  6737\n",
              "18     RN                  3804\n",
              "19     PI                  6718\n",
              "20     PA                 11803\n",
              "21     MA                  9367\n",
              "22     AP                  1946\n",
              "23     RO                  3075\n",
              "24     MT                  2773\n",
              "25     RR                   374\n",
              "26     AC                  1255"
            ],
            "text/html": [
              "\n",
              "  <div id=\"df-1ddbc02d-c7b5-4cda-ab97-e600807630ed\">\n",
              "    <div class=\"colab-df-container\">\n",
              "      <div>\n",
              "<style scoped>\n",
              "    .dataframe tbody tr th:only-of-type {\n",
              "        vertical-align: middle;\n",
              "    }\n",
              "\n",
              "    .dataframe tbody tr th {\n",
              "        vertical-align: top;\n",
              "    }\n",
              "\n",
              "    .dataframe thead th {\n",
              "        text-align: right;\n",
              "    }\n",
              "</style>\n",
              "<table border=\"1\" class=\"dataframe\">\n",
              "  <thead>\n",
              "    <tr style=\"text-align: right;\">\n",
              "      <th></th>\n",
              "      <th>Estado</th>\n",
              "      <th>Número de inscrições</th>\n",
              "    </tr>\n",
              "  </thead>\n",
              "  <tbody>\n",
              "    <tr>\n",
              "      <th>0</th>\n",
              "      <td>PR</td>\n",
              "      <td>8637</td>\n",
              "    </tr>\n",
              "    <tr>\n",
              "      <th>1</th>\n",
              "      <td>PE</td>\n",
              "      <td>13043</td>\n",
              "    </tr>\n",
              "    <tr>\n",
              "      <th>2</th>\n",
              "      <td>RS</td>\n",
              "      <td>7017</td>\n",
              "    </tr>\n",
              "    <tr>\n",
              "      <th>3</th>\n",
              "      <td>MG</td>\n",
              "      <td>28753</td>\n",
              "    </tr>\n",
              "    <tr>\n",
              "      <th>4</th>\n",
              "      <td>SP</td>\n",
              "      <td>32896</td>\n",
              "    </tr>\n",
              "    <tr>\n",
              "      <th>5</th>\n",
              "      <td>RJ</td>\n",
              "      <td>16378</td>\n",
              "    </tr>\n",
              "    <tr>\n",
              "      <th>6</th>\n",
              "      <td>BA</td>\n",
              "      <td>18578</td>\n",
              "    </tr>\n",
              "    <tr>\n",
              "      <th>7</th>\n",
              "      <td>MS</td>\n",
              "      <td>1666</td>\n",
              "    </tr>\n",
              "    <tr>\n",
              "      <th>8</th>\n",
              "      <td>ES</td>\n",
              "      <td>2904</td>\n",
              "    </tr>\n",
              "    <tr>\n",
              "      <th>9</th>\n",
              "      <td>SC</td>\n",
              "      <td>2204</td>\n",
              "    </tr>\n",
              "    <tr>\n",
              "      <th>10</th>\n",
              "      <td>GO</td>\n",
              "      <td>7121</td>\n",
              "    </tr>\n",
              "    <tr>\n",
              "      <th>11</th>\n",
              "      <td>PB</td>\n",
              "      <td>9515</td>\n",
              "    </tr>\n",
              "    <tr>\n",
              "      <th>12</th>\n",
              "      <td>SE</td>\n",
              "      <td>3109</td>\n",
              "    </tr>\n",
              "    <tr>\n",
              "      <th>13</th>\n",
              "      <td>AL</td>\n",
              "      <td>3866</td>\n",
              "    </tr>\n",
              "    <tr>\n",
              "      <th>14</th>\n",
              "      <td>DF</td>\n",
              "      <td>8724</td>\n",
              "    </tr>\n",
              "    <tr>\n",
              "      <th>15</th>\n",
              "      <td>TO</td>\n",
              "      <td>2704</td>\n",
              "    </tr>\n",
              "    <tr>\n",
              "      <th>16</th>\n",
              "      <td>CE</td>\n",
              "      <td>17465</td>\n",
              "    </tr>\n",
              "    <tr>\n",
              "      <th>17</th>\n",
              "      <td>AM</td>\n",
              "      <td>6737</td>\n",
              "    </tr>\n",
              "    <tr>\n",
              "      <th>18</th>\n",
              "      <td>RN</td>\n",
              "      <td>3804</td>\n",
              "    </tr>\n",
              "    <tr>\n",
              "      <th>19</th>\n",
              "      <td>PI</td>\n",
              "      <td>6718</td>\n",
              "    </tr>\n",
              "    <tr>\n",
              "      <th>20</th>\n",
              "      <td>PA</td>\n",
              "      <td>11803</td>\n",
              "    </tr>\n",
              "    <tr>\n",
              "      <th>21</th>\n",
              "      <td>MA</td>\n",
              "      <td>9367</td>\n",
              "    </tr>\n",
              "    <tr>\n",
              "      <th>22</th>\n",
              "      <td>AP</td>\n",
              "      <td>1946</td>\n",
              "    </tr>\n",
              "    <tr>\n",
              "      <th>23</th>\n",
              "      <td>RO</td>\n",
              "      <td>3075</td>\n",
              "    </tr>\n",
              "    <tr>\n",
              "      <th>24</th>\n",
              "      <td>MT</td>\n",
              "      <td>2773</td>\n",
              "    </tr>\n",
              "    <tr>\n",
              "      <th>25</th>\n",
              "      <td>RR</td>\n",
              "      <td>374</td>\n",
              "    </tr>\n",
              "    <tr>\n",
              "      <th>26</th>\n",
              "      <td>AC</td>\n",
              "      <td>1255</td>\n",
              "    </tr>\n",
              "  </tbody>\n",
              "</table>\n",
              "</div>\n",
              "      <button class=\"colab-df-convert\" onclick=\"convertToInteractive('df-1ddbc02d-c7b5-4cda-ab97-e600807630ed')\"\n",
              "              title=\"Convert this dataframe to an interactive table.\"\n",
              "              style=\"display:none;\">\n",
              "        \n",
              "  <svg xmlns=\"http://www.w3.org/2000/svg\" height=\"24px\"viewBox=\"0 0 24 24\"\n",
              "       width=\"24px\">\n",
              "    <path d=\"M0 0h24v24H0V0z\" fill=\"none\"/>\n",
              "    <path d=\"M18.56 5.44l.94 2.06.94-2.06 2.06-.94-2.06-.94-.94-2.06-.94 2.06-2.06.94zm-11 1L8.5 8.5l.94-2.06 2.06-.94-2.06-.94L8.5 2.5l-.94 2.06-2.06.94zm10 10l.94 2.06.94-2.06 2.06-.94-2.06-.94-.94-2.06-.94 2.06-2.06.94z\"/><path d=\"M17.41 7.96l-1.37-1.37c-.4-.4-.92-.59-1.43-.59-.52 0-1.04.2-1.43.59L10.3 9.45l-7.72 7.72c-.78.78-.78 2.05 0 2.83L4 21.41c.39.39.9.59 1.41.59.51 0 1.02-.2 1.41-.59l7.78-7.78 2.81-2.81c.8-.78.8-2.07 0-2.86zM5.41 20L4 18.59l7.72-7.72 1.47 1.35L5.41 20z\"/>\n",
              "  </svg>\n",
              "      </button>\n",
              "      \n",
              "  <style>\n",
              "    .colab-df-container {\n",
              "      display:flex;\n",
              "      flex-wrap:wrap;\n",
              "      gap: 12px;\n",
              "    }\n",
              "\n",
              "    .colab-df-convert {\n",
              "      background-color: #E8F0FE;\n",
              "      border: none;\n",
              "      border-radius: 50%;\n",
              "      cursor: pointer;\n",
              "      display: none;\n",
              "      fill: #1967D2;\n",
              "      height: 32px;\n",
              "      padding: 0 0 0 0;\n",
              "      width: 32px;\n",
              "    }\n",
              "\n",
              "    .colab-df-convert:hover {\n",
              "      background-color: #E2EBFA;\n",
              "      box-shadow: 0px 1px 2px rgba(60, 64, 67, 0.3), 0px 1px 3px 1px rgba(60, 64, 67, 0.15);\n",
              "      fill: #174EA6;\n",
              "    }\n",
              "\n",
              "    [theme=dark] .colab-df-convert {\n",
              "      background-color: #3B4455;\n",
              "      fill: #D2E3FC;\n",
              "    }\n",
              "\n",
              "    [theme=dark] .colab-df-convert:hover {\n",
              "      background-color: #434B5C;\n",
              "      box-shadow: 0px 1px 3px 1px rgba(0, 0, 0, 0.15);\n",
              "      filter: drop-shadow(0px 1px 2px rgba(0, 0, 0, 0.3));\n",
              "      fill: #FFFFFF;\n",
              "    }\n",
              "  </style>\n",
              "\n",
              "      <script>\n",
              "        const buttonEl =\n",
              "          document.querySelector('#df-1ddbc02d-c7b5-4cda-ab97-e600807630ed button.colab-df-convert');\n",
              "        buttonEl.style.display =\n",
              "          google.colab.kernel.accessAllowed ? 'block' : 'none';\n",
              "\n",
              "        async function convertToInteractive(key) {\n",
              "          const element = document.querySelector('#df-1ddbc02d-c7b5-4cda-ab97-e600807630ed');\n",
              "          const dataTable =\n",
              "            await google.colab.kernel.invokeFunction('convertToInteractive',\n",
              "                                                     [key], {});\n",
              "          if (!dataTable) return;\n",
              "\n",
              "          const docLinkHtml = 'Like what you see? Visit the ' +\n",
              "            '<a target=\"_blank\" href=https://colab.research.google.com/notebooks/data_table.ipynb>data table notebook</a>'\n",
              "            + ' to learn more about interactive tables.';\n",
              "          element.innerHTML = '';\n",
              "          dataTable['output_type'] = 'display_data';\n",
              "          await google.colab.output.renderOutput(dataTable, element);\n",
              "          const docLink = document.createElement('div');\n",
              "          docLink.innerHTML = docLinkHtml;\n",
              "          element.appendChild(docLink);\n",
              "        }\n",
              "      </script>\n",
              "    </div>\n",
              "  </div>\n",
              "  "
            ]
          },
          "metadata": {},
          "execution_count": 23
        }
      ]
    },
    {
      "cell_type": "markdown",
      "source": [
        "### 2020"
      ],
      "metadata": {
        "id": "wLXOyq24U7nX"
      }
    },
    {
      "cell_type": "code",
      "source": [
        "uf = fies2020['UF do Local de Oferta'].unique()\n",
        "estado_num = []\n",
        "for u in uf:\n",
        "    num = fies2020[fies2020['UF do Local de Oferta'] == u]['UF do Local de Oferta'].size\n",
        "    estado_num.append([u, num])\n",
        "estado_num = pd.DataFrame(estado_num, columns=['Estado', 'Número de inscrições'])\n",
        "estado_num"
      ],
      "metadata": {
        "colab": {
          "base_uri": "https://localhost:8080/",
          "height": 896
        },
        "id": "v9z-YUq9VETv",
        "outputId": "db7db634-6ad4-44e2-e5e1-cd704bf84701"
      },
      "execution_count": 24,
      "outputs": [
        {
          "output_type": "execute_result",
          "data": {
            "text/plain": [
              "   Estado  Número de inscrições\n",
              "0      PR                  7794\n",
              "1      PE                 10148\n",
              "2      RS                  4471\n",
              "3      SP                 24534\n",
              "4      MG                 20830\n",
              "5      BA                 15569\n",
              "6      RJ                 15072\n",
              "7      MS                  2037\n",
              "8      ES                  2663\n",
              "9      SC                  1986\n",
              "10     GO                  6499\n",
              "11     PB                  6901\n",
              "12     SE                  2396\n",
              "13     AL                  3200\n",
              "14     DF                  6091\n",
              "15     TO                  2804\n",
              "16     CE                 13639\n",
              "17     AM                  5738\n",
              "18     RN                  2140\n",
              "19     PI                  5340\n",
              "20     PA                  8596\n",
              "21     AP                  1367\n",
              "22     RO                  1898\n",
              "23     MT                  2008\n",
              "24     MA                  7272\n",
              "25     RR                   342\n",
              "26     AC                  1090"
            ],
            "text/html": [
              "\n",
              "  <div id=\"df-d928ba69-9d70-4af2-b90b-37aad0eb8cea\">\n",
              "    <div class=\"colab-df-container\">\n",
              "      <div>\n",
              "<style scoped>\n",
              "    .dataframe tbody tr th:only-of-type {\n",
              "        vertical-align: middle;\n",
              "    }\n",
              "\n",
              "    .dataframe tbody tr th {\n",
              "        vertical-align: top;\n",
              "    }\n",
              "\n",
              "    .dataframe thead th {\n",
              "        text-align: right;\n",
              "    }\n",
              "</style>\n",
              "<table border=\"1\" class=\"dataframe\">\n",
              "  <thead>\n",
              "    <tr style=\"text-align: right;\">\n",
              "      <th></th>\n",
              "      <th>Estado</th>\n",
              "      <th>Número de inscrições</th>\n",
              "    </tr>\n",
              "  </thead>\n",
              "  <tbody>\n",
              "    <tr>\n",
              "      <th>0</th>\n",
              "      <td>PR</td>\n",
              "      <td>7794</td>\n",
              "    </tr>\n",
              "    <tr>\n",
              "      <th>1</th>\n",
              "      <td>PE</td>\n",
              "      <td>10148</td>\n",
              "    </tr>\n",
              "    <tr>\n",
              "      <th>2</th>\n",
              "      <td>RS</td>\n",
              "      <td>4471</td>\n",
              "    </tr>\n",
              "    <tr>\n",
              "      <th>3</th>\n",
              "      <td>SP</td>\n",
              "      <td>24534</td>\n",
              "    </tr>\n",
              "    <tr>\n",
              "      <th>4</th>\n",
              "      <td>MG</td>\n",
              "      <td>20830</td>\n",
              "    </tr>\n",
              "    <tr>\n",
              "      <th>5</th>\n",
              "      <td>BA</td>\n",
              "      <td>15569</td>\n",
              "    </tr>\n",
              "    <tr>\n",
              "      <th>6</th>\n",
              "      <td>RJ</td>\n",
              "      <td>15072</td>\n",
              "    </tr>\n",
              "    <tr>\n",
              "      <th>7</th>\n",
              "      <td>MS</td>\n",
              "      <td>2037</td>\n",
              "    </tr>\n",
              "    <tr>\n",
              "      <th>8</th>\n",
              "      <td>ES</td>\n",
              "      <td>2663</td>\n",
              "    </tr>\n",
              "    <tr>\n",
              "      <th>9</th>\n",
              "      <td>SC</td>\n",
              "      <td>1986</td>\n",
              "    </tr>\n",
              "    <tr>\n",
              "      <th>10</th>\n",
              "      <td>GO</td>\n",
              "      <td>6499</td>\n",
              "    </tr>\n",
              "    <tr>\n",
              "      <th>11</th>\n",
              "      <td>PB</td>\n",
              "      <td>6901</td>\n",
              "    </tr>\n",
              "    <tr>\n",
              "      <th>12</th>\n",
              "      <td>SE</td>\n",
              "      <td>2396</td>\n",
              "    </tr>\n",
              "    <tr>\n",
              "      <th>13</th>\n",
              "      <td>AL</td>\n",
              "      <td>3200</td>\n",
              "    </tr>\n",
              "    <tr>\n",
              "      <th>14</th>\n",
              "      <td>DF</td>\n",
              "      <td>6091</td>\n",
              "    </tr>\n",
              "    <tr>\n",
              "      <th>15</th>\n",
              "      <td>TO</td>\n",
              "      <td>2804</td>\n",
              "    </tr>\n",
              "    <tr>\n",
              "      <th>16</th>\n",
              "      <td>CE</td>\n",
              "      <td>13639</td>\n",
              "    </tr>\n",
              "    <tr>\n",
              "      <th>17</th>\n",
              "      <td>AM</td>\n",
              "      <td>5738</td>\n",
              "    </tr>\n",
              "    <tr>\n",
              "      <th>18</th>\n",
              "      <td>RN</td>\n",
              "      <td>2140</td>\n",
              "    </tr>\n",
              "    <tr>\n",
              "      <th>19</th>\n",
              "      <td>PI</td>\n",
              "      <td>5340</td>\n",
              "    </tr>\n",
              "    <tr>\n",
              "      <th>20</th>\n",
              "      <td>PA</td>\n",
              "      <td>8596</td>\n",
              "    </tr>\n",
              "    <tr>\n",
              "      <th>21</th>\n",
              "      <td>AP</td>\n",
              "      <td>1367</td>\n",
              "    </tr>\n",
              "    <tr>\n",
              "      <th>22</th>\n",
              "      <td>RO</td>\n",
              "      <td>1898</td>\n",
              "    </tr>\n",
              "    <tr>\n",
              "      <th>23</th>\n",
              "      <td>MT</td>\n",
              "      <td>2008</td>\n",
              "    </tr>\n",
              "    <tr>\n",
              "      <th>24</th>\n",
              "      <td>MA</td>\n",
              "      <td>7272</td>\n",
              "    </tr>\n",
              "    <tr>\n",
              "      <th>25</th>\n",
              "      <td>RR</td>\n",
              "      <td>342</td>\n",
              "    </tr>\n",
              "    <tr>\n",
              "      <th>26</th>\n",
              "      <td>AC</td>\n",
              "      <td>1090</td>\n",
              "    </tr>\n",
              "  </tbody>\n",
              "</table>\n",
              "</div>\n",
              "      <button class=\"colab-df-convert\" onclick=\"convertToInteractive('df-d928ba69-9d70-4af2-b90b-37aad0eb8cea')\"\n",
              "              title=\"Convert this dataframe to an interactive table.\"\n",
              "              style=\"display:none;\">\n",
              "        \n",
              "  <svg xmlns=\"http://www.w3.org/2000/svg\" height=\"24px\"viewBox=\"0 0 24 24\"\n",
              "       width=\"24px\">\n",
              "    <path d=\"M0 0h24v24H0V0z\" fill=\"none\"/>\n",
              "    <path d=\"M18.56 5.44l.94 2.06.94-2.06 2.06-.94-2.06-.94-.94-2.06-.94 2.06-2.06.94zm-11 1L8.5 8.5l.94-2.06 2.06-.94-2.06-.94L8.5 2.5l-.94 2.06-2.06.94zm10 10l.94 2.06.94-2.06 2.06-.94-2.06-.94-.94-2.06-.94 2.06-2.06.94z\"/><path d=\"M17.41 7.96l-1.37-1.37c-.4-.4-.92-.59-1.43-.59-.52 0-1.04.2-1.43.59L10.3 9.45l-7.72 7.72c-.78.78-.78 2.05 0 2.83L4 21.41c.39.39.9.59 1.41.59.51 0 1.02-.2 1.41-.59l7.78-7.78 2.81-2.81c.8-.78.8-2.07 0-2.86zM5.41 20L4 18.59l7.72-7.72 1.47 1.35L5.41 20z\"/>\n",
              "  </svg>\n",
              "      </button>\n",
              "      \n",
              "  <style>\n",
              "    .colab-df-container {\n",
              "      display:flex;\n",
              "      flex-wrap:wrap;\n",
              "      gap: 12px;\n",
              "    }\n",
              "\n",
              "    .colab-df-convert {\n",
              "      background-color: #E8F0FE;\n",
              "      border: none;\n",
              "      border-radius: 50%;\n",
              "      cursor: pointer;\n",
              "      display: none;\n",
              "      fill: #1967D2;\n",
              "      height: 32px;\n",
              "      padding: 0 0 0 0;\n",
              "      width: 32px;\n",
              "    }\n",
              "\n",
              "    .colab-df-convert:hover {\n",
              "      background-color: #E2EBFA;\n",
              "      box-shadow: 0px 1px 2px rgba(60, 64, 67, 0.3), 0px 1px 3px 1px rgba(60, 64, 67, 0.15);\n",
              "      fill: #174EA6;\n",
              "    }\n",
              "\n",
              "    [theme=dark] .colab-df-convert {\n",
              "      background-color: #3B4455;\n",
              "      fill: #D2E3FC;\n",
              "    }\n",
              "\n",
              "    [theme=dark] .colab-df-convert:hover {\n",
              "      background-color: #434B5C;\n",
              "      box-shadow: 0px 1px 3px 1px rgba(0, 0, 0, 0.15);\n",
              "      filter: drop-shadow(0px 1px 2px rgba(0, 0, 0, 0.3));\n",
              "      fill: #FFFFFF;\n",
              "    }\n",
              "  </style>\n",
              "\n",
              "      <script>\n",
              "        const buttonEl =\n",
              "          document.querySelector('#df-d928ba69-9d70-4af2-b90b-37aad0eb8cea button.colab-df-convert');\n",
              "        buttonEl.style.display =\n",
              "          google.colab.kernel.accessAllowed ? 'block' : 'none';\n",
              "\n",
              "        async function convertToInteractive(key) {\n",
              "          const element = document.querySelector('#df-d928ba69-9d70-4af2-b90b-37aad0eb8cea');\n",
              "          const dataTable =\n",
              "            await google.colab.kernel.invokeFunction('convertToInteractive',\n",
              "                                                     [key], {});\n",
              "          if (!dataTable) return;\n",
              "\n",
              "          const docLinkHtml = 'Like what you see? Visit the ' +\n",
              "            '<a target=\"_blank\" href=https://colab.research.google.com/notebooks/data_table.ipynb>data table notebook</a>'\n",
              "            + ' to learn more about interactive tables.';\n",
              "          element.innerHTML = '';\n",
              "          dataTable['output_type'] = 'display_data';\n",
              "          await google.colab.output.renderOutput(dataTable, element);\n",
              "          const docLink = document.createElement('div');\n",
              "          docLink.innerHTML = docLinkHtml;\n",
              "          element.appendChild(docLink);\n",
              "        }\n",
              "      </script>\n",
              "    </div>\n",
              "  </div>\n",
              "  "
            ]
          },
          "metadata": {},
          "execution_count": 24
        }
      ]
    }
  ],
  "metadata": {
    "colab": {
      "name": "TpDados.ipynb",
      "provenance": []
    },
    "kernelspec": {
      "display_name": "Python 3.10.0 64-bit",
      "language": "python",
      "name": "python3"
    },
    "language_info": {
      "codemirror_mode": {
        "name": "ipython",
        "version": 3
      },
      "file_extension": ".py",
      "mimetype": "text/x-python",
      "name": "python",
      "nbconvert_exporter": "python",
      "pygments_lexer": "ipython3",
      "version": "3.10.0"
    },
    "vscode": {
      "interpreter": {
        "hash": "783afa5d1260bd208f73dd34d65c05c354ecb59a30bda5d321bcb66aef15071d"
      }
    }
  },
  "nbformat": 4,
  "nbformat_minor": 0
}