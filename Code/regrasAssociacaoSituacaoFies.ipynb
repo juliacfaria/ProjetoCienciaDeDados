{
 "cells": [
  {
   "cell_type": "markdown",
   "metadata": {},
   "source": [
    "## Configurações iniciais"
   ]
  },
  {
   "cell_type": "code",
   "execution_count": 159,
   "metadata": {},
   "outputs": [],
   "source": [
    "#!wget https://media.githubusercontent.com/media/juliacfaria/arquivosTPDados/main/DadosLimpos/dadosLimpos2019.csv"
   ]
  },
  {
   "cell_type": "code",
   "execution_count": 160,
   "metadata": {},
   "outputs": [],
   "source": [
    "#!wget https://media.githubusercontent.com/media/juliacfaria/arquivosTPDados/main/DadosLimpos/dadosLimpos2020.csv"
   ]
  },
  {
   "cell_type": "code",
   "execution_count": 161,
   "metadata": {},
   "outputs": [],
   "source": [
    "import pandas as pd\n",
    "import matplotlib.pyplot as plt\n",
    "import numpy as np"
   ]
  },
  {
   "cell_type": "code",
   "execution_count": 162,
   "metadata": {},
   "outputs": [],
   "source": [
    "fies2019 = pd.read_csv('./dadosLimpos2019.csv', encoding=\"UTF-8\")\n",
    "\n",
    "fies2020 = pd.read_csv('./dadosLimpos2020.csv', encoding=\"UTF-8\")"
   ]
  },
  {
   "cell_type": "markdown",
   "metadata": {},
   "source": [
    "## Fies 2019\n",
    "\n",
    "Primeiro serão realizadas análises para o dataframe do Fies 2019. Em seguida, o mesmo será feito para o Fies 2020"
   ]
  },
  {
   "cell_type": "markdown",
   "metadata": {},
   "source": [
    "### Discretizar atributos numéricos\n",
    "\n",
    "Conforme aprendido em sala de aula, esta técnica de aprendizagem necessita que os atributos numéricos utilizados sejam organizados em categorias, de modo que tal conversão se faz necessária.\n",
    "\n",
    "Primeiro, então, analisaremos as colunas prentes no dataset após sua limpeza"
   ]
  },
  {
   "cell_type": "code",
   "execution_count": 163,
   "metadata": {},
   "outputs": [
    {
     "name": "stdout",
     "output_type": "stream",
     "text": [
      "<class 'pandas.core.frame.DataFrame'>\n",
      "RangeIndex: 232432 entries, 0 to 232431\n",
      "Data columns (total 30 columns):\n",
      " #   Column                          Non-Null Count   Dtype  \n",
      "---  ------                          --------------   -----  \n",
      " 0   ID do estudante                 232432 non-null  int64  \n",
      " 1   Sexo                            232432 non-null  object \n",
      " 2   Data de Nascimento              232432 non-null  object \n",
      " 3   UF de residência                232432 non-null  object \n",
      " 4   Etnia/Cor                       232432 non-null  object \n",
      " 5   Pessoa com deficiência?         232432 non-null  object \n",
      " 6   Ano conclusão ensino médio      232432 non-null  int64  \n",
      " 7   Concluiu curso superior?        232432 non-null  object \n",
      " 8   Nº de membros Grupo Familiar    232432 non-null  int64  \n",
      " 9   Renda familiar mensal bruta     232432 non-null  float64\n",
      " 10  Renda mensal bruta per capita   232432 non-null  float64\n",
      " 11  UF                              232432 non-null  object \n",
      " 12  Área do conhecimento            232432 non-null  object \n",
      " 13  Subárea do conhecimento         232432 non-null  object \n",
      " 14  Opções de cursos da inscrição   232432 non-null  int64  \n",
      " 15  Nome mantenedora                232432 non-null  object \n",
      " 16  Natureza Jurídica Mantenedora   232432 non-null  object \n",
      " 17  Nome da IES                     232432 non-null  object \n",
      " 18  Organização Acadêmica da IES    232432 non-null  object \n",
      " 19  UF do Local de Oferta           232432 non-null  object \n",
      " 20  Nome do curso                   232432 non-null  object \n",
      " 21  Turno                           232432 non-null  object \n",
      " 22  Média nota Enem                 232432 non-null  float64\n",
      " 23  Ano do Enem                     232432 non-null  int64  \n",
      " 24  Redação                         232432 non-null  int64  \n",
      " 25  Matemática e suas Tecnologias   232432 non-null  float64\n",
      " 26  Linguagens, Códigos e suas Tec  232432 non-null  float64\n",
      " 27  Ciências Natureza e suas Tec    232432 non-null  float64\n",
      " 28  Ciências Humanas e suas Tec     232432 non-null  float64\n",
      " 29  Situação Inscrição Fies         232432 non-null  object \n",
      "dtypes: float64(7), int64(6), object(17)\n",
      "memory usage: 53.2+ MB\n"
     ]
    }
   ],
   "source": [
    "fies2019.info()"
   ]
  },
  {
   "cell_type": "markdown",
   "metadata": {},
   "source": [
    "### Visando analisar regras de associação para a Situação de Inscrição no FIES\n",
    "\n",
    "Como o campo \"Situação Inscrição Fies\" será avaliado nas conjunto de regras de associação, definiu-se as colunas de interesse como aquelas que pensamos que poderiam influir e/ou estar relacionadas com este campo, sendo elas:\n",
    "\n",
    "\"Nº de membros Grupo Familiar\", \"Renda familiar mensal bruta\", \"Renda mensal bruta per capita\", \"Opções de cursos da inscrição\",\n",
    "\"Sexo\", \"UF de residência\", \"Etnia/Cor\", \"Pessoa com deficiência?\", \"Concluiu curso superior?\", \"Situação Inscrição Fies\"\n",
    "\n",
    "\n",
    "Desta forma, dentre estes campos, os que forem numéricos serão convertidos em categorias"
   ]
  },
  {
   "cell_type": "markdown",
   "metadata": {},
   "source": [
    "#### Convertendo Nº de membros Grupo Familiar\n",
    "\n",
    "Os intervalores correspondentes a cada categoria foi definido com base nas estatísticas"
   ]
  },
  {
   "cell_type": "code",
   "execution_count": 164,
   "metadata": {},
   "outputs": [
    {
     "data": {
      "text/plain": [
       "count    232432.000000\n",
       "mean          2.220219\n",
       "std           1.172808\n",
       "min           1.000000\n",
       "25%           1.000000\n",
       "50%           2.000000\n",
       "75%           3.000000\n",
       "max          25.000000\n",
       "Name: Nº de membros Grupo Familiar, dtype: float64"
      ]
     },
     "execution_count": 164,
     "metadata": {},
     "output_type": "execute_result"
    }
   ],
   "source": [
    "fies2019['Nº de membros Grupo Familiar'].describe()"
   ]
  },
  {
   "cell_type": "code",
   "execution_count": 165,
   "metadata": {},
   "outputs": [
    {
     "data": {
      "text/html": [
       "<div>\n",
       "<style scoped>\n",
       "    .dataframe tbody tr th:only-of-type {\n",
       "        vertical-align: middle;\n",
       "    }\n",
       "\n",
       "    .dataframe tbody tr th {\n",
       "        vertical-align: top;\n",
       "    }\n",
       "\n",
       "    .dataframe thead th {\n",
       "        text-align: right;\n",
       "    }\n",
       "</style>\n",
       "<table border=\"1\" class=\"dataframe\">\n",
       "  <thead>\n",
       "    <tr style=\"text-align: right;\">\n",
       "      <th></th>\n",
       "      <th>Nº de membros Grupo Familiar</th>\n",
       "      <th>cat_membros_familia</th>\n",
       "    </tr>\n",
       "  </thead>\n",
       "  <tbody>\n",
       "    <tr>\n",
       "      <th>0</th>\n",
       "      <td>2</td>\n",
       "      <td>MEMBROSFAMILIA&lt;Q2_Q3&gt;</td>\n",
       "    </tr>\n",
       "    <tr>\n",
       "      <th>1</th>\n",
       "      <td>3</td>\n",
       "      <td>MEMBROSFAMILIA&lt;Q2_Q3&gt;</td>\n",
       "    </tr>\n",
       "    <tr>\n",
       "      <th>2</th>\n",
       "      <td>2</td>\n",
       "      <td>MEMBROSFAMILIA&lt;Q2_Q3&gt;</td>\n",
       "    </tr>\n",
       "    <tr>\n",
       "      <th>3</th>\n",
       "      <td>1</td>\n",
       "      <td>MEMBROSFAMILIA&lt;Q1</td>\n",
       "    </tr>\n",
       "    <tr>\n",
       "      <th>4</th>\n",
       "      <td>3</td>\n",
       "      <td>MEMBROSFAMILIA&lt;Q2_Q3&gt;</td>\n",
       "    </tr>\n",
       "    <tr>\n",
       "      <th>...</th>\n",
       "      <td>...</td>\n",
       "      <td>...</td>\n",
       "    </tr>\n",
       "    <tr>\n",
       "      <th>232427</th>\n",
       "      <td>2</td>\n",
       "      <td>MEMBROSFAMILIA&lt;Q2_Q3&gt;</td>\n",
       "    </tr>\n",
       "    <tr>\n",
       "      <th>232428</th>\n",
       "      <td>2</td>\n",
       "      <td>MEMBROSFAMILIA&lt;Q2_Q3&gt;</td>\n",
       "    </tr>\n",
       "    <tr>\n",
       "      <th>232429</th>\n",
       "      <td>2</td>\n",
       "      <td>MEMBROSFAMILIA&lt;Q2_Q3&gt;</td>\n",
       "    </tr>\n",
       "    <tr>\n",
       "      <th>232430</th>\n",
       "      <td>3</td>\n",
       "      <td>MEMBROSFAMILIA&lt;Q2_Q3&gt;</td>\n",
       "    </tr>\n",
       "    <tr>\n",
       "      <th>232431</th>\n",
       "      <td>2</td>\n",
       "      <td>MEMBROSFAMILIA&lt;Q2_Q3&gt;</td>\n",
       "    </tr>\n",
       "  </tbody>\n",
       "</table>\n",
       "<p>232432 rows × 2 columns</p>\n",
       "</div>"
      ],
      "text/plain": [
       "        Nº de membros Grupo Familiar    cat_membros_familia\n",
       "0                                  2  MEMBROSFAMILIA<Q2_Q3>\n",
       "1                                  3  MEMBROSFAMILIA<Q2_Q3>\n",
       "2                                  2  MEMBROSFAMILIA<Q2_Q3>\n",
       "3                                  1      MEMBROSFAMILIA<Q1\n",
       "4                                  3  MEMBROSFAMILIA<Q2_Q3>\n",
       "...                              ...                    ...\n",
       "232427                             2  MEMBROSFAMILIA<Q2_Q3>\n",
       "232428                             2  MEMBROSFAMILIA<Q2_Q3>\n",
       "232429                             2  MEMBROSFAMILIA<Q2_Q3>\n",
       "232430                             3  MEMBROSFAMILIA<Q2_Q3>\n",
       "232431                             2  MEMBROSFAMILIA<Q2_Q3>\n",
       "\n",
       "[232432 rows x 2 columns]"
      ]
     },
     "execution_count": 165,
     "metadata": {},
     "output_type": "execute_result"
    }
   ],
   "source": [
    "bins = [0, 1, 3, np.inf]\n",
    "names = ['MEMBROSFAMILIA<Q1','MEMBROSFAMILIA<Q2_Q3>','MEMBROSFAMILIA>Q3']\n",
    "fies2019['cat_membros_familia'] = pd.cut(fies2019['Nº de membros Grupo Familiar'], bins, labels=names)\n",
    "fies2019[['Nº de membros Grupo Familiar','cat_membros_familia']]"
   ]
  },
  {
   "cell_type": "markdown",
   "metadata": {},
   "source": [
    "Observe que agora um novo campo foi adicionado, o qual é uma categoria"
   ]
  },
  {
   "cell_type": "code",
   "execution_count": 166,
   "metadata": {},
   "outputs": [
    {
     "name": "stdout",
     "output_type": "stream",
     "text": [
      "<class 'pandas.core.frame.DataFrame'>\n",
      "RangeIndex: 232432 entries, 0 to 232431\n",
      "Data columns (total 31 columns):\n",
      " #   Column                          Non-Null Count   Dtype   \n",
      "---  ------                          --------------   -----   \n",
      " 0   ID do estudante                 232432 non-null  int64   \n",
      " 1   Sexo                            232432 non-null  object  \n",
      " 2   Data de Nascimento              232432 non-null  object  \n",
      " 3   UF de residência                232432 non-null  object  \n",
      " 4   Etnia/Cor                       232432 non-null  object  \n",
      " 5   Pessoa com deficiência?         232432 non-null  object  \n",
      " 6   Ano conclusão ensino médio      232432 non-null  int64   \n",
      " 7   Concluiu curso superior?        232432 non-null  object  \n",
      " 8   Nº de membros Grupo Familiar    232432 non-null  int64   \n",
      " 9   Renda familiar mensal bruta     232432 non-null  float64 \n",
      " 10  Renda mensal bruta per capita   232432 non-null  float64 \n",
      " 11  UF                              232432 non-null  object  \n",
      " 12  Área do conhecimento            232432 non-null  object  \n",
      " 13  Subárea do conhecimento         232432 non-null  object  \n",
      " 14  Opções de cursos da inscrição   232432 non-null  int64   \n",
      " 15  Nome mantenedora                232432 non-null  object  \n",
      " 16  Natureza Jurídica Mantenedora   232432 non-null  object  \n",
      " 17  Nome da IES                     232432 non-null  object  \n",
      " 18  Organização Acadêmica da IES    232432 non-null  object  \n",
      " 19  UF do Local de Oferta           232432 non-null  object  \n",
      " 20  Nome do curso                   232432 non-null  object  \n",
      " 21  Turno                           232432 non-null  object  \n",
      " 22  Média nota Enem                 232432 non-null  float64 \n",
      " 23  Ano do Enem                     232432 non-null  int64   \n",
      " 24  Redação                         232432 non-null  int64   \n",
      " 25  Matemática e suas Tecnologias   232432 non-null  float64 \n",
      " 26  Linguagens, Códigos e suas Tec  232432 non-null  float64 \n",
      " 27  Ciências Natureza e suas Tec    232432 non-null  float64 \n",
      " 28  Ciências Humanas e suas Tec     232432 non-null  float64 \n",
      " 29  Situação Inscrição Fies         232432 non-null  object  \n",
      " 30  cat_membros_familia             232432 non-null  category\n",
      "dtypes: category(1), float64(7), int64(6), object(17)\n",
      "memory usage: 53.4+ MB\n"
     ]
    }
   ],
   "source": [
    "fies2019.info()"
   ]
  },
  {
   "cell_type": "markdown",
   "metadata": {},
   "source": [
    "#### Convertendo Renda familiar mensal bruta\n",
    "\n",
    "Os intervalores correspondentes a cada categoria foi definido com base nas estatísticas descritivas"
   ]
  },
  {
   "cell_type": "code",
   "execution_count": 167,
   "metadata": {},
   "outputs": [
    {
     "data": {
      "text/plain": [
       "count    232432.000000\n",
       "mean       2909.662826\n",
       "std        2255.905552\n",
       "min           0.000000\n",
       "25%        1393.000000\n",
       "50%        2200.000000\n",
       "75%        3544.880000\n",
       "max       36757.000000\n",
       "Name: Renda familiar mensal bruta, dtype: float64"
      ]
     },
     "execution_count": 167,
     "metadata": {},
     "output_type": "execute_result"
    }
   ],
   "source": [
    "fies2019['Renda familiar mensal bruta'].describe()"
   ]
  },
  {
   "cell_type": "code",
   "execution_count": 168,
   "metadata": {},
   "outputs": [
    {
     "data": {
      "text/html": [
       "<div>\n",
       "<style scoped>\n",
       "    .dataframe tbody tr th:only-of-type {\n",
       "        vertical-align: middle;\n",
       "    }\n",
       "\n",
       "    .dataframe tbody tr th {\n",
       "        vertical-align: top;\n",
       "    }\n",
       "\n",
       "    .dataframe thead th {\n",
       "        text-align: right;\n",
       "    }\n",
       "</style>\n",
       "<table border=\"1\" class=\"dataframe\">\n",
       "  <thead>\n",
       "    <tr style=\"text-align: right;\">\n",
       "      <th></th>\n",
       "      <th>Renda familiar mensal bruta</th>\n",
       "      <th>cat_renda_mensal_bruta</th>\n",
       "    </tr>\n",
       "  </thead>\n",
       "  <tbody>\n",
       "    <tr>\n",
       "      <th>0</th>\n",
       "      <td>6200.00</td>\n",
       "      <td>RENDABRUTA&gt;Q3</td>\n",
       "    </tr>\n",
       "    <tr>\n",
       "      <th>1</th>\n",
       "      <td>2609.94</td>\n",
       "      <td>RENDABRUTA&lt;Q2_Q3&gt;</td>\n",
       "    </tr>\n",
       "    <tr>\n",
       "      <th>2</th>\n",
       "      <td>1600.00</td>\n",
       "      <td>RENDABRUTA&lt;Q2_Q3&gt;</td>\n",
       "    </tr>\n",
       "    <tr>\n",
       "      <th>3</th>\n",
       "      <td>2700.00</td>\n",
       "      <td>RENDABRUTA&lt;Q2_Q3&gt;</td>\n",
       "    </tr>\n",
       "    <tr>\n",
       "      <th>4</th>\n",
       "      <td>2000.00</td>\n",
       "      <td>RENDABRUTA&lt;Q2_Q3&gt;</td>\n",
       "    </tr>\n",
       "    <tr>\n",
       "      <th>...</th>\n",
       "      <td>...</td>\n",
       "      <td>...</td>\n",
       "    </tr>\n",
       "    <tr>\n",
       "      <th>232427</th>\n",
       "      <td>1000.00</td>\n",
       "      <td>RENDABRUTA&lt;Q1</td>\n",
       "    </tr>\n",
       "    <tr>\n",
       "      <th>232428</th>\n",
       "      <td>2980.00</td>\n",
       "      <td>RENDABRUTA&lt;Q2_Q3&gt;</td>\n",
       "    </tr>\n",
       "    <tr>\n",
       "      <th>232429</th>\n",
       "      <td>2980.00</td>\n",
       "      <td>RENDABRUTA&lt;Q2_Q3&gt;</td>\n",
       "    </tr>\n",
       "    <tr>\n",
       "      <th>232430</th>\n",
       "      <td>2426.76</td>\n",
       "      <td>RENDABRUTA&lt;Q2_Q3&gt;</td>\n",
       "    </tr>\n",
       "    <tr>\n",
       "      <th>232431</th>\n",
       "      <td>1996.00</td>\n",
       "      <td>RENDABRUTA&lt;Q2_Q3&gt;</td>\n",
       "    </tr>\n",
       "  </tbody>\n",
       "</table>\n",
       "<p>232432 rows × 2 columns</p>\n",
       "</div>"
      ],
      "text/plain": [
       "        Renda familiar mensal bruta cat_renda_mensal_bruta\n",
       "0                           6200.00          RENDABRUTA>Q3\n",
       "1                           2609.94      RENDABRUTA<Q2_Q3>\n",
       "2                           1600.00      RENDABRUTA<Q2_Q3>\n",
       "3                           2700.00      RENDABRUTA<Q2_Q3>\n",
       "4                           2000.00      RENDABRUTA<Q2_Q3>\n",
       "...                             ...                    ...\n",
       "232427                      1000.00          RENDABRUTA<Q1\n",
       "232428                      2980.00      RENDABRUTA<Q2_Q3>\n",
       "232429                      2980.00      RENDABRUTA<Q2_Q3>\n",
       "232430                      2426.76      RENDABRUTA<Q2_Q3>\n",
       "232431                      1996.00      RENDABRUTA<Q2_Q3>\n",
       "\n",
       "[232432 rows x 2 columns]"
      ]
     },
     "execution_count": 168,
     "metadata": {},
     "output_type": "execute_result"
    }
   ],
   "source": [
    "bins = [0, 1393, 3544.88, np.inf]\n",
    "names = ['RENDABRUTA<Q1','RENDABRUTA<Q2_Q3>','RENDABRUTA>Q3']\n",
    "fies2019['cat_renda_mensal_bruta'] = pd.cut(fies2019['Renda familiar mensal bruta'], bins, labels=names)\n",
    "fies2019[['Renda familiar mensal bruta','cat_renda_mensal_bruta']]"
   ]
  },
  {
   "cell_type": "markdown",
   "metadata": {},
   "source": [
    "Observe que um novo campo foi criado, o qual é categórico\n"
   ]
  },
  {
   "cell_type": "code",
   "execution_count": 169,
   "metadata": {},
   "outputs": [
    {
     "name": "stdout",
     "output_type": "stream",
     "text": [
      "<class 'pandas.core.frame.DataFrame'>\n",
      "RangeIndex: 232432 entries, 0 to 232431\n",
      "Data columns (total 32 columns):\n",
      " #   Column                          Non-Null Count   Dtype   \n",
      "---  ------                          --------------   -----   \n",
      " 0   ID do estudante                 232432 non-null  int64   \n",
      " 1   Sexo                            232432 non-null  object  \n",
      " 2   Data de Nascimento              232432 non-null  object  \n",
      " 3   UF de residência                232432 non-null  object  \n",
      " 4   Etnia/Cor                       232432 non-null  object  \n",
      " 5   Pessoa com deficiência?         232432 non-null  object  \n",
      " 6   Ano conclusão ensino médio      232432 non-null  int64   \n",
      " 7   Concluiu curso superior?        232432 non-null  object  \n",
      " 8   Nº de membros Grupo Familiar    232432 non-null  int64   \n",
      " 9   Renda familiar mensal bruta     232432 non-null  float64 \n",
      " 10  Renda mensal bruta per capita   232432 non-null  float64 \n",
      " 11  UF                              232432 non-null  object  \n",
      " 12  Área do conhecimento            232432 non-null  object  \n",
      " 13  Subárea do conhecimento         232432 non-null  object  \n",
      " 14  Opções de cursos da inscrição   232432 non-null  int64   \n",
      " 15  Nome mantenedora                232432 non-null  object  \n",
      " 16  Natureza Jurídica Mantenedora   232432 non-null  object  \n",
      " 17  Nome da IES                     232432 non-null  object  \n",
      " 18  Organização Acadêmica da IES    232432 non-null  object  \n",
      " 19  UF do Local de Oferta           232432 non-null  object  \n",
      " 20  Nome do curso                   232432 non-null  object  \n",
      " 21  Turno                           232432 non-null  object  \n",
      " 22  Média nota Enem                 232432 non-null  float64 \n",
      " 23  Ano do Enem                     232432 non-null  int64   \n",
      " 24  Redação                         232432 non-null  int64   \n",
      " 25  Matemática e suas Tecnologias   232432 non-null  float64 \n",
      " 26  Linguagens, Códigos e suas Tec  232432 non-null  float64 \n",
      " 27  Ciências Natureza e suas Tec    232432 non-null  float64 \n",
      " 28  Ciências Humanas e suas Tec     232432 non-null  float64 \n",
      " 29  Situação Inscrição Fies         232432 non-null  object  \n",
      " 30  cat_membros_familia             232432 non-null  category\n",
      " 31  cat_renda_mensal_bruta          232369 non-null  category\n",
      "dtypes: category(2), float64(7), int64(6), object(17)\n",
      "memory usage: 53.6+ MB\n"
     ]
    }
   ],
   "source": [
    "fies2019.info()"
   ]
  },
  {
   "cell_type": "markdown",
   "metadata": {},
   "source": [
    "#### Convertendo Renda mensal bruta per capita\n",
    "\n",
    "Os intervalores correspondentes a cada categoria foi definido com base nas estatísticas descritivas"
   ]
  },
  {
   "cell_type": "code",
   "execution_count": 170,
   "metadata": {},
   "outputs": [
    {
     "data": {
      "text/plain": [
       "count    232432.000000\n",
       "mean        938.779092\n",
       "std         623.362271\n",
       "min           0.000000\n",
       "25%         499.000000\n",
       "50%         760.000000\n",
       "75%        1200.000000\n",
       "max        9831.360000\n",
       "Name: Renda mensal bruta per capita, dtype: float64"
      ]
     },
     "execution_count": 170,
     "metadata": {},
     "output_type": "execute_result"
    }
   ],
   "source": [
    " \n",
    "fies2019['Renda mensal bruta per capita'].describe()"
   ]
  },
  {
   "cell_type": "code",
   "execution_count": 171,
   "metadata": {},
   "outputs": [
    {
     "data": {
      "text/html": [
       "<div>\n",
       "<style scoped>\n",
       "    .dataframe tbody tr th:only-of-type {\n",
       "        vertical-align: middle;\n",
       "    }\n",
       "\n",
       "    .dataframe tbody tr th {\n",
       "        vertical-align: top;\n",
       "    }\n",
       "\n",
       "    .dataframe thead th {\n",
       "        text-align: right;\n",
       "    }\n",
       "</style>\n",
       "<table border=\"1\" class=\"dataframe\">\n",
       "  <thead>\n",
       "    <tr style=\"text-align: right;\">\n",
       "      <th></th>\n",
       "      <th>Renda mensal bruta per capita</th>\n",
       "      <th>cat_renda_per_capita</th>\n",
       "    </tr>\n",
       "  </thead>\n",
       "  <tbody>\n",
       "    <tr>\n",
       "      <th>0</th>\n",
       "      <td>2066.67</td>\n",
       "      <td>RENDAPERCAPITA&gt;Q3</td>\n",
       "    </tr>\n",
       "    <tr>\n",
       "      <th>1</th>\n",
       "      <td>652.49</td>\n",
       "      <td>RENDAPERCAPITA&lt;Q2_Q3&gt;</td>\n",
       "    </tr>\n",
       "    <tr>\n",
       "      <th>2</th>\n",
       "      <td>533.33</td>\n",
       "      <td>RENDAPERCAPITA&lt;Q2_Q3&gt;</td>\n",
       "    </tr>\n",
       "    <tr>\n",
       "      <th>3</th>\n",
       "      <td>1350.00</td>\n",
       "      <td>RENDAPERCAPITA&gt;Q3</td>\n",
       "    </tr>\n",
       "    <tr>\n",
       "      <th>4</th>\n",
       "      <td>500.00</td>\n",
       "      <td>RENDAPERCAPITA&lt;Q2_Q3&gt;</td>\n",
       "    </tr>\n",
       "    <tr>\n",
       "      <th>...</th>\n",
       "      <td>...</td>\n",
       "      <td>...</td>\n",
       "    </tr>\n",
       "    <tr>\n",
       "      <th>232427</th>\n",
       "      <td>333.33</td>\n",
       "      <td>RENDAPERCAPITA&lt;Q1</td>\n",
       "    </tr>\n",
       "    <tr>\n",
       "      <th>232428</th>\n",
       "      <td>993.33</td>\n",
       "      <td>RENDAPERCAPITA&lt;Q2_Q3&gt;</td>\n",
       "    </tr>\n",
       "    <tr>\n",
       "      <th>232429</th>\n",
       "      <td>993.33</td>\n",
       "      <td>RENDAPERCAPITA&lt;Q2_Q3&gt;</td>\n",
       "    </tr>\n",
       "    <tr>\n",
       "      <th>232430</th>\n",
       "      <td>606.69</td>\n",
       "      <td>RENDAPERCAPITA&lt;Q2_Q3&gt;</td>\n",
       "    </tr>\n",
       "    <tr>\n",
       "      <th>232431</th>\n",
       "      <td>665.33</td>\n",
       "      <td>RENDAPERCAPITA&lt;Q2_Q3&gt;</td>\n",
       "    </tr>\n",
       "  </tbody>\n",
       "</table>\n",
       "<p>232432 rows × 2 columns</p>\n",
       "</div>"
      ],
      "text/plain": [
       "        Renda mensal bruta per capita   cat_renda_per_capita\n",
       "0                             2066.67      RENDAPERCAPITA>Q3\n",
       "1                              652.49  RENDAPERCAPITA<Q2_Q3>\n",
       "2                              533.33  RENDAPERCAPITA<Q2_Q3>\n",
       "3                             1350.00      RENDAPERCAPITA>Q3\n",
       "4                              500.00  RENDAPERCAPITA<Q2_Q3>\n",
       "...                               ...                    ...\n",
       "232427                         333.33      RENDAPERCAPITA<Q1\n",
       "232428                         993.33  RENDAPERCAPITA<Q2_Q3>\n",
       "232429                         993.33  RENDAPERCAPITA<Q2_Q3>\n",
       "232430                         606.69  RENDAPERCAPITA<Q2_Q3>\n",
       "232431                         665.33  RENDAPERCAPITA<Q2_Q3>\n",
       "\n",
       "[232432 rows x 2 columns]"
      ]
     },
     "execution_count": 171,
     "metadata": {},
     "output_type": "execute_result"
    }
   ],
   "source": [
    "bins = [0, 499, 1200, np.inf]\n",
    "names = ['RENDAPERCAPITA<Q1','RENDAPERCAPITA<Q2_Q3>','RENDAPERCAPITA>Q3']\n",
    "fies2019['cat_renda_per_capita'] = pd.cut(fies2019['Renda mensal bruta per capita'], bins, labels=names)\n",
    "fies2019[['Renda mensal bruta per capita','cat_renda_per_capita']]"
   ]
  },
  {
   "cell_type": "markdown",
   "metadata": {},
   "source": [
    "Observe que um novo campo foi criado, o qual é categórico"
   ]
  },
  {
   "cell_type": "code",
   "execution_count": 172,
   "metadata": {},
   "outputs": [
    {
     "name": "stdout",
     "output_type": "stream",
     "text": [
      "<class 'pandas.core.frame.DataFrame'>\n",
      "RangeIndex: 232432 entries, 0 to 232431\n",
      "Data columns (total 33 columns):\n",
      " #   Column                          Non-Null Count   Dtype   \n",
      "---  ------                          --------------   -----   \n",
      " 0   ID do estudante                 232432 non-null  int64   \n",
      " 1   Sexo                            232432 non-null  object  \n",
      " 2   Data de Nascimento              232432 non-null  object  \n",
      " 3   UF de residência                232432 non-null  object  \n",
      " 4   Etnia/Cor                       232432 non-null  object  \n",
      " 5   Pessoa com deficiência?         232432 non-null  object  \n",
      " 6   Ano conclusão ensino médio      232432 non-null  int64   \n",
      " 7   Concluiu curso superior?        232432 non-null  object  \n",
      " 8   Nº de membros Grupo Familiar    232432 non-null  int64   \n",
      " 9   Renda familiar mensal bruta     232432 non-null  float64 \n",
      " 10  Renda mensal bruta per capita   232432 non-null  float64 \n",
      " 11  UF                              232432 non-null  object  \n",
      " 12  Área do conhecimento            232432 non-null  object  \n",
      " 13  Subárea do conhecimento         232432 non-null  object  \n",
      " 14  Opções de cursos da inscrição   232432 non-null  int64   \n",
      " 15  Nome mantenedora                232432 non-null  object  \n",
      " 16  Natureza Jurídica Mantenedora   232432 non-null  object  \n",
      " 17  Nome da IES                     232432 non-null  object  \n",
      " 18  Organização Acadêmica da IES    232432 non-null  object  \n",
      " 19  UF do Local de Oferta           232432 non-null  object  \n",
      " 20  Nome do curso                   232432 non-null  object  \n",
      " 21  Turno                           232432 non-null  object  \n",
      " 22  Média nota Enem                 232432 non-null  float64 \n",
      " 23  Ano do Enem                     232432 non-null  int64   \n",
      " 24  Redação                         232432 non-null  int64   \n",
      " 25  Matemática e suas Tecnologias   232432 non-null  float64 \n",
      " 26  Linguagens, Códigos e suas Tec  232432 non-null  float64 \n",
      " 27  Ciências Natureza e suas Tec    232432 non-null  float64 \n",
      " 28  Ciências Humanas e suas Tec     232432 non-null  float64 \n",
      " 29  Situação Inscrição Fies         232432 non-null  object  \n",
      " 30  cat_membros_familia             232432 non-null  category\n",
      " 31  cat_renda_mensal_bruta          232369 non-null  category\n",
      " 32  cat_renda_per_capita            232369 non-null  category\n",
      "dtypes: category(3), float64(7), int64(6), object(17)\n",
      "memory usage: 53.9+ MB\n"
     ]
    }
   ],
   "source": [
    "fies2019.info()"
   ]
  },
  {
   "cell_type": "markdown",
   "metadata": {},
   "source": [
    "#### Convertendo Opções de cursos da inscrição\n",
    "\n",
    "Os intervalores correspondentes a cada categoria foi definido com base nas estatísticas"
   ]
  },
  {
   "cell_type": "code",
   "execution_count": 173,
   "metadata": {},
   "outputs": [
    {
     "data": {
      "text/plain": [
       "count    232432.000000\n",
       "mean          1.669822\n",
       "std           0.770074\n",
       "min           1.000000\n",
       "25%           1.000000\n",
       "50%           1.000000\n",
       "75%           2.000000\n",
       "max           3.000000\n",
       "Name: Opções de cursos da inscrição, dtype: float64"
      ]
     },
     "execution_count": 173,
     "metadata": {},
     "output_type": "execute_result"
    }
   ],
   "source": [
    "fies2019['Opções de cursos da inscrição'].describe()"
   ]
  },
  {
   "cell_type": "code",
   "execution_count": 174,
   "metadata": {},
   "outputs": [
    {
     "data": {
      "text/html": [
       "<div>\n",
       "<style scoped>\n",
       "    .dataframe tbody tr th:only-of-type {\n",
       "        vertical-align: middle;\n",
       "    }\n",
       "\n",
       "    .dataframe tbody tr th {\n",
       "        vertical-align: top;\n",
       "    }\n",
       "\n",
       "    .dataframe thead th {\n",
       "        text-align: right;\n",
       "    }\n",
       "</style>\n",
       "<table border=\"1\" class=\"dataframe\">\n",
       "  <thead>\n",
       "    <tr style=\"text-align: right;\">\n",
       "      <th></th>\n",
       "      <th>Opções de cursos da inscrição</th>\n",
       "      <th>cat_opcao_inscricao</th>\n",
       "    </tr>\n",
       "  </thead>\n",
       "  <tbody>\n",
       "    <tr>\n",
       "      <th>0</th>\n",
       "      <td>3</td>\n",
       "      <td>OPCAOINSCRICAO&gt;Q3</td>\n",
       "    </tr>\n",
       "    <tr>\n",
       "      <th>1</th>\n",
       "      <td>2</td>\n",
       "      <td>OPCAOINSCRICAO&lt;Q2_Q3&gt;</td>\n",
       "    </tr>\n",
       "    <tr>\n",
       "      <th>2</th>\n",
       "      <td>1</td>\n",
       "      <td>OPCAOINSCRICAO&lt;Q1</td>\n",
       "    </tr>\n",
       "    <tr>\n",
       "      <th>3</th>\n",
       "      <td>1</td>\n",
       "      <td>OPCAOINSCRICAO&lt;Q1</td>\n",
       "    </tr>\n",
       "    <tr>\n",
       "      <th>4</th>\n",
       "      <td>1</td>\n",
       "      <td>OPCAOINSCRICAO&lt;Q1</td>\n",
       "    </tr>\n",
       "    <tr>\n",
       "      <th>...</th>\n",
       "      <td>...</td>\n",
       "      <td>...</td>\n",
       "    </tr>\n",
       "    <tr>\n",
       "      <th>232427</th>\n",
       "      <td>2</td>\n",
       "      <td>OPCAOINSCRICAO&lt;Q2_Q3&gt;</td>\n",
       "    </tr>\n",
       "    <tr>\n",
       "      <th>232428</th>\n",
       "      <td>1</td>\n",
       "      <td>OPCAOINSCRICAO&lt;Q1</td>\n",
       "    </tr>\n",
       "    <tr>\n",
       "      <th>232429</th>\n",
       "      <td>2</td>\n",
       "      <td>OPCAOINSCRICAO&lt;Q2_Q3&gt;</td>\n",
       "    </tr>\n",
       "    <tr>\n",
       "      <th>232430</th>\n",
       "      <td>1</td>\n",
       "      <td>OPCAOINSCRICAO&lt;Q1</td>\n",
       "    </tr>\n",
       "    <tr>\n",
       "      <th>232431</th>\n",
       "      <td>3</td>\n",
       "      <td>OPCAOINSCRICAO&gt;Q3</td>\n",
       "    </tr>\n",
       "  </tbody>\n",
       "</table>\n",
       "<p>232432 rows × 2 columns</p>\n",
       "</div>"
      ],
      "text/plain": [
       "        Opções de cursos da inscrição    cat_opcao_inscricao\n",
       "0                                   3      OPCAOINSCRICAO>Q3\n",
       "1                                   2  OPCAOINSCRICAO<Q2_Q3>\n",
       "2                                   1      OPCAOINSCRICAO<Q1\n",
       "3                                   1      OPCAOINSCRICAO<Q1\n",
       "4                                   1      OPCAOINSCRICAO<Q1\n",
       "...                               ...                    ...\n",
       "232427                              2  OPCAOINSCRICAO<Q2_Q3>\n",
       "232428                              1      OPCAOINSCRICAO<Q1\n",
       "232429                              2  OPCAOINSCRICAO<Q2_Q3>\n",
       "232430                              1      OPCAOINSCRICAO<Q1\n",
       "232431                              3      OPCAOINSCRICAO>Q3\n",
       "\n",
       "[232432 rows x 2 columns]"
      ]
     },
     "execution_count": 174,
     "metadata": {},
     "output_type": "execute_result"
    }
   ],
   "source": [
    "bins = [0, 1, 2, np.inf]\n",
    "names = ['OPCAOINSCRICAO<Q1','OPCAOINSCRICAO<Q2_Q3>','OPCAOINSCRICAO>Q3']\n",
    "fies2019['cat_opcao_inscricao'] = pd.cut(fies2019['Opções de cursos da inscrição'], bins, labels=names)\n",
    "fies2019[['Opções de cursos da inscrição','cat_opcao_inscricao']]"
   ]
  },
  {
   "cell_type": "markdown",
   "metadata": {},
   "source": [
    "Observe que um novo campo foi criado, o qual é categórico"
   ]
  },
  {
   "cell_type": "code",
   "execution_count": 175,
   "metadata": {},
   "outputs": [
    {
     "name": "stdout",
     "output_type": "stream",
     "text": [
      "<class 'pandas.core.frame.DataFrame'>\n",
      "RangeIndex: 232432 entries, 0 to 232431\n",
      "Data columns (total 34 columns):\n",
      " #   Column                          Non-Null Count   Dtype   \n",
      "---  ------                          --------------   -----   \n",
      " 0   ID do estudante                 232432 non-null  int64   \n",
      " 1   Sexo                            232432 non-null  object  \n",
      " 2   Data de Nascimento              232432 non-null  object  \n",
      " 3   UF de residência                232432 non-null  object  \n",
      " 4   Etnia/Cor                       232432 non-null  object  \n",
      " 5   Pessoa com deficiência?         232432 non-null  object  \n",
      " 6   Ano conclusão ensino médio      232432 non-null  int64   \n",
      " 7   Concluiu curso superior?        232432 non-null  object  \n",
      " 8   Nº de membros Grupo Familiar    232432 non-null  int64   \n",
      " 9   Renda familiar mensal bruta     232432 non-null  float64 \n",
      " 10  Renda mensal bruta per capita   232432 non-null  float64 \n",
      " 11  UF                              232432 non-null  object  \n",
      " 12  Área do conhecimento            232432 non-null  object  \n",
      " 13  Subárea do conhecimento         232432 non-null  object  \n",
      " 14  Opções de cursos da inscrição   232432 non-null  int64   \n",
      " 15  Nome mantenedora                232432 non-null  object  \n",
      " 16  Natureza Jurídica Mantenedora   232432 non-null  object  \n",
      " 17  Nome da IES                     232432 non-null  object  \n",
      " 18  Organização Acadêmica da IES    232432 non-null  object  \n",
      " 19  UF do Local de Oferta           232432 non-null  object  \n",
      " 20  Nome do curso                   232432 non-null  object  \n",
      " 21  Turno                           232432 non-null  object  \n",
      " 22  Média nota Enem                 232432 non-null  float64 \n",
      " 23  Ano do Enem                     232432 non-null  int64   \n",
      " 24  Redação                         232432 non-null  int64   \n",
      " 25  Matemática e suas Tecnologias   232432 non-null  float64 \n",
      " 26  Linguagens, Códigos e suas Tec  232432 non-null  float64 \n",
      " 27  Ciências Natureza e suas Tec    232432 non-null  float64 \n",
      " 28  Ciências Humanas e suas Tec     232432 non-null  float64 \n",
      " 29  Situação Inscrição Fies         232432 non-null  object  \n",
      " 30  cat_membros_familia             232432 non-null  category\n",
      " 31  cat_renda_mensal_bruta          232369 non-null  category\n",
      " 32  cat_renda_per_capita            232369 non-null  category\n",
      " 33  cat_opcao_inscricao             232432 non-null  category\n",
      "dtypes: category(4), float64(7), int64(6), object(17)\n",
      "memory usage: 54.1+ MB\n"
     ]
    }
   ],
   "source": [
    "fies2019.info()"
   ]
  },
  {
   "cell_type": "markdown",
   "metadata": {},
   "source": [
    "### Selecionar atributos relevantes\n",
    "\n",
    "Os atributos selecionados são aqueles que foram mencionados previamente, os quais foram definidos em razão da aparente relação com a situação da inscrição do FIES"
   ]
  },
  {
   "cell_type": "code",
   "execution_count": 176,
   "metadata": {},
   "outputs": [
    {
     "data": {
      "text/html": [
       "<div>\n",
       "<style scoped>\n",
       "    .dataframe tbody tr th:only-of-type {\n",
       "        vertical-align: middle;\n",
       "    }\n",
       "\n",
       "    .dataframe tbody tr th {\n",
       "        vertical-align: top;\n",
       "    }\n",
       "\n",
       "    .dataframe thead th {\n",
       "        text-align: right;\n",
       "    }\n",
       "</style>\n",
       "<table border=\"1\" class=\"dataframe\">\n",
       "  <thead>\n",
       "    <tr style=\"text-align: right;\">\n",
       "      <th></th>\n",
       "      <th>cat_membros_familia</th>\n",
       "      <th>cat_renda_mensal_bruta</th>\n",
       "      <th>cat_renda_per_capita</th>\n",
       "      <th>cat_opcao_inscricao</th>\n",
       "      <th>Sexo</th>\n",
       "      <th>UF de residência</th>\n",
       "      <th>Etnia/Cor</th>\n",
       "      <th>Pessoa com deficiência?</th>\n",
       "      <th>Concluiu curso superior?</th>\n",
       "      <th>Situação Inscrição Fies</th>\n",
       "    </tr>\n",
       "  </thead>\n",
       "  <tbody>\n",
       "    <tr>\n",
       "      <th>0</th>\n",
       "      <td>MEMBROSFAMILIA&lt;Q2_Q3&gt;</td>\n",
       "      <td>RENDABRUTA&gt;Q3</td>\n",
       "      <td>RENDAPERCAPITA&gt;Q3</td>\n",
       "      <td>OPCAOINSCRICAO&gt;Q3</td>\n",
       "      <td>M</td>\n",
       "      <td>PR</td>\n",
       "      <td>PARDA</td>\n",
       "      <td>NÃO</td>\n",
       "      <td>NÃO</td>\n",
       "      <td>NÃO CONTRATADO</td>\n",
       "    </tr>\n",
       "    <tr>\n",
       "      <th>1</th>\n",
       "      <td>MEMBROSFAMILIA&lt;Q2_Q3&gt;</td>\n",
       "      <td>RENDABRUTA&lt;Q2_Q3&gt;</td>\n",
       "      <td>RENDAPERCAPITA&lt;Q2_Q3&gt;</td>\n",
       "      <td>OPCAOINSCRICAO&lt;Q2_Q3&gt;</td>\n",
       "      <td>M</td>\n",
       "      <td>PR</td>\n",
       "      <td>BRANCA</td>\n",
       "      <td>NÃO</td>\n",
       "      <td>NÃO</td>\n",
       "      <td>OPÇÃO NÃO CONTRATADA</td>\n",
       "    </tr>\n",
       "    <tr>\n",
       "      <th>2</th>\n",
       "      <td>MEMBROSFAMILIA&lt;Q2_Q3&gt;</td>\n",
       "      <td>RENDABRUTA&lt;Q2_Q3&gt;</td>\n",
       "      <td>RENDAPERCAPITA&lt;Q2_Q3&gt;</td>\n",
       "      <td>OPCAOINSCRICAO&lt;Q1</td>\n",
       "      <td>M</td>\n",
       "      <td>PR</td>\n",
       "      <td>BRANCA</td>\n",
       "      <td>NÃO</td>\n",
       "      <td>NÃO</td>\n",
       "      <td>NÃO CONTRATADO</td>\n",
       "    </tr>\n",
       "    <tr>\n",
       "      <th>3</th>\n",
       "      <td>MEMBROSFAMILIA&lt;Q1</td>\n",
       "      <td>RENDABRUTA&lt;Q2_Q3&gt;</td>\n",
       "      <td>RENDAPERCAPITA&gt;Q3</td>\n",
       "      <td>OPCAOINSCRICAO&lt;Q1</td>\n",
       "      <td>F</td>\n",
       "      <td>PR</td>\n",
       "      <td>BRANCA</td>\n",
       "      <td>NÃO</td>\n",
       "      <td>NÃO</td>\n",
       "      <td>NÃO CONTRATADO</td>\n",
       "    </tr>\n",
       "    <tr>\n",
       "      <th>4</th>\n",
       "      <td>MEMBROSFAMILIA&lt;Q2_Q3&gt;</td>\n",
       "      <td>RENDABRUTA&lt;Q2_Q3&gt;</td>\n",
       "      <td>RENDAPERCAPITA&lt;Q2_Q3&gt;</td>\n",
       "      <td>OPCAOINSCRICAO&lt;Q1</td>\n",
       "      <td>F</td>\n",
       "      <td>RS</td>\n",
       "      <td>BRANCA</td>\n",
       "      <td>NÃO</td>\n",
       "      <td>NÃO</td>\n",
       "      <td>NÃO CONTRATADO</td>\n",
       "    </tr>\n",
       "  </tbody>\n",
       "</table>\n",
       "</div>"
      ],
      "text/plain": [
       "     cat_membros_familia cat_renda_mensal_bruta   cat_renda_per_capita    cat_opcao_inscricao Sexo UF de residência Etnia/Cor Pessoa com deficiência? Concluiu curso superior? Situação Inscrição Fies\n",
       "0  MEMBROSFAMILIA<Q2_Q3>          RENDABRUTA>Q3      RENDAPERCAPITA>Q3      OPCAOINSCRICAO>Q3    M               PR     PARDA                     NÃO                      NÃO          NÃO CONTRATADO\n",
       "1  MEMBROSFAMILIA<Q2_Q3>      RENDABRUTA<Q2_Q3>  RENDAPERCAPITA<Q2_Q3>  OPCAOINSCRICAO<Q2_Q3>    M               PR    BRANCA                     NÃO                      NÃO    OPÇÃO NÃO CONTRATADA\n",
       "2  MEMBROSFAMILIA<Q2_Q3>      RENDABRUTA<Q2_Q3>  RENDAPERCAPITA<Q2_Q3>      OPCAOINSCRICAO<Q1    M               PR    BRANCA                     NÃO                      NÃO          NÃO CONTRATADO\n",
       "3      MEMBROSFAMILIA<Q1      RENDABRUTA<Q2_Q3>      RENDAPERCAPITA>Q3      OPCAOINSCRICAO<Q1    F               PR    BRANCA                     NÃO                      NÃO          NÃO CONTRATADO\n",
       "4  MEMBROSFAMILIA<Q2_Q3>      RENDABRUTA<Q2_Q3>  RENDAPERCAPITA<Q2_Q3>      OPCAOINSCRICAO<Q1    F               RS    BRANCA                     NÃO                      NÃO          NÃO CONTRATADO"
      ]
     },
     "execution_count": 176,
     "metadata": {},
     "output_type": "execute_result"
    }
   ],
   "source": [
    "df_rules = fies2019[[\"cat_membros_familia\", \"cat_renda_mensal_bruta\", \"cat_renda_per_capita\", \"cat_opcao_inscricao\",\n",
    "\"Sexo\", \"UF de residência\", \"Etnia/Cor\", \"Pessoa com deficiência?\", \"Concluiu curso superior?\", \"Situação Inscrição Fies\"]]\n",
    "df_rules.head()"
   ]
  },
  {
   "cell_type": "code",
   "execution_count": 177,
   "metadata": {},
   "outputs": [],
   "source": [
    "df_transactions = pd.get_dummies(df_rules)"
   ]
  },
  {
   "cell_type": "code",
   "execution_count": 178,
   "metadata": {},
   "outputs": [
    {
     "name": "stdout",
     "output_type": "stream",
     "text": [
      "<class 'pandas.core.frame.DataFrame'>\n",
      "RangeIndex: 232432 entries, 0 to 232431\n",
      "Data columns (total 58 columns):\n",
      " #   Column                                                         Non-Null Count   Dtype\n",
      "---  ------                                                         --------------   -----\n",
      " 0   cat_membros_familia_MEMBROSFAMILIA<Q1                          232432 non-null  uint8\n",
      " 1   cat_membros_familia_MEMBROSFAMILIA<Q2_Q3>                      232432 non-null  uint8\n",
      " 2   cat_membros_familia_MEMBROSFAMILIA>Q3                          232432 non-null  uint8\n",
      " 3   cat_renda_mensal_bruta_RENDABRUTA<Q1                           232432 non-null  uint8\n",
      " 4   cat_renda_mensal_bruta_RENDABRUTA<Q2_Q3>                       232432 non-null  uint8\n",
      " 5   cat_renda_mensal_bruta_RENDABRUTA>Q3                           232432 non-null  uint8\n",
      " 6   cat_renda_per_capita_RENDAPERCAPITA<Q1                         232432 non-null  uint8\n",
      " 7   cat_renda_per_capita_RENDAPERCAPITA<Q2_Q3>                     232432 non-null  uint8\n",
      " 8   cat_renda_per_capita_RENDAPERCAPITA>Q3                         232432 non-null  uint8\n",
      " 9   cat_opcao_inscricao_OPCAOINSCRICAO<Q1                          232432 non-null  uint8\n",
      " 10  cat_opcao_inscricao_OPCAOINSCRICAO<Q2_Q3>                      232432 non-null  uint8\n",
      " 11  cat_opcao_inscricao_OPCAOINSCRICAO>Q3                          232432 non-null  uint8\n",
      " 12  Sexo_F                                                         232432 non-null  uint8\n",
      " 13  Sexo_M                                                         232432 non-null  uint8\n",
      " 14  UF de residência_AC                                            232432 non-null  uint8\n",
      " 15  UF de residência_AL                                            232432 non-null  uint8\n",
      " 16  UF de residência_AM                                            232432 non-null  uint8\n",
      " 17  UF de residência_AP                                            232432 non-null  uint8\n",
      " 18  UF de residência_BA                                            232432 non-null  uint8\n",
      " 19  UF de residência_CE                                            232432 non-null  uint8\n",
      " 20  UF de residência_DF                                            232432 non-null  uint8\n",
      " 21  UF de residência_ES                                            232432 non-null  uint8\n",
      " 22  UF de residência_GO                                            232432 non-null  uint8\n",
      " 23  UF de residência_MA                                            232432 non-null  uint8\n",
      " 24  UF de residência_MG                                            232432 non-null  uint8\n",
      " 25  UF de residência_MS                                            232432 non-null  uint8\n",
      " 26  UF de residência_MT                                            232432 non-null  uint8\n",
      " 27  UF de residência_PA                                            232432 non-null  uint8\n",
      " 28  UF de residência_PB                                            232432 non-null  uint8\n",
      " 29  UF de residência_PE                                            232432 non-null  uint8\n",
      " 30  UF de residência_PI                                            232432 non-null  uint8\n",
      " 31  UF de residência_PR                                            232432 non-null  uint8\n",
      " 32  UF de residência_RJ                                            232432 non-null  uint8\n",
      " 33  UF de residência_RN                                            232432 non-null  uint8\n",
      " 34  UF de residência_RO                                            232432 non-null  uint8\n",
      " 35  UF de residência_RR                                            232432 non-null  uint8\n",
      " 36  UF de residência_RS                                            232432 non-null  uint8\n",
      " 37  UF de residência_SC                                            232432 non-null  uint8\n",
      " 38  UF de residência_SE                                            232432 non-null  uint8\n",
      " 39  UF de residência_SP                                            232432 non-null  uint8\n",
      " 40  UF de residência_TO                                            232432 non-null  uint8\n",
      " 41  Etnia/Cor_AMARELA                                              232432 non-null  uint8\n",
      " 42  Etnia/Cor_BRANCA                                               232432 non-null  uint8\n",
      " 43  Etnia/Cor_INDÍGENA                                             232432 non-null  uint8\n",
      " 44  Etnia/Cor_PARDA                                                232432 non-null  uint8\n",
      " 45  Etnia/Cor_PRETA                                                232432 non-null  uint8\n",
      " 46  Pessoa com deficiência?_NÃO                                    232432 non-null  uint8\n",
      " 47  Pessoa com deficiência?_SIM                                    232432 non-null  uint8\n",
      " 48  Concluiu curso superior?_NÃO                                   232432 non-null  uint8\n",
      " 49  Concluiu curso superior?_SIM                                   232432 non-null  uint8\n",
      " 50  Situação Inscrição Fies_CONTRATADA                             232432 non-null  uint8\n",
      " 51  Situação Inscrição Fies_INSCRIÇÃO POSTERGADA                   232432 non-null  uint8\n",
      " 52  Situação Inscrição Fies_LISTA DE ESPERA                        232432 non-null  uint8\n",
      " 53  Situação Inscrição Fies_NÃO CONTRATADO                         232432 non-null  uint8\n",
      " 54  Situação Inscrição Fies_OPÇÃO NÃO CONTRATADA                   232432 non-null  uint8\n",
      " 55  Situação Inscrição Fies_PARTICIPACAO CANCELADA PELO CANDIDATO  232432 non-null  uint8\n",
      " 56  Situação Inscrição Fies_PRÉ-SELECIONADO                        232432 non-null  uint8\n",
      " 57  Situação Inscrição Fies_REJEITADA PELA CPSA                    232432 non-null  uint8\n",
      "dtypes: uint8(58)\n",
      "memory usage: 12.9 MB\n"
     ]
    }
   ],
   "source": [
    "df_transactions.info()"
   ]
  },
  {
   "cell_type": "markdown",
   "metadata": {},
   "source": [
    "### Extrair itemsets frequentes\n",
    "\n",
    "Uma vez que os itemsets foram obtidos, faz-se necessária a verificação de qual destes são mais frequentes. Para tanto, utiliza-se o apriori, assim como visto em aula.\n",
    "\n",
    "Observe que a equipe definiu que o suporte mínimo deve ser de 0.15, para evitar que associações com um suporte muito baixo sejam avaliadas"
   ]
  },
  {
   "cell_type": "code",
   "execution_count": 179,
   "metadata": {},
   "outputs": [],
   "source": [
    "from mlxtend.frequent_patterns import apriori\n",
    "from mlxtend.frequent_patterns import association_rules"
   ]
  },
  {
   "cell_type": "code",
   "execution_count": 180,
   "metadata": {},
   "outputs": [
    {
     "name": "stderr",
     "output_type": "stream",
     "text": [
      "/home/juliacfaria/Desktop/ProjetoDados/ProjetoCienciaDeDados/ambiente-dados1/lib/python3.8/site-packages/mlxtend/frequent_patterns/fpcommon.py:111: DeprecationWarning: DataFrames with non-bool types result in worse computationalperformance and their support might be discontinued in the future.Please use a DataFrame with bool type\n",
      "  warnings.warn(\n"
     ]
    },
    {
     "data": {
      "text/html": [
       "<div>\n",
       "<style scoped>\n",
       "    .dataframe tbody tr th:only-of-type {\n",
       "        vertical-align: middle;\n",
       "    }\n",
       "\n",
       "    .dataframe tbody tr th {\n",
       "        vertical-align: top;\n",
       "    }\n",
       "\n",
       "    .dataframe thead th {\n",
       "        text-align: right;\n",
       "    }\n",
       "</style>\n",
       "<table border=\"1\" class=\"dataframe\">\n",
       "  <thead>\n",
       "    <tr style=\"text-align: right;\">\n",
       "      <th></th>\n",
       "      <th>support</th>\n",
       "      <th>itemsets</th>\n",
       "    </tr>\n",
       "  </thead>\n",
       "  <tbody>\n",
       "    <tr>\n",
       "      <th>0</th>\n",
       "      <td>0.329395</td>\n",
       "      <td>(cat_membros_familia_MEMBROSFAMILIA&lt;Q1)</td>\n",
       "    </tr>\n",
       "    <tr>\n",
       "      <th>1</th>\n",
       "      <td>0.542559</td>\n",
       "      <td>(cat_membros_familia_MEMBROSFAMILIA&lt;Q2_Q3&gt;)</td>\n",
       "    </tr>\n",
       "    <tr>\n",
       "      <th>2</th>\n",
       "      <td>0.128046</td>\n",
       "      <td>(cat_membros_familia_MEMBROSFAMILIA&gt;Q3)</td>\n",
       "    </tr>\n",
       "    <tr>\n",
       "      <th>3</th>\n",
       "      <td>0.249738</td>\n",
       "      <td>(cat_renda_mensal_bruta_RENDABRUTA&lt;Q1)</td>\n",
       "    </tr>\n",
       "    <tr>\n",
       "      <th>4</th>\n",
       "      <td>0.499991</td>\n",
       "      <td>(cat_renda_mensal_bruta_RENDABRUTA&lt;Q2_Q3&gt;)</td>\n",
       "    </tr>\n",
       "  </tbody>\n",
       "</table>\n",
       "</div>"
      ],
      "text/plain": [
       "    support                                     itemsets\n",
       "0  0.329395      (cat_membros_familia_MEMBROSFAMILIA<Q1)\n",
       "1  0.542559  (cat_membros_familia_MEMBROSFAMILIA<Q2_Q3>)\n",
       "2  0.128046      (cat_membros_familia_MEMBROSFAMILIA>Q3)\n",
       "3  0.249738       (cat_renda_mensal_bruta_RENDABRUTA<Q1)\n",
       "4  0.499991   (cat_renda_mensal_bruta_RENDABRUTA<Q2_Q3>)"
      ]
     },
     "execution_count": 180,
     "metadata": {},
     "output_type": "execute_result"
    }
   ],
   "source": [
    "frequent_itemsets = apriori(df_transactions, min_support=0.1, use_colnames=True)\n",
    "frequent_itemsets.head()"
   ]
  },
  {
   "cell_type": "markdown",
   "metadata": {},
   "source": [
    "### Extrair as regras de associação usando Apriori"
   ]
  },
  {
   "cell_type": "code",
   "execution_count": 181,
   "metadata": {},
   "outputs": [],
   "source": [
    "pd.set_option('display.max_rows', 500)\n",
    "pd.set_option('display.max_columns', 500)\n",
    "pd.set_option('display.width', 1000)\n",
    "pd.set_option('display.max_colwidth', 1000)"
   ]
  },
  {
   "cell_type": "code",
   "execution_count": 182,
   "metadata": {},
   "outputs": [
    {
     "data": {
      "text/html": [
       "<div>\n",
       "<style scoped>\n",
       "    .dataframe tbody tr th:only-of-type {\n",
       "        vertical-align: middle;\n",
       "    }\n",
       "\n",
       "    .dataframe tbody tr th {\n",
       "        vertical-align: top;\n",
       "    }\n",
       "\n",
       "    .dataframe thead th {\n",
       "        text-align: right;\n",
       "    }\n",
       "</style>\n",
       "<table border=\"1\" class=\"dataframe\">\n",
       "  <thead>\n",
       "    <tr style=\"text-align: right;\">\n",
       "      <th></th>\n",
       "      <th>antecedents</th>\n",
       "      <th>consequents</th>\n",
       "      <th>antecedent support</th>\n",
       "      <th>consequent support</th>\n",
       "      <th>support</th>\n",
       "      <th>confidence</th>\n",
       "      <th>lift</th>\n",
       "      <th>leverage</th>\n",
       "      <th>conviction</th>\n",
       "    </tr>\n",
       "  </thead>\n",
       "  <tbody>\n",
       "    <tr>\n",
       "      <th>2095</th>\n",
       "      <td>(Concluiu curso superior?_NÃO, cat_renda_per_capita_RENDAPERCAPITA&gt;Q3, cat_membros_familia_MEMBROSFAMILIA&lt;Q2_Q3&gt;)</td>\n",
       "      <td>(cat_renda_mensal_bruta_RENDABRUTA&gt;Q3)</td>\n",
       "      <td>0.116593</td>\n",
       "      <td>0.250000</td>\n",
       "      <td>0.116593</td>\n",
       "      <td>1.000000</td>\n",
       "      <td>4.000000</td>\n",
       "      <td>0.087445</td>\n",
       "      <td>inf</td>\n",
       "    </tr>\n",
       "    <tr>\n",
       "      <th>2082</th>\n",
       "      <td>(Pessoa com deficiência?_NÃO, cat_renda_per_capita_RENDAPERCAPITA&gt;Q3, cat_membros_familia_MEMBROSFAMILIA&lt;Q2_Q3&gt;)</td>\n",
       "      <td>(cat_renda_mensal_bruta_RENDABRUTA&gt;Q3)</td>\n",
       "      <td>0.127994</td>\n",
       "      <td>0.250000</td>\n",
       "      <td>0.127994</td>\n",
       "      <td>1.000000</td>\n",
       "      <td>4.000000</td>\n",
       "      <td>0.095996</td>\n",
       "      <td>inf</td>\n",
       "    </tr>\n",
       "    <tr>\n",
       "      <th>451</th>\n",
       "      <td>(cat_renda_per_capita_RENDAPERCAPITA&gt;Q3, cat_membros_familia_MEMBROSFAMILIA&lt;Q2_Q3&gt;)</td>\n",
       "      <td>(cat_renda_mensal_bruta_RENDABRUTA&gt;Q3)</td>\n",
       "      <td>0.129070</td>\n",
       "      <td>0.250000</td>\n",
       "      <td>0.129070</td>\n",
       "      <td>1.000000</td>\n",
       "      <td>4.000000</td>\n",
       "      <td>0.096803</td>\n",
       "      <td>inf</td>\n",
       "    </tr>\n",
       "    <tr>\n",
       "      <th>4665</th>\n",
       "      <td>(Pessoa com deficiência?_NÃO, Concluiu curso superior?_NÃO, cat_renda_per_capita_RENDAPERCAPITA&gt;Q3, cat_membros_familia_MEMBROSFAMILIA&lt;Q2_Q3&gt;)</td>\n",
       "      <td>(cat_renda_mensal_bruta_RENDABRUTA&gt;Q3)</td>\n",
       "      <td>0.115668</td>\n",
       "      <td>0.250000</td>\n",
       "      <td>0.115668</td>\n",
       "      <td>1.000000</td>\n",
       "      <td>4.000000</td>\n",
       "      <td>0.086751</td>\n",
       "      <td>inf</td>\n",
       "    </tr>\n",
       "    <tr>\n",
       "      <th>395</th>\n",
       "      <td>(cat_renda_mensal_bruta_RENDABRUTA&lt;Q1, cat_membros_familia_MEMBROSFAMILIA&lt;Q2_Q3&gt;)</td>\n",
       "      <td>(cat_renda_per_capita_RENDAPERCAPITA&lt;Q1)</td>\n",
       "      <td>0.116185</td>\n",
       "      <td>0.252018</td>\n",
       "      <td>0.116180</td>\n",
       "      <td>0.999963</td>\n",
       "      <td>3.967827</td>\n",
       "      <td>0.086900</td>\n",
       "      <td>2.019926e+04</td>\n",
       "    </tr>\n",
       "  </tbody>\n",
       "</table>\n",
       "</div>"
      ],
      "text/plain": [
       "                                                                                                                                         antecedents                               consequents  antecedent support  consequent support   support  confidence      lift  leverage    conviction\n",
       "2095                               (Concluiu curso superior?_NÃO, cat_renda_per_capita_RENDAPERCAPITA>Q3, cat_membros_familia_MEMBROSFAMILIA<Q2_Q3>)    (cat_renda_mensal_bruta_RENDABRUTA>Q3)            0.116593            0.250000  0.116593    1.000000  4.000000  0.087445           inf\n",
       "2082                                (Pessoa com deficiência?_NÃO, cat_renda_per_capita_RENDAPERCAPITA>Q3, cat_membros_familia_MEMBROSFAMILIA<Q2_Q3>)    (cat_renda_mensal_bruta_RENDABRUTA>Q3)            0.127994            0.250000  0.127994    1.000000  4.000000  0.095996           inf\n",
       "451                                                              (cat_renda_per_capita_RENDAPERCAPITA>Q3, cat_membros_familia_MEMBROSFAMILIA<Q2_Q3>)    (cat_renda_mensal_bruta_RENDABRUTA>Q3)            0.129070            0.250000  0.129070    1.000000  4.000000  0.096803           inf\n",
       "4665  (Pessoa com deficiência?_NÃO, Concluiu curso superior?_NÃO, cat_renda_per_capita_RENDAPERCAPITA>Q3, cat_membros_familia_MEMBROSFAMILIA<Q2_Q3>)    (cat_renda_mensal_bruta_RENDABRUTA>Q3)            0.115668            0.250000  0.115668    1.000000  4.000000  0.086751           inf\n",
       "395                                                                (cat_renda_mensal_bruta_RENDABRUTA<Q1, cat_membros_familia_MEMBROSFAMILIA<Q2_Q3>)  (cat_renda_per_capita_RENDAPERCAPITA<Q1)            0.116185            0.252018  0.116180    0.999963  3.967827  0.086900  2.019926e+04"
      ]
     },
     "execution_count": 182,
     "metadata": {},
     "output_type": "execute_result"
    }
   ],
   "source": [
    "rules = association_rules(frequent_itemsets, metric=\"confidence\", min_threshold=0.2)\n",
    "rules.sort_values(by=\"confidence\",ascending=False).head()"
   ]
  },
  {
   "cell_type": "markdown",
   "metadata": {},
   "source": [
    "Conforme é possível visualizar abaixo, o item gerado pelo algoritmo à priori é um frozenset. Para facilitar a manipulação de tal item, estes foram convertidos para string"
   ]
  },
  {
   "cell_type": "code",
   "execution_count": 183,
   "metadata": {},
   "outputs": [
    {
     "data": {
      "text/plain": [
       "frozenset"
      ]
     },
     "execution_count": 183,
     "metadata": {},
     "output_type": "execute_result"
    }
   ],
   "source": [
    "type(rules['consequents'][0])"
   ]
  },
  {
   "cell_type": "markdown",
   "metadata": {},
   "source": [
    "Convertendo para strings..."
   ]
  },
  {
   "cell_type": "code",
   "execution_count": 184,
   "metadata": {},
   "outputs": [],
   "source": [
    "rules[\"consequents\"] = rules[\"consequents\"].apply(lambda x: ', '.join(list(x))).astype(\"unicode\")"
   ]
  },
  {
   "cell_type": "markdown",
   "metadata": {},
   "source": [
    "### Avaliando regras inscrição ser aceita\n",
    "\n",
    "Uma vez que as regras de associação já foram definidas, deve-se avaliar as regras que se relacionam às categorias importantes definidas previamente pela equipe, no caso, a inscrição aceita"
   ]
  },
  {
   "cell_type": "markdown",
   "metadata": {},
   "source": [
    "#### Situação Inscrição Fies_CONTRATADA\n",
    "\n",
    "Avaliando regras que possuem como consequente \"Situação Inscrição Fies_CONTRATADA\""
   ]
  },
  {
   "cell_type": "code",
   "execution_count": 185,
   "metadata": {},
   "outputs": [],
   "source": [
    "regrasContratada = rules[rules['consequents'] == 'Situação Inscrição Fies_CONTRATADA']"
   ]
  },
  {
   "cell_type": "code",
   "execution_count": 186,
   "metadata": {},
   "outputs": [
    {
     "data": {
      "text/html": [
       "<div>\n",
       "<style scoped>\n",
       "    .dataframe tbody tr th:only-of-type {\n",
       "        vertical-align: middle;\n",
       "    }\n",
       "\n",
       "    .dataframe tbody tr th {\n",
       "        vertical-align: top;\n",
       "    }\n",
       "\n",
       "    .dataframe thead th {\n",
       "        text-align: right;\n",
       "    }\n",
       "</style>\n",
       "<table border=\"1\" class=\"dataframe\">\n",
       "  <thead>\n",
       "    <tr style=\"text-align: right;\">\n",
       "      <th></th>\n",
       "      <th>antecedents</th>\n",
       "      <th>consequents</th>\n",
       "      <th>antecedent support</th>\n",
       "      <th>consequent support</th>\n",
       "      <th>support</th>\n",
       "      <th>confidence</th>\n",
       "      <th>lift</th>\n",
       "      <th>leverage</th>\n",
       "      <th>conviction</th>\n",
       "    </tr>\n",
       "  </thead>\n",
       "  <tbody>\n",
       "    <tr>\n",
       "      <th>3859</th>\n",
       "      <td>(Pessoa com deficiência?_NÃO, Concluiu curso superior?_NÃO, cat_opcao_inscricao_OPCAOINSCRICAO&lt;Q1)</td>\n",
       "      <td>Situação Inscrição Fies_CONTRATADA</td>\n",
       "      <td>0.478432</td>\n",
       "      <td>0.109512</td>\n",
       "      <td>0.101281</td>\n",
       "      <td>0.211694</td>\n",
       "      <td>1.933073</td>\n",
       "      <td>0.048887</td>\n",
       "      <td>1.129623</td>\n",
       "    </tr>\n",
       "    <tr>\n",
       "      <th>1324</th>\n",
       "      <td>(Concluiu curso superior?_NÃO, cat_opcao_inscricao_OPCAOINSCRICAO&lt;Q1)</td>\n",
       "      <td>Situação Inscrição Fies_CONTRATADA</td>\n",
       "      <td>0.482145</td>\n",
       "      <td>0.109512</td>\n",
       "      <td>0.101828</td>\n",
       "      <td>0.211197</td>\n",
       "      <td>1.928535</td>\n",
       "      <td>0.049027</td>\n",
       "      <td>1.128911</td>\n",
       "    </tr>\n",
       "    <tr>\n",
       "      <th>1308</th>\n",
       "      <td>(Pessoa com deficiência?_NÃO, cat_opcao_inscricao_OPCAOINSCRICAO&lt;Q1)</td>\n",
       "      <td>Situação Inscrição Fies_CONTRATADA</td>\n",
       "      <td>0.511969</td>\n",
       "      <td>0.109512</td>\n",
       "      <td>0.104758</td>\n",
       "      <td>0.204617</td>\n",
       "      <td>1.868449</td>\n",
       "      <td>0.048691</td>\n",
       "      <td>1.119572</td>\n",
       "    </tr>\n",
       "    <tr>\n",
       "      <th>163</th>\n",
       "      <td>(cat_opcao_inscricao_OPCAOINSCRICAO&lt;Q1)</td>\n",
       "      <td>Situação Inscrição Fies_CONTRATADA</td>\n",
       "      <td>0.516104</td>\n",
       "      <td>0.109512</td>\n",
       "      <td>0.105321</td>\n",
       "      <td>0.204070</td>\n",
       "      <td>1.863453</td>\n",
       "      <td>0.048802</td>\n",
       "      <td>1.118802</td>\n",
       "    </tr>\n",
       "  </tbody>\n",
       "</table>\n",
       "</div>"
      ],
      "text/plain": [
       "                                                                                             antecedents                         consequents  antecedent support  consequent support   support  confidence      lift  leverage  conviction\n",
       "3859  (Pessoa com deficiência?_NÃO, Concluiu curso superior?_NÃO, cat_opcao_inscricao_OPCAOINSCRICAO<Q1)  Situação Inscrição Fies_CONTRATADA            0.478432            0.109512  0.101281    0.211694  1.933073  0.048887    1.129623\n",
       "1324                               (Concluiu curso superior?_NÃO, cat_opcao_inscricao_OPCAOINSCRICAO<Q1)  Situação Inscrição Fies_CONTRATADA            0.482145            0.109512  0.101828    0.211197  1.928535  0.049027    1.128911\n",
       "1308                                (Pessoa com deficiência?_NÃO, cat_opcao_inscricao_OPCAOINSCRICAO<Q1)  Situação Inscrição Fies_CONTRATADA            0.511969            0.109512  0.104758    0.204617  1.868449  0.048691    1.119572\n",
       "163                                                              (cat_opcao_inscricao_OPCAOINSCRICAO<Q1)  Situação Inscrição Fies_CONTRATADA            0.516104            0.109512  0.105321    0.204070  1.863453  0.048802    1.118802"
      ]
     },
     "execution_count": 186,
     "metadata": {},
     "output_type": "execute_result"
    }
   ],
   "source": [
    "regrasContratada.sort_values('lift', ascending = False)"
   ]
  },
  {
   "cell_type": "markdown",
   "metadata": {},
   "source": [
    "#### Situação Inscrição Fies_NÃO CONTRATADO\n",
    "\n",
    "Avaliando regras que possuem como consequente \"Situação Inscrição Fies_NÃO CONTRATADO\""
   ]
  },
  {
   "cell_type": "code",
   "execution_count": 187,
   "metadata": {},
   "outputs": [],
   "source": [
    "regrasNaoContratado = rules[rules['consequents'] == 'Situação Inscrição Fies_NÃO CONTRATADO']"
   ]
  },
  {
   "cell_type": "code",
   "execution_count": 188,
   "metadata": {},
   "outputs": [
    {
     "data": {
      "text/html": [
       "<div>\n",
       "<style scoped>\n",
       "    .dataframe tbody tr th:only-of-type {\n",
       "        vertical-align: middle;\n",
       "    }\n",
       "\n",
       "    .dataframe tbody tr th {\n",
       "        vertical-align: top;\n",
       "    }\n",
       "\n",
       "    .dataframe thead th {\n",
       "        text-align: right;\n",
       "    }\n",
       "</style>\n",
       "<table border=\"1\" class=\"dataframe\">\n",
       "  <thead>\n",
       "    <tr style=\"text-align: right;\">\n",
       "      <th></th>\n",
       "      <th>antecedents</th>\n",
       "      <th>consequents</th>\n",
       "      <th>antecedent support</th>\n",
       "      <th>consequent support</th>\n",
       "      <th>support</th>\n",
       "      <th>confidence</th>\n",
       "      <th>lift</th>\n",
       "      <th>leverage</th>\n",
       "      <th>conviction</th>\n",
       "    </tr>\n",
       "  </thead>\n",
       "  <tbody>\n",
       "    <tr>\n",
       "      <th>232</th>\n",
       "      <td>(Pessoa com deficiência?_NÃO)</td>\n",
       "      <td>Situação Inscrição Fies_NÃO CONTRATADO</td>\n",
       "      <td>0.992153</td>\n",
       "      <td>0.540756</td>\n",
       "      <td>0.536639</td>\n",
       "      <td>0.540883</td>\n",
       "      <td>1.000235</td>\n",
       "      <td>0.000126</td>\n",
       "      <td>1.000277</td>\n",
       "    </tr>\n",
       "    <tr>\n",
       "      <th>237</th>\n",
       "      <td>(Concluiu curso superior?_NÃO)</td>\n",
       "      <td>Situação Inscrição Fies_NÃO CONTRATADO</td>\n",
       "      <td>0.935181</td>\n",
       "      <td>0.540756</td>\n",
       "      <td>0.510760</td>\n",
       "      <td>0.546162</td>\n",
       "      <td>1.009997</td>\n",
       "      <td>0.005055</td>\n",
       "      <td>1.011911</td>\n",
       "    </tr>\n",
       "    <tr>\n",
       "      <th>1556</th>\n",
       "      <td>(Pessoa com deficiência?_NÃO, Concluiu curso superior?_NÃO)</td>\n",
       "      <td>Situação Inscrição Fies_NÃO CONTRATADO</td>\n",
       "      <td>0.928065</td>\n",
       "      <td>0.540756</td>\n",
       "      <td>0.506931</td>\n",
       "      <td>0.546224</td>\n",
       "      <td>1.010111</td>\n",
       "      <td>0.005074</td>\n",
       "      <td>1.012049</td>\n",
       "    </tr>\n",
       "    <tr>\n",
       "      <th>198</th>\n",
       "      <td>(Sexo_F)</td>\n",
       "      <td>Situação Inscrição Fies_NÃO CONTRATADO</td>\n",
       "      <td>0.653929</td>\n",
       "      <td>0.540756</td>\n",
       "      <td>0.343279</td>\n",
       "      <td>0.524948</td>\n",
       "      <td>0.970767</td>\n",
       "      <td>-0.010337</td>\n",
       "      <td>0.966724</td>\n",
       "    </tr>\n",
       "    <tr>\n",
       "      <th>1447</th>\n",
       "      <td>(Pessoa com deficiência?_NÃO, Sexo_F)</td>\n",
       "      <td>Situação Inscrição Fies_NÃO CONTRATADO</td>\n",
       "      <td>0.650250</td>\n",
       "      <td>0.540756</td>\n",
       "      <td>0.341433</td>\n",
       "      <td>0.525080</td>\n",
       "      <td>0.971010</td>\n",
       "      <td>-0.010194</td>\n",
       "      <td>0.966991</td>\n",
       "    </tr>\n",
       "    <tr>\n",
       "      <th>1458</th>\n",
       "      <td>(Concluiu curso superior?_NÃO, Sexo_F)</td>\n",
       "      <td>Situação Inscrição Fies_NÃO CONTRATADO</td>\n",
       "      <td>0.610604</td>\n",
       "      <td>0.540756</td>\n",
       "      <td>0.323325</td>\n",
       "      <td>0.529516</td>\n",
       "      <td>0.979214</td>\n",
       "      <td>-0.006863</td>\n",
       "      <td>0.976109</td>\n",
       "    </tr>\n",
       "    <tr>\n",
       "      <th>4046</th>\n",
       "      <td>(Pessoa com deficiência?_NÃO, Concluiu curso superior?_NÃO, Sexo_F)</td>\n",
       "      <td>Situação Inscrição Fies_NÃO CONTRATADO</td>\n",
       "      <td>0.607287</td>\n",
       "      <td>0.540756</td>\n",
       "      <td>0.321651</td>\n",
       "      <td>0.529652</td>\n",
       "      <td>0.979466</td>\n",
       "      <td>-0.006743</td>\n",
       "      <td>0.976392</td>\n",
       "    </tr>\n",
       "    <tr>\n",
       "      <th>135</th>\n",
       "      <td>(cat_renda_per_capita_RENDAPERCAPITA&lt;Q2_Q3&gt;)</td>\n",
       "      <td>Situação Inscrição Fies_NÃO CONTRATADO</td>\n",
       "      <td>0.501592</td>\n",
       "      <td>0.540756</td>\n",
       "      <td>0.290382</td>\n",
       "      <td>0.578920</td>\n",
       "      <td>1.070576</td>\n",
       "      <td>0.019143</td>\n",
       "      <td>1.090634</td>\n",
       "    </tr>\n",
       "    <tr>\n",
       "      <th>89</th>\n",
       "      <td>(cat_renda_mensal_bruta_RENDABRUTA&lt;Q2_Q3&gt;)</td>\n",
       "      <td>Situação Inscrição Fies_NÃO CONTRATADO</td>\n",
       "      <td>0.499991</td>\n",
       "      <td>0.540756</td>\n",
       "      <td>0.289969</td>\n",
       "      <td>0.579947</td>\n",
       "      <td>1.072475</td>\n",
       "      <td>0.019595</td>\n",
       "      <td>1.093301</td>\n",
       "    </tr>\n",
       "    <tr>\n",
       "      <th>1170</th>\n",
       "      <td>(Pessoa com deficiência?_NÃO, cat_renda_per_capita_RENDAPERCAPITA&lt;Q2_Q3&gt;)</td>\n",
       "      <td>Situação Inscrição Fies_NÃO CONTRATADO</td>\n",
       "      <td>0.497802</td>\n",
       "      <td>0.540756</td>\n",
       "      <td>0.288256</td>\n",
       "      <td>0.579059</td>\n",
       "      <td>1.070832</td>\n",
       "      <td>0.019067</td>\n",
       "      <td>1.090993</td>\n",
       "    </tr>\n",
       "  </tbody>\n",
       "</table>\n",
       "</div>"
      ],
      "text/plain": [
       "                                                                    antecedents                             consequents  antecedent support  consequent support   support  confidence      lift  leverage  conviction\n",
       "232                                               (Pessoa com deficiência?_NÃO)  Situação Inscrição Fies_NÃO CONTRATADO            0.992153            0.540756  0.536639    0.540883  1.000235  0.000126    1.000277\n",
       "237                                              (Concluiu curso superior?_NÃO)  Situação Inscrição Fies_NÃO CONTRATADO            0.935181            0.540756  0.510760    0.546162  1.009997  0.005055    1.011911\n",
       "1556                (Pessoa com deficiência?_NÃO, Concluiu curso superior?_NÃO)  Situação Inscrição Fies_NÃO CONTRATADO            0.928065            0.540756  0.506931    0.546224  1.010111  0.005074    1.012049\n",
       "198                                                                    (Sexo_F)  Situação Inscrição Fies_NÃO CONTRATADO            0.653929            0.540756  0.343279    0.524948  0.970767 -0.010337    0.966724\n",
       "1447                                      (Pessoa com deficiência?_NÃO, Sexo_F)  Situação Inscrição Fies_NÃO CONTRATADO            0.650250            0.540756  0.341433    0.525080  0.971010 -0.010194    0.966991\n",
       "1458                                     (Concluiu curso superior?_NÃO, Sexo_F)  Situação Inscrição Fies_NÃO CONTRATADO            0.610604            0.540756  0.323325    0.529516  0.979214 -0.006863    0.976109\n",
       "4046        (Pessoa com deficiência?_NÃO, Concluiu curso superior?_NÃO, Sexo_F)  Situação Inscrição Fies_NÃO CONTRATADO            0.607287            0.540756  0.321651    0.529652  0.979466 -0.006743    0.976392\n",
       "135                                (cat_renda_per_capita_RENDAPERCAPITA<Q2_Q3>)  Situação Inscrição Fies_NÃO CONTRATADO            0.501592            0.540756  0.290382    0.578920  1.070576  0.019143    1.090634\n",
       "89                                   (cat_renda_mensal_bruta_RENDABRUTA<Q2_Q3>)  Situação Inscrição Fies_NÃO CONTRATADO            0.499991            0.540756  0.289969    0.579947  1.072475  0.019595    1.093301\n",
       "1170  (Pessoa com deficiência?_NÃO, cat_renda_per_capita_RENDAPERCAPITA<Q2_Q3>)  Situação Inscrição Fies_NÃO CONTRATADO            0.497802            0.540756  0.288256    0.579059  1.070832  0.019067    1.090993"
      ]
     },
     "execution_count": 188,
     "metadata": {},
     "output_type": "execute_result"
    }
   ],
   "source": [
    "regrasNaoContratado.sort_values('support', ascending = False).head(10)"
   ]
  },
  {
   "cell_type": "markdown",
   "metadata": {},
   "source": [
    "### Calcula métricas\n",
    "\n",
    "Para facilitar a obtenção de relação entre antecedentes e consequentes, utilizou-se uma função, a qual recebe estes valores como parâmetro e exibe métricas de acordo com estes"
   ]
  },
  {
   "cell_type": "code",
   "execution_count": 189,
   "metadata": {},
   "outputs": [
    {
     "data": {
      "text/plain": [
       "'Situação Inscrição Fies_CONTRATADA'"
      ]
     },
     "metadata": {},
     "output_type": "display_data"
    },
    {
     "name": "stdout",
     "output_type": "stream",
     "text": [
      "( cat_opcao_inscricao_OPCAOINSCRICAO<Q1 ) -> ( Situação Inscrição Fies_CONTRATADA )\n",
      "Suporte:  0.1053211261788394\n",
      "Confiança:  0.20406972382230595\n",
      "Lift:  1.8634530544301962\n",
      "#########################\n",
      "( Pessoa com deficiência?_NÃO ) -> ( Situação Inscrição Fies_CONTRATADA )\n",
      "Suporte:  0.10891357472292972\n",
      "Confiança:  0.10977502948726844\n",
      "Lift:  1.0024055022308784\n",
      "#########################\n",
      "( Concluiu curso superior?_NÃO ) -> ( Situação Inscrição Fies_CONTRATADA )\n",
      "Suporte:  0.10576426653817031\n",
      "Confiança:  0.11309496425383915\n",
      "Lift:  1.0327213299068256\n",
      "#########################\n"
     ]
    },
    {
     "data": {
      "text/plain": [
       "'Situação Inscrição Fies_NÃO CONTRATADO'"
      ]
     },
     "metadata": {},
     "output_type": "display_data"
    },
    {
     "name": "stdout",
     "output_type": "stream",
     "text": [
      "( Pessoa com deficiência?_NÃO ) -> ( Situação Inscrição Fies_NÃO CONTRATADO )\n",
      "Suporte:  0.5366386728161354\n",
      "Confiança:  0.5408832304169847\n",
      "Lift:  1.0002352712829332\n",
      "#########################\n",
      "( Concluiu curso superior?_NÃO ) -> ( Situação Inscrição Fies_NÃO CONTRATADO )\n",
      "Suporte:  0.510760136297928\n",
      "Confiança:  0.546161773230404\n",
      "Lift:  1.0099966844790655\n",
      "#########################\n",
      "( cat_renda_per_capita_RENDAPERCAPITA<Q2_Q3> ) -> ( Situação Inscrição Fies_NÃO CONTRATADO )\n",
      "Suporte:  0.2903817030357266\n",
      "Confiança:  0.5789202820235706\n",
      "Lift:  1.0705757782407574\n",
      "#########################\n",
      "( Sexo_F ) -> ( Situação Inscrição Fies_NÃO CONTRATADO )\n",
      "Suporte:  0.3432788944723618\n",
      "Confiança:  0.5249483532244694\n",
      "Lift:  0.9707674946627778\n",
      "#########################\n"
     ]
    }
   ],
   "source": [
    "def calcula_metricas(att_antecedente, att_consequente):\n",
    "  print(\"(\",att_antecedente,\") -> (\",att_consequente,\")\")\n",
    "\n",
    "  suporte = len(df_transactions[(df_transactions[att_antecedente] == 1) & (df_transactions[att_consequente] == 1) ])/ \\\n",
    "  len(df_transactions)\n",
    "  print(\"Suporte: \",suporte)\n",
    "\n",
    "  confianca = len(df_transactions[(df_transactions[att_antecedente] == 1) & (df_transactions[att_consequente] == 1) ])/ \\\n",
    "  len(df_transactions[df_transactions[att_antecedente] == 1])\n",
    "  print(\"Confiança: \",confianca)\n",
    "\n",
    "  lift = confianca / (len(df_transactions[df_transactions[att_consequente] == 1]) / len(df_transactions))\n",
    "\n",
    "  print(\"Lift: \",lift)\n",
    "\n",
    "  print(\"#########################\")\n",
    "\n",
    "display(\"Situação Inscrição Fies_CONTRATADA\")\n",
    "calcula_metricas(\"cat_opcao_inscricao_OPCAOINSCRICAO<Q1\",\"Situação Inscrição Fies_CONTRATADA\")\n",
    "calcula_metricas(\"Pessoa com deficiência?_NÃO\",\"Situação Inscrição Fies_CONTRATADA\")\n",
    "calcula_metricas(\"Concluiu curso superior?_NÃO\",\"Situação Inscrição Fies_CONTRATADA\")\n",
    "\n",
    "display(\"Situação Inscrição Fies_NÃO CONTRATADO\")\n",
    "calcula_metricas(\"Pessoa com deficiência?_NÃO\",\"Situação Inscrição Fies_NÃO CONTRATADO\")\n",
    "calcula_metricas(\"Concluiu curso superior?_NÃO\",\"Situação Inscrição Fies_NÃO CONTRATADO\")\n",
    "calcula_metricas(\"cat_renda_per_capita_RENDAPERCAPITA<Q2_Q3>\",\"Situação Inscrição Fies_NÃO CONTRATADO\")\n",
    "calcula_metricas(\"Sexo_F\",\"Situação Inscrição Fies_NÃO CONTRATADO\")\n"
   ]
  },
  {
   "cell_type": "markdown",
   "metadata": {},
   "source": [
    "### Observando maior \"confidence\"\n",
    "\n",
    "Neste momento, serão avaliadas as maiores confidences obtidas de acordo com o tipo de inscrição contratada e não contratado"
   ]
  },
  {
   "cell_type": "code",
   "execution_count": 190,
   "metadata": {},
   "outputs": [
    {
     "data": {
      "text/html": [
       "<div>\n",
       "<style scoped>\n",
       "    .dataframe tbody tr th:only-of-type {\n",
       "        vertical-align: middle;\n",
       "    }\n",
       "\n",
       "    .dataframe tbody tr th {\n",
       "        vertical-align: top;\n",
       "    }\n",
       "\n",
       "    .dataframe thead th {\n",
       "        text-align: right;\n",
       "    }\n",
       "</style>\n",
       "<table border=\"1\" class=\"dataframe\">\n",
       "  <thead>\n",
       "    <tr style=\"text-align: right;\">\n",
       "      <th></th>\n",
       "      <th>antecedents</th>\n",
       "      <th>consequents</th>\n",
       "      <th>antecedent support</th>\n",
       "      <th>consequent support</th>\n",
       "      <th>support</th>\n",
       "      <th>confidence</th>\n",
       "      <th>lift</th>\n",
       "      <th>leverage</th>\n",
       "      <th>conviction</th>\n",
       "    </tr>\n",
       "  </thead>\n",
       "  <tbody>\n",
       "    <tr>\n",
       "      <th>3859</th>\n",
       "      <td>(Pessoa com deficiência?_NÃO, Concluiu curso superior?_NÃO, cat_opcao_inscricao_OPCAOINSCRICAO&lt;Q1)</td>\n",
       "      <td>Situação Inscrição Fies_CONTRATADA</td>\n",
       "      <td>0.478432</td>\n",
       "      <td>0.109512</td>\n",
       "      <td>0.101281</td>\n",
       "      <td>0.211694</td>\n",
       "      <td>1.933073</td>\n",
       "      <td>0.048887</td>\n",
       "      <td>1.129623</td>\n",
       "    </tr>\n",
       "  </tbody>\n",
       "</table>\n",
       "</div>"
      ],
      "text/plain": [
       "                                                                                             antecedents                         consequents  antecedent support  consequent support   support  confidence      lift  leverage  conviction\n",
       "3859  (Pessoa com deficiência?_NÃO, Concluiu curso superior?_NÃO, cat_opcao_inscricao_OPCAOINSCRICAO<Q1)  Situação Inscrição Fies_CONTRATADA            0.478432            0.109512  0.101281    0.211694  1.933073  0.048887    1.129623"
      ]
     },
     "execution_count": 190,
     "metadata": {},
     "output_type": "execute_result"
    }
   ],
   "source": [
    "regrasContratada[regrasContratada['confidence'] == regrasContratada.confidence.max()]"
   ]
  },
  {
   "cell_type": "code",
   "execution_count": 191,
   "metadata": {},
   "outputs": [
    {
     "data": {
      "text/html": [
       "<div>\n",
       "<style scoped>\n",
       "    .dataframe tbody tr th:only-of-type {\n",
       "        vertical-align: middle;\n",
       "    }\n",
       "\n",
       "    .dataframe tbody tr th {\n",
       "        vertical-align: top;\n",
       "    }\n",
       "\n",
       "    .dataframe thead th {\n",
       "        text-align: right;\n",
       "    }\n",
       "</style>\n",
       "<table border=\"1\" class=\"dataframe\">\n",
       "  <thead>\n",
       "    <tr style=\"text-align: right;\">\n",
       "      <th></th>\n",
       "      <th>antecedents</th>\n",
       "      <th>consequents</th>\n",
       "      <th>antecedent support</th>\n",
       "      <th>consequent support</th>\n",
       "      <th>support</th>\n",
       "      <th>confidence</th>\n",
       "      <th>lift</th>\n",
       "      <th>leverage</th>\n",
       "      <th>conviction</th>\n",
       "    </tr>\n",
       "  </thead>\n",
       "  <tbody>\n",
       "    <tr>\n",
       "      <th>4170</th>\n",
       "      <td>(Pessoa com deficiência?_NÃO, Concluiu curso superior?_NÃO, cat_renda_mensal_bruta_RENDABRUTA&lt;Q2_Q3&gt;, cat_membros_familia_MEMBROSFAMILIA&lt;Q1)</td>\n",
       "      <td>Situação Inscrição Fies_NÃO CONTRATADO</td>\n",
       "      <td>0.170915</td>\n",
       "      <td>0.540756</td>\n",
       "      <td>0.112601</td>\n",
       "      <td>0.658813</td>\n",
       "      <td>1.218318</td>\n",
       "      <td>0.020178</td>\n",
       "      <td>1.346018</td>\n",
       "    </tr>\n",
       "  </tbody>\n",
       "</table>\n",
       "</div>"
      ],
      "text/plain": [
       "                                                                                                                                       antecedents                             consequents  antecedent support  consequent support   support  confidence      lift  leverage  conviction\n",
       "4170  (Pessoa com deficiência?_NÃO, Concluiu curso superior?_NÃO, cat_renda_mensal_bruta_RENDABRUTA<Q2_Q3>, cat_membros_familia_MEMBROSFAMILIA<Q1)  Situação Inscrição Fies_NÃO CONTRATADO            0.170915            0.540756  0.112601    0.658813  1.218318  0.020178    1.346018"
      ]
     },
     "execution_count": 191,
     "metadata": {},
     "output_type": "execute_result"
    }
   ],
   "source": [
    "regrasNaoContratado[regrasNaoContratado['confidence'] == regrasNaoContratado.confidence.max()]"
   ]
  },
  {
   "cell_type": "markdown",
   "metadata": {},
   "source": [
    "### Plotando gráficos\n",
    "\n",
    "Para observar de forma visual se existem possíveis relações entre os campos apontados pelas regras de associação e as categorias estudadas, gráficos serão plotados considerando tais campos."
   ]
  },
  {
   "cell_type": "code",
   "execution_count": 192,
   "metadata": {},
   "outputs": [],
   "source": [
    "import seaborn as sns"
   ]
  },
  {
   "cell_type": "code",
   "execution_count": 193,
   "metadata": {},
   "outputs": [],
   "source": [
    "sns.set(rc={\"figure.figsize\":(5, 6.5)})"
   ]
  },
  {
   "cell_type": "markdown",
   "metadata": {},
   "source": [
    "#### Situação Inscrição FIES x Pessoa com deficiência?\n",
    "\n",
    "Observe que a escala logarítmica foi usada para poder visualizar melhor os dados. Como as pessoas com deficiência representam uma parcela pequena dos inscritos no FIES, as proporções avaliadas são bem diferentes"
   ]
  },
  {
   "cell_type": "code",
   "execution_count": 194,
   "metadata": {},
   "outputs": [
    {
     "data": {
      "image/png": "[encoded data removed]",
      "text/plain": [
       "<Figure size 360x468 with 1 Axes>"
      ]
     },
     "metadata": {},
     "output_type": "display_data"
    }
   ],
   "source": [
    "g = sns.countplot(x='Situação Inscrição Fies', hue = 'Pessoa com deficiência?', data=fies2019)\n",
    "g.set_yscale(\"log\")\n",
    "g.tick_params(axis='x', rotation=90)"
   ]
  },
  {
   "cell_type": "markdown",
   "metadata": {},
   "source": [
    "#### Situação Inscrição FIES x Sexo?\n",
    "\n",
    "Observe que a escala logarítmica foi usada para poder visualizar melhor os dados. Conforme é possível observar, aparentemente neste ano, tem-se mais mulheres inscritas no FIES do que homens, o que também influencia nos dados"
   ]
  },
  {
   "cell_type": "code",
   "execution_count": 195,
   "metadata": {},
   "outputs": [
    {
     "data": {
      "image/png": "[encoded data removed]",
      "text/plain": [
       "<Figure size 360x468 with 1 Axes>"
      ]
     },
     "metadata": {},
     "output_type": "display_data"
    }
   ],
   "source": [
    "g = sns.countplot(x='Situação Inscrição Fies', hue = 'Sexo', data=fies2019)\n",
    "g.set_yscale(\"log\")\n",
    "g.tick_params(axis='x', rotation=90)"
   ]
  },
  {
   "cell_type": "markdown",
   "metadata": {},
   "source": [
    "#### Situação Inscrição Fies x Concluiu Curso Superior?\n",
    "\n",
    "Observe que a escala logarítmica foi usada para poder visualizar melhor os dados. Assim como no caso das pessoas com deficiência, as pessoas que concluiram curso superior também representam uma parcela muito menor dos participantes do FIES"
   ]
  },
  {
   "cell_type": "code",
   "execution_count": 196,
   "metadata": {},
   "outputs": [
    {
     "data": {
      "image/png": "[encoded data removed]",
      "text/plain": [
       "<Figure size 360x468 with 1 Axes>"
      ]
     },
     "metadata": {},
     "output_type": "display_data"
    }
   ],
   "source": [
    "g = sns.countplot(x='Situação Inscrição Fies', hue = 'Concluiu curso superior?', data=fies2019)\n",
    "g.set_yscale(\"log\")\n",
    "g.tick_params(axis='x', rotation=90)"
   ]
  },
  {
   "cell_type": "markdown",
   "metadata": {},
   "source": [
    "#### Situação Inscrição Fies x Nº de membros família\n",
    "\n",
    "Observe que a escala logarítmica foi usada para poder visualizar melhor os dados. Neste caso, o que apresenta ter uma relação maior é no caso de ser aceito e os membros da familia estarem no intervalo Q2_Q3."
   ]
  },
  {
   "cell_type": "code",
   "execution_count": 197,
   "metadata": {},
   "outputs": [
    {
     "data": {
      "image/png": "[encoded data removed]",
      "text/plain": [
       "<Figure size 360x468 with 1 Axes>"
      ]
     },
     "metadata": {},
     "output_type": "display_data"
    }
   ],
   "source": [
    "g = sns.countplot(x='Situação Inscrição Fies', hue = 'cat_membros_familia', data=fies2019)\n",
    "g.set_yscale(\"log\")\n",
    "g.tick_params(axis='x', rotation=90)"
   ]
  },
  {
   "cell_type": "markdown",
   "metadata": {},
   "source": [
    "#### Situação Inscrição Fies x Renda Per capita\n",
    "\n",
    "Uma outra correlação clara é entre a renda per capita entre o Q2 e o Q3 e nao ser contratado"
   ]
  },
  {
   "cell_type": "code",
   "execution_count": 198,
   "metadata": {},
   "outputs": [
    {
     "data": {
      "image/png": "[encoded data removed]",
      "text/plain": [
       "<Figure size 360x468 with 1 Axes>"
      ]
     },
     "metadata": {},
     "output_type": "display_data"
    }
   ],
   "source": [
    "\n",
    "g = sns.countplot(x='Situação Inscrição Fies', hue = 'cat_renda_per_capita', data=fies2019)\n",
    "g.tick_params(axis='x', rotation=90)"
   ]
  },
  {
   "cell_type": "markdown",
   "metadata": {},
   "source": [
    "#### Situação Inscrição Fies x Opção de Inscrição\n",
    "\n",
    "Observe que a escala logarítmica foi usada para poder visualizar melhor os dados. Por meio de tal gráfico pode-se observar, também que há mais pessoas se inscreveram para a primeira opção, o que já era esperado de acordo com as regras de negócio do FIES"
   ]
  },
  {
   "cell_type": "code",
   "execution_count": 199,
   "metadata": {},
   "outputs": [
    {
     "data": {
      "image/png": "[encoded data removed]",
      "text/plain": [
       "<Figure size 360x468 with 1 Axes>"
      ]
     },
     "metadata": {},
     "output_type": "display_data"
    }
   ],
   "source": [
    "g = sns.countplot(x='Situação Inscrição Fies', hue = 'cat_opcao_inscricao', data=fies2019)\n",
    "g.tick_params(axis='x', rotation=90)"
   ]
  },
  {
   "cell_type": "markdown",
   "metadata": {},
   "source": [
    "#### Situação Inscrição Fies x Etnia/Cor\n",
    "\n",
    "Observe que a escala logarítmica foi usada para poder visualizar melhor os dados. Por meio de tal gráfico pode-se observar, também que há mais pessoas pardas que não foram contratadas"
   ]
  },
  {
   "cell_type": "code",
   "execution_count": 200,
   "metadata": {},
   "outputs": [
    {
     "data": {
      "image/png": "[encoded data removed]",
      "text/plain": [
       "<Figure size 360x468 with 1 Axes>"
      ]
     },
     "metadata": {},
     "output_type": "display_data"
    }
   ],
   "source": [
    "g = sns.countplot(x='Situação Inscrição Fies', hue = 'Etnia/Cor', data=fies2019)\n",
    "g.tick_params(axis='x', rotation=90)"
   ]
  },
  {
   "cell_type": "markdown",
   "metadata": {},
   "source": [
    "## Fies 2020"
   ]
  },
  {
   "cell_type": "markdown",
   "metadata": {},
   "source": [
    "### Discretizar atributos numéricos\n",
    "\n",
    "Conforme aprendido em sala de aula, esta técnica de aprendizagem necessita que os atributos numéricos utilizados sejam organizados em categorias, de modo que tal conversão se faz necessária.\n",
    "\n",
    "Primeiro, então, analisaremos as colunas prentes no dataset após sua limpeza"
   ]
  },
  {
   "cell_type": "code",
   "execution_count": 201,
   "metadata": {},
   "outputs": [
    {
     "name": "stdout",
     "output_type": "stream",
     "text": [
      "<class 'pandas.core.frame.DataFrame'>\n",
      "RangeIndex: 182425 entries, 0 to 182424\n",
      "Data columns (total 30 columns):\n",
      " #   Column                          Non-Null Count   Dtype  \n",
      "---  ------                          --------------   -----  \n",
      " 0   ID do estudante                 182425 non-null  int64  \n",
      " 1   Sexo                            182425 non-null  object \n",
      " 2   Data de Nascimento              182425 non-null  object \n",
      " 3   UF de residência                182425 non-null  object \n",
      " 4   Etnia/Cor                       182425 non-null  object \n",
      " 5   Pessoa com deficiência?         182425 non-null  object \n",
      " 6   Ano conclusão ensino médio      182425 non-null  int64  \n",
      " 7   Concluiu curso superior?        182425 non-null  object \n",
      " 8   Nº de membros Grupo Familiar    182425 non-null  int64  \n",
      " 9   Renda familiar mensal bruta     182425 non-null  float64\n",
      " 10  Renda mensal bruta per capita   182425 non-null  float64\n",
      " 11  UF                              182425 non-null  object \n",
      " 12  Área do conhecimento            182425 non-null  object \n",
      " 13  Subárea do conhecimento         182425 non-null  object \n",
      " 14  Opções de cursos da inscrição   182425 non-null  int64  \n",
      " 15  Nome mantenedora                182425 non-null  object \n",
      " 16  Natureza Jurídica Mantenedora   182425 non-null  object \n",
      " 17  Nome da IES                     182425 non-null  object \n",
      " 18  Organização Acadêmica da IES    182425 non-null  object \n",
      " 19  UF do Local de Oferta           182425 non-null  object \n",
      " 20  Nome do curso                   182425 non-null  object \n",
      " 21  Turno                           182425 non-null  object \n",
      " 22  Média nota Enem                 182425 non-null  float64\n",
      " 23  Ano do Enem                     182425 non-null  int64  \n",
      " 24  Redação                         182425 non-null  int64  \n",
      " 25  Matemática e suas Tecnologias   182425 non-null  float64\n",
      " 26  Linguagens, Códigos e suas Tec  182425 non-null  float64\n",
      " 27  Ciências Natureza e suas Tec    182425 non-null  float64\n",
      " 28  Ciências Humanas e suas Tec     182425 non-null  float64\n",
      " 29  Situação Inscrição Fies         182425 non-null  object \n",
      "dtypes: float64(7), int64(6), object(17)\n",
      "memory usage: 41.8+ MB\n"
     ]
    }
   ],
   "source": [
    "fies2020.info()"
   ]
  },
  {
   "cell_type": "markdown",
   "metadata": {},
   "source": [
    "### Visando analisar regras de associação para a Situação de Inscrição no FIES\n",
    "\n",
    "Como o campo \"Situação Inscrição Fies\" será avaliado nas conjunto de regras de associação, definiu-se as colunas de interesse como aquelas que pensamos que poderiam influir e/ou estar relacionadas com este campo, sendo elas:\n",
    "\n",
    "\"Nº de membros Grupo Familiar\", \"Renda familiar mensal bruta\", \"Renda mensal bruta per capita\", \"Opções de cursos da inscrição\",\n",
    "\"Sexo\", \"UF de residência\", \"Etnia/Cor\", \"Pessoa com deficiência?\", \"Concluiu curso superior?\", \"Situação Inscrição Fies\"\n",
    "\n",
    "\n",
    "Desta forma, dentre estes campos, os que forem numéricos serão convertidos em categorias"
   ]
  },
  {
   "cell_type": "markdown",
   "metadata": {},
   "source": [
    "#### Convertendo Nº de membros Grupo Familiar\n",
    "\n",
    "Os intervalores correspondentes a cada categoria foi definido com base nas estatísticas"
   ]
  },
  {
   "cell_type": "code",
   "execution_count": 202,
   "metadata": {},
   "outputs": [
    {
     "data": {
      "text/plain": [
       "count    182425.000000\n",
       "mean          2.143681\n",
       "std           1.120011\n",
       "min           1.000000\n",
       "25%           1.000000\n",
       "50%           2.000000\n",
       "75%           3.000000\n",
       "max          13.000000\n",
       "Name: Nº de membros Grupo Familiar, dtype: float64"
      ]
     },
     "execution_count": 202,
     "metadata": {},
     "output_type": "execute_result"
    }
   ],
   "source": [
    "fies2020['Nº de membros Grupo Familiar'].describe()"
   ]
  },
  {
   "cell_type": "code",
   "execution_count": 203,
   "metadata": {},
   "outputs": [
    {
     "data": {
      "text/html": [
       "<div>\n",
       "<style scoped>\n",
       "    .dataframe tbody tr th:only-of-type {\n",
       "        vertical-align: middle;\n",
       "    }\n",
       "\n",
       "    .dataframe tbody tr th {\n",
       "        vertical-align: top;\n",
       "    }\n",
       "\n",
       "    .dataframe thead th {\n",
       "        text-align: right;\n",
       "    }\n",
       "</style>\n",
       "<table border=\"1\" class=\"dataframe\">\n",
       "  <thead>\n",
       "    <tr style=\"text-align: right;\">\n",
       "      <th></th>\n",
       "      <th>Nº de membros Grupo Familiar</th>\n",
       "      <th>cat_membros_familia</th>\n",
       "    </tr>\n",
       "  </thead>\n",
       "  <tbody>\n",
       "    <tr>\n",
       "      <th>0</th>\n",
       "      <td>3</td>\n",
       "      <td>MEMBROSFAMILIA&lt;Q2_Q3&gt;</td>\n",
       "    </tr>\n",
       "    <tr>\n",
       "      <th>1</th>\n",
       "      <td>2</td>\n",
       "      <td>MEMBROSFAMILIA&lt;Q2_Q3&gt;</td>\n",
       "    </tr>\n",
       "    <tr>\n",
       "      <th>2</th>\n",
       "      <td>2</td>\n",
       "      <td>MEMBROSFAMILIA&lt;Q2_Q3&gt;</td>\n",
       "    </tr>\n",
       "    <tr>\n",
       "      <th>3</th>\n",
       "      <td>3</td>\n",
       "      <td>MEMBROSFAMILIA&lt;Q2_Q3&gt;</td>\n",
       "    </tr>\n",
       "    <tr>\n",
       "      <th>4</th>\n",
       "      <td>3</td>\n",
       "      <td>MEMBROSFAMILIA&lt;Q2_Q3&gt;</td>\n",
       "    </tr>\n",
       "    <tr>\n",
       "      <th>...</th>\n",
       "      <td>...</td>\n",
       "      <td>...</td>\n",
       "    </tr>\n",
       "    <tr>\n",
       "      <th>182420</th>\n",
       "      <td>1</td>\n",
       "      <td>MEMBROSFAMILIA&lt;Q1</td>\n",
       "    </tr>\n",
       "    <tr>\n",
       "      <th>182421</th>\n",
       "      <td>2</td>\n",
       "      <td>MEMBROSFAMILIA&lt;Q2_Q3&gt;</td>\n",
       "    </tr>\n",
       "    <tr>\n",
       "      <th>182422</th>\n",
       "      <td>3</td>\n",
       "      <td>MEMBROSFAMILIA&lt;Q2_Q3&gt;</td>\n",
       "    </tr>\n",
       "    <tr>\n",
       "      <th>182423</th>\n",
       "      <td>3</td>\n",
       "      <td>MEMBROSFAMILIA&lt;Q2_Q3&gt;</td>\n",
       "    </tr>\n",
       "    <tr>\n",
       "      <th>182424</th>\n",
       "      <td>1</td>\n",
       "      <td>MEMBROSFAMILIA&lt;Q1</td>\n",
       "    </tr>\n",
       "  </tbody>\n",
       "</table>\n",
       "<p>182425 rows × 2 columns</p>\n",
       "</div>"
      ],
      "text/plain": [
       "        Nº de membros Grupo Familiar    cat_membros_familia\n",
       "0                                  3  MEMBROSFAMILIA<Q2_Q3>\n",
       "1                                  2  MEMBROSFAMILIA<Q2_Q3>\n",
       "2                                  2  MEMBROSFAMILIA<Q2_Q3>\n",
       "3                                  3  MEMBROSFAMILIA<Q2_Q3>\n",
       "4                                  3  MEMBROSFAMILIA<Q2_Q3>\n",
       "...                              ...                    ...\n",
       "182420                             1      MEMBROSFAMILIA<Q1\n",
       "182421                             2  MEMBROSFAMILIA<Q2_Q3>\n",
       "182422                             3  MEMBROSFAMILIA<Q2_Q3>\n",
       "182423                             3  MEMBROSFAMILIA<Q2_Q3>\n",
       "182424                             1      MEMBROSFAMILIA<Q1\n",
       "\n",
       "[182425 rows x 2 columns]"
      ]
     },
     "execution_count": 203,
     "metadata": {},
     "output_type": "execute_result"
    }
   ],
   "source": [
    "bins = [0, 1, 3, np.inf]\n",
    "names = ['MEMBROSFAMILIA<Q1','MEMBROSFAMILIA<Q2_Q3>','MEMBROSFAMILIA>Q3']\n",
    "fies2020['cat_membros_familia'] = pd.cut(fies2020['Nº de membros Grupo Familiar'], bins, labels=names)\n",
    "fies2020[['Nº de membros Grupo Familiar','cat_membros_familia']]"
   ]
  },
  {
   "cell_type": "markdown",
   "metadata": {},
   "source": [
    "Observe que agora um novo campo foi adicionado, o qual é uma categoria"
   ]
  },
  {
   "cell_type": "code",
   "execution_count": 204,
   "metadata": {},
   "outputs": [
    {
     "name": "stdout",
     "output_type": "stream",
     "text": [
      "<class 'pandas.core.frame.DataFrame'>\n",
      "RangeIndex: 182425 entries, 0 to 182424\n",
      "Data columns (total 31 columns):\n",
      " #   Column                          Non-Null Count   Dtype   \n",
      "---  ------                          --------------   -----   \n",
      " 0   ID do estudante                 182425 non-null  int64   \n",
      " 1   Sexo                            182425 non-null  object  \n",
      " 2   Data de Nascimento              182425 non-null  object  \n",
      " 3   UF de residência                182425 non-null  object  \n",
      " 4   Etnia/Cor                       182425 non-null  object  \n",
      " 5   Pessoa com deficiência?         182425 non-null  object  \n",
      " 6   Ano conclusão ensino médio      182425 non-null  int64   \n",
      " 7   Concluiu curso superior?        182425 non-null  object  \n",
      " 8   Nº de membros Grupo Familiar    182425 non-null  int64   \n",
      " 9   Renda familiar mensal bruta     182425 non-null  float64 \n",
      " 10  Renda mensal bruta per capita   182425 non-null  float64 \n",
      " 11  UF                              182425 non-null  object  \n",
      " 12  Área do conhecimento            182425 non-null  object  \n",
      " 13  Subárea do conhecimento         182425 non-null  object  \n",
      " 14  Opções de cursos da inscrição   182425 non-null  int64   \n",
      " 15  Nome mantenedora                182425 non-null  object  \n",
      " 16  Natureza Jurídica Mantenedora   182425 non-null  object  \n",
      " 17  Nome da IES                     182425 non-null  object  \n",
      " 18  Organização Acadêmica da IES    182425 non-null  object  \n",
      " 19  UF do Local de Oferta           182425 non-null  object  \n",
      " 20  Nome do curso                   182425 non-null  object  \n",
      " 21  Turno                           182425 non-null  object  \n",
      " 22  Média nota Enem                 182425 non-null  float64 \n",
      " 23  Ano do Enem                     182425 non-null  int64   \n",
      " 24  Redação                         182425 non-null  int64   \n",
      " 25  Matemática e suas Tecnologias   182425 non-null  float64 \n",
      " 26  Linguagens, Códigos e suas Tec  182425 non-null  float64 \n",
      " 27  Ciências Natureza e suas Tec    182425 non-null  float64 \n",
      " 28  Ciências Humanas e suas Tec     182425 non-null  float64 \n",
      " 29  Situação Inscrição Fies         182425 non-null  object  \n",
      " 30  cat_membros_familia             182425 non-null  category\n",
      "dtypes: category(1), float64(7), int64(6), object(17)\n",
      "memory usage: 41.9+ MB\n"
     ]
    }
   ],
   "source": [
    "fies2020.info()"
   ]
  },
  {
   "cell_type": "markdown",
   "metadata": {},
   "source": [
    "#### Convertendo Renda familiar mensal bruta\n",
    "\n",
    "Os intervalores correspondentes a cada categoria foi definido com base nas estatísticas descritivas"
   ]
  },
  {
   "cell_type": "code",
   "execution_count": 205,
   "metadata": {},
   "outputs": [
    {
     "data": {
      "text/plain": [
       "count    182425.000000\n",
       "mean       2995.865289\n",
       "std        2359.177775\n",
       "min           0.000000\n",
       "25%        1422.000000\n",
       "50%        2200.000000\n",
       "75%        3502.000000\n",
       "max       31485.810000\n",
       "Name: Renda familiar mensal bruta, dtype: float64"
      ]
     },
     "execution_count": 205,
     "metadata": {},
     "output_type": "execute_result"
    }
   ],
   "source": [
    "fies2020['Renda familiar mensal bruta'].describe()"
   ]
  },
  {
   "cell_type": "code",
   "execution_count": 206,
   "metadata": {},
   "outputs": [
    {
     "data": {
      "text/html": [
       "<div>\n",
       "<style scoped>\n",
       "    .dataframe tbody tr th:only-of-type {\n",
       "        vertical-align: middle;\n",
       "    }\n",
       "\n",
       "    .dataframe tbody tr th {\n",
       "        vertical-align: top;\n",
       "    }\n",
       "\n",
       "    .dataframe thead th {\n",
       "        text-align: right;\n",
       "    }\n",
       "</style>\n",
       "<table border=\"1\" class=\"dataframe\">\n",
       "  <thead>\n",
       "    <tr style=\"text-align: right;\">\n",
       "      <th></th>\n",
       "      <th>Renda familiar mensal bruta</th>\n",
       "      <th>cat_renda_mensal_bruta</th>\n",
       "    </tr>\n",
       "  </thead>\n",
       "  <tbody>\n",
       "    <tr>\n",
       "      <th>0</th>\n",
       "      <td>2400.00</td>\n",
       "      <td>RENDABRUTA&lt;Q2_Q3&gt;</td>\n",
       "    </tr>\n",
       "    <tr>\n",
       "      <th>1</th>\n",
       "      <td>1784.57</td>\n",
       "      <td>RENDABRUTA&lt;Q2_Q3&gt;</td>\n",
       "    </tr>\n",
       "    <tr>\n",
       "      <th>2</th>\n",
       "      <td>1784.57</td>\n",
       "      <td>RENDABRUTA&lt;Q2_Q3&gt;</td>\n",
       "    </tr>\n",
       "    <tr>\n",
       "      <th>3</th>\n",
       "      <td>3050.00</td>\n",
       "      <td>RENDABRUTA&lt;Q2_Q3&gt;</td>\n",
       "    </tr>\n",
       "    <tr>\n",
       "      <th>4</th>\n",
       "      <td>1200.00</td>\n",
       "      <td>RENDABRUTA&lt;Q1</td>\n",
       "    </tr>\n",
       "    <tr>\n",
       "      <th>...</th>\n",
       "      <td>...</td>\n",
       "      <td>...</td>\n",
       "    </tr>\n",
       "    <tr>\n",
       "      <th>182420</th>\n",
       "      <td>4000.00</td>\n",
       "      <td>RENDABRUTA&gt;Q3</td>\n",
       "    </tr>\n",
       "    <tr>\n",
       "      <th>182421</th>\n",
       "      <td>4324.97</td>\n",
       "      <td>RENDABRUTA&gt;Q3</td>\n",
       "    </tr>\n",
       "    <tr>\n",
       "      <th>182422</th>\n",
       "      <td>3862.00</td>\n",
       "      <td>RENDABRUTA&gt;Q3</td>\n",
       "    </tr>\n",
       "    <tr>\n",
       "      <th>182423</th>\n",
       "      <td>7400.00</td>\n",
       "      <td>RENDABRUTA&gt;Q3</td>\n",
       "    </tr>\n",
       "    <tr>\n",
       "      <th>182424</th>\n",
       "      <td>3100.00</td>\n",
       "      <td>RENDABRUTA&lt;Q2_Q3&gt;</td>\n",
       "    </tr>\n",
       "  </tbody>\n",
       "</table>\n",
       "<p>182425 rows × 2 columns</p>\n",
       "</div>"
      ],
      "text/plain": [
       "        Renda familiar mensal bruta cat_renda_mensal_bruta\n",
       "0                           2400.00      RENDABRUTA<Q2_Q3>\n",
       "1                           1784.57      RENDABRUTA<Q2_Q3>\n",
       "2                           1784.57      RENDABRUTA<Q2_Q3>\n",
       "3                           3050.00      RENDABRUTA<Q2_Q3>\n",
       "4                           1200.00          RENDABRUTA<Q1\n",
       "...                             ...                    ...\n",
       "182420                      4000.00          RENDABRUTA>Q3\n",
       "182421                      4324.97          RENDABRUTA>Q3\n",
       "182422                      3862.00          RENDABRUTA>Q3\n",
       "182423                      7400.00          RENDABRUTA>Q3\n",
       "182424                      3100.00      RENDABRUTA<Q2_Q3>\n",
       "\n",
       "[182425 rows x 2 columns]"
      ]
     },
     "execution_count": 206,
     "metadata": {},
     "output_type": "execute_result"
    }
   ],
   "source": [
    "bins = [0, 1422, 3502, np.inf]\n",
    "names = ['RENDABRUTA<Q1','RENDABRUTA<Q2_Q3>','RENDABRUTA>Q3']\n",
    "fies2020['cat_renda_mensal_bruta'] = pd.cut(fies2020['Renda familiar mensal bruta'], bins, labels=names)\n",
    "fies2020[['Renda familiar mensal bruta','cat_renda_mensal_bruta']]"
   ]
  },
  {
   "cell_type": "markdown",
   "metadata": {},
   "source": [
    "Observe que um novo campo foi criado, o qual é categórico\n"
   ]
  },
  {
   "cell_type": "code",
   "execution_count": 207,
   "metadata": {},
   "outputs": [
    {
     "name": "stdout",
     "output_type": "stream",
     "text": [
      "<class 'pandas.core.frame.DataFrame'>\n",
      "RangeIndex: 182425 entries, 0 to 182424\n",
      "Data columns (total 32 columns):\n",
      " #   Column                          Non-Null Count   Dtype   \n",
      "---  ------                          --------------   -----   \n",
      " 0   ID do estudante                 182425 non-null  int64   \n",
      " 1   Sexo                            182425 non-null  object  \n",
      " 2   Data de Nascimento              182425 non-null  object  \n",
      " 3   UF de residência                182425 non-null  object  \n",
      " 4   Etnia/Cor                       182425 non-null  object  \n",
      " 5   Pessoa com deficiência?         182425 non-null  object  \n",
      " 6   Ano conclusão ensino médio      182425 non-null  int64   \n",
      " 7   Concluiu curso superior?        182425 non-null  object  \n",
      " 8   Nº de membros Grupo Familiar    182425 non-null  int64   \n",
      " 9   Renda familiar mensal bruta     182425 non-null  float64 \n",
      " 10  Renda mensal bruta per capita   182425 non-null  float64 \n",
      " 11  UF                              182425 non-null  object  \n",
      " 12  Área do conhecimento            182425 non-null  object  \n",
      " 13  Subárea do conhecimento         182425 non-null  object  \n",
      " 14  Opções de cursos da inscrição   182425 non-null  int64   \n",
      " 15  Nome mantenedora                182425 non-null  object  \n",
      " 16  Natureza Jurídica Mantenedora   182425 non-null  object  \n",
      " 17  Nome da IES                     182425 non-null  object  \n",
      " 18  Organização Acadêmica da IES    182425 non-null  object  \n",
      " 19  UF do Local de Oferta           182425 non-null  object  \n",
      " 20  Nome do curso                   182425 non-null  object  \n",
      " 21  Turno                           182425 non-null  object  \n",
      " 22  Média nota Enem                 182425 non-null  float64 \n",
      " 23  Ano do Enem                     182425 non-null  int64   \n",
      " 24  Redação                         182425 non-null  int64   \n",
      " 25  Matemática e suas Tecnologias   182425 non-null  float64 \n",
      " 26  Linguagens, Códigos e suas Tec  182425 non-null  float64 \n",
      " 27  Ciências Natureza e suas Tec    182425 non-null  float64 \n",
      " 28  Ciências Humanas e suas Tec     182425 non-null  float64 \n",
      " 29  Situação Inscrição Fies         182425 non-null  object  \n",
      " 30  cat_membros_familia             182425 non-null  category\n",
      " 31  cat_renda_mensal_bruta          182404 non-null  category\n",
      "dtypes: category(2), float64(7), int64(6), object(17)\n",
      "memory usage: 42.1+ MB\n"
     ]
    }
   ],
   "source": [
    "fies2020.info()"
   ]
  },
  {
   "cell_type": "markdown",
   "metadata": {},
   "source": [
    "#### Convertendo Renda mensal bruta per capita\n",
    "\n",
    "Os intervalores correspondentes a cada categoria foi definido com base nas estatísticas descritivas"
   ]
  },
  {
   "cell_type": "code",
   "execution_count": 208,
   "metadata": {},
   "outputs": [
    {
     "data": {
      "text/plain": [
       "count    182425.000000\n",
       "mean        977.875462\n",
       "std         635.383838\n",
       "min           0.000000\n",
       "25%         522.500000\n",
       "50%         786.670000\n",
       "75%        1250.000000\n",
       "max        7805.530000\n",
       "Name: Renda mensal bruta per capita, dtype: float64"
      ]
     },
     "execution_count": 208,
     "metadata": {},
     "output_type": "execute_result"
    }
   ],
   "source": [
    " \n",
    "fies2020['Renda mensal bruta per capita'].describe()"
   ]
  },
  {
   "cell_type": "code",
   "execution_count": 209,
   "metadata": {},
   "outputs": [
    {
     "data": {
      "text/html": [
       "<div>\n",
       "<style scoped>\n",
       "    .dataframe tbody tr th:only-of-type {\n",
       "        vertical-align: middle;\n",
       "    }\n",
       "\n",
       "    .dataframe tbody tr th {\n",
       "        vertical-align: top;\n",
       "    }\n",
       "\n",
       "    .dataframe thead th {\n",
       "        text-align: right;\n",
       "    }\n",
       "</style>\n",
       "<table border=\"1\" class=\"dataframe\">\n",
       "  <thead>\n",
       "    <tr style=\"text-align: right;\">\n",
       "      <th></th>\n",
       "      <th>Renda mensal bruta per capita</th>\n",
       "      <th>cat_renda_per_capita</th>\n",
       "    </tr>\n",
       "  </thead>\n",
       "  <tbody>\n",
       "    <tr>\n",
       "      <th>0</th>\n",
       "      <td>600.00</td>\n",
       "      <td>RENDAPERCAPITA&lt;Q2_Q3&gt;</td>\n",
       "    </tr>\n",
       "    <tr>\n",
       "      <th>1</th>\n",
       "      <td>594.86</td>\n",
       "      <td>RENDAPERCAPITA&lt;Q2_Q3&gt;</td>\n",
       "    </tr>\n",
       "    <tr>\n",
       "      <th>2</th>\n",
       "      <td>594.86</td>\n",
       "      <td>RENDAPERCAPITA&lt;Q2_Q3&gt;</td>\n",
       "    </tr>\n",
       "    <tr>\n",
       "      <th>3</th>\n",
       "      <td>762.50</td>\n",
       "      <td>RENDAPERCAPITA&lt;Q2_Q3&gt;</td>\n",
       "    </tr>\n",
       "    <tr>\n",
       "      <th>4</th>\n",
       "      <td>300.00</td>\n",
       "      <td>RENDAPERCAPITA&lt;Q1</td>\n",
       "    </tr>\n",
       "    <tr>\n",
       "      <th>...</th>\n",
       "      <td>...</td>\n",
       "      <td>...</td>\n",
       "    </tr>\n",
       "    <tr>\n",
       "      <th>182420</th>\n",
       "      <td>2000.00</td>\n",
       "      <td>RENDAPERCAPITA&gt;Q3</td>\n",
       "    </tr>\n",
       "    <tr>\n",
       "      <th>182421</th>\n",
       "      <td>1441.66</td>\n",
       "      <td>RENDAPERCAPITA&gt;Q3</td>\n",
       "    </tr>\n",
       "    <tr>\n",
       "      <th>182422</th>\n",
       "      <td>965.50</td>\n",
       "      <td>RENDAPERCAPITA&lt;Q2_Q3&gt;</td>\n",
       "    </tr>\n",
       "    <tr>\n",
       "      <th>182423</th>\n",
       "      <td>1850.00</td>\n",
       "      <td>RENDAPERCAPITA&gt;Q3</td>\n",
       "    </tr>\n",
       "    <tr>\n",
       "      <th>182424</th>\n",
       "      <td>1550.00</td>\n",
       "      <td>RENDAPERCAPITA&gt;Q3</td>\n",
       "    </tr>\n",
       "  </tbody>\n",
       "</table>\n",
       "<p>182425 rows × 2 columns</p>\n",
       "</div>"
      ],
      "text/plain": [
       "        Renda mensal bruta per capita   cat_renda_per_capita\n",
       "0                              600.00  RENDAPERCAPITA<Q2_Q3>\n",
       "1                              594.86  RENDAPERCAPITA<Q2_Q3>\n",
       "2                              594.86  RENDAPERCAPITA<Q2_Q3>\n",
       "3                              762.50  RENDAPERCAPITA<Q2_Q3>\n",
       "4                              300.00      RENDAPERCAPITA<Q1\n",
       "...                               ...                    ...\n",
       "182420                        2000.00      RENDAPERCAPITA>Q3\n",
       "182421                        1441.66      RENDAPERCAPITA>Q3\n",
       "182422                         965.50  RENDAPERCAPITA<Q2_Q3>\n",
       "182423                        1850.00      RENDAPERCAPITA>Q3\n",
       "182424                        1550.00      RENDAPERCAPITA>Q3\n",
       "\n",
       "[182425 rows x 2 columns]"
      ]
     },
     "execution_count": 209,
     "metadata": {},
     "output_type": "execute_result"
    }
   ],
   "source": [
    "bins = [0, 522.5, 1250, np.inf]\n",
    "names = ['RENDAPERCAPITA<Q1','RENDAPERCAPITA<Q2_Q3>','RENDAPERCAPITA>Q3']\n",
    "fies2020['cat_renda_per_capita'] = pd.cut(fies2020['Renda mensal bruta per capita'], bins, labels=names)\n",
    "fies2020[['Renda mensal bruta per capita','cat_renda_per_capita']]"
   ]
  },
  {
   "cell_type": "markdown",
   "metadata": {},
   "source": [
    "Observe que um novo campo foi criado, o qual é categórico"
   ]
  },
  {
   "cell_type": "code",
   "execution_count": 210,
   "metadata": {},
   "outputs": [
    {
     "name": "stdout",
     "output_type": "stream",
     "text": [
      "<class 'pandas.core.frame.DataFrame'>\n",
      "RangeIndex: 182425 entries, 0 to 182424\n",
      "Data columns (total 33 columns):\n",
      " #   Column                          Non-Null Count   Dtype   \n",
      "---  ------                          --------------   -----   \n",
      " 0   ID do estudante                 182425 non-null  int64   \n",
      " 1   Sexo                            182425 non-null  object  \n",
      " 2   Data de Nascimento              182425 non-null  object  \n",
      " 3   UF de residência                182425 non-null  object  \n",
      " 4   Etnia/Cor                       182425 non-null  object  \n",
      " 5   Pessoa com deficiência?         182425 non-null  object  \n",
      " 6   Ano conclusão ensino médio      182425 non-null  int64   \n",
      " 7   Concluiu curso superior?        182425 non-null  object  \n",
      " 8   Nº de membros Grupo Familiar    182425 non-null  int64   \n",
      " 9   Renda familiar mensal bruta     182425 non-null  float64 \n",
      " 10  Renda mensal bruta per capita   182425 non-null  float64 \n",
      " 11  UF                              182425 non-null  object  \n",
      " 12  Área do conhecimento            182425 non-null  object  \n",
      " 13  Subárea do conhecimento         182425 non-null  object  \n",
      " 14  Opções de cursos da inscrição   182425 non-null  int64   \n",
      " 15  Nome mantenedora                182425 non-null  object  \n",
      " 16  Natureza Jurídica Mantenedora   182425 non-null  object  \n",
      " 17  Nome da IES                     182425 non-null  object  \n",
      " 18  Organização Acadêmica da IES    182425 non-null  object  \n",
      " 19  UF do Local de Oferta           182425 non-null  object  \n",
      " 20  Nome do curso                   182425 non-null  object  \n",
      " 21  Turno                           182425 non-null  object  \n",
      " 22  Média nota Enem                 182425 non-null  float64 \n",
      " 23  Ano do Enem                     182425 non-null  int64   \n",
      " 24  Redação                         182425 non-null  int64   \n",
      " 25  Matemática e suas Tecnologias   182425 non-null  float64 \n",
      " 26  Linguagens, Códigos e suas Tec  182425 non-null  float64 \n",
      " 27  Ciências Natureza e suas Tec    182425 non-null  float64 \n",
      " 28  Ciências Humanas e suas Tec     182425 non-null  float64 \n",
      " 29  Situação Inscrição Fies         182425 non-null  object  \n",
      " 30  cat_membros_familia             182425 non-null  category\n",
      " 31  cat_renda_mensal_bruta          182404 non-null  category\n",
      " 32  cat_renda_per_capita            182404 non-null  category\n",
      "dtypes: category(3), float64(7), int64(6), object(17)\n",
      "memory usage: 42.3+ MB\n"
     ]
    }
   ],
   "source": [
    "fies2020.info()"
   ]
  },
  {
   "cell_type": "markdown",
   "metadata": {},
   "source": [
    "#### Convertendo Opções de cursos da inscrição\n",
    "\n",
    "Os intervalores correspondentes a cada categoria foi definido com base nas estatísticas"
   ]
  },
  {
   "cell_type": "code",
   "execution_count": 211,
   "metadata": {},
   "outputs": [
    {
     "data": {
      "text/plain": [
       "count    182425.000000\n",
       "mean          1.673926\n",
       "std           0.771347\n",
       "min           1.000000\n",
       "25%           1.000000\n",
       "50%           1.000000\n",
       "75%           2.000000\n",
       "max           3.000000\n",
       "Name: Opções de cursos da inscrição, dtype: float64"
      ]
     },
     "execution_count": 211,
     "metadata": {},
     "output_type": "execute_result"
    }
   ],
   "source": [
    "fies2020['Opções de cursos da inscrição'].describe()"
   ]
  },
  {
   "cell_type": "code",
   "execution_count": 212,
   "metadata": {},
   "outputs": [
    {
     "data": {
      "text/html": [
       "<div>\n",
       "<style scoped>\n",
       "    .dataframe tbody tr th:only-of-type {\n",
       "        vertical-align: middle;\n",
       "    }\n",
       "\n",
       "    .dataframe tbody tr th {\n",
       "        vertical-align: top;\n",
       "    }\n",
       "\n",
       "    .dataframe thead th {\n",
       "        text-align: right;\n",
       "    }\n",
       "</style>\n",
       "<table border=\"1\" class=\"dataframe\">\n",
       "  <thead>\n",
       "    <tr style=\"text-align: right;\">\n",
       "      <th></th>\n",
       "      <th>Opções de cursos da inscrição</th>\n",
       "      <th>cat_opcao_inscricao</th>\n",
       "    </tr>\n",
       "  </thead>\n",
       "  <tbody>\n",
       "    <tr>\n",
       "      <th>0</th>\n",
       "      <td>1</td>\n",
       "      <td>OPCAOINSCRICAO&lt;Q1</td>\n",
       "    </tr>\n",
       "    <tr>\n",
       "      <th>1</th>\n",
       "      <td>1</td>\n",
       "      <td>OPCAOINSCRICAO&lt;Q1</td>\n",
       "    </tr>\n",
       "    <tr>\n",
       "      <th>2</th>\n",
       "      <td>2</td>\n",
       "      <td>OPCAOINSCRICAO&lt;Q2_Q3&gt;</td>\n",
       "    </tr>\n",
       "    <tr>\n",
       "      <th>3</th>\n",
       "      <td>2</td>\n",
       "      <td>OPCAOINSCRICAO&lt;Q2_Q3&gt;</td>\n",
       "    </tr>\n",
       "    <tr>\n",
       "      <th>4</th>\n",
       "      <td>2</td>\n",
       "      <td>OPCAOINSCRICAO&lt;Q2_Q3&gt;</td>\n",
       "    </tr>\n",
       "    <tr>\n",
       "      <th>...</th>\n",
       "      <td>...</td>\n",
       "      <td>...</td>\n",
       "    </tr>\n",
       "    <tr>\n",
       "      <th>182420</th>\n",
       "      <td>1</td>\n",
       "      <td>OPCAOINSCRICAO&lt;Q1</td>\n",
       "    </tr>\n",
       "    <tr>\n",
       "      <th>182421</th>\n",
       "      <td>2</td>\n",
       "      <td>OPCAOINSCRICAO&lt;Q2_Q3&gt;</td>\n",
       "    </tr>\n",
       "    <tr>\n",
       "      <th>182422</th>\n",
       "      <td>2</td>\n",
       "      <td>OPCAOINSCRICAO&lt;Q2_Q3&gt;</td>\n",
       "    </tr>\n",
       "    <tr>\n",
       "      <th>182423</th>\n",
       "      <td>1</td>\n",
       "      <td>OPCAOINSCRICAO&lt;Q1</td>\n",
       "    </tr>\n",
       "    <tr>\n",
       "      <th>182424</th>\n",
       "      <td>1</td>\n",
       "      <td>OPCAOINSCRICAO&lt;Q1</td>\n",
       "    </tr>\n",
       "  </tbody>\n",
       "</table>\n",
       "<p>182425 rows × 2 columns</p>\n",
       "</div>"
      ],
      "text/plain": [
       "        Opções de cursos da inscrição    cat_opcao_inscricao\n",
       "0                                   1      OPCAOINSCRICAO<Q1\n",
       "1                                   1      OPCAOINSCRICAO<Q1\n",
       "2                                   2  OPCAOINSCRICAO<Q2_Q3>\n",
       "3                                   2  OPCAOINSCRICAO<Q2_Q3>\n",
       "4                                   2  OPCAOINSCRICAO<Q2_Q3>\n",
       "...                               ...                    ...\n",
       "182420                              1      OPCAOINSCRICAO<Q1\n",
       "182421                              2  OPCAOINSCRICAO<Q2_Q3>\n",
       "182422                              2  OPCAOINSCRICAO<Q2_Q3>\n",
       "182423                              1      OPCAOINSCRICAO<Q1\n",
       "182424                              1      OPCAOINSCRICAO<Q1\n",
       "\n",
       "[182425 rows x 2 columns]"
      ]
     },
     "execution_count": 212,
     "metadata": {},
     "output_type": "execute_result"
    }
   ],
   "source": [
    "bins = [0, 1, 2, np.inf]\n",
    "names = ['OPCAOINSCRICAO<Q1','OPCAOINSCRICAO<Q2_Q3>','OPCAOINSCRICAO>Q3']\n",
    "fies2020['cat_opcao_inscricao'] = pd.cut(fies2020['Opções de cursos da inscrição'], bins, labels=names)\n",
    "fies2020[['Opções de cursos da inscrição','cat_opcao_inscricao']]"
   ]
  },
  {
   "cell_type": "markdown",
   "metadata": {},
   "source": [
    "Observe que um novo campo foi criado, o qual é categórico"
   ]
  },
  {
   "cell_type": "code",
   "execution_count": 213,
   "metadata": {},
   "outputs": [
    {
     "name": "stdout",
     "output_type": "stream",
     "text": [
      "<class 'pandas.core.frame.DataFrame'>\n",
      "RangeIndex: 182425 entries, 0 to 182424\n",
      "Data columns (total 34 columns):\n",
      " #   Column                          Non-Null Count   Dtype   \n",
      "---  ------                          --------------   -----   \n",
      " 0   ID do estudante                 182425 non-null  int64   \n",
      " 1   Sexo                            182425 non-null  object  \n",
      " 2   Data de Nascimento              182425 non-null  object  \n",
      " 3   UF de residência                182425 non-null  object  \n",
      " 4   Etnia/Cor                       182425 non-null  object  \n",
      " 5   Pessoa com deficiência?         182425 non-null  object  \n",
      " 6   Ano conclusão ensino médio      182425 non-null  int64   \n",
      " 7   Concluiu curso superior?        182425 non-null  object  \n",
      " 8   Nº de membros Grupo Familiar    182425 non-null  int64   \n",
      " 9   Renda familiar mensal bruta     182425 non-null  float64 \n",
      " 10  Renda mensal bruta per capita   182425 non-null  float64 \n",
      " 11  UF                              182425 non-null  object  \n",
      " 12  Área do conhecimento            182425 non-null  object  \n",
      " 13  Subárea do conhecimento         182425 non-null  object  \n",
      " 14  Opções de cursos da inscrição   182425 non-null  int64   \n",
      " 15  Nome mantenedora                182425 non-null  object  \n",
      " 16  Natureza Jurídica Mantenedora   182425 non-null  object  \n",
      " 17  Nome da IES                     182425 non-null  object  \n",
      " 18  Organização Acadêmica da IES    182425 non-null  object  \n",
      " 19  UF do Local de Oferta           182425 non-null  object  \n",
      " 20  Nome do curso                   182425 non-null  object  \n",
      " 21  Turno                           182425 non-null  object  \n",
      " 22  Média nota Enem                 182425 non-null  float64 \n",
      " 23  Ano do Enem                     182425 non-null  int64   \n",
      " 24  Redação                         182425 non-null  int64   \n",
      " 25  Matemática e suas Tecnologias   182425 non-null  float64 \n",
      " 26  Linguagens, Códigos e suas Tec  182425 non-null  float64 \n",
      " 27  Ciências Natureza e suas Tec    182425 non-null  float64 \n",
      " 28  Ciências Humanas e suas Tec     182425 non-null  float64 \n",
      " 29  Situação Inscrição Fies         182425 non-null  object  \n",
      " 30  cat_membros_familia             182425 non-null  category\n",
      " 31  cat_renda_mensal_bruta          182404 non-null  category\n",
      " 32  cat_renda_per_capita            182404 non-null  category\n",
      " 33  cat_opcao_inscricao             182425 non-null  category\n",
      "dtypes: category(4), float64(7), int64(6), object(17)\n",
      "memory usage: 42.5+ MB\n"
     ]
    }
   ],
   "source": [
    "fies2020.info()"
   ]
  },
  {
   "cell_type": "markdown",
   "metadata": {},
   "source": [
    "### Selecionar atributos relevantes\n",
    "\n",
    "Os atributos selecionados são aqueles que foram mencionados previamente, os quais foram definidos em razão da aparente relação com a situação da inscrição do fies"
   ]
  },
  {
   "cell_type": "code",
   "execution_count": 214,
   "metadata": {},
   "outputs": [
    {
     "data": {
      "text/html": [
       "<div>\n",
       "<style scoped>\n",
       "    .dataframe tbody tr th:only-of-type {\n",
       "        vertical-align: middle;\n",
       "    }\n",
       "\n",
       "    .dataframe tbody tr th {\n",
       "        vertical-align: top;\n",
       "    }\n",
       "\n",
       "    .dataframe thead th {\n",
       "        text-align: right;\n",
       "    }\n",
       "</style>\n",
       "<table border=\"1\" class=\"dataframe\">\n",
       "  <thead>\n",
       "    <tr style=\"text-align: right;\">\n",
       "      <th></th>\n",
       "      <th>cat_membros_familia</th>\n",
       "      <th>cat_renda_mensal_bruta</th>\n",
       "      <th>cat_renda_per_capita</th>\n",
       "      <th>cat_opcao_inscricao</th>\n",
       "      <th>Sexo</th>\n",
       "      <th>UF de residência</th>\n",
       "      <th>Etnia/Cor</th>\n",
       "      <th>Pessoa com deficiência?</th>\n",
       "      <th>Concluiu curso superior?</th>\n",
       "      <th>Situação Inscrição Fies</th>\n",
       "    </tr>\n",
       "  </thead>\n",
       "  <tbody>\n",
       "    <tr>\n",
       "      <th>0</th>\n",
       "      <td>MEMBROSFAMILIA&lt;Q2_Q3&gt;</td>\n",
       "      <td>RENDABRUTA&lt;Q2_Q3&gt;</td>\n",
       "      <td>RENDAPERCAPITA&lt;Q2_Q3&gt;</td>\n",
       "      <td>OPCAOINSCRICAO&lt;Q1</td>\n",
       "      <td>F</td>\n",
       "      <td>PR</td>\n",
       "      <td>BRANCA</td>\n",
       "      <td>NÃO</td>\n",
       "      <td>NÃO</td>\n",
       "      <td>NÃO CONTRATADO</td>\n",
       "    </tr>\n",
       "    <tr>\n",
       "      <th>1</th>\n",
       "      <td>MEMBROSFAMILIA&lt;Q2_Q3&gt;</td>\n",
       "      <td>RENDABRUTA&lt;Q2_Q3&gt;</td>\n",
       "      <td>RENDAPERCAPITA&lt;Q2_Q3&gt;</td>\n",
       "      <td>OPCAOINSCRICAO&lt;Q1</td>\n",
       "      <td>F</td>\n",
       "      <td>PR</td>\n",
       "      <td>BRANCA</td>\n",
       "      <td>NÃO</td>\n",
       "      <td>NÃO</td>\n",
       "      <td>NÃO CONTRATADO</td>\n",
       "    </tr>\n",
       "    <tr>\n",
       "      <th>2</th>\n",
       "      <td>MEMBROSFAMILIA&lt;Q2_Q3&gt;</td>\n",
       "      <td>RENDABRUTA&lt;Q2_Q3&gt;</td>\n",
       "      <td>RENDAPERCAPITA&lt;Q2_Q3&gt;</td>\n",
       "      <td>OPCAOINSCRICAO&lt;Q2_Q3&gt;</td>\n",
       "      <td>F</td>\n",
       "      <td>PR</td>\n",
       "      <td>BRANCA</td>\n",
       "      <td>NÃO</td>\n",
       "      <td>NÃO</td>\n",
       "      <td>NÃO CONTRATADO</td>\n",
       "    </tr>\n",
       "    <tr>\n",
       "      <th>3</th>\n",
       "      <td>MEMBROSFAMILIA&lt;Q2_Q3&gt;</td>\n",
       "      <td>RENDABRUTA&lt;Q2_Q3&gt;</td>\n",
       "      <td>RENDAPERCAPITA&lt;Q2_Q3&gt;</td>\n",
       "      <td>OPCAOINSCRICAO&lt;Q2_Q3&gt;</td>\n",
       "      <td>F</td>\n",
       "      <td>PR</td>\n",
       "      <td>BRANCA</td>\n",
       "      <td>NÃO</td>\n",
       "      <td>NÃO</td>\n",
       "      <td>NÃO CONTRATADO</td>\n",
       "    </tr>\n",
       "    <tr>\n",
       "      <th>4</th>\n",
       "      <td>MEMBROSFAMILIA&lt;Q2_Q3&gt;</td>\n",
       "      <td>RENDABRUTA&lt;Q1</td>\n",
       "      <td>RENDAPERCAPITA&lt;Q1</td>\n",
       "      <td>OPCAOINSCRICAO&lt;Q2_Q3&gt;</td>\n",
       "      <td>F</td>\n",
       "      <td>PR</td>\n",
       "      <td>BRANCA</td>\n",
       "      <td>NÃO</td>\n",
       "      <td>NÃO</td>\n",
       "      <td>NÃO CONTRATADO</td>\n",
       "    </tr>\n",
       "  </tbody>\n",
       "</table>\n",
       "</div>"
      ],
      "text/plain": [
       "     cat_membros_familia cat_renda_mensal_bruta   cat_renda_per_capita    cat_opcao_inscricao Sexo UF de residência Etnia/Cor Pessoa com deficiência? Concluiu curso superior? Situação Inscrição Fies\n",
       "0  MEMBROSFAMILIA<Q2_Q3>      RENDABRUTA<Q2_Q3>  RENDAPERCAPITA<Q2_Q3>      OPCAOINSCRICAO<Q1    F               PR    BRANCA                     NÃO                      NÃO          NÃO CONTRATADO\n",
       "1  MEMBROSFAMILIA<Q2_Q3>      RENDABRUTA<Q2_Q3>  RENDAPERCAPITA<Q2_Q3>      OPCAOINSCRICAO<Q1    F               PR    BRANCA                     NÃO                      NÃO          NÃO CONTRATADO\n",
       "2  MEMBROSFAMILIA<Q2_Q3>      RENDABRUTA<Q2_Q3>  RENDAPERCAPITA<Q2_Q3>  OPCAOINSCRICAO<Q2_Q3>    F               PR    BRANCA                     NÃO                      NÃO          NÃO CONTRATADO\n",
       "3  MEMBROSFAMILIA<Q2_Q3>      RENDABRUTA<Q2_Q3>  RENDAPERCAPITA<Q2_Q3>  OPCAOINSCRICAO<Q2_Q3>    F               PR    BRANCA                     NÃO                      NÃO          NÃO CONTRATADO\n",
       "4  MEMBROSFAMILIA<Q2_Q3>          RENDABRUTA<Q1      RENDAPERCAPITA<Q1  OPCAOINSCRICAO<Q2_Q3>    F               PR    BRANCA                     NÃO                      NÃO          NÃO CONTRATADO"
      ]
     },
     "execution_count": 214,
     "metadata": {},
     "output_type": "execute_result"
    }
   ],
   "source": [
    "df_rules = fies2020[[\"cat_membros_familia\", \"cat_renda_mensal_bruta\", \"cat_renda_per_capita\", \"cat_opcao_inscricao\",\n",
    "\"Sexo\", \"UF de residência\", \"Etnia/Cor\", \"Pessoa com deficiência?\", \"Concluiu curso superior?\", \"Situação Inscrição Fies\"]]\n",
    "df_rules.head()"
   ]
  },
  {
   "cell_type": "code",
   "execution_count": 215,
   "metadata": {},
   "outputs": [],
   "source": [
    "df_transactions = pd.get_dummies(df_rules)"
   ]
  },
  {
   "cell_type": "code",
   "execution_count": 216,
   "metadata": {},
   "outputs": [
    {
     "name": "stdout",
     "output_type": "stream",
     "text": [
      "<class 'pandas.core.frame.DataFrame'>\n",
      "RangeIndex: 182425 entries, 0 to 182424\n",
      "Data columns (total 58 columns):\n",
      " #   Column                                                         Non-Null Count   Dtype\n",
      "---  ------                                                         --------------   -----\n",
      " 0   cat_membros_familia_MEMBROSFAMILIA<Q1                          182425 non-null  uint8\n",
      " 1   cat_membros_familia_MEMBROSFAMILIA<Q2_Q3>                      182425 non-null  uint8\n",
      " 2   cat_membros_familia_MEMBROSFAMILIA>Q3                          182425 non-null  uint8\n",
      " 3   cat_renda_mensal_bruta_RENDABRUTA<Q1                           182425 non-null  uint8\n",
      " 4   cat_renda_mensal_bruta_RENDABRUTA<Q2_Q3>                       182425 non-null  uint8\n",
      " 5   cat_renda_mensal_bruta_RENDABRUTA>Q3                           182425 non-null  uint8\n",
      " 6   cat_renda_per_capita_RENDAPERCAPITA<Q1                         182425 non-null  uint8\n",
      " 7   cat_renda_per_capita_RENDAPERCAPITA<Q2_Q3>                     182425 non-null  uint8\n",
      " 8   cat_renda_per_capita_RENDAPERCAPITA>Q3                         182425 non-null  uint8\n",
      " 9   cat_opcao_inscricao_OPCAOINSCRICAO<Q1                          182425 non-null  uint8\n",
      " 10  cat_opcao_inscricao_OPCAOINSCRICAO<Q2_Q3>                      182425 non-null  uint8\n",
      " 11  cat_opcao_inscricao_OPCAOINSCRICAO>Q3                          182425 non-null  uint8\n",
      " 12  Sexo_F                                                         182425 non-null  uint8\n",
      " 13  Sexo_M                                                         182425 non-null  uint8\n",
      " 14  UF de residência_AC                                            182425 non-null  uint8\n",
      " 15  UF de residência_AL                                            182425 non-null  uint8\n",
      " 16  UF de residência_AM                                            182425 non-null  uint8\n",
      " 17  UF de residência_AP                                            182425 non-null  uint8\n",
      " 18  UF de residência_BA                                            182425 non-null  uint8\n",
      " 19  UF de residência_CE                                            182425 non-null  uint8\n",
      " 20  UF de residência_DF                                            182425 non-null  uint8\n",
      " 21  UF de residência_ES                                            182425 non-null  uint8\n",
      " 22  UF de residência_GO                                            182425 non-null  uint8\n",
      " 23  UF de residência_MA                                            182425 non-null  uint8\n",
      " 24  UF de residência_MG                                            182425 non-null  uint8\n",
      " 25  UF de residência_MS                                            182425 non-null  uint8\n",
      " 26  UF de residência_MT                                            182425 non-null  uint8\n",
      " 27  UF de residência_PA                                            182425 non-null  uint8\n",
      " 28  UF de residência_PB                                            182425 non-null  uint8\n",
      " 29  UF de residência_PE                                            182425 non-null  uint8\n",
      " 30  UF de residência_PI                                            182425 non-null  uint8\n",
      " 31  UF de residência_PR                                            182425 non-null  uint8\n",
      " 32  UF de residência_RJ                                            182425 non-null  uint8\n",
      " 33  UF de residência_RN                                            182425 non-null  uint8\n",
      " 34  UF de residência_RO                                            182425 non-null  uint8\n",
      " 35  UF de residência_RR                                            182425 non-null  uint8\n",
      " 36  UF de residência_RS                                            182425 non-null  uint8\n",
      " 37  UF de residência_SC                                            182425 non-null  uint8\n",
      " 38  UF de residência_SE                                            182425 non-null  uint8\n",
      " 39  UF de residência_SP                                            182425 non-null  uint8\n",
      " 40  UF de residência_TO                                            182425 non-null  uint8\n",
      " 41  Etnia/Cor_AMARELA                                              182425 non-null  uint8\n",
      " 42  Etnia/Cor_BRANCA                                               182425 non-null  uint8\n",
      " 43  Etnia/Cor_INDÍGENA                                             182425 non-null  uint8\n",
      " 44  Etnia/Cor_PARDA                                                182425 non-null  uint8\n",
      " 45  Etnia/Cor_PRETA                                                182425 non-null  uint8\n",
      " 46  Pessoa com deficiência?_NÃO                                    182425 non-null  uint8\n",
      " 47  Pessoa com deficiência?_SIM                                    182425 non-null  uint8\n",
      " 48  Concluiu curso superior?_NÃO                                   182425 non-null  uint8\n",
      " 49  Concluiu curso superior?_SIM                                   182425 non-null  uint8\n",
      " 50  Situação Inscrição Fies_CONTRATADA                             182425 non-null  uint8\n",
      " 51  Situação Inscrição Fies_INSCRIÇÃO POSTERGADA                   182425 non-null  uint8\n",
      " 52  Situação Inscrição Fies_LISTA DE ESPERA                        182425 non-null  uint8\n",
      " 53  Situação Inscrição Fies_NÃO CONTRATADO                         182425 non-null  uint8\n",
      " 54  Situação Inscrição Fies_OPÇÃO NÃO CONTRATADA                   182425 non-null  uint8\n",
      " 55  Situação Inscrição Fies_PARTICIPACAO CANCELADA PELO CANDIDATO  182425 non-null  uint8\n",
      " 56  Situação Inscrição Fies_PRÉ-SELECIONADO                        182425 non-null  uint8\n",
      " 57  Situação Inscrição Fies_REJEITADA PELA CPSA                    182425 non-null  uint8\n",
      "dtypes: uint8(58)\n",
      "memory usage: 10.1 MB\n"
     ]
    }
   ],
   "source": [
    "df_transactions.info()"
   ]
  },
  {
   "cell_type": "markdown",
   "metadata": {},
   "source": [
    "### Extrair itemsets frequentes\n",
    "\n",
    "Uma vez que os itemsets foram obtidos, faz-se necessária a verificação de qual destes são mais frequentes. Para tanto, utiliza-se o apriori, assim como visto em aula.\n",
    "\n",
    "Observe que a equipe definiu que o suporte mínimo deve ser de 0.15, para evitar que associações com um suporte muito baixo sejam avaliadas"
   ]
  },
  {
   "cell_type": "code",
   "execution_count": 217,
   "metadata": {},
   "outputs": [
    {
     "name": "stderr",
     "output_type": "stream",
     "text": [
      "/home/juliacfaria/Desktop/ProjetoDados/ProjetoCienciaDeDados/ambiente-dados1/lib/python3.8/site-packages/mlxtend/frequent_patterns/fpcommon.py:111: DeprecationWarning: DataFrames with non-bool types result in worse computationalperformance and their support might be discontinued in the future.Please use a DataFrame with bool type\n",
      "  warnings.warn(\n"
     ]
    },
    {
     "data": {
      "text/html": [
       "<div>\n",
       "<style scoped>\n",
       "    .dataframe tbody tr th:only-of-type {\n",
       "        vertical-align: middle;\n",
       "    }\n",
       "\n",
       "    .dataframe tbody tr th {\n",
       "        vertical-align: top;\n",
       "    }\n",
       "\n",
       "    .dataframe thead th {\n",
       "        text-align: right;\n",
       "    }\n",
       "</style>\n",
       "<table border=\"1\" class=\"dataframe\">\n",
       "  <thead>\n",
       "    <tr style=\"text-align: right;\">\n",
       "      <th></th>\n",
       "      <th>support</th>\n",
       "      <th>itemsets</th>\n",
       "    </tr>\n",
       "  </thead>\n",
       "  <tbody>\n",
       "    <tr>\n",
       "      <th>0</th>\n",
       "      <td>0.348686</td>\n",
       "      <td>(cat_membros_familia_MEMBROSFAMILIA&lt;Q1)</td>\n",
       "    </tr>\n",
       "    <tr>\n",
       "      <th>1</th>\n",
       "      <td>0.540403</td>\n",
       "      <td>(cat_membros_familia_MEMBROSFAMILIA&lt;Q2_Q3&gt;)</td>\n",
       "    </tr>\n",
       "    <tr>\n",
       "      <th>2</th>\n",
       "      <td>0.110911</td>\n",
       "      <td>(cat_membros_familia_MEMBROSFAMILIA&gt;Q3)</td>\n",
       "    </tr>\n",
       "    <tr>\n",
       "      <th>3</th>\n",
       "      <td>0.249944</td>\n",
       "      <td>(cat_renda_mensal_bruta_RENDABRUTA&lt;Q1)</td>\n",
       "    </tr>\n",
       "    <tr>\n",
       "      <th>4</th>\n",
       "      <td>0.499942</td>\n",
       "      <td>(cat_renda_mensal_bruta_RENDABRUTA&lt;Q2_Q3&gt;)</td>\n",
       "    </tr>\n",
       "  </tbody>\n",
       "</table>\n",
       "</div>"
      ],
      "text/plain": [
       "    support                                     itemsets\n",
       "0  0.348686      (cat_membros_familia_MEMBROSFAMILIA<Q1)\n",
       "1  0.540403  (cat_membros_familia_MEMBROSFAMILIA<Q2_Q3>)\n",
       "2  0.110911      (cat_membros_familia_MEMBROSFAMILIA>Q3)\n",
       "3  0.249944       (cat_renda_mensal_bruta_RENDABRUTA<Q1)\n",
       "4  0.499942   (cat_renda_mensal_bruta_RENDABRUTA<Q2_Q3>)"
      ]
     },
     "execution_count": 217,
     "metadata": {},
     "output_type": "execute_result"
    }
   ],
   "source": [
    "frequent_itemsets = apriori(df_transactions, min_support=0.09, use_colnames=True)\n",
    "frequent_itemsets.head()"
   ]
  },
  {
   "cell_type": "code",
   "execution_count": 218,
   "metadata": {},
   "outputs": [
    {
     "data": {
      "text/html": [
       "<div>\n",
       "<style scoped>\n",
       "    .dataframe tbody tr th:only-of-type {\n",
       "        vertical-align: middle;\n",
       "    }\n",
       "\n",
       "    .dataframe tbody tr th {\n",
       "        vertical-align: top;\n",
       "    }\n",
       "\n",
       "    .dataframe thead th {\n",
       "        text-align: right;\n",
       "    }\n",
       "</style>\n",
       "<table border=\"1\" class=\"dataframe\">\n",
       "  <thead>\n",
       "    <tr style=\"text-align: right;\">\n",
       "      <th></th>\n",
       "      <th>antecedents</th>\n",
       "      <th>consequents</th>\n",
       "      <th>antecedent support</th>\n",
       "      <th>consequent support</th>\n",
       "      <th>support</th>\n",
       "      <th>confidence</th>\n",
       "      <th>lift</th>\n",
       "      <th>leverage</th>\n",
       "      <th>conviction</th>\n",
       "    </tr>\n",
       "  </thead>\n",
       "  <tbody>\n",
       "    <tr>\n",
       "      <th>2372</th>\n",
       "      <td>(Pessoa com deficiência?_NÃO, cat_renda_per_capita_RENDAPERCAPITA&gt;Q3, cat_membros_familia_MEMBROSFAMILIA&lt;Q2_Q3&gt;)</td>\n",
       "      <td>(cat_renda_mensal_bruta_RENDABRUTA&gt;Q3)</td>\n",
       "      <td>0.128579</td>\n",
       "      <td>0.249999</td>\n",
       "      <td>0.128579</td>\n",
       "      <td>1.0</td>\n",
       "      <td>4.000022</td>\n",
       "      <td>0.096434</td>\n",
       "      <td>inf</td>\n",
       "    </tr>\n",
       "    <tr>\n",
       "      <th>505</th>\n",
       "      <td>(cat_renda_per_capita_RENDAPERCAPITA&gt;Q3, cat_membros_familia_MEMBROSFAMILIA&lt;Q2_Q3&gt;)</td>\n",
       "      <td>(cat_renda_mensal_bruta_RENDABRUTA&gt;Q3)</td>\n",
       "      <td>0.129703</td>\n",
       "      <td>0.249999</td>\n",
       "      <td>0.129703</td>\n",
       "      <td>1.0</td>\n",
       "      <td>4.000022</td>\n",
       "      <td>0.097277</td>\n",
       "      <td>inf</td>\n",
       "    </tr>\n",
       "    <tr>\n",
       "      <th>4923</th>\n",
       "      <td>(Pessoa com deficiência?_NÃO, Concluiu curso superior?_NÃO, cat_renda_mensal_bruta_RENDABRUTA&lt;Q1, cat_membros_familia_MEMBROSFAMILIA&lt;Q2_Q3&gt;)</td>\n",
       "      <td>(cat_renda_per_capita_RENDAPERCAPITA&lt;Q1)</td>\n",
       "      <td>0.101691</td>\n",
       "      <td>0.258353</td>\n",
       "      <td>0.101691</td>\n",
       "      <td>1.0</td>\n",
       "      <td>3.870677</td>\n",
       "      <td>0.075419</td>\n",
       "      <td>inf</td>\n",
       "    </tr>\n",
       "    <tr>\n",
       "      <th>443</th>\n",
       "      <td>(cat_renda_mensal_bruta_RENDABRUTA&lt;Q1, cat_membros_familia_MEMBROSFAMILIA&lt;Q2_Q3&gt;)</td>\n",
       "      <td>(cat_renda_per_capita_RENDAPERCAPITA&lt;Q1)</td>\n",
       "      <td>0.110703</td>\n",
       "      <td>0.258353</td>\n",
       "      <td>0.110703</td>\n",
       "      <td>1.0</td>\n",
       "      <td>3.870677</td>\n",
       "      <td>0.082103</td>\n",
       "      <td>inf</td>\n",
       "    </tr>\n",
       "    <tr>\n",
       "      <th>5234</th>\n",
       "      <td>(Pessoa com deficiência?_NÃO, Concluiu curso superior?_NÃO, cat_renda_per_capita_RENDAPERCAPITA&gt;Q3, cat_membros_familia_MEMBROSFAMILIA&lt;Q2_Q3&gt;)</td>\n",
       "      <td>(cat_renda_mensal_bruta_RENDABRUTA&gt;Q3)</td>\n",
       "      <td>0.108318</td>\n",
       "      <td>0.249999</td>\n",
       "      <td>0.108318</td>\n",
       "      <td>1.0</td>\n",
       "      <td>4.000022</td>\n",
       "      <td>0.081239</td>\n",
       "      <td>inf</td>\n",
       "    </tr>\n",
       "  </tbody>\n",
       "</table>\n",
       "</div>"
      ],
      "text/plain": [
       "                                                                                                                                         antecedents                               consequents  antecedent support  consequent support   support  confidence      lift  leverage  conviction\n",
       "2372                                (Pessoa com deficiência?_NÃO, cat_renda_per_capita_RENDAPERCAPITA>Q3, cat_membros_familia_MEMBROSFAMILIA<Q2_Q3>)    (cat_renda_mensal_bruta_RENDABRUTA>Q3)            0.128579            0.249999  0.128579         1.0  4.000022  0.096434         inf\n",
       "505                                                              (cat_renda_per_capita_RENDAPERCAPITA>Q3, cat_membros_familia_MEMBROSFAMILIA<Q2_Q3>)    (cat_renda_mensal_bruta_RENDABRUTA>Q3)            0.129703            0.249999  0.129703         1.0  4.000022  0.097277         inf\n",
       "4923    (Pessoa com deficiência?_NÃO, Concluiu curso superior?_NÃO, cat_renda_mensal_bruta_RENDABRUTA<Q1, cat_membros_familia_MEMBROSFAMILIA<Q2_Q3>)  (cat_renda_per_capita_RENDAPERCAPITA<Q1)            0.101691            0.258353  0.101691         1.0  3.870677  0.075419         inf\n",
       "443                                                                (cat_renda_mensal_bruta_RENDABRUTA<Q1, cat_membros_familia_MEMBROSFAMILIA<Q2_Q3>)  (cat_renda_per_capita_RENDAPERCAPITA<Q1)            0.110703            0.258353  0.110703         1.0  3.870677  0.082103         inf\n",
       "5234  (Pessoa com deficiência?_NÃO, Concluiu curso superior?_NÃO, cat_renda_per_capita_RENDAPERCAPITA>Q3, cat_membros_familia_MEMBROSFAMILIA<Q2_Q3>)    (cat_renda_mensal_bruta_RENDABRUTA>Q3)            0.108318            0.249999  0.108318         1.0  4.000022  0.081239         inf"
      ]
     },
     "execution_count": 218,
     "metadata": {},
     "output_type": "execute_result"
    }
   ],
   "source": [
    "rules = association_rules(frequent_itemsets, metric=\"confidence\", min_threshold=0.2)\n",
    "rules.sort_values(by=\"confidence\",ascending=False).head()"
   ]
  },
  {
   "cell_type": "markdown",
   "metadata": {},
   "source": [
    "Conforme é possível visualizar abaixo, o item gerado pelo algoritmo à priori é um frozenset. Para facilitar a manipulação de tal item, estes foram convertidos para string"
   ]
  },
  {
   "cell_type": "code",
   "execution_count": 219,
   "metadata": {},
   "outputs": [
    {
     "data": {
      "text/plain": [
       "frozenset"
      ]
     },
     "execution_count": 219,
     "metadata": {},
     "output_type": "execute_result"
    }
   ],
   "source": [
    "type(rules['consequents'][0])"
   ]
  },
  {
   "cell_type": "markdown",
   "metadata": {},
   "source": [
    "Convertendo para strings..."
   ]
  },
  {
   "cell_type": "code",
   "execution_count": 220,
   "metadata": {},
   "outputs": [],
   "source": [
    "rules[\"consequents\"] = rules[\"consequents\"].apply(lambda x: ', '.join(list(x))).astype(\"unicode\")"
   ]
  },
  {
   "cell_type": "markdown",
   "metadata": {},
   "source": [
    "### Avaliando regras inscrição ser aceita\n",
    "\n",
    "Uma vez que as regras de associação já foram definidas, deve-se avaliar as regras que se relacionam às categorias importantes definidas previamente pela equipe, no caso, a inscrição aceita"
   ]
  },
  {
   "cell_type": "markdown",
   "metadata": {},
   "source": [
    "#### Situação Inscrição Fies_CONTRATADA\n",
    "\n",
    "Avaliando regras que possuem como consequente \"Situação Inscrição Fies_CONTRATADA\""
   ]
  },
  {
   "cell_type": "code",
   "execution_count": 221,
   "metadata": {},
   "outputs": [],
   "source": [
    "regrasContratada = rules[rules['consequents'] == 'Situação Inscrição Fies_CONTRATADA']"
   ]
  },
  {
   "cell_type": "code",
   "execution_count": 222,
   "metadata": {},
   "outputs": [
    {
     "data": {
      "text/html": [
       "<div>\n",
       "<style scoped>\n",
       "    .dataframe tbody tr th:only-of-type {\n",
       "        vertical-align: middle;\n",
       "    }\n",
       "\n",
       "    .dataframe tbody tr th {\n",
       "        vertical-align: top;\n",
       "    }\n",
       "\n",
       "    .dataframe thead th {\n",
       "        text-align: right;\n",
       "    }\n",
       "</style>\n",
       "<table border=\"1\" class=\"dataframe\">\n",
       "  <thead>\n",
       "    <tr style=\"text-align: right;\">\n",
       "      <th></th>\n",
       "      <th>antecedents</th>\n",
       "      <th>consequents</th>\n",
       "      <th>antecedent support</th>\n",
       "      <th>consequent support</th>\n",
       "      <th>support</th>\n",
       "      <th>confidence</th>\n",
       "      <th>lift</th>\n",
       "      <th>leverage</th>\n",
       "      <th>conviction</th>\n",
       "    </tr>\n",
       "  </thead>\n",
       "  <tbody>\n",
       "  </tbody>\n",
       "</table>\n",
       "</div>"
      ],
      "text/plain": [
       "Empty DataFrame\n",
       "Columns: [antecedents, consequents, antecedent support, consequent support, support, confidence, lift, leverage, conviction]\n",
       "Index: []"
      ]
     },
     "execution_count": 222,
     "metadata": {},
     "output_type": "execute_result"
    }
   ],
   "source": [
    "regrasContratada.sort_values('lift', ascending = False)"
   ]
  },
  {
   "cell_type": "markdown",
   "metadata": {},
   "source": [
    "#### Situação Inscrição Fies_NÃO CONTRATADO\n",
    "\n",
    "Avaliando regras que possuem como consequente \"Situação Inscrição Fies_NÃO CONTRATADO\""
   ]
  },
  {
   "cell_type": "code",
   "execution_count": 223,
   "metadata": {},
   "outputs": [],
   "source": [
    "regrasNaoContratado = rules[rules['consequents'] == 'Situação Inscrição Fies_NÃO CONTRATADO']"
   ]
  },
  {
   "cell_type": "code",
   "execution_count": 224,
   "metadata": {},
   "outputs": [
    {
     "data": {
      "text/html": [
       "<div>\n",
       "<style scoped>\n",
       "    .dataframe tbody tr th:only-of-type {\n",
       "        vertical-align: middle;\n",
       "    }\n",
       "\n",
       "    .dataframe tbody tr th {\n",
       "        vertical-align: top;\n",
       "    }\n",
       "\n",
       "    .dataframe thead th {\n",
       "        text-align: right;\n",
       "    }\n",
       "</style>\n",
       "<table border=\"1\" class=\"dataframe\">\n",
       "  <thead>\n",
       "    <tr style=\"text-align: right;\">\n",
       "      <th></th>\n",
       "      <th>antecedents</th>\n",
       "      <th>consequents</th>\n",
       "      <th>antecedent support</th>\n",
       "      <th>consequent support</th>\n",
       "      <th>support</th>\n",
       "      <th>confidence</th>\n",
       "      <th>lift</th>\n",
       "      <th>leverage</th>\n",
       "      <th>conviction</th>\n",
       "    </tr>\n",
       "  </thead>\n",
       "  <tbody>\n",
       "    <tr>\n",
       "      <th>253</th>\n",
       "      <td>(Pessoa com deficiência?_NÃO)</td>\n",
       "      <td>Situação Inscrição Fies_NÃO CONTRATADO</td>\n",
       "      <td>0.991569</td>\n",
       "      <td>0.3625</td>\n",
       "      <td>0.359786</td>\n",
       "      <td>0.362845</td>\n",
       "      <td>1.000954</td>\n",
       "      <td>0.000343</td>\n",
       "      <td>1.000542</td>\n",
       "    </tr>\n",
       "    <tr>\n",
       "      <th>257</th>\n",
       "      <td>(Concluiu curso superior?_NÃO)</td>\n",
       "      <td>Situação Inscrição Fies_NÃO CONTRATADO</td>\n",
       "      <td>0.886112</td>\n",
       "      <td>0.3625</td>\n",
       "      <td>0.339350</td>\n",
       "      <td>0.382966</td>\n",
       "      <td>1.056458</td>\n",
       "      <td>0.018135</td>\n",
       "      <td>1.033168</td>\n",
       "    </tr>\n",
       "    <tr>\n",
       "      <th>1795</th>\n",
       "      <td>(Pessoa com deficiência?_NÃO, Concluiu curso superior?_NÃO)</td>\n",
       "      <td>Situação Inscrição Fies_NÃO CONTRATADO</td>\n",
       "      <td>0.879265</td>\n",
       "      <td>0.3625</td>\n",
       "      <td>0.336884</td>\n",
       "      <td>0.383142</td>\n",
       "      <td>1.056945</td>\n",
       "      <td>0.018150</td>\n",
       "      <td>1.033464</td>\n",
       "    </tr>\n",
       "    <tr>\n",
       "      <th>213</th>\n",
       "      <td>(Sexo_F)</td>\n",
       "      <td>Situação Inscrição Fies_NÃO CONTRATADO</td>\n",
       "      <td>0.687877</td>\n",
       "      <td>0.3625</td>\n",
       "      <td>0.238290</td>\n",
       "      <td>0.346413</td>\n",
       "      <td>0.955623</td>\n",
       "      <td>-0.011066</td>\n",
       "      <td>0.975387</td>\n",
       "    </tr>\n",
       "    <tr>\n",
       "      <th>1664</th>\n",
       "      <td>(Pessoa com deficiência?_NÃO, Sexo_F)</td>\n",
       "      <td>Situação Inscrição Fies_NÃO CONTRATADO</td>\n",
       "      <td>0.683443</td>\n",
       "      <td>0.3625</td>\n",
       "      <td>0.237073</td>\n",
       "      <td>0.346880</td>\n",
       "      <td>0.956912</td>\n",
       "      <td>-0.010675</td>\n",
       "      <td>0.976085</td>\n",
       "    </tr>\n",
       "    <tr>\n",
       "      <th>1676</th>\n",
       "      <td>(Concluiu curso superior?_NÃO, Sexo_F)</td>\n",
       "      <td>Situação Inscrição Fies_NÃO CONTRATADO</td>\n",
       "      <td>0.608568</td>\n",
       "      <td>0.3625</td>\n",
       "      <td>0.222650</td>\n",
       "      <td>0.365860</td>\n",
       "      <td>1.009269</td>\n",
       "      <td>0.002045</td>\n",
       "      <td>1.005298</td>\n",
       "    </tr>\n",
       "    <tr>\n",
       "      <th>4631</th>\n",
       "      <td>(Pessoa com deficiência?_NÃO, Concluiu curso superior?_NÃO, Sexo_F)</td>\n",
       "      <td>Situação Inscrição Fies_NÃO CONTRATADO</td>\n",
       "      <td>0.605125</td>\n",
       "      <td>0.3625</td>\n",
       "      <td>0.221603</td>\n",
       "      <td>0.366211</td>\n",
       "      <td>1.010237</td>\n",
       "      <td>0.002246</td>\n",
       "      <td>1.005855</td>\n",
       "    </tr>\n",
       "    <tr>\n",
       "      <th>150</th>\n",
       "      <td>(cat_renda_per_capita_RENDAPERCAPITA&lt;Q2_Q3&gt;)</td>\n",
       "      <td>Situação Inscrição Fies_NÃO CONTRATADO</td>\n",
       "      <td>0.501450</td>\n",
       "      <td>0.3625</td>\n",
       "      <td>0.195828</td>\n",
       "      <td>0.390524</td>\n",
       "      <td>1.077310</td>\n",
       "      <td>0.014053</td>\n",
       "      <td>1.045982</td>\n",
       "    </tr>\n",
       "    <tr>\n",
       "      <th>99</th>\n",
       "      <td>(cat_renda_mensal_bruta_RENDABRUTA&lt;Q2_Q3&gt;)</td>\n",
       "      <td>Situação Inscrição Fies_NÃO CONTRATADO</td>\n",
       "      <td>0.499942</td>\n",
       "      <td>0.3625</td>\n",
       "      <td>0.195324</td>\n",
       "      <td>0.390693</td>\n",
       "      <td>1.077775</td>\n",
       "      <td>0.014095</td>\n",
       "      <td>1.046271</td>\n",
       "    </tr>\n",
       "    <tr>\n",
       "      <th>1348</th>\n",
       "      <td>(Pessoa com deficiência?_NÃO, cat_renda_per_capita_RENDAPERCAPITA&lt;Q2_Q3&gt;)</td>\n",
       "      <td>Situação Inscrição Fies_NÃO CONTRATADO</td>\n",
       "      <td>0.497273</td>\n",
       "      <td>0.3625</td>\n",
       "      <td>0.194299</td>\n",
       "      <td>0.390729</td>\n",
       "      <td>1.077875</td>\n",
       "      <td>0.014038</td>\n",
       "      <td>1.046333</td>\n",
       "    </tr>\n",
       "  </tbody>\n",
       "</table>\n",
       "</div>"
      ],
      "text/plain": [
       "                                                                    antecedents                             consequents  antecedent support  consequent support   support  confidence      lift  leverage  conviction\n",
       "253                                               (Pessoa com deficiência?_NÃO)  Situação Inscrição Fies_NÃO CONTRATADO            0.991569              0.3625  0.359786    0.362845  1.000954  0.000343    1.000542\n",
       "257                                              (Concluiu curso superior?_NÃO)  Situação Inscrição Fies_NÃO CONTRATADO            0.886112              0.3625  0.339350    0.382966  1.056458  0.018135    1.033168\n",
       "1795                (Pessoa com deficiência?_NÃO, Concluiu curso superior?_NÃO)  Situação Inscrição Fies_NÃO CONTRATADO            0.879265              0.3625  0.336884    0.383142  1.056945  0.018150    1.033464\n",
       "213                                                                    (Sexo_F)  Situação Inscrição Fies_NÃO CONTRATADO            0.687877              0.3625  0.238290    0.346413  0.955623 -0.011066    0.975387\n",
       "1664                                      (Pessoa com deficiência?_NÃO, Sexo_F)  Situação Inscrição Fies_NÃO CONTRATADO            0.683443              0.3625  0.237073    0.346880  0.956912 -0.010675    0.976085\n",
       "1676                                     (Concluiu curso superior?_NÃO, Sexo_F)  Situação Inscrição Fies_NÃO CONTRATADO            0.608568              0.3625  0.222650    0.365860  1.009269  0.002045    1.005298\n",
       "4631        (Pessoa com deficiência?_NÃO, Concluiu curso superior?_NÃO, Sexo_F)  Situação Inscrição Fies_NÃO CONTRATADO            0.605125              0.3625  0.221603    0.366211  1.010237  0.002246    1.005855\n",
       "150                                (cat_renda_per_capita_RENDAPERCAPITA<Q2_Q3>)  Situação Inscrição Fies_NÃO CONTRATADO            0.501450              0.3625  0.195828    0.390524  1.077310  0.014053    1.045982\n",
       "99                                   (cat_renda_mensal_bruta_RENDABRUTA<Q2_Q3>)  Situação Inscrição Fies_NÃO CONTRATADO            0.499942              0.3625  0.195324    0.390693  1.077775  0.014095    1.046271\n",
       "1348  (Pessoa com deficiência?_NÃO, cat_renda_per_capita_RENDAPERCAPITA<Q2_Q3>)  Situação Inscrição Fies_NÃO CONTRATADO            0.497273              0.3625  0.194299    0.390729  1.077875  0.014038    1.046333"
      ]
     },
     "execution_count": 224,
     "metadata": {},
     "output_type": "execute_result"
    }
   ],
   "source": [
    "regrasNaoContratado.sort_values('support', ascending = False).head(10)"
   ]
  },
  {
   "cell_type": "markdown",
   "metadata": {},
   "source": [
    "### Calcula métricas\n",
    "\n",
    "Para facilitar a obtenção de relação entre antecedentes e consequentes, utilizou-se uma função, a qual recebe estes valores como parâmetro e exibe métricas de acordo com estes"
   ]
  },
  {
   "cell_type": "code",
   "execution_count": 225,
   "metadata": {},
   "outputs": [
    {
     "data": {
      "text/plain": [
       "'Situação Inscrição Fies_CONTRATADA'"
      ]
     },
     "metadata": {},
     "output_type": "display_data"
    },
    {
     "name": "stdout",
     "output_type": "stream",
     "text": [
      "( cat_opcao_inscricao_OPCAOINSCRICAO<Q1 ) -> ( Situação Inscrição Fies_CONTRATADA )\n",
      "Suporte:  0.07236398519939702\n",
      "Confiança:  0.1408722748081828\n",
      "Lift:  1.9156634164653557\n",
      "#########################\n",
      "( Pessoa com deficiência?_NÃO ) -> ( Situação Inscrição Fies_CONTRATADA )\n",
      "Suporte:  0.07311497875839386\n",
      "Confiança:  0.07373664221309437\n",
      "Lift:  1.0027138990476139\n",
      "#########################\n",
      "( Concluiu curso superior?_NÃO ) -> ( Situação Inscrição Fies_CONTRATADA )\n",
      "Suporte:  0.07055502261203234\n",
      "Confiança:  0.07962313407444525\n",
      "Lift:  1.0827618511763455\n",
      "#########################\n"
     ]
    },
    {
     "data": {
      "text/plain": [
       "'Situação Inscrição Fies_NÃO CONTRATADO'"
      ]
     },
     "metadata": {},
     "output_type": "display_data"
    },
    {
     "name": "stdout",
     "output_type": "stream",
     "text": [
      "( Pessoa com deficiência?_NÃO ) -> ( Situação Inscrição Fies_NÃO CONTRATADO )\n",
      "Suporte:  0.35978621351240236\n",
      "Confiança:  0.3628453122667743\n",
      "Lift:  1.0009535315862375\n",
      "#########################\n",
      "( Concluiu curso superior?_NÃO ) -> ( Situação Inscrição Fies_NÃO CONTRATADO )\n",
      "Suporte:  0.33935041797999177\n",
      "Confiança:  0.3829655611850367\n",
      "Lift:  1.0564577189913702\n",
      "#########################\n",
      "( cat_renda_per_capita_RENDAPERCAPITA<Q2_Q3> ) -> ( Situação Inscrição Fies_NÃO CONTRATADO )\n",
      "Suporte:  0.19582842263944086\n",
      "Confiança:  0.39052439410999484\n",
      "Lift:  1.0773096915954545\n",
      "#########################\n",
      "( Sexo_F ) -> ( Situação Inscrição Fies_NÃO CONTRATADO )\n",
      "Suporte:  0.23828970809921884\n",
      "Confiança:  0.346413145689559\n",
      "Lift:  0.9556233740479638\n",
      "#########################\n"
     ]
    }
   ],
   "source": [
    "def calcula_metricas(att_antecedente, att_consequente):\n",
    "  print(\"(\",att_antecedente,\") -> (\",att_consequente,\")\")\n",
    "\n",
    "  suporte = len(df_transactions[(df_transactions[att_antecedente] == 1) & (df_transactions[att_consequente] == 1) ])/ \\\n",
    "  len(df_transactions)\n",
    "  print(\"Suporte: \",suporte)\n",
    "\n",
    "  confianca = len(df_transactions[(df_transactions[att_antecedente] == 1) & (df_transactions[att_consequente] == 1) ])/ \\\n",
    "  len(df_transactions[df_transactions[att_antecedente] == 1])\n",
    "  print(\"Confiança: \",confianca)\n",
    "\n",
    "  lift = confianca / (len(df_transactions[df_transactions[att_consequente] == 1]) / len(df_transactions))\n",
    "\n",
    "  print(\"Lift: \",lift)\n",
    "\n",
    "  print(\"#########################\")\n",
    "\n",
    "display(\"Situação Inscrição Fies_CONTRATADA\")\n",
    "calcula_metricas(\"cat_opcao_inscricao_OPCAOINSCRICAO<Q1\",\"Situação Inscrição Fies_CONTRATADA\")\n",
    "calcula_metricas(\"Pessoa com deficiência?_NÃO\",\"Situação Inscrição Fies_CONTRATADA\")\n",
    "calcula_metricas(\"Concluiu curso superior?_NÃO\",\"Situação Inscrição Fies_CONTRATADA\")\n",
    "\n",
    "display(\"Situação Inscrição Fies_NÃO CONTRATADO\")\n",
    "calcula_metricas(\"Pessoa com deficiência?_NÃO\",\"Situação Inscrição Fies_NÃO CONTRATADO\")\n",
    "calcula_metricas(\"Concluiu curso superior?_NÃO\",\"Situação Inscrição Fies_NÃO CONTRATADO\")\n",
    "calcula_metricas(\"cat_renda_per_capita_RENDAPERCAPITA<Q2_Q3>\",\"Situação Inscrição Fies_NÃO CONTRATADO\")\n",
    "calcula_metricas(\"Sexo_F\",\"Situação Inscrição Fies_NÃO CONTRATADO\")\n"
   ]
  },
  {
   "cell_type": "markdown",
   "metadata": {},
   "source": [
    "### Observando maior \"confidence\"\n",
    "\n",
    "Neste momento, serão avaliadas as maiores confidences obtidas de acordo com o tipo de inscrição contratada e não contratada"
   ]
  },
  {
   "cell_type": "code",
   "execution_count": 226,
   "metadata": {},
   "outputs": [
    {
     "data": {
      "text/html": [
       "<div>\n",
       "<style scoped>\n",
       "    .dataframe tbody tr th:only-of-type {\n",
       "        vertical-align: middle;\n",
       "    }\n",
       "\n",
       "    .dataframe tbody tr th {\n",
       "        vertical-align: top;\n",
       "    }\n",
       "\n",
       "    .dataframe thead th {\n",
       "        text-align: right;\n",
       "    }\n",
       "</style>\n",
       "<table border=\"1\" class=\"dataframe\">\n",
       "  <thead>\n",
       "    <tr style=\"text-align: right;\">\n",
       "      <th></th>\n",
       "      <th>antecedents</th>\n",
       "      <th>consequents</th>\n",
       "      <th>antecedent support</th>\n",
       "      <th>consequent support</th>\n",
       "      <th>support</th>\n",
       "      <th>confidence</th>\n",
       "      <th>lift</th>\n",
       "      <th>leverage</th>\n",
       "      <th>conviction</th>\n",
       "    </tr>\n",
       "  </thead>\n",
       "  <tbody>\n",
       "  </tbody>\n",
       "</table>\n",
       "</div>"
      ],
      "text/plain": [
       "Empty DataFrame\n",
       "Columns: [antecedents, consequents, antecedent support, consequent support, support, confidence, lift, leverage, conviction]\n",
       "Index: []"
      ]
     },
     "execution_count": 226,
     "metadata": {},
     "output_type": "execute_result"
    }
   ],
   "source": [
    "regrasContratada[regrasContratada['confidence'] == regrasContratada.confidence.max()]"
   ]
  },
  {
   "cell_type": "code",
   "execution_count": 227,
   "metadata": {},
   "outputs": [
    {
     "data": {
      "text/html": [
       "<div>\n",
       "<style scoped>\n",
       "    .dataframe tbody tr th:only-of-type {\n",
       "        vertical-align: middle;\n",
       "    }\n",
       "\n",
       "    .dataframe tbody tr th {\n",
       "        vertical-align: top;\n",
       "    }\n",
       "\n",
       "    .dataframe thead th {\n",
       "        text-align: right;\n",
       "    }\n",
       "</style>\n",
       "<table border=\"1\" class=\"dataframe\">\n",
       "  <thead>\n",
       "    <tr style=\"text-align: right;\">\n",
       "      <th></th>\n",
       "      <th>antecedents</th>\n",
       "      <th>consequents</th>\n",
       "      <th>antecedent support</th>\n",
       "      <th>consequent support</th>\n",
       "      <th>support</th>\n",
       "      <th>confidence</th>\n",
       "      <th>lift</th>\n",
       "      <th>leverage</th>\n",
       "      <th>conviction</th>\n",
       "    </tr>\n",
       "  </thead>\n",
       "  <tbody>\n",
       "    <tr>\n",
       "      <th>2121</th>\n",
       "      <td>(Pessoa com deficiência?_NÃO, Concluiu curso superior?_NÃO, cat_membros_familia_MEMBROSFAMILIA&lt;Q1)</td>\n",
       "      <td>Situação Inscrição Fies_NÃO CONTRATADO</td>\n",
       "      <td>0.302738</td>\n",
       "      <td>0.3625</td>\n",
       "      <td>0.130185</td>\n",
       "      <td>0.430025</td>\n",
       "      <td>1.186277</td>\n",
       "      <td>0.020443</td>\n",
       "      <td>1.118471</td>\n",
       "    </tr>\n",
       "  </tbody>\n",
       "</table>\n",
       "</div>"
      ],
      "text/plain": [
       "                                                                                             antecedents                             consequents  antecedent support  consequent support   support  confidence      lift  leverage  conviction\n",
       "2121  (Pessoa com deficiência?_NÃO, Concluiu curso superior?_NÃO, cat_membros_familia_MEMBROSFAMILIA<Q1)  Situação Inscrição Fies_NÃO CONTRATADO            0.302738              0.3625  0.130185    0.430025  1.186277  0.020443    1.118471"
      ]
     },
     "execution_count": 227,
     "metadata": {},
     "output_type": "execute_result"
    }
   ],
   "source": [
    "regrasNaoContratado[regrasNaoContratado['confidence'] == regrasNaoContratado.confidence.max()]"
   ]
  },
  {
   "cell_type": "markdown",
   "metadata": {},
   "source": [
    "### Plotando gráficos\n",
    "\n",
    "Para observar de forma visual se existem possíveis relações entre os campos apontados pelas regras de associação e as categorias estudadas, gráficos serão plotados considerando tais campos."
   ]
  },
  {
   "cell_type": "markdown",
   "metadata": {},
   "source": [
    "#### Situação Inscrição Fies x Pessoa com deficiência?\n",
    "\n",
    "Observe que a escala logarítmica foi usada para poder visualizar melhor os dados. Como as pessoas com deficiência representam uma parcela pequena dos inscritos no FIES, as proporções avaliadas são bem diferentes"
   ]
  },
  {
   "cell_type": "code",
   "execution_count": 228,
   "metadata": {},
   "outputs": [
    {
     "data": {
      "image/png": "[encoded data removed]",
      "text/plain": [
       "<Figure size 360x468 with 1 Axes>"
      ]
     },
     "metadata": {},
     "output_type": "display_data"
    }
   ],
   "source": [
    "g = sns.countplot(x='Situação Inscrição Fies', hue = 'Pessoa com deficiência?', data=fies2020)\n",
    "g.set_yscale(\"log\")\n",
    "g.tick_params(axis='x', rotation=90)"
   ]
  },
  {
   "cell_type": "markdown",
   "metadata": {},
   "source": [
    "#### Situação Inscrição FIES x Sexo?\n",
    "\n",
    "Observe que a escala logarítmica foi usada para poder visualizar melhor os dados. Conforme é possível observar, aparentemente neste ano, tem-se mais mulheres inscritas no FIES do que homens, o que também influencia nos dados"
   ]
  },
  {
   "cell_type": "code",
   "execution_count": 229,
   "metadata": {},
   "outputs": [
    {
     "data": {
      "image/png": "[encoded data removed]",
      "text/plain": [
       "<Figure size 360x468 with 1 Axes>"
      ]
     },
     "metadata": {},
     "output_type": "display_data"
    }
   ],
   "source": [
    "g = sns.countplot(x='Situação Inscrição Fies', hue = 'Sexo', data=fies2020)\n",
    "g.set_yscale(\"log\")\n",
    "g.tick_params(axis='x', rotation=90)"
   ]
  },
  {
   "cell_type": "markdown",
   "metadata": {},
   "source": [
    "#### Situação Inscrição Fies x Concluiu Curso Superior?\n",
    "\n",
    "Observe que a escala logarítmica foi usada para poder visualizar melhor os dados. Assim como no caso das pessoas com deficiência, as pessoas que concluiram curso superior também representam uma parcela muito menor dos participantes do FIES"
   ]
  },
  {
   "cell_type": "code",
   "execution_count": 230,
   "metadata": {},
   "outputs": [
    {
     "data": {
      "image/png": "[encoded data removed]",
      "text/plain": [
       "<Figure size 360x468 with 1 Axes>"
      ]
     },
     "metadata": {},
     "output_type": "display_data"
    }
   ],
   "source": [
    "g = sns.countplot(x='Situação Inscrição Fies', hue = 'Concluiu curso superior?', data=fies2020)\n",
    "g.set_yscale(\"log\")\n",
    "g.tick_params(axis='x', rotation=90)"
   ]
  },
  {
   "cell_type": "markdown",
   "metadata": {},
   "source": [
    "#### Situação Inscrição Fies x Nº de membros família\n",
    "\n",
    "Observe que a escala logarítmica foi usada para poder visualizar melhor os dados. Neste caso, o que apresenta ter uma relação maior é no caso de ser aceito e os membros da familia estarem no intervalo Q2_Q3."
   ]
  },
  {
   "cell_type": "code",
   "execution_count": 231,
   "metadata": {},
   "outputs": [
    {
     "data": {
      "image/png": "[encoded data removed]",
      "text/plain": [
       "<Figure size 360x468 with 1 Axes>"
      ]
     },
     "metadata": {},
     "output_type": "display_data"
    }
   ],
   "source": [
    "g = sns.countplot(x='Situação Inscrição Fies', hue = 'cat_membros_familia', data=fies2020)\n",
    "g.set_yscale(\"log\")\n",
    "g.tick_params(axis='x', rotation=90)"
   ]
  },
  {
   "cell_type": "markdown",
   "metadata": {},
   "source": [
    "#### Situação Inscrição Fies x Renda Per capita\n",
    "\n",
    "Uma outra correlação clara é entre a renda per capita entre o Q2 e o Q3 e nao ser contratado"
   ]
  },
  {
   "cell_type": "code",
   "execution_count": 232,
   "metadata": {},
   "outputs": [
    {
     "data": {
      "image/png": "[encoded data removed]",
      "text/plain": [
       "<Figure size 360x468 with 1 Axes>"
      ]
     },
     "metadata": {},
     "output_type": "display_data"
    }
   ],
   "source": [
    "\n",
    "g = sns.countplot(x='Situação Inscrição Fies', hue = 'cat_renda_per_capita', data=fies2020)\n",
    "g.tick_params(axis='x', rotation=90)"
   ]
  },
  {
   "cell_type": "markdown",
   "metadata": {},
   "source": [
    "#### Situação Inscrição Fies x Opção de Inscrição\n",
    "\n",
    "Observe que a escala logarítmica foi usada para poder visualizar melhor os dados. Por meio de tal gráfico pode-se observar, também que há mais pessoas se inscreveram para a primeira opção, o que já era esperado de acordo com as regras de negócio do FIES"
   ]
  },
  {
   "cell_type": "code",
   "execution_count": 233,
   "metadata": {},
   "outputs": [
    {
     "data": {
      "image/png": "[encoded data removed]",
      "text/plain": [
       "<Figure size 360x468 with 1 Axes>"
      ]
     },
     "metadata": {},
     "output_type": "display_data"
    }
   ],
   "source": [
    "g = sns.countplot(x='Situação Inscrição Fies', hue = 'cat_opcao_inscricao', data=fies2020)\n",
    "g.tick_params(axis='x', rotation=90)"
   ]
  },
  {
   "cell_type": "markdown",
   "metadata": {},
   "source": [
    "#### Situação Inscrição Fies x Etnia/Cor\n",
    "\n",
    "Observe que a escala logarítmica foi usada para poder visualizar melhor os dados. Por meio de tal gráfico pode-se observar, também que há mais pessoas pardas que não foram contratadas"
   ]
  },
  {
   "cell_type": "code",
   "execution_count": 234,
   "metadata": {},
   "outputs": [
    {
     "data": {
      "image/png": "[encoded data removed]",
      "text/plain": [
       "<Figure size 360x468 with 1 Axes>"
      ]
     },
     "metadata": {},
     "output_type": "display_data"
    }
   ],
   "source": [
    "g = sns.countplot(x='Situação Inscrição Fies', hue = 'Etnia/Cor', data=fies2020)\n",
    "g.tick_params(axis='x', rotation=90)"
   ]
  }
 ],
 "metadata": {
  "kernelspec": {
   "display_name": "Python 3.10.4 64-bit",
   "language": "python",
   "name": "python3"
  },
  "language_info": {
   "codemirror_mode": {
    "name": "ipython",
    "version": 3
   },
   "file_extension": ".py",
   "mimetype": "text/x-python",
   "name": "python",
   "nbconvert_exporter": "python",
   "pygments_lexer": "ipython3",
   "version": "3.10.4"
  },
  "orig_nbformat": 4,
  "vscode": {
   "interpreter": {
    "hash": "916dbcbb3f70747c44a77c7bcd40155683ae19c65e1c03b4aa3499c5328201f1"
   }
  }
 },
 "nbformat": 4,
 "nbformat_minor": 2
}
