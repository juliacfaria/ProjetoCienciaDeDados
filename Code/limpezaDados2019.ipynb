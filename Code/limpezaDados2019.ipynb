{
  "cells": [
    {
      "cell_type": "code",
      "execution_count": 5,
      "metadata": {
        "colab": {
          "base_uri": "https://localhost:8080/"
        },
        "id": "mBGrV10gE7dF",
        "outputId": "6012e0ef-65fd-4dce-9af8-a4cb8d1e9a68"
      },
      "outputs": [
        {
          "name": "stdout",
          "output_type": "stream",
          "text": [
            "--2022-06-20 22:59:08--  https://media.githubusercontent.com/media/juliacfaria/ProjetoCienciaDeDados/main/Dados/relatorio_inscricao_dados_abertos_fies_22019.csv\n",
            "Resolving media.githubusercontent.com (media.githubusercontent.com)... 185.199.111.133, 185.199.110.133, 185.199.109.133, ...\n",
            "Connecting to media.githubusercontent.com (media.githubusercontent.com)|185.199.111.133|:443... connected.\n",
            "HTTP request sent, awaiting response... 200 OK\n",
            "Length: 149846299 (143M) [text/plain]\n",
            "Saving to: ‘relatorio_inscricao_dados_abertos_fies_22019.csv.2’\n",
            "\n",
            "relatorio_inscricao 100%[===================>] 142,90M  6,38MB/s    in 23s     \n",
            "\n",
            "2022-06-20 22:59:31 (6,26 MB/s) - ‘relatorio_inscricao_dados_abertos_fies_22019.csv.2’ saved [149846299/149846299]\n",
            "\n"
          ]
        }
      ],
      "source": [
        "!wget https://media.githubusercontent.com/media/juliacfaria/ProjetoCienciaDeDados/main/Dados/relatorio_inscricao_dados_abertos_fies_22019.csv"
      ]
    },
    {
      "cell_type": "markdown",
      "metadata": {
        "id": "SJ8TFiM4K9cO"
      },
      "source": [
        "# Leitura de Dados"
      ]
    },
    {
      "cell_type": "markdown",
      "metadata": {
        "id": "kqeGtrvVYZ57"
      },
      "source": [
        "Após a importação dos datasets, cada um é lido em uma respectiva variável"
      ]
    },
    {
      "cell_type": "code",
      "execution_count": 6,
      "metadata": {
        "id": "mQNv0eJFLuSM"
      },
      "outputs": [],
      "source": [
        "import pandas as pd\n",
        "import numpy as np\n",
        "import matplotlib.pyplot as plt\n",
        "import seaborn as sns"
      ]
    },
    {
      "cell_type": "code",
      "execution_count": 7,
      "metadata": {
        "colab": {
          "base_uri": "https://localhost:8080/",
          "height": 713
        },
        "id": "OqGlXS8e1TRW",
        "outputId": "ae3b02cd-8231-4032-df8f-50c6c37821df"
      },
      "outputs": [
        {
          "data": {
            "text/html": [
              "<div>\n",
              "<style scoped>\n",
              "    .dataframe tbody tr th:only-of-type {\n",
              "        vertical-align: middle;\n",
              "    }\n",
              "\n",
              "    .dataframe tbody tr th {\n",
              "        vertical-align: top;\n",
              "    }\n",
              "\n",
              "    .dataframe thead th {\n",
              "        text-align: right;\n",
              "    }\n",
              "</style>\n",
              "<table border=\"1\" class=\"dataframe\">\n",
              "  <thead>\n",
              "    <tr style=\"text-align: right;\">\n",
              "      <th></th>\n",
              "      <th>Ano do processo seletivo</th>\n",
              "      <th>Semestre do processo seletivo</th>\n",
              "      <th>ID do estudante</th>\n",
              "      <th>Sexo</th>\n",
              "      <th>Data de Nascimento</th>\n",
              "      <th>UF de residência</th>\n",
              "      <th>Municipio de residência</th>\n",
              "      <th>Etnia/Cor</th>\n",
              "      <th>Pessoa com deficiência?</th>\n",
              "      <th>Tipo de escola no ensino médio</th>\n",
              "      <th>...</th>\n",
              "      <th>Ano do Enem</th>\n",
              "      <th>Redação</th>\n",
              "      <th>Matemática e suas Tecnologias</th>\n",
              "      <th>Linguagens, Códigos e suas Tec</th>\n",
              "      <th>Ciências Natureza e suas Tec</th>\n",
              "      <th>Ciências Humanas e suas Tec</th>\n",
              "      <th>Situação Inscrição Fies</th>\n",
              "      <th>Percentual de financiamento</th>\n",
              "      <th>Semestre do financiamento</th>\n",
              "      <th>Qtde semestre financiado</th>\n",
              "    </tr>\n",
              "  </thead>\n",
              "  <tbody>\n",
              "    <tr>\n",
              "      <th>0</th>\n",
              "      <td>2019</td>\n",
              "      <td>2</td>\n",
              "      <td>189538691</td>\n",
              "      <td>M</td>\n",
              "      <td>30/12/88</td>\n",
              "      <td>PR</td>\n",
              "      <td>CURITIBA</td>\n",
              "      <td>PARDA</td>\n",
              "      <td>NÃO</td>\n",
              "      <td>NÃO</td>\n",
              "      <td>...</td>\n",
              "      <td>2019</td>\n",
              "      <td>540</td>\n",
              "      <td>735,6</td>\n",
              "      <td>549</td>\n",
              "      <td>537,9</td>\n",
              "      <td>600,8</td>\n",
              "      <td>NÃO CONTRATADO</td>\n",
              "      <td>NaN</td>\n",
              "      <td></td>\n",
              "      <td>NaN</td>\n",
              "    </tr>\n",
              "    <tr>\n",
              "      <th>1</th>\n",
              "      <td>2019</td>\n",
              "      <td>2</td>\n",
              "      <td>185775473</td>\n",
              "      <td>M</td>\n",
              "      <td>11/12/94</td>\n",
              "      <td>PR</td>\n",
              "      <td>CURITIBA</td>\n",
              "      <td>BRANCA</td>\n",
              "      <td>NÃO</td>\n",
              "      <td>SIM</td>\n",
              "      <td>...</td>\n",
              "      <td>2018</td>\n",
              "      <td>700</td>\n",
              "      <td>557,9</td>\n",
              "      <td>624,8</td>\n",
              "      <td>562,7</td>\n",
              "      <td>686,2</td>\n",
              "      <td>OPÇÃO NÃO CONTRATADA</td>\n",
              "      <td>NaN</td>\n",
              "      <td>NaN</td>\n",
              "      <td>10.0</td>\n",
              "    </tr>\n",
              "    <tr>\n",
              "      <th>2</th>\n",
              "      <td>2019</td>\n",
              "      <td>2</td>\n",
              "      <td>185472589</td>\n",
              "      <td>M</td>\n",
              "      <td>21/11/90</td>\n",
              "      <td>PR</td>\n",
              "      <td>CURITIBA</td>\n",
              "      <td>BRANCA</td>\n",
              "      <td>NÃO</td>\n",
              "      <td>SIM</td>\n",
              "      <td>...</td>\n",
              "      <td>2013</td>\n",
              "      <td>480</td>\n",
              "      <td>530,7</td>\n",
              "      <td>602,9</td>\n",
              "      <td>506,5</td>\n",
              "      <td>582,3</td>\n",
              "      <td>NÃO CONTRATADO</td>\n",
              "      <td>NaN</td>\n",
              "      <td></td>\n",
              "      <td>NaN</td>\n",
              "    </tr>\n",
              "    <tr>\n",
              "      <th>3</th>\n",
              "      <td>2019</td>\n",
              "      <td>2</td>\n",
              "      <td>185575432</td>\n",
              "      <td>F</td>\n",
              "      <td>09/03/82</td>\n",
              "      <td>PR</td>\n",
              "      <td>CURITIBA</td>\n",
              "      <td>BRANCA</td>\n",
              "      <td>NÃO</td>\n",
              "      <td>NÃO</td>\n",
              "      <td>...</td>\n",
              "      <td>2018</td>\n",
              "      <td>640</td>\n",
              "      <td>569,9</td>\n",
              "      <td>728,8</td>\n",
              "      <td>653,6</td>\n",
              "      <td>727,1</td>\n",
              "      <td>NÃO CONTRATADO</td>\n",
              "      <td>NaN</td>\n",
              "      <td></td>\n",
              "      <td>NaN</td>\n",
              "    </tr>\n",
              "    <tr>\n",
              "      <th>4</th>\n",
              "      <td>2019</td>\n",
              "      <td>2</td>\n",
              "      <td>193975779</td>\n",
              "      <td>F</td>\n",
              "      <td>14/12/96</td>\n",
              "      <td>RS</td>\n",
              "      <td>SANTANA DO LIVRAMENTO</td>\n",
              "      <td>BRANCA</td>\n",
              "      <td>NÃO</td>\n",
              "      <td>SIM</td>\n",
              "      <td>...</td>\n",
              "      <td>2016</td>\n",
              "      <td>740</td>\n",
              "      <td>591,3</td>\n",
              "      <td>507,1</td>\n",
              "      <td>389,5</td>\n",
              "      <td>559,6</td>\n",
              "      <td>NÃO CONTRATADO</td>\n",
              "      <td>NaN</td>\n",
              "      <td></td>\n",
              "      <td>NaN</td>\n",
              "    </tr>\n",
              "    <tr>\n",
              "      <th>...</th>\n",
              "      <td>...</td>\n",
              "      <td>...</td>\n",
              "      <td>...</td>\n",
              "      <td>...</td>\n",
              "      <td>...</td>\n",
              "      <td>...</td>\n",
              "      <td>...</td>\n",
              "      <td>...</td>\n",
              "      <td>...</td>\n",
              "      <td>...</td>\n",
              "      <td>...</td>\n",
              "      <td>...</td>\n",
              "      <td>...</td>\n",
              "      <td>...</td>\n",
              "      <td>...</td>\n",
              "      <td>...</td>\n",
              "      <td>...</td>\n",
              "      <td>...</td>\n",
              "      <td>...</td>\n",
              "      <td>...</td>\n",
              "      <td>...</td>\n",
              "    </tr>\n",
              "    <tr>\n",
              "      <th>271851</th>\n",
              "      <td>2019</td>\n",
              "      <td>2</td>\n",
              "      <td>185573856</td>\n",
              "      <td>M</td>\n",
              "      <td>03/12/99</td>\n",
              "      <td>MG</td>\n",
              "      <td>JANUÁRIA</td>\n",
              "      <td>PARDA</td>\n",
              "      <td>NÃO</td>\n",
              "      <td>SIM</td>\n",
              "      <td>...</td>\n",
              "      <td>2018</td>\n",
              "      <td>400</td>\n",
              "      <td>579,9</td>\n",
              "      <td>515,6</td>\n",
              "      <td>398,1</td>\n",
              "      <td>567</td>\n",
              "      <td>OPÇÃO NÃO CONTRATADA</td>\n",
              "      <td>NaN</td>\n",
              "      <td>NaN</td>\n",
              "      <td>9.0</td>\n",
              "    </tr>\n",
              "    <tr>\n",
              "      <th>271852</th>\n",
              "      <td>2019</td>\n",
              "      <td>2</td>\n",
              "      <td>185671776</td>\n",
              "      <td>F</td>\n",
              "      <td>14/09/00</td>\n",
              "      <td>MG</td>\n",
              "      <td>JANUÁRIA</td>\n",
              "      <td>PARDA</td>\n",
              "      <td>NÃO</td>\n",
              "      <td>SIM</td>\n",
              "      <td>...</td>\n",
              "      <td>2018</td>\n",
              "      <td>360</td>\n",
              "      <td>656,2</td>\n",
              "      <td>505,2</td>\n",
              "      <td>474,8</td>\n",
              "      <td>571,1</td>\n",
              "      <td>NÃO CONTRATADO</td>\n",
              "      <td>NaN</td>\n",
              "      <td></td>\n",
              "      <td>NaN</td>\n",
              "    </tr>\n",
              "    <tr>\n",
              "      <th>271853</th>\n",
              "      <td>2019</td>\n",
              "      <td>2</td>\n",
              "      <td>185671776</td>\n",
              "      <td>F</td>\n",
              "      <td>14/09/00</td>\n",
              "      <td>MG</td>\n",
              "      <td>JANUÁRIA</td>\n",
              "      <td>PARDA</td>\n",
              "      <td>NÃO</td>\n",
              "      <td>SIM</td>\n",
              "      <td>...</td>\n",
              "      <td>2018</td>\n",
              "      <td>360</td>\n",
              "      <td>656,2</td>\n",
              "      <td>505,2</td>\n",
              "      <td>474,8</td>\n",
              "      <td>571,1</td>\n",
              "      <td>NÃO CONTRATADO</td>\n",
              "      <td>NaN</td>\n",
              "      <td></td>\n",
              "      <td>NaN</td>\n",
              "    </tr>\n",
              "    <tr>\n",
              "      <th>271854</th>\n",
              "      <td>2019</td>\n",
              "      <td>2</td>\n",
              "      <td>185678281</td>\n",
              "      <td>F</td>\n",
              "      <td>26/04/01</td>\n",
              "      <td>MG</td>\n",
              "      <td>LONTRA</td>\n",
              "      <td>BRANCA</td>\n",
              "      <td>NÃO</td>\n",
              "      <td>SIM</td>\n",
              "      <td>...</td>\n",
              "      <td>2018</td>\n",
              "      <td>740</td>\n",
              "      <td>603,8</td>\n",
              "      <td>598,1</td>\n",
              "      <td>486,6</td>\n",
              "      <td>634,5</td>\n",
              "      <td>NÃO CONTRATADO</td>\n",
              "      <td>NaN</td>\n",
              "      <td></td>\n",
              "      <td>NaN</td>\n",
              "    </tr>\n",
              "    <tr>\n",
              "      <th>271855</th>\n",
              "      <td>2019</td>\n",
              "      <td>2</td>\n",
              "      <td>185470231</td>\n",
              "      <td>F</td>\n",
              "      <td>26/10/99</td>\n",
              "      <td>MG</td>\n",
              "      <td>MONTES CLAROS</td>\n",
              "      <td>PRETA</td>\n",
              "      <td>NÃO</td>\n",
              "      <td>SIM</td>\n",
              "      <td>...</td>\n",
              "      <td>2017</td>\n",
              "      <td>620</td>\n",
              "      <td>586,5</td>\n",
              "      <td>629,2</td>\n",
              "      <td>526,3</td>\n",
              "      <td>630,7</td>\n",
              "      <td>NÃO CONTRATADO</td>\n",
              "      <td>NaN</td>\n",
              "      <td></td>\n",
              "      <td>NaN</td>\n",
              "    </tr>\n",
              "  </tbody>\n",
              "</table>\n",
              "<p>271856 rows × 57 columns</p>\n",
              "</div>"
            ],
            "text/plain": [
              "        Ano do processo seletivo  Semestre do processo seletivo  \\\n",
              "0                           2019                              2   \n",
              "1                           2019                              2   \n",
              "2                           2019                              2   \n",
              "3                           2019                              2   \n",
              "4                           2019                              2   \n",
              "...                          ...                            ...   \n",
              "271851                      2019                              2   \n",
              "271852                      2019                              2   \n",
              "271853                      2019                              2   \n",
              "271854                      2019                              2   \n",
              "271855                      2019                              2   \n",
              "\n",
              "        ID do estudante Sexo Data de Nascimento UF de residência  \\\n",
              "0             189538691    M           30/12/88               PR   \n",
              "1             185775473    M           11/12/94               PR   \n",
              "2             185472589    M           21/11/90               PR   \n",
              "3             185575432    F           09/03/82               PR   \n",
              "4             193975779    F           14/12/96               RS   \n",
              "...                 ...  ...                ...              ...   \n",
              "271851        185573856    M           03/12/99               MG   \n",
              "271852        185671776    F           14/09/00               MG   \n",
              "271853        185671776    F           14/09/00               MG   \n",
              "271854        185678281    F           26/04/01               MG   \n",
              "271855        185470231    F           26/10/99               MG   \n",
              "\n",
              "       Municipio de residência Etnia/Cor Pessoa com deficiência?  \\\n",
              "0                     CURITIBA     PARDA                     NÃO   \n",
              "1                     CURITIBA    BRANCA                     NÃO   \n",
              "2                     CURITIBA    BRANCA                     NÃO   \n",
              "3                     CURITIBA    BRANCA                     NÃO   \n",
              "4        SANTANA DO LIVRAMENTO    BRANCA                     NÃO   \n",
              "...                        ...       ...                     ...   \n",
              "271851                JANUÁRIA     PARDA                     NÃO   \n",
              "271852                JANUÁRIA     PARDA                     NÃO   \n",
              "271853                JANUÁRIA     PARDA                     NÃO   \n",
              "271854                  LONTRA    BRANCA                     NÃO   \n",
              "271855           MONTES CLAROS     PRETA                     NÃO   \n",
              "\n",
              "       Tipo de escola no ensino médio  ...  Ano do Enem Redação  \\\n",
              "0                                 NÃO  ...         2019     540   \n",
              "1                                 SIM  ...         2018     700   \n",
              "2                                 SIM  ...         2013     480   \n",
              "3                                 NÃO  ...         2018     640   \n",
              "4                                 SIM  ...         2016     740   \n",
              "...                               ...  ...          ...     ...   \n",
              "271851                            SIM  ...         2018     400   \n",
              "271852                            SIM  ...         2018     360   \n",
              "271853                            SIM  ...         2018     360   \n",
              "271854                            SIM  ...         2018     740   \n",
              "271855                            SIM  ...         2017     620   \n",
              "\n",
              "       Matemática e suas Tecnologias  Linguagens, Códigos e suas Tec  \\\n",
              "0                              735,6                             549   \n",
              "1                              557,9                           624,8   \n",
              "2                              530,7                           602,9   \n",
              "3                              569,9                           728,8   \n",
              "4                              591,3                           507,1   \n",
              "...                              ...                             ...   \n",
              "271851                         579,9                           515,6   \n",
              "271852                         656,2                           505,2   \n",
              "271853                         656,2                           505,2   \n",
              "271854                         603,8                           598,1   \n",
              "271855                         586,5                           629,2   \n",
              "\n",
              "       Ciências Natureza e suas Tec Ciências Humanas e suas Tec  \\\n",
              "0                             537,9                       600,8   \n",
              "1                             562,7                       686,2   \n",
              "2                             506,5                       582,3   \n",
              "3                             653,6                       727,1   \n",
              "4                             389,5                       559,6   \n",
              "...                             ...                         ...   \n",
              "271851                        398,1                         567   \n",
              "271852                        474,8                       571,1   \n",
              "271853                        474,8                       571,1   \n",
              "271854                        486,6                       634,5   \n",
              "271855                        526,3                       630,7   \n",
              "\n",
              "       Situação Inscrição Fies Percentual de financiamento  \\\n",
              "0               NÃO CONTRATADO                         NaN   \n",
              "1         OPÇÃO NÃO CONTRATADA                         NaN   \n",
              "2               NÃO CONTRATADO                         NaN   \n",
              "3               NÃO CONTRATADO                         NaN   \n",
              "4               NÃO CONTRATADO                         NaN   \n",
              "...                        ...                         ...   \n",
              "271851    OPÇÃO NÃO CONTRATADA                         NaN   \n",
              "271852          NÃO CONTRATADO                         NaN   \n",
              "271853          NÃO CONTRATADO                         NaN   \n",
              "271854          NÃO CONTRATADO                         NaN   \n",
              "271855          NÃO CONTRATADO                         NaN   \n",
              "\n",
              "        Semestre do financiamento Qtde semestre financiado  \n",
              "0                                                      NaN  \n",
              "1                             NaN                     10.0  \n",
              "2                                                      NaN  \n",
              "3                                                      NaN  \n",
              "4                                                      NaN  \n",
              "...                           ...                      ...  \n",
              "271851                        NaN                      9.0  \n",
              "271852                                                 NaN  \n",
              "271853                                                 NaN  \n",
              "271854                                                 NaN  \n",
              "271855                                                 NaN  \n",
              "\n",
              "[271856 rows x 57 columns]"
            ]
          },
          "execution_count": 7,
          "metadata": {},
          "output_type": "execute_result"
        }
      ],
      "source": [
        "fies2019 = pd.read_csv('./relatorio_inscricao_dados_abertos_fies_22019.csv', encoding='ISO-8859-1', sep = ';')\n",
        "fies2019        "
      ]
    },
    {
      "cell_type": "markdown",
      "metadata": {
        "id": "pf4bNR4o4v3L"
      },
      "source": [
        "# Análise Exploratória Dados 2019"
      ]
    },
    {
      "cell_type": "markdown",
      "metadata": {
        "id": "WFvB4T726Mmb"
      },
      "source": [
        "O primeiro passo é verificar cada coluna deste dataset e seus respectivos tipos, conforme apresentado a seguir"
      ]
    },
    {
      "cell_type": "code",
      "execution_count": 8,
      "metadata": {
        "colab": {
          "base_uri": "https://localhost:8080/"
        },
        "id": "ZbBhfBtQ4vcR",
        "outputId": "113b861a-941c-4c2b-fd43-35380d920d67"
      },
      "outputs": [
        {
          "data": {
            "text/plain": [
              "Ano do processo seletivo            int64\n",
              "Semestre do processo seletivo       int64\n",
              "ID do estudante                     int64\n",
              "Sexo                               object\n",
              "Data de Nascimento                 object\n",
              "UF de residência                   object\n",
              "Municipio de residência            object\n",
              "Etnia/Cor                          object\n",
              "Pessoa com deficiência?            object\n",
              "Tipo de escola no ensino médio     object\n",
              "Ano conclusão ensino médio          int64\n",
              "Concluiu curso superior?           object\n",
              "Professor rede pública ensino?     object\n",
              "Nº de membros Grupo Familiar        int64\n",
              "Renda familiar mensal bruta        object\n",
              "Renda mensal bruta per capita      object\n",
              "Região grupo de preferência        object\n",
              "UF                                 object\n",
              "Cod.Microrregião                    int64\n",
              "Microrregião                       object\n",
              "Cod.Mesorregião                     int64\n",
              "Mesorregião                        object\n",
              "Conceito de curso do GP            object\n",
              "Área do conhecimento               object\n",
              "Subárea do conhecimento            object\n",
              "Cod. do Grupo de preferência        int64\n",
              "Nota Corte Grupo Preferência       object\n",
              "Opções de cursos da inscrição       int64\n",
              "Nome mantenedora                   object\n",
              "Natureza Jurídica Mantenedora      object\n",
              "CNPJ da mantenedora                 int64\n",
              "Código e-MEC da Mantenedora         int64\n",
              "Nome da IES                        object\n",
              "Código e-MEC da IES                 int64\n",
              "Organização Acadêmica da IES       object\n",
              "Município da IES                  float64\n",
              "UF da IES                         float64\n",
              "Nome do Local de oferta            object\n",
              "Código do Local de Oferta           int64\n",
              "Munícipio do Local de Oferta       object\n",
              "UF do Local de Oferta              object\n",
              "Código do curso                     int64\n",
              "Nome do curso                      object\n",
              "Turno                              object\n",
              "Grau                               object\n",
              "Conceito                           object\n",
              "Média nota Enem                    object\n",
              "Ano do Enem                         int64\n",
              "Redação                             int64\n",
              "Matemática e suas Tecnologias      object\n",
              "Linguagens, Códigos e suas Tec     object\n",
              "Ciências Natureza e suas Tec       object\n",
              "Ciências Humanas e suas Tec        object\n",
              "Situação Inscrição Fies            object\n",
              "Percentual de financiamento        object\n",
              "Semestre do financiamento          object\n",
              "Qtde semestre financiado          float64\n",
              "dtype: object"
            ]
          },
          "execution_count": 8,
          "metadata": {},
          "output_type": "execute_result"
        }
      ],
      "source": [
        "fies2019.dtypes"
      ]
    },
    {
      "cell_type": "markdown",
      "metadata": {
        "id": "4xbY1we4YZ6F"
      },
      "source": [
        "Todavia, também é interessante saber a quantidade de valores nulos presentes em cada campo, para poder ter uma visão geral da viabilidade de utilizar tais comandos. \n",
        "\n",
        "Para isso, utiliza-se o comando \"info\", conforme representado a seguir."
      ]
    },
    {
      "cell_type": "code",
      "execution_count": 9,
      "metadata": {
        "colab": {
          "base_uri": "https://localhost:8080/"
        },
        "id": "CsPICB7H5Djy",
        "outputId": "c70949d6-7999-439b-ea32-a4dbe0bab3f3"
      },
      "outputs": [
        {
          "name": "stdout",
          "output_type": "stream",
          "text": [
            "<class 'pandas.core.frame.DataFrame'>\n",
            "RangeIndex: 271856 entries, 0 to 271855\n",
            "Data columns (total 57 columns):\n",
            " #   Column                          Non-Null Count   Dtype  \n",
            "---  ------                          --------------   -----  \n",
            " 0   Ano do processo seletivo        271856 non-null  int64  \n",
            " 1   Semestre do processo seletivo   271856 non-null  int64  \n",
            " 2   ID do estudante                 271856 non-null  int64  \n",
            " 3   Sexo                            271856 non-null  object \n",
            " 4   Data de Nascimento              271856 non-null  object \n",
            " 5   UF de residência                271847 non-null  object \n",
            " 6   Municipio de residência         271856 non-null  object \n",
            " 7   Etnia/Cor                       271856 non-null  object \n",
            " 8   Pessoa com deficiência?         271856 non-null  object \n",
            " 9   Tipo de escola no ensino médio  271856 non-null  object \n",
            " 10  Ano conclusão ensino médio      271856 non-null  int64  \n",
            " 11  Concluiu curso superior?        271856 non-null  object \n",
            " 12  Professor rede pública ensino?  271856 non-null  object \n",
            " 13  Nº de membros Grupo Familiar    271856 non-null  int64  \n",
            " 14  Renda familiar mensal bruta     232922 non-null  object \n",
            " 15  Renda mensal bruta per capita   271856 non-null  object \n",
            " 16  Região grupo de preferência     271856 non-null  object \n",
            " 17  UF                              271856 non-null  object \n",
            " 18  Cod.Microrregião                271856 non-null  int64  \n",
            " 19  Microrregião                    271856 non-null  object \n",
            " 20  Cod.Mesorregião                 271856 non-null  int64  \n",
            " 21  Mesorregião                     271856 non-null  object \n",
            " 22  Conceito de curso do GP         271856 non-null  object \n",
            " 23  Área do conhecimento            271856 non-null  object \n",
            " 24  Subárea do conhecimento         271856 non-null  object \n",
            " 25  Cod. do Grupo de preferência    271856 non-null  int64  \n",
            " 26  Nota Corte Grupo Preferência    271856 non-null  object \n",
            " 27  Opções de cursos da inscrição   271856 non-null  int64  \n",
            " 28  Nome mantenedora                271856 non-null  object \n",
            " 29  Natureza Jurídica Mantenedora   271856 non-null  object \n",
            " 30  CNPJ da mantenedora             271856 non-null  int64  \n",
            " 31  Código e-MEC da Mantenedora     271856 non-null  int64  \n",
            " 32  Nome da IES                     271856 non-null  object \n",
            " 33  Código e-MEC da IES             271856 non-null  int64  \n",
            " 34  Organização Acadêmica da IES    271856 non-null  object \n",
            " 35  Município da IES                0 non-null       float64\n",
            " 36  UF da IES                       0 non-null       float64\n",
            " 37  Nome do Local de oferta         271856 non-null  object \n",
            " 38  Código do Local de Oferta       271856 non-null  int64  \n",
            " 39  Munícipio do Local de Oferta    271856 non-null  object \n",
            " 40  UF do Local de Oferta           271856 non-null  object \n",
            " 41  Código do curso                 271856 non-null  int64  \n",
            " 42  Nome do curso                   271856 non-null  object \n",
            " 43  Turno                           271856 non-null  object \n",
            " 44  Grau                            271856 non-null  object \n",
            " 45  Conceito                        271856 non-null  object \n",
            " 46  Média nota Enem                 271856 non-null  object \n",
            " 47  Ano do Enem                     271856 non-null  int64  \n",
            " 48  Redação                         271856 non-null  int64  \n",
            " 49  Matemática e suas Tecnologias   271856 non-null  object \n",
            " 50  Linguagens, Códigos e suas Tec  271856 non-null  object \n",
            " 51  Ciências Natureza e suas Tec    271856 non-null  object \n",
            " 52  Ciências Humanas e suas Tec     271856 non-null  object \n",
            " 53  Situação Inscrição Fies         271856 non-null  object \n",
            " 54  Percentual de financiamento     26961 non-null   object \n",
            " 55  Semestre do financiamento       245571 non-null  object \n",
            " 56  Qtde semestre financiado        53246 non-null   float64\n",
            "dtypes: float64(3), int64(16), object(38)\n",
            "memory usage: 118.2+ MB\n"
          ]
        }
      ],
      "source": [
        "fies2019.info()"
      ]
    },
    {
      "cell_type": "markdown",
      "metadata": {
        "id": "l9HedI886YlI"
      },
      "source": [
        "Como o comando anterior indicou, temos duas colunas vazias (0 valores não nulos). Desta forma, elas não apresentam utilidade para as nossas avaliações, de forma que podem ser removidas do conjunto de dados.\n",
        "\n",
        "Para comprovar tal afirmação, observe que abaixo foram exibidos os dois campos em questão"
      ]
    },
    {
      "cell_type": "code",
      "execution_count": 10,
      "metadata": {
        "colab": {
          "base_uri": "https://localhost:8080/",
          "height": 424
        },
        "id": "YBL9jxFJ5QoK",
        "outputId": "08e63f17-dbd7-4917-eead-6711096a988f"
      },
      "outputs": [
        {
          "data": {
            "text/html": [
              "<div>\n",
              "<style scoped>\n",
              "    .dataframe tbody tr th:only-of-type {\n",
              "        vertical-align: middle;\n",
              "    }\n",
              "\n",
              "    .dataframe tbody tr th {\n",
              "        vertical-align: top;\n",
              "    }\n",
              "\n",
              "    .dataframe thead th {\n",
              "        text-align: right;\n",
              "    }\n",
              "</style>\n",
              "<table border=\"1\" class=\"dataframe\">\n",
              "  <thead>\n",
              "    <tr style=\"text-align: right;\">\n",
              "      <th></th>\n",
              "      <th>Município da IES</th>\n",
              "      <th>UF da IES</th>\n",
              "    </tr>\n",
              "  </thead>\n",
              "  <tbody>\n",
              "    <tr>\n",
              "      <th>0</th>\n",
              "      <td>NaN</td>\n",
              "      <td>NaN</td>\n",
              "    </tr>\n",
              "    <tr>\n",
              "      <th>1</th>\n",
              "      <td>NaN</td>\n",
              "      <td>NaN</td>\n",
              "    </tr>\n",
              "    <tr>\n",
              "      <th>2</th>\n",
              "      <td>NaN</td>\n",
              "      <td>NaN</td>\n",
              "    </tr>\n",
              "    <tr>\n",
              "      <th>3</th>\n",
              "      <td>NaN</td>\n",
              "      <td>NaN</td>\n",
              "    </tr>\n",
              "    <tr>\n",
              "      <th>4</th>\n",
              "      <td>NaN</td>\n",
              "      <td>NaN</td>\n",
              "    </tr>\n",
              "    <tr>\n",
              "      <th>...</th>\n",
              "      <td>...</td>\n",
              "      <td>...</td>\n",
              "    </tr>\n",
              "    <tr>\n",
              "      <th>271851</th>\n",
              "      <td>NaN</td>\n",
              "      <td>NaN</td>\n",
              "    </tr>\n",
              "    <tr>\n",
              "      <th>271852</th>\n",
              "      <td>NaN</td>\n",
              "      <td>NaN</td>\n",
              "    </tr>\n",
              "    <tr>\n",
              "      <th>271853</th>\n",
              "      <td>NaN</td>\n",
              "      <td>NaN</td>\n",
              "    </tr>\n",
              "    <tr>\n",
              "      <th>271854</th>\n",
              "      <td>NaN</td>\n",
              "      <td>NaN</td>\n",
              "    </tr>\n",
              "    <tr>\n",
              "      <th>271855</th>\n",
              "      <td>NaN</td>\n",
              "      <td>NaN</td>\n",
              "    </tr>\n",
              "  </tbody>\n",
              "</table>\n",
              "<p>271856 rows × 2 columns</p>\n",
              "</div>"
            ],
            "text/plain": [
              "        Município da IES  UF da IES\n",
              "0                    NaN        NaN\n",
              "1                    NaN        NaN\n",
              "2                    NaN        NaN\n",
              "3                    NaN        NaN\n",
              "4                    NaN        NaN\n",
              "...                  ...        ...\n",
              "271851               NaN        NaN\n",
              "271852               NaN        NaN\n",
              "271853               NaN        NaN\n",
              "271854               NaN        NaN\n",
              "271855               NaN        NaN\n",
              "\n",
              "[271856 rows x 2 columns]"
            ]
          },
          "execution_count": 10,
          "metadata": {},
          "output_type": "execute_result"
        }
      ],
      "source": [
        "fies2019[['Município da IES', 'UF da IES']]"
      ]
    },
    {
      "cell_type": "markdown",
      "metadata": {
        "id": "4GxbGAMF6lJ_"
      },
      "source": [
        "Além disso, temos duas colunas com números vazios de celulas muito grandes, conforme é possivel ver a seguir, onde o número de valores vazios foi exibido."
      ]
    },
    {
      "cell_type": "code",
      "execution_count": 11,
      "metadata": {
        "colab": {
          "base_uri": "https://localhost:8080/",
          "height": 55
        },
        "id": "TmxLJrcb6rKn",
        "outputId": "747c6ebd-3108-4ffc-9f64-599c2de39cb1"
      },
      "outputs": [
        {
          "data": {
            "text/plain": [
              "244895"
            ]
          },
          "metadata": {},
          "output_type": "display_data"
        },
        {
          "data": {
            "text/plain": [
              "218610"
            ]
          },
          "metadata": {},
          "output_type": "display_data"
        }
      ],
      "source": [
        "display(len(fies2019[pd.isna(fies2019['Percentual de financiamento'])]))\n",
        "display(len(fies2019[pd.isna(fies2019['Qtde semestre financiado'])]))"
      ]
    },
    {
      "cell_type": "markdown",
      "metadata": {
        "id": "2Zz1JkUZYZ6J"
      },
      "source": [
        "Com base nisso, as quatro colunas em questão serão removidas da base de dados. Logo em seguida, o comando \"info\" foi dado para obter os valores atualizados acerca de ifnormações do dataset"
      ]
    },
    {
      "cell_type": "code",
      "execution_count": 12,
      "metadata": {
        "colab": {
          "base_uri": "https://localhost:8080/"
        },
        "id": "-VpQJWeO5c_Y",
        "outputId": "22156d86-89d0-4468-b20e-4acada25949b"
      },
      "outputs": [
        {
          "name": "stdout",
          "output_type": "stream",
          "text": [
            "<class 'pandas.core.frame.DataFrame'>\n",
            "RangeIndex: 271856 entries, 0 to 271855\n",
            "Data columns (total 53 columns):\n",
            " #   Column                          Non-Null Count   Dtype \n",
            "---  ------                          --------------   ----- \n",
            " 0   Ano do processo seletivo        271856 non-null  int64 \n",
            " 1   Semestre do processo seletivo   271856 non-null  int64 \n",
            " 2   ID do estudante                 271856 non-null  int64 \n",
            " 3   Sexo                            271856 non-null  object\n",
            " 4   Data de Nascimento              271856 non-null  object\n",
            " 5   UF de residência                271847 non-null  object\n",
            " 6   Municipio de residência         271856 non-null  object\n",
            " 7   Etnia/Cor                       271856 non-null  object\n",
            " 8   Pessoa com deficiência?         271856 non-null  object\n",
            " 9   Tipo de escola no ensino médio  271856 non-null  object\n",
            " 10  Ano conclusão ensino médio      271856 non-null  int64 \n",
            " 11  Concluiu curso superior?        271856 non-null  object\n",
            " 12  Professor rede pública ensino?  271856 non-null  object\n",
            " 13  Nº de membros Grupo Familiar    271856 non-null  int64 \n",
            " 14  Renda familiar mensal bruta     232922 non-null  object\n",
            " 15  Renda mensal bruta per capita   271856 non-null  object\n",
            " 16  Região grupo de preferência     271856 non-null  object\n",
            " 17  UF                              271856 non-null  object\n",
            " 18  Cod.Microrregião                271856 non-null  int64 \n",
            " 19  Microrregião                    271856 non-null  object\n",
            " 20  Cod.Mesorregião                 271856 non-null  int64 \n",
            " 21  Mesorregião                     271856 non-null  object\n",
            " 22  Conceito de curso do GP         271856 non-null  object\n",
            " 23  Área do conhecimento            271856 non-null  object\n",
            " 24  Subárea do conhecimento         271856 non-null  object\n",
            " 25  Cod. do Grupo de preferência    271856 non-null  int64 \n",
            " 26  Nota Corte Grupo Preferência    271856 non-null  object\n",
            " 27  Opções de cursos da inscrição   271856 non-null  int64 \n",
            " 28  Nome mantenedora                271856 non-null  object\n",
            " 29  Natureza Jurídica Mantenedora   271856 non-null  object\n",
            " 30  CNPJ da mantenedora             271856 non-null  int64 \n",
            " 31  Código e-MEC da Mantenedora     271856 non-null  int64 \n",
            " 32  Nome da IES                     271856 non-null  object\n",
            " 33  Código e-MEC da IES             271856 non-null  int64 \n",
            " 34  Organização Acadêmica da IES    271856 non-null  object\n",
            " 35  Nome do Local de oferta         271856 non-null  object\n",
            " 36  Código do Local de Oferta       271856 non-null  int64 \n",
            " 37  Munícipio do Local de Oferta    271856 non-null  object\n",
            " 38  UF do Local de Oferta           271856 non-null  object\n",
            " 39  Código do curso                 271856 non-null  int64 \n",
            " 40  Nome do curso                   271856 non-null  object\n",
            " 41  Turno                           271856 non-null  object\n",
            " 42  Grau                            271856 non-null  object\n",
            " 43  Conceito                        271856 non-null  object\n",
            " 44  Média nota Enem                 271856 non-null  object\n",
            " 45  Ano do Enem                     271856 non-null  int64 \n",
            " 46  Redação                         271856 non-null  int64 \n",
            " 47  Matemática e suas Tecnologias   271856 non-null  object\n",
            " 48  Linguagens, Códigos e suas Tec  271856 non-null  object\n",
            " 49  Ciências Natureza e suas Tec    271856 non-null  object\n",
            " 50  Ciências Humanas e suas Tec     271856 non-null  object\n",
            " 51  Situação Inscrição Fies         271856 non-null  object\n",
            " 52  Semestre do financiamento       245571 non-null  object\n",
            "dtypes: int64(16), object(37)\n",
            "memory usage: 109.9+ MB\n"
          ]
        }
      ],
      "source": [
        "fies2019 = fies2019.drop(\"Município da IES\",axis=1)\n",
        "fies2019 = fies2019.drop(\"UF da IES\",axis=1)\n",
        "fies2019 = fies2019.drop(\"Percentual de financiamento\",axis=1)\n",
        "fies2019 = fies2019.drop(\"Qtde semestre financiado\",axis=1)\n",
        "fies2019.info()"
      ]
    },
    {
      "cell_type": "markdown",
      "metadata": {
        "id": "reyTvxeTYZ6K"
      },
      "source": [
        "## Removendo colunas desnecessárias ao propósito do grupo com o conjunto de dados\n",
        "\n",
        "O conjunto de dados em questão, conforme observado previamente possui um grande número de colunas. Entretanto, grande parte delas não será utilizada, pelo menos à princípio pelo grupo\n",
        "\n",
        "Sendo assim, é conveniente a sua remoção do data frame, assim como foi realizado na sequência. O principal intuito de tal remoção é otimizar o tempo da equipe, visando não tratar dados que nem serão utilizados."
      ]
    },
    {
      "cell_type": "code",
      "execution_count": 13,
      "metadata": {
        "colab": {
          "base_uri": "https://localhost:8080/"
        },
        "id": "dHjX4KwxYZ6L",
        "outputId": "f66a1335-3875-469b-b80e-50f6ca7dd8b5"
      },
      "outputs": [
        {
          "name": "stdout",
          "output_type": "stream",
          "text": [
            "<class 'pandas.core.frame.DataFrame'>\n",
            "RangeIndex: 271856 entries, 0 to 271855\n",
            "Data columns (total 32 columns):\n",
            " #   Column                          Non-Null Count   Dtype \n",
            "---  ------                          --------------   ----- \n",
            " 0   Ano do processo seletivo        271856 non-null  int64 \n",
            " 1   Semestre do processo seletivo   271856 non-null  int64 \n",
            " 2   ID do estudante                 271856 non-null  int64 \n",
            " 3   Sexo                            271856 non-null  object\n",
            " 4   Data de Nascimento              271856 non-null  object\n",
            " 5   UF de residência                271847 non-null  object\n",
            " 6   Etnia/Cor                       271856 non-null  object\n",
            " 7   Pessoa com deficiência?         271856 non-null  object\n",
            " 8   Ano conclusão ensino médio      271856 non-null  int64 \n",
            " 9   Concluiu curso superior?        271856 non-null  object\n",
            " 10  Nº de membros Grupo Familiar    271856 non-null  int64 \n",
            " 11  Renda familiar mensal bruta     232922 non-null  object\n",
            " 12  Renda mensal bruta per capita   271856 non-null  object\n",
            " 13  UF                              271856 non-null  object\n",
            " 14  Área do conhecimento            271856 non-null  object\n",
            " 15  Subárea do conhecimento         271856 non-null  object\n",
            " 16  Opções de cursos da inscrição   271856 non-null  int64 \n",
            " 17  Nome mantenedora                271856 non-null  object\n",
            " 18  Natureza Jurídica Mantenedora   271856 non-null  object\n",
            " 19  Nome da IES                     271856 non-null  object\n",
            " 20  Organização Acadêmica da IES    271856 non-null  object\n",
            " 21  UF do Local de Oferta           271856 non-null  object\n",
            " 22  Nome do curso                   271856 non-null  object\n",
            " 23  Turno                           271856 non-null  object\n",
            " 24  Média nota Enem                 271856 non-null  object\n",
            " 25  Ano do Enem                     271856 non-null  int64 \n",
            " 26  Redação                         271856 non-null  int64 \n",
            " 27  Matemática e suas Tecnologias   271856 non-null  object\n",
            " 28  Linguagens, Códigos e suas Tec  271856 non-null  object\n",
            " 29  Ciências Natureza e suas Tec    271856 non-null  object\n",
            " 30  Ciências Humanas e suas Tec     271856 non-null  object\n",
            " 31  Situação Inscrição Fies         271856 non-null  object\n",
            "dtypes: int64(8), object(24)\n",
            "memory usage: 66.4+ MB\n"
          ]
        }
      ],
      "source": [
        "fies2019 = fies2019.drop(\"Tipo de escola no ensino médio\",axis=1)\n",
        "fies2019 = fies2019.drop(\"Municipio de residência\",axis=1)\n",
        "fies2019 = fies2019.drop(\"Professor rede pública ensino?\",axis=1)\n",
        "fies2019 = fies2019.drop(\"Região grupo de preferência\",axis=1)\n",
        "fies2019 = fies2019.drop(\"Microrregião\",axis=1)\n",
        "fies2019 = fies2019.drop(\"Cod.Microrregião\",axis=1)\n",
        "fies2019 = fies2019.drop(\"Mesorregião\",axis=1)\n",
        "fies2019 = fies2019.drop(\"Cod.Mesorregião\",axis=1)\n",
        "fies2019 = fies2019.drop(\"Conceito de curso do GP\",axis=1)\n",
        "fies2019 = fies2019.drop(\"Cod. do Grupo de preferência\",axis=1)\n",
        "fies2019 = fies2019.drop(\"Nota Corte Grupo Preferência\",axis=1)\n",
        "fies2019 = fies2019.drop(\"CNPJ da mantenedora\",axis=1)\n",
        "fies2019 = fies2019.drop(\"Código e-MEC da Mantenedora\",axis=1)\n",
        "fies2019 = fies2019.drop(\"Código e-MEC da IES\",axis=1)\n",
        "fies2019 = fies2019.drop(\"Nome do Local de oferta\",axis=1)\n",
        "fies2019 = fies2019.drop(\"Código do Local de Oferta\",axis=1)\n",
        "fies2019 = fies2019.drop(\"Munícipio do Local de Oferta\",axis=1)\n",
        "fies2019 = fies2019.drop(\"Código do curso\",axis=1)\n",
        "fies2019 = fies2019.drop(\"Conceito\",axis=1)\n",
        "fies2019 = fies2019.drop(\"Grau\",axis=1)\n",
        "fies2019 = fies2019.drop(\"Semestre do financiamento\",axis=1)\n",
        "\n",
        "fies2019.info()"
      ]
    },
    {
      "cell_type": "markdown",
      "metadata": {
        "id": "9dvCwLef8nUf"
      },
      "source": [
        "## Analisando colunas de variaveis inteiras (de acordo com o dataframe inicial)\n",
        "\n"
      ]
    },
    {
      "cell_type": "markdown",
      "metadata": {
        "id": "XYBNXF1V94Zq"
      },
      "source": [
        "### Avaliando ano do processo seletivo e semestre \n",
        "\n",
        "Os campos \"Ano do processo seletivo\" e \"Semestre do processo seletivo\" serão apresentados na sequência, apresentando seus valores únicos (ou seja, os valores diferentes apresentados por esta coluna) por meio do comando \"unique\"\n"
      ]
    },
    {
      "cell_type": "code",
      "execution_count": 14,
      "metadata": {
        "colab": {
          "base_uri": "https://localhost:8080/"
        },
        "id": "q3_RPt1j9CuT",
        "outputId": "c34b71a2-23d8-4f4d-99a4-9305345bb1dd"
      },
      "outputs": [
        {
          "data": {
            "text/plain": [
              "array([2019])"
            ]
          },
          "execution_count": 14,
          "metadata": {},
          "output_type": "execute_result"
        }
      ],
      "source": [
        "fies2019['Ano do processo seletivo'].unique()"
      ]
    },
    {
      "cell_type": "code",
      "execution_count": 15,
      "metadata": {
        "colab": {
          "base_uri": "https://localhost:8080/"
        },
        "id": "fWAT1MKB9QbR",
        "outputId": "321c3038-6853-4625-b0db-d321c8928eb9"
      },
      "outputs": [
        {
          "data": {
            "text/plain": [
              "array([2])"
            ]
          },
          "execution_count": 15,
          "metadata": {},
          "output_type": "execute_result"
        }
      ],
      "source": [
        "fies2019['Semestre do processo seletivo'].unique()"
      ]
    },
    {
      "cell_type": "markdown",
      "metadata": {
        "id": "ZcwilGijYZ6Q"
      },
      "source": [
        "Observe que não há variação nestes campos, de forma que não são uteis ao nosso dataset, visto que todos os dados são iguais e apenas foram observados dados de inscrição no semestre 2"
      ]
    },
    {
      "cell_type": "markdown",
      "metadata": {
        "id": "zRB36r-GYZ6Q"
      },
      "source": [
        "Como os valores são todos iguais para todas as linhas, removemos essas colunas também. Logo depois, informações acerca do estado atual foram apresentadas"
      ]
    },
    {
      "cell_type": "code",
      "execution_count": 16,
      "metadata": {
        "colab": {
          "base_uri": "https://localhost:8080/"
        },
        "id": "0wGZ-7HF9yad",
        "outputId": "09904851-eb86-4e24-d431-9a77d828772c"
      },
      "outputs": [
        {
          "name": "stdout",
          "output_type": "stream",
          "text": [
            "<class 'pandas.core.frame.DataFrame'>\n",
            "RangeIndex: 271856 entries, 0 to 271855\n",
            "Data columns (total 30 columns):\n",
            " #   Column                          Non-Null Count   Dtype \n",
            "---  ------                          --------------   ----- \n",
            " 0   ID do estudante                 271856 non-null  int64 \n",
            " 1   Sexo                            271856 non-null  object\n",
            " 2   Data de Nascimento              271856 non-null  object\n",
            " 3   UF de residência                271847 non-null  object\n",
            " 4   Etnia/Cor                       271856 non-null  object\n",
            " 5   Pessoa com deficiência?         271856 non-null  object\n",
            " 6   Ano conclusão ensino médio      271856 non-null  int64 \n",
            " 7   Concluiu curso superior?        271856 non-null  object\n",
            " 8   Nº de membros Grupo Familiar    271856 non-null  int64 \n",
            " 9   Renda familiar mensal bruta     232922 non-null  object\n",
            " 10  Renda mensal bruta per capita   271856 non-null  object\n",
            " 11  UF                              271856 non-null  object\n",
            " 12  Área do conhecimento            271856 non-null  object\n",
            " 13  Subárea do conhecimento         271856 non-null  object\n",
            " 14  Opções de cursos da inscrição   271856 non-null  int64 \n",
            " 15  Nome mantenedora                271856 non-null  object\n",
            " 16  Natureza Jurídica Mantenedora   271856 non-null  object\n",
            " 17  Nome da IES                     271856 non-null  object\n",
            " 18  Organização Acadêmica da IES    271856 non-null  object\n",
            " 19  UF do Local de Oferta           271856 non-null  object\n",
            " 20  Nome do curso                   271856 non-null  object\n",
            " 21  Turno                           271856 non-null  object\n",
            " 22  Média nota Enem                 271856 non-null  object\n",
            " 23  Ano do Enem                     271856 non-null  int64 \n",
            " 24  Redação                         271856 non-null  int64 \n",
            " 25  Matemática e suas Tecnologias   271856 non-null  object\n",
            " 26  Linguagens, Códigos e suas Tec  271856 non-null  object\n",
            " 27  Ciências Natureza e suas Tec    271856 non-null  object\n",
            " 28  Ciências Humanas e suas Tec     271856 non-null  object\n",
            " 29  Situação Inscrição Fies         271856 non-null  object\n",
            "dtypes: int64(6), object(24)\n",
            "memory usage: 62.2+ MB\n"
          ]
        }
      ],
      "source": [
        "fies2019 = fies2019.drop(\"Ano do processo seletivo\",axis=1)\n",
        "fies2019 = fies2019.drop(\"Semestre do processo seletivo\",axis=1)\n",
        "fies2019.info()"
      ]
    },
    {
      "cell_type": "markdown",
      "metadata": {
        "id": "LuTZc09AYZ6R"
      },
      "source": [
        "### Avaliando id estudante \n",
        "\n",
        "Na teoria, a equipe espera que este campo deve ser único para cada estudante. Portanto, este é o valor esperado.\n",
        "\n",
        "Todavia, ao aplicar o \"unique\" e verificar seu tamanho, observou-se que este ID repetia-se, indicando que um mesmo usuário pode realizar mais de uma inscrição.\n",
        "\n",
        "De toda forma, ainda assim havia duplicatas para algumas linhas da tabela, de forma que foi necessário apagá-las. \n",
        "\n",
        "Com base nisso, pode-se concluir que alguns se increveram em ate 3 opções de curso."
      ]
    },
    {
      "cell_type": "markdown",
      "metadata": {
        "id": "ACVu43V6YZ6R"
      },
      "source": [
        "Ao realizar o comando \"unique\" e comparar com o tamanho de conjunto de dados, foi possível perceber que o ID não era único para cada linha."
      ]
    },
    {
      "cell_type": "code",
      "execution_count": 17,
      "metadata": {
        "colab": {
          "base_uri": "https://localhost:8080/"
        },
        "id": "wxh5EzgHYZ6R",
        "outputId": "924c6627-dbc1-4d09-fc4b-b99a9d8fa48a"
      },
      "outputs": [
        {
          "data": {
            "text/plain": [
              "140345"
            ]
          },
          "execution_count": 17,
          "metadata": {},
          "output_type": "execute_result"
        }
      ],
      "source": [
        "fies2019['ID do estudante'].unique().size"
      ]
    },
    {
      "cell_type": "markdown",
      "metadata": {
        "id": "uu9sQgdzYZ6S"
      },
      "source": [
        "Antes da equipe descobrir que um mesmo usuário poderia se inscrever em mais de uma opção, assumiu-se a hipótese de que ids poderiam repetir para estudantes de estados diferentes. Para verificar se isto era possível, aplicou-se o \"value_counts\" para o conjunto \"ID do estudante\" e \"UF de residência\". Assim como é visível a seguir, esta hipótese foi refutada"
      ]
    },
    {
      "cell_type": "code",
      "execution_count": 18,
      "metadata": {
        "colab": {
          "base_uri": "https://localhost:8080/"
        },
        "id": "HdNcBRU6YZ6S",
        "outputId": "d331a86d-9e9b-44a8-8f34-7c180773dfc6"
      },
      "outputs": [
        {
          "data": {
            "text/plain": [
              "ID do estudante  UF de residência\n",
              "194074085        BA                  6\n",
              "185796475        BA                  6\n",
              "185782527        PB                  6\n",
              "185669191        SP                  6\n",
              "185779108        RJ                  6\n",
              "                                    ..\n",
              "185710454        PA                  1\n",
              "185710452        RO                  1\n",
              "185710451        GO                  1\n",
              "185710446        PA                  1\n",
              "198919837        SP                  1\n",
              "Length: 140340, dtype: int64"
            ]
          },
          "execution_count": 18,
          "metadata": {},
          "output_type": "execute_result"
        }
      ],
      "source": [
        "fies2019[['ID do estudante', 'UF de residência']].value_counts()"
      ]
    },
    {
      "cell_type": "markdown",
      "metadata": {
        "id": "wfzR4oUBYZ6S"
      },
      "source": [
        "Feito isso, agrupou-se por \"ID do estudante\" e apresentou-se os 30 primeiros, para verificar quantas vezes estão ocorrendo repetições."
      ]
    },
    {
      "cell_type": "code",
      "execution_count": 19,
      "metadata": {
        "colab": {
          "base_uri": "https://localhost:8080/"
        },
        "id": "3QhoFO93YZ6S",
        "outputId": "cf34ab39-bc58-4c12-8fb1-edfb634020dc"
      },
      "outputs": [
        {
          "data": {
            "text/plain": [
              "185688289    6\n",
              "193977523    6\n",
              "185775316    6\n",
              "193971383    6\n",
              "185596092    6\n",
              "185570252    6\n",
              "193976585    6\n",
              "185806485    6\n",
              "185671672    6\n",
              "185669191    6\n",
              "189530591    6\n",
              "185573459    6\n",
              "185674193    6\n",
              "185805658    6\n",
              "185670956    6\n",
              "185787100    6\n",
              "194071792    6\n",
              "185680463    6\n",
              "185803706    6\n",
              "185796475    6\n",
              "185681411    6\n",
              "185792843    6\n",
              "194069303    6\n",
              "189531705    6\n",
              "185690803    6\n",
              "189526380    6\n",
              "185779108    6\n",
              "185696698    6\n",
              "189531385    6\n",
              "191019212    6\n",
              "Name: ID do estudante, dtype: int64"
            ]
          },
          "execution_count": 19,
          "metadata": {},
          "output_type": "execute_result"
        }
      ],
      "source": [
        "fies2019['ID do estudante'].value_counts().head(30)"
      ]
    },
    {
      "cell_type": "markdown",
      "metadata": {
        "id": "pm55SduCYZ6T"
      },
      "source": [
        "Com base nisso, para ter uma compreensão melhor acerca de quais dados se repetem para um mesmo ID, realizou-se um filtro para um id específico, visualizando intervalos de colunas diferentes. Pôde-se observar que, em sua maioria, os dados são iguais, com exceção dos dados referentes as opções de inscrição. Como a maioria dos campos são iguais, a equipe optou por apenas mostrar um trecho em que os mesmos são diferentes. Para selecionar um conjunto de colunas específicos, utilizou-se o \"iloc\"."
      ]
    },
    {
      "cell_type": "code",
      "execution_count": 20,
      "metadata": {
        "colab": {
          "base_uri": "https://localhost:8080/"
        },
        "id": "dDO-Lwb-YZ6T",
        "outputId": "cc9baa99-b759-48db-b343-a61ef15eab40"
      },
      "outputs": [
        {
          "data": {
            "text/html": [
              "<div>\n",
              "<style scoped>\n",
              "    .dataframe tbody tr th:only-of-type {\n",
              "        vertical-align: middle;\n",
              "    }\n",
              "\n",
              "    .dataframe tbody tr th {\n",
              "        vertical-align: top;\n",
              "    }\n",
              "\n",
              "    .dataframe thead th {\n",
              "        text-align: right;\n",
              "    }\n",
              "</style>\n",
              "<table border=\"1\" class=\"dataframe\">\n",
              "  <thead>\n",
              "    <tr style=\"text-align: right;\">\n",
              "      <th></th>\n",
              "      <th>Renda mensal bruta per capita</th>\n",
              "      <th>UF</th>\n",
              "      <th>Área do conhecimento</th>\n",
              "      <th>Subárea do conhecimento</th>\n",
              "      <th>Opções de cursos da inscrição</th>\n",
              "      <th>Nome mantenedora</th>\n",
              "      <th>Natureza Jurídica Mantenedora</th>\n",
              "      <th>Nome da IES</th>\n",
              "      <th>Organização Acadêmica da IES</th>\n",
              "      <th>UF do Local de Oferta</th>\n",
              "      <th>Nome do curso</th>\n",
              "    </tr>\n",
              "  </thead>\n",
              "  <tbody>\n",
              "    <tr>\n",
              "      <th>44739</th>\n",
              "      <td>1067</td>\n",
              "      <td>ALAGOAS</td>\n",
              "      <td>CURSOS DA AREA DE SAUDE</td>\n",
              "      <td>ENFERMAGEM, FISIOTERAPIA, FARMÁCIA, NUTRIÇÃO E...</td>\n",
              "      <td>1</td>\n",
              "      <td>SOCIEDADE DE EDUCACAO TIRADENTES LTDA</td>\n",
              "      <td>PRIVADA COM FINS LUCRATIVOS</td>\n",
              "      <td>CENTRO UNIVERSITÁRIO TIRADENTES</td>\n",
              "      <td>CENTRO UNIVERSITÁRIO</td>\n",
              "      <td>AL</td>\n",
              "      <td>ENFERMAGEM</td>\n",
              "    </tr>\n",
              "    <tr>\n",
              "      <th>44740</th>\n",
              "      <td>1067</td>\n",
              "      <td>ALAGOAS</td>\n",
              "      <td>CURSOS DA AREA DE SAUDE</td>\n",
              "      <td>ENFERMAGEM, FISIOTERAPIA, FARMÁCIA, NUTRIÇÃO E...</td>\n",
              "      <td>1</td>\n",
              "      <td>SOCIEDADE DE EDUCACAO TIRADENTES LTDA</td>\n",
              "      <td>PRIVADA COM FINS LUCRATIVOS</td>\n",
              "      <td>CENTRO UNIVERSITÁRIO TIRADENTES</td>\n",
              "      <td>CENTRO UNIVERSITÁRIO</td>\n",
              "      <td>AL</td>\n",
              "      <td>ENFERMAGEM</td>\n",
              "    </tr>\n",
              "    <tr>\n",
              "      <th>69094</th>\n",
              "      <td>1067</td>\n",
              "      <td>ALAGOAS</td>\n",
              "      <td>CURSOS DA AREA DE SAUDE</td>\n",
              "      <td>ENFERMAGEM, FISIOTERAPIA, FARMÁCIA, NUTRIÇÃO E...</td>\n",
              "      <td>3</td>\n",
              "      <td>FUNDACAO EDUCACIONAL JAYME DE ALTAVILA-FEJAL</td>\n",
              "      <td>PRIVADA SEM FINS LUCRATIVOS</td>\n",
              "      <td>CENTRO UNIVERSITÁRIO CESMAC</td>\n",
              "      <td>CENTRO UNIVERSITÁRIO</td>\n",
              "      <td>AL</td>\n",
              "      <td>ENFERMAGEM</td>\n",
              "    </tr>\n",
              "    <tr>\n",
              "      <th>69095</th>\n",
              "      <td>1067</td>\n",
              "      <td>ALAGOAS</td>\n",
              "      <td>CURSOS DA AREA DE SAUDE</td>\n",
              "      <td>ENFERMAGEM, FISIOTERAPIA, FARMÁCIA, NUTRIÇÃO E...</td>\n",
              "      <td>3</td>\n",
              "      <td>FUNDACAO EDUCACIONAL JAYME DE ALTAVILA-FEJAL</td>\n",
              "      <td>PRIVADA SEM FINS LUCRATIVOS</td>\n",
              "      <td>CENTRO UNIVERSITÁRIO CESMAC</td>\n",
              "      <td>CENTRO UNIVERSITÁRIO</td>\n",
              "      <td>AL</td>\n",
              "      <td>ENFERMAGEM</td>\n",
              "    </tr>\n",
              "    <tr>\n",
              "      <th>98136</th>\n",
              "      <td>1067</td>\n",
              "      <td>ALAGOAS</td>\n",
              "      <td>CURSOS DA AREA DE SAUDE</td>\n",
              "      <td>ENFERMAGEM, FISIOTERAPIA, FARMÁCIA, NUTRIÇÃO E...</td>\n",
              "      <td>2</td>\n",
              "      <td>SEUNE - SOC DE ENSINO UNIVERSITARIO DO NORDEST...</td>\n",
              "      <td>PESSOA JURÍDICA DE DIREITO PRIVADO - COM FINS ...</td>\n",
              "      <td>FACULDADE DA SEUNE</td>\n",
              "      <td>FACULDADE</td>\n",
              "      <td>AL</td>\n",
              "      <td>ENFERMAGEM</td>\n",
              "    </tr>\n",
              "    <tr>\n",
              "      <th>98137</th>\n",
              "      <td>1067</td>\n",
              "      <td>ALAGOAS</td>\n",
              "      <td>CURSOS DA AREA DE SAUDE</td>\n",
              "      <td>ENFERMAGEM, FISIOTERAPIA, FARMÁCIA, NUTRIÇÃO E...</td>\n",
              "      <td>2</td>\n",
              "      <td>SEUNE - SOC DE ENSINO UNIVERSITARIO DO NORDEST...</td>\n",
              "      <td>PESSOA JURÍDICA DE DIREITO PRIVADO - COM FINS ...</td>\n",
              "      <td>FACULDADE DA SEUNE</td>\n",
              "      <td>FACULDADE</td>\n",
              "      <td>AL</td>\n",
              "      <td>ENFERMAGEM</td>\n",
              "    </tr>\n",
              "  </tbody>\n",
              "</table>\n",
              "</div>"
            ],
            "text/plain": [
              "      Renda mensal bruta per capita       UF     Área do conhecimento  \\\n",
              "44739                          1067  ALAGOAS  CURSOS DA AREA DE SAUDE   \n",
              "44740                          1067  ALAGOAS  CURSOS DA AREA DE SAUDE   \n",
              "69094                          1067  ALAGOAS  CURSOS DA AREA DE SAUDE   \n",
              "69095                          1067  ALAGOAS  CURSOS DA AREA DE SAUDE   \n",
              "98136                          1067  ALAGOAS  CURSOS DA AREA DE SAUDE   \n",
              "98137                          1067  ALAGOAS  CURSOS DA AREA DE SAUDE   \n",
              "\n",
              "                                 Subárea do conhecimento  \\\n",
              "44739  ENFERMAGEM, FISIOTERAPIA, FARMÁCIA, NUTRIÇÃO E...   \n",
              "44740  ENFERMAGEM, FISIOTERAPIA, FARMÁCIA, NUTRIÇÃO E...   \n",
              "69094  ENFERMAGEM, FISIOTERAPIA, FARMÁCIA, NUTRIÇÃO E...   \n",
              "69095  ENFERMAGEM, FISIOTERAPIA, FARMÁCIA, NUTRIÇÃO E...   \n",
              "98136  ENFERMAGEM, FISIOTERAPIA, FARMÁCIA, NUTRIÇÃO E...   \n",
              "98137  ENFERMAGEM, FISIOTERAPIA, FARMÁCIA, NUTRIÇÃO E...   \n",
              "\n",
              "       Opções de cursos da inscrição  \\\n",
              "44739                              1   \n",
              "44740                              1   \n",
              "69094                              3   \n",
              "69095                              3   \n",
              "98136                              2   \n",
              "98137                              2   \n",
              "\n",
              "                                        Nome mantenedora  \\\n",
              "44739              SOCIEDADE DE EDUCACAO TIRADENTES LTDA   \n",
              "44740              SOCIEDADE DE EDUCACAO TIRADENTES LTDA   \n",
              "69094       FUNDACAO EDUCACIONAL JAYME DE ALTAVILA-FEJAL   \n",
              "69095       FUNDACAO EDUCACIONAL JAYME DE ALTAVILA-FEJAL   \n",
              "98136  SEUNE - SOC DE ENSINO UNIVERSITARIO DO NORDEST...   \n",
              "98137  SEUNE - SOC DE ENSINO UNIVERSITARIO DO NORDEST...   \n",
              "\n",
              "                           Natureza Jurídica Mantenedora  \\\n",
              "44739                        PRIVADA COM FINS LUCRATIVOS   \n",
              "44740                        PRIVADA COM FINS LUCRATIVOS   \n",
              "69094                        PRIVADA SEM FINS LUCRATIVOS   \n",
              "69095                        PRIVADA SEM FINS LUCRATIVOS   \n",
              "98136  PESSOA JURÍDICA DE DIREITO PRIVADO - COM FINS ...   \n",
              "98137  PESSOA JURÍDICA DE DIREITO PRIVADO - COM FINS ...   \n",
              "\n",
              "                           Nome da IES Organização Acadêmica da IES  \\\n",
              "44739  CENTRO UNIVERSITÁRIO TIRADENTES         CENTRO UNIVERSITÁRIO   \n",
              "44740  CENTRO UNIVERSITÁRIO TIRADENTES         CENTRO UNIVERSITÁRIO   \n",
              "69094      CENTRO UNIVERSITÁRIO CESMAC         CENTRO UNIVERSITÁRIO   \n",
              "69095      CENTRO UNIVERSITÁRIO CESMAC         CENTRO UNIVERSITÁRIO   \n",
              "98136               FACULDADE DA SEUNE                   FACULDADE    \n",
              "98137               FACULDADE DA SEUNE                   FACULDADE    \n",
              "\n",
              "      UF do Local de Oferta Nome do curso  \n",
              "44739                    AL    ENFERMAGEM  \n",
              "44740                    AL    ENFERMAGEM  \n",
              "69094                    AL    ENFERMAGEM  \n",
              "69095                    AL    ENFERMAGEM  \n",
              "98136                    AL    ENFERMAGEM  \n",
              "98137                    AL    ENFERMAGEM  "
            ]
          },
          "execution_count": 20,
          "metadata": {},
          "output_type": "execute_result"
        }
      ],
      "source": [
        "fies2019[fies2019['ID do estudante'] == 185688289].iloc[:, 10:21]"
      ]
    },
    {
      "cell_type": "markdown",
      "metadata": {
        "id": "2c-8tyr4YZ6T"
      },
      "source": [
        "Todavia, conforme também é observado acima, temos duplicação de cada linha com uma opção de curso diferente. Sendo assim, primeiramente devemos remover as duplicatas."
      ]
    },
    {
      "cell_type": "markdown",
      "metadata": {
        "id": "PW-tWCATYZ6U"
      },
      "source": [
        "Como vamos remover tais duplicatas, é conveniente avaliar o tamanho do dataset antes e depois da realização de tal operação, por meio do comando \"len\""
      ]
    },
    {
      "cell_type": "code",
      "execution_count": 21,
      "metadata": {
        "colab": {
          "base_uri": "https://localhost:8080/"
        },
        "id": "zfxA0NQjYZ6U",
        "outputId": "41a645fd-9987-40cc-ab02-0e441a4994ac"
      },
      "outputs": [
        {
          "data": {
            "text/plain": [
              "271856"
            ]
          },
          "execution_count": 21,
          "metadata": {},
          "output_type": "execute_result"
        }
      ],
      "source": [
        "len(fies2019)"
      ]
    },
    {
      "cell_type": "markdown",
      "metadata": {
        "id": "Src3UIocYZ6U"
      },
      "source": [
        "Removendo duplicatas por meio do \"drop_duplicates\""
      ]
    },
    {
      "cell_type": "code",
      "execution_count": 22,
      "metadata": {
        "id": "NiMPuQyWYZ6U"
      },
      "outputs": [],
      "source": [
        "fies2019 = fies2019.drop_duplicates()"
      ]
    },
    {
      "cell_type": "markdown",
      "metadata": {
        "id": "yfEfklyPYZ6V"
      },
      "source": [
        "Após a remoção, vamos verificar o tamanho do dataset"
      ]
    },
    {
      "cell_type": "code",
      "execution_count": 23,
      "metadata": {
        "colab": {
          "base_uri": "https://localhost:8080/"
        },
        "id": "MqVsn-mqYZ6V",
        "outputId": "5f111240-7c0f-494b-a1a6-68d2673f5fac"
      },
      "outputs": [
        {
          "data": {
            "text/plain": [
              "271316"
            ]
          },
          "execution_count": 23,
          "metadata": {},
          "output_type": "execute_result"
        }
      ],
      "source": [
        "len(fies2019)"
      ]
    },
    {
      "cell_type": "markdown",
      "metadata": {
        "id": "lJYbx53lYZ6V"
      },
      "source": [
        "Agora realizando o \"value_counts\" novamente, é possível observar que agora o valor máximo apresentado para repetição de ids é 3. Sendo assim, é extremamente provável que o usuário possa realizar até 3 inscrições"
      ]
    },
    {
      "cell_type": "code",
      "execution_count": 24,
      "metadata": {
        "colab": {
          "base_uri": "https://localhost:8080/"
        },
        "id": "x8EcChOLYZ6V",
        "outputId": "d4efc7fa-2d1d-4992-96c6-f69f7d0b47ef"
      },
      "outputs": [
        {
          "data": {
            "text/plain": [
              "189538691    3\n",
              "185600517    3\n",
              "193975093    3\n",
              "185804178    3\n",
              "193978584    3\n",
              "185689550    3\n",
              "185572533    3\n",
              "189527921    3\n",
              "185476520    3\n",
              "185809560    3\n",
              "189532645    3\n",
              "185768959    3\n",
              "185709693    3\n",
              "185488986    3\n",
              "185684985    3\n",
              "189532112    3\n",
              "185782420    3\n",
              "185489715    3\n",
              "193569277    3\n",
              "194024456    3\n",
              "185685223    3\n",
              "185577794    3\n",
              "186918835    3\n",
              "185775512    3\n",
              "186069833    3\n",
              "185785140    3\n",
              "189531884    3\n",
              "185784105    3\n",
              "185782641    3\n",
              "185682867    3\n",
              "Name: ID do estudante, dtype: int64"
            ]
          },
          "execution_count": 24,
          "metadata": {},
          "output_type": "execute_result"
        }
      ],
      "source": [
        "fies2019['ID do estudante'].value_counts().head(30)"
      ]
    },
    {
      "cell_type": "markdown",
      "metadata": {
        "id": "k5fN9oQGYZ6W"
      },
      "source": [
        "### Avaliando Ano conclusão ensino médio  \n",
        "\n",
        "Para este campo, espera-se uma maior variedade de valores"
      ]
    },
    {
      "cell_type": "code",
      "execution_count": 25,
      "metadata": {
        "colab": {
          "base_uri": "https://localhost:8080/"
        },
        "id": "BUEsL8VyYZ6W",
        "outputId": "7ade175b-2830-4fd1-f31f-b0f06bbeedf4"
      },
      "outputs": [
        {
          "data": {
            "text/plain": [
              "array([2006, 2014, 2008, 1999, 2013, 2015, 2017, 2002, 2016, 2001, 2018,\n",
              "       2009, 2011, 2012, 1993, 2000, 2010, 2007, 1998, 2004, 2005, 1996,\n",
              "       1997, 2003, 1989, 2019, 1994, 1988, 1990, 1985, 1995, 1984, 1986,\n",
              "       1983, 1979, 1992, 1991, 1987, 1972, 1980, 1981, 1982, 1978, 1973,\n",
              "       1976, 1977, 1967, 1975, 1961, 1968, 1974])"
            ]
          },
          "execution_count": 25,
          "metadata": {},
          "output_type": "execute_result"
        }
      ],
      "source": [
        "fies2019['Ano conclusão ensino médio'].unique()"
      ]
    },
    {
      "cell_type": "markdown",
      "metadata": {
        "id": "J63UIlbKYZ6X"
      },
      "source": [
        "Observando distribuicao dos valores..."
      ]
    },
    {
      "cell_type": "code",
      "execution_count": 26,
      "metadata": {
        "colab": {
          "base_uri": "https://localhost:8080/"
        },
        "id": "kKiMW6ABYZ6X",
        "outputId": "e7f14fc8-2c30-49ea-b44d-ecdc1d043b4a"
      },
      "outputs": [
        {
          "data": {
            "text/plain": [
              "2018    55992\n",
              "2017    44753\n",
              "2016    33460\n",
              "2015    26491\n",
              "2014    20031\n",
              "2013    14716\n",
              "2012    11593\n",
              "2011     9259\n",
              "2010     8322\n",
              "2009     6542\n",
              "2008     5236\n",
              "2007     4918\n",
              "2006     3775\n",
              "2005     3638\n",
              "2004     3003\n",
              "2019     2842\n",
              "2003     2806\n",
              "2002     2359\n",
              "2001     2046\n",
              "2000     1858\n",
              "1999     1641\n",
              "1998     1182\n",
              "1997      897\n",
              "1996      664\n",
              "1994      515\n",
              "1995      514\n",
              "1993      405\n",
              "1992      329\n",
              "1991      266\n",
              "1989      236\n",
              "1990      167\n",
              "1988      154\n",
              "1987      123\n",
              "1985      111\n",
              "1986       99\n",
              "1984       57\n",
              "1982       53\n",
              "1983       51\n",
              "1981       46\n",
              "1978       41\n",
              "1980       38\n",
              "1979       26\n",
              "1977       24\n",
              "1976       10\n",
              "1973        7\n",
              "1975        7\n",
              "1972        4\n",
              "1961        3\n",
              "1968        3\n",
              "1974        2\n",
              "1967        1\n",
              "Name: Ano conclusão ensino médio, dtype: int64"
            ]
          },
          "execution_count": 26,
          "metadata": {},
          "output_type": "execute_result"
        }
      ],
      "source": [
        "fies2019['Ano conclusão ensino médio'].value_counts()"
      ]
    },
    {
      "cell_type": "markdown",
      "metadata": {
        "id": "fHrIszb1YZ6X"
      },
      "source": [
        "Este campo esta coerente, de forma que mais tratamentos não são necessários"
      ]
    },
    {
      "cell_type": "markdown",
      "metadata": {
        "id": "HFy_03pUYZ6X"
      },
      "source": [
        "### Avaliando Nº de membros Grupo Familiar"
      ]
    },
    {
      "cell_type": "markdown",
      "metadata": {
        "id": "hTKYIePNYZ6Y"
      },
      "source": [
        "Para este campo, espera-se uma maior variedade de valores"
      ]
    },
    {
      "cell_type": "code",
      "execution_count": 27,
      "metadata": {
        "colab": {
          "base_uri": "https://localhost:8080/"
        },
        "id": "WKyYRE9WYZ6Y",
        "outputId": "049f05f5-aa75-4417-9c19-5ef69ec95960"
      },
      "outputs": [
        {
          "data": {
            "text/plain": [
              "array([ 2,  3,  1,  0,  4,  6,  5,  8,  7, 11, 14,  9, 10, 12, 13, 18, 25,\n",
              "       15, 16, 17])"
            ]
          },
          "execution_count": 27,
          "metadata": {},
          "output_type": "execute_result"
        }
      ],
      "source": [
        "fies2019['Nº de membros Grupo Familiar'].unique()"
      ]
    },
    {
      "cell_type": "markdown",
      "metadata": {
        "id": "VMxJVhNkYZ6Y"
      },
      "source": [
        "Olhando distribuição dos dados..."
      ]
    },
    {
      "cell_type": "code",
      "execution_count": 28,
      "metadata": {
        "colab": {
          "base_uri": "https://localhost:8080/"
        },
        "id": "MfyTERfmYZ6Y",
        "outputId": "9c16f0e5-ada1-4805-f8de-28e02188d96c"
      },
      "outputs": [
        {
          "data": {
            "text/plain": [
              "1     76566\n",
              "2     70367\n",
              "3     55746\n",
              "0     38875\n",
              "4     21616\n",
              "5      5738\n",
              "6      1473\n",
              "7       495\n",
              "8       209\n",
              "9        97\n",
              "10       56\n",
              "11       40\n",
              "12       14\n",
              "13        9\n",
              "14        6\n",
              "15        3\n",
              "18        2\n",
              "16        2\n",
              "25        1\n",
              "17        1\n",
              "Name: Nº de membros Grupo Familiar, dtype: int64"
            ]
          },
          "execution_count": 28,
          "metadata": {},
          "output_type": "execute_result"
        }
      ],
      "source": [
        "fies2019['Nº de membros Grupo Familiar'].value_counts()"
      ]
    },
    {
      "cell_type": "markdown",
      "metadata": {
        "id": "G2yPhMMbYZ6Y"
      },
      "source": [
        "Este campo esta coerente, de forma que mais tratamentos não são necessários"
      ]
    },
    {
      "cell_type": "markdown",
      "metadata": {
        "id": "VlukStX9YZ6Z"
      },
      "source": [
        "### Avaliando opções de cursos da inscrição"
      ]
    },
    {
      "cell_type": "markdown",
      "metadata": {
        "id": "yce_hI72YZ6Z"
      },
      "source": [
        "As opções de curso referem-se a qual opção de curso os dados em questão se referem.\n",
        "\n",
        "Confirmando a hipótese anterior, observa-se que existe um limite de 3 opções de curso"
      ]
    },
    {
      "cell_type": "code",
      "execution_count": 29,
      "metadata": {
        "colab": {
          "base_uri": "https://localhost:8080/"
        },
        "id": "MG_e9HiPYZ6Z",
        "outputId": "b4ade918-8cfb-4f12-91eb-d56c66ba085f"
      },
      "outputs": [
        {
          "data": {
            "text/plain": [
              "array([3, 2, 1])"
            ]
          },
          "execution_count": 29,
          "metadata": {},
          "output_type": "execute_result"
        }
      ],
      "source": [
        "fies2019['Opções de cursos da inscrição'].unique()"
      ]
    },
    {
      "cell_type": "markdown",
      "metadata": {
        "id": "y1h9gqDUYZ6b"
      },
      "source": [
        "Observando a distribuição dos valores, assim como também esperado, tem-se maiores valores para a primeira opção"
      ]
    },
    {
      "cell_type": "code",
      "execution_count": 30,
      "metadata": {
        "colab": {
          "base_uri": "https://localhost:8080/"
        },
        "id": "n4RjUOXnYZ6b",
        "outputId": "73bb92e2-35df-4ca4-db8c-4035102dfa5e"
      },
      "outputs": [
        {
          "data": {
            "text/plain": [
              "1    140345\n",
              "2     80559\n",
              "3     50412\n",
              "Name: Opções de cursos da inscrição, dtype: int64"
            ]
          },
          "execution_count": 30,
          "metadata": {},
          "output_type": "execute_result"
        }
      ],
      "source": [
        "fies2019['Opções de cursos da inscrição'].value_counts()"
      ]
    },
    {
      "cell_type": "code",
      "execution_count": 31,
      "metadata": {
        "colab": {
          "base_uri": "https://localhost:8080/"
        },
        "id": "bW5yFF2BYZ6c",
        "outputId": "21afb4d2-994b-4259-9120-c242e31e82e6"
      },
      "outputs": [
        {
          "name": "stdout",
          "output_type": "stream",
          "text": [
            "<class 'pandas.core.frame.DataFrame'>\n",
            "Int64Index: 271316 entries, 0 to 271855\n",
            "Data columns (total 30 columns):\n",
            " #   Column                          Non-Null Count   Dtype \n",
            "---  ------                          --------------   ----- \n",
            " 0   ID do estudante                 271316 non-null  int64 \n",
            " 1   Sexo                            271316 non-null  object\n",
            " 2   Data de Nascimento              271316 non-null  object\n",
            " 3   UF de residência                271307 non-null  object\n",
            " 4   Etnia/Cor                       271316 non-null  object\n",
            " 5   Pessoa com deficiência?         271316 non-null  object\n",
            " 6   Ano conclusão ensino médio      271316 non-null  int64 \n",
            " 7   Concluiu curso superior?        271316 non-null  object\n",
            " 8   Nº de membros Grupo Familiar    271316 non-null  int64 \n",
            " 9   Renda familiar mensal bruta     232441 non-null  object\n",
            " 10  Renda mensal bruta per capita   271316 non-null  object\n",
            " 11  UF                              271316 non-null  object\n",
            " 12  Área do conhecimento            271316 non-null  object\n",
            " 13  Subárea do conhecimento         271316 non-null  object\n",
            " 14  Opções de cursos da inscrição   271316 non-null  int64 \n",
            " 15  Nome mantenedora                271316 non-null  object\n",
            " 16  Natureza Jurídica Mantenedora   271316 non-null  object\n",
            " 17  Nome da IES                     271316 non-null  object\n",
            " 18  Organização Acadêmica da IES    271316 non-null  object\n",
            " 19  UF do Local de Oferta           271316 non-null  object\n",
            " 20  Nome do curso                   271316 non-null  object\n",
            " 21  Turno                           271316 non-null  object\n",
            " 22  Média nota Enem                 271316 non-null  object\n",
            " 23  Ano do Enem                     271316 non-null  int64 \n",
            " 24  Redação                         271316 non-null  int64 \n",
            " 25  Matemática e suas Tecnologias   271316 non-null  object\n",
            " 26  Linguagens, Códigos e suas Tec  271316 non-null  object\n",
            " 27  Ciências Natureza e suas Tec    271316 non-null  object\n",
            " 28  Ciências Humanas e suas Tec     271316 non-null  object\n",
            " 29  Situação Inscrição Fies         271316 non-null  object\n",
            "dtypes: int64(6), object(24)\n",
            "memory usage: 64.2+ MB\n"
          ]
        }
      ],
      "source": [
        "fies2019.info()"
      ]
    },
    {
      "cell_type": "markdown",
      "metadata": {
        "id": "r7u3v96rYZ6d"
      },
      "source": [
        "### Avaliando Ano do Enem"
      ]
    },
    {
      "cell_type": "markdown",
      "metadata": {
        "id": "V9nvlWO4YZ6d"
      },
      "source": [
        "Assim como o campo do ano de conclusão do ensino médio, para este campo também espera-se um conjunto de valores distintos entre si"
      ]
    },
    {
      "cell_type": "code",
      "execution_count": 32,
      "metadata": {
        "colab": {
          "base_uri": "https://localhost:8080/"
        },
        "id": "uHYb2z6aYZ6e",
        "outputId": "0333c226-2782-4348-e9de-bbfe82884614"
      },
      "outputs": [
        {
          "data": {
            "text/plain": [
              "array([2019, 2018, 2013, 2016, 2015, 2010, 2020, 2017, 2014, 2012, 2011])"
            ]
          },
          "execution_count": 32,
          "metadata": {},
          "output_type": "execute_result"
        }
      ],
      "source": [
        "fies2019['Ano do Enem'].unique()"
      ]
    },
    {
      "cell_type": "markdown",
      "metadata": {
        "id": "LG0cpgNwYZ6e"
      },
      "source": [
        "Olhando distribuição dos dados..."
      ]
    },
    {
      "cell_type": "code",
      "execution_count": 33,
      "metadata": {
        "colab": {
          "base_uri": "https://localhost:8080/"
        },
        "id": "FoBfZ98-YZ6f",
        "outputId": "951114af-fb53-4af7-8039-f941ce914a5e"
      },
      "outputs": [
        {
          "data": {
            "text/plain": [
              "1    140345\n",
              "2     80559\n",
              "3     50412\n",
              "Name: Opções de cursos da inscrição, dtype: int64"
            ]
          },
          "execution_count": 33,
          "metadata": {},
          "output_type": "execute_result"
        }
      ],
      "source": [
        "fies2019['Opções de cursos da inscrição'].value_counts()"
      ]
    },
    {
      "cell_type": "markdown",
      "metadata": {
        "id": "625nt1sFYZ6f"
      },
      "source": [
        "Este campo esta coerente, de forma que mais tratamentos não são necessários"
      ]
    },
    {
      "cell_type": "markdown",
      "metadata": {
        "id": "gG9RgkVKYZ6f"
      },
      "source": [
        "### Avaliando Redação"
      ]
    },
    {
      "cell_type": "markdown",
      "metadata": {
        "id": "XLBUTL76YZ6g"
      },
      "source": [
        "Para este, espera-se uma grande variedade de valores inteiros, o que será avaliado pelo comando \"unique\""
      ]
    },
    {
      "cell_type": "code",
      "execution_count": 34,
      "metadata": {
        "colab": {
          "base_uri": "https://localhost:8080/"
        },
        "id": "gHGmniDhYZ6g",
        "outputId": "2fb8d53f-aed8-4454-f865-47df611226cb"
      },
      "outputs": [
        {
          "data": {
            "text/plain": [
              "array([ 540,  700,  480,  640,  740,  720,  600,  520,  440,  560,  660,\n",
              "        380,  260,  840,  800,  500,  460,  620,  580,  820,  280,  780,\n",
              "        920,  880,  760,  360,  680,  775,  420,  300,  400,  340,  450,\n",
              "        940,  320,  650,  860,  900,  960,  725,  525,  980, 1000,  750,\n",
              "        625,  675,  550,  875,  575,  475,  850,  925,  616,  250,  240,\n",
              "        825,  425,  200,  950,  533,  808,  375,  180,  817,  220,  350,\n",
              "        325,  591,  140,  708,  566,  975,  583,  833,  709,  683,  402,\n",
              "        160,  792])"
            ]
          },
          "execution_count": 34,
          "metadata": {},
          "output_type": "execute_result"
        }
      ],
      "source": [
        "fies2019['Redação'].unique()"
      ]
    },
    {
      "cell_type": "markdown",
      "metadata": {
        "id": "Kt3F35uZYZ6h"
      },
      "source": [
        "Olhando distribuição dos dados..."
      ]
    },
    {
      "cell_type": "code",
      "execution_count": 35,
      "metadata": {
        "colab": {
          "base_uri": "https://localhost:8080/"
        },
        "id": "vAIDE8-QYZ6h",
        "outputId": "ad36184c-1bf3-4760-9970-d7498458f4f6"
      },
      "outputs": [
        {
          "data": {
            "text/plain": [
              "560    21828\n",
              "600    20426\n",
              "520    17623\n",
              "580    16951\n",
              "540    15963\n",
              "       ...  \n",
              "402        2\n",
              "533        2\n",
              "792        2\n",
              "708        1\n",
              "583        1\n",
              "Name: Redação, Length: 79, dtype: int64"
            ]
          },
          "execution_count": 35,
          "metadata": {},
          "output_type": "execute_result"
        }
      ],
      "source": [
        "fies2019['Redação'].value_counts()"
      ]
    },
    {
      "cell_type": "markdown",
      "metadata": {
        "id": "4qWE-OwnYZ6h"
      },
      "source": [
        "Este campo esta coerente, de forma que mais tratamentos não são necessários\n",
        "\n"
      ]
    },
    {
      "cell_type": "markdown",
      "metadata": {
        "id": "yXrvMTfLYZ6i"
      },
      "source": [
        "## Analisando colunas de variaveis do tipo object (de acordo com o dataframe inicial)\n",
        "\n"
      ]
    },
    {
      "cell_type": "markdown",
      "metadata": {
        "id": "Z7GvY6sJYZ6i"
      },
      "source": [
        "### Analisando Sexo"
      ]
    },
    {
      "cell_type": "markdown",
      "metadata": {
        "id": "LQS6nrG-f5Rb"
      },
      "source": [
        "Primeiramente são avaliados os tipos de valores diferentes informados para este campo, por meio do comando \"unique\""
      ]
    },
    {
      "cell_type": "code",
      "execution_count": 36,
      "metadata": {
        "colab": {
          "base_uri": "https://localhost:8080/"
        },
        "id": "eQMPjVWOYZ6i",
        "outputId": "ee04a9c8-efe2-4606-ac95-45b1e82d85b5"
      },
      "outputs": [
        {
          "data": {
            "text/plain": [
              "array(['M', 'F'], dtype=object)"
            ]
          },
          "execution_count": 36,
          "metadata": {},
          "output_type": "execute_result"
        }
      ],
      "source": [
        "fies2019['Sexo'].unique()"
      ]
    },
    {
      "cell_type": "markdown",
      "metadata": {
        "id": "bqcHeChLf9Wy"
      },
      "source": [
        "Para visualizar a distribuição destes valores, o comando \"value_counts\" foi utilizado"
      ]
    },
    {
      "cell_type": "code",
      "execution_count": 37,
      "metadata": {
        "colab": {
          "base_uri": "https://localhost:8080/"
        },
        "id": "XuEgfSWFYZ6i",
        "outputId": "c6af2e0b-e3f1-4a29-8224-1d693bae21da"
      },
      "outputs": [
        {
          "data": {
            "text/plain": [
              "F    173617\n",
              "M     97699\n",
              "Name: Sexo, dtype: int64"
            ]
          },
          "execution_count": 37,
          "metadata": {},
          "output_type": "execute_result"
        }
      ],
      "source": [
        "fies2019['Sexo'].value_counts()"
      ]
    },
    {
      "cell_type": "markdown",
      "metadata": {
        "id": "_ZTISUYKckf9"
      },
      "source": [
        "Este campo está coerente, de forma que mais tratamentos não são necessários"
      ]
    },
    {
      "cell_type": "markdown",
      "metadata": {
        "id": "ni5Y-oMmYZ6j"
      },
      "source": [
        "### Analisando Data de Nascimento"
      ]
    },
    {
      "cell_type": "markdown",
      "metadata": {
        "id": "EMgfOo80YZ6k"
      },
      "source": [
        "Não se conhece o tipo da coluna da data de nascimento, mas sabe-se que é um objeto. Para realizar a manipulação destes dados corrretamente é preciso que esteja em um tipo utilizado para data, sendo assim, checa-se qual o tipo de um dos valores presentes na coluna."
      ]
    },
    {
      "cell_type": "code",
      "execution_count": 38,
      "metadata": {
        "colab": {
          "base_uri": "https://localhost:8080/"
        },
        "id": "IaIht7r1YZ6k",
        "outputId": "49c08a74-f8a1-4c64-e954-1707b2f0928a"
      },
      "outputs": [
        {
          "data": {
            "text/plain": [
              "pandas.core.series.Series"
            ]
          },
          "execution_count": 38,
          "metadata": {},
          "output_type": "execute_result"
        }
      ],
      "source": [
        "type(fies2019['Data de Nascimento'])"
      ]
    },
    {
      "cell_type": "markdown",
      "metadata": {
        "id": "QE4LEGOjYZ6k"
      },
      "source": [
        "Observa-se que a data é do tipo 'str'. Para facilitar a manipulação das datas, pode-se converter os dados utilizando a função \"to_datetime\"."
      ]
    },
    {
      "cell_type": "code",
      "execution_count": 39,
      "metadata": {
        "id": "xEqoxiFsYZ6k"
      },
      "outputs": [],
      "source": [
        "fies2019['Data de Nascimento'] = pd.to_datetime(fies2019['Data de Nascimento'], format='%d/%m/%y')"
      ]
    },
    {
      "cell_type": "markdown",
      "metadata": {
        "id": "hKDHGET1jzzY"
      },
      "source": [
        "São avaliados os tipos de valores diferentes informados para este campo, por meio do comando \"unique\""
      ]
    },
    {
      "cell_type": "code",
      "execution_count": 40,
      "metadata": {
        "colab": {
          "base_uri": "https://localhost:8080/"
        },
        "id": "T9PQXHMOjvWS",
        "outputId": "8723f65e-6bc0-450d-e3b9-06cf8fb1485b"
      },
      "outputs": [
        {
          "data": {
            "text/plain": [
              "array(['1988-12-30T00:00:00.000000000', '1994-12-11T00:00:00.000000000',\n",
              "       '1990-11-21T00:00:00.000000000', ...,\n",
              "       '1980-02-02T00:00:00.000000000', '1972-03-03T00:00:00.000000000',\n",
              "       '1981-03-27T00:00:00.000000000'], dtype='datetime64[ns]')"
            ]
          },
          "execution_count": 40,
          "metadata": {},
          "output_type": "execute_result"
        }
      ],
      "source": [
        "fies2019['Data de Nascimento'].unique()"
      ]
    },
    {
      "cell_type": "markdown",
      "metadata": {
        "id": "fT73ukHGj8R8"
      },
      "source": [
        "Para visualizar a distribuição destes valores, o comando \"value_counts\" foi utilizado"
      ]
    },
    {
      "cell_type": "code",
      "execution_count": 41,
      "metadata": {
        "colab": {
          "base_uri": "https://localhost:8080/"
        },
        "id": "_BV3UMDHYZ6l",
        "outputId": "4364f9c3-526c-4a29-b6a7-9b6e4faa38e1"
      },
      "outputs": [
        {
          "data": {
            "text/plain": [
              "2000-10-16    181\n",
              "2000-03-02    173\n",
              "2000-02-25    157\n",
              "2000-09-13    156\n",
              "2000-05-30    155\n",
              "             ... \n",
              "2061-02-17      1\n",
              "1978-01-19      1\n",
              "2068-02-06      1\n",
              "1975-04-29      1\n",
              "1981-03-27      1\n",
              "Name: Data de Nascimento, Length: 11520, dtype: int64"
            ]
          },
          "execution_count": 41,
          "metadata": {},
          "output_type": "execute_result"
        }
      ],
      "source": [
        "fies2019['Data de Nascimento'].value_counts()"
      ]
    },
    {
      "cell_type": "markdown",
      "metadata": {
        "id": "NOgmTY7tkAB4"
      },
      "source": [
        "Este campo está coerente, de forma que mais tratamentos não são necessários."
      ]
    },
    {
      "cell_type": "markdown",
      "metadata": {
        "id": "iyl_LtUKYZ6l"
      },
      "source": [
        "### Analisando UF de residência"
      ]
    },
    {
      "cell_type": "markdown",
      "metadata": {
        "id": "uP_SypJ2gFCq"
      },
      "source": [
        "Primeiramente são avaliados os tipos de valores diferentes informados para este campo, por meio do comando \"unique\""
      ]
    },
    {
      "cell_type": "code",
      "execution_count": 42,
      "metadata": {
        "colab": {
          "base_uri": "https://localhost:8080/"
        },
        "id": "dTjGGZBvgOMr",
        "outputId": "c2e357ce-5f4a-46a3-b2e1-e5e1dfa54293"
      },
      "outputs": [
        {
          "data": {
            "text/plain": [
              "array(['PR', 'RS', 'SC', 'SP', 'MG', 'TO', 'MA', 'PB', 'MT', 'RO', 'MS',\n",
              "       'PA', 'PI', 'GO', 'CE', 'RJ', 'ES', 'AP', 'AM', 'AC', 'SE', 'PE',\n",
              "       'BA', 'AL', 'RN', 'DF', 'RR', nan], dtype=object)"
            ]
          },
          "execution_count": 42,
          "metadata": {},
          "output_type": "execute_result"
        }
      ],
      "source": [
        "fies2019['UF de residência'].unique()"
      ]
    },
    {
      "cell_type": "markdown",
      "metadata": {
        "id": "igNBHnlIhEWT"
      },
      "source": [
        "Nota-se que existem valores nulos, devido à presença do 'nan' no retorno. Podemos obter a quantidade de valores nulos"
      ]
    },
    {
      "cell_type": "code",
      "execution_count": 43,
      "metadata": {
        "colab": {
          "base_uri": "https://localhost:8080/"
        },
        "id": "XrSckeSugYha",
        "outputId": "3691a9b5-bfbe-46c6-9a72-a4a3a507abd4"
      },
      "outputs": [
        {
          "data": {
            "text/plain": [
              "9"
            ]
          },
          "execution_count": 43,
          "metadata": {},
          "output_type": "execute_result"
        }
      ],
      "source": [
        "pd.isnull(fies2019['UF de residência']).sum()"
      ]
    },
    {
      "cell_type": "markdown",
      "metadata": {
        "id": "s-WTEcqghfhS"
      },
      "source": [
        "Por ser um valor relativamente pequeno, podemos retirar essas linhas da tabela"
      ]
    },
    {
      "cell_type": "code",
      "execution_count": 44,
      "metadata": {
        "id": "DgBEKfcIhevC"
      },
      "outputs": [],
      "source": [
        "fies2019 = fies2019.dropna(subset=[\"UF de residência\"])"
      ]
    },
    {
      "cell_type": "markdown",
      "metadata": {
        "id": "cqD4lLR6hxU-"
      },
      "source": [
        "Utiliza-se o comando \"unique()\" para verificar se ainda existem valores nulos"
      ]
    },
    {
      "cell_type": "code",
      "execution_count": 45,
      "metadata": {
        "colab": {
          "base_uri": "https://localhost:8080/"
        },
        "id": "5F0KrOQ1h7oJ",
        "outputId": "764defb3-8e2a-4475-c372-22a8dda2603c"
      },
      "outputs": [
        {
          "data": {
            "text/plain": [
              "array(['PR', 'RS', 'SC', 'SP', 'MG', 'TO', 'MA', 'PB', 'MT', 'RO', 'MS',\n",
              "       'PA', 'PI', 'GO', 'CE', 'RJ', 'ES', 'AP', 'AM', 'AC', 'SE', 'PE',\n",
              "       'BA', 'AL', 'RN', 'DF', 'RR'], dtype=object)"
            ]
          },
          "execution_count": 45,
          "metadata": {},
          "output_type": "execute_result"
        }
      ],
      "source": [
        "fies2019['UF de residência'].unique()"
      ]
    },
    {
      "cell_type": "markdown",
      "metadata": {
        "id": "7C146FD4gIFc"
      },
      "source": [
        "Como não existem mais valores nulos, este campo agora está coerente, de forma que mais tratamentos não são necessários."
      ]
    },
    {
      "cell_type": "markdown",
      "metadata": {
        "id": "RjWzWUWtYZ6l"
      },
      "source": [
        "### Analisando Etnia/Cor"
      ]
    },
    {
      "cell_type": "markdown",
      "metadata": {
        "id": "MMjYUrzsgCGD"
      },
      "source": [
        "Primeiramente são avaliados os tipos de valores diferentes informados para este campo, por meio do comando \"unique\""
      ]
    },
    {
      "cell_type": "code",
      "execution_count": 46,
      "metadata": {
        "colab": {
          "base_uri": "https://localhost:8080/"
        },
        "id": "qiSrLQfpYZ6l",
        "outputId": "1dea2422-649c-40ba-cd54-7161c1d53d47"
      },
      "outputs": [
        {
          "data": {
            "text/plain": [
              "array(['PARDA', 'BRANCA', 'PRETA', 'INDÍGENA', 'AMARELA'], dtype=object)"
            ]
          },
          "execution_count": 46,
          "metadata": {},
          "output_type": "execute_result"
        }
      ],
      "source": [
        "fies2019['Etnia/Cor'].unique()"
      ]
    },
    {
      "cell_type": "markdown",
      "metadata": {
        "id": "5_kYIvcQiHj6"
      },
      "source": [
        "Para visualizar a distribuição destes valores, o comando \"value_counts\" foi utilizado"
      ]
    },
    {
      "cell_type": "code",
      "execution_count": 47,
      "metadata": {
        "colab": {
          "base_uri": "https://localhost:8080/"
        },
        "id": "S8bOrwpaYZ6m",
        "outputId": "85df921e-44c8-44d0-8789-ec69ce9302cf"
      },
      "outputs": [
        {
          "data": {
            "text/plain": [
              "PARDA       135415\n",
              "BRANCA       95167\n",
              "PRETA        33636\n",
              "AMARELA       6326\n",
              "INDÍGENA       763\n",
              "Name: Etnia/Cor, dtype: int64"
            ]
          },
          "execution_count": 47,
          "metadata": {},
          "output_type": "execute_result"
        }
      ],
      "source": [
        "fies2019['Etnia/Cor'].value_counts()"
      ]
    },
    {
      "cell_type": "markdown",
      "metadata": {
        "id": "Zltm1iimcq6E"
      },
      "source": [
        "Este campo está coerente, de forma que mais tratamentos não são necessários"
      ]
    },
    {
      "cell_type": "markdown",
      "metadata": {
        "id": "2aR7Gq-8YZ6m"
      },
      "source": [
        "### Analisando Pessoa Com Deficiência?"
      ]
    },
    {
      "cell_type": "markdown",
      "metadata": {
        "id": "s8CYhIKuiMxZ"
      },
      "source": [
        "Primeiramente são avaliados os tipos de valores diferentes informados para este campo, por meio do comando \"unique\""
      ]
    },
    {
      "cell_type": "code",
      "execution_count": 48,
      "metadata": {
        "colab": {
          "base_uri": "https://localhost:8080/"
        },
        "id": "a3jjMP6mYZ6m",
        "outputId": "c7f52d07-83f9-40b5-ce0c-17a448d10186"
      },
      "outputs": [
        {
          "data": {
            "text/plain": [
              "array(['NÃO', 'SIM'], dtype=object)"
            ]
          },
          "execution_count": 48,
          "metadata": {},
          "output_type": "execute_result"
        }
      ],
      "source": [
        "fies2019['Pessoa com deficiência?'].unique()"
      ]
    },
    {
      "cell_type": "markdown",
      "metadata": {
        "id": "g-IF9zemiPDx"
      },
      "source": [
        "Para visualizar a distribuição destes valores, o comando \"value_counts\" foi utilizado"
      ]
    },
    {
      "cell_type": "code",
      "execution_count": 49,
      "metadata": {
        "colab": {
          "base_uri": "https://localhost:8080/"
        },
        "id": "k-_B6tfEYZ6n",
        "outputId": "ab9b3ad5-5d36-43d9-bfb0-fac6f0f82ba6"
      },
      "outputs": [
        {
          "data": {
            "text/plain": [
              "NÃO    268977\n",
              "SIM      2330\n",
              "Name: Pessoa com deficiência?, dtype: int64"
            ]
          },
          "execution_count": 49,
          "metadata": {},
          "output_type": "execute_result"
        }
      ],
      "source": [
        "fies2019['Pessoa com deficiência?'].value_counts()"
      ]
    },
    {
      "cell_type": "markdown",
      "metadata": {
        "id": "zQD4LggkcsDE"
      },
      "source": [
        "Este campo está coerente, de forma que mais tratamentos não são necessários"
      ]
    },
    {
      "cell_type": "markdown",
      "metadata": {
        "id": "u4a7cxXTYZ6n"
      },
      "source": [
        "### Analisando Concluiu curso superior?"
      ]
    },
    {
      "cell_type": "markdown",
      "metadata": {
        "id": "ZJPJ0CSLiQuR"
      },
      "source": [
        "Primeiramente são avaliados os tipos de valores diferentes informados para este campo, por meio do comando \"unique\""
      ]
    },
    {
      "cell_type": "code",
      "execution_count": 50,
      "metadata": {
        "colab": {
          "base_uri": "https://localhost:8080/"
        },
        "id": "Otj9MKE_YZ6o",
        "outputId": "4b548723-72d9-4fb5-89ed-10d5e25afc48"
      },
      "outputs": [
        {
          "data": {
            "text/plain": [
              "array(['NÃO', 'SIM'], dtype=object)"
            ]
          },
          "execution_count": 50,
          "metadata": {},
          "output_type": "execute_result"
        }
      ],
      "source": [
        "fies2019['Pessoa com deficiência?'].unique()"
      ]
    },
    {
      "cell_type": "markdown",
      "metadata": {
        "id": "LeimJ1ZIiTdr"
      },
      "source": [
        "Para visualizar a distribuição destes valores, o comando \"value_counts\" foi utilizado"
      ]
    },
    {
      "cell_type": "code",
      "execution_count": 51,
      "metadata": {
        "colab": {
          "base_uri": "https://localhost:8080/"
        },
        "id": "i2ACIx5aYZ6o",
        "outputId": "e4a89974-f911-4d7e-d9d2-c84635b0bbb1"
      },
      "outputs": [
        {
          "data": {
            "text/plain": [
              "NÃO    268977\n",
              "SIM      2330\n",
              "Name: Pessoa com deficiência?, dtype: int64"
            ]
          },
          "execution_count": 51,
          "metadata": {},
          "output_type": "execute_result"
        }
      ],
      "source": [
        "fies2019['Pessoa com deficiência?'].value_counts()"
      ]
    },
    {
      "cell_type": "markdown",
      "metadata": {
        "id": "b2FrjCgmctJU"
      },
      "source": [
        "Este campo está coerente, de forma que mais tratamentos não são necessários"
      ]
    },
    {
      "cell_type": "markdown",
      "metadata": {
        "id": "3gm4-Fw_YZ6o"
      },
      "source": [
        "### Analisando Renda familiar mensal bruta"
      ]
    },
    {
      "cell_type": "markdown",
      "metadata": {
        "id": "bz6y3BhaYZ6p"
      },
      "source": [
        "Este campo está armazenado no dataframe como um objeto. Todavia, este campo deve possuir valor real, no caso, float. \n",
        "\n",
        "Para a análise não ser prejudicada por valores nulos, estes foram removidos da tabela."
      ]
    },
    {
      "cell_type": "code",
      "execution_count": 52,
      "metadata": {
        "id": "4JlGRRNFYZ6p"
      },
      "outputs": [],
      "source": [
        "fies2019 = fies2019.dropna(subset=[\"Renda familiar mensal bruta\"])"
      ]
    },
    {
      "cell_type": "markdown",
      "metadata": {
        "id": "vgCnIUVbYZ6q"
      },
      "source": [
        "Ao observar os valores por meio do value_counts, pode-se perceber que estes foram considerados como string pois foram armazenados com vírgulas, quando, na verdade, para serem reconhecidos como numéricos, deveriam ser armazenados com pontos."
      ]
    },
    {
      "cell_type": "code",
      "execution_count": 53,
      "metadata": {
        "colab": {
          "base_uri": "https://localhost:8080/"
        },
        "id": "48N6bv5FYZ6q",
        "outputId": "7c5b99a6-27c0-4c10-8ecc-1b428b23aecb"
      },
      "outputs": [
        {
          "data": {
            "text/plain": [
              "499        9933\n",
              "500        6931\n",
              "332,67     6080\n",
              "1000       4972\n",
              "249,5      3770\n",
              "           ... \n",
              "1643,23       1\n",
              "518,07        1\n",
              "1046,33       1\n",
              "1926,03       1\n",
              "1643,04       1\n",
              "Name: Renda mensal bruta per capita, Length: 33845, dtype: int64"
            ]
          },
          "execution_count": 53,
          "metadata": {},
          "output_type": "execute_result"
        }
      ],
      "source": [
        "fies2019['Renda mensal bruta per capita'].value_counts()"
      ]
    },
    {
      "cell_type": "markdown",
      "metadata": {
        "id": "Iqt2xGMEYZ6q"
      },
      "source": [
        "Sendo assim, foi necessária a substituição das vírgulas por pontos para a coluna em questão do dataset"
      ]
    },
    {
      "cell_type": "code",
      "execution_count": 54,
      "metadata": {
        "colab": {
          "base_uri": "https://localhost:8080/"
        },
        "id": "SKSINkwRYZ6q",
        "outputId": "99188053-94ec-4804-8a7e-67fe1dad5cf8"
      },
      "outputs": [],
      "source": [
        "fies2019['Renda familiar mensal bruta'] = fies2019['Renda familiar mensal bruta'].str.replace(',', '.')"
      ]
    },
    {
      "cell_type": "markdown",
      "metadata": {
        "id": "EiUU8KEaYZ6r"
      },
      "source": [
        "Uma vez que as vírgulas foram removidas, é possível atualizar a coluna em questão para esta receber um valor numérico"
      ]
    },
    {
      "cell_type": "code",
      "execution_count": 55,
      "metadata": {
        "id": "WAnLiRLBYZ6r"
      },
      "outputs": [],
      "source": [
        "fies2019['Renda familiar mensal bruta'] = pd.to_numeric(fies2019['Renda familiar mensal bruta'])"
      ]
    },
    {
      "cell_type": "code",
      "execution_count": 56,
      "metadata": {
        "colab": {
          "base_uri": "https://localhost:8080/"
        },
        "id": "-_XANaikYZ6r",
        "outputId": "a5537243-767a-4bfe-cb1d-eb069e0c1187"
      },
      "outputs": [
        {
          "data": {
            "text/plain": [
              "0         6200.00\n",
              "1         2609.94\n",
              "2         1600.00\n",
              "3         2700.00\n",
              "4         2000.00\n",
              "           ...   \n",
              "271851    1000.00\n",
              "271852    2980.00\n",
              "271853    2980.00\n",
              "271854    2426.76\n",
              "271855    1996.00\n",
              "Name: Renda familiar mensal bruta, Length: 232432, dtype: float64"
            ]
          },
          "execution_count": 56,
          "metadata": {},
          "output_type": "execute_result"
        }
      ],
      "source": [
        "fies2019['Renda familiar mensal bruta']"
      ]
    },
    {
      "cell_type": "markdown",
      "metadata": {
        "id": "QdEit7pwYZ6r"
      },
      "source": [
        "Ao observar a organização do dataframe por meio do comando \"info\", pode-se perceber que este campo agora é reconhecido como float"
      ]
    },
    {
      "cell_type": "code",
      "execution_count": 57,
      "metadata": {
        "colab": {
          "base_uri": "https://localhost:8080/"
        },
        "id": "lOOATjPOYZ6s",
        "outputId": "217a78a3-d55e-48a1-cdbe-3bd2ac1f9087"
      },
      "outputs": [
        {
          "name": "stdout",
          "output_type": "stream",
          "text": [
            "<class 'pandas.core.frame.DataFrame'>\n",
            "Int64Index: 232432 entries, 0 to 271855\n",
            "Data columns (total 30 columns):\n",
            " #   Column                          Non-Null Count   Dtype         \n",
            "---  ------                          --------------   -----         \n",
            " 0   ID do estudante                 232432 non-null  int64         \n",
            " 1   Sexo                            232432 non-null  object        \n",
            " 2   Data de Nascimento              232432 non-null  datetime64[ns]\n",
            " 3   UF de residência                232432 non-null  object        \n",
            " 4   Etnia/Cor                       232432 non-null  object        \n",
            " 5   Pessoa com deficiência?         232432 non-null  object        \n",
            " 6   Ano conclusão ensino médio      232432 non-null  int64         \n",
            " 7   Concluiu curso superior?        232432 non-null  object        \n",
            " 8   Nº de membros Grupo Familiar    232432 non-null  int64         \n",
            " 9   Renda familiar mensal bruta     232432 non-null  float64       \n",
            " 10  Renda mensal bruta per capita   232432 non-null  object        \n",
            " 11  UF                              232432 non-null  object        \n",
            " 12  Área do conhecimento            232432 non-null  object        \n",
            " 13  Subárea do conhecimento         232432 non-null  object        \n",
            " 14  Opções de cursos da inscrição   232432 non-null  int64         \n",
            " 15  Nome mantenedora                232432 non-null  object        \n",
            " 16  Natureza Jurídica Mantenedora   232432 non-null  object        \n",
            " 17  Nome da IES                     232432 non-null  object        \n",
            " 18  Organização Acadêmica da IES    232432 non-null  object        \n",
            " 19  UF do Local de Oferta           232432 non-null  object        \n",
            " 20  Nome do curso                   232432 non-null  object        \n",
            " 21  Turno                           232432 non-null  object        \n",
            " 22  Média nota Enem                 232432 non-null  object        \n",
            " 23  Ano do Enem                     232432 non-null  int64         \n",
            " 24  Redação                         232432 non-null  int64         \n",
            " 25  Matemática e suas Tecnologias   232432 non-null  object        \n",
            " 26  Linguagens, Códigos e suas Tec  232432 non-null  object        \n",
            " 27  Ciências Natureza e suas Tec    232432 non-null  object        \n",
            " 28  Ciências Humanas e suas Tec     232432 non-null  object        \n",
            " 29  Situação Inscrição Fies         232432 non-null  object        \n",
            "dtypes: datetime64[ns](1), float64(1), int64(6), object(22)\n",
            "memory usage: 55.0+ MB\n"
          ]
        }
      ],
      "source": [
        "fies2019.info()"
      ]
    },
    {
      "cell_type": "markdown",
      "metadata": {
        "id": "oLbL1TggYZ6s"
      },
      "source": [
        "### Analisando Renda mensal bruta per capita"
      ]
    },
    {
      "cell_type": "markdown",
      "metadata": {
        "id": "G4XWoQMvYZ6t"
      },
      "source": [
        "Este campo está armazenado no dataframe como um objeto. Todavia, este campo deve possuir valor real, no caso, float. \n",
        "\n",
        "Para a análise não ser prejudicada por valores nulos, estes foram removidos da tabela."
      ]
    },
    {
      "cell_type": "code",
      "execution_count": 58,
      "metadata": {
        "id": "IUnDCtM3YZ6t"
      },
      "outputs": [],
      "source": [
        "fies2019 = fies2019.dropna(subset=[\"Renda mensal bruta per capita\"])"
      ]
    },
    {
      "cell_type": "markdown",
      "metadata": {
        "id": "iyIyKktVYZ6t"
      },
      "source": [
        "Ao observar os valores por meio do value_counts, pode-se perceber que estes foram considerados como string pois foram armazenados com vírgulas, quando, na verdade, para serem reconhecidos como numéricos, deveriam ser armazenados com pontos."
      ]
    },
    {
      "cell_type": "code",
      "execution_count": 59,
      "metadata": {
        "colab": {
          "base_uri": "https://localhost:8080/"
        },
        "id": "57zhjni8YZ6u",
        "outputId": "3a0e991a-b1ac-4e4c-df20-eb20c47f5b27"
      },
      "outputs": [
        {
          "data": {
            "text/plain": [
              "499        9933\n",
              "500        6931\n",
              "332,67     6080\n",
              "1000       4972\n",
              "249,5      3770\n",
              "           ... \n",
              "1643,23       1\n",
              "518,07        1\n",
              "1046,33       1\n",
              "1926,03       1\n",
              "1643,04       1\n",
              "Name: Renda mensal bruta per capita, Length: 33845, dtype: int64"
            ]
          },
          "execution_count": 59,
          "metadata": {},
          "output_type": "execute_result"
        }
      ],
      "source": [
        "fies2019['Renda mensal bruta per capita'].value_counts()"
      ]
    },
    {
      "cell_type": "markdown",
      "metadata": {
        "id": "zr2lbqWbYZ6u"
      },
      "source": [
        "Sendo assim, foi necessária a substituição das vírgulas por pontos para a coluna em questão do dataset"
      ]
    },
    {
      "cell_type": "code",
      "execution_count": 60,
      "metadata": {
        "id": "xB7Bik1hYZ6v"
      },
      "outputs": [],
      "source": [
        "fies2019['Renda mensal bruta per capita'] = fies2019['Renda mensal bruta per capita'].str.replace(',','.')"
      ]
    },
    {
      "cell_type": "markdown",
      "metadata": {
        "id": "-53sgXQ4YZ6v"
      },
      "source": [
        "Uma vez que as vírgulas foram removidas, é possível atualizar a coluna em questão para esta receber um valor numérico"
      ]
    },
    {
      "cell_type": "code",
      "execution_count": 61,
      "metadata": {
        "id": "Ct3GO8Y4YZ6v"
      },
      "outputs": [],
      "source": [
        "fies2019['Renda mensal bruta per capita'] = pd.to_numeric(fies2019['Renda mensal bruta per capita'])"
      ]
    },
    {
      "cell_type": "code",
      "execution_count": 62,
      "metadata": {
        "colab": {
          "base_uri": "https://localhost:8080/"
        },
        "id": "f2TzUzU7YZ6w",
        "outputId": "f0f2fd59-427c-4329-b5da-307e858d41cb"
      },
      "outputs": [
        {
          "data": {
            "text/plain": [
              "0         2066.67\n",
              "1          652.49\n",
              "2          533.33\n",
              "3         1350.00\n",
              "4          500.00\n",
              "           ...   \n",
              "271851     333.33\n",
              "271852     993.33\n",
              "271853     993.33\n",
              "271854     606.69\n",
              "271855     665.33\n",
              "Name: Renda mensal bruta per capita, Length: 232432, dtype: float64"
            ]
          },
          "execution_count": 62,
          "metadata": {},
          "output_type": "execute_result"
        }
      ],
      "source": [
        "fies2019['Renda mensal bruta per capita']"
      ]
    },
    {
      "cell_type": "code",
      "execution_count": 63,
      "metadata": {
        "colab": {
          "base_uri": "https://localhost:8080/"
        },
        "id": "eRcildTkYZ6w",
        "outputId": "26482c73-3fc9-4dfb-b8df-3b3a4124c6f2"
      },
      "outputs": [
        {
          "data": {
            "text/plain": [
              "499.00     9933\n",
              "500.00     6931\n",
              "332.67     6080\n",
              "1000.00    4972\n",
              "249.50     3770\n",
              "           ... \n",
              "1643.23       1\n",
              "518.07        1\n",
              "1046.33       1\n",
              "1926.03       1\n",
              "1643.04       1\n",
              "Name: Renda mensal bruta per capita, Length: 33845, dtype: int64"
            ]
          },
          "execution_count": 63,
          "metadata": {},
          "output_type": "execute_result"
        }
      ],
      "source": [
        "fies2019['Renda mensal bruta per capita'].value_counts()"
      ]
    },
    {
      "cell_type": "markdown",
      "metadata": {
        "id": "NxraW6lnYZ6w"
      },
      "source": [
        "Ao observar a organização do dataframe por meio do comando \"info\", pode-se perceber que este campo agora é reconhecido como float"
      ]
    },
    {
      "cell_type": "code",
      "execution_count": 64,
      "metadata": {
        "colab": {
          "base_uri": "https://localhost:8080/"
        },
        "id": "XsRYmqvEYZ6x",
        "outputId": "07669870-c2e9-443c-a102-aa25aec939f1"
      },
      "outputs": [
        {
          "name": "stdout",
          "output_type": "stream",
          "text": [
            "<class 'pandas.core.frame.DataFrame'>\n",
            "Int64Index: 232432 entries, 0 to 271855\n",
            "Data columns (total 30 columns):\n",
            " #   Column                          Non-Null Count   Dtype         \n",
            "---  ------                          --------------   -----         \n",
            " 0   ID do estudante                 232432 non-null  int64         \n",
            " 1   Sexo                            232432 non-null  object        \n",
            " 2   Data de Nascimento              232432 non-null  datetime64[ns]\n",
            " 3   UF de residência                232432 non-null  object        \n",
            " 4   Etnia/Cor                       232432 non-null  object        \n",
            " 5   Pessoa com deficiência?         232432 non-null  object        \n",
            " 6   Ano conclusão ensino médio      232432 non-null  int64         \n",
            " 7   Concluiu curso superior?        232432 non-null  object        \n",
            " 8   Nº de membros Grupo Familiar    232432 non-null  int64         \n",
            " 9   Renda familiar mensal bruta     232432 non-null  float64       \n",
            " 10  Renda mensal bruta per capita   232432 non-null  float64       \n",
            " 11  UF                              232432 non-null  object        \n",
            " 12  Área do conhecimento            232432 non-null  object        \n",
            " 13  Subárea do conhecimento         232432 non-null  object        \n",
            " 14  Opções de cursos da inscrição   232432 non-null  int64         \n",
            " 15  Nome mantenedora                232432 non-null  object        \n",
            " 16  Natureza Jurídica Mantenedora   232432 non-null  object        \n",
            " 17  Nome da IES                     232432 non-null  object        \n",
            " 18  Organização Acadêmica da IES    232432 non-null  object        \n",
            " 19  UF do Local de Oferta           232432 non-null  object        \n",
            " 20  Nome do curso                   232432 non-null  object        \n",
            " 21  Turno                           232432 non-null  object        \n",
            " 22  Média nota Enem                 232432 non-null  object        \n",
            " 23  Ano do Enem                     232432 non-null  int64         \n",
            " 24  Redação                         232432 non-null  int64         \n",
            " 25  Matemática e suas Tecnologias   232432 non-null  object        \n",
            " 26  Linguagens, Códigos e suas Tec  232432 non-null  object        \n",
            " 27  Ciências Natureza e suas Tec    232432 non-null  object        \n",
            " 28  Ciências Humanas e suas Tec     232432 non-null  object        \n",
            " 29  Situação Inscrição Fies         232432 non-null  object        \n",
            "dtypes: datetime64[ns](1), float64(2), int64(6), object(21)\n",
            "memory usage: 55.0+ MB\n"
          ]
        }
      ],
      "source": [
        "fies2019.info()"
      ]
    },
    {
      "cell_type": "markdown",
      "metadata": {
        "id": "oqBnDRedYZ6x"
      },
      "source": [
        "### Analisando UF "
      ]
    },
    {
      "cell_type": "markdown",
      "metadata": {
        "id": "u-Pij13XibB6"
      },
      "source": [
        "Primeiramente são avaliados os tipos de valores diferentes informados para este campo, por meio do comando \"unique\""
      ]
    },
    {
      "cell_type": "code",
      "execution_count": 65,
      "metadata": {
        "colab": {
          "base_uri": "https://localhost:8080/"
        },
        "id": "OTfwmcKeYZ6x",
        "outputId": "b57f7f5b-6235-4707-945b-2d562752dffc"
      },
      "outputs": [
        {
          "data": {
            "text/plain": [
              "array(['PARANÁ', 'PERNAMBUCO', 'RIO GRANDE DO SUL', 'MINAS GERAIS',\n",
              "       'SÃO PAULO', 'RIO DE JANEIRO', 'BAHIA', 'MATO GROSSO DO SUL',\n",
              "       'ESPÍRITO SANTO', 'SANTA CATARINA', 'GOIÁS', 'PARAÍBA', 'SERGIPE',\n",
              "       'ALAGOAS', 'DISTRITO FEDERAL', 'TOCANTINS', 'CEARÁ', 'AMAZONAS',\n",
              "       'RIO GRANDE DO NORTE', 'RONDÔNIA', 'PIAUÍ', 'PARÁ', 'MARANHÃO',\n",
              "       'AMAPÁ', 'MATO GROSSO', 'RORAIMA', 'ACRE'], dtype=object)"
            ]
          },
          "execution_count": 65,
          "metadata": {},
          "output_type": "execute_result"
        }
      ],
      "source": [
        "fies2019['UF'].unique()"
      ]
    },
    {
      "cell_type": "markdown",
      "metadata": {
        "id": "RnLG_E0wicih"
      },
      "source": [
        "Para visualizar a distribuição destes valores, o comando \"value_counts\" foi utilizado"
      ]
    },
    {
      "cell_type": "code",
      "execution_count": 66,
      "metadata": {
        "colab": {
          "base_uri": "https://localhost:8080/"
        },
        "id": "GHiDM0vRYZ6y",
        "outputId": "9896cc09-1e1f-4a51-8ce3-a7963ffa13ce"
      },
      "outputs": [
        {
          "data": {
            "text/plain": [
              "SÃO PAULO              32896\n",
              "MINAS GERAIS           28753\n",
              "BAHIA                  18578\n",
              "CEARÁ                  17465\n",
              "RIO DE JANEIRO         16378\n",
              "PERNAMBUCO             13043\n",
              "PARÁ                   11803\n",
              "PARAÍBA                 9515\n",
              "MARANHÃO                9367\n",
              "DISTRITO FEDERAL        8724\n",
              "PARANÁ                  8637\n",
              "GOIÁS                   7121\n",
              "RIO GRANDE DO SUL       7017\n",
              "AMAZONAS                6737\n",
              "PIAUÍ                   6718\n",
              "ALAGOAS                 3866\n",
              "RIO GRANDE DO NORTE     3801\n",
              "SERGIPE                 3109\n",
              "RONDÔNIA                3078\n",
              "ESPÍRITO SANTO          2904\n",
              "MATO GROSSO             2773\n",
              "TOCANTINS               2704\n",
              "SANTA CATARINA          2204\n",
              "AMAPÁ                   1946\n",
              "MATO GROSSO DO SUL      1666\n",
              "ACRE                    1255\n",
              "RORAIMA                  374\n",
              "Name: UF, dtype: int64"
            ]
          },
          "execution_count": 66,
          "metadata": {},
          "output_type": "execute_result"
        }
      ],
      "source": [
        "fies2019['UF'].value_counts()"
      ]
    },
    {
      "cell_type": "markdown",
      "metadata": {
        "id": "Fd49yhF1czpM"
      },
      "source": [
        "Este campo está coerente, de forma que mais tratamentos não são necessários"
      ]
    },
    {
      "cell_type": "markdown",
      "metadata": {
        "id": "hsz5H6ReYZ6y"
      },
      "source": [
        "### Analisando Área do conhecimento "
      ]
    },
    {
      "cell_type": "markdown",
      "metadata": {
        "id": "9XlxM42xieKo"
      },
      "source": [
        "Primeiramente são avaliados os tipos de valores diferentes informados para este campo, por meio do comando \"unique\""
      ]
    },
    {
      "cell_type": "code",
      "execution_count": 67,
      "metadata": {
        "colab": {
          "base_uri": "https://localhost:8080/"
        },
        "id": "s6o3RMLdYZ6y",
        "outputId": "4b0b5e94-182c-40b6-9c19-2ad94a18a5e0"
      },
      "outputs": [
        {
          "data": {
            "text/plain": [
              "array(['CURSOS NAO PRIORITARIOS',\n",
              "       'CURSOS DA ÁREA DE ENGENHARIA E CIÊNCIA DA COMPUTAÇÃO',\n",
              "       'CURSOS DA AREA DE SAUDE',\n",
              "       'CURSOS DA ÁREA DE LICENCIATURA, PEDAGOGIA E NORMAL SUPERIOR'],\n",
              "      dtype=object)"
            ]
          },
          "execution_count": 67,
          "metadata": {},
          "output_type": "execute_result"
        }
      ],
      "source": [
        "fies2019['Área do conhecimento'].unique()"
      ]
    },
    {
      "cell_type": "markdown",
      "metadata": {
        "id": "Aokdr8EkiftS"
      },
      "source": [
        "Para visualizar a distribuição destes valores, o comando \"value_counts\" foi utilizado"
      ]
    },
    {
      "cell_type": "code",
      "execution_count": 68,
      "metadata": {
        "colab": {
          "base_uri": "https://localhost:8080/"
        },
        "id": "vpsql2udYZ6z",
        "outputId": "22b880c9-67fa-4555-f159-acd16b54d05f"
      },
      "outputs": [
        {
          "data": {
            "text/plain": [
              "CURSOS DA AREA DE SAUDE                                        97798\n",
              "CURSOS NAO PRIORITARIOS                                        97337\n",
              "CURSOS DA ÁREA DE ENGENHARIA E CIÊNCIA DA COMPUTAÇÃO           26834\n",
              "CURSOS DA ÁREA DE LICENCIATURA, PEDAGOGIA E NORMAL SUPERIOR    10463\n",
              "Name: Área do conhecimento, dtype: int64"
            ]
          },
          "execution_count": 68,
          "metadata": {},
          "output_type": "execute_result"
        }
      ],
      "source": [
        "fies2019['Área do conhecimento'].value_counts()"
      ]
    },
    {
      "cell_type": "markdown",
      "metadata": {
        "id": "TdAwNf4xc1jb"
      },
      "source": [
        "Este campo está coerente, de forma que mais tratamentos não são necessários"
      ]
    },
    {
      "cell_type": "markdown",
      "metadata": {
        "id": "Rreg3O2BYZ6z"
      },
      "source": [
        "### Analisando Subárea do conhecimento"
      ]
    },
    {
      "cell_type": "markdown",
      "metadata": {
        "id": "2A9GDA7RihPA"
      },
      "source": [
        "Primeiramente são avaliados os tipos de valores diferentes informados para este campo, por meio do comando \"unique\""
      ]
    },
    {
      "cell_type": "code",
      "execution_count": 69,
      "metadata": {
        "colab": {
          "base_uri": "https://localhost:8080/"
        },
        "id": "aCakkSaKYZ6z",
        "outputId": "6c89d080-9a1f-4910-fa53-a88e60054468"
      },
      "outputs": [
        {
          "data": {
            "text/plain": [
              "array(['DIREITO, COMÉRCIO EXTERIOR, BIBLIOTECONOMIA E CURSOS RELACIONADOS',\n",
              "       'ENGENHARIA CIVIL E AMBIENTAL, ARQUITETURA E CURSOS RELACIONADOS',\n",
              "       'CIÊNCIAS SOCIAIS, POLÍTICAS, ECONÔMICAS E CONTÁBEIS, PSICOLOGIA E SECRETARIADO',\n",
              "       'MEDICINA',\n",
              "       'ODONTOLOGIA, QUIROPRAXIA, FÍSICA MÉDICA E NATUROLOGIA',\n",
              "       'ENGENHARIA ELÉTRICA, ELETRÔNICA, DA COMPUTAÇÃO E CURSOS RELACIONADOS',\n",
              "       'ENGENHARIA MECÂNICA, AERONÁUTICA, NAVAL E CURSOS RELACIONADOS',\n",
              "       'ENGENHARIA QUÍMICA, DE ALIMENTOS, DE PETRÓLEO E CURSOS RELACIONADOS',\n",
              "       'ADMINISTRAÇÃO, ADMINISTRAÇÃO PÚBLICA, GESTÃO, LOGÍSTICA, NEGÓCIOS E CURSOS RELACIONADOS',\n",
              "       'COMUNICAÇÃO SOCIAL, JORNALISMO, PUBLICIDADE, MARKETING E CURSOS RELACIONADOS',\n",
              "       'HISTÓRIA (LIC), GEOGRAFIA (LIC), EDUCAÇÃO FÍSICA (LIC) E CURSOS RELACIONADOS',\n",
              "       'ENGENHARIA DE PRODUÇÃO, DE MATERIAIS E CURSOS RELACIONADOS',\n",
              "       'MEDICINA VETERINÁRIA',\n",
              "       'COMUNICAÇÃO, DESIGN, AUDIO VISUAL E CURSOS RELACIONADOS',\n",
              "       'CIÊNCIA DA COMPUTAÇÃO E SISTEMAS DE INFORMAÇÃO E CURSOS RELACIONADOS',\n",
              "       'SERVIÇO SOCIAL, FONOAUDIOLOGIA, TERAPIA OCUPACIONAL E CURSOS RELACIONADOS',\n",
              "       'HOTELARIA E TURISMO, GASTRONOMIA E CURSOS RELACIONADOS',\n",
              "       'ARTES, CIÊNCIAS SOCIAIS E CURSOS RELACIONADOS',\n",
              "       'ENFERMAGEM, FISIOTERAPIA, FARMÁCIA, NUTRIÇÃO E CURSOS RELACIONADOS',\n",
              "       'AGRONOMIA, ZOOTECNIA, ENGENHARIA FLORESTAL E CURSOS RELACIONADOS',\n",
              "       'PEDAGOGIA',\n",
              "       'DANÇA, TEOLOGIA, MÍDIAS SOCIAIS, DESIGN DE INTERIORES E CURSOS RELACIONADOS',\n",
              "       'CIÊNCIAS BIOLÓGICAS (BEL), BIOMEDICINA, BIOTECNOLOGIA E CURSOS RELACIONADOS',\n",
              "       'ESTÉTICA E COSMÉTICA, GESTÃO DO ESPORTE E CURSOS RELACIONADOS',\n",
              "       'LETRAS - IDIOMAS, FÍSICA (LIC), QUÍMICA (LIC) E CURSOS RELACIONADOS',\n",
              "       'MÚSICA, FOTOGRAFIA, PRODUÇÃO MULTIMÍDIA E CURSOS RELACIONADOS',\n",
              "       'AGRONEGÓCIO, AGROINDÚSTRIA E CURSOS RELACIONADOS',\n",
              "       'MODA, DESENHO INDUSTRIAL, MUSEOLOGIA, CINEMA E CURSOS RELACIONADOS',\n",
              "       'CIÊNCIAS AERONÁUTICAS E CURSOS RELACIONADOS',\n",
              "       'ENGENHARIA DE SEGURANÇA DO TRABALHO, GESTÃO EM SAÚDE E CURSOS RELACIONADOS',\n",
              "       'TRADUÇÃO E INTERPRETAÇÃO, ARQUEOLOGIA, RÁDIO, TV E INTERNET E CURSOS RELACIONADOS',\n",
              "       'BIOLOGIA (LIC), MATEMÁTICA (LIC), LETRAS-PORTUGUÊS E CURSOS RELACIONADOS',\n",
              "       'FÍSICA (BEL), QUÍMICA (BEL), MATEMÁTICA (BEL), GEOGRAFIA (BEL) E CURSOS RELACIONADOS'],\n",
              "      dtype=object)"
            ]
          },
          "execution_count": 69,
          "metadata": {},
          "output_type": "execute_result"
        }
      ],
      "source": [
        "fies2019['Subárea do conhecimento'].unique()"
      ]
    },
    {
      "cell_type": "markdown",
      "metadata": {
        "id": "BUDLGqGiijfh"
      },
      "source": [
        "Para visualizar a distribuição destes valores, o comando \"value_counts\" foi utilizado"
      ]
    },
    {
      "cell_type": "code",
      "execution_count": 70,
      "metadata": {
        "colab": {
          "base_uri": "https://localhost:8080/"
        },
        "id": "tE2EbB8XYZ6z",
        "outputId": "25d0d492-55f9-42ef-f321-e35e8b058ebe"
      },
      "outputs": [
        {
          "data": {
            "text/plain": [
              "ENFERMAGEM, FISIOTERAPIA, FARMÁCIA, NUTRIÇÃO E CURSOS RELACIONADOS                         51251\n",
              "DIREITO, COMÉRCIO EXTERIOR, BIBLIOTECONOMIA E CURSOS RELACIONADOS                          39268\n",
              "MEDICINA                                                                                   29050\n",
              "CIÊNCIAS SOCIAIS, POLÍTICAS, ECONÔMICAS E CONTÁBEIS, PSICOLOGIA E SECRETARIADO             21038\n",
              "ADMINISTRAÇÃO, ADMINISTRAÇÃO PÚBLICA, GESTÃO, LOGÍSTICA, NEGÓCIOS E CURSOS RELACIONADOS    14227\n",
              "ODONTOLOGIA, QUIROPRAXIA, FÍSICA MÉDICA E NATUROLOGIA                                      14162\n",
              "ENGENHARIA CIVIL E AMBIENTAL, ARQUITETURA E CURSOS RELACIONADOS                            12295\n",
              "MEDICINA VETERINÁRIA                                                                        7102\n",
              "HISTÓRIA (LIC), GEOGRAFIA (LIC), EDUCAÇÃO FÍSICA (LIC) E CURSOS RELACIONADOS                5760\n",
              "CIÊNCIAS BIOLÓGICAS (BEL), BIOMEDICINA, BIOTECNOLOGIA E CURSOS RELACIONADOS                 5380\n",
              "CIÊNCIA DA COMPUTAÇÃO E SISTEMAS DE INFORMAÇÃO E CURSOS RELACIONADOS                        5082\n",
              "PEDAGOGIA                                                                                   3690\n",
              "ENGENHARIA ELÉTRICA, ELETRÔNICA, DA COMPUTAÇÃO E CURSOS RELACIONADOS                        3668\n",
              "COMUNICAÇÃO SOCIAL, JORNALISMO, PUBLICIDADE, MARKETING E CURSOS RELACIONADOS                3605\n",
              "SERVIÇO SOCIAL, FONOAUDIOLOGIA, TERAPIA OCUPACIONAL E CURSOS RELACIONADOS                   3335\n",
              "ENGENHARIA DE PRODUÇÃO, DE MATERIAIS E CURSOS RELACIONADOS                                  2908\n",
              "ENGENHARIA MECÂNICA, AERONÁUTICA, NAVAL E CURSOS RELACIONADOS                               2402\n",
              "ESTÉTICA E COSMÉTICA, GESTÃO DO ESPORTE E CURSOS RELACIONADOS                               1709\n",
              "HOTELARIA E TURISMO, GASTRONOMIA E CURSOS RELACIONADOS                                      1412\n",
              "AGRONOMIA, ZOOTECNIA, ENGENHARIA FLORESTAL E CURSOS RELACIONADOS                            1247\n",
              "COMUNICAÇÃO, DESIGN, AUDIO VISUAL E CURSOS RELACIONADOS                                      981\n",
              "LETRAS - IDIOMAS, FÍSICA (LIC), QUÍMICA (LIC) E CURSOS RELACIONADOS                          597\n",
              "DANÇA, TEOLOGIA, MÍDIAS SOCIAIS, DESIGN DE INTERIORES E CURSOS RELACIONADOS                  545\n",
              "ENGENHARIA QUÍMICA, DE ALIMENTOS, DE PETRÓLEO E CURSOS RELACIONADOS                          479\n",
              "MODA, DESENHO INDUSTRIAL, MUSEOLOGIA, CINEMA E CURSOS RELACIONADOS                           287\n",
              "ARTES, CIÊNCIAS SOCIAIS E CURSOS RELACIONADOS                                                279\n",
              "CIÊNCIAS AERONÁUTICAS E CURSOS RELACIONADOS                                                  192\n",
              "BIOLOGIA (LIC), MATEMÁTICA (LIC), LETRAS-PORTUGUÊS E CURSOS RELACIONADOS                     137\n",
              "MÚSICA, FOTOGRAFIA, PRODUÇÃO MULTIMÍDIA E CURSOS RELACIONADOS                                127\n",
              "ENGENHARIA DE SEGURANÇA DO TRABALHO, GESTÃO EM SAÚDE E CURSOS RELACIONADOS                   118\n",
              "FÍSICA (BEL), QUÍMICA (BEL), MATEMÁTICA (BEL), GEOGRAFIA (BEL) E CURSOS RELACIONADOS          64\n",
              "AGRONEGÓCIO, AGROINDÚSTRIA E CURSOS RELACIONADOS                                              22\n",
              "TRADUÇÃO E INTERPRETAÇÃO, ARQUEOLOGIA, RÁDIO, TV E INTERNET E CURSOS RELACIONADOS             13\n",
              "Name: Subárea do conhecimento, dtype: int64"
            ]
          },
          "execution_count": 70,
          "metadata": {},
          "output_type": "execute_result"
        }
      ],
      "source": [
        "fies2019['Subárea do conhecimento'].value_counts()"
      ]
    },
    {
      "cell_type": "markdown",
      "metadata": {
        "id": "CUmur7l_c8d7"
      },
      "source": [
        "Este campo está coerente, de forma que mais tratamentos não são necessários."
      ]
    },
    {
      "cell_type": "markdown",
      "metadata": {
        "id": "aDBowDB-YZ60"
      },
      "source": [
        "### Analisando Nome mantenedora"
      ]
    },
    {
      "cell_type": "markdown",
      "metadata": {
        "id": "PXsg31BsirEJ"
      },
      "source": [
        "Primeiramente são avaliados os tipos de valores diferentes informados para este campo, por meio do comando \"unique\""
      ]
    },
    {
      "cell_type": "code",
      "execution_count": 71,
      "metadata": {
        "colab": {
          "base_uri": "https://localhost:8080/"
        },
        "id": "Is7fDab6YZ60",
        "outputId": "e6e8e5bd-3c8a-4c2f-ea6f-62bc7061a583"
      },
      "outputs": [
        {
          "data": {
            "text/plain": [
              "array(['ASSOCIACAO PARANAENSE DE CULTURA - APC',\n",
              "       'CENTRO DE EDUCACAO TECNICA E CULTURAL',\n",
              "       'FUNDACAO UNIVERSIDADE DE CAXIAS DO SUL',\n",
              "       'FUNDACAO COMUNITARIA TRICORDIANA DE EDUCACAO',\n",
              "       'FUNDACAO DE ENSINO E TECNOLOGIA DE ALFENAS',\n",
              "       'FUNDACAO DE ENSINO E PESQUISA DE ITAJUBA',\n",
              "       'FUNDACAO EDUCACIONAL DE BARRETOS',\n",
              "       'AUTARQUIA DE ENSINO SUPERIOR DE ARCOVERDE',\n",
              "       'FUNDACAO EDUCACIONAL DA REGIAO DOS LAGOS',\n",
              "       'FUNDACAO EDUCACIONAL LUIZ REID',\n",
              "       'FUNDACAO EDUCACIONAL E CULTURAL SAO JOSE',\n",
              "       'FUNDACAO MUNICIPAL DE ENSINO SUPERIOR DE CONS LAFAIETE',\n",
              "       'FUNDACAO CULTURAL DE ARAXA',\n",
              "       'SOCIEDADE CULTURAL DE ANDRADINA LTDA - SOCAN',\n",
              "       'SOCIEDADE DE ENSINO SUPERIOR TOLEDO LTDA.',\n",
              "       'ASSOCIACAO EDUCACIONAL DE ARARAS',\n",
              "       'FUNDACAO INSTITUTO NACIONAL DE TELECOMUNICACOES',\n",
              "       'INSTITUICAO EDUCACIONAL ATIBAIENSE LIMITADA',\n",
              "       'ORGANIZACAO EDUCACIONAL BARAO DE MAUA',\n",
              "       'ASSOCIACAO INSTRUTORA MISSIONARIA', 'FUNDACAO DOM AGUIRRE',\n",
              "       'FUNDACAO VISCONDE DE CAIRU',\n",
              "       'FUNDACAO MINEIRA DE EDUCACAO E CULTURA',\n",
              "       'SOCIEDADE CIVIL CONSERVATORIO BRASILEIRO DE MUSICA',\n",
              "       'CONGREGACAO DE SANTA DOROTEIA DO BRASIL',\n",
              "       'SOCIEDADE DE ENSINO SUPERIOR ESTACIO DE SA LTDA',\n",
              "       'SOCIEDADE DE EDUCACAO NOSSA SENHORA DO PATROCINIO S/S LTDA',\n",
              "       'ANTARES EDUCACIONAL S.A.', 'FUNDACAO EDUCANDARIO SANTARRITENSE',\n",
              "       'INSTITUTO METODISTA DE ENSINO SUPERIOR',\n",
              "       'CENTRO EDUCACIONAL DE REALENGO',\n",
              "       'ASSOCIACAO CARUARUENSE DE ENSINO SUPERIOR - ASCES',\n",
              "       'AMC - SERVICOS EDUCACIONAIS LTDA',\n",
              "       'INSTITUICAO EDUCACIONAL PROFESSOR PASQUALE CASCINO',\n",
              "       'ASSOCIACAO DE ENSINO DE RIBEIRAO PRETO', 'FUNDACAO SANTO ANDRE',\n",
              "       'FUNDACAO EDUCACIONAL UNIFICADA CAMPOGRANDENSE',\n",
              "       'FUNDACAO ESCOLA DE COMERCIO ALVARES PENTEADO - FECAP',\n",
              "       'INSTITUTO EDUCACIONAL CANDIDA DE SOUZA',\n",
              "       'INSTITUTO METODISTA IZABELA HENDRIX',\n",
              "       'ASSOCIACAO DE ENSINO SUPERIOR SAO JUDAS TADEU',\n",
              "       'CRUZEIRO DO SUL EDUCACIONAL S.A.',\n",
              "       'FUNDACAO EDUCACIONAL DE VOTUPORANGA',\n",
              "       'INSTITUTO EDUCACIONAL OSWALDO QUIRINO LTDA',\n",
              "       'FUNDACAO DE ENSINO OCTAVIO BASTOS',\n",
              "       'INSTITUTO EDUCACIONAL PIRACICABANO DA IGREJA METODISTA',\n",
              "       'ASSOCIACAO PRUDENTINA DE EDUCACAO E CULTURA APEC',\n",
              "       'FUNDACAO VALEPARAIBANA DE ENSINO',\n",
              "       'SOCIEDADE UNIFICADA DE ENSINO AUGUSTO MOTTA',\n",
              "       'ORGANIZACAO BRASILEIRA DE CULTURA E EDUCACAO ORBRACE',\n",
              "       'SOCIEDADE EDUCACIONAL TRES DE MAIO',\n",
              "       'ASSOCIACAO PRO ENSINO EM SANTA CRUZ DO SUL',\n",
              "       'FUNDACAO ATTILA TABORDA',\n",
              "       'INSTITUICAO EDUCACIONAL SAO JUDAS TADEU',\n",
              "       'INSTITUTO ENSINAR BRASIL',\n",
              "       'FUNDACAO JOSE BONIFACIO LAFAYETTE DE ANDRADA',\n",
              "       'FUNDACAO PRESIDENTE ANTONIO CARLOS',\n",
              "       'ASSOCIACAO EDUCACIONAL NOVE DE JULHO',\n",
              "       'INSTITUTO VIANNA JUNIOR LTDA', 'ASSOCIACAO PROPAGADORA ESDEVA',\n",
              "       'FUNDACAO EDUCACIONAL MINAS GERAIS',\n",
              "       'ASSOCIACAO LIMEIRENSE DE EDUCACAO ALIE', 'IPE EDUCACIONAL LTDA',\n",
              "       'SET SOCIEDADE CIVIL EDUCACIONAL TUIUTI LIMITADA',\n",
              "       'FUNDACAO COMUNITARIA EDUCACIONAL E CULTURAL PATROCINIO',\n",
              "       'FUNDACAO ESCOLA DE SOCIOLOGIA E POLITICA DE SAO PAULO',\n",
              "       'FACULDADES METROPOLITANAS UNIDAS EDUCACIONAIS LTDA.',\n",
              "       'ASSOCIACAO EDUCATIVA EVANGELICA',\n",
              "       'FACS SERVICOS EDUCACIONAIS LTDA',\n",
              "       'MISSAO SALESIANA DE MATO GROSSO',\n",
              "       'FUNDACAO EDUCACIONAL DR RAUL BAUAB-JAHU',\n",
              "       'ABEP - ACADEMIA BAIANA DE ENSINO PESQUISA E EXTENSAO LTDA',\n",
              "       'SOCIEDADE DE EDUCACAO TIRADENTES LTDA',\n",
              "       'AESO-ENSINO SUPERIOR DE OLINDA LTDA',\n",
              "       'CENTRO DE ENSINO UNIFICADO DE BRASILIA CEUB',\n",
              "       'UNIAO BRASILEIRA DE EDUCACAO CATOLICA',\n",
              "       'UNIAO PIONEIRA DE INTEGRACAO SOCIAL',\n",
              "       'ASSOCIACAO OLINDENSE DOM VITAL DE ENSINO SUPERIOR',\n",
              "       'SECID - SOCIEDADE EDUCACIONAL CIDADE DE SAO PAULO LTDA',\n",
              "       'FUNDACAO REGIONAL INTEGRADA',\n",
              "       'FUNDACAO EDUCACIONAL MACHADO DE ASSIS',\n",
              "       'INSTITUTO PORTO ALEGRE DA IGREJA METODISTA',\n",
              "       'FUNDACAO EDUCACIONAL DE ITUVERAVA',\n",
              "       'OSAC - ORGANIZACAO SOROCABANA DE ASSISTENCIA E CULTURA LTDA.',\n",
              "       'FUNDACAO UNIVERSIDADE DE CRUZ ALTA',\n",
              "       'SOCIEDADE DE EDUCACAO RITTER DOS REIS LTDA.',\n",
              "       'INSTITUTO SANTANENSE DE ENSINO SUPERIOR',\n",
              "       'ASSOCIACAO PRINCESA ISABEL DE EDUCACAO E CULTURA',\n",
              "       'FUNDACAO ARMANDO ALVARES PENTEADO',\n",
              "       'ISCP - SOCIEDADE EDUCACIONAL LTDA.',\n",
              "       'ASSOCIACAO BRASILEIRA DE ENSINO UNIVERSITARIO ABEU',\n",
              "       'ADMINISTRADORA EDUCACIONAL NOVO ATENEU S/S LTDA',\n",
              "       'COMPANHIA NILZA CORDEIRO HERDY DE EDUCACAO E CULTURA',\n",
              "       'ASSOCIACAO EDUCACIONAL DOM BOSCO', 'FUNDACAO OCTACILIO GUALBERTO',\n",
              "       'SOCIEDADE GUARULHENSE DE EDUCACAO', 'FUNDACAO OSWALDO ARANHA',\n",
              "       'FUNDACAO UNIVERSIDADE DO SUL DE SANTA CATARINA-UNISUL',\n",
              "       'FUNDACAO MUNICIPAL DE ENSINO SUPERIOR BRAGANCA PAULISTA',\n",
              "       'ACEF S/A.', 'INSTITUTO DE EDUCACAO E CULTURA UNIMONTE S/A',\n",
              "       'CENTRO REGIONAL DE CULTURA', 'FUNDACAO PERCIVAL FARQUHAR',\n",
              "       'ASSOCIACAO JABOTICABALENSE DE EDUCACAO E CULTURA',\n",
              "       'CENTRO DE ENSINO UNIFICADO DO DISTRITO FEDERAL LTDA',\n",
              "       'ASSOCIACAO UNIVERSITARIA E CULTURAL DA BAHIA',\n",
              "       'ORGANIZACAO MOGIANA DE EDUCACAO E CULTURA SOCIEDADE SIMPLES LIMITADA',\n",
              "       'INSTITUTO SUPERIOR DE ENSINO CELSO LISBOA',\n",
              "       'SOCIEDADE EDUCACIONAL BRAZ CUBAS LTDA.',\n",
              "       'SOCIEDADE GOIANA DE CULTURA',\n",
              "       'ASSOCIACAO DO ENSINO SUPERIOR DA VITORIA DE STO ANTAO',\n",
              "       'FUNDACAO KARNIG BAZARIAN',\n",
              "       'FUNDACAO CENTRO UNIVERSITARIO DE MANDAGUARI - UNIMAN',\n",
              "       'FUNDACAO SAO PAULO', 'FUNDACAO EDUCACIONAL DE CARATINGA FUNEC',\n",
              "       'FUNDACAO EDSON QUEIROZ',\n",
              "       'FUNDACAO EDUCACIONAL VALE DO ITAPEMIRIM - FEVIT.',\n",
              "       'FUNDACAO EDUCACIONAL JAYME DE ALTAVILA-FEJAL',\n",
              "       'CAMPANHA NACIONAL DE ESCOLAS DA COMUNIDADE',\n",
              "       'FUNDACAO EDUCACIONAL COMUNITARIA DE S S PARAISO MG',\n",
              "       'ASSOCIACAO ESCOLA SUPERIOR DE PROPAGANDA E MARKETING',\n",
              "       'CENTRO EDUCACIONAL DE FORMACAO SUPERIOR LTDA - CEFOS',\n",
              "       'FUND EDUC PARA O DESENVOLVIMENTO DAS CIENCIAS AGRARIAS',\n",
              "       'AUTARQUIA EDUCACIONAL DE SERRA TALHADA AESET',\n",
              "       'ASSOCIACAO DE ENSINO E CULTURA PIO DECIMO LTDA',\n",
              "       'ASSOCIACAO SALGADO DE OLIVEIRA DE EDUCACAO E CULTURA',\n",
              "       'SOC EDUC DO ESP SANTO UNIDADE DE V VELHA ENSINO SUPERIO',\n",
              "       'UNIVERSIDADE DE TAUBATE',\n",
              "       'ASSOCIACAO JACAREPAGUA DE ENSINO SUPERIOR',\n",
              "       'SOCIEDADE AMAZONENSE DE EDUCACAO E CULTURA LTDA - SAMEC.',\n",
              "       'CENTRO DE ENSINO SUPERIOR NILTON LINS',\n",
              "       'ASSOCIACAO CULTURAL DE RENOVACAO TECNOLOGICA SOROCABANA',\n",
              "       'UNIGRAN EDUCACIONAL',\n",
              "       'AUTARQUIA BELEMITA DE CULTURA DESPORTOS E EDUCACAO',\n",
              "       'UNIAO EDUCACIONAL DO PLANALTO CENTRAL S.A',\n",
              "       'FUNDACAO EDUCACIONAL ENCOSTA INFERIOR DO NORDESTE',\n",
              "       'AUTARQUIA DO ENSINO SUPERIOR DE GARANHUNS AESGA',\n",
              "       'AUTARQUIA MUNICIPAL DO ENSINO SUPERIOR DE GOIANA',\n",
              "       'INSTITUTO BRASILEIRO DE MEDICINA DE REABILITACAO LTDA',\n",
              "       'APEC - SOCIEDADE POTIGUAR DE EDUCACAO E CULTURA LTDA',\n",
              "       'CENTRO INTEGRADO PARA FORMACAO DE EXECUTIVOS',\n",
              "       'OBRAS SOCIAIS E EDUCACIONAIS DE LUZ',\n",
              "       'FUNDACAO EDUCACIONAL DE FERNANDOPOLIS',\n",
              "       'ASSOCIACAO DE ENSINO VERSALHES',\n",
              "       'APEC ASSOCIACAO PIAUIENSE DE EDUCACAO E CULTURA',\n",
              "       'FUNDACAO UNIRG', 'AUTARQUIA EDUCACIONAL DE SALGUEIRO',\n",
              "       'ASSOCIACAO CATALANA DE EDUCACAO', 'ASSOBES ENSINO SUPERIOR LTDA.',\n",
              "       'SOCIEDADE EMPRESARIA DE ENSINO SUPERIOR DO LITORAL NORTE LTDA',\n",
              "       'ASSOCIACAO EDUCACIONAL DE RONDONIA',\n",
              "       'CETEC EDUCACIONAL JACAREI LTDA',\n",
              "       'SOCIEDADE BENEF ISRAELITABRAS HOSPITAL ALBERT EINSTEIN',\n",
              "       'SERVICO NACIONAL DE APRENDIZAGEM COMERCIAL SENAC',\n",
              "       'IREP SOCIEDADE DE ENSINO SUPERIOR, MEDIO E FUNDAMENTAL LTDA.',\n",
              "       'INSTITUICAO EDUCACIONAL MATOGROSSENSE-IEMAT',\n",
              "       'ASSOCIACAO EDUCACIONAL DO VALE DO SAO LOURENCO S/S LTDA - EPP',\n",
              "       'ASSOCIACAO CARIOCA DE ENSINO SUPERIOR',\n",
              "       'ASSOCIACAO EDUCACIONAL DE ENSINO SUPERIOR',\n",
              "       'SOCIEDADE EDUCACIONAL BREDER LOPES',\n",
              "       'UNIMEO-UNIAO EDUCACIONAL DO MEDIO OESTE PARANAENSE LTDA - EPP',\n",
              "       'CESUMAR - CENTRO DE ENSINO SUPERIOR DE MARINGA LTDA',\n",
              "       'FUNDACAO DE ENSINO SUPERIOR DE GOIATUBA',\n",
              "       'MITRA ARQUIDIOCESANA DE DIAMANTINA',\n",
              "       'AVIES ENSINO SUPERIOR DE VITORIA S/S LTDA',\n",
              "       'SOCIEDADE CULTURAL E EDUCACIONAL DE GARCA S/S LTDA',\n",
              "       'AESPI ENSINO SUPERIOR DO PIAUI LTDA.',\n",
              "       'ASPER ENSINO SUPERIOR DA PARAIBA S/S LTDA.',\n",
              "       'ACESC ENSINO SUPERIOR DE CAMPINAS LTDA.',\n",
              "       'UNIAO PARANAENSE DE ENSINO E CULTURA -UNIPEC',\n",
              "       'ASSOCIACAO AMAPAENSE DE ENSINO E CULTURA',\n",
              "       'AEI ENSINO SUPERIOR DE IGUACU LTDA.',\n",
              "       'FUNDACAO EDUCACIONAL DO MUNICIPIO DE ASSIS',\n",
              "       'ASSOCIACAO DE ENSINO E CULTURA DE MATO GROSSO DO SUL',\n",
              "       'ASSESC-SOCIEDADE EDUCACIONAL DE SANTA CATARINA LTDA',\n",
              "       'ASSOCIACAO DE EDUCACAO SANTA RITA DE CASSIA',\n",
              "       'AESA ENSINO SUPERIOR DE ALAGOAS S/S LTDA.',\n",
              "       'CENTRO DE ENSINO UNIFICADO DE TERESINA',\n",
              "       'UNIAO EDUCACIONAL DE CASCAVEL - UNIVEL LTDA',\n",
              "       'ASSOCIACAO DE ENSINO SUPERIOR DE SAO ROQUE',\n",
              "       'SOCIEDADE DE DESENVOLVIMENTO CULTURAL DO AMAZONAS S.A. - SODECAM',\n",
              "       'SOCIEDADE DE ENSINO SUPERIOR DE VITORIA LTDA',\n",
              "       'FUNDACAO SAO MIGUEL ARCANJO',\n",
              "       'INSTITUTO SUPERIOR DE EDUCACAO SANTA CECILIA',\n",
              "       'AUTARQUIA EDUCACIONAL DE AFOGADOS DA INGAZEIRA-AEDAI',\n",
              "       'ASSOCIACAO EDUCACIONAL MACHADO DE ASSIS',\n",
              "       'UNISEPE UNIAO DAS INSTITUICOES DE SERVICO, ENSINO E PESQUISA LTDA',\n",
              "       'ASSOCIACAO EDUCATIVA E CULTURAL DE CAMACARI',\n",
              "       'ASSOCIACAO DE ENSINO SUPERIOR SANTA TEREZINHA',\n",
              "       'FUCAPI FUND CENTRO DE ANALISE PESQ E INOV TECNOLOGICA',\n",
              "       'SEUNE - SOC DE ENSINO UNIVERSITARIO DO NORDESTE LTDA',\n",
              "       'INSTITUICAO ADV DE EDUC E ASSIST SOCIAL ESTE BRASILEIRA',\n",
              "       'ABES - SOCIEDADE BAIANA DE ENSINO SUPERIOR LTDA',\n",
              "       'CESB - CENTRO DE EDUCACAO SUPERIOR DE BRASILIA LTDA',\n",
              "       'CENTRO DE CIENCIAS DE JUSSARA LTDA - EPP',\n",
              "       'SOCIEDADE DE ENSINO SUPERIOR DA PARAIBA SOCIEDADE SIMPLES LTDA',\n",
              "       'FUNDACAO DE ENSINO SUPERIOR DE CAJAZEIRAS',\n",
              "       'INSTITUTO METODISTA CENTENARIO',\n",
              "       'SOCIEDADE DE PESQUISA EDUCACAO E CULTURA, DR. APARICIO CARVALHO DE MORAES LTDA',\n",
              "       'SOCIEDADE EDUCACIONAL E CULTURAL SERGIPE DEL REY LTDA',\n",
              "       'SOCIEDADE EDUCACIONAL E CULTURAL DE SABARA',\n",
              "       'INSTITUTO EURO AMERICANO DE EDUCACAO CIENCIA TECNOLOGIA',\n",
              "       'ASSOCIACAO DE PAIS E AMIGOS DOS EXCEPCIONAIS DE S LUIZ',\n",
              "       'INSTITUTO SANTA TERESA',\n",
              "       'FUNDACAO COMUNITARIA DE ENSINO SUPERIOR DE ITABIRA',\n",
              "       'ACAO EDUCACIONAL CLARETIANA',\n",
              "       'ASSOCIACAO TERESINENSE DE ENSINO S/C LTDA',\n",
              "       'GRUPO EDUCACIONAL SUPERIOR CEV LTDA',\n",
              "       'SIEMG SISTEMA INTEGRADO DE ENSINO DE MINAS GERAIS LTDA',\n",
              "       'ASSOCIACAO DE CULTURA E EDUCACAO SANTA TERESA',\n",
              "       'ASSOCIACAO DE ENSINO E PESQUISA GRACCHO CARDOSO S/C LTDA - ME',\n",
              "       'SERVICO SOCIAL EDUCACIONAL BENEFICENTE SESEBE',\n",
              "       'CENTRO TECNOLOGICO CAMBURY LTDA',\n",
              "       'SOCIEDADE EDUCACIONAL DO RIO GRANDE DO SUL',\n",
              "       'ASBEC - SOCIEDADE BAIANA DE EDUCACAO E CULTURA S/A',\n",
              "       'ENTIDADE MANTENEDORA DE ENSINO - SANTA RITA LTDA',\n",
              "       'ANEC - SOCIEDADE NATALENSE DE EDUCACAO E CULTURA LTDA',\n",
              "       'SOCIEDADE EDUCACIONAL LEONARDO DA VINCI S/S LTDA',\n",
              "       'CIESPT ENSINO SUPERIOR DE ITAPETININGA LTDA.',\n",
              "       'INSTITUTO AVANCADO DE ENSINO SUPERIOR DE BARREIRAS - IAESB',\n",
              "       'ASS. DE ENSINO INTEGRADO E ORGANIZADO UNIVERSITARIO',\n",
              "       'INSTITUTO METODISTA GRANBERY',\n",
              "       'OPET ORGANIZACAO PARANAENSE DE ENSINO TECNICO LTDA',\n",
              "       'LIGA DE ENSINO DO RIO GRANDE DO NORTE',\n",
              "       'AESGF ENSINO SUPERIOR DA GRANDE FLORIANOPOLIS LTDA',\n",
              "       'SOCIEDADE DE ENSINO SUPERIOR ESTACIO RIBEIRAO PRETO LTDA',\n",
              "       'INSTITUTO DE ENSINO CAMPO LIMPO PAULISTA LTDA',\n",
              "       'AESJC ENSINO SUPERIOR DE SAO JOSE DOS CAMPOS LTDA.',\n",
              "       'SOCIEDADE CULTURAL E EDUCACIONAL DE ITAPEVA S/S LTDA',\n",
              "       'ASSOCIACAO EDUCACIONAL AMERICANENSE', 'FACULDADE TREVISAN LTDA',\n",
              "       'INSTITUTO DE ENSINO SUPERIOR JUVENCIO TERRA LTDA - ME',\n",
              "       'INSTITUTO TECSOMA LTDA - ITEC',\n",
              "       'CESUAP CENTRO DE ENSINO SUPERIOR DE APUCARANA',\n",
              "       'SOEC SOCIEDADE OLINDENSE DE EDUCACAO E CULTURA',\n",
              "       'SOCIEDADE TECNICA EDUCACIONAL DE MINAS GERAIS LTDA',\n",
              "       'CESED - CENTRO DE ENSINO SUPERIOR E DESENVOLVIMENTO LTDA',\n",
              "       'FUNDACAO ASSIS GURGACZ', 'COLEGIO MATER DEI LTDA',\n",
              "       'UNIAO DE EDUCACAO E CULTURA VALE DO JAGUARIBE LTDA',\n",
              "       'SOCIEDADE EDUCACIONAL DE SANTA CATARINA',\n",
              "       'FUNDACAO EDUCACIONAL DOM ORIONE',\n",
              "       'INSTITUTO DE ENSINO SUPERIOR DA AMAZONIA LTDA',\n",
              "       'INSTITUICAO SINODAL DE ASSISTENCIA EDUCACAO E CULTURA',\n",
              "       'UNIAO DINAMICA DE FACULDADES CATARATAS UDC LTDA',\n",
              "       'SOCIEDADE PIMENTENSE DE EDUCACAO E CULTURA LTDA',\n",
              "       'U.C.L. - ASSOCIACAO DE ENSINO SUPERIOR UNIFICADO DO CENTRO LESTE',\n",
              "       'FUNDACAO DOIS DE JULHO', 'CENTRO DE ENSINO SAO LUCAS LTDA',\n",
              "       'SOCIEDADE EDUCACIONAL IDEAL LTDA',\n",
              "       'SOCIEDADE EDUCACIONAL SANTA RITA S.A.',\n",
              "       'ASSOCIACAO LENCOENSE DE EDUCACAO E CULTURA',\n",
              "       'CESC ENSINO SUPERIOR DE CAMPINAS LTDA.',\n",
              "       'CENTRO DE PESQUISA E ENSINO SUPERIOR DA AMAZ NIA LTDA',\n",
              "       'SOCIEDADE TRINDADENSE DE EDUCACAO E CULTURA LTDA',\n",
              "       'ASSOCIACAO EDUCACIONAL TOLEDO',\n",
              "       'COMPLEXO DE ENSINO SUPERIOR DO BRASIL LTDA.',\n",
              "       'FUNDACAO CARMELITANA MARIO PALMERIO',\n",
              "       'ASSOCIACAO EDUCATIVA E CULTURAL MARIA EMILIA',\n",
              "       'IDEA - INSTITUTO DE DESENVOLVIMENTO EDUCACIONAL AVANCADO LTDA',\n",
              "       'UNIAO DE EDUCACAO E CULTURA-UNECE', 'UNINTER EDUCACIONAL S/A',\n",
              "       'UNIAO DE ENSINO SUPERIOR DO IGUACU LTDA - ME',\n",
              "       'UNIFAMMA - UNIAO DE FACULDADES METROPOLITANAS DE MARINGA LTDA',\n",
              "       'SOCIEDADE PIAUIENSE DE ENSINO SUPERIOR LTDA',\n",
              "       'INSTITUTO VALE DO CRICARE LTDA',\n",
              "       'FADEP - FACULDADE EDUCACIONAL DE PATO BRANCO LTDA',\n",
              "       'ORGANIZACAO PARAENSE EDUCACIONAL E DE EMPREENDIMENTOS LTDA',\n",
              "       'FATEB EDUCACAO INTEGRAL LTDA',\n",
              "       'FUNDACAO ASSISTENCIAL E EDUCATIVA CRISTA DE ARIQUEMES',\n",
              "       'BCEC - BRASIL CENTRAL DE EDUCACAO E CULTURA SS',\n",
              "       'COLEGIO SAO FRANCISCO',\n",
              "       'SOCIEDADE DE ENSINO SUPERIOR PIAUIENSE LTDA',\n",
              "       'EDUCADORA SETE DE SETEMBRO LTDA',\n",
              "       'ESCOLA SUPERIOR DE GESTAO DE NEGOCIOS LTDA',\n",
              "       'UNIME - UNIAO METROPOLITANA PARA O DESENVOLVIMENTO DA EDUCACAO E CULTURA LTDA.',\n",
              "       'CENTRO DE ENSINO SUPERIOR DO EXTREMO SUL DA BAHIA LTDA',\n",
              "       'ASSOCIACAO APARECIDENSE DE EDUCACAO',\n",
              "       'DIRETIVA ADMINISTRADORA DE PARTICIPACOES LTDA',\n",
              "       'CENTRO TECNOLOGICO DE EDUCACAO SENA AIRES LTDA',\n",
              "       'SOCIEDADE PADRAO DE EDUCACAO SUPERIOR LTDA',\n",
              "       'UB UNISAOLUIS EDUCACIONAL S.A',\n",
              "       'SOCIEDADE EDUCACIONAL DA AMAZONIA LTDA',\n",
              "       'SOCIEDADE DE ENSINO SUPERIOR FENIX LTDA - ME',\n",
              "       'INSTITUTO POLITECNICO DE ENSINO LTDA.',\n",
              "       'IPTAN - INSTITUTO DE ENSINO SUPERIOR PRESIDENTE TANCREDO DE ALMEIDA NEVES S.A.',\n",
              "       'FUNORTE FACULDADES UNIDAS DO NORTE MINAS LTDA',\n",
              "       'ASSOCIACAO EDUCACIONAL DE COROMANDEL - AEC',\n",
              "       'INSTITUICAO ADVENTISTA SUL BRASILEIRA DE EDUCACAO',\n",
              "       'COLEGIO NET WORK S/S LTDA',\n",
              "       'SOCIEDADE INTEGRAL DE ENSINO SOCIEDADE SIMPLES LTDA.',\n",
              "       'AGES EMPREENDIMENTOS EDUCACIONAIS LTDA',\n",
              "       'ASSOCIACAO BRASILEIRA DE EDUCACAO FAMILIAR E SOCIAL',\n",
              "       'SOCIEDADE CIENTIFICA E CULTURAL ANISIO TEIXEIRA LTDA',\n",
              "       'ASCEC ENSINO SUPERIOR CEARENSE S/S/ LTDA.',\n",
              "       'CEUDESP - CENTRO DE EDUCACAO UNIVERSITARIO E DESENVOLVIMENTO PROFISSIONAL LTDA',\n",
              "       'IESST - INSTITUTO DE ENSINO SUPERIOR SOCIAL E TECNOLOGICO',\n",
              "       'INSTITUTO NOVOS HORIZONTES DE ENSINO SUPERIOR E PESQUISA LTDA.',\n",
              "       'UNIAO EDUCACIONAL DO VALE DO ACO LTDA',\n",
              "       'INSTITUICAO EDUCACIONAL CECILIA MARIA DE MELO BARCELOS LTDA',\n",
              "       'FUNDACAO ESPERANCA',\n",
              "       'SOCIEDADE CULTURAL E EDUCACIONAL SANTA RITA DE CASSIA LTDA - ME',\n",
              "       'SOCIEDADE EDUCACIONAL MATER CHRISTI LTDA',\n",
              "       'INSTITUTO N S DA GLORIA',\n",
              "       'CENTRO DE ENSINO SUPERIOR PIAUIENSE LTDA',\n",
              "       'FACULDADES CATHEDRAL DE ENSINO SUPERIOR',\n",
              "       'UNIAO BRASILEIRA EDUCACIONAL LTDA.',\n",
              "       'UNIDADE DE ENSINO SUPERIOR DE ITANHAEM LTDA',\n",
              "       'ESUCRI - ESCOLA SUPERIOR DE CRICIUMA LTDA', 'FACEB EDUCACAO LTDA',\n",
              "       'ASSOCIACAO VITORIENSE DE EDUCACAO, CIENCIAS E CULTURA - AVEC',\n",
              "       'UB - CAMPO REAL EDUCACIONAL S.A.',\n",
              "       'SOCIEDADE RONDONIENSE DE ENSINO SUPERIOR DR. APARICIO CARVALHO DE MORAES LTDA',\n",
              "       'SOCIEDADE EDUCACIONAL ATUAL DA AMAZONIA LTDA',\n",
              "       'ASSOCIACAO DE ENSINO SUPERIOR DE GOIAS-AESGO',\n",
              "       'APESU ENSINO SUPERIOR DE PERNAMBUCO S/S LTDA.',\n",
              "       'SOCIEDADE PERNAMBUCANA DE ENSINO SUPERIOR LTDA',\n",
              "       'FORTEC ASSESSORIA E TREINAMENTO LTDA',\n",
              "       'FUNDACAO FRANCISCO DE ASSIS',\n",
              "       'A. REGIAO TOCANTINA DE EDUCACAO E CULTURA LTDA.',\n",
              "       'GRUPO NOBRE DE ENSINO LTDA',\n",
              "       'CESMIG - CENTRO DE ENSINO SUPERIOR MINAS GERAIS LTDA - ME',\n",
              "       'ASSOCIACAO VICOSENSE DE ENSINO E PESQUISA LTDA - AVEP - VICOSA - EPP',\n",
              "       'EINSTEIN INSTITUICAO DE ENSINO LTDA - EPP',\n",
              "       'FACULDADES XV DE AGOSTO LTDA - EPP',\n",
              "       'SOCIEDADE EDUCATIVA E CULTURAL AMELIA S/C LTDA - EPP',\n",
              "       'UNIRON - UNIAO DAS ESCOLAS SUPERIORES DE RONDONIA LTDA.',\n",
              "       'UNIAO RONDONENSE DE ENSINO E CULTURA LTDA',\n",
              "       'INSTITUTO LEAO SAMPAIO DE ENSINO UNIVERSITARIO LTDA',\n",
              "       'CESCO - CENTRO DE ENSINO SUPERIOR DO CENTRO OESTE LTDA',\n",
              "       'PROTECNICA PAULISTA LTDA',\n",
              "       'FAINOR FACULDADE INDEPENDENTE DO NORDESTE LTDA',\n",
              "       'ADTALEM EDUCACIONAL DO BRASIL S/A', 'UNIAO DE ENSINO UNOPAR LTDA',\n",
              "       'SOCIEDADE EDUCACIONAL DO VALE DO ITAPOCU S/S LTDA.',\n",
              "       'SOCIEDADE DE EDUCACAO DO VALE DO IPOJUCA S/A',\n",
              "       'AEC - ASSOCIACAO DE ENSINO DE CAMBE',\n",
              "       'SOCEC- SOCIEDADE CAPIBARIBE DE EDUCACAO E CULTURA LTDA',\n",
              "       'INSTITUTO BRASIL DE CIENCIA & TECNOLOGIA LTDA',\n",
              "       'PITAGORAS - SISTEMA DE EDUCACAO SUPERIOR SOCIEDADE LTDA',\n",
              "       'ORGANIZACAO EDUCACIONAL FARIAS BRITO LTDA',\n",
              "       'UNIAO SUL-AMERICANA DE EDUCACAO LTDA',\n",
              "       'ASSOCIACAO DE ENSINO SUPERIOR DOS INCONFIDENTES - ASESI',\n",
              "       'CENTRO DE ENSINO SUPERIOR DE AGUDOS',\n",
              "       'FUNDACAO DE ROTARIANOS DE SAO PAULO',\n",
              "       'ASSOCIACAO EDUCACIONAL SAO JOSE', 'GRUPO IBMEC EDUCACIONAL S.A',\n",
              "       'CESA - CENTRO DE ESTUDO SUPERIOR DE APUCARANA',\n",
              "       'INSTITUTO DE ENSINO SUPERIOR DA REGIAO SERRANA LTDA',\n",
              "       'ASSENAR - ENSINO DE ARAUCARIA LTDA - ME',\n",
              "       'SOCIEDADE DE ENSINO SUPERIOR DA ESCADA LTDA - SOESE',\n",
              "       'COLEGIO DOM BOSCO LTDA', 'EDVAC SERVICOS EDUCACIONAIS LTDA',\n",
              "       'ENSIGEST - BRASIL LTDA - EPP',\n",
              "       'IPADE - INSTITUTO PARA O DESENVOLVIMENTO DA EDUCACAO LTDA.',\n",
              "       'INSTITUTO DE ENSINO SUPERIOR ANCHIETA',\n",
              "       'CENTRO DE ENSINO SUPERIOR FABRA',\n",
              "       'CETEBA - CENTRO DE ENSINO E TECNOLOGIA DA BAHIA LTDA',\n",
              "       'LAEL VARELLA EDUCACAO E CULTURA LTDA',\n",
              "       'SOCIEDADE REGIONAL DE EDUCACAO E CULTURA LTDA',\n",
              "       'SECAB SOCIEDADE EDUCACIONAL DE CAPIVARI DE BAIXO LTDA - EPP',\n",
              "       'INSTITUTO EDUCACIONAL SANTO AGOSTINHO LTDA',\n",
              "       'SOCIEDADE EDUCACIONAL UNIFAS S/C LTDA - ME',\n",
              "       'INESUL INSTITUTO DE ENSINO SUPERIOR DE LONDRINA S/S LTDA',\n",
              "       'SOCIEDADE EDUCACIONAL ENES NASCIMENTO LTDA - ME',\n",
              "       'INSTITUTO DE EDUCACAO SUPERIOR SAO PAULO LTDA - EPP',\n",
              "       'FACULDADES CATHEDRAL DE ENSINO SUPERIOR DE BARRA DO GARCAS - ME',\n",
              "       'CENTRO EDUCACIONAL NOSSA SENHORA AUXILIADORA',\n",
              "       'SOCIEDADE EDUCACIONAL PINTO E MENEZES LTDA - ME',\n",
              "       'FAPEC - FUNDACAO ALAGOANA DE PESQUISA, EDUCACAO E CULTURA',\n",
              "       'SOCIEDADE EDUCACIONAL CAXIENSE S/C LTDA.',\n",
              "       'EMPREENDIMENTO EDUCACIONAL MARACANAU LTDA.',\n",
              "       'SINERGIA SISTEMA DE ENSINO LTDA - EPP',\n",
              "       'SOCIEDADE AVANTIS DE ENSINO E ESCOLA DE AVIACAO CIVIL S.A.',\n",
              "       'SOMAR - SOCIEDADE MARANHENSE DE ENSINO SUPERIOR LTDA - ME',\n",
              "       'AESMS ENSINO SUPERIOR DE MATO GROSSO DO SUL LTDA.',\n",
              "       'FACULDADES EURO BRASILEIRAS PARA EDUCACAO SUPERIOR PRIVADA LTDA - ME',\n",
              "       'CESG - CENTRO DE EDUCACAO SUPERIOR DE GUANAMBI LTDA',\n",
              "       'UNESC-PB UNIAO DE ENSINO SUPERIOR DE CAMPINA GRANDE LTDA - ME',\n",
              "       'ITPAC INSTITUTO TOCANTINENSE PRESIDENTE ANTONIO CARLOS S.A',\n",
              "       'SOCIEDADE DE ENSINO SUPERIOR DE MANHUACU LTDA',\n",
              "       'UNIAO DE FACULDADES DE ALAGOAS LTDA - EPP',\n",
              "       'TCC EDUCACAO, CIENCIA E CULTURA LTDA - EPP',\n",
              "       'SESA - SOCIEDADE DE ENSINO SUPERIOR AMADEUS LTDA',\n",
              "       'UNNESA - UNIAO DE ENSINO SUPERIOR DA AMAZONIA OCIDENTAL S/C LTDA - EPP',\n",
              "       'CENTRO DE ESTUDOS SUPERIORES DE SANTO ANTONIO DE JESUS S/C - EPP',\n",
              "       'UNIRB - UNIDADES DE ENSINO SUPERIOR DA BAHIA LTDA',\n",
              "       'CENTRO DE ESTUDOS SUPERIORES DE ITAITUBA LTDA - ME',\n",
              "       'ASSOCIACAO IGREJA ADVENTISTA MISSIONARIA - AIAMIS',\n",
              "       'INSPETORIA SALESIANA SAO PIO X',\n",
              "       'UESPAR - UNIAO DE ENSINO SUPERIOR DO PARANA LTDA - EPP',\n",
              "       'MARCIO CALAFIORI RESENDE EIRELI - EPP',\n",
              "       'UNIAO EDUCACIONAL DO NORTE LTDA',\n",
              "       'IME INSTITUTO METROPOLITANO DE ENSINO LTDA',\n",
              "       'ASSOCIACAO MISSIONARIA DE BENEFICENCIA',\n",
              "       'LACERDA & GOLDFARB LTDA - EPP',\n",
              "       'INSPETORIA SALESIANA MISSIONARIA DA AMAZONIA',\n",
              "       'SOCIEDADE EDUCACIONAL MONTEIRO LOBATO',\n",
              "       'ASSOCIACAO DE ENSINO VALE DO GORUTUBA S/S LTDA',\n",
              "       'ORGANIZACAO SETE DE SETEMBRO DE CULTURA E ENSINO LTDA',\n",
              "       'BAIAO CONSULTORIA & CONTABILIDADE LTDA',\n",
              "       'SOCIEDADE UNIFICADA DE EDUCACAO DE EXTREMA',\n",
              "       'PRO-ENSINO SOCIEDADE CIVIL LTDA - ME',\n",
              "       'CENTRO DE ENSINO SUPERIOR ALMEIDA RODRIGUES LTDA - EPP',\n",
              "       'SOEBRAS - SOCIEDADE EDUCATIVA DO BRASIL LTDA',\n",
              "       'CENTRO EDUCACIONAL MONTES BELOS LTDA',\n",
              "       'SOCIEDADE ACREANA DE EDUCACAO E CULTURA LTDA',\n",
              "       'SOCIEDADE CIVIL INTEGRADA MADRE CELESTE LTDA',\n",
              "       'INSTITUTO MANTENEDOR DE ENSINO SUPERIOR DA BAHIA LTDA - ME',\n",
              "       'UNIUOL GESTAO DE EMPREENDIMENTOS EDUCAC. E PARTICIPACOES S/A',\n",
              "       'ESACOM - ESCOLA SUPERIOR DE ADMINISTRACAO, COMUNICACAO E MARKETING S/C LTDA',\n",
              "       'CENTRO DE ENSINO SUPERIOR DO CEARA',\n",
              "       'CENTRO INTEGRADO DE ENSINO SUPERIOR DE FLORIANO LTDA - ME',\n",
              "       'FUNDACAO EDUCACIONAL MONTES CLAROS',\n",
              "       'FACULDADES INTEGRADAS BRASIL AMAZONIA S/S LTDA',\n",
              "       'CENTRO EDUCACIONAL DYLLA LTDA',\n",
              "       'FUNDACAO O.CI.D.E.M.NT.E.-7C.D.E.',\n",
              "       'ASSOCIACAO EDUCACIONAL DE JOAO PINHEIRO',\n",
              "       'CEAPA-CENTRO DE ESTUDOS AVANCADOS DO PARA S/S LIMITADA',\n",
              "       'FACULDADE IEDUCARE LTDA',\n",
              "       'INSTITUTO MACAPAENSE DE ENSINO SUPERIOR S.S LTDA - ME',\n",
              "       'CENTRO EDUCACIONAL MARIA MILZA LTDA - ME',\n",
              "       'SOCIEDADE EDUCACIONAL EDICE PORTELA LTDA',\n",
              "       'INSTITUTO DE EDUCACAO SECULO XXI EIRELI - EPP',\n",
              "       'ROZA MARIA SOARES DA SILVA - ME',\n",
              "       'UNEF UNIDADE DE ENSINO SUPERIOR DE FEIRA DE SANTANA LTDA',\n",
              "       'SOCIEDADE EDUCACIONAL ZACARIAS DE GOES VASCONCELOS LTDA.',\n",
              "       'JAPANN SERVICOS EDUCACIONAIS LTDA',\n",
              "       'SOCIEDADE UNIVERSITARIA REDENTOR',\n",
              "       'CENTRO EDUCACIONAL HYARTE-ML LTDA',\n",
              "       'SEEB - SOCIEDADE DE ESTUDOS EMPRESARIAIS AVANCADOS DA BAHIA LTDA',\n",
              "       'COLEGIO CULTURAL MODULO LTDA - EPP',\n",
              "       'SOCIEDADE EDUCACIONAL DESEMBARGADOR PLINIO PINTO COELHO LTDA',\n",
              "       'SOC EDUCACIONAL E ASSISTENCIAL DA PAR DE PAO DE ACUCAR',\n",
              "       'FISMA - FACULDADE INTEGRADA DE SANTA MARIA LTDA.',\n",
              "       'CENTRO DE ENSINO SUPERIOR DOM ALBERTO LTDA',\n",
              "       'SERVICO NACIONAL DE APRENDIZAGEM COMERCIAL - SENAC MINAS',\n",
              "       'UNIAO EDUCACIONAL, CULTURAL E TECNOLOGICA IMPACTA - UNI.IMPACTA',\n",
              "       'UNISULMA- UNIDADE DE ENSINO SUPERIOR DO SUL DO MARANHAO LTDA - ME',\n",
              "       'CESUPI CENTRO DE ENSINO SUPERIOR DE ILHEUS LTDA - ME',\n",
              "       'SOCIEDADE UNIVERSITARIA DE DESENVOLVIMENTO PROFISSIONALIZANTE S/S - SUDEP FATENE',\n",
              "       'ASSOCIACAO HOSPITALAR DE PROT INFANCIA DR RAUL CARNEIRO',\n",
              "       'CENTRO DE ENSINO SUPERIOR DE IPORA LTDA - EPP',\n",
              "       'INSTITUTO DE ENSINO SAO SEBASTIAO LTDA', 'SER EDUCACIONAL S.A.',\n",
              "       'CENTRO DE EDUCACAO SUPERIOR REINALDO RAMOS S/C LTDA - CESREI - ME',\n",
              "       'FUNDACAO MOVIMENTO DIREITO E CIDADANIA - FUNDACAO MDC',\n",
              "       'UNIAO DAS FACULDADES INTEGRADAS DE NEGOCIOS LTDA.',\n",
              "       'UNEMPE - UNIAO EMPRESARIAL EDUCACIONAL LTDA',\n",
              "       'SOCIEDADE DE ENSINO SERRA DO CARMO LTDA',\n",
              "       'ASSOCIACAO BENEFICENTE DA INDUSTRIA CARBONIFERA DE SANTA CATARINA (SATC)',\n",
              "       'SOCIEDADE EDUCACIONAL VERDE NORTE LTDA  - ME',\n",
              "       'ASSOCIACAO EDUCACIONAL DE PATOS DE MINAS - AEPM',\n",
              "       'SOCIEDADE DE EDUCACAO, CULTURA E TECNOLOGIA DA AMAZONIA S/A',\n",
              "       'UNIAO EDUCACIONAL META LTDA - ME',\n",
              "       'CENTRO REGIONAL DE ENSINO SUPERIOR ARNO KREUTZ LTDA - EPP',\n",
              "       'FADERGS - FACULDADE DE DESENVOLVIMENTO DO RIO GRANDE DO SUL LTDA.',\n",
              "       'CENTRO DE EDUCACAO DO PANTANAL LTDA - EPP',\n",
              "       'UNESBA - UNIAO DE ENSINO SUPERIOR DE BRASILIA S.S. LTDA.',\n",
              "       'INSTITUTO SUPERIOR DE ENSINO STA. CECILIA LTDA - EPP',\n",
              "       'DINAMICA ORGANIZACAO PROJETOS E CONSULTORIA LTDA - ME',\n",
              "       'J. COUTINHO SOCIEDADE CIVIL LTDA  - ME',\n",
              "       'IUNI EDUCACIONAL - UNIME SALVADOR LTDA',\n",
              "       'ASSOCIACAO PIRIPIRIENSE DE ENSINO SUPERIOR',\n",
              "       'ASPEC SOCIEDADE PARAIBANA DE EDUCACAO E CULTURA LTDA',\n",
              "       'SOCIEDADE DE EDUCACAO E CULTURA DE SAO JOSE DO RIO PRETO LTDA.',\n",
              "       'CENTRO DE ENSINO SUPERIOR SAO FRANCISCO LTDA - ME',\n",
              "       'EDUCARE GESTAO DE EDUCACAO LTDA - ME',\n",
              "       'UNIVICOSA - UNIAO DE ENSINO SUPERIOR DE VICOSA LTDA',\n",
              "       'SOCIEDADE EDUCACIONAL SUL BAHIANA LTDA - EPP',\n",
              "       'SEEA-SOCIEDADE DE ESTUDOS EMPRESARIAIS DE ALAGOINHAS LTDA',\n",
              "       'SERVICO NACIONAL DE APRENDIZAGEM COMERCIAL - SENAC',\n",
              "       'SERVICO NACIONAL DE APRENDIZAGEM COMERCIAL - SENAC ARRJ',\n",
              "       'SOCIEDADE CATALANA DE EDUCACAO S/C LTDA - EPP',\n",
              "       'CENTRO SUPERIOR DE TECNOLOGIA TECBRASIL LTDA',\n",
              "       'INSTITUTO DE DESENVOLVIMENTO EDUCACIONAL DO ALTO URUGUAI LTDA',\n",
              "       'FUNDACAO DE ENSINO E PESQUISA DO SUL DE MINAS',\n",
              "       'FUNDACAO EDUCACIONAL DE OLIVEIRA',\n",
              "       'FUNDACAO EDUCACIONAL DE PATOS DE MINAS',\n",
              "       'FUNDACAO EDUCACIONAL DE LAVRAS',\n",
              "       'CENTRO DE ENSINO SUPERIOR MULTIPLO S/C LTDA - EPP',\n",
              "       'FIUSA EDUCACIONAL S/SIMPLES LTDA - EPP',\n",
              "       'CENTRO EDUCACIONAL DE ENSINO SUPERIOR DE CORNELIO PROCOPIO - CESUCOP',\n",
              "       'SANTANA INSTITUTO DE EDUCACAO SUPERIOR LTDA - EPP',\n",
              "       'FUNDACAO BOAS NOVAS', 'SISTEMA DE ENSINO SUPERIOR IBITURUNA LTDA',\n",
              "       'CESUCA - COMPLEXO DE ENSINO SUPERIOR DE CACHOEIRINHA LTDA',\n",
              "       'INSTITUTO EDUCACIONAL SANTA CATARINA LTDA - EPP',\n",
              "       'INSTITUICAO BAIANA DE ENSINO SUPERIOR LTDA',\n",
              "       'ESCOLA DE ENFERMAGEM SAO VICENTE DE PAULA LTDA - EPP',\n",
              "       'ASSOCIACAO EDUCACIONAL DE CIENCIAS DA SAUDE - AECISA',\n",
              "       'SOCIEDADE AMIGOS DA INSTRUCAO DE JATINA - ME',\n",
              "       'COMPLEXO DE ENSINO SUPERIOR DE SAO PAULO LTDA - CESUSP',\n",
              "       'FACULDADE DO COMPLEXO EDUCACIONAL SANTO ANDRE S/S LTDA',\n",
              "       'SOCIEDADE DE ENSINO SUPERIOR MADRE FRANCISCA LECHNER - CAICO S/S LIMITADA - EPP',\n",
              "       'UNIAO MARINGAENSE DE ENSINO LTDA - EPP',\n",
              "       'CENTRO DE ESTUDOS III MILLENIUM LTDA',\n",
              "       'SOCIEDADE MARANHENSE DE ENSINO SUPERIOR - SS - EPP',\n",
              "       'BACABAL MEARIM SISTEMAS DE ENSINO LTDA.',\n",
              "       'INSTITUTO EDUCACIONAL ALMENARA LTDA - EPP',\n",
              "       'CENTRO DE EDUCACAO SERRA DA MESA LTDA - CESEM - EPP',\n",
              "       'IBGEN EDUCACIONAL LTDA', 'ESCOLA MADRE TEREZA LTDA - ME',\n",
              "       'SESTAS - SOCIEDADE DE ESTUDOS SAO TOMAZ DE AQUINO - ME',\n",
              "       'SESG - SOCIEDADE DE EDUCACAO SUPERIOR GUAIRACA LTDA',\n",
              "       'SOCIEDADE CULTURAL E EDUCACIONAL DO INTERIOR PAULISTA S/S LTDA',\n",
              "       'CENESUP - CENTRO NACIONAL DE ENSINO SUPERIOR LTDA',\n",
              "       'ASSUPERO ENSINO SUPERIOR LTDA.',\n",
              "       'SOCIEDADE DE EDUCACAO N.S. AUXILIADORA LTDA',\n",
              "       'SOCIEDADE EDUCACIONAL CARVALHO GOMES LTDA',\n",
              "       'SOCIEDADE DE ENSINO SUPERIOR IDEAL LTDA - EPP',\n",
              "       'CENTRO SOCIAL CLODOVEU ARRUDA',\n",
              "       'INSTITUTO FLORENCE DE ENSINO SUPERIOR LTDA - ME',\n",
              "       'INSTITUTO CAMPINENSE DE ENSINO SUPERIOR LTDA',\n",
              "       'SOCIEDADE DE ENSINO SUPERIOR DE SERRA TALHADA - SESST - EPP',\n",
              "       'PIPEL-PICOS PETROLEO LTDA', 'CENTRO DE ENSINO METODO - EIRELI',\n",
              "       'PIRES & CIA LTDA - EPP',\n",
              "       'CENACAP CENTRO NACIONAL DE CAPACITACAO PROFISSIONAL LTDA - EPP',\n",
              "       'CENTRO DE ESTUDOS OCTAVIO DIAS DE OLIVEIRA',\n",
              "       'INFNET EDUCACAO LTDA.', 'CLAUDER CIARLINI FILHO & CIA',\n",
              "       'CEUMA-ASSOCIACAO DE ENSINO SUPERIOR',\n",
              "       'ESCOLA TECNOLOGICA DE CURITIBA LTDA - EPP',\n",
              "       'SOCIEDADE DE ENSINO SUPERIOR E DE PESQUISA DE SERGIPE LTDA - SESPS',\n",
              "       'CECAM - CENTRO EDUCACIONAL E CULTURAL DA AMAZONIA - EPP',\n",
              "       'INSTITUTO DE DESENVOLVIMENTO TECNOLOGICO E EDUCACIONAL DE PIRACICABA LTDA',\n",
              "       'CENTRO EDUCACIONAL NOSSA CIDADE LTDA.',\n",
              "       'SOCIEDADE EDUCACIONAL HERRERO LTDA. - SS - EPP',\n",
              "       'CIESPI-CENTRO INTEGRADO DE EDUCACAO SUPERIOR DO PIAUI LTDA',\n",
              "       'SOCIEDADE DE ENSINO SUPERIOR ESTACIO AMAZONAS LTDA',\n",
              "       'CETTAA EDUCACIONAL LTDA', 'UNIBALSAS EDUCACIONAL LTDA',\n",
              "       'UNIAO DAS ESCOLAS SUPERIORES DE JI-PARANA  LTDA',\n",
              "       'INSTITUICAO ADVENTISTA NORDESTE BRASILEIRA DE EDUCACAO E ASSISTENCIA SOCIAL',\n",
              "       'CENTRO DE ENSINO SUPERIOR DE MARABA LTDA',\n",
              "       'SOCIEDADE UNIVERSITARIA DE EXCELENCIA EDUCACIONAL DO RIO GRANDE DO NORTE LTDA',\n",
              "       'SENAI-SERVICO NACIONAL DE APRENDIZAGEM INDUSTRIAL',\n",
              "       'VERA CLAUDINO EDUCACAO SUPERIOR LIMITADA - ME',\n",
              "       'ASSOCIACAO DE ENSINO SUPERIOR ANGLO LIDER - AESAL',\n",
              "       'EDUCACIONAL MARTINS ANDRADE LTDA - EPP',\n",
              "       'CENTRO DE EDUCACAO SUPERIOR DO NORTE GOIANO LTDA - ME',\n",
              "       'CEI - CENTRO EDUCACIONAL INTEGRADO LTDA',\n",
              "       'INSTITUTO PAULISTA DE DIFUSAO CULTURAL LTDA',\n",
              "       'INSTITUTO PARAISO DO NORTE DE EDUCACAO E CULTURA LTDA - IPNEC - ME',\n",
              "       'CENTRO BRASILEIRO DE PROFISSIONALIZACAO EMPRESARIAL LTDA',\n",
              "       'IBGM - INSTITUTO BRASILEIRO DE GESTAO & MARKETING LTDA - EPP',\n",
              "       'INSTITUTO VALE EDUCACAO',\n",
              "       'UNIDADE DE ENSINO, PESQUISA E EXTENSAO DE RIACHAO DO JACUIPE EIRELI',\n",
              "       'FACULDADE DE TECNOLOGIA E CIENCIAS DO NORTE DO PARANA LTDA - ME',\n",
              "       'BRASIL EDUCACAO S/A',\n",
              "       'CAMARA DE DIRIGENTES LOJISTAS DE FORTALEZA', 'FOIL LTDA - EPP',\n",
              "       'CETEC EDUCACIONAL S.A.',\n",
              "       'SOEGAR-SOCIEDADE EDUCACIONAL GARDINGO LTDA - EPP',\n",
              "       'FUNDACAO SANTA TEREZINHA DE MOSSORO',\n",
              "       'FASIPE CENTRO EDUCACIONAL LTDA - ME',\n",
              "       'INSTITUTO EDUCACIONAL MARIA RANULFA LTDA - EPP',\n",
              "       'FACULDADES INTEGRADAS DE CASTANHAL LTDA - EPP',\n",
              "       'ORME SERVICOS EDUCACIONAIS LTDA',\n",
              "       'FACULDADE DE CIENCIAS E TECNOLOGIA DO MARANHAO LTDA - ME',\n",
              "       'INSTITUTO TOCANTINENSE DE EDUCACAO SUPERIOR E PESQUISA LTDA - ME',\n",
              "       'OFM SISTEMAS LTDA',\n",
              "       'INSTITUTO DE GESTAO EDUCACIONAL SIGNORELLI LTDA.',\n",
              "       'FACULDADE UNIAO ARARUAMA DE ENSINO S/S LTDA. - ME',\n",
              "       'ASSOCIACAO MOGIANA PARA DESENVOLVIMENTO DA EDUCACAO',\n",
              "       'ODONTO RAD LTDA - ME',\n",
              "       'SOCIEDADE METROPOLITANA DE EDUCACAO, CULTURA E TECNOLOGIA SAO CARLOS S/S LTDA - ME',\n",
              "       'UNIAO DE ENSINO DE SANTA CRUZ - UNIESC LTDA - EPP',\n",
              "       'UNIAO DE ENSINO E CULTURA DE GUARAPUAVA LTDA - UNIGUA',\n",
              "       'IDEA - INSTITUTO DE DESENVOLVIMENTO EDUCACIONAL AVANCADO S/S LTDA',\n",
              "       'UNIPB - UNIAO DE ENSINO SUPERIOR DA PARAIBA LTDA - ME',\n",
              "       'UNIAO BRASILEIRA DE EDUCACAO LTDA  - ME',\n",
              "       'COMPLEXO DE ENSINO SUPERIOR ESPECIALIZADA NA AREA DE SAUDE S/S - ME',\n",
              "       'INSTITUTO JOAO NEORICO', 'FUNDACAO UNIVERSITARIA VIDA CRISTA',\n",
              "       'ASSOCIACAO EDUCACIONAL DR. ODILON FERNANDES',\n",
              "       'SOCIEDADE EDUCACIONAL RIOGRANDENSE LTDA.',\n",
              "       'SESSA-SOCIEDADE DE EDUCACAO SUPERIOR DO SEMI-ARIDO LTDA - ME',\n",
              "       'FUNDACAO EDUCACIONAL ALTO MEDIO SAO FRANCISCO',\n",
              "       'INSTITUTO MAKRO UNIAO POS-GRADUACAO E EXTENSAO LTDA - ME',\n",
              "       'IDEZ EMPREENDIMENTOS EDUCACIONAIS LTDA.',\n",
              "       'INSTITUTO METROPOLITANO DE EDUCACAO E CULTURA LTDA - ME',\n",
              "       'INSTITUTO BRASILIENSE DE DIREITO PUBLICO IDP LTDA',\n",
              "       'INACI ASSOCIACAO DE ENSINO', 'H. M. SIMOES CARNEIRO - ME',\n",
              "       'ITPAC PORTO NACIONAL - INSTITUTO TOCANTINENSE PRESIDENTE ANTONIO CARLOS  PORTO S.A.',\n",
              "       'SALES BURGOS CONSULTORIA E SERVICOS EDUCACIONAIS LTDA - ME',\n",
              "       'ESCOLA SUPERIOR DA AMAZONIA S/C LTDA - ESAMAZ',\n",
              "       'CINTEP - CENTRO INTEGRADO DE TECNOLOGIA E PESQUISA LTDA - ME',\n",
              "       'INSTITUTO DE ENSINO SUPERIOR MOINHO VELHO LTDA - ME',\n",
              "       'CENTRO DE ENSINO SUPERIOR DE PRESIDENTE PRUDENTE - CESPP',\n",
              "       'INSTITUTO PROMINAS SERVICOS EDUCACIONAIS LTDA',\n",
              "       'ORGANIZACAO EDUCACIONAL ARAUCARIA LTDA - ME',\n",
              "       'ASSOCIACAO EDUCACIONAL JOAO PAULO II',\n",
              "       'FATEC -BA FACULDADE DE TECNOLOGIA E CIENCIAS DA BAHIA LTDA',\n",
              "       'ASSOCIACAO EDUCATIVA DE JANAUBA - SOEDUCAR',\n",
              "       'FACULDADE DE CIENCIAS DO TOCANTINS LTDA - FACIT - ME',\n",
              "       'CV & C CONSULTORES ASSOCIADOS LTDA - EPP',\n",
              "       'ASSOCIACAO SEQUENCIAL DE ENSINO SUPERIOR',\n",
              "       'INSTITUTO DE ENSINO SUPERIOR DE PALHOCA S/S LTDA.',\n",
              "       'SISTEMA DE ENSINO SUPERIOR CIDADE DE BETIM LTDA - ME',\n",
              "       'CENTRO EDUCACIONAL MICHELIN LTDA - ME',\n",
              "       'FVA - FACULDADE DO VALE DO ARARANGUA LTDA  - ME',\n",
              "       'FACULDADE DOS CARAJAS LTDA - ME',\n",
              "       \"UNIDADE DE ENSINO SUPERIOR DE CACOAL ''PS'' LTDA - ME\",\n",
              "       \"SOCIEDADE EMPRESARIAL DE ESTUDOS SUPERIORES E TECNOLOGICOS SANT''ANA LTDA - ME\",\n",
              "       'SISTEMA DE ENSINO SUPERIOR CIDADE DE BELO HORIZONTE LTDA - ME',\n",
              "       'CBPEX CONSULTORIA LTDA - EPP',\n",
              "       'UNIVERSO PROFESSORES ASSOCIADOS S/S LTDA - ME',\n",
              "       'SOCIEDADE UNIVERSITARIA DO PIAUI & CIA S/S - ME',\n",
              "       'INSTITUTO DE NOVA EDUCACAO LTDA - ME',\n",
              "       'INSTITUTO CAL DE ARTE E CULTURA',\n",
              "       'INSTITUTO DE PESQUISA E ENSINO LTDA - ME',\n",
              "       'LABORO - CENTRO DE CONSULTORIA QUALIFICAO E POS-GRADUACAO LTDA - EPP',\n",
              "       'ASSOCIACAO DE APOIO A EDUCACAO CIENCIA E TECNOLOGIA DO ESTADO DE SERGIPE - APEC-SE - EPP',\n",
              "       'SISTEMA ALFA UNIVERSITARIO LTDA - ALFA', 'UNIPIAGET/BRASIL',\n",
              "       'CENTRO DE ENSINO NOROESTE LTDA - ME',\n",
              "       'SOCIEDADE BRASILEIRA PARA O ENSINO E PESQUISA LTDA - ME',\n",
              "       'FACULDADES INTEGRADAS CARAJAS S/C LTDA - EPP',\n",
              "       'INSTITUTO MINEIRO DE EDUCACAO E CULTURA UNI-BH S/A',\n",
              "       'IESG-INSTITUTO DE EDUCACAO SAO GABRIEL DA PALHA LTDA',\n",
              "       'CEITEP - CENTRO DE EDUCACAO E INOVACAO TECNICO PROFISSIONAL LTDA - EPP',\n",
              "       'SOCIEDADE DE ENSINO SUPERIOR DO NORDESTE DA BAHIA LTDA - ME',\n",
              "       'EDITORA E DISTRIBUIDORA EDUCACIONAL S/A',\n",
              "       'FACULDADE DE GESTAO E NEGOCIOS DE SALVADOR LTDA',\n",
              "       'UNICA EDUCACIONAL LTDA',\n",
              "       'SOCIEDADE DE ENSINO SUPERIOR MASTER S/S LTDA. - ME',\n",
              "       'CESUL-CENTRO DE EDUCACAO SUPERIOR LTDA - EPP',\n",
              "       'CETESP CENTRO TECNOLOGICO DE EDUCACAO SUPERIOR E PROFISSIONAL LTDA',\n",
              "       'CENTRO DE ESTUDOS AMBIENTAIS DO VALE DO PARAIBA - CEAVAP - ME',\n",
              "       'ASSOCIACAO DE ENSINO SUPERIOR DE CAMPO GRANDE LTDA - ME',\n",
              "       'ACADEMIA JUINENSE DE ENSINO SUPERIOR LTDA - ME',\n",
              "       'GUATAG - SOCIEDADE DE ASSISTENCIA EDUCACIONAL LTDA',\n",
              "       'FACULDADE PARA O DESENVOLVIMENTO SUSTENTAVEL DA AMAZONIA LTDA. - ME',\n",
              "       'FACULDADE IRECE',\n",
              "       'FACULDADE DE GESTAO E NEGOCIOS DE FORTALEZA LTDA',\n",
              "       'ASSOCIACAO FACULDADES CATOLICAS PETROPOLITANAS',\n",
              "       'SEPA - SOCIEDADE EDUCACIONAL DA PARAIBA LTDA',\n",
              "       'ASSOCIACAO EDUCACIONAL LATINO AMERICANA',\n",
              "       'IERT- INSTITUICOES DE ENSINO REUNIDAS TIETE LTDA',\n",
              "       'EXCELLENCE ENSINO SUPERIOR LTDA',\n",
              "       'DINAMICA ASSESSORIA E GESTAO EMPRESARIAL LTDA - ME',\n",
              "       'UNIVERSAL-EDUCACAO E PROJETOS LTDA - ME',\n",
              "       'INSTITUTO SUPERIOR DE EDUCACAO FACETEN LTDA - ISEF - ME',\n",
              "       'METROPOLITAN EDUCACAO LTDA.',\n",
              "       'UNEPES- UNIDADE DE ENSINO, PESQUISA E EXTENSAO DE SERRINHA LTDA - ME',\n",
              "       'FEAM - FACULDADE DE EDUCACAO E TECNOLOGIA DA AMAZONIA LTDA - ME',\n",
              "       'SOCIEDADE UNIVERSITARIA MILETO LTDA - EPP',\n",
              "       'CENTRO UNIVERSITARIO DA BAHIA LTDA',\n",
              "       'FACULDADE DAS AMERICAS LTDA',\n",
              "       'INSTITUTO PATER DE EDUCACAO E CULTURA',\n",
              "       'INSTITUTO DE EDUCACAO SUPERIOR DO VALE DO PARNAIBA LTDA.',\n",
              "       'INSTITUTO DIAMANTINA DE EDUCACAO LTDA',\n",
              "       'CENTRO EDUCACIONAL TRES MARIAS - LTDA',\n",
              "       'OCESU - ORGANIZACAO CEARENSE DE EDUCACAO SUPERIOR LTDA',\n",
              "       'ASSOCIACAO EDUCACIONAL E CULTURAL DE QUIXADA',\n",
              "       'IESC - INSTITUTO DE EDUCACAO SUPERIOR E PESQUISA DO CEARA LTDA - ME',\n",
              "       'CENTRO DE ENSINO SUPERIOR E PESQUISA LOGOS LTDA - CESPEL',\n",
              "       'INSTITUTO JAGUARIBANO DE ENSINO LTDA. - ME',\n",
              "       'ALVES DE MELO E MELO LTDA',\n",
              "       'IESTEC- INSTITUTO DE ENSINO SUPERIOR TEOLOGICO CRISTAO - ME',\n",
              "       'MAILDES DELGADO SAMPAIO - ME',\n",
              "       'CENTRO DE ENSINO SUPERIOR DE PARAGOMINAS LTDA',\n",
              "       'CEPAR - CENTRO DE ENSINO SUPERIOR DE PARAUAPEBAS LTDA',\n",
              "       'INSTITUTO EDUCACIONAL INTEGRADO LTDA - ME',\n",
              "       'UNIC EDUCACIONAL LTDA',\n",
              "       'CENTRO DE EDUCACAO DE ROLIM DE MOURA LTDA',\n",
              "       'SERVICO NACIONAL DE APRENDIZAGEM INDUSTRIAL SENAI',\n",
              "       'SEEQ-SOCIEDADE DE ESTUDOS EMPRESARIAIS DE QUEIMADAS LTDA - ME',\n",
              "       'ASSOCIACAO EDUCACIONAL MATONENSE',\n",
              "       'UNIAO CATALANA DA GESTAO DO CONHECIMENTO LTDA - ME',\n",
              "       'FEDERAL EDUCACIONAL LTDA.', 'FACULDADE VALE DO ACO LTDA',\n",
              "       'INSTITUTO DE DESENVOLVIMENTO EDUCACIONAL DE CAXIAS DO SUL LTDA',\n",
              "       'INSTITUTO DE DESENVOLVIMENTO EDUCACIONAL DE PASSO FUNDO LTDA',\n",
              "       'INSTITUTO DE DESENVOLVIMENTO EDUCACIONAL DE BAGE LTDA',\n",
              "       'SOCIEDADE EDUCACIONAL SARANDI  LTDA',\n",
              "       'INSTITUTO EDUCACIONAL E TECNOLOGICO DE QUIXADA LTDA',\n",
              "       'FACULDADES DE CIENCIAS E TECNOLOGIA DO NORDESTE LTDA - EPP',\n",
              "       'INSTITUTO DE ENSINO SANTA NATALIA LTDA - ME',\n",
              "       'FACULDADES BRASIL INTELIGENTE S/S LTDA',\n",
              "       'INSTITUTO DE MANTENCA DE ENSINO SUPERIOR LTDA - EPP',\n",
              "       'INSTITUTO DE ENSINO DALVA CAMPOS LTDA - ME',\n",
              "       'DINAMICA ADMINISTRACAO CONSULTORIA & GESTAO S/S LTDA',\n",
              "       'SOCIEDADE DE EDUCACAO SUPERIOR DO CABO LTDA',\n",
              "       'CENTRO AVANCADO DE ORTODONTIA PAULO PICANCO S/S LTDA - EPP',\n",
              "       'IGREJA ASSEMBLEIA DE DEUS MINISTERIO PRESIDENTE PRUDENTE',\n",
              "       'FACISA NOROESTE LTDA - EPP',\n",
              "       'SOCIEDADE EDUCACIONAL VALE DO SAO FRANCISCO LTDA - ME',\n",
              "       'CENTRO DE ENSINO SUPERIOR DE SERRA TALHADA LIMITADA - EPP',\n",
              "       'FAUSB EDUCACIONAL LTDA', 'FCR EDUCACIONAL LTDA',\n",
              "       'VIDAM EMPREENDIMENTOS EDUCACIONAIS LTDA - EPP',\n",
              "       'EDUFOR PRESTADORA DE SERVICOS LTDA - ME',\n",
              "       'GRUPO M.C EDUCACAO E ASSESSORIA LTDA - ME',\n",
              "       'ORGANIZACAO TECNOLOGICA DE ENSINO LTDA',\n",
              "       'CENTRO DE ENSINO SANTO ANTONIOX LTDA',\n",
              "       'CENTRO DE ESTUDOS JURIDICOS DO AMAZONAS LTDA - ME',\n",
              "       'ASSOCIACAO INTERNACIONAL UNIAO DAS AMERICAS',\n",
              "       'FACULDADE DE EDUCACAO E CULTURA DA SERRA DA IBIAPABA LTDA',\n",
              "       'UNIESP S.A',\n",
              "       'SOBERANA FACULDADE DE SAUDE DE PETROLINA LTDA - EPP',\n",
              "       'CENTRO DE ENSINO SUPERIOR BELCHIOR LTDA',\n",
              "       'ASSOCIACAO DE ENSINO E CULTURA PIO DECIMO DO ALTO SAO FRANCISCO LTDA',\n",
              "       'INFOGENIUS ESCOLA TECNICA PROFISSIONALIZANTE LTDA - ME',\n",
              "       'FACULDADE METROPOLITANA RECANTO DAS EMAS LTDA',\n",
              "       'UNIDADE DE ENSINO SUPERIOR DO CENTRO MARANHENSE LTDA',\n",
              "       'INSTITUTO DARCY RIBEIRO S/S LTDA - ME',\n",
              "       'ASSOCIACAO SAO JOSE DE ANCHIETA - ASJEA',\n",
              "       'UNIDADE REGIONAL BRASILEIRA DE EDUCACAO LTDA',\n",
              "       'INSTITUTO SUPERIOR EM CIENCIAS DA SAUDE LTDA.',\n",
              "       'INSTITUTO DE ADMINISTRACAO & GESTAO EDUCACIONAL LTDA',\n",
              "       'CENTRO EDUCACIONAL DE ENSINO SUPERIOR DE PATOS LTDA',\n",
              "       'SOCIEDADE EDUCACIONAL MATO VERDE LTDA - ME',\n",
              "       'ESCOLA TECNICA DE BACABEIRA LTDA - ME',\n",
              "       'DAMA CENTRO DE EDUCACAO E TECNOLOGIA LTDA - ME',\n",
              "       'CENTRO DE ENSINO SUPERIOR SANTISSIMA TRINDADE LIMITADA - ME',\n",
              "       'SOCIEDADE PAULISTA DE ENSINO E PESQUISA S/S LTDA',\n",
              "       'SOCIEDADE EDUCACIONAL CESAR VIEIRA DINIZ - JUAZEIRO DO NORTE LTDA',\n",
              "       'SOCIEDADE EDUCACIONAL CESAR VIEIRA DINIZ - PETROLINA LTDA',\n",
              "       'COMPLEXO EDUCACIONAL MILLENIUM LTDA - ME',\n",
              "       'INSTITUTO DE CIENCIAS, EDUCACAO E TECNOLOGIA DA BAHIA - ICEB LTDA  - ME',\n",
              "       'FAC EDUCACIONAL LTDA', 'NOVATEC EDUCACIONAL LTDA',\n",
              "       'FAIR EDUCACIONAL LTDA',\n",
              "       'INSTITUTO INVEST DE EDUCACAO CONSULTORIA E ASSESSORIA LTDA - ME',\n",
              "       'SOCIEDADE EDUCACIONAL FORTALEZA - ME',\n",
              "       'ALAGOAS EDUCACIONAL DE ENSINO SUPERIOR LTDA - EPP',\n",
              "       'UNICIR - FACULDADE DO CARIRI LTDA - EPP',\n",
              "       'SOCIEDADE DE EDUCA  O SUPERIOR DE MACEI  LTDA',\n",
              "       'M C FELICIANO CONSTRUCOES EIRELI',\n",
              "       'CEN - CENTRO DE ENSINO SUPERIOR E CAPACITACAO LTDA - EPP',\n",
              "       'INSTITUTO SUPERIOR DE EDUCACAO DE ITAPIPOCA - ISEIT',\n",
              "       'ANHANGUERA EDUCACIONAL PARTICIPACOES S/A',\n",
              "       'FACULDADE CENTRO DE CONHECIMENTO DE TERESINA LTDA - ME',\n",
              "       'CENTRO EDUCACIONAL E DESPORTIVO ELO LTDA. - ME',\n",
              "       'INSTITUTO EDUCACIONAL COOPERARE LTDA. - ME',\n",
              "       'UNIAO LONDRINENSE DE ENSINO LTDA',\n",
              "       'INSTITUTO TEOLOGICO PADRE GIULIANO - ITEPAGI',\n",
              "       'INSTITUTO DE ENSINO SUPERIOR DO PIAUI LTDA',\n",
              "       'NOVOESTE EDUCACIONAL LTDA - EPP',\n",
              "       'CONVENCAO NAC ASS DE DEUS NO BRASIL MINIST MADUREIRA',\n",
              "       'FACULDADE DE ENSINO SUPERIOR DE PARNAIBA LTDA S/S',\n",
              "       'SOCIEDADE DE EDUCACAO E CULTURA APARECIDA DE GOIANIA LTDA - ME',\n",
              "       'FACULDADE 8 DE JULHO EIRELI - ME',\n",
              "       'FACULDADE SUPREMO REDENTOR LTDA - EPP',\n",
              "       'IGESP EDUCACAO E SAUDE LTDA', 'F. P. DO NASCIMENTO - ME',\n",
              "       'INSTITUTO DE TECNOLOGIA DA COSTA DO DENDE LTDA - ME',\n",
              "       'BRIGHT MINDS, REDE DE EDUCACAO GLOBAL LTDA',\n",
              "       'CESAR CENTRO DE ESTUDOS E SISTEMAS AVANCADOS DO RECIFE',\n",
              "       'UNIVERSIDADE BRASIL', 'FRB- FACULDADES REUNIDAS DE BOTUCATU LTDA',\n",
              "       'EMPREENDIMENTOS DE EDUCACAO CASTRO ALVES LTDA',\n",
              "       'EDUCACAO VERDE NORTE LTDA. - ME',\n",
              "       'ESCOLA UNIVERSITARIA DE BOTUCATU E REGIAO LTDA',\n",
              "       'INSTITUTO AUDY AZEVEDO', 'SOCIEDADE DE EDUCACAO S/S LTDA',\n",
              "       'CENTRO DE CIENCIAS EM SAUDE DE ITAJUBA S.A',\n",
              "       'ISLEC - INSTITUTO SETELAGOANO DE EDUCACAO E CIENCIA LTDA',\n",
              "       'SEIM - SOCIEDADE EDUCACIONAL IRMAOS MUNIZ LTDA',\n",
              "       'SOCIEDADE NORTE MINEIRA DE ENSINO E COMUNICACAO LTDA'],\n",
              "      dtype=object)"
            ]
          },
          "execution_count": 71,
          "metadata": {},
          "output_type": "execute_result"
        }
      ],
      "source": [
        "fies2019['Nome mantenedora'].unique()"
      ]
    },
    {
      "cell_type": "markdown",
      "metadata": {
        "id": "NAyd8SN1itT5"
      },
      "source": [
        "Para visualizar a distribuição destes valores, o comando \"value_counts\" foi utilizado"
      ]
    },
    {
      "cell_type": "code",
      "execution_count": 72,
      "metadata": {
        "colab": {
          "base_uri": "https://localhost:8080/"
        },
        "id": "73JSurPpYZ60",
        "outputId": "575b39bd-6ca3-4015-d585-e4d633edd652"
      },
      "outputs": [
        {
          "data": {
            "text/plain": [
              "ASSUPERO ENSINO SUPERIOR LTDA.                       8178\n",
              "SOCIEDADE DE ENSINO SUPERIOR ESTACIO DE SA LTDA      7702\n",
              "SER EDUCACIONAL S.A.                                 6798\n",
              "ANHANGUERA EDUCACIONAL PARTICIPACOES S/A             6365\n",
              "ASSOCIACAO EDUCACIONAL NOVE DE JULHO                 5085\n",
              "                                                     ... \n",
              "INSTITUICAO ADVENTISTA SUL BRASILEIRA DE EDUCACAO       1\n",
              "FUNDACAO EDUCACIONAL LUIZ REID                          1\n",
              "FACULDADES XV DE AGOSTO LTDA - EPP                      1\n",
              "ENSIGEST - BRASIL LTDA - EPP                            1\n",
              "DAMA CENTRO DE EDUCACAO E TECNOLOGIA LTDA - ME          1\n",
              "Name: Nome mantenedora, Length: 764, dtype: int64"
            ]
          },
          "execution_count": 72,
          "metadata": {},
          "output_type": "execute_result"
        }
      ],
      "source": [
        "fies2019['Nome mantenedora'].value_counts()"
      ]
    },
    {
      "cell_type": "markdown",
      "metadata": {
        "id": "zUNktxAWYZ60"
      },
      "source": [
        "Como não é possível visualizar todos os valores, pode-se retornar todos os valores não alfanuméricos para checar se existem dados que precisam ser tratados."
      ]
    },
    {
      "cell_type": "code",
      "execution_count": 73,
      "metadata": {
        "colab": {
          "base_uri": "https://localhost:8080/"
        },
        "id": "g9jfCnZSYZ60",
        "outputId": "2e6b21a4-87f7-4585-afae-15108c0ad9f7"
      },
      "outputs": [
        {
          "data": {
            "text/plain": [
              "array([], dtype=object)"
            ]
          },
          "execution_count": 73,
          "metadata": {},
          "output_type": "execute_result"
        }
      ],
      "source": [
        "fies2019['Nome mantenedora'][(fies2019['Nome mantenedora'].str.replace(' ','', regex=False).str.replace('-', '', regex=False).str.replace('.', '', regex=False).str.replace(',', '', regex=False).str.replace('/', '', regex=False).str.replace('&', '', regex=False).str.replace('(', '', regex=False).str.replace(')', '', regex=False).str.replace(\"'\", '', regex=False).str.replace('\"', '', regex=False).str.isalnum() != True)].unique()"
      ]
    },
    {
      "cell_type": "markdown",
      "metadata": {
        "id": "aTWwESYLeFIE"
      },
      "source": [
        "Como o resultado foi vazio, este campo está coerente, de forma que mais tratamentos não são necessários."
      ]
    },
    {
      "cell_type": "markdown",
      "metadata": {
        "id": "nf2rt6wKYZ61"
      },
      "source": [
        "### Natureza Jurídica Mantenedora"
      ]
    },
    {
      "cell_type": "markdown",
      "metadata": {
        "id": "puIrE_lRiySB"
      },
      "source": [
        "Primeiramente são avaliados os tipos de valores diferentes informados para este campo, por meio do comando \"unique\""
      ]
    },
    {
      "cell_type": "code",
      "execution_count": 74,
      "metadata": {
        "colab": {
          "base_uri": "https://localhost:8080/"
        },
        "id": "GFabz3L7YZ61",
        "outputId": "7527b6ac-c304-41df-a2b6-eca1aa2fd065"
      },
      "outputs": [
        {
          "data": {
            "text/plain": [
              "array(['PESSOA JURÍDICA DE DIREITO PRIVADO - SEM FINS LUCRATIVOS - ASSOCIAÇÃO DE UTILIDADE PÚBLICA',\n",
              "       'PRIVADA SEM FINS LUCRATIVOS',\n",
              "       'PESSOA JURÍDICA DE DIREITO PÚBLICO - MUNICIPAL',\n",
              "       'PESSOA JURÍDICA DE DIREITO PRIVADO - SEM FINS LUCRATIVOS - FUNDAÇÃO',\n",
              "       'PRIVADA COM FINS LUCRATIVOS',\n",
              "       'FUNDAÇÃO PÚBLICA DE DIREITO PRIVADO MUNICIPAL',\n",
              "       'PESSOA JURÍDICA DE DIREITO PRIVADO - COM FINS LUCRATIVOS - SOCIEDADE CIVIL',\n",
              "       'PESSOA JURÍDICA DE DIREITO PRIVADO - SEM FINS LUCRATIVOS - SOCIEDADE',\n",
              "       'PESSOA JURÍDICA DE DIREITO PRIVADO - COM FINS LUCRATIVOS - SOCIEDADE MERCANTIL OU COMERCIAL'],\n",
              "      dtype=object)"
            ]
          },
          "execution_count": 74,
          "metadata": {},
          "output_type": "execute_result"
        }
      ],
      "source": [
        "fies2019['Natureza Jurídica Mantenedora'].unique()"
      ]
    },
    {
      "cell_type": "markdown",
      "metadata": {
        "id": "2unlLWSkizuQ"
      },
      "source": [
        "Para visualizar a distribuição destes valores, o comando \"value_counts\" foi utilizado"
      ]
    },
    {
      "cell_type": "code",
      "execution_count": 75,
      "metadata": {
        "colab": {
          "base_uri": "https://localhost:8080/"
        },
        "id": "RGBB0_JoYZ61",
        "outputId": "780ab1b7-1202-4cfc-d11d-1e9a74279c26"
      },
      "outputs": [
        {
          "data": {
            "text/plain": [
              "PRIVADA COM FINS LUCRATIVOS                                                                    152470\n",
              "PRIVADA SEM FINS LUCRATIVOS                                                                     40139\n",
              "PESSOA JURÍDICA DE DIREITO PRIVADO - SEM FINS LUCRATIVOS - ASSOCIAÇÃO DE UTILIDADE PÚBLICA      18774\n",
              "PESSOA JURÍDICA DE DIREITO PRIVADO - COM FINS LUCRATIVOS - SOCIEDADE CIVIL                      16627\n",
              "PESSOA JURÍDICA DE DIREITO PRIVADO - SEM FINS LUCRATIVOS - FUNDAÇÃO                              2290\n",
              "PESSOA JURÍDICA DE DIREITO PRIVADO - COM FINS LUCRATIVOS - SOCIEDADE MERCANTIL OU COMERCIAL      1305\n",
              "PESSOA JURÍDICA DE DIREITO PÚBLICO - MUNICIPAL                                                    660\n",
              "PESSOA JURÍDICA DE DIREITO PRIVADO - SEM FINS LUCRATIVOS - SOCIEDADE                               87\n",
              "FUNDAÇÃO PÚBLICA DE DIREITO PRIVADO MUNICIPAL                                                      80\n",
              "Name: Natureza Jurídica Mantenedora, dtype: int64"
            ]
          },
          "execution_count": 75,
          "metadata": {},
          "output_type": "execute_result"
        }
      ],
      "source": [
        "fies2019['Natureza Jurídica Mantenedora'].value_counts()"
      ]
    },
    {
      "cell_type": "markdown",
      "metadata": {
        "id": "ag_grIR8dBOV"
      },
      "source": [
        "Este campo está coerente, de forma que mais tratamentos não são necessários."
      ]
    },
    {
      "cell_type": "markdown",
      "metadata": {
        "id": "AHCrfwxJYZ61"
      },
      "source": [
        "### Analisando Nome da IES"
      ]
    },
    {
      "cell_type": "markdown",
      "metadata": {
        "id": "qEU0sTJzi1SA"
      },
      "source": [
        "Primeiramente são avaliados os tipos de valores diferentes informados para este campo, por meio do comando \"unique\""
      ]
    },
    {
      "cell_type": "code",
      "execution_count": 76,
      "metadata": {
        "colab": {
          "base_uri": "https://localhost:8080/"
        },
        "id": "S9PWD9r9YZ62",
        "outputId": "1d219a79-615b-4ebf-95c0-882a0138412c"
      },
      "outputs": [
        {
          "data": {
            "text/plain": [
              "array(['PONTIFÍCIA UNIVERSIDADE CATÓLICA DO PARANÁ',\n",
              "       'UNIVERSIDADE CATÓLICA DE PERNAMBUCO',\n",
              "       'UNIVERSIDADE DE CAXIAS DO SUL', ...,\n",
              "       'FACULDADE KENNEDY DE BELO HORIZONTE',\n",
              "       'FACULDADE FUNORTE DE JANUÁRIA', 'FACULDADE FUNORTE DE JANAÚBA'],\n",
              "      dtype=object)"
            ]
          },
          "execution_count": 76,
          "metadata": {},
          "output_type": "execute_result"
        }
      ],
      "source": [
        "fies2019['Nome da IES'].unique()"
      ]
    },
    {
      "cell_type": "markdown",
      "metadata": {
        "id": "kTO070Mzi2vA"
      },
      "source": [
        "Para visualizar a distribuição destes valores, o comando \"value_counts\" foi utilizado"
      ]
    },
    {
      "cell_type": "code",
      "execution_count": 77,
      "metadata": {
        "colab": {
          "base_uri": "https://localhost:8080/"
        },
        "id": "Kl8hCvJWYZ62",
        "outputId": "7a0d6001-28a9-47c3-9000-b17a811cfecf"
      },
      "outputs": [
        {
          "data": {
            "text/plain": [
              "UNIVERSIDADE PAULISTA                                6906\n",
              "UNIVERSIDADE ESTÁCIO DE SÁ                           6077\n",
              "UNIVERSIDADE NOVE DE JULHO                           5042\n",
              "CENTRO UNIVERSITÁRIO DE BELO HORIZONTE               3001\n",
              "UNIVERSIDADE DO CEUMA - UNICEUMA                     2734\n",
              "                                                     ... \n",
              "FACULDADE DE ILHA SOLTEIRA                              1\n",
              "FACULDADE DAMA                                          1\n",
              "FACULDADE PRUDENTE DE MORAES                            1\n",
              "FACULDADE DE SERTÃOZINHO                                1\n",
              "INSTITUTO DE ENSINO SUPERIOR DE LONDRINA - INESUL       1\n",
              "Name: Nome da IES, Length: 1268, dtype: int64"
            ]
          },
          "execution_count": 77,
          "metadata": {},
          "output_type": "execute_result"
        }
      ],
      "source": [
        "fies2019['Nome da IES'].value_counts()"
      ]
    },
    {
      "cell_type": "markdown",
      "metadata": {
        "id": "EBc-SnKueUYt"
      },
      "source": [
        "Como não é possível visualizar todos os valores, pode-se retornar todos os valores não alfanuméricos para checar se existem dados que precisam ser tratados."
      ]
    },
    {
      "cell_type": "code",
      "execution_count": 78,
      "metadata": {
        "colab": {
          "base_uri": "https://localhost:8080/"
        },
        "id": "1kMVJeeRYZ62",
        "outputId": "bce8e848-ef7d-4f3c-8e84-8d868d62f235"
      },
      "outputs": [
        {
          "data": {
            "text/plain": [
              "array(['ESCOLA SUPERIOR DE SAÃ\\x8aDE DE ARCOVERDE',\n",
              "       'FACULDADE VISCONDE DE CAIRÃ\\x8a',\n",
              "       'FACULDADES INTEGRADAS VIANNA JÃ\\x8aNIOR',\n",
              "       'FACULDADE DE DIREITO DE ITÃ\\x8a'], dtype=object)"
            ]
          },
          "execution_count": 78,
          "metadata": {},
          "output_type": "execute_result"
        }
      ],
      "source": [
        "fies2019['Nome da IES'][(fies2019['Nome da IES'].str.replace(' ','', regex=False).str.replace('-', '', regex=False).str.replace('.', '', regex=False).str.replace(',', '', regex=False).str.replace('/', '', regex=False).str.replace('&', '', regex=False).str.replace('(', '', regex=False).str.replace(')', '', regex=False).str.replace(\"'\", '', regex=False).str.replace('\"', '', regex=False).str.isalnum() != True)].unique()"
      ]
    },
    {
      "cell_type": "markdown",
      "metadata": {
        "id": "n1PjXKOCeaRE"
      },
      "source": [
        "A partir da análise do resultado, nota-se que o caractere dando erro é \"Ú\", dessa forma, podemos substituí-lo onde está ocorrendo erro."
      ]
    },
    {
      "cell_type": "code",
      "execution_count": 79,
      "metadata": {
        "id": "TtWExrwUbJu4"
      },
      "outputs": [],
      "source": [
        "fies2019['Nome da IES'] = fies2019['Nome da IES'].str.replace('Ã\\x8a','U', regex=False)"
      ]
    },
    {
      "cell_type": "markdown",
      "metadata": {
        "id": "JnzcLOxDfic8"
      },
      "source": [
        "Agora checamos se os erros foram removidos"
      ]
    },
    {
      "cell_type": "code",
      "execution_count": 80,
      "metadata": {
        "colab": {
          "base_uri": "https://localhost:8080/"
        },
        "id": "y0nj-OabevIt",
        "outputId": "eb3bfaf0-263b-4bad-98ba-2a166b616ea1"
      },
      "outputs": [
        {
          "data": {
            "text/plain": [
              "array([], dtype=object)"
            ]
          },
          "execution_count": 80,
          "metadata": {},
          "output_type": "execute_result"
        }
      ],
      "source": [
        "fies2019['Nome da IES'][(fies2019['Nome da IES'].str.replace(' ','', regex=False).str.replace('-', '', regex=False).str.replace('.', '', regex=False).str.replace(',', '', regex=False).str.replace('/', '', regex=False).str.replace('&', '', regex=False).str.replace('(', '', regex=False).str.replace(')', '', regex=False).str.replace(\"'\", '', regex=False).str.replace('\"', '', regex=False).str.isalnum() != True)].unique()"
      ]
    },
    {
      "cell_type": "markdown",
      "metadata": {
        "id": "JXV9Kxrgexwz"
      },
      "source": [
        "Como o resultado foi vazio, este campo agora está coerente, de forma que mais tratamentos não são necessários."
      ]
    },
    {
      "cell_type": "markdown",
      "metadata": {
        "id": "Bx88dDsuYZ62"
      },
      "source": [
        "### Analisando Organização Acadêmica da IES"
      ]
    },
    {
      "cell_type": "markdown",
      "metadata": {
        "id": "5QiecrLhYZ63"
      },
      "source": [
        "Primeiramente são avaliados os tipos de valores diferentes informados para este campo, por meio do comando \"unique\""
      ]
    },
    {
      "cell_type": "code",
      "execution_count": 81,
      "metadata": {
        "colab": {
          "base_uri": "https://localhost:8080/"
        },
        "id": "H2_fxcM8YZ63",
        "outputId": "a33f0e2e-7e5b-4efd-cb8a-04fadc5922dd"
      },
      "outputs": [
        {
          "data": {
            "text/plain": [
              "array(['UNIVERSIDADE', 'CENTRO UNIVERSITÁRIO', 'FACULDADE '], dtype=object)"
            ]
          },
          "execution_count": 81,
          "metadata": {},
          "output_type": "execute_result"
        }
      ],
      "source": [
        "fies2019['Organização Acadêmica da IES'].unique()"
      ]
    },
    {
      "cell_type": "markdown",
      "metadata": {
        "id": "EXdp0EIxYZ63"
      },
      "source": [
        "Para visualizar a distribuição destes valores, o comando \"value_counts\" foi utilizado"
      ]
    },
    {
      "cell_type": "code",
      "execution_count": 82,
      "metadata": {
        "colab": {
          "base_uri": "https://localhost:8080/"
        },
        "id": "GQ_xNl0zYZ64",
        "outputId": "fae30d99-b7d3-4bf7-f202-68a7c747c0fc"
      },
      "outputs": [
        {
          "data": {
            "text/plain": [
              "FACULDADE               99583\n",
              "CENTRO UNIVERSITÁRIO    74520\n",
              "UNIVERSIDADE            58329\n",
              "Name: Organização Acadêmica da IES, dtype: int64"
            ]
          },
          "execution_count": 82,
          "metadata": {},
          "output_type": "execute_result"
        }
      ],
      "source": [
        "fies2019['Organização Acadêmica da IES'].value_counts()"
      ]
    },
    {
      "cell_type": "markdown",
      "metadata": {
        "id": "P3jcStiUYZ64"
      },
      "source": [
        "Como os dados em questão estão coerentes, não serão necessárias verificações extras"
      ]
    },
    {
      "cell_type": "markdown",
      "metadata": {
        "id": "ZwaUTlCcYZ64"
      },
      "source": [
        "### Analisando UF do Local de Oferta "
      ]
    },
    {
      "cell_type": "markdown",
      "metadata": {
        "id": "204bDdmVYZ65"
      },
      "source": [
        "Primeiramente são avaliados os tipos de valores diferentes informados para este campo, por meio do comando \"unique\""
      ]
    },
    {
      "cell_type": "code",
      "execution_count": 83,
      "metadata": {
        "colab": {
          "base_uri": "https://localhost:8080/"
        },
        "id": "Q1yY_R0LYZ65",
        "outputId": "36fdc27b-47c4-4e6b-e377-2345a4516679"
      },
      "outputs": [
        {
          "data": {
            "text/plain": [
              "array(['PR', 'PE', 'RS', 'MG', 'SP', 'RJ', 'BA', 'MS', 'ES', 'SC', 'GO',\n",
              "       'PB', 'SE', 'AL', 'DF', 'TO', 'CE', 'AM', 'RN', 'PI', 'PA', 'MA',\n",
              "       'AP', 'RO', 'MT', 'RR', 'AC'], dtype=object)"
            ]
          },
          "execution_count": 83,
          "metadata": {},
          "output_type": "execute_result"
        }
      ],
      "source": [
        "fies2019['UF do Local de Oferta'].unique()"
      ]
    },
    {
      "cell_type": "markdown",
      "metadata": {
        "id": "5UNKq9ezYZ66"
      },
      "source": [
        "Para visualizar a distribuição destes valores, o comando \"value_counts\" foi utilizado"
      ]
    },
    {
      "cell_type": "code",
      "execution_count": 84,
      "metadata": {
        "colab": {
          "base_uri": "https://localhost:8080/"
        },
        "id": "txmPNGJaYZ66",
        "outputId": "0fb7ecb6-1fca-4994-f571-45f6ae6a062f"
      },
      "outputs": [
        {
          "data": {
            "text/plain": [
              "SP    32896\n",
              "MG    28753\n",
              "BA    18578\n",
              "CE    17465\n",
              "RJ    16378\n",
              "PE    13043\n",
              "PA    11803\n",
              "PB     9515\n",
              "MA     9367\n",
              "DF     8724\n",
              "PR     8637\n",
              "GO     7121\n",
              "RS     7017\n",
              "AM     6737\n",
              "PI     6718\n",
              "AL     3866\n",
              "RN     3804\n",
              "SE     3109\n",
              "RO     3075\n",
              "ES     2904\n",
              "MT     2773\n",
              "TO     2704\n",
              "SC     2204\n",
              "AP     1946\n",
              "MS     1666\n",
              "AC     1255\n",
              "RR      374\n",
              "Name: UF do Local de Oferta, dtype: int64"
            ]
          },
          "execution_count": 84,
          "metadata": {},
          "output_type": "execute_result"
        }
      ],
      "source": [
        "fies2019['UF do Local de Oferta'].value_counts()"
      ]
    },
    {
      "cell_type": "markdown",
      "metadata": {
        "id": "7mV-lX-_YZ67"
      },
      "source": [
        "Como os dados em questão estão coerentes, não serão necessárias verificações extras"
      ]
    },
    {
      "cell_type": "markdown",
      "metadata": {
        "id": "rpFpm49xYZ68"
      },
      "source": [
        "### Analisando Nome do curso "
      ]
    },
    {
      "cell_type": "markdown",
      "metadata": {
        "id": "LWzrEl_OYZ69"
      },
      "source": [
        "Primeiramente são avaliados os tipos de valores diferentes informados para este campo, por meio do comando \"unique\""
      ]
    },
    {
      "cell_type": "code",
      "execution_count": 85,
      "metadata": {
        "colab": {
          "base_uri": "https://localhost:8080/"
        },
        "id": "cvgvUypcYZ69",
        "outputId": "65137486-3c9c-434b-aac8-606809872dc4"
      },
      "outputs": [
        {
          "data": {
            "text/plain": [
              "array(['DIREITO', 'ENGENHARIA CIVIL', 'ARQUITETURA E URBANISMO',\n",
              "       'PSICOLOGIA', 'MEDICINA', 'ODONTOLOGIA',\n",
              "       'ENGENHARIA DA COMPUTAÇÃO', 'ENGENHARIA MECÂNICA',\n",
              "       'ENGENHARIA QUÍMICA', 'ADMINISTRAÇÃO',\n",
              "       'COMUNICAÇÃO SOCIAL - PUBLICIDADE E PROPAGANDA', 'EDUCAÇÃO FÍSICA',\n",
              "       'ENGENHARIA DE PRODUÇÃO', 'MEDICINA VETERINÁRIA', 'DESIGN',\n",
              "       'HISTÓRIA', 'CIÊNCIA DA COMPUTAÇÃO', 'JORNALISMO',\n",
              "       'SERVIÇO SOCIAL', 'CIÊNCIAS CONTÁBEIS', 'CIÊNCIAS ECONÔMICAS',\n",
              "       'HOTELARIA', 'CIÊNCIAS BIOLÓGICAS', 'RELAÇÕES PÚBLICAS',\n",
              "       'ENGENHARIA AMBIENTAL', 'ENFERMAGEM', 'FISIOTERAPIA',\n",
              "       'ENGENHARIA ELÉTRICA', 'SISTEMAS DE INFORMAÇÃO', 'FARMÁCIA',\n",
              "       'NUTRIÇÃO', 'AGRONOMIA', 'ENGENHARIA DE CONTROLE E AUTOMAÇÃO',\n",
              "       'PEDAGOGIA', 'COMÉRCIO INTERNACIONAL', 'DESIGN DE MODA',\n",
              "       'RADIOLOGIA', 'GASTRONOMIA',\n",
              "       'ANÁLISE E DESENVOLVIMENTO DE SISTEMAS',\n",
              "       'ENGENHARIA DE COMPUTAÇÃO', 'ESTÉTICA E COSMÉTICA',\n",
              "       'ENGENHARIA AMBIENTAL E SANITÁRIA',\n",
              "       'GESTÃO DA PRODUÇÃO INDUSTRIAL', 'LOGÍSTICA', 'BIOMEDICINA',\n",
              "       'LETRAS - PORTUGUÊS E INGLÊS', 'SISTEMA DE INFORMAÇÃO',\n",
              "       'ENGENHARIA DE ALIMENTOS', 'ZOOTECNIA', 'FÍSICA MÉDICA',\n",
              "       'GESTÃO COMERCIAL', 'GESTÃO DE RECURSOS HUMANOS',\n",
              "       'LETRAS - INGLÊS', 'LETRAS - LÍNGUA PORTUGUESA', 'TEOLOGIA',\n",
              "       'PUBLICIDADE E PROPAGANDA', 'DESIGN GRÁFICO', 'FOTOGRAFIA',\n",
              "       'ENGENHARIA AGRONÔMICA', 'ENGENHARIA DE TELECOMUNICAÇÕES',\n",
              "       'ENGENHARIA BIOMÉDICA', 'ENGENHARIA DE SOFTWARE',\n",
              "       'GESTÃO FINANCEIRA', 'MARKETING', 'DESIGN DE INTERIORES',\n",
              "       'JOGOS DIGITAIS', 'PRODUÇÃO AUDIOVISUAL', 'LETRAS',\n",
              "       'TERAPIA OCUPACIONAL', 'TEATRO', 'COMÉRCIO EXTERIOR',\n",
              "       'GESTÃO DE EQUINOCULTURA', 'GESTÃO DA QUALIDADE',\n",
              "       'PROCESSOS GERENCIAIS', 'ARTES VISUAIS',\n",
              "       'ENGENHARIA DE BIOPROCESSOS E BIOTECNOLOGIA',\n",
              "       'RELAÇÕES INTERNACIONAIS', 'FONOAUDIOLOGIA',\n",
              "       'COMUNICAÇÃO SOCIAL - JORNALISMO', 'ENGENHARIA DE PRODUÇÃO CIVIL',\n",
              "       'CIÊNCIAS AERONÁUTICAS', 'NEGÓCIOS INTERNACIONAIS',\n",
              "       'REDES DE COMPUTADORES', 'ESTÉTICA', 'ENGENHARIA AERONÁUTICA',\n",
              "       'COMPUTAÇÃO GRÁFICA', 'MÚSICA', 'PRODUÇÃO CULTURAL',\n",
              "       'MÚSICA - MÚSICA POPULAR BRASILEIRA', 'MÚSICA E TECNOLOGIA',\n",
              "       'GESTÃO AMBIENTAL', 'TURISMO', 'SECRETARIADO EXECUTIVO',\n",
              "       'GESTÃO DE SEGURANÇA PRIVADA',\n",
              "       'GESTÃO DA TECNOLOGIA DA INFORMAÇÃO', 'EVENTOS',\n",
              "       'PRODUÇÃO FONOGRÁFICA', 'REDES DE TELECOMUNICAÇÕES', 'MATEMÁTICA',\n",
              "       'SISTEMAS PARA INTERNET', 'CINEMA E AUDIOVISUAL',\n",
              "       'AUTOMAÇÃO INDUSTRIAL', 'ENGENHARIA DE PETRÓLEO', 'MODA',\n",
              "       'LETRAS - ESPANHOL', 'ENGENHARIA MECATRÔNICA', 'CINEMA',\n",
              "       'GEOGRAFIA', 'COMUNICAÇÃO SOCIAL - RELAÇÕES PÚBLICAS',\n",
              "       'RÁDIO, TV E INTERNET', 'FILOSOFIA',\n",
              "       'LETRAS - TRADUTOR E INTÉRPRETE',\n",
              "       'COMUNICAÇÃO SOCIAL - RADIALISMO (RÁDIO E TV)',\n",
              "       'ENGENHARIA ELETRÔNICA', 'ENGENHARIA DE MATERIAIS',\n",
              "       'ENGENHARIA DE ENERGIA', 'ENGENHARIA DE AGRIMENSURA',\n",
              "       'CIÊNCIAS DE DADOS', 'BIOINFORMÁTICA', 'QUÍMICA', 'AGRONEGÓCIO',\n",
              "       'ENGENHARIA AERONÁUTICA E ESPAÇO',\n",
              "       'COMUNICAÇÃO SOCIAL - RADIO E TELEVISÃO',\n",
              "       'ESTÉTICA E COSMETOLOGIA', 'BIOLOGIA', 'INFORMÁTICA',\n",
              "       'PRODUÇÃO EM MÍDIA AUDIOVISUAL', 'LETRAS - PORTUGUÊS E ESPANHOL',\n",
              "       'ENGENHARIA DE MINAS', 'GESTÃO HOSPITALAR', 'GESTÃO PÚBLICA',\n",
              "       'CAFEICULTURA', 'BIBLIOTECONOMIA', 'SOCIOLOGIA E POLÍTICA',\n",
              "       'CIÊNCIAS ATUARIAIS', 'MUSICOTERAPIA',\n",
              "       'SECRETARIADO EXECUTIVO TRILÍNGUE', 'PRODUÇÃO PUBLICITÁRIA',\n",
              "       'CONSTRUÇÃO DE EDIFÍCIOS', 'CIÊNCIAS SOCIAIS',\n",
              "       'ELETRÔNICA INDUSTRIAL', 'SISTEMAS DE TELECOMUNICAÇÕES',\n",
              "       'PRODUÇÃO MULTIMÍDIA', 'COMUNICAÇÃO E MARKETING',\n",
              "       'SEGURANÇA DA INFORMAÇÃO', 'MANUTENÇÃO INDUSTRIAL',\n",
              "       'DESIGN VISUAL', 'CIÊNCIA POLÍTICA', 'LETRAS - PORTUGUÊS',\n",
              "       'BIG DATA E INTELIGÊNCIA ANALÍTICA', 'MANUTENÇÃO DE AERONAVES',\n",
              "       'ARTES CÊNICAS', 'DANÇA', 'COMUNICAÇÃO INSTITUCIONAL',\n",
              "       'BANCO DE DADOS', 'PILOTAGEM PROFISSIONAL DE AERONAVES',\n",
              "       'PETRÓLEO E GÁS', 'SEGURANÇA NO TRABALHO', 'SISTEMAS ELÉTRICOS',\n",
              "       'CIÊNCIAS DA ACUPUNTURA', 'NEGÓCIOS DA MODA', 'QUIROPRAXIA',\n",
              "       'DESIGN DIGITAL', 'AVIAÇÃO CIVIL', 'NATUROLOGIA',\n",
              "       'DESIGN DE GAMES', 'CIÊNCIAS DA COMPUTAÇÃO', 'PODOLOGIA',\n",
              "       'DESIGN DE ANIMAÇÃO', 'ENGENHARIA CIVIL E AMBIENTAL',\n",
              "       'LETRAS - PORTUGUÊS E LITERATURA', 'ÓPTICA E OPTOMETRIA', 'FÍSICA',\n",
              "       'CIÊNCIAS BIOLÓGICAS - MODALIDADE MÉDICA', 'ENERGIAS RENOVÁVEIS',\n",
              "       'GESTÃO DE PRODUÇÃO INDUSTRIAL', 'GESTÃO PORTUÁRIA',\n",
              "       'MARKETING DIGITAL',\n",
              "       'LETRAS - LÍNGUA PORTUGUESA, LÍNGUA INGLESA E RESPECTIVAS LITERATURAS',\n",
              "       'ORGANIZAÇÃO DE SERVIÇOS JUDICIÁRIOS', 'SERVIÇOS PENAIS',\n",
              "       'SEGURANÇA NO TRÂNSITO', 'PRODUÇÃO AGRÍCOLA',\n",
              "       'ESTÉTICA, BELEZA E IMAGEM PESSOAL', 'DESIGN DE MODA - ESTILISMO',\n",
              "       'AUDIOVISUAL', 'ENGENHARIA DE PETRÓLEO E GÁS',\n",
              "       'GESTÃO DE SERVIÇOS JURÍDICOS E NOTARIAIS',\n",
              "       'GESTÃO DE COOPERATIVAS', 'ENGENHARIA FLORESTAL',\n",
              "       'PAPEL E CELULOSE', 'PROCESSOS QUÍMICOS', 'SERVIÇOS JUDICIAIS',\n",
              "       'ENGENHARIA', 'COMUNICAÇÃO SOCIAL - CINEMA E MÍDIAS DIGITAIS',\n",
              "       'CIÊNCIA DE DADOS E INTELIGÊNCIA ARTIFICIAL',\n",
              "       'RADIO, TV E INTERNET', 'GESTÃO EXECUTIVA DE NEGÓCIOS',\n",
              "       'PSICOPEDAGOGIA', 'GEOLOGIA',\n",
              "       'LETRAS - LÍNGUA PORTUGUESA E LIBRAS', 'MECATRÔNICA INDUSTRIAL',\n",
              "       'COMUNICAÇÃO SOCIAL', 'ADMINISTRAÇÃO DE EMPRESAS', 'OFTÁLMICA',\n",
              "       'GERENCIAMENTO DE REDES DE COMPUTADORES', 'COSMÉTICOS',\n",
              "       'ELETROTÉCNICA INDUSTRIAL', 'ENGENHARIA METALÚRGICA',\n",
              "       'ENGENHARIA INDUSTRIAL MECÂNICA', 'SISTEMAS BIOMÉDICOS',\n",
              "       'PROGRAMA ESPECIAL DE FORMAÇÃO PEDAGÓGICA DE DOCENTES - FILOSOFIA',\n",
              "       'PROGRAMA ESPECIAL DE FORMAÇÃO PEDAGÓGICA DE DOCENTES - HISTÓRIA',\n",
              "       'PROGRAMA ESPECIAL DE FORMAÇÃO PEDAGÓGICA DE DOCENTES - GEOGRAFIA',\n",
              "       'PROGRAMA ESPECIAL DE FORMAÇÃO PEDAGÓGICA DE DOCENTES - QUÍMICA',\n",
              "       'PROGRAMA ESPECIAL DE FORMAÇÃO PEDAGÓGICA DE DOCENTES - FÍSICA',\n",
              "       'SUCROALCOOLEIRA', 'GESTÃO DO AGRONEGÓCIO', 'GESTÃO DE TURISMO',\n",
              "       'NEGÓCIOS IMOBILIÁRIOS', 'ADMINISTRAÇÃO PÚBLICA',\n",
              "       'BIOCOMBUSTÍVEIS', 'CONSTRUÇÃO NAVAL',\n",
              "       'REFRIGERAÇÃO E CLIMATIZAÇÃO', 'COMUNICAÇÃO SOCIAL  - RADIALISMO',\n",
              "       'TECNÓLOGO EM METALURGIA', 'DEFESA CIBERNÉTICA',\n",
              "       'ENGENHARIA AUTOMOTIVA',\n",
              "       'FORMAÇÃO PEDAGÓGICA PARA PORTADORES DE ENSINO SUPERIOR',\n",
              "       'SEGURANÇA PÚBLICA', 'GERONTOLOGIA', 'AGROPECUÁRIA', 'OPTOMETRIA',\n",
              "       'PUBLICIDADE', 'ENGENHARIA AMBIENTAL E ENERGIAS RENOVÁVEIS',\n",
              "       'ENGENHARIA AGRÍCOLA E AMBIENTAL', 'TEOLOGIA PASTORAL',\n",
              "       'DESIGN DE PRODUTO', 'CIÊNCIAS TEOLÓGICAS', 'CIÊNCIAS DA RELIGIÃO',\n",
              "       'BIOTECNOLOGIA', 'PROPAGANDA E MARKETING', 'GESTÃO EMPREENDEDORA',\n",
              "       'SECRETARIADO EXECUTIVO - BILINGUE', 'SEGURANÇA PRIVADA',\n",
              "       'CIÊNCIA ECONÔMICA', 'ONTOPSICOLOGIA', 'FABRICAÇÃO MECÂNICA',\n",
              "       'SOLDAGEM', 'FORMAÇÃO DE DOCENTES PARA A EDUCAÇÃO BÁSICA',\n",
              "       'GESTÃO DESPORTIVA E DE LAZER',\n",
              "       'LETRAS - LÍNGUA PORTUGUESA E LITERATURAS DE LÍNGUA PORTUGUESA',\n",
              "       'LETRAS - PORTUGUÊS E INGLÊS E RESPECTIVAS LITERATURAS',\n",
              "       'ENGENHARIA CARTOGRÁFICA E DE AGRIMENSURA', 'TRANSPORTE TERRESTRE'],\n",
              "      dtype=object)"
            ]
          },
          "execution_count": 85,
          "metadata": {},
          "output_type": "execute_result"
        }
      ],
      "source": [
        "fies2019['Nome do curso'].unique()"
      ]
    },
    {
      "cell_type": "markdown",
      "metadata": {
        "id": "cgCC5HQ-dvVz"
      },
      "source": [
        "Como não é possível visualizar todos os valores com facilidade, pode-se retornar todos os valores não alfanuméricos para checar se existem dados que precisam ser tratados."
      ]
    },
    {
      "cell_type": "code",
      "execution_count": 86,
      "metadata": {
        "colab": {
          "base_uri": "https://localhost:8080/"
        },
        "id": "qrINGk3GdjJM",
        "outputId": "c659c857-b9dd-411e-d952-697d0abde198"
      },
      "outputs": [
        {
          "data": {
            "text/plain": [
              "array([], dtype=object)"
            ]
          },
          "execution_count": 86,
          "metadata": {},
          "output_type": "execute_result"
        }
      ],
      "source": [
        "fies2019['Nome do curso'][(fies2019['Nome do curso'].str.replace(' ','', regex=False).str.replace('-', '', regex=False).str.replace('.', '', regex=False).str.replace(',', '', regex=False).str.replace('/', '', regex=False).str.replace('&', '', regex=False).str.replace('(', '', regex=False).str.replace(')', '', regex=False).str.replace(\"'\", '', regex=False).str.replace('\"', '', regex=False).str.isalnum() != True)].unique()"
      ]
    },
    {
      "cell_type": "markdown",
      "metadata": {
        "id": "c9m1pOsXYZ6-"
      },
      "source": [
        "Como o resultado está vazio, os dados em questão estão coerentes, não serão necessárias verificações extras"
      ]
    },
    {
      "cell_type": "markdown",
      "metadata": {
        "id": "ymKB2lsGYZ6-"
      },
      "source": [
        "### Analisando Turno"
      ]
    },
    {
      "cell_type": "markdown",
      "metadata": {
        "id": "6Fnj7KHrYZ6_"
      },
      "source": [
        "Primeiramente são avaliados os tipos de valores diferentes informados para este campo, por meio do comando \"unique\""
      ]
    },
    {
      "cell_type": "code",
      "execution_count": 87,
      "metadata": {
        "colab": {
          "base_uri": "https://localhost:8080/"
        },
        "id": "rSWBtPtWYZ6_",
        "outputId": "e5e28270-2389-4742-84de-c9a2320a9c95"
      },
      "outputs": [
        {
          "data": {
            "text/plain": [
              "array(['NOTURNO', 'MATUTINO', 'INTEGRAL', 'VESPERTINO'], dtype=object)"
            ]
          },
          "execution_count": 87,
          "metadata": {},
          "output_type": "execute_result"
        }
      ],
      "source": [
        "fies2019['Turno'].unique()"
      ]
    },
    {
      "cell_type": "markdown",
      "metadata": {
        "id": "tEkcSwYdYZ6_"
      },
      "source": [
        "Para visualizar a distribuição destes valores, o comando \"value_counts\" foi utilizado"
      ]
    },
    {
      "cell_type": "code",
      "execution_count": 88,
      "metadata": {
        "colab": {
          "base_uri": "https://localhost:8080/"
        },
        "id": "3sZVqduEYZ7A",
        "outputId": "8b7547ad-b945-4379-dcf8-1dba31a8781a"
      },
      "outputs": [
        {
          "data": {
            "text/plain": [
              "NOTURNO       125012\n",
              "MATUTINO       60831\n",
              "INTEGRAL       36648\n",
              "VESPERTINO      9941\n",
              "Name: Turno, dtype: int64"
            ]
          },
          "execution_count": 88,
          "metadata": {},
          "output_type": "execute_result"
        }
      ],
      "source": [
        "fies2019['Turno'].value_counts()"
      ]
    },
    {
      "cell_type": "markdown",
      "metadata": {
        "id": "r0QmTGQ8YZ7B"
      },
      "source": [
        "Como os dados em questão estão coerentes, não serão necessárias verificações extras"
      ]
    },
    {
      "cell_type": "markdown",
      "metadata": {
        "id": "0DIQfkvhYZ7B"
      },
      "source": [
        "### Analisando Média nota Enem "
      ]
    },
    {
      "cell_type": "markdown",
      "metadata": {
        "id": "TGGE6lddYZ7C"
      },
      "source": [
        "Este campo está armazenado no dataframe como um objeto. Todavia, este campo deve possuir valor real, no caso, float. \n",
        "\n",
        "Para a análise não ser prejudicada por valores nulos, estes foram removidos da tabela."
      ]
    },
    {
      "cell_type": "code",
      "execution_count": 89,
      "metadata": {
        "id": "S5rjIS9rYZ7C"
      },
      "outputs": [],
      "source": [
        "fies2019 = fies2019.dropna(subset=[\"Média nota Enem\"])"
      ]
    },
    {
      "cell_type": "markdown",
      "metadata": {
        "id": "dUw1UIEyYZ7D"
      },
      "source": [
        "Ao observar os valores por meio do value_counts, pode-se perceber que estes foram considerados como string pois foram armazenados com vírgulas, quando, na verdade, para serem reconhecidos como numéricos, deveriam ser armazenados com pontos."
      ]
    },
    {
      "cell_type": "code",
      "execution_count": 90,
      "metadata": {
        "colab": {
          "base_uri": "https://localhost:8080/"
        },
        "id": "K8NIGJZMYZ7D",
        "outputId": "7e91eef2-12b6-473e-d5c0-ac1c75b132e2"
      },
      "outputs": [
        {
          "data": {
            "text/plain": [
              "502,48    66\n",
              "542,62    64\n",
              "491       63\n",
              "504,96    62\n",
              "489,62    62\n",
              "          ..\n",
              "659,46     1\n",
              "758,88     1\n",
              "726,32     1\n",
              "751,82     1\n",
              "753,62     1\n",
              "Name: Média nota Enem, Length: 15428, dtype: int64"
            ]
          },
          "execution_count": 90,
          "metadata": {},
          "output_type": "execute_result"
        }
      ],
      "source": [
        "fies2019['Média nota Enem'].value_counts()"
      ]
    },
    {
      "cell_type": "markdown",
      "metadata": {
        "id": "wELaISpiYZ7E"
      },
      "source": [
        "Sendo assim, foi necessária a substituição das vírgulas por pontos para a coluna em questão do dataset"
      ]
    },
    {
      "cell_type": "code",
      "execution_count": 91,
      "metadata": {
        "id": "9U26eX3FYZ7E"
      },
      "outputs": [],
      "source": [
        "fies2019['Média nota Enem'] = fies2019['Média nota Enem'].str.replace(',', '.')"
      ]
    },
    {
      "cell_type": "markdown",
      "metadata": {
        "id": "qBP0mGzVYZ7F"
      },
      "source": [
        "Uma vez que as vírgulas foram removidas, é possível atualizar a coluna em questão para esta receber um valor numérico"
      ]
    },
    {
      "cell_type": "code",
      "execution_count": 92,
      "metadata": {
        "id": "pFupeZU4YZ7F"
      },
      "outputs": [],
      "source": [
        "fies2019['Média nota Enem'] = pd.to_numeric(fies2019['Média nota Enem'])"
      ]
    },
    {
      "cell_type": "code",
      "execution_count": 93,
      "metadata": {
        "colab": {
          "base_uri": "https://localhost:8080/"
        },
        "id": "vQC7Al-VYZ7G",
        "outputId": "24216037-31bb-426c-aea4-7acba69b8802"
      },
      "outputs": [
        {
          "data": {
            "text/plain": [
              "0         592.66\n",
              "1         626.32\n",
              "2         540.48\n",
              "3         663.88\n",
              "4         557.50\n",
              "           ...  \n",
              "271851    492.12\n",
              "271852    513.46\n",
              "271853    513.46\n",
              "271854    612.60\n",
              "271855    598.54\n",
              "Name: Média nota Enem, Length: 232432, dtype: float64"
            ]
          },
          "execution_count": 93,
          "metadata": {},
          "output_type": "execute_result"
        }
      ],
      "source": [
        "fies2019['Média nota Enem']"
      ]
    },
    {
      "cell_type": "code",
      "execution_count": 94,
      "metadata": {
        "colab": {
          "base_uri": "https://localhost:8080/"
        },
        "id": "qgTk8-uiYZ7G",
        "outputId": "ac9a50a5-4059-4eed-d044-f8ac86594136"
      },
      "outputs": [
        {
          "data": {
            "text/plain": [
              "502.48    66\n",
              "542.62    64\n",
              "491.00    63\n",
              "504.96    62\n",
              "489.62    62\n",
              "          ..\n",
              "659.46     1\n",
              "758.88     1\n",
              "726.32     1\n",
              "751.82     1\n",
              "753.62     1\n",
              "Name: Média nota Enem, Length: 15428, dtype: int64"
            ]
          },
          "execution_count": 94,
          "metadata": {},
          "output_type": "execute_result"
        }
      ],
      "source": [
        "fies2019['Média nota Enem'].value_counts()"
      ]
    },
    {
      "cell_type": "markdown",
      "metadata": {
        "id": "k9UZRb1SYZ7H"
      },
      "source": [
        "Ao observar a organização do dataframe por meio do comando \"info\", pode-se perceber que este campo agora é reconhecido como float"
      ]
    },
    {
      "cell_type": "code",
      "execution_count": 95,
      "metadata": {
        "colab": {
          "base_uri": "https://localhost:8080/"
        },
        "id": "xh8EUMUEYZ7H",
        "outputId": "142e34ad-cb69-41e6-c677-f0478286825c"
      },
      "outputs": [
        {
          "name": "stdout",
          "output_type": "stream",
          "text": [
            "<class 'pandas.core.frame.DataFrame'>\n",
            "Int64Index: 232432 entries, 0 to 271855\n",
            "Data columns (total 30 columns):\n",
            " #   Column                          Non-Null Count   Dtype         \n",
            "---  ------                          --------------   -----         \n",
            " 0   ID do estudante                 232432 non-null  int64         \n",
            " 1   Sexo                            232432 non-null  object        \n",
            " 2   Data de Nascimento              232432 non-null  datetime64[ns]\n",
            " 3   UF de residência                232432 non-null  object        \n",
            " 4   Etnia/Cor                       232432 non-null  object        \n",
            " 5   Pessoa com deficiência?         232432 non-null  object        \n",
            " 6   Ano conclusão ensino médio      232432 non-null  int64         \n",
            " 7   Concluiu curso superior?        232432 non-null  object        \n",
            " 8   Nº de membros Grupo Familiar    232432 non-null  int64         \n",
            " 9   Renda familiar mensal bruta     232432 non-null  float64       \n",
            " 10  Renda mensal bruta per capita   232432 non-null  float64       \n",
            " 11  UF                              232432 non-null  object        \n",
            " 12  Área do conhecimento            232432 non-null  object        \n",
            " 13  Subárea do conhecimento         232432 non-null  object        \n",
            " 14  Opções de cursos da inscrição   232432 non-null  int64         \n",
            " 15  Nome mantenedora                232432 non-null  object        \n",
            " 16  Natureza Jurídica Mantenedora   232432 non-null  object        \n",
            " 17  Nome da IES                     232432 non-null  object        \n",
            " 18  Organização Acadêmica da IES    232432 non-null  object        \n",
            " 19  UF do Local de Oferta           232432 non-null  object        \n",
            " 20  Nome do curso                   232432 non-null  object        \n",
            " 21  Turno                           232432 non-null  object        \n",
            " 22  Média nota Enem                 232432 non-null  float64       \n",
            " 23  Ano do Enem                     232432 non-null  int64         \n",
            " 24  Redação                         232432 non-null  int64         \n",
            " 25  Matemática e suas Tecnologias   232432 non-null  object        \n",
            " 26  Linguagens, Códigos e suas Tec  232432 non-null  object        \n",
            " 27  Ciências Natureza e suas Tec    232432 non-null  object        \n",
            " 28  Ciências Humanas e suas Tec     232432 non-null  object        \n",
            " 29  Situação Inscrição Fies         232432 non-null  object        \n",
            "dtypes: datetime64[ns](1), float64(3), int64(6), object(20)\n",
            "memory usage: 55.0+ MB\n"
          ]
        }
      ],
      "source": [
        "fies2019.info()"
      ]
    },
    {
      "cell_type": "markdown",
      "metadata": {
        "id": "CWV_OYBOYZ7I"
      },
      "source": [
        "### Analisando Matemática e suas Tecnologias"
      ]
    },
    {
      "cell_type": "markdown",
      "metadata": {
        "id": "viNor0oVYZ7I"
      },
      "source": [
        "Este campo está armazenado no dataframe como um objeto. Todavia, este campo deve possuir valor real, no caso, float. \n",
        "\n",
        "Para a análise não ser prejudicada por valores nulos, estes foram removidos da tabela."
      ]
    },
    {
      "cell_type": "code",
      "execution_count": 96,
      "metadata": {
        "id": "B7353XSGYZ7I"
      },
      "outputs": [],
      "source": [
        "fies2019 = fies2019.dropna(subset=[\"Matemática e suas Tecnologias\"])"
      ]
    },
    {
      "cell_type": "markdown",
      "metadata": {
        "id": "VMPXZ6qzYZ7I"
      },
      "source": [
        "Ao observar os valores por meio do value_counts, pode-se perceber que estes foram considerados como string pois foram armazenados com vírgulas, quando, na verdade, para serem reconhecidos como numéricos, deveriam ser armazenados com pontos."
      ]
    },
    {
      "cell_type": "code",
      "execution_count": 97,
      "metadata": {
        "colab": {
          "base_uri": "https://localhost:8080/"
        },
        "id": "A8-A5DPQYZ7J",
        "outputId": "7a7f5898-eb27-44aa-f489-75b4c9117aac"
      },
      "outputs": [
        {
          "data": {
            "text/plain": [
              "483,6    145\n",
              "493,4    139\n",
              "519,9    139\n",
              "485,9    138\n",
              "436,8    137\n",
              "        ... \n",
              "809,5      1\n",
              "856,8      1\n",
              "886,6      1\n",
              "904,3      1\n",
              "824,1      1\n",
              "Name: Matemática e suas Tecnologias, Length: 5369, dtype: int64"
            ]
          },
          "execution_count": 97,
          "metadata": {},
          "output_type": "execute_result"
        }
      ],
      "source": [
        "fies2019['Matemática e suas Tecnologias'].value_counts()"
      ]
    },
    {
      "cell_type": "markdown",
      "metadata": {
        "id": "TTdlPy4KYZ7J"
      },
      "source": [
        "Sendo assim, foi necessária a substituição das vírgulas por pontos para a coluna em questão do dataset"
      ]
    },
    {
      "cell_type": "code",
      "execution_count": 98,
      "metadata": {
        "id": "ybeg16MQYZ7K"
      },
      "outputs": [],
      "source": [
        "fies2019['Matemática e suas Tecnologias'] = fies2019['Matemática e suas Tecnologias'].str.replace(',', '.')"
      ]
    },
    {
      "cell_type": "markdown",
      "metadata": {
        "id": "WgNqYzKAYZ7K"
      },
      "source": [
        "Uma vez que as vírgulas foram removidas, é possível atualizar a coluna em questão para esta receber um valor numérico"
      ]
    },
    {
      "cell_type": "code",
      "execution_count": 99,
      "metadata": {
        "id": "X0XJIWMRYZ7K"
      },
      "outputs": [],
      "source": [
        "fies2019['Matemática e suas Tecnologias'] = pd.to_numeric(fies2019['Matemática e suas Tecnologias'])"
      ]
    },
    {
      "cell_type": "code",
      "execution_count": 100,
      "metadata": {
        "colab": {
          "base_uri": "https://localhost:8080/"
        },
        "id": "taDtE6VqYZ7L",
        "outputId": "0adee19b-c16a-4e45-d9fa-ef830d935bf4"
      },
      "outputs": [
        {
          "data": {
            "text/plain": [
              "0         735.6\n",
              "1         557.9\n",
              "2         530.7\n",
              "3         569.9\n",
              "4         591.3\n",
              "          ...  \n",
              "271851    579.9\n",
              "271852    656.2\n",
              "271853    656.2\n",
              "271854    603.8\n",
              "271855    586.5\n",
              "Name: Matemática e suas Tecnologias, Length: 232432, dtype: float64"
            ]
          },
          "execution_count": 100,
          "metadata": {},
          "output_type": "execute_result"
        }
      ],
      "source": [
        "fies2019['Matemática e suas Tecnologias']"
      ]
    },
    {
      "cell_type": "code",
      "execution_count": 101,
      "metadata": {
        "colab": {
          "base_uri": "https://localhost:8080/"
        },
        "id": "q4-zsXiDYZ7L",
        "outputId": "0569c867-848c-4d25-f84f-46a5cebf243a"
      },
      "outputs": [
        {
          "data": {
            "text/plain": [
              "483.6    145\n",
              "493.4    139\n",
              "519.9    139\n",
              "485.9    138\n",
              "436.8    137\n",
              "        ... \n",
              "809.5      1\n",
              "856.8      1\n",
              "886.6      1\n",
              "904.3      1\n",
              "824.1      1\n",
              "Name: Matemática e suas Tecnologias, Length: 5369, dtype: int64"
            ]
          },
          "execution_count": 101,
          "metadata": {},
          "output_type": "execute_result"
        }
      ],
      "source": [
        "fies2019['Matemática e suas Tecnologias'].value_counts()"
      ]
    },
    {
      "cell_type": "markdown",
      "metadata": {
        "id": "2mjFJxzWYZ7M"
      },
      "source": [
        "Ao observar a organização do dataframe por meio do comando \"info\", pode-se perceber que este campo agora é reconhecido como float"
      ]
    },
    {
      "cell_type": "code",
      "execution_count": 102,
      "metadata": {
        "colab": {
          "base_uri": "https://localhost:8080/"
        },
        "id": "FzDmzAWmYZ7M",
        "outputId": "05dee7a9-295a-4b02-9c43-81f5681362d4"
      },
      "outputs": [
        {
          "name": "stdout",
          "output_type": "stream",
          "text": [
            "<class 'pandas.core.frame.DataFrame'>\n",
            "Int64Index: 232432 entries, 0 to 271855\n",
            "Data columns (total 30 columns):\n",
            " #   Column                          Non-Null Count   Dtype         \n",
            "---  ------                          --------------   -----         \n",
            " 0   ID do estudante                 232432 non-null  int64         \n",
            " 1   Sexo                            232432 non-null  object        \n",
            " 2   Data de Nascimento              232432 non-null  datetime64[ns]\n",
            " 3   UF de residência                232432 non-null  object        \n",
            " 4   Etnia/Cor                       232432 non-null  object        \n",
            " 5   Pessoa com deficiência?         232432 non-null  object        \n",
            " 6   Ano conclusão ensino médio      232432 non-null  int64         \n",
            " 7   Concluiu curso superior?        232432 non-null  object        \n",
            " 8   Nº de membros Grupo Familiar    232432 non-null  int64         \n",
            " 9   Renda familiar mensal bruta     232432 non-null  float64       \n",
            " 10  Renda mensal bruta per capita   232432 non-null  float64       \n",
            " 11  UF                              232432 non-null  object        \n",
            " 12  Área do conhecimento            232432 non-null  object        \n",
            " 13  Subárea do conhecimento         232432 non-null  object        \n",
            " 14  Opções de cursos da inscrição   232432 non-null  int64         \n",
            " 15  Nome mantenedora                232432 non-null  object        \n",
            " 16  Natureza Jurídica Mantenedora   232432 non-null  object        \n",
            " 17  Nome da IES                     232432 non-null  object        \n",
            " 18  Organização Acadêmica da IES    232432 non-null  object        \n",
            " 19  UF do Local de Oferta           232432 non-null  object        \n",
            " 20  Nome do curso                   232432 non-null  object        \n",
            " 21  Turno                           232432 non-null  object        \n",
            " 22  Média nota Enem                 232432 non-null  float64       \n",
            " 23  Ano do Enem                     232432 non-null  int64         \n",
            " 24  Redação                         232432 non-null  int64         \n",
            " 25  Matemática e suas Tecnologias   232432 non-null  float64       \n",
            " 26  Linguagens, Códigos e suas Tec  232432 non-null  object        \n",
            " 27  Ciências Natureza e suas Tec    232432 non-null  object        \n",
            " 28  Ciências Humanas e suas Tec     232432 non-null  object        \n",
            " 29  Situação Inscrição Fies         232432 non-null  object        \n",
            "dtypes: datetime64[ns](1), float64(4), int64(6), object(19)\n",
            "memory usage: 55.0+ MB\n"
          ]
        }
      ],
      "source": [
        "fies2019.info()"
      ]
    },
    {
      "cell_type": "markdown",
      "metadata": {
        "id": "wf8gpnEXYZ7N"
      },
      "source": [
        "### Analisando Linguagens, Códigos e suas Tec"
      ]
    },
    {
      "cell_type": "markdown",
      "metadata": {
        "id": "uCYK22oXYZ7N"
      },
      "source": [
        "Este campo está armazenado no dataframe como um objeto. Todavia, este campo deve possuir valor real, no caso, float. \n",
        "\n",
        "Para a análise não ser prejudicada por valores nulos, estes foram removidos da tabela."
      ]
    },
    {
      "cell_type": "code",
      "execution_count": 103,
      "metadata": {
        "id": "ZomDWlRwYZ7O"
      },
      "outputs": [],
      "source": [
        "fies2019 = fies2019.dropna(subset=[\"Linguagens, Códigos e suas Tec\"])"
      ]
    },
    {
      "cell_type": "markdown",
      "metadata": {
        "id": "xj6r5DYNYZ7O"
      },
      "source": [
        "Ao observar os valores por meio do value_counts, pode-se perceber que estes foram considerados como string pois foram armazenados com vírgulas, quando, na verdade, para serem reconhecidos como numéricos, deveriam ser armazenados com pontos.\n"
      ]
    },
    {
      "cell_type": "code",
      "execution_count": 104,
      "metadata": {
        "colab": {
          "base_uri": "https://localhost:8080/"
        },
        "id": "wR11tnrkYZ7O",
        "outputId": "edc9adec-0eb1-4c8a-e396-b6997856f3ad"
      },
      "outputs": [
        {
          "data": {
            "text/plain": [
              "542,3    238\n",
              "526,6    216\n",
              "546,7    209\n",
              "530,9    204\n",
              "525      202\n",
              "        ... \n",
              "348,6      1\n",
              "328,3      1\n",
              "379,3      1\n",
              "695,3      1\n",
              "733,4      1\n",
              "Name: Linguagens, Códigos e suas Tec, Length: 3717, dtype: int64"
            ]
          },
          "execution_count": 104,
          "metadata": {},
          "output_type": "execute_result"
        }
      ],
      "source": [
        "fies2019['Linguagens, Códigos e suas Tec'].value_counts()"
      ]
    },
    {
      "cell_type": "markdown",
      "metadata": {
        "id": "sxlohtJIYZ7P"
      },
      "source": [
        "Sendo assim, foi necessária a substituição das vírgulas por pontos para a coluna em questão do dataset"
      ]
    },
    {
      "cell_type": "code",
      "execution_count": 105,
      "metadata": {
        "id": "CDcgG36PYZ7Q"
      },
      "outputs": [],
      "source": [
        "fies2019['Linguagens, Códigos e suas Tec'] = fies2019['Linguagens, Códigos e suas Tec'].str.replace(',', '.')"
      ]
    },
    {
      "cell_type": "markdown",
      "metadata": {
        "id": "Ec7v5OY5YZ7R"
      },
      "source": [
        "Uma vez que as vírgulas foram removidas, é possível atualizar a coluna em questão para esta receber um valor numérico"
      ]
    },
    {
      "cell_type": "code",
      "execution_count": 106,
      "metadata": {
        "id": "km1PYisMYZ7S"
      },
      "outputs": [],
      "source": [
        "fies2019['Linguagens, Códigos e suas Tec'] = pd.to_numeric(fies2019['Linguagens, Códigos e suas Tec'])"
      ]
    },
    {
      "cell_type": "code",
      "execution_count": 107,
      "metadata": {
        "colab": {
          "base_uri": "https://localhost:8080/"
        },
        "id": "nP225bqsYZ7S",
        "outputId": "9be55a8d-55d1-41db-ee80-6d909b6de3dd"
      },
      "outputs": [
        {
          "data": {
            "text/plain": [
              "0         549.0\n",
              "1         624.8\n",
              "2         602.9\n",
              "3         728.8\n",
              "4         507.1\n",
              "          ...  \n",
              "271851    515.6\n",
              "271852    505.2\n",
              "271853    505.2\n",
              "271854    598.1\n",
              "271855    629.2\n",
              "Name: Linguagens, Códigos e suas Tec, Length: 232432, dtype: float64"
            ]
          },
          "execution_count": 107,
          "metadata": {},
          "output_type": "execute_result"
        }
      ],
      "source": [
        "fies2019['Linguagens, Códigos e suas Tec']"
      ]
    },
    {
      "cell_type": "code",
      "execution_count": 108,
      "metadata": {
        "colab": {
          "base_uri": "https://localhost:8080/"
        },
        "id": "Xf1TJKDMYZ7T",
        "outputId": "88ecc4c7-bc9f-4c82-f621-a44674573dd5"
      },
      "outputs": [
        {
          "data": {
            "text/plain": [
              "542.3    238\n",
              "526.6    216\n",
              "546.7    209\n",
              "530.9    204\n",
              "525.0    202\n",
              "        ... \n",
              "348.6      1\n",
              "328.3      1\n",
              "379.3      1\n",
              "695.3      1\n",
              "733.4      1\n",
              "Name: Linguagens, Códigos e suas Tec, Length: 3717, dtype: int64"
            ]
          },
          "execution_count": 108,
          "metadata": {},
          "output_type": "execute_result"
        }
      ],
      "source": [
        "fies2019['Linguagens, Códigos e suas Tec'].value_counts()"
      ]
    },
    {
      "cell_type": "markdown",
      "metadata": {
        "id": "TxxdSSyAYZ7T"
      },
      "source": [
        "Ao observar a organização do dataframe por meio do comando \"info\", pode-se perceber que este campo agora é reconhecido como float"
      ]
    },
    {
      "cell_type": "code",
      "execution_count": 109,
      "metadata": {
        "colab": {
          "base_uri": "https://localhost:8080/"
        },
        "id": "I8zG8m98YZ7T",
        "outputId": "95640fc6-27aa-4e90-db82-59fea5de9b50"
      },
      "outputs": [
        {
          "name": "stdout",
          "output_type": "stream",
          "text": [
            "<class 'pandas.core.frame.DataFrame'>\n",
            "Int64Index: 232432 entries, 0 to 271855\n",
            "Data columns (total 30 columns):\n",
            " #   Column                          Non-Null Count   Dtype         \n",
            "---  ------                          --------------   -----         \n",
            " 0   ID do estudante                 232432 non-null  int64         \n",
            " 1   Sexo                            232432 non-null  object        \n",
            " 2   Data de Nascimento              232432 non-null  datetime64[ns]\n",
            " 3   UF de residência                232432 non-null  object        \n",
            " 4   Etnia/Cor                       232432 non-null  object        \n",
            " 5   Pessoa com deficiência?         232432 non-null  object        \n",
            " 6   Ano conclusão ensino médio      232432 non-null  int64         \n",
            " 7   Concluiu curso superior?        232432 non-null  object        \n",
            " 8   Nº de membros Grupo Familiar    232432 non-null  int64         \n",
            " 9   Renda familiar mensal bruta     232432 non-null  float64       \n",
            " 10  Renda mensal bruta per capita   232432 non-null  float64       \n",
            " 11  UF                              232432 non-null  object        \n",
            " 12  Área do conhecimento            232432 non-null  object        \n",
            " 13  Subárea do conhecimento         232432 non-null  object        \n",
            " 14  Opções de cursos da inscrição   232432 non-null  int64         \n",
            " 15  Nome mantenedora                232432 non-null  object        \n",
            " 16  Natureza Jurídica Mantenedora   232432 non-null  object        \n",
            " 17  Nome da IES                     232432 non-null  object        \n",
            " 18  Organização Acadêmica da IES    232432 non-null  object        \n",
            " 19  UF do Local de Oferta           232432 non-null  object        \n",
            " 20  Nome do curso                   232432 non-null  object        \n",
            " 21  Turno                           232432 non-null  object        \n",
            " 22  Média nota Enem                 232432 non-null  float64       \n",
            " 23  Ano do Enem                     232432 non-null  int64         \n",
            " 24  Redação                         232432 non-null  int64         \n",
            " 25  Matemática e suas Tecnologias   232432 non-null  float64       \n",
            " 26  Linguagens, Códigos e suas Tec  232432 non-null  float64       \n",
            " 27  Ciências Natureza e suas Tec    232432 non-null  object        \n",
            " 28  Ciências Humanas e suas Tec     232432 non-null  object        \n",
            " 29  Situação Inscrição Fies         232432 non-null  object        \n",
            "dtypes: datetime64[ns](1), float64(5), int64(6), object(18)\n",
            "memory usage: 55.0+ MB\n"
          ]
        }
      ],
      "source": [
        "fies2019.info()"
      ]
    },
    {
      "cell_type": "markdown",
      "metadata": {
        "id": "5nytJcbxYZ7U"
      },
      "source": [
        "### Analisando Ciências Natureza e suas Tec"
      ]
    },
    {
      "cell_type": "markdown",
      "metadata": {
        "id": "MUY904lDYZ7U"
      },
      "source": [
        "Este campo está armazenado no dataframe como um objeto. Todavia, este campo deve possuir valor real, no caso, float. \n",
        "\n",
        "Para a análise não ser prejudicada por valores nulos, estes foram removidos da tabela."
      ]
    },
    {
      "cell_type": "code",
      "execution_count": 110,
      "metadata": {
        "id": "O4oFvdBfYZ7U"
      },
      "outputs": [],
      "source": [
        "fies2019 = fies2019.dropna(subset=[\"Ciências Natureza e suas Tec\"])"
      ]
    },
    {
      "cell_type": "markdown",
      "metadata": {
        "id": "58YZgbeZYZ7U"
      },
      "source": [
        "Ao observar os valores por meio do value_counts, pode-se perceber que estes foram considerados como string pois foram armazenados com vírgulas, quando, na verdade, para serem reconhecidos como numéricos, deveriam ser armazenados com pontos.\n"
      ]
    },
    {
      "cell_type": "code",
      "execution_count": 111,
      "metadata": {
        "colab": {
          "base_uri": "https://localhost:8080/"
        },
        "id": "oE5OaNZxYZ7U",
        "outputId": "c1c77fb3-ea36-4be1-ff32-c620e3578e68"
      },
      "outputs": [
        {
          "data": {
            "text/plain": [
              "473      179\n",
              "457,9    178\n",
              "485      175\n",
              "483,9    172\n",
              "467,1    166\n",
              "        ... \n",
              "342        1\n",
              "360,9      1\n",
              "755,3      1\n",
              "756,5      1\n",
              "746,5      1\n",
              "Name: Ciências Natureza e suas Tec, Length: 4017, dtype: int64"
            ]
          },
          "execution_count": 111,
          "metadata": {},
          "output_type": "execute_result"
        }
      ],
      "source": [
        "fies2019['Ciências Natureza e suas Tec'].value_counts()"
      ]
    },
    {
      "cell_type": "markdown",
      "metadata": {
        "id": "BShiR_UuYZ7V"
      },
      "source": [
        "Sendo assim, foi necessária a substituição das vírgulas por pontos para a coluna em questão do dataset"
      ]
    },
    {
      "cell_type": "code",
      "execution_count": 112,
      "metadata": {
        "id": "UkM24jg5YZ7V"
      },
      "outputs": [],
      "source": [
        "fies2019['Ciências Natureza e suas Tec'] = fies2019['Ciências Natureza e suas Tec'].str.replace(',', '.')"
      ]
    },
    {
      "cell_type": "markdown",
      "metadata": {
        "id": "-gExhbmlYZ7V"
      },
      "source": [
        "Uma vez que as vírgulas foram removidas, é possível atualizar a coluna em questão para esta receber um valor numérico"
      ]
    },
    {
      "cell_type": "code",
      "execution_count": 113,
      "metadata": {
        "id": "kaTU1muhYZ7V"
      },
      "outputs": [],
      "source": [
        "fies2019['Ciências Natureza e suas Tec'] = pd.to_numeric(fies2019['Ciências Natureza e suas Tec'])"
      ]
    },
    {
      "cell_type": "code",
      "execution_count": 114,
      "metadata": {
        "colab": {
          "base_uri": "https://localhost:8080/"
        },
        "id": "MF0qi_anYZ7V",
        "outputId": "8865c7ca-8924-4977-aa5f-ef84db96c15f"
      },
      "outputs": [
        {
          "data": {
            "text/plain": [
              "0         537.9\n",
              "1         562.7\n",
              "2         506.5\n",
              "3         653.6\n",
              "4         389.5\n",
              "          ...  \n",
              "271851    398.1\n",
              "271852    474.8\n",
              "271853    474.8\n",
              "271854    486.6\n",
              "271855    526.3\n",
              "Name: Ciências Natureza e suas Tec, Length: 232432, dtype: float64"
            ]
          },
          "execution_count": 114,
          "metadata": {},
          "output_type": "execute_result"
        }
      ],
      "source": [
        "fies2019['Ciências Natureza e suas Tec']"
      ]
    },
    {
      "cell_type": "code",
      "execution_count": 115,
      "metadata": {
        "colab": {
          "base_uri": "https://localhost:8080/"
        },
        "id": "S25IjT8VYZ7W",
        "outputId": "fe8bb150-39f2-47dc-ff2a-21d143a56c07"
      },
      "outputs": [
        {
          "data": {
            "text/plain": [
              "473.0    179\n",
              "457.9    178\n",
              "485.0    175\n",
              "483.9    172\n",
              "467.1    166\n",
              "        ... \n",
              "342.0      1\n",
              "360.9      1\n",
              "755.3      1\n",
              "756.5      1\n",
              "746.5      1\n",
              "Name: Ciências Natureza e suas Tec, Length: 4017, dtype: int64"
            ]
          },
          "execution_count": 115,
          "metadata": {},
          "output_type": "execute_result"
        }
      ],
      "source": [
        "fies2019['Ciências Natureza e suas Tec'].value_counts()"
      ]
    },
    {
      "cell_type": "markdown",
      "metadata": {
        "id": "nqvWORQnYZ7W"
      },
      "source": [
        "Ao observar a organização do dataframe por meio do comando \"info\", pode-se perceber que este campo agora é reconhecido como float"
      ]
    },
    {
      "cell_type": "code",
      "execution_count": 116,
      "metadata": {
        "colab": {
          "base_uri": "https://localhost:8080/"
        },
        "id": "LNzum0xBYZ7W",
        "outputId": "16dfebaf-7ac6-45c6-85be-d726a94d2253"
      },
      "outputs": [
        {
          "name": "stdout",
          "output_type": "stream",
          "text": [
            "<class 'pandas.core.frame.DataFrame'>\n",
            "Int64Index: 232432 entries, 0 to 271855\n",
            "Data columns (total 30 columns):\n",
            " #   Column                          Non-Null Count   Dtype         \n",
            "---  ------                          --------------   -----         \n",
            " 0   ID do estudante                 232432 non-null  int64         \n",
            " 1   Sexo                            232432 non-null  object        \n",
            " 2   Data de Nascimento              232432 non-null  datetime64[ns]\n",
            " 3   UF de residência                232432 non-null  object        \n",
            " 4   Etnia/Cor                       232432 non-null  object        \n",
            " 5   Pessoa com deficiência?         232432 non-null  object        \n",
            " 6   Ano conclusão ensino médio      232432 non-null  int64         \n",
            " 7   Concluiu curso superior?        232432 non-null  object        \n",
            " 8   Nº de membros Grupo Familiar    232432 non-null  int64         \n",
            " 9   Renda familiar mensal bruta     232432 non-null  float64       \n",
            " 10  Renda mensal bruta per capita   232432 non-null  float64       \n",
            " 11  UF                              232432 non-null  object        \n",
            " 12  Área do conhecimento            232432 non-null  object        \n",
            " 13  Subárea do conhecimento         232432 non-null  object        \n",
            " 14  Opções de cursos da inscrição   232432 non-null  int64         \n",
            " 15  Nome mantenedora                232432 non-null  object        \n",
            " 16  Natureza Jurídica Mantenedora   232432 non-null  object        \n",
            " 17  Nome da IES                     232432 non-null  object        \n",
            " 18  Organização Acadêmica da IES    232432 non-null  object        \n",
            " 19  UF do Local de Oferta           232432 non-null  object        \n",
            " 20  Nome do curso                   232432 non-null  object        \n",
            " 21  Turno                           232432 non-null  object        \n",
            " 22  Média nota Enem                 232432 non-null  float64       \n",
            " 23  Ano do Enem                     232432 non-null  int64         \n",
            " 24  Redação                         232432 non-null  int64         \n",
            " 25  Matemática e suas Tecnologias   232432 non-null  float64       \n",
            " 26  Linguagens, Códigos e suas Tec  232432 non-null  float64       \n",
            " 27  Ciências Natureza e suas Tec    232432 non-null  float64       \n",
            " 28  Ciências Humanas e suas Tec     232432 non-null  object        \n",
            " 29  Situação Inscrição Fies         232432 non-null  object        \n",
            "dtypes: datetime64[ns](1), float64(6), int64(6), object(17)\n",
            "memory usage: 55.0+ MB\n"
          ]
        }
      ],
      "source": [
        "fies2019.info()"
      ]
    },
    {
      "cell_type": "markdown",
      "metadata": {
        "id": "Q0MZvrZyYZ7W"
      },
      "source": [
        "### Analisando Ciências Humanas e suas Tec "
      ]
    },
    {
      "cell_type": "markdown",
      "metadata": {
        "id": "h8hoQgGaYZ7X"
      },
      "source": [
        "Este campo está armazenado no dataframe como um objeto. Todavia, este campo deve possuir valor real, no caso, float. \n",
        "\n",
        "Para a análise não ser prejudicada por valores nulos, estes foram removidos da tabela."
      ]
    },
    {
      "cell_type": "code",
      "execution_count": 117,
      "metadata": {
        "id": "9N79yUsKYZ7X"
      },
      "outputs": [],
      "source": [
        "fies2019 = fies2019.dropna(subset=[\"Ciências Humanas e suas Tec\"])"
      ]
    },
    {
      "cell_type": "markdown",
      "metadata": {
        "id": "xbzPruNMYZ7X"
      },
      "source": [
        "Ao observar os valores por meio do value_counts, pode-se perceber que estes foram considerados como string pois foram armazenados com vírgulas, quando, na verdade, para serem reconhecidos como numéricos, deveriam ser armazenados com pontos.\n"
      ]
    },
    {
      "cell_type": "code",
      "execution_count": 118,
      "metadata": {
        "colab": {
          "base_uri": "https://localhost:8080/"
        },
        "id": "fTW7znb4YZ7X",
        "outputId": "e80bb7f5-8574-4baa-c909-867d285e1ce8"
      },
      "outputs": [
        {
          "data": {
            "text/plain": [
              "592,2    192\n",
              "617,5    189\n",
              "598,6    171\n",
              "586,1    171\n",
              "599,7    171\n",
              "        ... \n",
              "361,3      1\n",
              "788        1\n",
              "763,6      1\n",
              "800,7      1\n",
              "356,6      1\n",
              "Name: Ciências Humanas e suas Tec, Length: 4077, dtype: int64"
            ]
          },
          "execution_count": 118,
          "metadata": {},
          "output_type": "execute_result"
        }
      ],
      "source": [
        "fies2019['Ciências Humanas e suas Tec'].value_counts()"
      ]
    },
    {
      "cell_type": "markdown",
      "metadata": {
        "id": "vwejfrWgYZ7X"
      },
      "source": [
        "Sendo assim, foi necessária a substituição das vírgulas por pontos para a coluna em questão do dataset"
      ]
    },
    {
      "cell_type": "code",
      "execution_count": 119,
      "metadata": {
        "id": "jF56Z4qpYZ7X"
      },
      "outputs": [],
      "source": [
        "fies2019['Ciências Humanas e suas Tec'] = fies2019['Ciências Humanas e suas Tec'].str.replace(',', '.')"
      ]
    },
    {
      "cell_type": "markdown",
      "metadata": {
        "id": "WYgdQpm0YZ7Y"
      },
      "source": [
        "Uma vez que as vírgulas foram removidas, é possível atualizar a coluna em questão para esta receber um valor numérico"
      ]
    },
    {
      "cell_type": "code",
      "execution_count": 120,
      "metadata": {
        "id": "P8Uyl8GTYZ7Y"
      },
      "outputs": [],
      "source": [
        "fies2019['Ciências Humanas e suas Tec'] = pd.to_numeric(fies2019['Ciências Humanas e suas Tec'])"
      ]
    },
    {
      "cell_type": "code",
      "execution_count": 121,
      "metadata": {
        "colab": {
          "base_uri": "https://localhost:8080/"
        },
        "id": "7Eiay0mDYZ7Y",
        "outputId": "f0429b8f-6fe2-4d16-cfae-010771af556b"
      },
      "outputs": [
        {
          "data": {
            "text/plain": [
              "0         600.8\n",
              "1         686.2\n",
              "2         582.3\n",
              "3         727.1\n",
              "4         559.6\n",
              "          ...  \n",
              "271851    567.0\n",
              "271852    571.1\n",
              "271853    571.1\n",
              "271854    634.5\n",
              "271855    630.7\n",
              "Name: Ciências Humanas e suas Tec, Length: 232432, dtype: float64"
            ]
          },
          "execution_count": 121,
          "metadata": {},
          "output_type": "execute_result"
        }
      ],
      "source": [
        "fies2019['Ciências Humanas e suas Tec']"
      ]
    },
    {
      "cell_type": "code",
      "execution_count": 122,
      "metadata": {
        "colab": {
          "base_uri": "https://localhost:8080/"
        },
        "id": "G3YPqF6dYZ7Y",
        "outputId": "a6a29bce-a9c2-468a-a0c1-ee1ed8efcfd3"
      },
      "outputs": [
        {
          "data": {
            "text/plain": [
              "592.2    192\n",
              "617.5    189\n",
              "598.6    171\n",
              "586.1    171\n",
              "599.7    171\n",
              "        ... \n",
              "361.3      1\n",
              "788.0      1\n",
              "763.6      1\n",
              "800.7      1\n",
              "356.6      1\n",
              "Name: Ciências Humanas e suas Tec, Length: 4077, dtype: int64"
            ]
          },
          "execution_count": 122,
          "metadata": {},
          "output_type": "execute_result"
        }
      ],
      "source": [
        "fies2019['Ciências Humanas e suas Tec'].value_counts()"
      ]
    },
    {
      "cell_type": "markdown",
      "metadata": {
        "id": "gIKz7-f3YZ7Y"
      },
      "source": [
        "Ao observar a organização do dataframe por meio do comando \"info\", pode-se perceber que este campo agora é reconhecido como float"
      ]
    },
    {
      "cell_type": "code",
      "execution_count": 123,
      "metadata": {
        "colab": {
          "base_uri": "https://localhost:8080/"
        },
        "id": "0xmyeW9ZYZ7Z",
        "outputId": "1c713a31-f813-490e-bdbc-0c37ae48fe15"
      },
      "outputs": [
        {
          "name": "stdout",
          "output_type": "stream",
          "text": [
            "<class 'pandas.core.frame.DataFrame'>\n",
            "Int64Index: 232432 entries, 0 to 271855\n",
            "Data columns (total 30 columns):\n",
            " #   Column                          Non-Null Count   Dtype         \n",
            "---  ------                          --------------   -----         \n",
            " 0   ID do estudante                 232432 non-null  int64         \n",
            " 1   Sexo                            232432 non-null  object        \n",
            " 2   Data de Nascimento              232432 non-null  datetime64[ns]\n",
            " 3   UF de residência                232432 non-null  object        \n",
            " 4   Etnia/Cor                       232432 non-null  object        \n",
            " 5   Pessoa com deficiência?         232432 non-null  object        \n",
            " 6   Ano conclusão ensino médio      232432 non-null  int64         \n",
            " 7   Concluiu curso superior?        232432 non-null  object        \n",
            " 8   Nº de membros Grupo Familiar    232432 non-null  int64         \n",
            " 9   Renda familiar mensal bruta     232432 non-null  float64       \n",
            " 10  Renda mensal bruta per capita   232432 non-null  float64       \n",
            " 11  UF                              232432 non-null  object        \n",
            " 12  Área do conhecimento            232432 non-null  object        \n",
            " 13  Subárea do conhecimento         232432 non-null  object        \n",
            " 14  Opções de cursos da inscrição   232432 non-null  int64         \n",
            " 15  Nome mantenedora                232432 non-null  object        \n",
            " 16  Natureza Jurídica Mantenedora   232432 non-null  object        \n",
            " 17  Nome da IES                     232432 non-null  object        \n",
            " 18  Organização Acadêmica da IES    232432 non-null  object        \n",
            " 19  UF do Local de Oferta           232432 non-null  object        \n",
            " 20  Nome do curso                   232432 non-null  object        \n",
            " 21  Turno                           232432 non-null  object        \n",
            " 22  Média nota Enem                 232432 non-null  float64       \n",
            " 23  Ano do Enem                     232432 non-null  int64         \n",
            " 24  Redação                         232432 non-null  int64         \n",
            " 25  Matemática e suas Tecnologias   232432 non-null  float64       \n",
            " 26  Linguagens, Códigos e suas Tec  232432 non-null  float64       \n",
            " 27  Ciências Natureza e suas Tec    232432 non-null  float64       \n",
            " 28  Ciências Humanas e suas Tec     232432 non-null  float64       \n",
            " 29  Situação Inscrição Fies         232432 non-null  object        \n",
            "dtypes: datetime64[ns](1), float64(7), int64(6), object(16)\n",
            "memory usage: 55.0+ MB\n"
          ]
        }
      ],
      "source": [
        "fies2019.info()"
      ]
    },
    {
      "cell_type": "markdown",
      "metadata": {
        "id": "mEblgAupYZ7Z"
      },
      "source": [
        "### Analisando Situação Inscrição Fies"
      ]
    },
    {
      "cell_type": "markdown",
      "metadata": {
        "id": "ND5v6lRyYZ7Z"
      },
      "source": [
        "Primeiramente seão analisados os valores únicos por meio do \"unique\""
      ]
    },
    {
      "cell_type": "code",
      "execution_count": 124,
      "metadata": {
        "colab": {
          "base_uri": "https://localhost:8080/"
        },
        "id": "PpoxzZKqYZ7Z",
        "outputId": "c5d649ce-0a42-474a-a04e-e98d9fd5dc8e"
      },
      "outputs": [
        {
          "data": {
            "text/plain": [
              "array(['NÃO CONTRATADO', 'OPÇÃO NÃO CONTRATADA', 'LISTA DE ESPERA',\n",
              "       'CONTRATADA', 'PARTICIPACAO CANCELADA PELO CANDIDATO',\n",
              "       'REJEITADA PELA CPSA', 'PRÉ-SELECIONADO', 'INSCRIÇÃO POSTERGADA'],\n",
              "      dtype=object)"
            ]
          },
          "execution_count": 124,
          "metadata": {},
          "output_type": "execute_result"
        }
      ],
      "source": [
        "fies2019['Situação Inscrição Fies'].unique()"
      ]
    },
    {
      "cell_type": "markdown",
      "metadata": {
        "id": "2j22i4bLYZ7Z"
      },
      "source": [
        "Analisando a distribuição dos valores..."
      ]
    },
    {
      "cell_type": "code",
      "execution_count": 125,
      "metadata": {
        "colab": {
          "base_uri": "https://localhost:8080/"
        },
        "id": "NuVxbgfRYZ7a",
        "outputId": "ddf13ea7-ba96-4ace-e0ec-6212a257c121"
      },
      "outputs": [
        {
          "data": {
            "text/plain": [
              "NÃO CONTRATADO                           125689\n",
              "LISTA DE ESPERA                           49636\n",
              "CONTRATADA                                25454\n",
              "OPÇÃO NÃO CONTRATADA                      22950\n",
              "PARTICIPACAO CANCELADA PELO CANDIDATO      8278\n",
              "REJEITADA PELA CPSA                         352\n",
              "PRÉ-SELECIONADO                              61\n",
              "INSCRIÇÃO POSTERGADA                         12\n",
              "Name: Situação Inscrição Fies, dtype: int64"
            ]
          },
          "execution_count": 125,
          "metadata": {},
          "output_type": "execute_result"
        }
      ],
      "source": [
        "fies2019['Situação Inscrição Fies'].value_counts()"
      ]
    },
    {
      "cell_type": "markdown",
      "metadata": {
        "id": "uxSm6j29YZ7a"
      },
      "source": [
        "Este campo esta coerente, de forma que mais tratamentos não são necessários"
      ]
    },
    {
      "cell_type": "markdown",
      "metadata": {
        "id": "g-y8aZ1FYZ7b"
      },
      "source": [
        "## Salvando dados tratados"
      ]
    },
    {
      "cell_type": "code",
      "execution_count": 126,
      "metadata": {
        "id": "K26v7c4YYZ7b"
      },
      "outputs": [],
      "source": [
        "fies2019.to_csv(\"dadosLimpos2019.csv\",index=False)"
      ]
    }
  ],
  "metadata": {
    "colab": {
      "collapsed_sections": [
        "9dvCwLef8nUf",
        "XYBNXF1V94Zq",
        "LuTZc09AYZ6R",
        "k5fN9oQGYZ6W",
        "HFy_03pUYZ6X",
        "VlukStX9YZ6Z",
        "r7u3v96rYZ6d",
        "gG9RgkVKYZ6f",
        "yXrvMTfLYZ6i",
        "Z7GvY6sJYZ6i",
        "ni5Y-oMmYZ6j",
        "iyl_LtUKYZ6l",
        "RjWzWUWtYZ6l",
        "2aR7Gq-8YZ6m",
        "u4a7cxXTYZ6n",
        "3gm4-Fw_YZ6o",
        "oLbL1TggYZ6s",
        "oqBnDRedYZ6x",
        "hsz5H6ReYZ6y",
        "Rreg3O2BYZ6z",
        "aDBowDB-YZ60",
        "nf2rt6wKYZ61",
        "AHCrfwxJYZ61",
        "Bx88dDsuYZ62",
        "ZwaUTlCcYZ64",
        "rpFpm49xYZ68",
        "ymKB2lsGYZ6-",
        "0DIQfkvhYZ7B",
        "CWV_OYBOYZ7I",
        "wf8gpnEXYZ7N",
        "5nytJcbxYZ7U",
        "Q0MZvrZyYZ7W"
      ],
      "name": "limpezaDados2019.ipynb",
      "provenance": []
    },
    "kernelspec": {
      "display_name": "Python 3.8.10 ('ambiente-dados1': venv)",
      "language": "python",
      "name": "python3"
    },
    "language_info": {
      "codemirror_mode": {
        "name": "ipython",
        "version": 3
      },
      "file_extension": ".py",
      "mimetype": "text/x-python",
      "name": "python",
      "nbconvert_exporter": "python",
      "pygments_lexer": "ipython3",
      "version": "3.8.10"
    },
    "vscode": {
      "interpreter": {
        "hash": "3b87f650c95fe6cb6ad4f13c18c302f56e0e588f9f3805ad9874556f17797c34"
      }
    }
  },
  "nbformat": 4,
  "nbformat_minor": 0
}
